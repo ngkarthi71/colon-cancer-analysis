{
  "nbformat": 4,
  "nbformat_minor": 5,
  "metadata": {
    "accelerator": "GPU",
    "colab": {
      "name": "task1.ipynb",
      "provenance": [],
      "collapsed_sections": [],
      "toc_visible": true,
      "include_colab_link": true
    },
    "kernelspec": {
      "display_name": "Python 3",
      "language": "python",
      "name": "python3"
    },
    "language_info": {
      "codemirror_mode": {
        "name": "ipython",
        "version": 3
      },
      "file_extension": ".py",
      "mimetype": "text/x-python",
      "name": "python",
      "nbconvert_exporter": "python",
      "pygments_lexer": "ipython3",
      "version": "3.6.13"
    }
  },
  "cells": [
    {
      "cell_type": "markdown",
      "metadata": {
        "id": "view-in-github",
        "colab_type": "text"
      },
      "source": [
        "<a href=\"https://colab.research.google.com/github/ngkarthi71/colon-cancer-analysis/blob/first-part/task1.ipynb\" target=\"_parent\"><img src=\"https://colab.research.google.com/assets/colab-badge.svg\" alt=\"Open In Colab\"/></a>"
      ]
    },
    {
      "cell_type": "markdown",
      "metadata": {
        "id": "6897c6bf"
      },
      "source": [
        "# Reading the given Data Set"
      ],
      "id": "6897c6bf"
    },
    {
      "cell_type": "code",
      "metadata": {
        "colab": {
          "base_uri": "https://localhost:8080/"
        },
        "id": "A0Uv1RBNbStG",
        "outputId": "a7237ff7-c8a0-4e29-b4e6-f41a1f7c98a9"
      },
      "source": [
        "from google.colab import drive\n",
        "drive.mount('/content/drive')"
      ],
      "id": "A0Uv1RBNbStG",
      "execution_count": 1,
      "outputs": [
        {
          "output_type": "stream",
          "text": [
            "Mounted at /content/drive\n"
          ],
          "name": "stdout"
        }
      ]
    },
    {
      "cell_type": "code",
      "metadata": {
        "colab": {
          "base_uri": "https://localhost:8080/"
        },
        "id": "Q_JqEdZ6bo17",
        "outputId": "76bd994a-1465-4f52-e01f-a289aebc472b"
      },
      "source": [
        "!ls /content/drive/'My Drive'/CML-Assignment2/"
      ],
      "id": "Q_JqEdZ6bo17",
      "execution_count": 3,
      "outputs": [
        {
          "output_type": "stream",
          "text": [
            "cell_model_VGG_3  Image_classification_data.zip  latest.ipynb  model_VGG_3\n"
          ],
          "name": "stdout"
        }
      ]
    },
    {
      "cell_type": "code",
      "metadata": {
        "colab": {
          "base_uri": "https://localhost:8080/"
        },
        "id": "hu4Z8u7ba2ev",
        "outputId": "e1103782-78f2-4f09-81ed-7cb1e5adb727"
      },
      "source": [
        "!cp /content/drive/'My Drive'/CML-Assignment2/Image_classification_data.zip .\n",
        "!unzip -q -o Image_classification_data.zip\n",
        "!rm Image_classification_data.zip\n",
        "!ls"
      ],
      "id": "hu4Z8u7ba2ev",
      "execution_count": 4,
      "outputs": [
        {
          "output_type": "stream",
          "text": [
            "data_labels_extraData.csv  drive     patch_images\n",
            "data_labels_mainData.csv   __MACOSX  sample_data\n"
          ],
          "name": "stdout"
        }
      ]
    },
    {
      "cell_type": "code",
      "metadata": {
        "id": "63489e7f"
      },
      "source": [
        "import numpy as np\n",
        "\n",
        "import pandas as pd\n",
        "import matplotlib.pyplot as plt\n",
        "import matplotlib.patches as patches\n",
        "import os\n",
        "import cv2 as cv\n",
        "\n",
        "import IPython.display as display\n",
        "from PIL import Image\n",
        "from sklearn.model_selection import GridSearchCV\n",
        "\n",
        "from skimage.transform import resize\n",
        "from skimage.io import imread\n",
        "\n"
      ],
      "id": "63489e7f",
      "execution_count": 12,
      "outputs": []
    },
    {
      "cell_type": "code",
      "metadata": {
        "id": "6822f05f"
      },
      "source": [
        "cancer=pd.read_csv('data_labels_mainData.csv')"
      ],
      "id": "6822f05f",
      "execution_count": 13,
      "outputs": []
    },
    {
      "cell_type": "code",
      "metadata": {
        "colab": {
          "base_uri": "https://localhost:8080/",
          "height": 204
        },
        "id": "1956ae4e",
        "outputId": "3cad15d2-d25f-41b7-8d8b-69659633a98c"
      },
      "source": [
        "cancer.head(5)"
      ],
      "id": "1956ae4e",
      "execution_count": 14,
      "outputs": [
        {
          "output_type": "execute_result",
          "data": {
            "text/html": [
              "<div>\n",
              "<style scoped>\n",
              "    .dataframe tbody tr th:only-of-type {\n",
              "        vertical-align: middle;\n",
              "    }\n",
              "\n",
              "    .dataframe tbody tr th {\n",
              "        vertical-align: top;\n",
              "    }\n",
              "\n",
              "    .dataframe thead th {\n",
              "        text-align: right;\n",
              "    }\n",
              "</style>\n",
              "<table border=\"1\" class=\"dataframe\">\n",
              "  <thead>\n",
              "    <tr style=\"text-align: right;\">\n",
              "      <th></th>\n",
              "      <th>InstanceID</th>\n",
              "      <th>patientID</th>\n",
              "      <th>ImageName</th>\n",
              "      <th>cellTypeName</th>\n",
              "      <th>cellType</th>\n",
              "      <th>isCancerous</th>\n",
              "    </tr>\n",
              "  </thead>\n",
              "  <tbody>\n",
              "    <tr>\n",
              "      <th>0</th>\n",
              "      <td>22405</td>\n",
              "      <td>1</td>\n",
              "      <td>22405.png</td>\n",
              "      <td>fibroblast</td>\n",
              "      <td>0</td>\n",
              "      <td>0</td>\n",
              "    </tr>\n",
              "    <tr>\n",
              "      <th>1</th>\n",
              "      <td>22406</td>\n",
              "      <td>1</td>\n",
              "      <td>22406.png</td>\n",
              "      <td>fibroblast</td>\n",
              "      <td>0</td>\n",
              "      <td>0</td>\n",
              "    </tr>\n",
              "    <tr>\n",
              "      <th>2</th>\n",
              "      <td>22407</td>\n",
              "      <td>1</td>\n",
              "      <td>22407.png</td>\n",
              "      <td>fibroblast</td>\n",
              "      <td>0</td>\n",
              "      <td>0</td>\n",
              "    </tr>\n",
              "    <tr>\n",
              "      <th>3</th>\n",
              "      <td>22408</td>\n",
              "      <td>1</td>\n",
              "      <td>22408.png</td>\n",
              "      <td>fibroblast</td>\n",
              "      <td>0</td>\n",
              "      <td>0</td>\n",
              "    </tr>\n",
              "    <tr>\n",
              "      <th>4</th>\n",
              "      <td>22409</td>\n",
              "      <td>1</td>\n",
              "      <td>22409.png</td>\n",
              "      <td>fibroblast</td>\n",
              "      <td>0</td>\n",
              "      <td>0</td>\n",
              "    </tr>\n",
              "  </tbody>\n",
              "</table>\n",
              "</div>"
            ],
            "text/plain": [
              "   InstanceID  patientID  ImageName cellTypeName  cellType  isCancerous\n",
              "0       22405          1  22405.png   fibroblast         0            0\n",
              "1       22406          1  22406.png   fibroblast         0            0\n",
              "2       22407          1  22407.png   fibroblast         0            0\n",
              "3       22408          1  22408.png   fibroblast         0            0\n",
              "4       22409          1  22409.png   fibroblast         0            0"
            ]
          },
          "metadata": {
            "tags": []
          },
          "execution_count": 14
        }
      ]
    },
    {
      "cell_type": "code",
      "metadata": {
        "colab": {
          "base_uri": "https://localhost:8080/"
        },
        "id": "XqR3bWecAag-",
        "outputId": "61884a11-6de6-4738-f5b1-755c8b983150"
      },
      "source": [
        "cancer.isCancerous.value_counts()"
      ],
      "id": "XqR3bWecAag-",
      "execution_count": 15,
      "outputs": [
        {
          "output_type": "execute_result",
          "data": {
            "text/plain": [
              "0    5817\n",
              "1    4079\n",
              "Name: isCancerous, dtype: int64"
            ]
          },
          "metadata": {
            "tags": []
          },
          "execution_count": 15
        }
      ]
    },
    {
      "cell_type": "code",
      "metadata": {
        "colab": {
          "base_uri": "https://localhost:8080/",
          "height": 266
        },
        "id": "evJ3eC9aAajv",
        "outputId": "5e55e114-5b70-406b-d44c-e064eec1b6b7"
      },
      "source": [
        "cancer.isCancerous.hist()\n",
        "plt.show()"
      ],
      "id": "evJ3eC9aAajv",
      "execution_count": 16,
      "outputs": [
        {
          "output_type": "display_data",
          "data": {
            "image/png": "[encoded data removed]",
            "text/plain": [
              "<Figure size 432x288 with 1 Axes>"
            ]
          },
          "metadata": {
            "tags": [],
            "needs_background": "light"
          }
        }
      ]
    },
    {
      "cell_type": "code",
      "metadata": {
        "colab": {
          "base_uri": "https://localhost:8080/",
          "height": 539
        },
        "id": "fkhBxkbhAanJ",
        "outputId": "40d9553f-ffce-41f6-8d56-931cd9beabd6"
      },
      "source": [
        "#'notCancerous': 0, 'Cancerous':1\n",
        "\n",
        "notCancerous = cancer.loc[cancer['isCancerous'] == 0].sample(4)\n",
        "Cancerous = cancer.loc[cancer['isCancerous'] == 1].sample(4)\n",
        "notcancerous_images = []\n",
        "Cancerous_images = []\n",
        "\n",
        "for path in notCancerous['ImageName']:\n",
        "    image_path = \"/content/patch_images/\"+ path\n",
        "    image = cv.imread(image_path)\n",
        "    notcancerous_images.append(image)\n",
        "for path in Cancerous['ImageName']:\n",
        "    image_path = \"/content/patch_images/\"+ path\n",
        "    image = cv.imread(image_path)\n",
        "    Cancerous_images.append(image)\n",
        "\n",
        "fig,axis = plt.subplots(1,2,figsize=(15,5))\n",
        "for i, image in enumerate(notcancerous_images):\n",
        "    axis[0,i].imshow(image)\n",
        "axis[0,0].set_ylabel('notCancerous', size='large')\n",
        "\n",
        "for i, image in enumerate(Cancerous_images):\n",
        "    axis[1,i].imshow(image)\n",
        "axis[1,0].set_ylabel('Cancerous', size='large')\n"
      ],
      "id": "fkhBxkbhAanJ",
      "execution_count": 42,
      "outputs": [
        {
          "output_type": "error",
          "ename": "IndexError",
          "evalue": "ignored",
          "traceback": [
            "\u001b[0;31m---------------------------------------------------------------------------\u001b[0m",
            "\u001b[0;31mIndexError\u001b[0m                                Traceback (most recent call last)",
            "\u001b[0;32m<ipython-input-42-975e97aeef4c>\u001b[0m in \u001b[0;36m<module>\u001b[0;34m()\u001b[0m\n\u001b[1;32m     17\u001b[0m \u001b[0mfig\u001b[0m\u001b[0;34m,\u001b[0m\u001b[0maxis\u001b[0m \u001b[0;34m=\u001b[0m \u001b[0mplt\u001b[0m\u001b[0;34m.\u001b[0m\u001b[0msubplots\u001b[0m\u001b[0;34m(\u001b[0m\u001b[0;36m1\u001b[0m\u001b[0;34m,\u001b[0m\u001b[0;36m2\u001b[0m\u001b[0;34m,\u001b[0m\u001b[0mfigsize\u001b[0m\u001b[0;34m=\u001b[0m\u001b[0;34m(\u001b[0m\u001b[0;36m15\u001b[0m\u001b[0;34m,\u001b[0m\u001b[0;36m5\u001b[0m\u001b[0;34m)\u001b[0m\u001b[0;34m)\u001b[0m\u001b[0;34m\u001b[0m\u001b[0;34m\u001b[0m\u001b[0m\n\u001b[1;32m     18\u001b[0m \u001b[0;32mfor\u001b[0m \u001b[0mi\u001b[0m\u001b[0;34m,\u001b[0m \u001b[0mimage\u001b[0m \u001b[0;32min\u001b[0m \u001b[0menumerate\u001b[0m\u001b[0;34m(\u001b[0m\u001b[0mnotcancerous_images\u001b[0m\u001b[0;34m)\u001b[0m\u001b[0;34m:\u001b[0m\u001b[0;34m\u001b[0m\u001b[0;34m\u001b[0m\u001b[0m\n\u001b[0;32m---> 19\u001b[0;31m     \u001b[0maxis\u001b[0m\u001b[0;34m[\u001b[0m\u001b[0;36m0\u001b[0m\u001b[0;34m,\u001b[0m\u001b[0mi\u001b[0m\u001b[0;34m]\u001b[0m\u001b[0;34m.\u001b[0m\u001b[0mimshow\u001b[0m\u001b[0;34m(\u001b[0m\u001b[0mimage\u001b[0m\u001b[0;34m)\u001b[0m\u001b[0;34m\u001b[0m\u001b[0;34m\u001b[0m\u001b[0m\n\u001b[0m\u001b[1;32m     20\u001b[0m \u001b[0maxis\u001b[0m\u001b[0;34m[\u001b[0m\u001b[0;36m0\u001b[0m\u001b[0;34m,\u001b[0m\u001b[0;36m0\u001b[0m\u001b[0;34m]\u001b[0m\u001b[0;34m.\u001b[0m\u001b[0mset_ylabel\u001b[0m\u001b[0;34m(\u001b[0m\u001b[0;34m'notCancerous'\u001b[0m\u001b[0;34m,\u001b[0m \u001b[0msize\u001b[0m\u001b[0;34m=\u001b[0m\u001b[0;34m'large'\u001b[0m\u001b[0;34m)\u001b[0m\u001b[0;34m\u001b[0m\u001b[0;34m\u001b[0m\u001b[0m\n\u001b[1;32m     21\u001b[0m \u001b[0;34m\u001b[0m\u001b[0m\n",
            "\u001b[0;31mIndexError\u001b[0m: too many indices for array: array is 1-dimensional, but 2 were indexed"
          ]
        },
        {
          "output_type": "display_data",
          "data": {
            "image/png": "[encoded data removed]",
            "text/plain": [
              "<Figure size 1080x360 with 2 Axes>"
            ]
          },
          "metadata": {
            "tags": [],
            "needs_background": "light"
          }
        }
      ]
    },
    {
      "cell_type": "code",
      "metadata": {
        "colab": {
          "base_uri": "https://localhost:8080/",
          "height": 439
        },
        "id": "fE4z6h-TNWfr",
        "outputId": "3b13a9f8-3775-4d1b-d160-01c26e7bafa3"
      },
      "source": [
        "flat_data_arr=[]\n",
        "target_arr=[]\n",
        "\n",
        "for img in cancer['ImageName']:\n",
        "    path = \"/content/patch_images/\" + img\n",
        "    image_arr = cv.imread(path)\n",
        "    #print(image_arr)\n",
        "    img_resized=resize(image_arr,(27, 27, 3))\n",
        "    flat_data_arr.append(img_resized.flatten())\n",
        "    target_arr.append(cancer.loc[cancer['ImageName'] == img].isCancerous)\n",
        "flat_data=np.array(flat_data_arr)\n",
        "target=np.array(target_arr)\n",
        "df=pd.DataFrame(flat_data_arr)\n",
        "df['Target']=target\n",
        "df"
      ],
      "id": "fE4z6h-TNWfr",
      "execution_count": 43,
      "outputs": [
        {
          "output_type": "execute_result",
          "data": {
            "text/html": [
              "<div>\n",
              "<style scoped>\n",
              "    .dataframe tbody tr th:only-of-type {\n",
              "        vertical-align: middle;\n",
              "    }\n",
              "\n",
              "    .dataframe tbody tr th {\n",
              "        vertical-align: top;\n",
              "    }\n",
              "\n",
              "    .dataframe thead th {\n",
              "        text-align: right;\n",
              "    }\n",
              "</style>\n",
              "<table border=\"1\" class=\"dataframe\">\n",
              "  <thead>\n",
              "    <tr style=\"text-align: right;\">\n",
              "      <th></th>\n",
              "      <th>0</th>\n",
              "      <th>1</th>\n",
              "      <th>2</th>\n",
              "      <th>3</th>\n",
              "      <th>4</th>\n",
              "      <th>5</th>\n",
              "      <th>6</th>\n",
              "      <th>7</th>\n",
              "      <th>8</th>\n",
              "      <th>9</th>\n",
              "      <th>10</th>\n",
              "      <th>11</th>\n",
              "      <th>12</th>\n",
              "      <th>13</th>\n",
              "      <th>14</th>\n",
              "      <th>15</th>\n",
              "      <th>16</th>\n",
              "      <th>17</th>\n",
              "      <th>18</th>\n",
              "      <th>19</th>\n",
              "      <th>20</th>\n",
              "      <th>21</th>\n",
              "      <th>22</th>\n",
              "      <th>23</th>\n",
              "      <th>24</th>\n",
              "      <th>25</th>\n",
              "      <th>26</th>\n",
              "      <th>27</th>\n",
              "      <th>28</th>\n",
              "      <th>29</th>\n",
              "      <th>30</th>\n",
              "      <th>31</th>\n",
              "      <th>32</th>\n",
              "      <th>33</th>\n",
              "      <th>34</th>\n",
              "      <th>35</th>\n",
              "      <th>36</th>\n",
              "      <th>37</th>\n",
              "      <th>38</th>\n",
              "      <th>39</th>\n",
              "      <th>...</th>\n",
              "      <th>2148</th>\n",
              "      <th>2149</th>\n",
              "      <th>2150</th>\n",
              "      <th>2151</th>\n",
              "      <th>2152</th>\n",
              "      <th>2153</th>\n",
              "      <th>2154</th>\n",
              "      <th>2155</th>\n",
              "      <th>2156</th>\n",
              "      <th>2157</th>\n",
              "      <th>2158</th>\n",
              "      <th>2159</th>\n",
              "      <th>2160</th>\n",
              "      <th>2161</th>\n",
              "      <th>2162</th>\n",
              "      <th>2163</th>\n",
              "      <th>2164</th>\n",
              "      <th>2165</th>\n",
              "      <th>2166</th>\n",
              "      <th>2167</th>\n",
              "      <th>2168</th>\n",
              "      <th>2169</th>\n",
              "      <th>2170</th>\n",
              "      <th>2171</th>\n",
              "      <th>2172</th>\n",
              "      <th>2173</th>\n",
              "      <th>2174</th>\n",
              "      <th>2175</th>\n",
              "      <th>2176</th>\n",
              "      <th>2177</th>\n",
              "      <th>2178</th>\n",
              "      <th>2179</th>\n",
              "      <th>2180</th>\n",
              "      <th>2181</th>\n",
              "      <th>2182</th>\n",
              "      <th>2183</th>\n",
              "      <th>2184</th>\n",
              "      <th>2185</th>\n",
              "      <th>2186</th>\n",
              "      <th>Target</th>\n",
              "    </tr>\n",
              "  </thead>\n",
              "  <tbody>\n",
              "    <tr>\n",
              "      <th>0</th>\n",
              "      <td>0.929412</td>\n",
              "      <td>0.835294</td>\n",
              "      <td>0.949020</td>\n",
              "      <td>0.913725</td>\n",
              "      <td>0.819608</td>\n",
              "      <td>0.937255</td>\n",
              "      <td>0.898039</td>\n",
              "      <td>0.803922</td>\n",
              "      <td>0.921569</td>\n",
              "      <td>0.890196</td>\n",
              "      <td>0.792157</td>\n",
              "      <td>0.913725</td>\n",
              "      <td>0.929412</td>\n",
              "      <td>0.827451</td>\n",
              "      <td>0.949020</td>\n",
              "      <td>0.945098</td>\n",
              "      <td>0.839216</td>\n",
              "      <td>0.960784</td>\n",
              "      <td>0.941176</td>\n",
              "      <td>0.831373</td>\n",
              "      <td>0.956863</td>\n",
              "      <td>0.925490</td>\n",
              "      <td>0.811765</td>\n",
              "      <td>0.941176</td>\n",
              "      <td>0.905882</td>\n",
              "      <td>0.784314</td>\n",
              "      <td>0.917647</td>\n",
              "      <td>0.886275</td>\n",
              "      <td>0.764706</td>\n",
              "      <td>0.894118</td>\n",
              "      <td>0.858824</td>\n",
              "      <td>0.733333</td>\n",
              "      <td>0.870588</td>\n",
              "      <td>0.858824</td>\n",
              "      <td>0.737255</td>\n",
              "      <td>0.874510</td>\n",
              "      <td>0.854902</td>\n",
              "      <td>0.733333</td>\n",
              "      <td>0.874510</td>\n",
              "      <td>0.854902</td>\n",
              "      <td>...</td>\n",
              "      <td>0.803922</td>\n",
              "      <td>0.647059</td>\n",
              "      <td>0.843137</td>\n",
              "      <td>0.847059</td>\n",
              "      <td>0.690196</td>\n",
              "      <td>0.886275</td>\n",
              "      <td>0.909804</td>\n",
              "      <td>0.749020</td>\n",
              "      <td>0.937255</td>\n",
              "      <td>0.925490</td>\n",
              "      <td>0.760784</td>\n",
              "      <td>0.949020</td>\n",
              "      <td>0.909804</td>\n",
              "      <td>0.745098</td>\n",
              "      <td>0.933333</td>\n",
              "      <td>0.921569</td>\n",
              "      <td>0.756863</td>\n",
              "      <td>0.949020</td>\n",
              "      <td>0.945098</td>\n",
              "      <td>0.780392</td>\n",
              "      <td>0.972549</td>\n",
              "      <td>0.941176</td>\n",
              "      <td>0.776471</td>\n",
              "      <td>0.972549</td>\n",
              "      <td>0.913725</td>\n",
              "      <td>0.745098</td>\n",
              "      <td>0.941176</td>\n",
              "      <td>0.874510</td>\n",
              "      <td>0.705882</td>\n",
              "      <td>0.901961</td>\n",
              "      <td>0.760784</td>\n",
              "      <td>0.592157</td>\n",
              "      <td>0.788235</td>\n",
              "      <td>0.686275</td>\n",
              "      <td>0.517647</td>\n",
              "      <td>0.709804</td>\n",
              "      <td>0.745098</td>\n",
              "      <td>0.576471</td>\n",
              "      <td>0.764706</td>\n",
              "      <td>0</td>\n",
              "    </tr>\n",
              "    <tr>\n",
              "      <th>1</th>\n",
              "      <td>0.827451</td>\n",
              "      <td>0.686275</td>\n",
              "      <td>0.866667</td>\n",
              "      <td>0.827451</td>\n",
              "      <td>0.686275</td>\n",
              "      <td>0.878431</td>\n",
              "      <td>0.858824</td>\n",
              "      <td>0.721569</td>\n",
              "      <td>0.913725</td>\n",
              "      <td>0.854902</td>\n",
              "      <td>0.717647</td>\n",
              "      <td>0.901961</td>\n",
              "      <td>0.921569</td>\n",
              "      <td>0.784314</td>\n",
              "      <td>0.964706</td>\n",
              "      <td>1.000000</td>\n",
              "      <td>0.858824</td>\n",
              "      <td>1.000000</td>\n",
              "      <td>0.925490</td>\n",
              "      <td>0.776471</td>\n",
              "      <td>0.949020</td>\n",
              "      <td>0.894118</td>\n",
              "      <td>0.733333</td>\n",
              "      <td>0.905882</td>\n",
              "      <td>0.847059</td>\n",
              "      <td>0.682353</td>\n",
              "      <td>0.854902</td>\n",
              "      <td>0.874510</td>\n",
              "      <td>0.705882</td>\n",
              "      <td>0.874510</td>\n",
              "      <td>0.890196</td>\n",
              "      <td>0.733333</td>\n",
              "      <td>0.890196</td>\n",
              "      <td>0.870588</td>\n",
              "      <td>0.729412</td>\n",
              "      <td>0.878431</td>\n",
              "      <td>0.803922</td>\n",
              "      <td>0.682353</td>\n",
              "      <td>0.815686</td>\n",
              "      <td>0.850980</td>\n",
              "      <td>...</td>\n",
              "      <td>0.898039</td>\n",
              "      <td>0.784314</td>\n",
              "      <td>0.984314</td>\n",
              "      <td>0.925490</td>\n",
              "      <td>0.811765</td>\n",
              "      <td>0.992157</td>\n",
              "      <td>0.901961</td>\n",
              "      <td>0.811765</td>\n",
              "      <td>0.984314</td>\n",
              "      <td>0.866667</td>\n",
              "      <td>0.796078</td>\n",
              "      <td>0.960784</td>\n",
              "      <td>0.894118</td>\n",
              "      <td>0.819608</td>\n",
              "      <td>0.976471</td>\n",
              "      <td>0.945098</td>\n",
              "      <td>0.866667</td>\n",
              "      <td>1.000000</td>\n",
              "      <td>0.972549</td>\n",
              "      <td>0.886275</td>\n",
              "      <td>1.000000</td>\n",
              "      <td>0.949020</td>\n",
              "      <td>0.858824</td>\n",
              "      <td>0.980392</td>\n",
              "      <td>0.921569</td>\n",
              "      <td>0.831373</td>\n",
              "      <td>0.952941</td>\n",
              "      <td>0.937255</td>\n",
              "      <td>0.843137</td>\n",
              "      <td>0.968627</td>\n",
              "      <td>0.905882</td>\n",
              "      <td>0.811765</td>\n",
              "      <td>0.941176</td>\n",
              "      <td>0.933333</td>\n",
              "      <td>0.835294</td>\n",
              "      <td>0.968627</td>\n",
              "      <td>0.956863</td>\n",
              "      <td>0.858824</td>\n",
              "      <td>0.992157</td>\n",
              "      <td>0</td>\n",
              "    </tr>\n",
              "    <tr>\n",
              "      <th>2</th>\n",
              "      <td>0.968627</td>\n",
              "      <td>0.952941</td>\n",
              "      <td>0.968627</td>\n",
              "      <td>0.964706</td>\n",
              "      <td>0.949020</td>\n",
              "      <td>0.972549</td>\n",
              "      <td>0.956863</td>\n",
              "      <td>0.937255</td>\n",
              "      <td>0.968627</td>\n",
              "      <td>0.945098</td>\n",
              "      <td>0.917647</td>\n",
              "      <td>0.960784</td>\n",
              "      <td>0.949020</td>\n",
              "      <td>0.909804</td>\n",
              "      <td>0.960784</td>\n",
              "      <td>0.952941</td>\n",
              "      <td>0.894118</td>\n",
              "      <td>0.956863</td>\n",
              "      <td>0.933333</td>\n",
              "      <td>0.858824</td>\n",
              "      <td>0.933333</td>\n",
              "      <td>0.905882</td>\n",
              "      <td>0.815686</td>\n",
              "      <td>0.898039</td>\n",
              "      <td>0.854902</td>\n",
              "      <td>0.737255</td>\n",
              "      <td>0.835294</td>\n",
              "      <td>0.827451</td>\n",
              "      <td>0.686275</td>\n",
              "      <td>0.796078</td>\n",
              "      <td>0.815686</td>\n",
              "      <td>0.650980</td>\n",
              "      <td>0.772549</td>\n",
              "      <td>0.807843</td>\n",
              "      <td>0.623529</td>\n",
              "      <td>0.756863</td>\n",
              "      <td>0.776471</td>\n",
              "      <td>0.584314</td>\n",
              "      <td>0.725490</td>\n",
              "      <td>0.772549</td>\n",
              "      <td>...</td>\n",
              "      <td>0.713725</td>\n",
              "      <td>0.462745</td>\n",
              "      <td>0.647059</td>\n",
              "      <td>0.705882</td>\n",
              "      <td>0.435294</td>\n",
              "      <td>0.627451</td>\n",
              "      <td>0.721569</td>\n",
              "      <td>0.443137</td>\n",
              "      <td>0.639216</td>\n",
              "      <td>0.717647</td>\n",
              "      <td>0.431373</td>\n",
              "      <td>0.631373</td>\n",
              "      <td>0.705882</td>\n",
              "      <td>0.415686</td>\n",
              "      <td>0.619608</td>\n",
              "      <td>0.682353</td>\n",
              "      <td>0.384314</td>\n",
              "      <td>0.592157</td>\n",
              "      <td>0.584314</td>\n",
              "      <td>0.290196</td>\n",
              "      <td>0.498039</td>\n",
              "      <td>0.619608</td>\n",
              "      <td>0.325490</td>\n",
              "      <td>0.537255</td>\n",
              "      <td>0.643137</td>\n",
              "      <td>0.356863</td>\n",
              "      <td>0.568627</td>\n",
              "      <td>0.619608</td>\n",
              "      <td>0.341176</td>\n",
              "      <td>0.552941</td>\n",
              "      <td>0.686275</td>\n",
              "      <td>0.419608</td>\n",
              "      <td>0.635294</td>\n",
              "      <td>0.784314</td>\n",
              "      <td>0.529412</td>\n",
              "      <td>0.745098</td>\n",
              "      <td>0.764706</td>\n",
              "      <td>0.529412</td>\n",
              "      <td>0.745098</td>\n",
              "      <td>0</td>\n",
              "    </tr>\n",
              "    <tr>\n",
              "      <th>3</th>\n",
              "      <td>0.949020</td>\n",
              "      <td>0.949020</td>\n",
              "      <td>0.952941</td>\n",
              "      <td>0.945098</td>\n",
              "      <td>0.945098</td>\n",
              "      <td>0.952941</td>\n",
              "      <td>0.945098</td>\n",
              "      <td>0.945098</td>\n",
              "      <td>0.952941</td>\n",
              "      <td>0.949020</td>\n",
              "      <td>0.949020</td>\n",
              "      <td>0.952941</td>\n",
              "      <td>0.952941</td>\n",
              "      <td>0.949020</td>\n",
              "      <td>0.952941</td>\n",
              "      <td>0.956863</td>\n",
              "      <td>0.952941</td>\n",
              "      <td>0.956863</td>\n",
              "      <td>0.956863</td>\n",
              "      <td>0.952941</td>\n",
              "      <td>0.956863</td>\n",
              "      <td>0.956863</td>\n",
              "      <td>0.952941</td>\n",
              "      <td>0.956863</td>\n",
              "      <td>0.952941</td>\n",
              "      <td>0.949020</td>\n",
              "      <td>0.952941</td>\n",
              "      <td>0.952941</td>\n",
              "      <td>0.945098</td>\n",
              "      <td>0.952941</td>\n",
              "      <td>0.952941</td>\n",
              "      <td>0.945098</td>\n",
              "      <td>0.952941</td>\n",
              "      <td>0.956863</td>\n",
              "      <td>0.945098</td>\n",
              "      <td>0.952941</td>\n",
              "      <td>0.956863</td>\n",
              "      <td>0.945098</td>\n",
              "      <td>0.952941</td>\n",
              "      <td>0.960784</td>\n",
              "      <td>...</td>\n",
              "      <td>0.909804</td>\n",
              "      <td>0.858824</td>\n",
              "      <td>0.933333</td>\n",
              "      <td>0.886275</td>\n",
              "      <td>0.831373</td>\n",
              "      <td>0.909804</td>\n",
              "      <td>0.913725</td>\n",
              "      <td>0.858824</td>\n",
              "      <td>0.937255</td>\n",
              "      <td>0.956863</td>\n",
              "      <td>0.898039</td>\n",
              "      <td>0.976471</td>\n",
              "      <td>0.949020</td>\n",
              "      <td>0.890196</td>\n",
              "      <td>0.972549</td>\n",
              "      <td>0.937255</td>\n",
              "      <td>0.866667</td>\n",
              "      <td>0.952941</td>\n",
              "      <td>0.913725</td>\n",
              "      <td>0.831373</td>\n",
              "      <td>0.929412</td>\n",
              "      <td>0.945098</td>\n",
              "      <td>0.850980</td>\n",
              "      <td>0.952941</td>\n",
              "      <td>0.960784</td>\n",
              "      <td>0.850980</td>\n",
              "      <td>0.960784</td>\n",
              "      <td>0.949020</td>\n",
              "      <td>0.827451</td>\n",
              "      <td>0.945098</td>\n",
              "      <td>0.956863</td>\n",
              "      <td>0.827451</td>\n",
              "      <td>0.949020</td>\n",
              "      <td>0.988235</td>\n",
              "      <td>0.854902</td>\n",
              "      <td>0.972549</td>\n",
              "      <td>0.866667</td>\n",
              "      <td>0.729412</td>\n",
              "      <td>0.847059</td>\n",
              "      <td>0</td>\n",
              "    </tr>\n",
              "    <tr>\n",
              "      <th>4</th>\n",
              "      <td>0.741176</td>\n",
              "      <td>0.509804</td>\n",
              "      <td>0.741176</td>\n",
              "      <td>0.721569</td>\n",
              "      <td>0.494118</td>\n",
              "      <td>0.729412</td>\n",
              "      <td>0.717647</td>\n",
              "      <td>0.494118</td>\n",
              "      <td>0.733333</td>\n",
              "      <td>0.729412</td>\n",
              "      <td>0.509804</td>\n",
              "      <td>0.745098</td>\n",
              "      <td>0.776471</td>\n",
              "      <td>0.568627</td>\n",
              "      <td>0.792157</td>\n",
              "      <td>0.784314</td>\n",
              "      <td>0.603922</td>\n",
              "      <td>0.811765</td>\n",
              "      <td>0.788235</td>\n",
              "      <td>0.627451</td>\n",
              "      <td>0.823529</td>\n",
              "      <td>0.756863</td>\n",
              "      <td>0.580392</td>\n",
              "      <td>0.788235</td>\n",
              "      <td>0.662745</td>\n",
              "      <td>0.458824</td>\n",
              "      <td>0.686275</td>\n",
              "      <td>0.721569</td>\n",
              "      <td>0.501961</td>\n",
              "      <td>0.713725</td>\n",
              "      <td>0.874510</td>\n",
              "      <td>0.650980</td>\n",
              "      <td>0.839216</td>\n",
              "      <td>0.850980</td>\n",
              "      <td>0.627451</td>\n",
              "      <td>0.803922</td>\n",
              "      <td>0.878431</td>\n",
              "      <td>0.650980</td>\n",
              "      <td>0.835294</td>\n",
              "      <td>0.858824</td>\n",
              "      <td>...</td>\n",
              "      <td>0.960784</td>\n",
              "      <td>0.929412</td>\n",
              "      <td>0.964706</td>\n",
              "      <td>0.976471</td>\n",
              "      <td>0.952941</td>\n",
              "      <td>0.984314</td>\n",
              "      <td>0.972549</td>\n",
              "      <td>0.949020</td>\n",
              "      <td>0.976471</td>\n",
              "      <td>0.964706</td>\n",
              "      <td>0.945098</td>\n",
              "      <td>0.972549</td>\n",
              "      <td>0.952941</td>\n",
              "      <td>0.933333</td>\n",
              "      <td>0.960784</td>\n",
              "      <td>0.952941</td>\n",
              "      <td>0.933333</td>\n",
              "      <td>0.960784</td>\n",
              "      <td>0.949020</td>\n",
              "      <td>0.937255</td>\n",
              "      <td>0.956863</td>\n",
              "      <td>0.941176</td>\n",
              "      <td>0.937255</td>\n",
              "      <td>0.952941</td>\n",
              "      <td>0.937255</td>\n",
              "      <td>0.933333</td>\n",
              "      <td>0.949020</td>\n",
              "      <td>0.941176</td>\n",
              "      <td>0.937255</td>\n",
              "      <td>0.952941</td>\n",
              "      <td>0.945098</td>\n",
              "      <td>0.937255</td>\n",
              "      <td>0.952941</td>\n",
              "      <td>0.949020</td>\n",
              "      <td>0.937255</td>\n",
              "      <td>0.956863</td>\n",
              "      <td>0.956863</td>\n",
              "      <td>0.941176</td>\n",
              "      <td>0.956863</td>\n",
              "      <td>0</td>\n",
              "    </tr>\n",
              "    <tr>\n",
              "      <th>...</th>\n",
              "      <td>...</td>\n",
              "      <td>...</td>\n",
              "      <td>...</td>\n",
              "      <td>...</td>\n",
              "      <td>...</td>\n",
              "      <td>...</td>\n",
              "      <td>...</td>\n",
              "      <td>...</td>\n",
              "      <td>...</td>\n",
              "      <td>...</td>\n",
              "      <td>...</td>\n",
              "      <td>...</td>\n",
              "      <td>...</td>\n",
              "      <td>...</td>\n",
              "      <td>...</td>\n",
              "      <td>...</td>\n",
              "      <td>...</td>\n",
              "      <td>...</td>\n",
              "      <td>...</td>\n",
              "      <td>...</td>\n",
              "      <td>...</td>\n",
              "      <td>...</td>\n",
              "      <td>...</td>\n",
              "      <td>...</td>\n",
              "      <td>...</td>\n",
              "      <td>...</td>\n",
              "      <td>...</td>\n",
              "      <td>...</td>\n",
              "      <td>...</td>\n",
              "      <td>...</td>\n",
              "      <td>...</td>\n",
              "      <td>...</td>\n",
              "      <td>...</td>\n",
              "      <td>...</td>\n",
              "      <td>...</td>\n",
              "      <td>...</td>\n",
              "      <td>...</td>\n",
              "      <td>...</td>\n",
              "      <td>...</td>\n",
              "      <td>...</td>\n",
              "      <td>...</td>\n",
              "      <td>...</td>\n",
              "      <td>...</td>\n",
              "      <td>...</td>\n",
              "      <td>...</td>\n",
              "      <td>...</td>\n",
              "      <td>...</td>\n",
              "      <td>...</td>\n",
              "      <td>...</td>\n",
              "      <td>...</td>\n",
              "      <td>...</td>\n",
              "      <td>...</td>\n",
              "      <td>...</td>\n",
              "      <td>...</td>\n",
              "      <td>...</td>\n",
              "      <td>...</td>\n",
              "      <td>...</td>\n",
              "      <td>...</td>\n",
              "      <td>...</td>\n",
              "      <td>...</td>\n",
              "      <td>...</td>\n",
              "      <td>...</td>\n",
              "      <td>...</td>\n",
              "      <td>...</td>\n",
              "      <td>...</td>\n",
              "      <td>...</td>\n",
              "      <td>...</td>\n",
              "      <td>...</td>\n",
              "      <td>...</td>\n",
              "      <td>...</td>\n",
              "      <td>...</td>\n",
              "      <td>...</td>\n",
              "      <td>...</td>\n",
              "      <td>...</td>\n",
              "      <td>...</td>\n",
              "      <td>...</td>\n",
              "      <td>...</td>\n",
              "      <td>...</td>\n",
              "      <td>...</td>\n",
              "      <td>...</td>\n",
              "      <td>...</td>\n",
              "    </tr>\n",
              "    <tr>\n",
              "      <th>9891</th>\n",
              "      <td>0.705882</td>\n",
              "      <td>0.541176</td>\n",
              "      <td>0.670588</td>\n",
              "      <td>0.894118</td>\n",
              "      <td>0.729412</td>\n",
              "      <td>0.850980</td>\n",
              "      <td>1.000000</td>\n",
              "      <td>0.878431</td>\n",
              "      <td>0.988235</td>\n",
              "      <td>0.905882</td>\n",
              "      <td>0.764706</td>\n",
              "      <td>0.866667</td>\n",
              "      <td>0.823529</td>\n",
              "      <td>0.658824</td>\n",
              "      <td>0.760784</td>\n",
              "      <td>0.827451</td>\n",
              "      <td>0.647059</td>\n",
              "      <td>0.749020</td>\n",
              "      <td>0.925490</td>\n",
              "      <td>0.776471</td>\n",
              "      <td>0.874510</td>\n",
              "      <td>0.980392</td>\n",
              "      <td>0.874510</td>\n",
              "      <td>0.964706</td>\n",
              "      <td>1.000000</td>\n",
              "      <td>0.956863</td>\n",
              "      <td>1.000000</td>\n",
              "      <td>0.992157</td>\n",
              "      <td>0.960784</td>\n",
              "      <td>0.992157</td>\n",
              "      <td>0.996078</td>\n",
              "      <td>0.933333</td>\n",
              "      <td>0.996078</td>\n",
              "      <td>0.898039</td>\n",
              "      <td>0.768627</td>\n",
              "      <td>0.866667</td>\n",
              "      <td>0.823529</td>\n",
              "      <td>0.686275</td>\n",
              "      <td>0.800000</td>\n",
              "      <td>0.811765</td>\n",
              "      <td>...</td>\n",
              "      <td>0.850980</td>\n",
              "      <td>0.650980</td>\n",
              "      <td>0.827451</td>\n",
              "      <td>0.905882</td>\n",
              "      <td>0.713725</td>\n",
              "      <td>0.886275</td>\n",
              "      <td>0.878431</td>\n",
              "      <td>0.694118</td>\n",
              "      <td>0.858824</td>\n",
              "      <td>0.827451</td>\n",
              "      <td>0.643137</td>\n",
              "      <td>0.803922</td>\n",
              "      <td>0.772549</td>\n",
              "      <td>0.596078</td>\n",
              "      <td>0.749020</td>\n",
              "      <td>0.823529</td>\n",
              "      <td>0.650980</td>\n",
              "      <td>0.800000</td>\n",
              "      <td>0.858824</td>\n",
              "      <td>0.670588</td>\n",
              "      <td>0.823529</td>\n",
              "      <td>0.862745</td>\n",
              "      <td>0.654902</td>\n",
              "      <td>0.815686</td>\n",
              "      <td>0.815686</td>\n",
              "      <td>0.611765</td>\n",
              "      <td>0.776471</td>\n",
              "      <td>0.772549</td>\n",
              "      <td>0.584314</td>\n",
              "      <td>0.741176</td>\n",
              "      <td>0.811765</td>\n",
              "      <td>0.631373</td>\n",
              "      <td>0.776471</td>\n",
              "      <td>0.811765</td>\n",
              "      <td>0.647059</td>\n",
              "      <td>0.776471</td>\n",
              "      <td>0.905882</td>\n",
              "      <td>0.803922</td>\n",
              "      <td>0.921569</td>\n",
              "      <td>1</td>\n",
              "    </tr>\n",
              "    <tr>\n",
              "      <th>9892</th>\n",
              "      <td>0.894118</td>\n",
              "      <td>0.678431</td>\n",
              "      <td>0.831373</td>\n",
              "      <td>0.811765</td>\n",
              "      <td>0.568627</td>\n",
              "      <td>0.725490</td>\n",
              "      <td>0.713725</td>\n",
              "      <td>0.486275</td>\n",
              "      <td>0.643137</td>\n",
              "      <td>0.756863</td>\n",
              "      <td>0.556863</td>\n",
              "      <td>0.713725</td>\n",
              "      <td>0.847059</td>\n",
              "      <td>0.662745</td>\n",
              "      <td>0.823529</td>\n",
              "      <td>0.858824</td>\n",
              "      <td>0.690196</td>\n",
              "      <td>0.850980</td>\n",
              "      <td>0.772549</td>\n",
              "      <td>0.615686</td>\n",
              "      <td>0.768627</td>\n",
              "      <td>0.847059</td>\n",
              "      <td>0.698039</td>\n",
              "      <td>0.843137</td>\n",
              "      <td>0.956863</td>\n",
              "      <td>0.819608</td>\n",
              "      <td>0.949020</td>\n",
              "      <td>0.960784</td>\n",
              "      <td>0.831373</td>\n",
              "      <td>0.952941</td>\n",
              "      <td>0.937255</td>\n",
              "      <td>0.800000</td>\n",
              "      <td>0.929412</td>\n",
              "      <td>0.933333</td>\n",
              "      <td>0.784314</td>\n",
              "      <td>0.929412</td>\n",
              "      <td>0.968627</td>\n",
              "      <td>0.807843</td>\n",
              "      <td>0.968627</td>\n",
              "      <td>0.898039</td>\n",
              "      <td>...</td>\n",
              "      <td>0.898039</td>\n",
              "      <td>0.835294</td>\n",
              "      <td>0.898039</td>\n",
              "      <td>0.898039</td>\n",
              "      <td>0.843137</td>\n",
              "      <td>0.905882</td>\n",
              "      <td>0.890196</td>\n",
              "      <td>0.835294</td>\n",
              "      <td>0.898039</td>\n",
              "      <td>0.886275</td>\n",
              "      <td>0.831373</td>\n",
              "      <td>0.894118</td>\n",
              "      <td>0.890196</td>\n",
              "      <td>0.831373</td>\n",
              "      <td>0.898039</td>\n",
              "      <td>0.898039</td>\n",
              "      <td>0.831373</td>\n",
              "      <td>0.901961</td>\n",
              "      <td>0.894118</td>\n",
              "      <td>0.819608</td>\n",
              "      <td>0.894118</td>\n",
              "      <td>0.890196</td>\n",
              "      <td>0.811765</td>\n",
              "      <td>0.890196</td>\n",
              "      <td>0.898039</td>\n",
              "      <td>0.811765</td>\n",
              "      <td>0.898039</td>\n",
              "      <td>0.901961</td>\n",
              "      <td>0.811765</td>\n",
              "      <td>0.905882</td>\n",
              "      <td>0.894118</td>\n",
              "      <td>0.800000</td>\n",
              "      <td>0.901961</td>\n",
              "      <td>0.886275</td>\n",
              "      <td>0.788235</td>\n",
              "      <td>0.894118</td>\n",
              "      <td>0.925490</td>\n",
              "      <td>0.823529</td>\n",
              "      <td>0.929412</td>\n",
              "      <td>1</td>\n",
              "    </tr>\n",
              "    <tr>\n",
              "      <th>9893</th>\n",
              "      <td>0.756863</td>\n",
              "      <td>0.552941</td>\n",
              "      <td>0.686275</td>\n",
              "      <td>0.819608</td>\n",
              "      <td>0.658824</td>\n",
              "      <td>0.768627</td>\n",
              "      <td>0.870588</td>\n",
              "      <td>0.737255</td>\n",
              "      <td>0.839216</td>\n",
              "      <td>0.929412</td>\n",
              "      <td>0.792157</td>\n",
              "      <td>0.901961</td>\n",
              "      <td>0.890196</td>\n",
              "      <td>0.733333</td>\n",
              "      <td>0.862745</td>\n",
              "      <td>0.803922</td>\n",
              "      <td>0.635294</td>\n",
              "      <td>0.780392</td>\n",
              "      <td>0.839216</td>\n",
              "      <td>0.654902</td>\n",
              "      <td>0.815686</td>\n",
              "      <td>0.792157</td>\n",
              "      <td>0.600000</td>\n",
              "      <td>0.764706</td>\n",
              "      <td>0.772549</td>\n",
              "      <td>0.580392</td>\n",
              "      <td>0.745098</td>\n",
              "      <td>0.745098</td>\n",
              "      <td>0.556863</td>\n",
              "      <td>0.717647</td>\n",
              "      <td>0.760784</td>\n",
              "      <td>0.572549</td>\n",
              "      <td>0.729412</td>\n",
              "      <td>0.823529</td>\n",
              "      <td>0.639216</td>\n",
              "      <td>0.788235</td>\n",
              "      <td>0.925490</td>\n",
              "      <td>0.741176</td>\n",
              "      <td>0.890196</td>\n",
              "      <td>0.984314</td>\n",
              "      <td>...</td>\n",
              "      <td>0.694118</td>\n",
              "      <td>0.509804</td>\n",
              "      <td>0.670588</td>\n",
              "      <td>0.815686</td>\n",
              "      <td>0.627451</td>\n",
              "      <td>0.792157</td>\n",
              "      <td>0.874510</td>\n",
              "      <td>0.686275</td>\n",
              "      <td>0.854902</td>\n",
              "      <td>0.925490</td>\n",
              "      <td>0.745098</td>\n",
              "      <td>0.913725</td>\n",
              "      <td>0.894118</td>\n",
              "      <td>0.713725</td>\n",
              "      <td>0.882353</td>\n",
              "      <td>0.909804</td>\n",
              "      <td>0.698039</td>\n",
              "      <td>0.870588</td>\n",
              "      <td>0.752941</td>\n",
              "      <td>0.513725</td>\n",
              "      <td>0.686275</td>\n",
              "      <td>0.737255</td>\n",
              "      <td>0.505882</td>\n",
              "      <td>0.674510</td>\n",
              "      <td>0.741176</td>\n",
              "      <td>0.521569</td>\n",
              "      <td>0.682353</td>\n",
              "      <td>0.643137</td>\n",
              "      <td>0.423529</td>\n",
              "      <td>0.580392</td>\n",
              "      <td>0.733333</td>\n",
              "      <td>0.517647</td>\n",
              "      <td>0.662745</td>\n",
              "      <td>0.854902</td>\n",
              "      <td>0.694118</td>\n",
              "      <td>0.819608</td>\n",
              "      <td>0.945098</td>\n",
              "      <td>0.803922</td>\n",
              "      <td>0.917647</td>\n",
              "      <td>1</td>\n",
              "    </tr>\n",
              "    <tr>\n",
              "      <th>9894</th>\n",
              "      <td>0.909804</td>\n",
              "      <td>0.792157</td>\n",
              "      <td>0.890196</td>\n",
              "      <td>0.756863</td>\n",
              "      <td>0.572549</td>\n",
              "      <td>0.690196</td>\n",
              "      <td>0.768627</td>\n",
              "      <td>0.572549</td>\n",
              "      <td>0.717647</td>\n",
              "      <td>0.811765</td>\n",
              "      <td>0.615686</td>\n",
              "      <td>0.780392</td>\n",
              "      <td>0.815686</td>\n",
              "      <td>0.596078</td>\n",
              "      <td>0.776471</td>\n",
              "      <td>0.776471</td>\n",
              "      <td>0.541176</td>\n",
              "      <td>0.725490</td>\n",
              "      <td>0.780392</td>\n",
              "      <td>0.533333</td>\n",
              "      <td>0.721569</td>\n",
              "      <td>0.827451</td>\n",
              "      <td>0.572549</td>\n",
              "      <td>0.768627</td>\n",
              "      <td>0.811765</td>\n",
              "      <td>0.556863</td>\n",
              "      <td>0.756863</td>\n",
              "      <td>0.811765</td>\n",
              "      <td>0.560784</td>\n",
              "      <td>0.760784</td>\n",
              "      <td>0.878431</td>\n",
              "      <td>0.635294</td>\n",
              "      <td>0.839216</td>\n",
              "      <td>0.886275</td>\n",
              "      <td>0.650980</td>\n",
              "      <td>0.850980</td>\n",
              "      <td>0.850980</td>\n",
              "      <td>0.619608</td>\n",
              "      <td>0.823529</td>\n",
              "      <td>0.909804</td>\n",
              "      <td>...</td>\n",
              "      <td>0.670588</td>\n",
              "      <td>0.462745</td>\n",
              "      <td>0.623529</td>\n",
              "      <td>0.796078</td>\n",
              "      <td>0.596078</td>\n",
              "      <td>0.749020</td>\n",
              "      <td>0.976471</td>\n",
              "      <td>0.768627</td>\n",
              "      <td>0.925490</td>\n",
              "      <td>0.941176</td>\n",
              "      <td>0.733333</td>\n",
              "      <td>0.886275</td>\n",
              "      <td>0.929412</td>\n",
              "      <td>0.733333</td>\n",
              "      <td>0.874510</td>\n",
              "      <td>0.854902</td>\n",
              "      <td>0.666667</td>\n",
              "      <td>0.796078</td>\n",
              "      <td>0.866667</td>\n",
              "      <td>0.658824</td>\n",
              "      <td>0.784314</td>\n",
              "      <td>0.886275</td>\n",
              "      <td>0.658824</td>\n",
              "      <td>0.784314</td>\n",
              "      <td>0.964706</td>\n",
              "      <td>0.721569</td>\n",
              "      <td>0.843137</td>\n",
              "      <td>0.913725</td>\n",
              "      <td>0.666667</td>\n",
              "      <td>0.784314</td>\n",
              "      <td>1.000000</td>\n",
              "      <td>0.760784</td>\n",
              "      <td>0.890196</td>\n",
              "      <td>0.792157</td>\n",
              "      <td>0.552941</td>\n",
              "      <td>0.694118</td>\n",
              "      <td>0.631373</td>\n",
              "      <td>0.396078</td>\n",
              "      <td>0.545098</td>\n",
              "      <td>1</td>\n",
              "    </tr>\n",
              "    <tr>\n",
              "      <th>9895</th>\n",
              "      <td>0.866667</td>\n",
              "      <td>0.705882</td>\n",
              "      <td>0.819608</td>\n",
              "      <td>1.000000</td>\n",
              "      <td>0.905882</td>\n",
              "      <td>0.988235</td>\n",
              "      <td>1.000000</td>\n",
              "      <td>0.945098</td>\n",
              "      <td>0.988235</td>\n",
              "      <td>1.000000</td>\n",
              "      <td>0.980392</td>\n",
              "      <td>0.996078</td>\n",
              "      <td>0.984314</td>\n",
              "      <td>0.964706</td>\n",
              "      <td>0.976471</td>\n",
              "      <td>0.992157</td>\n",
              "      <td>0.945098</td>\n",
              "      <td>0.972549</td>\n",
              "      <td>0.901961</td>\n",
              "      <td>0.811765</td>\n",
              "      <td>0.870588</td>\n",
              "      <td>0.807843</td>\n",
              "      <td>0.678431</td>\n",
              "      <td>0.768627</td>\n",
              "      <td>0.960784</td>\n",
              "      <td>0.800000</td>\n",
              "      <td>0.913725</td>\n",
              "      <td>0.992157</td>\n",
              "      <td>0.839216</td>\n",
              "      <td>0.949020</td>\n",
              "      <td>0.952941</td>\n",
              "      <td>0.815686</td>\n",
              "      <td>0.913725</td>\n",
              "      <td>0.952941</td>\n",
              "      <td>0.831373</td>\n",
              "      <td>0.921569</td>\n",
              "      <td>0.941176</td>\n",
              "      <td>0.839216</td>\n",
              "      <td>0.913725</td>\n",
              "      <td>0.952941</td>\n",
              "      <td>...</td>\n",
              "      <td>0.941176</td>\n",
              "      <td>0.760784</td>\n",
              "      <td>0.913725</td>\n",
              "      <td>0.901961</td>\n",
              "      <td>0.705882</td>\n",
              "      <td>0.862745</td>\n",
              "      <td>0.831373</td>\n",
              "      <td>0.619608</td>\n",
              "      <td>0.780392</td>\n",
              "      <td>0.729412</td>\n",
              "      <td>0.513725</td>\n",
              "      <td>0.666667</td>\n",
              "      <td>0.729412</td>\n",
              "      <td>0.513725</td>\n",
              "      <td>0.654902</td>\n",
              "      <td>0.847059</td>\n",
              "      <td>0.631373</td>\n",
              "      <td>0.760784</td>\n",
              "      <td>0.925490</td>\n",
              "      <td>0.713725</td>\n",
              "      <td>0.835294</td>\n",
              "      <td>0.733333</td>\n",
              "      <td>0.509804</td>\n",
              "      <td>0.639216</td>\n",
              "      <td>0.776471</td>\n",
              "      <td>0.541176</td>\n",
              "      <td>0.682353</td>\n",
              "      <td>0.752941</td>\n",
              "      <td>0.509804</td>\n",
              "      <td>0.662745</td>\n",
              "      <td>0.682353</td>\n",
              "      <td>0.443137</td>\n",
              "      <td>0.600000</td>\n",
              "      <td>0.843137</td>\n",
              "      <td>0.650980</td>\n",
              "      <td>0.784314</td>\n",
              "      <td>0.941176</td>\n",
              "      <td>0.803922</td>\n",
              "      <td>0.905882</td>\n",
              "      <td>1</td>\n",
              "    </tr>\n",
              "  </tbody>\n",
              "</table>\n",
              "<p>9896 rows × 2188 columns</p>\n",
              "</div>"
            ],
            "text/plain": [
              "             0         1         2  ...      2185      2186  Target\n",
              "0     0.929412  0.835294  0.949020  ...  0.576471  0.764706       0\n",
              "1     0.827451  0.686275  0.866667  ...  0.858824  0.992157       0\n",
              "2     0.968627  0.952941  0.968627  ...  0.529412  0.745098       0\n",
              "3     0.949020  0.949020  0.952941  ...  0.729412  0.847059       0\n",
              "4     0.741176  0.509804  0.741176  ...  0.941176  0.956863       0\n",
              "...        ...       ...       ...  ...       ...       ...     ...\n",
              "9891  0.705882  0.541176  0.670588  ...  0.803922  0.921569       1\n",
              "9892  0.894118  0.678431  0.831373  ...  0.823529  0.929412       1\n",
              "9893  0.756863  0.552941  0.686275  ...  0.803922  0.917647       1\n",
              "9894  0.909804  0.792157  0.890196  ...  0.396078  0.545098       1\n",
              "9895  0.866667  0.705882  0.819608  ...  0.803922  0.905882       1\n",
              "\n",
              "[9896 rows x 2188 columns]"
            ]
          },
          "metadata": {
            "tags": []
          },
          "execution_count": 43
        }
      ]
    },
    {
      "cell_type": "code",
      "metadata": {
        "id": "xOT6YdzvQl-P"
      },
      "source": [
        "from sklearn.model_selection import train_test_split"
      ],
      "id": "xOT6YdzvQl-P",
      "execution_count": 45,
      "outputs": []
    },
    {
      "cell_type": "code",
      "metadata": {
        "id": "8nJOnDHsCnrk"
      },
      "source": [
        "x=df.iloc[:,:-1]\n",
        "y=df.iloc[:,-1]\n",
        "x_train,x_test,y_train,y_test=train_test_split(x,y,test_size=0.20,random_state=77,stratify=y)"
      ],
      "id": "8nJOnDHsCnrk",
      "execution_count": 46,
      "outputs": []
    },
    {
      "cell_type": "code",
      "metadata": {
        "colab": {
          "base_uri": "https://localhost:8080/"
        },
        "id": "7vBdYvgZCnus",
        "outputId": "cbbf48d6-81f9-4170-a36a-bd1715101e3d"
      },
      "source": [
        "from sklearn.linear_model import SGDClassifier\n",
        "sgd_clf = SGDClassifier(loss='hinge', random_state=42)\n",
        "sgd_clf.fit(x_train, y_train)"
      ],
      "id": "7vBdYvgZCnus",
      "execution_count": 47,
      "outputs": [
        {
          "output_type": "execute_result",
          "data": {
            "text/plain": [
              "SGDClassifier(alpha=0.0001, average=False, class_weight=None,\n",
              "              early_stopping=False, epsilon=0.1, eta0=0.0, fit_intercept=True,\n",
              "              l1_ratio=0.15, learning_rate='optimal', loss='hinge',\n",
              "              max_iter=1000, n_iter_no_change=5, n_jobs=None, penalty='l2',\n",
              "              power_t=0.5, random_state=42, shuffle=True, tol=0.001,\n",
              "              validation_fraction=0.1, verbose=0, warm_start=False)"
            ]
          },
          "metadata": {
            "tags": []
          },
          "execution_count": 47
        }
      ]
    },
    {
      "cell_type": "code",
      "metadata": {
        "colab": {
          "base_uri": "https://localhost:8080/"
        },
        "id": "2NRr9q_2Cnxv",
        "outputId": "b3032b9c-73c1-4c03-d598-74b50b910f46"
      },
      "source": [
        "from sklearn.model_selection import cross_val_score\n",
        "cross_val_score(sgd_clf, x_train, y_train, cv=3, scoring='accuracy')"
      ],
      "id": "2NRr9q_2Cnxv",
      "execution_count": 48,
      "outputs": [
        {
          "output_type": "execute_result",
          "data": {
            "text/plain": [
              "array([0.71504358, 0.84350133, 0.85633055])"
            ]
          },
          "metadata": {
            "tags": []
          },
          "execution_count": 48
        }
      ]
    },
    {
      "cell_type": "code",
      "metadata": {
        "colab": {
          "base_uri": "https://localhost:8080/"
        },
        "id": "C7OR-Xi9RAjr",
        "outputId": "8faebe0d-a052-4278-e9e7-4ff68c55ff3a"
      },
      "source": [
        "score = sgd_clf.score(x_test, y_test)\n",
        "score"
      ],
      "id": "C7OR-Xi9RAjr",
      "execution_count": 49,
      "outputs": [
        {
          "output_type": "execute_result",
          "data": {
            "text/plain": [
              "0.8570707070707071"
            ]
          },
          "metadata": {
            "tags": []
          },
          "execution_count": 49
        }
      ]
    },
    {
      "cell_type": "code",
      "metadata": {
        "colab": {
          "base_uri": "https://localhost:8080/"
        },
        "id": "bu0ckMfeRKqS",
        "outputId": "c2615ba5-7ca8-45a5-812b-2628a41bba26"
      },
      "source": [
        "sgd_clf = SGDClassifier(loss='log', random_state=42, \n",
        "                        penalty='l2', alpha=1e-4)\n",
        "sgd_clf.fit(x_train, y_train)"
      ],
      "id": "bu0ckMfeRKqS",
      "execution_count": 50,
      "outputs": [
        {
          "output_type": "execute_result",
          "data": {
            "text/plain": [
              "SGDClassifier(alpha=0.0001, average=False, class_weight=None,\n",
              "              early_stopping=False, epsilon=0.1, eta0=0.0, fit_intercept=True,\n",
              "              l1_ratio=0.15, learning_rate='optimal', loss='log', max_iter=1000,\n",
              "              n_iter_no_change=5, n_jobs=None, penalty='l2', power_t=0.5,\n",
              "              random_state=42, shuffle=True, tol=0.001, validation_fraction=0.1,\n",
              "              verbose=0, warm_start=False)"
            ]
          },
          "metadata": {
            "tags": []
          },
          "execution_count": 50
        }
      ]
    },
    {
      "cell_type": "code",
      "metadata": {
        "colab": {
          "base_uri": "https://localhost:8080/"
        },
        "id": "PxgAwARwRKtQ",
        "outputId": "d0247298-08dc-4d55-dbae-89242a46b215"
      },
      "source": [
        "cross_val_score(sgd_clf, x_train, y_train, cv=7, scoring='accuracy')"
      ],
      "id": "PxgAwARwRKtQ",
      "execution_count": 51,
      "outputs": [
        {
          "output_type": "execute_result",
          "data": {
            "text/plain": [
              "array([0.8576481 , 0.72590628, 0.86383731, 0.84084881, 0.84350133,\n",
              "       0.84526967, 0.83097345])"
            ]
          },
          "metadata": {
            "tags": []
          },
          "execution_count": 51
        }
      ]
    },
    {
      "cell_type": "code",
      "metadata": {
        "colab": {
          "base_uri": "https://localhost:8080/"
        },
        "id": "1VuMNzcjRKwa",
        "outputId": "4a506ad7-6980-44aa-d5e8-e0a586c1bdc5"
      },
      "source": [
        "score = sgd_clf.score(x_test, y_test)\n",
        "score"
      ],
      "id": "1VuMNzcjRKwa",
      "execution_count": 52,
      "outputs": [
        {
          "output_type": "execute_result",
          "data": {
            "text/plain": [
              "0.7116161616161616"
            ]
          },
          "metadata": {
            "tags": []
          },
          "execution_count": 52
        }
      ]
    },
    {
      "cell_type": "markdown",
      "metadata": {
        "id": "17aa4ece"
      },
      "source": [
        "### Randomly split the given data set"
      ],
      "id": "17aa4ece"
    },
    {
      "cell_type": "code",
      "metadata": {
        "id": "a6b65173"
      },
      "source": [
        "from sklearn.model_selection import train_test_split"
      ],
      "id": "a6b65173",
      "execution_count": null,
      "outputs": []
    },
    {
      "cell_type": "code",
      "metadata": {
        "colab": {
          "base_uri": "https://localhost:8080/"
        },
        "id": "1593aa5b",
        "outputId": "08b59958-e1ee-4a1c-dfb3-fd6566fb1e9c"
      },
      "source": [
        "train_data, test_data = train_test_split(cancer, test_size=0.2, random_state=42)\n",
        "train_data, val_data = train_test_split(train_data, test_size=0.25, random_state=42)\n",
        "\n",
        "print(\"Train data : {}, Val Data: {}, Test Data: {}\".format(train_data.shape[0], val_data.shape[0], test_data.shape[0]))"
      ],
      "id": "1593aa5b",
      "execution_count": null,
      "outputs": [
        {
          "output_type": "stream",
          "text": [
            "Train data : 5937, Val Data: 1979, Test Data: 1980\n"
          ],
          "name": "stdout"
        }
      ]
    },
    {
      "cell_type": "markdown",
      "metadata": {
        "id": "18259807"
      },
      "source": [
        "# Model development"
      ],
      "id": "18259807"
    },
    {
      "cell_type": "code",
      "metadata": {
        "id": "76d8f66d"
      },
      "source": [
        "import matplotlib.pyplot as plt\n",
        "def plot_learning_curve(train_loss, val_loss, train_metric, val_metric, metric_name='Accuracy'):\n",
        "    plt.figure(figsize=(10,5))\n",
        "    \n",
        "    plt.subplot(1,2,1)\n",
        "    plt.plot(train_loss, 'r--')\n",
        "    plt.plot(val_loss, 'b--')\n",
        "    plt.xlabel(\"epochs\")\n",
        "    plt.ylabel(\"Loss\")\n",
        "    plt.legend(['train', 'val'], loc='upper left')\n",
        "\n",
        "    plt.subplot(1,2,2)\n",
        "    plt.plot(train_metric, 'r--')\n",
        "    plt.plot(val_metric, 'b--')\n",
        "    plt.xlabel(\"epochs\")\n",
        "    plt.ylabel(metric_name)\n",
        "    plt.legend(['train', 'val'], loc='upper left')\n",
        "\n",
        "    plt.show()"
      ],
      "id": "76d8f66d",
      "execution_count": null,
      "outputs": []
    },
    {
      "cell_type": "code",
      "metadata": {
        "id": "5048ead5"
      },
      "source": [
        "INPUT_DIM = (27,27,3)\n",
        "HIDDEN_LAYER_DIM = 256\n",
        "OUTPUT_CLASSES = 2"
      ],
      "id": "5048ead5",
      "execution_count": null,
      "outputs": []
    },
    {
      "cell_type": "code",
      "metadata": {
        "colab": {
          "base_uri": "https://localhost:8080/",
          "height": 35
        },
        "id": "cbef3cf6",
        "outputId": "21ee4dc9-e42b-4068-eda1-f2be74b1b494"
      },
      "source": [
        "import tensorflow as tf\n",
        "AUTOTUNE = tf.data.experimental.AUTOTUNE\n",
        "\n",
        "tf.__version__"
      ],
      "id": "cbef3cf6",
      "execution_count": null,
      "outputs": [
        {
          "output_type": "execute_result",
          "data": {
            "application/vnd.google.colaboratory.intrinsic+json": {
              "type": "string"
            },
            "text/plain": [
              "'2.5.0'"
            ]
          },
          "metadata": {
            "tags": []
          },
          "execution_count": 71
        }
      ]
    },
    {
      "cell_type": "code",
      "metadata": {
        "id": "51c7076d"
      },
      "source": [
        "\n",
        "\n",
        "model = tf.keras.Sequential([\n",
        "    tf.keras.layers.Flatten(input_shape=INPUT_DIM),\n",
        "    tf.keras.layers.Dense(HIDDEN_LAYER_DIM, activation='sigmoid'),\n",
        "    tf.keras.layers.Dense(OUTPUT_CLASSES)\n",
        "])"
      ],
      "id": "51c7076d",
      "execution_count": null,
      "outputs": []
    },
    {
      "cell_type": "code",
      "metadata": {
        "colab": {
          "base_uri": "https://localhost:8080/"
        },
        "id": "6983caa8",
        "outputId": "ad02a0d0-7293-4281-ab12-363df6d41964"
      },
      "source": [
        "model.summary()"
      ],
      "id": "6983caa8",
      "execution_count": null,
      "outputs": [
        {
          "output_type": "stream",
          "text": [
            "Model: \"sequential_8\"\n",
            "_________________________________________________________________\n",
            "Layer (type)                 Output Shape              Param #   \n",
            "=================================================================\n",
            "flatten_8 (Flatten)          (None, 2187)              0         \n",
            "_________________________________________________________________\n",
            "dense_16 (Dense)             (None, 256)               560128    \n",
            "_________________________________________________________________\n",
            "dense_17 (Dense)             (None, 2)                 514       \n",
            "=================================================================\n",
            "Total params: 560,642\n",
            "Trainable params: 560,642\n",
            "Non-trainable params: 0\n",
            "_________________________________________________________________\n"
          ],
          "name": "stdout"
        }
      ]
    },
    {
      "cell_type": "code",
      "metadata": {
        "colab": {
          "base_uri": "https://localhost:8080/",
          "height": 422
        },
        "id": "4d9Sr56HyyDn",
        "outputId": "e1a634c4-bd67-4ab6-d1b9-737b348ddcc4"
      },
      "source": [
        "tf.keras.utils.plot_model(model, show_shapes=True)"
      ],
      "id": "4d9Sr56HyyDn",
      "execution_count": null,
      "outputs": [
        {
          "output_type": "execute_result",
          "data": {
            "image/png": "[encoded data removed]",
            "text/plain": [
              "<IPython.core.display.Image object>"
            ]
          },
          "metadata": {
            "tags": []
          },
          "execution_count": 74
        }
      ]
    },
    {
      "cell_type": "markdown",
      "metadata": {
        "id": "rhGtZheRMJbH"
      },
      "source": [
        "# TASK 1"
      ],
      "id": "rhGtZheRMJbH"
    },
    {
      "cell_type": "code",
      "metadata": {
        "colab": {
          "base_uri": "https://localhost:8080/"
        },
        "id": "6a86ae88",
        "outputId": "c609bfa4-f808-40f1-cdbb-fbc576be63d3"
      },
      "source": [
        "train_data['isCancerous'] = train_data['isCancerous'].astype('str')\n",
        "val_data['isCancerous'] = val_data['isCancerous'].astype('str')\n",
        "\n",
        "from tensorflow.keras.preprocessing.image import ImageDataGenerator\n",
        "\n",
        "train_datagen = ImageDataGenerator(rescale=1./255, data_format='channels_last')\n",
        "val_datagen = ImageDataGenerator(rescale=1./255, data_format='channels_last')\n",
        "\n",
        "batch_size = 32\n",
        "\n",
        "train_generator = train_datagen.flow_from_dataframe(\n",
        "        dataframe=train_data,\n",
        "        directory='/content/patch_images',\n",
        "        x_col=\"ImageName\",\n",
        "        y_col=\"isCancerous\",\n",
        "        target_size=(27, 27),\n",
        "        batch_size=batch_size,\n",
        "        class_mode='categorical')\n",
        "\n",
        "validation_generator = val_datagen.flow_from_dataframe(\n",
        "        dataframe=val_data,\n",
        "        directory='/content/patch_images',\n",
        "        x_col=\"ImageName\",\n",
        "        y_col=\"isCancerous\",\n",
        "        target_size=(27,27),\n",
        "        batch_size=batch_size,\n",
        "        class_mode='categorical')"
      ],
      "id": "6a86ae88",
      "execution_count": null,
      "outputs": [
        {
          "output_type": "stream",
          "text": [
            "Found 5937 validated image filenames belonging to 2 classes.\n",
            "Found 1979 validated image filenames belonging to 2 classes.\n"
          ],
          "name": "stdout"
        }
      ]
    },
    {
      "cell_type": "code",
      "metadata": {
        "id": "b2bcac40"
      },
      "source": [
        "# Model Development"
      ],
      "id": "b2bcac40",
      "execution_count": null,
      "outputs": []
    },
    {
      "cell_type": "code",
      "metadata": {
        "id": "6c08ffce-42ae-47b4-8971-3b76081cd231"
      },
      "source": [
        "## Default Baseline Model:"
      ],
      "id": "6c08ffce-42ae-47b4-8971-3b76081cd231",
      "execution_count": null,
      "outputs": []
    },
    {
      "cell_type": "code",
      "metadata": {
        "id": "fa0b6dc8-6584-4e50-943c-ba24157e39c2"
      },
      "source": [
        "#import tensorflow as tf\n",
        "\n",
        "model_VGG_1 = tf.keras.Sequential([\n",
        "    #VGG block 1\n",
        "    tf.keras.layers.Conv2D(32, (3, 3), activation='relu', padding='same', input_shape=(27, 27, 3)),\n",
        "    tf.keras.layers.Conv2D(32, (3, 3), activation='relu', padding='same'),\n",
        "    tf.keras.layers.MaxPooling2D((2, 2)),\n",
        "    \n",
        "    #VGG block 2\n",
        "    tf.keras.layers.Conv2D(64, (3, 3), activation='relu', padding='same'),\n",
        "    tf.keras.layers.Conv2D(64, (3, 3), activation='relu', padding='same'),\n",
        "    tf.keras.layers.MaxPooling2D((2, 2)),\n",
        "    \n",
        "    #VGG block 3\n",
        "    tf.keras.layers.Conv2D(128, (3, 3), activation='relu', padding='same'),\n",
        "    tf.keras.layers.Conv2D(128, (3, 3), activation='relu', padding='same'),\n",
        "    tf.keras.layers.MaxPooling2D((2, 2)),\n",
        "    \n",
        "    tf.keras.layers.Flatten(),\n",
        "    tf.keras.layers.Dense(128, activation='relu'),\n",
        "    tf.keras.layers.Dense(OUTPUT_CLASSES),\n",
        "])"
      ],
      "id": "fa0b6dc8-6584-4e50-943c-ba24157e39c2",
      "execution_count": null,
      "outputs": []
    },
    {
      "cell_type": "code",
      "metadata": {
        "id": "877bdaa6-2595-4cf9-a0e8-b75644a07845"
      },
      "source": [
        "model_VGG_1.compile(optimizer='adam',\n",
        "              loss=tf.keras.losses.CategoricalCrossentropy(from_logits=True),\n",
        "              metrics=['categorical_accuracy'])"
      ],
      "id": "877bdaa6-2595-4cf9-a0e8-b75644a07845",
      "execution_count": null,
      "outputs": []
    },
    {
      "cell_type": "code",
      "metadata": {
        "colab": {
          "base_uri": "https://localhost:8080/"
        },
        "id": "777a94bc-7db6-4937-adb0-d96c6ce2a5a0",
        "outputId": "740ecb75-78eb-4225-a311-aef9ebe46dac"
      },
      "source": [
        "history_VGG_1 = model_VGG_1.fit_generator(train_generator, validation_data = validation_generator, epochs=25,verbose=0)"
      ],
      "id": "777a94bc-7db6-4937-adb0-d96c6ce2a5a0",
      "execution_count": null,
      "outputs": [
        {
          "output_type": "stream",
          "text": [
            "/usr/local/lib/python3.7/dist-packages/tensorflow/python/keras/engine/training.py:1940: UserWarning: `Model.fit_generator` is deprecated and will be removed in a future version. Please use `Model.fit`, which supports generators.\n",
            "  warnings.warn('`Model.fit_generator` is deprecated and '\n"
          ],
          "name": "stderr"
        }
      ]
    },
    {
      "cell_type": "code",
      "metadata": {
        "colab": {
          "base_uri": "https://localhost:8080/",
          "height": 334
        },
        "id": "2dfc9ea1-a336-47cf-8fe7-4c6b970586b3",
        "outputId": "e969f208-f707-46e5-b386-472d3b139847"
      },
      "source": [
        "plot_learning_curve(history_VGG_1.history['loss'], history_VGG_1.history['val_loss'], \n",
        "                    history_VGG_1.history['categorical_accuracy'], history_VGG_1.history['val_categorical_accuracy'], \n",
        "                    metric_name='Accuracy')"
      ],
      "id": "2dfc9ea1-a336-47cf-8fe7-4c6b970586b3",
      "execution_count": null,
      "outputs": [
        {
          "output_type": "display_data",
          "data": {
            "image/png": "[encoded data removed]",
            "text/plain": [
              "<Figure size 720x360 with 2 Axes>"
            ]
          },
          "metadata": {
            "tags": [],
            "needs_background": "light"
          }
        }
      ]
    },
    {
      "cell_type": "markdown",
      "metadata": {
        "id": "bb01c593-7e5c-45c7-83a5-4478b1191e1f"
      },
      "source": [
        "# Overfitting"
      ],
      "id": "bb01c593-7e5c-45c7-83a5-4478b1191e1f"
    },
    {
      "cell_type": "markdown",
      "metadata": {
        "id": "e19c8488-6318-4faf-9e85-eb24a40e5f2a"
      },
      "source": [
        "## Apply Regularisation"
      ],
      "id": "e19c8488-6318-4faf-9e85-eb24a40e5f2a"
    },
    {
      "cell_type": "code",
      "metadata": {
        "id": "a63ced98-463d-4fd7-9be7-ef70d19fda26"
      },
      "source": [
        "reg_lambda = 0.001\n",
        "\n",
        "model_VGG_2 = tf.keras.Sequential([\n",
        "    #VGG block 1\n",
        "    tf.keras.layers.Conv2D(32, (3, 3), activation='relu', padding='same', \n",
        "                           kernel_regularizer=tf.keras.regularizers.l2(reg_lambda), input_shape=(27, 27, 3)),\n",
        "    tf.keras.layers.Conv2D(32, (3, 3), activation='relu', padding='same', \n",
        "                           kernel_regularizer=tf.keras.regularizers.l2(reg_lambda)),\n",
        "    tf.keras.layers.MaxPooling2D((2, 2)),\n",
        "    \n",
        "    #VGG block 2\n",
        "    tf.keras.layers.Conv2D(64, (3, 3), activation='relu', padding='same', \n",
        "                           kernel_regularizer=tf.keras.regularizers.l2(reg_lambda)),\n",
        "    tf.keras.layers.Conv2D(64, (3, 3), activation='relu', padding='same', \n",
        "                           kernel_regularizer=tf.keras.regularizers.l2(reg_lambda)),\n",
        "    tf.keras.layers.MaxPooling2D((2, 2)),\n",
        "    \n",
        "    #VGG block 3\n",
        "    tf.keras.layers.Conv2D(128, (3, 3), activation='relu', padding='same', \n",
        "                           kernel_regularizer=tf.keras.regularizers.l2(reg_lambda)),\n",
        "    tf.keras.layers.Conv2D(128, (3, 3), activation='relu', padding='same', \n",
        "                           kernel_regularizer=tf.keras.regularizers.l2(reg_lambda)),\n",
        "    tf.keras.layers.MaxPooling2D((2, 2)),\n",
        "    \n",
        "    tf.keras.layers.Flatten(),\n",
        "    tf.keras.layers.Dense(128, activation='relu'),\n",
        "    tf.keras.layers.Dropout(.5),\n",
        "    tf.keras.layers.Dense(OUTPUT_CLASSES),\n",
        "])"
      ],
      "id": "a63ced98-463d-4fd7-9be7-ef70d19fda26",
      "execution_count": null,
      "outputs": []
    },
    {
      "cell_type": "code",
      "metadata": {
        "id": "660ffebd-e114-4a54-a313-6bc9bed0a9b1"
      },
      "source": [
        "model_VGG_2.compile(optimizer='adam',\n",
        "              loss=tf.keras.losses.CategoricalCrossentropy(from_logits=True),\n",
        "              metrics=['categorical_accuracy'])"
      ],
      "id": "660ffebd-e114-4a54-a313-6bc9bed0a9b1",
      "execution_count": null,
      "outputs": []
    },
    {
      "cell_type": "code",
      "metadata": {
        "colab": {
          "base_uri": "https://localhost:8080/",
          "height": 388
        },
        "id": "ca7fe6e2-5c4e-4b68-a0d7-f4c26eca9c30",
        "outputId": "4ff8dd42-e40c-49be-97ea-f8d007ea9468"
      },
      "source": [
        "history_VGG_2 = model_VGG_2.fit_generator(train_generator, validation_data = validation_generator, epochs=100, verbose=0)\n",
        "\n",
        "plot_learning_curve(history_VGG_2.history['loss'], history_VGG_2.history['val_loss'], \n",
        "                    history_VGG_2.history['categorical_accuracy'], history_VGG_2.history['val_categorical_accuracy'], \n",
        "                    metric_name='Accuracy')"
      ],
      "id": "ca7fe6e2-5c4e-4b68-a0d7-f4c26eca9c30",
      "execution_count": null,
      "outputs": [
        {
          "output_type": "stream",
          "text": [
            "/usr/local/lib/python3.7/dist-packages/tensorflow/python/keras/engine/training.py:1940: UserWarning: `Model.fit_generator` is deprecated and will be removed in a future version. Please use `Model.fit`, which supports generators.\n",
            "  warnings.warn('`Model.fit_generator` is deprecated and '\n"
          ],
          "name": "stderr"
        },
        {
          "output_type": "display_data",
          "data": {
            "image/png": "[encoded data removed]",
            "text/plain": [
              "<Figure size 720x360 with 2 Axes>"
            ]
          },
          "metadata": {
            "tags": [],
            "needs_background": "light"
          }
        }
      ]
    },
    {
      "cell_type": "markdown",
      "metadata": {
        "id": "2f94386e-7738-4240-9b8e-fa866e9dacee"
      },
      "source": [
        "### Data Augmentation"
      ],
      "id": "2f94386e-7738-4240-9b8e-fa866e9dacee"
    },
    {
      "cell_type": "code",
      "metadata": {
        "colab": {
          "base_uri": "https://localhost:8080/"
        },
        "id": "17aa48f7-b3d0-475c-af95-0c082ab2a76b",
        "outputId": "25858ddf-e4d1-41c8-833d-9c351b4c1707"
      },
      "source": [
        "\n",
        "train_data['isCancerous'] = train_data['isCancerous'].astype('str')\n",
        "val_data['isCancerous'] = val_data['isCancerous'].astype('str')\n",
        "from tensorflow.keras.preprocessing.image import ImageDataGenerator\n",
        "\n",
        "train_datagen = ImageDataGenerator(rescale=1./255, data_format='channels_last',\n",
        "                                   rotation_range=15, width_shift_range=0.2,\n",
        "                                   height_shift_range=0.2, brightness_range=[0.5,1.5])\n",
        "val_datagen = ImageDataGenerator(rescale=1./255, data_format='channels_last')\n",
        "\n",
        "batch_size = 32\n",
        "\n",
        "train_generator = train_datagen.flow_from_dataframe(\n",
        "        dataframe=train_data,\n",
        "        directory='/content/patch_images',\n",
        "        x_col=\"ImageName\",\n",
        "        y_col=\"isCancerous\",\n",
        "        target_size=(27, 27),\n",
        "        batch_size=batch_size,\n",
        "        class_mode='categorical')\n",
        "\n",
        "validation_generator = val_datagen.flow_from_dataframe(\n",
        "        dataframe=val_data,\n",
        "        directory='/content/patch_images',\n",
        "        x_col=\"ImageName\",\n",
        "        y_col=\"isCancerous\",\n",
        "        target_size=(27, 27),\n",
        "        batch_size=batch_size,\n",
        "        class_mode='categorical')"
      ],
      "id": "17aa48f7-b3d0-475c-af95-0c082ab2a76b",
      "execution_count": null,
      "outputs": [
        {
          "output_type": "stream",
          "text": [
            "Found 5937 validated image filenames belonging to 2 classes.\n",
            "Found 1979 validated image filenames belonging to 2 classes.\n"
          ],
          "name": "stdout"
        }
      ]
    },
    {
      "cell_type": "code",
      "metadata": {
        "id": "af0a8d9e-1fe6-4e43-81a6-7aeeb34d3a58"
      },
      "source": [
        "reg_lambda = 0.001\n",
        "\n",
        "model_VGG_3 = tf.keras.Sequential([\n",
        "    #VGG block 1\n",
        "    tf.keras.layers.Conv2D(32, (3, 3), activation='relu', padding='same', \n",
        "                           kernel_regularizer=tf.keras.regularizers.l2(reg_lambda), input_shape=(27, 27, 3)),\n",
        "    tf.keras.layers.Conv2D(32, (3, 3), activation='relu', padding='same', \n",
        "                           kernel_regularizer=tf.keras.regularizers.l2(reg_lambda)),\n",
        "    tf.keras.layers.MaxPooling2D((2, 2)),\n",
        "    \n",
        "    #VGG block 2\n",
        "    tf.keras.layers.Conv2D(64, (3, 3), activation='relu', padding='same', \n",
        "                           kernel_regularizer=tf.keras.regularizers.l2(reg_lambda)),\n",
        "    tf.keras.layers.Conv2D(64, (3, 3), activation='relu', padding='same', \n",
        "                           kernel_regularizer=tf.keras.regularizers.l2(reg_lambda)),\n",
        "    tf.keras.layers.MaxPooling2D((2, 2)),\n",
        "    \n",
        "    #VGG block 3\n",
        "    tf.keras.layers.Conv2D(128, (3, 3), activation='relu', padding='same', \n",
        "                           kernel_regularizer=tf.keras.regularizers.l2(reg_lambda)),\n",
        "    tf.keras.layers.Conv2D(128, (3, 3), activation='relu', padding='same', \n",
        "                           kernel_regularizer=tf.keras.regularizers.l2(reg_lambda)),\n",
        "    tf.keras.layers.MaxPooling2D((2, 2)),\n",
        "    \n",
        "    \n",
        "    tf.keras.layers.Flatten(),\n",
        "    tf.keras.layers.Dense(128, activation='relu', kernel_regularizer=tf.keras.regularizers.l2(reg_lambda)),\n",
        "    tf.keras.layers.Dense(OUTPUT_CLASSES),\n",
        "])"
      ],
      "id": "af0a8d9e-1fe6-4e43-81a6-7aeeb34d3a58",
      "execution_count": null,
      "outputs": []
    },
    {
      "cell_type": "code",
      "metadata": {
        "id": "91588fa8-31cf-4348-8f4f-1f7d755de7d0"
      },
      "source": [
        "model_VGG_3.compile(optimizer='adam',\n",
        "              loss=tf.keras.losses.CategoricalCrossentropy(from_logits=True),\n",
        "              metrics=['categorical_accuracy'])"
      ],
      "id": "91588fa8-31cf-4348-8f4f-1f7d755de7d0",
      "execution_count": null,
      "outputs": []
    },
    {
      "cell_type": "code",
      "metadata": {
        "colab": {
          "base_uri": "https://localhost:8080/",
          "height": 388
        },
        "id": "6eedac50-cbed-4bc8-871f-03333ab69b89",
        "outputId": "35c50cbf-f13b-42bc-80c8-54fc2b2d2e09"
      },
      "source": [
        "history_VGG_3 = model_VGG_3.fit_generator(train_generator, validation_data = validation_generator, epochs=100, verbose=0)\n",
        "\n",
        "plot_learning_curve(history_VGG_3.history['loss'], history_VGG_3.history['val_loss'], \n",
        "                    history_VGG_3.history['categorical_accuracy'], history_VGG_3.history['val_categorical_accuracy'], \n",
        "                    metric_name='Accuracy')"
      ],
      "id": "6eedac50-cbed-4bc8-871f-03333ab69b89",
      "execution_count": null,
      "outputs": [
        {
          "output_type": "stream",
          "text": [
            "/usr/local/lib/python3.7/dist-packages/tensorflow/python/keras/engine/training.py:1940: UserWarning: `Model.fit_generator` is deprecated and will be removed in a future version. Please use `Model.fit`, which supports generators.\n",
            "  warnings.warn('`Model.fit_generator` is deprecated and '\n"
          ],
          "name": "stderr"
        },
        {
          "output_type": "display_data",
          "data": {
            "image/png": "[encoded data removed]",
            "text/plain": [
              "<Figure size 720x360 with 2 Axes>"
            ]
          },
          "metadata": {
            "tags": [],
            "needs_background": "light"
          }
        }
      ]
    },
    {
      "cell_type": "code",
      "metadata": {
        "id": "6tPIJoeGzHDr"
      },
      "source": [
        ""
      ],
      "id": "6tPIJoeGzHDr",
      "execution_count": null,
      "outputs": []
    },
    {
      "cell_type": "markdown",
      "metadata": {
        "id": "TecsWSj-zH21"
      },
      "source": [
        "### Save the Model\n",
        "\n"
      ],
      "id": "TecsWSj-zH21"
    },
    {
      "cell_type": "code",
      "metadata": {
        "colab": {
          "base_uri": "https://localhost:8080/"
        },
        "id": "9854ecc6-8b7a-4cdb-955b-276cb44adc0b",
        "outputId": "9f3e6a2a-71b7-4cfb-a22f-d3eed905dc2a"
      },
      "source": [
        "model_VGG_3.save(\"model_VGG_3\")"
      ],
      "id": "9854ecc6-8b7a-4cdb-955b-276cb44adc0b",
      "execution_count": null,
      "outputs": [
        {
          "output_type": "stream",
          "text": [
            "INFO:tensorflow:Assets written to: model_VGG_3/assets\n"
          ],
          "name": "stdout"
        }
      ]
    },
    {
      "cell_type": "code",
      "metadata": {
        "id": "2d46ded3-c190-43b6-ac44-249c75b37bd0"
      },
      "source": [
        "!cp -R ./model_VGG_3 /content/drive/'My Drive'/CML-Assignment2/"
      ],
      "id": "2d46ded3-c190-43b6-ac44-249c75b37bd0",
      "execution_count": null,
      "outputs": []
    },
    {
      "cell_type": "code",
      "metadata": {
        "id": "5v75QklhLGY2"
      },
      "source": [
        ""
      ],
      "id": "5v75QklhLGY2",
      "execution_count": null,
      "outputs": []
    },
    {
      "cell_type": "markdown",
      "metadata": {
        "id": "k2PK_iAaLHsA"
      },
      "source": [
        "## Testing the Model we have created finally"
      ],
      "id": "k2PK_iAaLHsA"
    },
    {
      "cell_type": "code",
      "metadata": {
        "colab": {
          "base_uri": "https://localhost:8080/"
        },
        "id": "58190491-30b3-48ea-a162-00c606ff2cdc",
        "outputId": "efa18c61-cde4-4de0-fd9a-d6454c09e2e7"
      },
      "source": [
        "test_data['isCancerous'] = test_data['isCancerous'].astype('str')\n",
        "\n",
        "test_datagen = ImageDataGenerator(rescale=1./255, data_format='channels_last')\n",
        "\n",
        "batch_size = 1\n",
        "\n",
        "test_generator = test_datagen.flow_from_dataframe(\n",
        "        dataframe=test_data,\n",
        "        directory='/content/patch_images',\n",
        "        x_col=\"ImageName\",\n",
        "        y_col=\"isCancerous\",\n",
        "        target_size=(27, 27),\n",
        "        batch_size=batch_size,\n",
        "        class_mode='categorical')"
      ],
      "id": "58190491-30b3-48ea-a162-00c606ff2cdc",
      "execution_count": null,
      "outputs": [
        {
          "output_type": "stream",
          "text": [
            "Found 1980 validated image filenames belonging to 2 classes.\n"
          ],
          "name": "stdout"
        },
        {
          "output_type": "stream",
          "text": [
            "/usr/local/lib/python3.7/dist-packages/ipykernel_launcher.py:1: SettingWithCopyWarning: \n",
            "A value is trying to be set on a copy of a slice from a DataFrame.\n",
            "Try using .loc[row_indexer,col_indexer] = value instead\n",
            "\n",
            "See the caveats in the documentation: https://pandas.pydata.org/pandas-docs/stable/user_guide/indexing.html#returning-a-view-versus-a-copy\n",
            "  \"\"\"Entry point for launching an IPython kernel.\n"
          ],
          "name": "stderr"
        }
      ]
    },
    {
      "cell_type": "code",
      "metadata": {
        "colab": {
          "base_uri": "https://localhost:8080/"
        },
        "id": "W_dLzjrL1mo0",
        "outputId": "19da321b-3c82-43dd-a71e-91ca321786e7"
      },
      "source": [
        "model_VGG_3.evaluate(test_generator)"
      ],
      "id": "W_dLzjrL1mo0",
      "execution_count": null,
      "outputs": [
        {
          "output_type": "stream",
          "text": [
            "1980/1980 [==============================] - 6s 3ms/step - loss: 0.3691 - categorical_accuracy: 0.8510\n"
          ],
          "name": "stdout"
        },
        {
          "output_type": "execute_result",
          "data": {
            "text/plain": [
              "[0.36914169788360596, 0.8510100841522217]"
            ]
          },
          "metadata": {
            "tags": []
          },
          "execution_count": 92
        }
      ]
    },
    {
      "cell_type": "markdown",
      "metadata": {
        "id": "o_9XleamLWmr"
      },
      "source": [
        " Got 87% Accuracy with 3% loss"
      ],
      "id": "o_9XleamLWmr"
    },
    {
      "cell_type": "markdown",
      "metadata": {
        "id": "TsQK1DNoLtCM"
      },
      "source": [
        "## Plotting our Final Results"
      ],
      "id": "TsQK1DNoLtCM"
    },
    {
      "cell_type": "code",
      "metadata": {
        "id": "Bk0pYu0k1ms9"
      },
      "source": [
        "label_names = {'cancer' : 0, 'noCancer' : 1}"
      ],
      "id": "Bk0pYu0k1ms9",
      "execution_count": null,
      "outputs": []
    },
    {
      "cell_type": "code",
      "metadata": {
        "colab": {
          "base_uri": "https://localhost:8080/",
          "height": 201
        },
        "id": "5h6xZcxAJeXa",
        "outputId": "35930314-6c2c-4471-9e90-9a9fbcdc1958"
      },
      "source": [
        "d_inv = {v: k for k, v in label_names.items()}\n",
        "plt.figure(figsize=(16,4))\n",
        "batches = 0\n",
        "for x,y in test_generator:\n",
        "        batches = batches + 1\n",
        "        y_hat = model_VGG_3.predict(x, verbose=0)\n",
        "        x = np.squeeze(x)\n",
        "        if batches < 5:\n",
        "            plt.subplot(1,5,batches)\n",
        "            plt.imshow(x)\n",
        "            plt.title(\"GT-{}, Pred-{}\".format(d_inv[np.argmax(y[0])], d_inv[np.argmax(y_hat[0])] ))\n",
        "            \n",
        "        else:\n",
        "            break\n",
        "        \n",
        "        plt.axis('off')"
      ],
      "id": "5h6xZcxAJeXa",
      "execution_count": null,
      "outputs": [
        {
          "output_type": "display_data",
          "data": {
            "image/png": "[encoded data removed]",
            "text/plain": [
              "<Figure size 1152x288 with 4 Axes>"
            ]
          },
          "metadata": {
            "tags": [],
            "needs_background": "light"
          }
        }
      ]
    },
    {
      "cell_type": "markdown",
      "metadata": {
        "id": "2E7Uz7YdMWmc"
      },
      "source": [
        "# Task 2"
      ],
      "id": "2E7Uz7YdMWmc"
    },
    {
      "cell_type": "code",
      "metadata": {
        "colab": {
          "base_uri": "https://localhost:8080/"
        },
        "id": "McXF4AF0Jeep",
        "outputId": "3d507dba-f356-4959-8f71-ae9936fba025"
      },
      "source": [
        "cancer.cellType.value_counts()"
      ],
      "id": "McXF4AF0Jeep",
      "execution_count": null,
      "outputs": [
        {
          "output_type": "execute_result",
          "data": {
            "text/plain": [
              "2    4079\n",
              "1    2543\n",
              "0    1888\n",
              "3    1386\n",
              "Name: cellType, dtype: int64"
            ]
          },
          "metadata": {
            "tags": []
          },
          "execution_count": 95
        }
      ]
    },
    {
      "cell_type": "code",
      "metadata": {
        "colab": {
          "base_uri": "https://localhost:8080/",
          "height": 265
        },
        "id": "vCKPSbtLJehl",
        "outputId": "2a25e8c5-25db-47f8-9ec3-3b68354eb984"
      },
      "source": [
        "cancer.cellType.hist()\n",
        "plt.show()"
      ],
      "id": "vCKPSbtLJehl",
      "execution_count": null,
      "outputs": [
        {
          "output_type": "display_data",
          "data": {
            "image/png": "[encoded data removed]",
            "text/plain": [
              "<Figure size 432x288 with 1 Axes>"
            ]
          },
          "metadata": {
            "tags": [],
            "needs_background": "light"
          }
        }
      ]
    },
    {
      "cell_type": "code",
      "metadata": {
        "id": "DYrdAqvXnQIR"
      },
      "source": [
        "INPUT_DIM = (27, 27, 3)\n",
        "HIDDEN_LAYER_DIM = 256\n",
        "OUTPUT_CLASSES = 4"
      ],
      "id": "DYrdAqvXnQIR",
      "execution_count": null,
      "outputs": []
    },
    {
      "cell_type": "code",
      "metadata": {
        "id": "ul_A_OonnQOR"
      },
      "source": [
        "cell_model = tf.keras.Sequential([\n",
        "    tf.keras.layers.Flatten(input_shape=INPUT_DIM),\n",
        "    tf.keras.layers.Dense(HIDDEN_LAYER_DIM, activation='sigmoid'),\n",
        "    tf.keras.layers.Dense(OUTPUT_CLASSES)\n",
        "])"
      ],
      "id": "ul_A_OonnQOR",
      "execution_count": null,
      "outputs": []
    },
    {
      "cell_type": "code",
      "metadata": {
        "colab": {
          "base_uri": "https://localhost:8080/"
        },
        "id": "0tLvQ02wnQa_",
        "outputId": "6a868b7e-ac26-4e70-9112-d7513095b1c8"
      },
      "source": [
        "cell_model.summary()"
      ],
      "id": "0tLvQ02wnQa_",
      "execution_count": null,
      "outputs": [
        {
          "output_type": "stream",
          "text": [
            "Model: \"sequential_12\"\n",
            "_________________________________________________________________\n",
            "Layer (type)                 Output Shape              Param #   \n",
            "=================================================================\n",
            "flatten_12 (Flatten)         (None, 2187)              0         \n",
            "_________________________________________________________________\n",
            "dense_24 (Dense)             (None, 256)               560128    \n",
            "_________________________________________________________________\n",
            "dense_25 (Dense)             (None, 4)                 1028      \n",
            "=================================================================\n",
            "Total params: 561,156\n",
            "Trainable params: 561,156\n",
            "Non-trainable params: 0\n",
            "_________________________________________________________________\n"
          ],
          "name": "stdout"
        }
      ]
    },
    {
      "cell_type": "code",
      "metadata": {
        "colab": {
          "base_uri": "https://localhost:8080/",
          "height": 422
        },
        "id": "AbM8YmUwnQeM",
        "outputId": "82699fdb-a49a-40f6-b9ac-0a8fe662634d"
      },
      "source": [
        "tf.keras.utils.plot_model(cell_model, show_shapes=True)"
      ],
      "id": "AbM8YmUwnQeM",
      "execution_count": null,
      "outputs": [
        {
          "output_type": "execute_result",
          "data": {
            "image/png": "[encoded data removed]",
            "text/plain": [
              "<IPython.core.display.Image object>"
            ]
          },
          "metadata": {
            "tags": []
          },
          "execution_count": 100
        }
      ]
    },
    {
      "cell_type": "code",
      "metadata": {
        "colab": {
          "base_uri": "https://localhost:8080/"
        },
        "id": "JRoLvYxVnQhm",
        "outputId": "6b950e3c-5b2a-49b5-e3c2-5563c79bd26d"
      },
      "source": [
        "train_data['cellType'] = train_data['cellType'].astype('str')\n",
        "val_data['cellType'] = val_data['cellType'].astype('str')\n",
        "from tensorflow.keras.preprocessing.image import ImageDataGenerator\n",
        "\n",
        "\n",
        "cell_train_datagen = ImageDataGenerator(rescale=1./255, data_format='channels_last')\n",
        "cell_val_datagen = ImageDataGenerator(rescale=1./255, data_format='channels_last')\n",
        "\n",
        "batch_size = 27\n",
        "\n",
        "cell_train_generator = cell_train_datagen.flow_from_dataframe(\n",
        "        dataframe=train_data,\n",
        "        directory='/content/patch_images',\n",
        "        x_col=\"ImageName\",\n",
        "        y_col=\"cellType\",\n",
        "        target_size=(27, 27),\n",
        "        batch_size=batch_size,\n",
        "        class_mode='categorical')\n",
        "\n",
        "cell_validation_generator = cell_val_datagen.flow_from_dataframe(\n",
        "        dataframe=val_data,\n",
        "        directory='/content/patch_images',\n",
        "        x_col=\"ImageName\",\n",
        "        y_col=\"cellType\",\n",
        "        target_size=(27, 27),\n",
        "        batch_size=batch_size,\n",
        "        class_mode='categorical')"
      ],
      "id": "JRoLvYxVnQhm",
      "execution_count": null,
      "outputs": [
        {
          "output_type": "stream",
          "text": [
            "Found 5937 validated image filenames belonging to 4 classes.\n",
            "Found 1979 validated image filenames belonging to 4 classes.\n"
          ],
          "name": "stdout"
        }
      ]
    },
    {
      "cell_type": "markdown",
      "metadata": {
        "id": "veIFrEacznez"
      },
      "source": [
        "## Baseline Model"
      ],
      "id": "veIFrEacznez"
    },
    {
      "cell_type": "code",
      "metadata": {
        "id": "6gplDbbZzlm-"
      },
      "source": [
        "cell_model_VGG_1 = tf.keras.Sequential([\n",
        "    #VGG block 1\n",
        "    tf.keras.layers.Conv2D(32, (3, 3), activation='relu', padding='same', input_shape=(27, 27, 3)),\n",
        "    tf.keras.layers.Conv2D(32, (3, 3), activation='relu', padding='same'),\n",
        "    tf.keras.layers.MaxPooling2D((2, 2)),\n",
        "    \n",
        "    #VGG block 2\n",
        "    tf.keras.layers.Conv2D(64, (3, 3), activation='relu', padding='same'),\n",
        "    tf.keras.layers.Conv2D(64, (3, 3), activation='relu', padding='same'),\n",
        "    tf.keras.layers.MaxPooling2D((2, 2)),\n",
        "    \n",
        "    #VGG block 3\n",
        "    tf.keras.layers.Conv2D(128, (3, 3), activation='relu', padding='same'),\n",
        "    tf.keras.layers.Conv2D(128, (3, 3), activation='relu', padding='same'),\n",
        "    tf.keras.layers.MaxPooling2D((2, 2)),\n",
        "    \n",
        "    tf.keras.layers.Flatten(),\n",
        "    tf.keras.layers.Dense(128, activation='relu'),\n",
        "    tf.keras.layers.Dense(OUTPUT_CLASSES),\n",
        "])"
      ],
      "id": "6gplDbbZzlm-",
      "execution_count": null,
      "outputs": []
    },
    {
      "cell_type": "code",
      "metadata": {
        "id": "rwHXkFG0zltc"
      },
      "source": [
        "cell_model_VGG_1.compile(optimizer='adam',\n",
        "              loss=tf.keras.losses.CategoricalCrossentropy(from_logits=True),\n",
        "              metrics=['categorical_accuracy'])"
      ],
      "id": "rwHXkFG0zltc",
      "execution_count": null,
      "outputs": []
    },
    {
      "cell_type": "code",
      "metadata": {
        "colab": {
          "base_uri": "https://localhost:8080/"
        },
        "id": "Mfvp_a4Yql4a",
        "outputId": "bb423704-49bd-436f-d075-36d460dbaab3"
      },
      "source": [
        "cell_history = cell_model_VGG_1.fit_generator(cell_train_generator, validation_data = cell_validation_generator, epochs=25,verbose=0)"
      ],
      "id": "Mfvp_a4Yql4a",
      "execution_count": null,
      "outputs": [
        {
          "output_type": "stream",
          "text": [
            "/usr/local/lib/python3.7/dist-packages/tensorflow/python/keras/engine/training.py:1940: UserWarning: `Model.fit_generator` is deprecated and will be removed in a future version. Please use `Model.fit`, which supports generators.\n",
            "  warnings.warn('`Model.fit_generator` is deprecated and '\n"
          ],
          "name": "stderr"
        }
      ]
    },
    {
      "cell_type": "code",
      "metadata": {
        "colab": {
          "base_uri": "https://localhost:8080/",
          "height": 334
        },
        "id": "lfyZwOSOql8D",
        "outputId": "80d85e87-348f-45b1-8629-c715276ce906"
      },
      "source": [
        "plot_learning_curve(cell_history.history['loss'], cell_history.history['val_loss'], \n",
        "                    cell_history.history['categorical_accuracy'], cell_history.history['val_categorical_accuracy'], \n",
        "                    metric_name='Accuracy')"
      ],
      "id": "lfyZwOSOql8D",
      "execution_count": null,
      "outputs": [
        {
          "output_type": "display_data",
          "data": {
            "image/png": "[encoded data removed]",
            "text/plain": [
              "<Figure size 720x360 with 2 Axes>"
            ]
          },
          "metadata": {
            "tags": [],
            "needs_background": "light"
          }
        }
      ]
    },
    {
      "cell_type": "markdown",
      "metadata": {
        "id": "PuMpsVl9hYf1"
      },
      "source": [
        "### Due to Overfitting we have to apply Regularisation, dropout and Augmentation techniques to achieve High accuracy with minimum loss."
      ],
      "id": "PuMpsVl9hYf1"
    },
    {
      "cell_type": "markdown",
      "metadata": {
        "id": "qyQ69wfahJWP"
      },
      "source": [
        "## Regularisation"
      ],
      "id": "qyQ69wfahJWP"
    },
    {
      "cell_type": "code",
      "metadata": {
        "id": "N-buMyr1hHKs"
      },
      "source": [
        "reg_lambda = 0.001\n",
        "\n",
        "cell_model_VGG_2 = tf.keras.Sequential([\n",
        "    #VGG block 1\n",
        "    tf.keras.layers.Conv2D(32, (3, 3), activation='relu', padding='same', \n",
        "                           kernel_regularizer=tf.keras.regularizers.l2(reg_lambda), input_shape=(27, 27, 3)),\n",
        "    tf.keras.layers.Conv2D(32, (3, 3), activation='relu', padding='same', \n",
        "                           kernel_regularizer=tf.keras.regularizers.l2(reg_lambda)),\n",
        "    tf.keras.layers.MaxPooling2D((2, 2)),\n",
        "    \n",
        "    #VGG block 2\n",
        "    tf.keras.layers.Conv2D(64, (3, 3), activation='relu', padding='same', \n",
        "                           kernel_regularizer=tf.keras.regularizers.l2(reg_lambda)),\n",
        "    tf.keras.layers.Conv2D(64, (3, 3), activation='relu', padding='same', \n",
        "                           kernel_regularizer=tf.keras.regularizers.l2(reg_lambda)),\n",
        "    tf.keras.layers.MaxPooling2D((2, 2)),\n",
        "    \n",
        "    #VGG block 3\n",
        "    tf.keras.layers.Conv2D(128, (3, 3), activation='relu', padding='same', \n",
        "                           kernel_regularizer=tf.keras.regularizers.l2(reg_lambda)),\n",
        "    tf.keras.layers.Conv2D(128, (3, 3), activation='relu', padding='same', \n",
        "                           kernel_regularizer=tf.keras.regularizers.l2(reg_lambda)),\n",
        "    tf.keras.layers.MaxPooling2D((2, 2)),\n",
        "    \n",
        "    tf.keras.layers.Flatten(),\n",
        "    tf.keras.layers.Dense(128, activation='relu'),\n",
        "    tf.keras.layers.Dropout(.5),\n",
        "    tf.keras.layers.Dense(OUTPUT_CLASSES),\n",
        "])"
      ],
      "id": "N-buMyr1hHKs",
      "execution_count": null,
      "outputs": []
    },
    {
      "cell_type": "code",
      "metadata": {
        "id": "dLm75GRwhHNv"
      },
      "source": [
        "cell_model_VGG_2.compile(optimizer='adam',\n",
        "              loss=tf.keras.losses.CategoricalCrossentropy(from_logits=True),\n",
        "              metrics=['categorical_accuracy'])"
      ],
      "id": "dLm75GRwhHNv",
      "execution_count": null,
      "outputs": []
    },
    {
      "cell_type": "code",
      "metadata": {
        "colab": {
          "base_uri": "https://localhost:8080/",
          "height": 388
        },
        "id": "J57dl4o_hHQd",
        "outputId": "b0a22b00-2302-40d9-fc0b-3160a238b96f"
      },
      "source": [
        "history_VGG_2 = cell_model_VGG_2.fit_generator(cell_train_generator, validation_data = cell_validation_generator, epochs=100, verbose=0)\n",
        "\n",
        "plot_learning_curve(history_VGG_2.history['loss'], history_VGG_2.history['val_loss'], \n",
        "                    history_VGG_2.history['categorical_accuracy'], history_VGG_2.history['val_categorical_accuracy'], \n",
        "                    metric_name='Accuracy')"
      ],
      "id": "J57dl4o_hHQd",
      "execution_count": null,
      "outputs": [
        {
          "output_type": "stream",
          "text": [
            "/usr/local/lib/python3.7/dist-packages/tensorflow/python/keras/engine/training.py:1940: UserWarning: `Model.fit_generator` is deprecated and will be removed in a future version. Please use `Model.fit`, which supports generators.\n",
            "  warnings.warn('`Model.fit_generator` is deprecated and '\n"
          ],
          "name": "stderr"
        },
        {
          "output_type": "display_data",
          "data": {
            "image/png": "[encoded data removed]",
            "text/plain": [
              "<Figure size 720x360 with 2 Axes>"
            ]
          },
          "metadata": {
            "tags": [],
            "needs_background": "light"
          }
        }
      ]
    },
    {
      "cell_type": "markdown",
      "metadata": {
        "id": "R4JvMVNujPLd"
      },
      "source": [
        "## Data Augmentation"
      ],
      "id": "R4JvMVNujPLd"
    },
    {
      "cell_type": "code",
      "metadata": {
        "colab": {
          "base_uri": "https://localhost:8080/"
        },
        "id": "CFopFSZihHTP",
        "outputId": "0653de7d-4171-4231-e468-f7cfcceef9ca"
      },
      "source": [
        "\n",
        "train_data['cellType'] = train_data['cellType'].astype('str')\n",
        "val_data['cellType'] = val_data['cellType'].astype('str')\n",
        "from tensorflow.keras.preprocessing.image import ImageDataGenerator\n",
        "cell_train_datagen = ImageDataGenerator(rescale=1./255, data_format='channels_last',\n",
        "                                   rotation_range=15, width_shift_range=0.2,\n",
        "                                   height_shift_range=0.2, brightness_range=[0.5,1.5])\n",
        "cell_val_datagen = ImageDataGenerator(rescale=1./255, data_format='channels_last')\n",
        "\n",
        "batch_size = 27\n",
        "\n",
        "cell_train_generator = cell_train_datagen.flow_from_dataframe(\n",
        "        dataframe=train_data,\n",
        "        directory='/content/patch_images',\n",
        "        x_col=\"ImageName\",\n",
        "        y_col=\"cellType\",\n",
        "        target_size=(27, 27),\n",
        "        batch_size=batch_size,\n",
        "        class_mode='categorical')\n",
        "\n",
        "cell_validation_generator = cell_val_datagen.flow_from_dataframe(\n",
        "        dataframe=val_data,\n",
        "        directory='/content/patch_images',\n",
        "        x_col=\"ImageName\",\n",
        "        y_col=\"cellType\",\n",
        "        target_size=(27, 27),\n",
        "        batch_size=batch_size,\n",
        "        class_mode='categorical')\n",
        "\n",
        "\n"
      ],
      "id": "CFopFSZihHTP",
      "execution_count": null,
      "outputs": [
        {
          "output_type": "stream",
          "text": [
            "Found 5937 validated image filenames belonging to 4 classes.\n",
            "Found 1979 validated image filenames belonging to 4 classes.\n"
          ],
          "name": "stdout"
        }
      ]
    },
    {
      "cell_type": "code",
      "metadata": {
        "id": "OB633YaUkANW"
      },
      "source": [
        "reg_lambda = 0.001\n",
        "\n",
        "cell_model_VGG_3 = tf.keras.Sequential([\n",
        "    #VGG block 1\n",
        "    tf.keras.layers.Conv2D(32, (3, 3), activation='relu', padding='same', \n",
        "                           kernel_regularizer=tf.keras.regularizers.l2(reg_lambda), input_shape=(27, 27, 3)),\n",
        "    tf.keras.layers.Conv2D(32, (3, 3), activation='relu', padding='same', \n",
        "                           kernel_regularizer=tf.keras.regularizers.l2(reg_lambda)),\n",
        "    tf.keras.layers.MaxPooling2D((2, 2)),\n",
        "    \n",
        "    #VGG block 2\n",
        "    tf.keras.layers.Conv2D(64, (3, 3), activation='relu', padding='same', \n",
        "                           kernel_regularizer=tf.keras.regularizers.l2(reg_lambda)),\n",
        "    tf.keras.layers.Conv2D(64, (3, 3), activation='relu', padding='same', \n",
        "                           kernel_regularizer=tf.keras.regularizers.l2(reg_lambda)),\n",
        "    tf.keras.layers.MaxPooling2D((2, 2)),\n",
        "    \n",
        "    #VGG block 3\n",
        "    tf.keras.layers.Conv2D(128, (3, 3), activation='relu', padding='same', \n",
        "                           kernel_regularizer=tf.keras.regularizers.l2(reg_lambda)),\n",
        "    tf.keras.layers.Conv2D(128, (3, 3), activation='relu', padding='same', \n",
        "                           kernel_regularizer=tf.keras.regularizers.l2(reg_lambda)),\n",
        "    tf.keras.layers.MaxPooling2D((2, 2)),\n",
        "    \n",
        "    \n",
        "    tf.keras.layers.Flatten(),\n",
        "    tf.keras.layers.Dense(128, activation='relu', kernel_regularizer=tf.keras.regularizers.l2(reg_lambda)),\n",
        "    tf.keras.layers.Dense(OUTPUT_CLASSES),\n",
        "])"
      ],
      "id": "OB633YaUkANW",
      "execution_count": null,
      "outputs": []
    },
    {
      "cell_type": "code",
      "metadata": {
        "id": "orejy6gnkAVG"
      },
      "source": [
        "cell_model_VGG_3.compile(optimizer='adam',\n",
        "              loss=tf.keras.losses.CategoricalCrossentropy(from_logits=True),\n",
        "              metrics=['categorical_accuracy'])"
      ],
      "id": "orejy6gnkAVG",
      "execution_count": null,
      "outputs": []
    },
    {
      "cell_type": "code",
      "metadata": {
        "colab": {
          "base_uri": "https://localhost:8080/",
          "height": 390
        },
        "id": "AZwhu48fkAYb",
        "outputId": "23f0a93d-505d-4aba-fbea-0757cb83e6b8"
      },
      "source": [
        "cell_history_VGG_3 = cell_model_VGG_3.fit_generator(cell_train_generator, validation_data = cell_validation_generator, epochs=100, verbose=0)\n",
        "\n",
        "plot_learning_curve(cell_history_VGG_3.history['loss'], cell_history_VGG_3.history['val_loss'], \n",
        "                    cell_history_VGG_3.history['categorical_accuracy'], cell_history_VGG_3.history['val_categorical_accuracy'], \n",
        "                    metric_name='Accuracy')"
      ],
      "id": "AZwhu48fkAYb",
      "execution_count": null,
      "outputs": [
        {
          "output_type": "stream",
          "text": [
            "/usr/local/lib/python3.7/dist-packages/tensorflow/python/keras/engine/training.py:1940: UserWarning: `Model.fit_generator` is deprecated and will be removed in a future version. Please use `Model.fit`, which supports generators.\n",
            "  warnings.warn('`Model.fit_generator` is deprecated and '\n"
          ],
          "name": "stderr"
        },
        {
          "output_type": "display_data",
          "data": {
            "image/png": "[encoded data removed]",
            "text/plain": [
              "<Figure size 720x360 with 2 Axes>"
            ]
          },
          "metadata": {
            "tags": [],
            "needs_background": "light"
          }
        }
      ]
    },
    {
      "cell_type": "code",
      "metadata": {
        "colab": {
          "base_uri": "https://localhost:8080/"
        },
        "id": "5xrFzZfV_33L",
        "outputId": "04f09af0-cdb0-4158-8037-224248992c6b"
      },
      "source": [
        "cell_model_VGG_3.summary()\n",
        "    "
      ],
      "id": "5xrFzZfV_33L",
      "execution_count": null,
      "outputs": [
        {
          "output_type": "stream",
          "text": [
            "Model: \"sequential_15\"\n",
            "_________________________________________________________________\n",
            "Layer (type)                 Output Shape              Param #   \n",
            "=================================================================\n",
            "conv2d_66 (Conv2D)           (None, 27, 27, 32)        896       \n",
            "_________________________________________________________________\n",
            "conv2d_67 (Conv2D)           (None, 27, 27, 32)        9248      \n",
            "_________________________________________________________________\n",
            "max_pooling2d_33 (MaxPooling (None, 13, 13, 32)        0         \n",
            "_________________________________________________________________\n",
            "conv2d_68 (Conv2D)           (None, 13, 13, 64)        18496     \n",
            "_________________________________________________________________\n",
            "conv2d_69 (Conv2D)           (None, 13, 13, 64)        36928     \n",
            "_________________________________________________________________\n",
            "max_pooling2d_34 (MaxPooling (None, 6, 6, 64)          0         \n",
            "_________________________________________________________________\n",
            "conv2d_70 (Conv2D)           (None, 6, 6, 128)         73856     \n",
            "_________________________________________________________________\n",
            "conv2d_71 (Conv2D)           (None, 6, 6, 128)         147584    \n",
            "_________________________________________________________________\n",
            "max_pooling2d_35 (MaxPooling (None, 3, 3, 128)         0         \n",
            "_________________________________________________________________\n",
            "flatten_15 (Flatten)         (None, 1152)              0         \n",
            "_________________________________________________________________\n",
            "dense_30 (Dense)             (None, 128)               147584    \n",
            "_________________________________________________________________\n",
            "dense_31 (Dense)             (None, 4)                 516       \n",
            "=================================================================\n",
            "Total params: 435,108\n",
            "Trainable params: 435,108\n",
            "Non-trainable params: 0\n",
            "_________________________________________________________________\n"
          ],
          "name": "stdout"
        }
      ]
    },
    {
      "cell_type": "markdown",
      "metadata": {
        "id": "e2uP5TZinb3y"
      },
      "source": [
        "# Save the Model"
      ],
      "id": "e2uP5TZinb3y"
    },
    {
      "cell_type": "code",
      "metadata": {
        "colab": {
          "base_uri": "https://localhost:8080/"
        },
        "id": "j_4lduoGnfE9",
        "outputId": "28857b14-5afe-4627-8462-e9bb10adc4d0"
      },
      "source": [
        "cell_model_VGG_3.save(\"cell_model_VGG_3\")"
      ],
      "id": "j_4lduoGnfE9",
      "execution_count": null,
      "outputs": [
        {
          "output_type": "stream",
          "text": [
            "INFO:tensorflow:Assets written to: cell_model_VGG_3/assets\n"
          ],
          "name": "stdout"
        }
      ]
    },
    {
      "cell_type": "code",
      "metadata": {
        "id": "DIVAfJDan8bn"
      },
      "source": [
        "!cp -R ./cell_model_VGG_3 /content/drive/'My Drive'/CML-Assignment2/"
      ],
      "id": "DIVAfJDan8bn",
      "execution_count": null,
      "outputs": []
    },
    {
      "cell_type": "markdown",
      "metadata": {
        "id": "6zPmXmKY8IfL"
      },
      "source": [
        "## Test Our model "
      ],
      "id": "6zPmXmKY8IfL"
    },
    {
      "cell_type": "code",
      "metadata": {
        "colab": {
          "base_uri": "https://localhost:8080/"
        },
        "id": "Vtc89Fnf8I3f",
        "outputId": "de72b65b-d3d9-4e90-c6b7-43b703992d2d"
      },
      "source": [
        "test_data['cellType'] = test_data['cellType'].astype('str')\n",
        "\n",
        "cell_test_datagen = ImageDataGenerator(rescale=1./255, data_format='channels_last')\n",
        "\n",
        "batch_size = 1\n",
        "\n",
        "cell_test_generator = cell_test_datagen.flow_from_dataframe(\n",
        "        dataframe=test_data,\n",
        "        directory='/content/patch_images',\n",
        "        x_col=\"ImageName\",\n",
        "        y_col=\"cellType\",\n",
        "        target_size=(27, 27),\n",
        "        batch_size=batch_size,\n",
        "        class_mode='categorical')"
      ],
      "id": "Vtc89Fnf8I3f",
      "execution_count": null,
      "outputs": [
        {
          "output_type": "stream",
          "text": [
            "Found 1980 validated image filenames belonging to 4 classes.\n"
          ],
          "name": "stdout"
        },
        {
          "output_type": "stream",
          "text": [
            "/usr/local/lib/python3.7/dist-packages/ipykernel_launcher.py:1: SettingWithCopyWarning: \n",
            "A value is trying to be set on a copy of a slice from a DataFrame.\n",
            "Try using .loc[row_indexer,col_indexer] = value instead\n",
            "\n",
            "See the caveats in the documentation: https://pandas.pydata.org/pandas-docs/stable/user_guide/indexing.html#returning-a-view-versus-a-copy\n",
            "  \"\"\"Entry point for launching an IPython kernel.\n"
          ],
          "name": "stderr"
        }
      ]
    },
    {
      "cell_type": "code",
      "metadata": {
        "colab": {
          "base_uri": "https://localhost:8080/"
        },
        "id": "DGhUqoKe8hnw",
        "outputId": "7418c8a1-5295-47e9-ccb6-a476793aa0dc"
      },
      "source": [
        "cell_model_VGG_3.evaluate(cell_test_generator)"
      ],
      "id": "DGhUqoKe8hnw",
      "execution_count": null,
      "outputs": [
        {
          "output_type": "stream",
          "text": [
            "1980/1980 [==============================] - 6s 3ms/step - loss: 0.7622 - categorical_accuracy: 0.7429\n"
          ],
          "name": "stdout"
        },
        {
          "output_type": "execute_result",
          "data": {
            "text/plain": [
              "[0.7621614933013916, 0.7429292798042297]"
            ]
          },
          "metadata": {
            "tags": []
          },
          "execution_count": 117
        }
      ]
    },
    {
      "cell_type": "code",
      "metadata": {
        "id": "0_yiIMfb8hqp"
      },
      "source": [
        "label_names = {'fibroblast': 0, 'inflammatory':1, 'epithelial': 2, 'others':3}"
      ],
      "id": "0_yiIMfb8hqp",
      "execution_count": null,
      "outputs": []
    },
    {
      "cell_type": "code",
      "metadata": {
        "colab": {
          "base_uri": "https://localhost:8080/",
          "height": 201
        },
        "id": "g9SUacFT8htj",
        "outputId": "04954a2c-5cdd-41cf-a651-5695634b5278"
      },
      "source": [
        "d_inv = {v: k for k, v in label_names.items()}\n",
        "plt.figure(figsize=(16,4))\n",
        "batches = 0\n",
        "for x,y in cell_test_generator:\n",
        "        batches = batches + 1\n",
        "        y_hat = cell_model.predict(x, verbose=0)\n",
        "        x = np.squeeze(x)\n",
        "        if batches < 5:\n",
        "            plt.subplot(1,5,batches)\n",
        "            plt.imshow(x)\n",
        "            plt.title(\"GT-{}, Pred-{}\".format(d_inv[np.argmax(y[0])], d_inv[np.argmax(y_hat[0])] ))\n",
        "            \n",
        "        else:\n",
        "            break\n",
        "        \n",
        "        plt.axis('off')"
      ],
      "id": "g9SUacFT8htj",
      "execution_count": null,
      "outputs": [
        {
          "output_type": "display_data",
          "data": {
            "image/png": "[encoded data removed]",
            "text/plain": [
              "<Figure size 1152x288 with 4 Axes>"
            ]
          },
          "metadata": {
            "tags": [],
            "needs_background": "light"
          }
        }
      ]
    },
    {
      "cell_type": "code",
      "metadata": {
        "colab": {
          "base_uri": "https://localhost:8080/"
        },
        "id": "hiqHSkyS8vb7",
        "outputId": "9eb14e4b-4cd2-4251-c103-d89f377dea82"
      },
      "source": [
        "cell_model.save(\"predict_celltype\")"
      ],
      "id": "hiqHSkyS8vb7",
      "execution_count": null,
      "outputs": [
        {
          "output_type": "stream",
          "text": [
            "WARNING:tensorflow:Compiled the loaded model, but the compiled metrics have yet to be built. `model.compile_metrics` will be empty until you train or evaluate the model.\n",
            "INFO:tensorflow:Assets written to: predict_celltype/assets\n"
          ],
          "name": "stdout"
        }
      ]
    },
    {
      "cell_type": "code",
      "metadata": {
        "id": "MXHnTCDKNSuB"
      },
      "source": [
        ""
      ],
      "id": "MXHnTCDKNSuB",
      "execution_count": null,
      "outputs": []
    }
  ]
}