{
  "nbformat": 4,
  "nbformat_minor": 5,
  "metadata": {
    "accelerator": "GPU",
    "colab": {
      "name": "Final_Task1.ipynb",
      "provenance": [],
      "collapsed_sections": [],
      "toc_visible": true,
      "include_colab_link": true
    },
    "kernelspec": {
      "display_name": "Python 3",
      "language": "python",
      "name": "python3"
    },
    "language_info": {
      "codemirror_mode": {
        "name": "ipython",
        "version": 3
      },
      "file_extension": ".py",
      "mimetype": "text/x-python",
      "name": "python",
      "nbconvert_exporter": "python",
      "pygments_lexer": "ipython3",
      "version": "3.6.13"
    }
  },
  "cells": [
    {
      "cell_type": "markdown",
      "metadata": {
        "id": "view-in-github",
        "colab_type": "text"
      },
      "source": [
        "<a href=\"https://colab.research.google.com/github/ngkarthi71/colon-cancer-analysis/blob/final-_task-_one/Final_Task1.ipynb\" target=\"_parent\"><img src=\"https://colab.research.google.com/assets/colab-badge.svg\" alt=\"Open In Colab\"/></a>"
      ]
    },
    {
      "cell_type": "markdown",
      "metadata": {
        "id": "6897c6bf"
      },
      "source": [
        "# Reading the given Data Set"
      ],
      "id": "6897c6bf"
    },
    {
      "cell_type": "code",
      "metadata": {
        "colab": {
          "base_uri": "https://localhost:8080/"
        },
        "id": "A0Uv1RBNbStG",
        "outputId": "30a6993e-df42-4b27-cac1-4f486a7abf35"
      },
      "source": [
        "from google.colab import drive\n",
        "drive.mount('/content/drive')"
      ],
      "id": "A0Uv1RBNbStG",
      "execution_count": 56,
      "outputs": [
        {
          "output_type": "stream",
          "text": [
            "Drive already mounted at /content/drive; to attempt to forcibly remount, call drive.mount(\"/content/drive\", force_remount=True).\n"
          ],
          "name": "stdout"
        }
      ]
    },
    {
      "cell_type": "code",
      "metadata": {
        "colab": {
          "base_uri": "https://localhost:8080/"
        },
        "id": "Q_JqEdZ6bo17",
        "outputId": "4d8c07c9-964d-41d9-9f97-31a0d6e9361a"
      },
      "source": [
        "!ls /content/drive/'My Drive'/CML-Assignment2/"
      ],
      "id": "Q_JqEdZ6bo17",
      "execution_count": 57,
      "outputs": [
        {
          "output_type": "stream",
          "text": [
            "cell_model_VGG_3\t     Image_classification_data.zip  model_VGG_3\n",
            "colon_cancer_analysis.ipynb  latest.ipynb\t\t    task1.ipynb\n"
          ],
          "name": "stdout"
        }
      ]
    },
    {
      "cell_type": "code",
      "metadata": {
        "colab": {
          "base_uri": "https://localhost:8080/"
        },
        "id": "hu4Z8u7ba2ev",
        "outputId": "a643aa87-ad22-4896-e9f7-e2d7069cc238"
      },
      "source": [
        "!cp /content/drive/'My Drive'/CML-Assignment2/Image_classification_data.zip .\n",
        "!unzip -q -o Image_classification_data.zip\n",
        "!rm Image_classification_data.zip\n",
        "!ls"
      ],
      "id": "hu4Z8u7ba2ev",
      "execution_count": 58,
      "outputs": [
        {
          "output_type": "stream",
          "text": [
            "data_labels_extraData.csv  detect_cancer  __MACOSX   model_VGG_3   sample_data\n",
            "data_labels_mainData.csv   drive\t  model.png  patch_images\n"
          ],
          "name": "stdout"
        }
      ]
    },
    {
      "cell_type": "markdown",
      "metadata": {
        "id": "FWXlU04eii0J"
      },
      "source": [
        "# Importing the needed Packages"
      ],
      "id": "FWXlU04eii0J"
    },
    {
      "cell_type": "code",
      "metadata": {
        "id": "63489e7f"
      },
      "source": [
        "import numpy as np\n",
        "\n",
        "import pandas as pd\n",
        "import matplotlib.pyplot as plt\n",
        "import matplotlib.patches as patches\n",
        "import os\n",
        "import cv2 as cv\n",
        "\n",
        "import IPython.display as display\n",
        "from PIL import Image\n",
        "from sklearn.model_selection import GridSearchCV\n",
        "\n",
        "from skimage.transform import resize\n",
        "from skimage.io import imread\n",
        "import warnings;\n",
        "warnings.simplefilter('ignore')\n"
      ],
      "id": "63489e7f",
      "execution_count": 59,
      "outputs": []
    },
    {
      "cell_type": "markdown",
      "metadata": {
        "id": "e1Ot8g75ir1v"
      },
      "source": [
        "# Loading the Data set "
      ],
      "id": "e1Ot8g75ir1v"
    },
    {
      "cell_type": "code",
      "metadata": {
        "id": "6822f05f"
      },
      "source": [
        "cancer=pd.read_csv('data_labels_mainData.csv')"
      ],
      "id": "6822f05f",
      "execution_count": 60,
      "outputs": []
    },
    {
      "cell_type": "code",
      "metadata": {
        "colab": {
          "base_uri": "https://localhost:8080/",
          "height": 204
        },
        "id": "1956ae4e",
        "outputId": "8cfdd51b-42ff-49b0-c41b-3a31e8b07977"
      },
      "source": [
        "cancer.head(5)"
      ],
      "id": "1956ae4e",
      "execution_count": 61,
      "outputs": [
        {
          "output_type": "execute_result",
          "data": {
            "text/html": [
              "<div>\n",
              "<style scoped>\n",
              "    .dataframe tbody tr th:only-of-type {\n",
              "        vertical-align: middle;\n",
              "    }\n",
              "\n",
              "    .dataframe tbody tr th {\n",
              "        vertical-align: top;\n",
              "    }\n",
              "\n",
              "    .dataframe thead th {\n",
              "        text-align: right;\n",
              "    }\n",
              "</style>\n",
              "<table border=\"1\" class=\"dataframe\">\n",
              "  <thead>\n",
              "    <tr style=\"text-align: right;\">\n",
              "      <th></th>\n",
              "      <th>InstanceID</th>\n",
              "      <th>patientID</th>\n",
              "      <th>ImageName</th>\n",
              "      <th>cellTypeName</th>\n",
              "      <th>cellType</th>\n",
              "      <th>isCancerous</th>\n",
              "    </tr>\n",
              "  </thead>\n",
              "  <tbody>\n",
              "    <tr>\n",
              "      <th>0</th>\n",
              "      <td>22405</td>\n",
              "      <td>1</td>\n",
              "      <td>22405.png</td>\n",
              "      <td>fibroblast</td>\n",
              "      <td>0</td>\n",
              "      <td>0</td>\n",
              "    </tr>\n",
              "    <tr>\n",
              "      <th>1</th>\n",
              "      <td>22406</td>\n",
              "      <td>1</td>\n",
              "      <td>22406.png</td>\n",
              "      <td>fibroblast</td>\n",
              "      <td>0</td>\n",
              "      <td>0</td>\n",
              "    </tr>\n",
              "    <tr>\n",
              "      <th>2</th>\n",
              "      <td>22407</td>\n",
              "      <td>1</td>\n",
              "      <td>22407.png</td>\n",
              "      <td>fibroblast</td>\n",
              "      <td>0</td>\n",
              "      <td>0</td>\n",
              "    </tr>\n",
              "    <tr>\n",
              "      <th>3</th>\n",
              "      <td>22408</td>\n",
              "      <td>1</td>\n",
              "      <td>22408.png</td>\n",
              "      <td>fibroblast</td>\n",
              "      <td>0</td>\n",
              "      <td>0</td>\n",
              "    </tr>\n",
              "    <tr>\n",
              "      <th>4</th>\n",
              "      <td>22409</td>\n",
              "      <td>1</td>\n",
              "      <td>22409.png</td>\n",
              "      <td>fibroblast</td>\n",
              "      <td>0</td>\n",
              "      <td>0</td>\n",
              "    </tr>\n",
              "  </tbody>\n",
              "</table>\n",
              "</div>"
            ],
            "text/plain": [
              "   InstanceID  patientID  ImageName cellTypeName  cellType  isCancerous\n",
              "0       22405          1  22405.png   fibroblast         0            0\n",
              "1       22406          1  22406.png   fibroblast         0            0\n",
              "2       22407          1  22407.png   fibroblast         0            0\n",
              "3       22408          1  22408.png   fibroblast         0            0\n",
              "4       22409          1  22409.png   fibroblast         0            0"
            ]
          },
          "metadata": {
            "tags": []
          },
          "execution_count": 61
        }
      ]
    },
    {
      "cell_type": "markdown",
      "metadata": {
        "id": "tY_pH_MIi6bQ"
      },
      "source": [
        "# Data Exploration"
      ],
      "id": "tY_pH_MIi6bQ"
    },
    {
      "cell_type": "code",
      "metadata": {
        "colab": {
          "base_uri": "https://localhost:8080/"
        },
        "id": "mkOJOgGrjDEo",
        "outputId": "f6affd43-5670-4e3f-c62d-83a4452e0d63"
      },
      "source": [
        "cancer.dtypes"
      ],
      "id": "mkOJOgGrjDEo",
      "execution_count": 62,
      "outputs": [
        {
          "output_type": "execute_result",
          "data": {
            "text/plain": [
              "InstanceID       int64\n",
              "patientID        int64\n",
              "ImageName       object\n",
              "cellTypeName    object\n",
              "cellType         int64\n",
              "isCancerous      int64\n",
              "dtype: object"
            ]
          },
          "metadata": {
            "tags": []
          },
          "execution_count": 62
        }
      ]
    },
    {
      "cell_type": "code",
      "metadata": {
        "colab": {
          "base_uri": "https://localhost:8080/"
        },
        "id": "4zQl2oLBjDHm",
        "outputId": "ec996665-cc39-4a5e-a92d-1c9602aae15c"
      },
      "source": [
        "cancer.isnull().sum()"
      ],
      "id": "4zQl2oLBjDHm",
      "execution_count": 63,
      "outputs": [
        {
          "output_type": "execute_result",
          "data": {
            "text/plain": [
              "InstanceID      0\n",
              "patientID       0\n",
              "ImageName       0\n",
              "cellTypeName    0\n",
              "cellType        0\n",
              "isCancerous     0\n",
              "dtype: int64"
            ]
          },
          "metadata": {
            "tags": []
          },
          "execution_count": 63
        }
      ]
    },
    {
      "cell_type": "code",
      "metadata": {
        "colab": {
          "base_uri": "https://localhost:8080/"
        },
        "id": "XqR3bWecAag-",
        "outputId": "9db5ff7c-7aa2-4818-df30-9cf07305e94c"
      },
      "source": [
        "cancer.isCancerous.value_counts()"
      ],
      "id": "XqR3bWecAag-",
      "execution_count": 64,
      "outputs": [
        {
          "output_type": "execute_result",
          "data": {
            "text/plain": [
              "0    5817\n",
              "1    4079\n",
              "Name: isCancerous, dtype: int64"
            ]
          },
          "metadata": {
            "tags": []
          },
          "execution_count": 64
        }
      ]
    },
    {
      "cell_type": "code",
      "metadata": {
        "colab": {
          "base_uri": "https://localhost:8080/",
          "height": 266
        },
        "id": "evJ3eC9aAajv",
        "outputId": "f7dc6f04-fa3e-494f-9660-9b5b46d83b93"
      },
      "source": [
        "cancer.isCancerous.hist()\n",
        "plt.show()"
      ],
      "id": "evJ3eC9aAajv",
      "execution_count": 65,
      "outputs": [
        {
          "output_type": "display_data",
          "data": {
            "image/png": "[encoded data removed]",
            "text/plain": [
              "<Figure size 432x288 with 1 Axes>"
            ]
          },
          "metadata": {
            "tags": [],
            "needs_background": "light"
          }
        }
      ]
    },
    {
      "cell_type": "markdown",
      "metadata": {
        "id": "GAKybysXgjNs"
      },
      "source": [
        "## Stochastic Gradient Descent model - Traditional machine learning algorithm"
      ],
      "id": "GAKybysXgjNs"
    },
    {
      "cell_type": "markdown",
      "metadata": {
        "id": "xwnGdUGoQ73y"
      },
      "source": [
        "Data Reshaping :flattening images into image array in order to proceed with the algorithm"
      ],
      "id": "xwnGdUGoQ73y"
    },
    {
      "cell_type": "markdown",
      "metadata": {
        "id": "GpwhfhzIXRyE"
      },
      "source": [
        ""
      ],
      "id": "GpwhfhzIXRyE"
    },
    {
      "cell_type": "code",
      "metadata": {
        "colab": {
          "base_uri": "https://localhost:8080/",
          "height": 439
        },
        "id": "fE4z6h-TNWfr",
        "outputId": "582de327-bae5-438c-f8d7-3a8c4623e77e"
      },
      "source": [
        "flat_data_arr=[]\n",
        "target_arr=[]\n",
        "\n",
        "for img in cancer['ImageName']:\n",
        "    path = \"/content/patch_images/\" + img\n",
        "    image_arr = cv.imread(path)\n",
        "    #print(image_arr)\n",
        "    img_resized=resize(image_arr,(27, 27, 3))\n",
        "    flat_data_arr.append(img_resized.flatten())\n",
        "    target_arr.append(cancer.loc[cancer['ImageName'] == img].isCancerous)\n",
        "flat_data=np.array(flat_data_arr)\n",
        "target=np.array(target_arr)\n",
        "df=pd.DataFrame(flat_data_arr)\n",
        "df['Target']=target\n",
        "df"
      ],
      "id": "fE4z6h-TNWfr",
      "execution_count": 66,
      "outputs": [
        {
          "output_type": "execute_result",
          "data": {
            "text/html": [
              "<div>\n",
              "<style scoped>\n",
              "    .dataframe tbody tr th:only-of-type {\n",
              "        vertical-align: middle;\n",
              "    }\n",
              "\n",
              "    .dataframe tbody tr th {\n",
              "        vertical-align: top;\n",
              "    }\n",
              "\n",
              "    .dataframe thead th {\n",
              "        text-align: right;\n",
              "    }\n",
              "</style>\n",
              "<table border=\"1\" class=\"dataframe\">\n",
              "  <thead>\n",
              "    <tr style=\"text-align: right;\">\n",
              "      <th></th>\n",
              "      <th>0</th>\n",
              "      <th>1</th>\n",
              "      <th>2</th>\n",
              "      <th>3</th>\n",
              "      <th>4</th>\n",
              "      <th>5</th>\n",
              "      <th>6</th>\n",
              "      <th>7</th>\n",
              "      <th>8</th>\n",
              "      <th>9</th>\n",
              "      <th>10</th>\n",
              "      <th>11</th>\n",
              "      <th>12</th>\n",
              "      <th>13</th>\n",
              "      <th>14</th>\n",
              "      <th>15</th>\n",
              "      <th>16</th>\n",
              "      <th>17</th>\n",
              "      <th>18</th>\n",
              "      <th>19</th>\n",
              "      <th>20</th>\n",
              "      <th>21</th>\n",
              "      <th>22</th>\n",
              "      <th>23</th>\n",
              "      <th>24</th>\n",
              "      <th>25</th>\n",
              "      <th>26</th>\n",
              "      <th>27</th>\n",
              "      <th>28</th>\n",
              "      <th>29</th>\n",
              "      <th>30</th>\n",
              "      <th>31</th>\n",
              "      <th>32</th>\n",
              "      <th>33</th>\n",
              "      <th>34</th>\n",
              "      <th>35</th>\n",
              "      <th>36</th>\n",
              "      <th>37</th>\n",
              "      <th>38</th>\n",
              "      <th>39</th>\n",
              "      <th>...</th>\n",
              "      <th>2148</th>\n",
              "      <th>2149</th>\n",
              "      <th>2150</th>\n",
              "      <th>2151</th>\n",
              "      <th>2152</th>\n",
              "      <th>2153</th>\n",
              "      <th>2154</th>\n",
              "      <th>2155</th>\n",
              "      <th>2156</th>\n",
              "      <th>2157</th>\n",
              "      <th>2158</th>\n",
              "      <th>2159</th>\n",
              "      <th>2160</th>\n",
              "      <th>2161</th>\n",
              "      <th>2162</th>\n",
              "      <th>2163</th>\n",
              "      <th>2164</th>\n",
              "      <th>2165</th>\n",
              "      <th>2166</th>\n",
              "      <th>2167</th>\n",
              "      <th>2168</th>\n",
              "      <th>2169</th>\n",
              "      <th>2170</th>\n",
              "      <th>2171</th>\n",
              "      <th>2172</th>\n",
              "      <th>2173</th>\n",
              "      <th>2174</th>\n",
              "      <th>2175</th>\n",
              "      <th>2176</th>\n",
              "      <th>2177</th>\n",
              "      <th>2178</th>\n",
              "      <th>2179</th>\n",
              "      <th>2180</th>\n",
              "      <th>2181</th>\n",
              "      <th>2182</th>\n",
              "      <th>2183</th>\n",
              "      <th>2184</th>\n",
              "      <th>2185</th>\n",
              "      <th>2186</th>\n",
              "      <th>Target</th>\n",
              "    </tr>\n",
              "  </thead>\n",
              "  <tbody>\n",
              "    <tr>\n",
              "      <th>0</th>\n",
              "      <td>0.929412</td>\n",
              "      <td>0.835294</td>\n",
              "      <td>0.949020</td>\n",
              "      <td>0.913725</td>\n",
              "      <td>0.819608</td>\n",
              "      <td>0.937255</td>\n",
              "      <td>0.898039</td>\n",
              "      <td>0.803922</td>\n",
              "      <td>0.921569</td>\n",
              "      <td>0.890196</td>\n",
              "      <td>0.792157</td>\n",
              "      <td>0.913725</td>\n",
              "      <td>0.929412</td>\n",
              "      <td>0.827451</td>\n",
              "      <td>0.949020</td>\n",
              "      <td>0.945098</td>\n",
              "      <td>0.839216</td>\n",
              "      <td>0.960784</td>\n",
              "      <td>0.941176</td>\n",
              "      <td>0.831373</td>\n",
              "      <td>0.956863</td>\n",
              "      <td>0.925490</td>\n",
              "      <td>0.811765</td>\n",
              "      <td>0.941176</td>\n",
              "      <td>0.905882</td>\n",
              "      <td>0.784314</td>\n",
              "      <td>0.917647</td>\n",
              "      <td>0.886275</td>\n",
              "      <td>0.764706</td>\n",
              "      <td>0.894118</td>\n",
              "      <td>0.858824</td>\n",
              "      <td>0.733333</td>\n",
              "      <td>0.870588</td>\n",
              "      <td>0.858824</td>\n",
              "      <td>0.737255</td>\n",
              "      <td>0.874510</td>\n",
              "      <td>0.854902</td>\n",
              "      <td>0.733333</td>\n",
              "      <td>0.874510</td>\n",
              "      <td>0.854902</td>\n",
              "      <td>...</td>\n",
              "      <td>0.803922</td>\n",
              "      <td>0.647059</td>\n",
              "      <td>0.843137</td>\n",
              "      <td>0.847059</td>\n",
              "      <td>0.690196</td>\n",
              "      <td>0.886275</td>\n",
              "      <td>0.909804</td>\n",
              "      <td>0.749020</td>\n",
              "      <td>0.937255</td>\n",
              "      <td>0.925490</td>\n",
              "      <td>0.760784</td>\n",
              "      <td>0.949020</td>\n",
              "      <td>0.909804</td>\n",
              "      <td>0.745098</td>\n",
              "      <td>0.933333</td>\n",
              "      <td>0.921569</td>\n",
              "      <td>0.756863</td>\n",
              "      <td>0.949020</td>\n",
              "      <td>0.945098</td>\n",
              "      <td>0.780392</td>\n",
              "      <td>0.972549</td>\n",
              "      <td>0.941176</td>\n",
              "      <td>0.776471</td>\n",
              "      <td>0.972549</td>\n",
              "      <td>0.913725</td>\n",
              "      <td>0.745098</td>\n",
              "      <td>0.941176</td>\n",
              "      <td>0.874510</td>\n",
              "      <td>0.705882</td>\n",
              "      <td>0.901961</td>\n",
              "      <td>0.760784</td>\n",
              "      <td>0.592157</td>\n",
              "      <td>0.788235</td>\n",
              "      <td>0.686275</td>\n",
              "      <td>0.517647</td>\n",
              "      <td>0.709804</td>\n",
              "      <td>0.745098</td>\n",
              "      <td>0.576471</td>\n",
              "      <td>0.764706</td>\n",
              "      <td>0</td>\n",
              "    </tr>\n",
              "    <tr>\n",
              "      <th>1</th>\n",
              "      <td>0.827451</td>\n",
              "      <td>0.686275</td>\n",
              "      <td>0.866667</td>\n",
              "      <td>0.827451</td>\n",
              "      <td>0.686275</td>\n",
              "      <td>0.878431</td>\n",
              "      <td>0.858824</td>\n",
              "      <td>0.721569</td>\n",
              "      <td>0.913725</td>\n",
              "      <td>0.854902</td>\n",
              "      <td>0.717647</td>\n",
              "      <td>0.901961</td>\n",
              "      <td>0.921569</td>\n",
              "      <td>0.784314</td>\n",
              "      <td>0.964706</td>\n",
              "      <td>1.000000</td>\n",
              "      <td>0.858824</td>\n",
              "      <td>1.000000</td>\n",
              "      <td>0.925490</td>\n",
              "      <td>0.776471</td>\n",
              "      <td>0.949020</td>\n",
              "      <td>0.894118</td>\n",
              "      <td>0.733333</td>\n",
              "      <td>0.905882</td>\n",
              "      <td>0.847059</td>\n",
              "      <td>0.682353</td>\n",
              "      <td>0.854902</td>\n",
              "      <td>0.874510</td>\n",
              "      <td>0.705882</td>\n",
              "      <td>0.874510</td>\n",
              "      <td>0.890196</td>\n",
              "      <td>0.733333</td>\n",
              "      <td>0.890196</td>\n",
              "      <td>0.870588</td>\n",
              "      <td>0.729412</td>\n",
              "      <td>0.878431</td>\n",
              "      <td>0.803922</td>\n",
              "      <td>0.682353</td>\n",
              "      <td>0.815686</td>\n",
              "      <td>0.850980</td>\n",
              "      <td>...</td>\n",
              "      <td>0.898039</td>\n",
              "      <td>0.784314</td>\n",
              "      <td>0.984314</td>\n",
              "      <td>0.925490</td>\n",
              "      <td>0.811765</td>\n",
              "      <td>0.992157</td>\n",
              "      <td>0.901961</td>\n",
              "      <td>0.811765</td>\n",
              "      <td>0.984314</td>\n",
              "      <td>0.866667</td>\n",
              "      <td>0.796078</td>\n",
              "      <td>0.960784</td>\n",
              "      <td>0.894118</td>\n",
              "      <td>0.819608</td>\n",
              "      <td>0.976471</td>\n",
              "      <td>0.945098</td>\n",
              "      <td>0.866667</td>\n",
              "      <td>1.000000</td>\n",
              "      <td>0.972549</td>\n",
              "      <td>0.886275</td>\n",
              "      <td>1.000000</td>\n",
              "      <td>0.949020</td>\n",
              "      <td>0.858824</td>\n",
              "      <td>0.980392</td>\n",
              "      <td>0.921569</td>\n",
              "      <td>0.831373</td>\n",
              "      <td>0.952941</td>\n",
              "      <td>0.937255</td>\n",
              "      <td>0.843137</td>\n",
              "      <td>0.968627</td>\n",
              "      <td>0.905882</td>\n",
              "      <td>0.811765</td>\n",
              "      <td>0.941176</td>\n",
              "      <td>0.933333</td>\n",
              "      <td>0.835294</td>\n",
              "      <td>0.968627</td>\n",
              "      <td>0.956863</td>\n",
              "      <td>0.858824</td>\n",
              "      <td>0.992157</td>\n",
              "      <td>0</td>\n",
              "    </tr>\n",
              "    <tr>\n",
              "      <th>2</th>\n",
              "      <td>0.968627</td>\n",
              "      <td>0.952941</td>\n",
              "      <td>0.968627</td>\n",
              "      <td>0.964706</td>\n",
              "      <td>0.949020</td>\n",
              "      <td>0.972549</td>\n",
              "      <td>0.956863</td>\n",
              "      <td>0.937255</td>\n",
              "      <td>0.968627</td>\n",
              "      <td>0.945098</td>\n",
              "      <td>0.917647</td>\n",
              "      <td>0.960784</td>\n",
              "      <td>0.949020</td>\n",
              "      <td>0.909804</td>\n",
              "      <td>0.960784</td>\n",
              "      <td>0.952941</td>\n",
              "      <td>0.894118</td>\n",
              "      <td>0.956863</td>\n",
              "      <td>0.933333</td>\n",
              "      <td>0.858824</td>\n",
              "      <td>0.933333</td>\n",
              "      <td>0.905882</td>\n",
              "      <td>0.815686</td>\n",
              "      <td>0.898039</td>\n",
              "      <td>0.854902</td>\n",
              "      <td>0.737255</td>\n",
              "      <td>0.835294</td>\n",
              "      <td>0.827451</td>\n",
              "      <td>0.686275</td>\n",
              "      <td>0.796078</td>\n",
              "      <td>0.815686</td>\n",
              "      <td>0.650980</td>\n",
              "      <td>0.772549</td>\n",
              "      <td>0.807843</td>\n",
              "      <td>0.623529</td>\n",
              "      <td>0.756863</td>\n",
              "      <td>0.776471</td>\n",
              "      <td>0.584314</td>\n",
              "      <td>0.725490</td>\n",
              "      <td>0.772549</td>\n",
              "      <td>...</td>\n",
              "      <td>0.713725</td>\n",
              "      <td>0.462745</td>\n",
              "      <td>0.647059</td>\n",
              "      <td>0.705882</td>\n",
              "      <td>0.435294</td>\n",
              "      <td>0.627451</td>\n",
              "      <td>0.721569</td>\n",
              "      <td>0.443137</td>\n",
              "      <td>0.639216</td>\n",
              "      <td>0.717647</td>\n",
              "      <td>0.431373</td>\n",
              "      <td>0.631373</td>\n",
              "      <td>0.705882</td>\n",
              "      <td>0.415686</td>\n",
              "      <td>0.619608</td>\n",
              "      <td>0.682353</td>\n",
              "      <td>0.384314</td>\n",
              "      <td>0.592157</td>\n",
              "      <td>0.584314</td>\n",
              "      <td>0.290196</td>\n",
              "      <td>0.498039</td>\n",
              "      <td>0.619608</td>\n",
              "      <td>0.325490</td>\n",
              "      <td>0.537255</td>\n",
              "      <td>0.643137</td>\n",
              "      <td>0.356863</td>\n",
              "      <td>0.568627</td>\n",
              "      <td>0.619608</td>\n",
              "      <td>0.341176</td>\n",
              "      <td>0.552941</td>\n",
              "      <td>0.686275</td>\n",
              "      <td>0.419608</td>\n",
              "      <td>0.635294</td>\n",
              "      <td>0.784314</td>\n",
              "      <td>0.529412</td>\n",
              "      <td>0.745098</td>\n",
              "      <td>0.764706</td>\n",
              "      <td>0.529412</td>\n",
              "      <td>0.745098</td>\n",
              "      <td>0</td>\n",
              "    </tr>\n",
              "    <tr>\n",
              "      <th>3</th>\n",
              "      <td>0.949020</td>\n",
              "      <td>0.949020</td>\n",
              "      <td>0.952941</td>\n",
              "      <td>0.945098</td>\n",
              "      <td>0.945098</td>\n",
              "      <td>0.952941</td>\n",
              "      <td>0.945098</td>\n",
              "      <td>0.945098</td>\n",
              "      <td>0.952941</td>\n",
              "      <td>0.949020</td>\n",
              "      <td>0.949020</td>\n",
              "      <td>0.952941</td>\n",
              "      <td>0.952941</td>\n",
              "      <td>0.949020</td>\n",
              "      <td>0.952941</td>\n",
              "      <td>0.956863</td>\n",
              "      <td>0.952941</td>\n",
              "      <td>0.956863</td>\n",
              "      <td>0.956863</td>\n",
              "      <td>0.952941</td>\n",
              "      <td>0.956863</td>\n",
              "      <td>0.956863</td>\n",
              "      <td>0.952941</td>\n",
              "      <td>0.956863</td>\n",
              "      <td>0.952941</td>\n",
              "      <td>0.949020</td>\n",
              "      <td>0.952941</td>\n",
              "      <td>0.952941</td>\n",
              "      <td>0.945098</td>\n",
              "      <td>0.952941</td>\n",
              "      <td>0.952941</td>\n",
              "      <td>0.945098</td>\n",
              "      <td>0.952941</td>\n",
              "      <td>0.956863</td>\n",
              "      <td>0.945098</td>\n",
              "      <td>0.952941</td>\n",
              "      <td>0.956863</td>\n",
              "      <td>0.945098</td>\n",
              "      <td>0.952941</td>\n",
              "      <td>0.960784</td>\n",
              "      <td>...</td>\n",
              "      <td>0.909804</td>\n",
              "      <td>0.858824</td>\n",
              "      <td>0.933333</td>\n",
              "      <td>0.886275</td>\n",
              "      <td>0.831373</td>\n",
              "      <td>0.909804</td>\n",
              "      <td>0.913725</td>\n",
              "      <td>0.858824</td>\n",
              "      <td>0.937255</td>\n",
              "      <td>0.956863</td>\n",
              "      <td>0.898039</td>\n",
              "      <td>0.976471</td>\n",
              "      <td>0.949020</td>\n",
              "      <td>0.890196</td>\n",
              "      <td>0.972549</td>\n",
              "      <td>0.937255</td>\n",
              "      <td>0.866667</td>\n",
              "      <td>0.952941</td>\n",
              "      <td>0.913725</td>\n",
              "      <td>0.831373</td>\n",
              "      <td>0.929412</td>\n",
              "      <td>0.945098</td>\n",
              "      <td>0.850980</td>\n",
              "      <td>0.952941</td>\n",
              "      <td>0.960784</td>\n",
              "      <td>0.850980</td>\n",
              "      <td>0.960784</td>\n",
              "      <td>0.949020</td>\n",
              "      <td>0.827451</td>\n",
              "      <td>0.945098</td>\n",
              "      <td>0.956863</td>\n",
              "      <td>0.827451</td>\n",
              "      <td>0.949020</td>\n",
              "      <td>0.988235</td>\n",
              "      <td>0.854902</td>\n",
              "      <td>0.972549</td>\n",
              "      <td>0.866667</td>\n",
              "      <td>0.729412</td>\n",
              "      <td>0.847059</td>\n",
              "      <td>0</td>\n",
              "    </tr>\n",
              "    <tr>\n",
              "      <th>4</th>\n",
              "      <td>0.741176</td>\n",
              "      <td>0.509804</td>\n",
              "      <td>0.741176</td>\n",
              "      <td>0.721569</td>\n",
              "      <td>0.494118</td>\n",
              "      <td>0.729412</td>\n",
              "      <td>0.717647</td>\n",
              "      <td>0.494118</td>\n",
              "      <td>0.733333</td>\n",
              "      <td>0.729412</td>\n",
              "      <td>0.509804</td>\n",
              "      <td>0.745098</td>\n",
              "      <td>0.776471</td>\n",
              "      <td>0.568627</td>\n",
              "      <td>0.792157</td>\n",
              "      <td>0.784314</td>\n",
              "      <td>0.603922</td>\n",
              "      <td>0.811765</td>\n",
              "      <td>0.788235</td>\n",
              "      <td>0.627451</td>\n",
              "      <td>0.823529</td>\n",
              "      <td>0.756863</td>\n",
              "      <td>0.580392</td>\n",
              "      <td>0.788235</td>\n",
              "      <td>0.662745</td>\n",
              "      <td>0.458824</td>\n",
              "      <td>0.686275</td>\n",
              "      <td>0.721569</td>\n",
              "      <td>0.501961</td>\n",
              "      <td>0.713725</td>\n",
              "      <td>0.874510</td>\n",
              "      <td>0.650980</td>\n",
              "      <td>0.839216</td>\n",
              "      <td>0.850980</td>\n",
              "      <td>0.627451</td>\n",
              "      <td>0.803922</td>\n",
              "      <td>0.878431</td>\n",
              "      <td>0.650980</td>\n",
              "      <td>0.835294</td>\n",
              "      <td>0.858824</td>\n",
              "      <td>...</td>\n",
              "      <td>0.960784</td>\n",
              "      <td>0.929412</td>\n",
              "      <td>0.964706</td>\n",
              "      <td>0.976471</td>\n",
              "      <td>0.952941</td>\n",
              "      <td>0.984314</td>\n",
              "      <td>0.972549</td>\n",
              "      <td>0.949020</td>\n",
              "      <td>0.976471</td>\n",
              "      <td>0.964706</td>\n",
              "      <td>0.945098</td>\n",
              "      <td>0.972549</td>\n",
              "      <td>0.952941</td>\n",
              "      <td>0.933333</td>\n",
              "      <td>0.960784</td>\n",
              "      <td>0.952941</td>\n",
              "      <td>0.933333</td>\n",
              "      <td>0.960784</td>\n",
              "      <td>0.949020</td>\n",
              "      <td>0.937255</td>\n",
              "      <td>0.956863</td>\n",
              "      <td>0.941176</td>\n",
              "      <td>0.937255</td>\n",
              "      <td>0.952941</td>\n",
              "      <td>0.937255</td>\n",
              "      <td>0.933333</td>\n",
              "      <td>0.949020</td>\n",
              "      <td>0.941176</td>\n",
              "      <td>0.937255</td>\n",
              "      <td>0.952941</td>\n",
              "      <td>0.945098</td>\n",
              "      <td>0.937255</td>\n",
              "      <td>0.952941</td>\n",
              "      <td>0.949020</td>\n",
              "      <td>0.937255</td>\n",
              "      <td>0.956863</td>\n",
              "      <td>0.956863</td>\n",
              "      <td>0.941176</td>\n",
              "      <td>0.956863</td>\n",
              "      <td>0</td>\n",
              "    </tr>\n",
              "    <tr>\n",
              "      <th>...</th>\n",
              "      <td>...</td>\n",
              "      <td>...</td>\n",
              "      <td>...</td>\n",
              "      <td>...</td>\n",
              "      <td>...</td>\n",
              "      <td>...</td>\n",
              "      <td>...</td>\n",
              "      <td>...</td>\n",
              "      <td>...</td>\n",
              "      <td>...</td>\n",
              "      <td>...</td>\n",
              "      <td>...</td>\n",
              "      <td>...</td>\n",
              "      <td>...</td>\n",
              "      <td>...</td>\n",
              "      <td>...</td>\n",
              "      <td>...</td>\n",
              "      <td>...</td>\n",
              "      <td>...</td>\n",
              "      <td>...</td>\n",
              "      <td>...</td>\n",
              "      <td>...</td>\n",
              "      <td>...</td>\n",
              "      <td>...</td>\n",
              "      <td>...</td>\n",
              "      <td>...</td>\n",
              "      <td>...</td>\n",
              "      <td>...</td>\n",
              "      <td>...</td>\n",
              "      <td>...</td>\n",
              "      <td>...</td>\n",
              "      <td>...</td>\n",
              "      <td>...</td>\n",
              "      <td>...</td>\n",
              "      <td>...</td>\n",
              "      <td>...</td>\n",
              "      <td>...</td>\n",
              "      <td>...</td>\n",
              "      <td>...</td>\n",
              "      <td>...</td>\n",
              "      <td>...</td>\n",
              "      <td>...</td>\n",
              "      <td>...</td>\n",
              "      <td>...</td>\n",
              "      <td>...</td>\n",
              "      <td>...</td>\n",
              "      <td>...</td>\n",
              "      <td>...</td>\n",
              "      <td>...</td>\n",
              "      <td>...</td>\n",
              "      <td>...</td>\n",
              "      <td>...</td>\n",
              "      <td>...</td>\n",
              "      <td>...</td>\n",
              "      <td>...</td>\n",
              "      <td>...</td>\n",
              "      <td>...</td>\n",
              "      <td>...</td>\n",
              "      <td>...</td>\n",
              "      <td>...</td>\n",
              "      <td>...</td>\n",
              "      <td>...</td>\n",
              "      <td>...</td>\n",
              "      <td>...</td>\n",
              "      <td>...</td>\n",
              "      <td>...</td>\n",
              "      <td>...</td>\n",
              "      <td>...</td>\n",
              "      <td>...</td>\n",
              "      <td>...</td>\n",
              "      <td>...</td>\n",
              "      <td>...</td>\n",
              "      <td>...</td>\n",
              "      <td>...</td>\n",
              "      <td>...</td>\n",
              "      <td>...</td>\n",
              "      <td>...</td>\n",
              "      <td>...</td>\n",
              "      <td>...</td>\n",
              "      <td>...</td>\n",
              "      <td>...</td>\n",
              "    </tr>\n",
              "    <tr>\n",
              "      <th>9891</th>\n",
              "      <td>0.705882</td>\n",
              "      <td>0.541176</td>\n",
              "      <td>0.670588</td>\n",
              "      <td>0.894118</td>\n",
              "      <td>0.729412</td>\n",
              "      <td>0.850980</td>\n",
              "      <td>1.000000</td>\n",
              "      <td>0.878431</td>\n",
              "      <td>0.988235</td>\n",
              "      <td>0.905882</td>\n",
              "      <td>0.764706</td>\n",
              "      <td>0.866667</td>\n",
              "      <td>0.823529</td>\n",
              "      <td>0.658824</td>\n",
              "      <td>0.760784</td>\n",
              "      <td>0.827451</td>\n",
              "      <td>0.647059</td>\n",
              "      <td>0.749020</td>\n",
              "      <td>0.925490</td>\n",
              "      <td>0.776471</td>\n",
              "      <td>0.874510</td>\n",
              "      <td>0.980392</td>\n",
              "      <td>0.874510</td>\n",
              "      <td>0.964706</td>\n",
              "      <td>1.000000</td>\n",
              "      <td>0.956863</td>\n",
              "      <td>1.000000</td>\n",
              "      <td>0.992157</td>\n",
              "      <td>0.960784</td>\n",
              "      <td>0.992157</td>\n",
              "      <td>0.996078</td>\n",
              "      <td>0.933333</td>\n",
              "      <td>0.996078</td>\n",
              "      <td>0.898039</td>\n",
              "      <td>0.768627</td>\n",
              "      <td>0.866667</td>\n",
              "      <td>0.823529</td>\n",
              "      <td>0.686275</td>\n",
              "      <td>0.800000</td>\n",
              "      <td>0.811765</td>\n",
              "      <td>...</td>\n",
              "      <td>0.850980</td>\n",
              "      <td>0.650980</td>\n",
              "      <td>0.827451</td>\n",
              "      <td>0.905882</td>\n",
              "      <td>0.713725</td>\n",
              "      <td>0.886275</td>\n",
              "      <td>0.878431</td>\n",
              "      <td>0.694118</td>\n",
              "      <td>0.858824</td>\n",
              "      <td>0.827451</td>\n",
              "      <td>0.643137</td>\n",
              "      <td>0.803922</td>\n",
              "      <td>0.772549</td>\n",
              "      <td>0.596078</td>\n",
              "      <td>0.749020</td>\n",
              "      <td>0.823529</td>\n",
              "      <td>0.650980</td>\n",
              "      <td>0.800000</td>\n",
              "      <td>0.858824</td>\n",
              "      <td>0.670588</td>\n",
              "      <td>0.823529</td>\n",
              "      <td>0.862745</td>\n",
              "      <td>0.654902</td>\n",
              "      <td>0.815686</td>\n",
              "      <td>0.815686</td>\n",
              "      <td>0.611765</td>\n",
              "      <td>0.776471</td>\n",
              "      <td>0.772549</td>\n",
              "      <td>0.584314</td>\n",
              "      <td>0.741176</td>\n",
              "      <td>0.811765</td>\n",
              "      <td>0.631373</td>\n",
              "      <td>0.776471</td>\n",
              "      <td>0.811765</td>\n",
              "      <td>0.647059</td>\n",
              "      <td>0.776471</td>\n",
              "      <td>0.905882</td>\n",
              "      <td>0.803922</td>\n",
              "      <td>0.921569</td>\n",
              "      <td>1</td>\n",
              "    </tr>\n",
              "    <tr>\n",
              "      <th>9892</th>\n",
              "      <td>0.894118</td>\n",
              "      <td>0.678431</td>\n",
              "      <td>0.831373</td>\n",
              "      <td>0.811765</td>\n",
              "      <td>0.568627</td>\n",
              "      <td>0.725490</td>\n",
              "      <td>0.713725</td>\n",
              "      <td>0.486275</td>\n",
              "      <td>0.643137</td>\n",
              "      <td>0.756863</td>\n",
              "      <td>0.556863</td>\n",
              "      <td>0.713725</td>\n",
              "      <td>0.847059</td>\n",
              "      <td>0.662745</td>\n",
              "      <td>0.823529</td>\n",
              "      <td>0.858824</td>\n",
              "      <td>0.690196</td>\n",
              "      <td>0.850980</td>\n",
              "      <td>0.772549</td>\n",
              "      <td>0.615686</td>\n",
              "      <td>0.768627</td>\n",
              "      <td>0.847059</td>\n",
              "      <td>0.698039</td>\n",
              "      <td>0.843137</td>\n",
              "      <td>0.956863</td>\n",
              "      <td>0.819608</td>\n",
              "      <td>0.949020</td>\n",
              "      <td>0.960784</td>\n",
              "      <td>0.831373</td>\n",
              "      <td>0.952941</td>\n",
              "      <td>0.937255</td>\n",
              "      <td>0.800000</td>\n",
              "      <td>0.929412</td>\n",
              "      <td>0.933333</td>\n",
              "      <td>0.784314</td>\n",
              "      <td>0.929412</td>\n",
              "      <td>0.968627</td>\n",
              "      <td>0.807843</td>\n",
              "      <td>0.968627</td>\n",
              "      <td>0.898039</td>\n",
              "      <td>...</td>\n",
              "      <td>0.898039</td>\n",
              "      <td>0.835294</td>\n",
              "      <td>0.898039</td>\n",
              "      <td>0.898039</td>\n",
              "      <td>0.843137</td>\n",
              "      <td>0.905882</td>\n",
              "      <td>0.890196</td>\n",
              "      <td>0.835294</td>\n",
              "      <td>0.898039</td>\n",
              "      <td>0.886275</td>\n",
              "      <td>0.831373</td>\n",
              "      <td>0.894118</td>\n",
              "      <td>0.890196</td>\n",
              "      <td>0.831373</td>\n",
              "      <td>0.898039</td>\n",
              "      <td>0.898039</td>\n",
              "      <td>0.831373</td>\n",
              "      <td>0.901961</td>\n",
              "      <td>0.894118</td>\n",
              "      <td>0.819608</td>\n",
              "      <td>0.894118</td>\n",
              "      <td>0.890196</td>\n",
              "      <td>0.811765</td>\n",
              "      <td>0.890196</td>\n",
              "      <td>0.898039</td>\n",
              "      <td>0.811765</td>\n",
              "      <td>0.898039</td>\n",
              "      <td>0.901961</td>\n",
              "      <td>0.811765</td>\n",
              "      <td>0.905882</td>\n",
              "      <td>0.894118</td>\n",
              "      <td>0.800000</td>\n",
              "      <td>0.901961</td>\n",
              "      <td>0.886275</td>\n",
              "      <td>0.788235</td>\n",
              "      <td>0.894118</td>\n",
              "      <td>0.925490</td>\n",
              "      <td>0.823529</td>\n",
              "      <td>0.929412</td>\n",
              "      <td>1</td>\n",
              "    </tr>\n",
              "    <tr>\n",
              "      <th>9893</th>\n",
              "      <td>0.756863</td>\n",
              "      <td>0.552941</td>\n",
              "      <td>0.686275</td>\n",
              "      <td>0.819608</td>\n",
              "      <td>0.658824</td>\n",
              "      <td>0.768627</td>\n",
              "      <td>0.870588</td>\n",
              "      <td>0.737255</td>\n",
              "      <td>0.839216</td>\n",
              "      <td>0.929412</td>\n",
              "      <td>0.792157</td>\n",
              "      <td>0.901961</td>\n",
              "      <td>0.890196</td>\n",
              "      <td>0.733333</td>\n",
              "      <td>0.862745</td>\n",
              "      <td>0.803922</td>\n",
              "      <td>0.635294</td>\n",
              "      <td>0.780392</td>\n",
              "      <td>0.839216</td>\n",
              "      <td>0.654902</td>\n",
              "      <td>0.815686</td>\n",
              "      <td>0.792157</td>\n",
              "      <td>0.600000</td>\n",
              "      <td>0.764706</td>\n",
              "      <td>0.772549</td>\n",
              "      <td>0.580392</td>\n",
              "      <td>0.745098</td>\n",
              "      <td>0.745098</td>\n",
              "      <td>0.556863</td>\n",
              "      <td>0.717647</td>\n",
              "      <td>0.760784</td>\n",
              "      <td>0.572549</td>\n",
              "      <td>0.729412</td>\n",
              "      <td>0.823529</td>\n",
              "      <td>0.639216</td>\n",
              "      <td>0.788235</td>\n",
              "      <td>0.925490</td>\n",
              "      <td>0.741176</td>\n",
              "      <td>0.890196</td>\n",
              "      <td>0.984314</td>\n",
              "      <td>...</td>\n",
              "      <td>0.694118</td>\n",
              "      <td>0.509804</td>\n",
              "      <td>0.670588</td>\n",
              "      <td>0.815686</td>\n",
              "      <td>0.627451</td>\n",
              "      <td>0.792157</td>\n",
              "      <td>0.874510</td>\n",
              "      <td>0.686275</td>\n",
              "      <td>0.854902</td>\n",
              "      <td>0.925490</td>\n",
              "      <td>0.745098</td>\n",
              "      <td>0.913725</td>\n",
              "      <td>0.894118</td>\n",
              "      <td>0.713725</td>\n",
              "      <td>0.882353</td>\n",
              "      <td>0.909804</td>\n",
              "      <td>0.698039</td>\n",
              "      <td>0.870588</td>\n",
              "      <td>0.752941</td>\n",
              "      <td>0.513725</td>\n",
              "      <td>0.686275</td>\n",
              "      <td>0.737255</td>\n",
              "      <td>0.505882</td>\n",
              "      <td>0.674510</td>\n",
              "      <td>0.741176</td>\n",
              "      <td>0.521569</td>\n",
              "      <td>0.682353</td>\n",
              "      <td>0.643137</td>\n",
              "      <td>0.423529</td>\n",
              "      <td>0.580392</td>\n",
              "      <td>0.733333</td>\n",
              "      <td>0.517647</td>\n",
              "      <td>0.662745</td>\n",
              "      <td>0.854902</td>\n",
              "      <td>0.694118</td>\n",
              "      <td>0.819608</td>\n",
              "      <td>0.945098</td>\n",
              "      <td>0.803922</td>\n",
              "      <td>0.917647</td>\n",
              "      <td>1</td>\n",
              "    </tr>\n",
              "    <tr>\n",
              "      <th>9894</th>\n",
              "      <td>0.909804</td>\n",
              "      <td>0.792157</td>\n",
              "      <td>0.890196</td>\n",
              "      <td>0.756863</td>\n",
              "      <td>0.572549</td>\n",
              "      <td>0.690196</td>\n",
              "      <td>0.768627</td>\n",
              "      <td>0.572549</td>\n",
              "      <td>0.717647</td>\n",
              "      <td>0.811765</td>\n",
              "      <td>0.615686</td>\n",
              "      <td>0.780392</td>\n",
              "      <td>0.815686</td>\n",
              "      <td>0.596078</td>\n",
              "      <td>0.776471</td>\n",
              "      <td>0.776471</td>\n",
              "      <td>0.541176</td>\n",
              "      <td>0.725490</td>\n",
              "      <td>0.780392</td>\n",
              "      <td>0.533333</td>\n",
              "      <td>0.721569</td>\n",
              "      <td>0.827451</td>\n",
              "      <td>0.572549</td>\n",
              "      <td>0.768627</td>\n",
              "      <td>0.811765</td>\n",
              "      <td>0.556863</td>\n",
              "      <td>0.756863</td>\n",
              "      <td>0.811765</td>\n",
              "      <td>0.560784</td>\n",
              "      <td>0.760784</td>\n",
              "      <td>0.878431</td>\n",
              "      <td>0.635294</td>\n",
              "      <td>0.839216</td>\n",
              "      <td>0.886275</td>\n",
              "      <td>0.650980</td>\n",
              "      <td>0.850980</td>\n",
              "      <td>0.850980</td>\n",
              "      <td>0.619608</td>\n",
              "      <td>0.823529</td>\n",
              "      <td>0.909804</td>\n",
              "      <td>...</td>\n",
              "      <td>0.670588</td>\n",
              "      <td>0.462745</td>\n",
              "      <td>0.623529</td>\n",
              "      <td>0.796078</td>\n",
              "      <td>0.596078</td>\n",
              "      <td>0.749020</td>\n",
              "      <td>0.976471</td>\n",
              "      <td>0.768627</td>\n",
              "      <td>0.925490</td>\n",
              "      <td>0.941176</td>\n",
              "      <td>0.733333</td>\n",
              "      <td>0.886275</td>\n",
              "      <td>0.929412</td>\n",
              "      <td>0.733333</td>\n",
              "      <td>0.874510</td>\n",
              "      <td>0.854902</td>\n",
              "      <td>0.666667</td>\n",
              "      <td>0.796078</td>\n",
              "      <td>0.866667</td>\n",
              "      <td>0.658824</td>\n",
              "      <td>0.784314</td>\n",
              "      <td>0.886275</td>\n",
              "      <td>0.658824</td>\n",
              "      <td>0.784314</td>\n",
              "      <td>0.964706</td>\n",
              "      <td>0.721569</td>\n",
              "      <td>0.843137</td>\n",
              "      <td>0.913725</td>\n",
              "      <td>0.666667</td>\n",
              "      <td>0.784314</td>\n",
              "      <td>1.000000</td>\n",
              "      <td>0.760784</td>\n",
              "      <td>0.890196</td>\n",
              "      <td>0.792157</td>\n",
              "      <td>0.552941</td>\n",
              "      <td>0.694118</td>\n",
              "      <td>0.631373</td>\n",
              "      <td>0.396078</td>\n",
              "      <td>0.545098</td>\n",
              "      <td>1</td>\n",
              "    </tr>\n",
              "    <tr>\n",
              "      <th>9895</th>\n",
              "      <td>0.866667</td>\n",
              "      <td>0.705882</td>\n",
              "      <td>0.819608</td>\n",
              "      <td>1.000000</td>\n",
              "      <td>0.905882</td>\n",
              "      <td>0.988235</td>\n",
              "      <td>1.000000</td>\n",
              "      <td>0.945098</td>\n",
              "      <td>0.988235</td>\n",
              "      <td>1.000000</td>\n",
              "      <td>0.980392</td>\n",
              "      <td>0.996078</td>\n",
              "      <td>0.984314</td>\n",
              "      <td>0.964706</td>\n",
              "      <td>0.976471</td>\n",
              "      <td>0.992157</td>\n",
              "      <td>0.945098</td>\n",
              "      <td>0.972549</td>\n",
              "      <td>0.901961</td>\n",
              "      <td>0.811765</td>\n",
              "      <td>0.870588</td>\n",
              "      <td>0.807843</td>\n",
              "      <td>0.678431</td>\n",
              "      <td>0.768627</td>\n",
              "      <td>0.960784</td>\n",
              "      <td>0.800000</td>\n",
              "      <td>0.913725</td>\n",
              "      <td>0.992157</td>\n",
              "      <td>0.839216</td>\n",
              "      <td>0.949020</td>\n",
              "      <td>0.952941</td>\n",
              "      <td>0.815686</td>\n",
              "      <td>0.913725</td>\n",
              "      <td>0.952941</td>\n",
              "      <td>0.831373</td>\n",
              "      <td>0.921569</td>\n",
              "      <td>0.941176</td>\n",
              "      <td>0.839216</td>\n",
              "      <td>0.913725</td>\n",
              "      <td>0.952941</td>\n",
              "      <td>...</td>\n",
              "      <td>0.941176</td>\n",
              "      <td>0.760784</td>\n",
              "      <td>0.913725</td>\n",
              "      <td>0.901961</td>\n",
              "      <td>0.705882</td>\n",
              "      <td>0.862745</td>\n",
              "      <td>0.831373</td>\n",
              "      <td>0.619608</td>\n",
              "      <td>0.780392</td>\n",
              "      <td>0.729412</td>\n",
              "      <td>0.513725</td>\n",
              "      <td>0.666667</td>\n",
              "      <td>0.729412</td>\n",
              "      <td>0.513725</td>\n",
              "      <td>0.654902</td>\n",
              "      <td>0.847059</td>\n",
              "      <td>0.631373</td>\n",
              "      <td>0.760784</td>\n",
              "      <td>0.925490</td>\n",
              "      <td>0.713725</td>\n",
              "      <td>0.835294</td>\n",
              "      <td>0.733333</td>\n",
              "      <td>0.509804</td>\n",
              "      <td>0.639216</td>\n",
              "      <td>0.776471</td>\n",
              "      <td>0.541176</td>\n",
              "      <td>0.682353</td>\n",
              "      <td>0.752941</td>\n",
              "      <td>0.509804</td>\n",
              "      <td>0.662745</td>\n",
              "      <td>0.682353</td>\n",
              "      <td>0.443137</td>\n",
              "      <td>0.600000</td>\n",
              "      <td>0.843137</td>\n",
              "      <td>0.650980</td>\n",
              "      <td>0.784314</td>\n",
              "      <td>0.941176</td>\n",
              "      <td>0.803922</td>\n",
              "      <td>0.905882</td>\n",
              "      <td>1</td>\n",
              "    </tr>\n",
              "  </tbody>\n",
              "</table>\n",
              "<p>9896 rows × 2188 columns</p>\n",
              "</div>"
            ],
            "text/plain": [
              "             0         1         2  ...      2185      2186  Target\n",
              "0     0.929412  0.835294  0.949020  ...  0.576471  0.764706       0\n",
              "1     0.827451  0.686275  0.866667  ...  0.858824  0.992157       0\n",
              "2     0.968627  0.952941  0.968627  ...  0.529412  0.745098       0\n",
              "3     0.949020  0.949020  0.952941  ...  0.729412  0.847059       0\n",
              "4     0.741176  0.509804  0.741176  ...  0.941176  0.956863       0\n",
              "...        ...       ...       ...  ...       ...       ...     ...\n",
              "9891  0.705882  0.541176  0.670588  ...  0.803922  0.921569       1\n",
              "9892  0.894118  0.678431  0.831373  ...  0.823529  0.929412       1\n",
              "9893  0.756863  0.552941  0.686275  ...  0.803922  0.917647       1\n",
              "9894  0.909804  0.792157  0.890196  ...  0.396078  0.545098       1\n",
              "9895  0.866667  0.705882  0.819608  ...  0.803922  0.905882       1\n",
              "\n",
              "[9896 rows x 2188 columns]"
            ]
          },
          "metadata": {
            "tags": []
          },
          "execution_count": 66
        }
      ]
    },
    {
      "cell_type": "markdown",
      "metadata": {
        "id": "IFDWdOFYhiKC"
      },
      "source": [
        "## Test -Train split"
      ],
      "id": "IFDWdOFYhiKC"
    },
    {
      "cell_type": "code",
      "metadata": {
        "id": "xOT6YdzvQl-P"
      },
      "source": [
        "from sklearn.model_selection import train_test_split"
      ],
      "id": "xOT6YdzvQl-P",
      "execution_count": 67,
      "outputs": []
    },
    {
      "cell_type": "code",
      "metadata": {
        "id": "EuR5C9tyg7KF"
      },
      "source": [
        "x=df.iloc[:,:-1]\n",
        "y=df.iloc[:,-1]\n",
        "x_train,x_test,y_train,y_test=train_test_split(x,y,test_size=0.20,random_state=77,stratify=y)"
      ],
      "id": "EuR5C9tyg7KF",
      "execution_count": 68,
      "outputs": []
    },
    {
      "cell_type": "markdown",
      "metadata": {
        "id": "hpKtAcgQjpUD"
      },
      "source": [
        "## Building an image classfier model using SGDClassifier"
      ],
      "id": "hpKtAcgQjpUD"
    },
    {
      "cell_type": "code",
      "metadata": {
        "colab": {
          "base_uri": "https://localhost:8080/"
        },
        "id": "7vBdYvgZCnus",
        "outputId": "6f543027-7087-4846-ad05-ce931f0ecf98"
      },
      "source": [
        "from sklearn.linear_model import SGDClassifier\n",
        "sgd_clf = SGDClassifier(loss='hinge', random_state=42)\n",
        "sgd_clf.fit(x_train, y_train)"
      ],
      "id": "7vBdYvgZCnus",
      "execution_count": 69,
      "outputs": [
        {
          "output_type": "execute_result",
          "data": {
            "text/plain": [
              "SGDClassifier(alpha=0.0001, average=False, class_weight=None,\n",
              "              early_stopping=False, epsilon=0.1, eta0=0.0, fit_intercept=True,\n",
              "              l1_ratio=0.15, learning_rate='optimal', loss='hinge',\n",
              "              max_iter=1000, n_iter_no_change=5, n_jobs=None, penalty='l2',\n",
              "              power_t=0.5, random_state=42, shuffle=True, tol=0.001,\n",
              "              validation_fraction=0.1, verbose=0, warm_start=False)"
            ]
          },
          "metadata": {
            "tags": []
          },
          "execution_count": 69
        }
      ]
    },
    {
      "cell_type": "code",
      "metadata": {
        "colab": {
          "base_uri": "https://localhost:8080/"
        },
        "id": "2NRr9q_2Cnxv",
        "outputId": "0207186b-cd96-49e4-8967-4a6926a82697"
      },
      "source": [
        "from sklearn.model_selection import cross_val_score\n",
        "cross_val_score(sgd_clf, x_train, y_train, cv=3, scoring='accuracy')"
      ],
      "id": "2NRr9q_2Cnxv",
      "execution_count": 70,
      "outputs": [
        {
          "output_type": "execute_result",
          "data": {
            "text/plain": [
              "array([0.71504358, 0.84350133, 0.85633055])"
            ]
          },
          "metadata": {
            "tags": []
          },
          "execution_count": 70
        }
      ]
    },
    {
      "cell_type": "code",
      "metadata": {
        "colab": {
          "base_uri": "https://localhost:8080/"
        },
        "id": "C7OR-Xi9RAjr",
        "outputId": "65d77d74-1a4e-4797-9a2e-eba1671e3d43"
      },
      "source": [
        "score = sgd_clf.score(x_test, y_test)\n",
        "score"
      ],
      "id": "C7OR-Xi9RAjr",
      "execution_count": 71,
      "outputs": [
        {
          "output_type": "execute_result",
          "data": {
            "text/plain": [
              "0.8570707070707071"
            ]
          },
          "metadata": {
            "tags": []
          },
          "execution_count": 71
        }
      ]
    },
    {
      "cell_type": "markdown",
      "metadata": {
        "id": "oPVDPBgdkSt0"
      },
      "source": [
        "## Fine tuning the model in order to get better accuracy"
      ],
      "id": "oPVDPBgdkSt0"
    },
    {
      "cell_type": "code",
      "metadata": {
        "colab": {
          "base_uri": "https://localhost:8080/"
        },
        "id": "bu0ckMfeRKqS",
        "outputId": "5cdca907-e5db-4a73-b9c3-7c02326f5552"
      },
      "source": [
        "sgd_clf = SGDClassifier(loss='log', random_state=42, \n",
        "                        penalty='l2', alpha=1e-4)\n",
        "sgd_clf.fit(x_train, y_train)"
      ],
      "id": "bu0ckMfeRKqS",
      "execution_count": 72,
      "outputs": [
        {
          "output_type": "execute_result",
          "data": {
            "text/plain": [
              "SGDClassifier(alpha=0.0001, average=False, class_weight=None,\n",
              "              early_stopping=False, epsilon=0.1, eta0=0.0, fit_intercept=True,\n",
              "              l1_ratio=0.15, learning_rate='optimal', loss='log', max_iter=1000,\n",
              "              n_iter_no_change=5, n_jobs=None, penalty='l2', power_t=0.5,\n",
              "              random_state=42, shuffle=True, tol=0.001, validation_fraction=0.1,\n",
              "              verbose=0, warm_start=False)"
            ]
          },
          "metadata": {
            "tags": []
          },
          "execution_count": 72
        }
      ]
    },
    {
      "cell_type": "code",
      "metadata": {
        "colab": {
          "base_uri": "https://localhost:8080/"
        },
        "id": "PxgAwARwRKtQ",
        "outputId": "61f418b9-5d5e-4d95-a925-6cd88cb6a43f"
      },
      "source": [
        "cross_val_score(sgd_clf, x_train, y_train, cv=7, scoring='accuracy')"
      ],
      "id": "PxgAwARwRKtQ",
      "execution_count": 73,
      "outputs": [
        {
          "output_type": "execute_result",
          "data": {
            "text/plain": [
              "array([0.84969054, 0.74889478, 0.78868258, 0.84261715, 0.84350133,\n",
              "       0.85057471, 0.83362832])"
            ]
          },
          "metadata": {
            "tags": []
          },
          "execution_count": 73
        }
      ]
    },
    {
      "cell_type": "code",
      "metadata": {
        "colab": {
          "base_uri": "https://localhost:8080/"
        },
        "id": "1VuMNzcjRKwa",
        "outputId": "d35960b4-4bd9-487b-b788-00deef6b24f8"
      },
      "source": [
        "score = sgd_clf.score(x_test, y_test)\n",
        "score"
      ],
      "id": "1VuMNzcjRKwa",
      "execution_count": 74,
      "outputs": [
        {
          "output_type": "execute_result",
          "data": {
            "text/plain": [
              "0.7141414141414142"
            ]
          },
          "metadata": {
            "tags": []
          },
          "execution_count": 74
        }
      ]
    },
    {
      "cell_type": "markdown",
      "metadata": {
        "id": "TtnIMet-kcA8"
      },
      "source": [
        "# Classic Neural Network Model"
      ],
      "id": "TtnIMet-kcA8"
    },
    {
      "cell_type": "markdown",
      "metadata": {
        "id": "17aa4ece"
      },
      "source": [
        "### Randomly split the given data set"
      ],
      "id": "17aa4ece"
    },
    {
      "cell_type": "code",
      "metadata": {
        "id": "a6b65173"
      },
      "source": [
        "from sklearn.model_selection import train_test_split"
      ],
      "id": "a6b65173",
      "execution_count": 75,
      "outputs": []
    },
    {
      "cell_type": "code",
      "metadata": {
        "colab": {
          "base_uri": "https://localhost:8080/"
        },
        "id": "1593aa5b",
        "outputId": "73cdc3e7-8eca-4f01-f67c-e7a2fcec226f"
      },
      "source": [
        "train_data, test_data = train_test_split(cancer, test_size=0.2, random_state=42)\n",
        "train_data, val_data = train_test_split(train_data, test_size=0.25, random_state=42)\n",
        "\n",
        "print(\"Train data : {}, Val Data: {}, Test Data: {}\".format(train_data.shape[0], val_data.shape[0], test_data.shape[0]))"
      ],
      "id": "1593aa5b",
      "execution_count": 76,
      "outputs": [
        {
          "output_type": "stream",
          "text": [
            "Train data : 5937, Val Data: 1979, Test Data: 1980\n"
          ],
          "name": "stdout"
        }
      ]
    },
    {
      "cell_type": "markdown",
      "metadata": {
        "id": "18259807"
      },
      "source": [
        "# Model development"
      ],
      "id": "18259807"
    },
    {
      "cell_type": "code",
      "metadata": {
        "id": "76d8f66d"
      },
      "source": [
        "import matplotlib.pyplot as plt\n",
        "def plot_learning_curve(train_loss, val_loss, train_metric, val_metric, metric_name='Accuracy'):\n",
        "    plt.figure(figsize=(10,5))\n",
        "    \n",
        "    plt.subplot(1,2,1)\n",
        "    plt.plot(train_loss, 'r--')\n",
        "    plt.plot(val_loss, 'b--')\n",
        "    plt.xlabel(\"epochs\")\n",
        "    plt.ylabel(\"Loss\")\n",
        "    plt.legend(['train', 'val'], loc='upper left')\n",
        "\n",
        "    plt.subplot(1,2,2)\n",
        "    plt.plot(train_metric, 'r--')\n",
        "    plt.plot(val_metric, 'b--')\n",
        "    plt.xlabel(\"epochs\")\n",
        "    plt.ylabel(metric_name)\n",
        "    plt.legend(['train', 'val'], loc='upper left')\n",
        "\n",
        "    plt.show()"
      ],
      "id": "76d8f66d",
      "execution_count": 77,
      "outputs": []
    },
    {
      "cell_type": "code",
      "metadata": {
        "id": "5048ead5"
      },
      "source": [
        "INPUT_DIM = (27,27,3)\n",
        "HIDDEN_LAYER_DIM = 256\n",
        "OUTPUT_CLASSES = 2"
      ],
      "id": "5048ead5",
      "execution_count": 78,
      "outputs": []
    },
    {
      "cell_type": "code",
      "metadata": {
        "colab": {
          "base_uri": "https://localhost:8080/",
          "height": 35
        },
        "id": "cbef3cf6",
        "outputId": "8f805c83-165b-4c54-d5b8-0f883b64bc37"
      },
      "source": [
        "import tensorflow as tf\n",
        "from tensorflow.keras.preprocessing.image import ImageDataGenerator\n",
        "AUTOTUNE = tf.data.experimental.AUTOTUNE\n",
        "\n",
        "tf.__version__"
      ],
      "id": "cbef3cf6",
      "execution_count": 79,
      "outputs": [
        {
          "output_type": "execute_result",
          "data": {
            "application/vnd.google.colaboratory.intrinsic+json": {
              "type": "string"
            },
            "text/plain": [
              "'2.5.0'"
            ]
          },
          "metadata": {
            "tags": []
          },
          "execution_count": 79
        }
      ]
    },
    {
      "cell_type": "code",
      "metadata": {
        "id": "51c7076d"
      },
      "source": [
        "\n",
        "\n",
        "model = tf.keras.Sequential([\n",
        "    tf.keras.layers.Flatten(input_shape=INPUT_DIM),\n",
        "    tf.keras.layers.Dense(HIDDEN_LAYER_DIM, activation='sigmoid'),\n",
        "    tf.keras.layers.Dense(OUTPUT_CLASSES)\n",
        "])"
      ],
      "id": "51c7076d",
      "execution_count": 80,
      "outputs": []
    },
    {
      "cell_type": "code",
      "metadata": {
        "colab": {
          "base_uri": "https://localhost:8080/"
        },
        "id": "6983caa8",
        "outputId": "a06cac4e-0264-4fe5-c146-24222884e663"
      },
      "source": [
        "model.summary()"
      ],
      "id": "6983caa8",
      "execution_count": 81,
      "outputs": [
        {
          "output_type": "stream",
          "text": [
            "Model: \"sequential_4\"\n",
            "_________________________________________________________________\n",
            "Layer (type)                 Output Shape              Param #   \n",
            "=================================================================\n",
            "flatten_4 (Flatten)          (None, 2187)              0         \n",
            "_________________________________________________________________\n",
            "dense_8 (Dense)              (None, 256)               560128    \n",
            "_________________________________________________________________\n",
            "dense_9 (Dense)              (None, 2)                 514       \n",
            "=================================================================\n",
            "Total params: 560,642\n",
            "Trainable params: 560,642\n",
            "Non-trainable params: 0\n",
            "_________________________________________________________________\n"
          ],
          "name": "stdout"
        }
      ]
    },
    {
      "cell_type": "code",
      "metadata": {
        "colab": {
          "base_uri": "https://localhost:8080/",
          "height": 422
        },
        "id": "4d9Sr56HyyDn",
        "outputId": "0365cc58-0fa5-414d-c9f7-8951e8a4c156"
      },
      "source": [
        "tf.keras.utils.plot_model(model, show_shapes=True)"
      ],
      "id": "4d9Sr56HyyDn",
      "execution_count": 82,
      "outputs": [
        {
          "output_type": "execute_result",
          "data": {
            "image/png": "[encoded data removed]",
            "text/plain": [
              "<IPython.core.display.Image object>"
            ]
          },
          "metadata": {
            "tags": []
          },
          "execution_count": 82
        }
      ]
    },
    {
      "cell_type": "code",
      "metadata": {
        "id": "VM7ryT-hlxMI"
      },
      "source": [
        "model.compile(optimizer='SGD',\n",
        "              loss=tf.keras.losses.CategoricalCrossentropy(from_logits=True),\n",
        "              metrics=['categorical_accuracy'])"
      ],
      "id": "VM7ryT-hlxMI",
      "execution_count": 83,
      "outputs": []
    },
    {
      "cell_type": "code",
      "metadata": {
        "id": "xC-ZBw1np-me"
      },
      "source": [
        "train_data['isCancerous'] = train_data['isCancerous'].astype('str')\n",
        "val_data['isCancerous'] = val_data['isCancerous'].astype('str')"
      ],
      "id": "xC-ZBw1np-me",
      "execution_count": 84,
      "outputs": []
    },
    {
      "cell_type": "code",
      "metadata": {
        "colab": {
          "base_uri": "https://localhost:8080/"
        },
        "id": "MLowCTIglxPM",
        "outputId": "e0cfe828-1214-4d19-bcd5-31074657e961"
      },
      "source": [
        "train_datagen = ImageDataGenerator(rescale=1./255, data_format='channels_last')\n",
        "val_datagen = ImageDataGenerator(rescale=1./255, data_format='channels_last')\n",
        "\n",
        "batch_size = 27\n",
        "\n",
        "train_generator = train_datagen.flow_from_dataframe(\n",
        "        dataframe=train_data,\n",
        "        directory='/content/patch_images/',\n",
        "        x_col=\"ImageName\",\n",
        "        y_col=\"isCancerous\",\n",
        "        target_size=(27, 27),\n",
        "        batch_size=batch_size,\n",
        "        class_mode='categorical')\n",
        "\n",
        "validation_generator = val_datagen.flow_from_dataframe(\n",
        "        dataframe=val_data,\n",
        "        directory='/content/patch_images/',\n",
        "        x_col=\"ImageName\",\n",
        "        y_col=\"isCancerous\",\n",
        "        target_size=(27, 27),\n",
        "        batch_size=batch_size,\n",
        "        class_mode='categorical')"
      ],
      "id": "MLowCTIglxPM",
      "execution_count": 85,
      "outputs": [
        {
          "output_type": "stream",
          "text": [
            "Found 5937 validated image filenames belonging to 2 classes.\n",
            "Found 1979 validated image filenames belonging to 2 classes.\n"
          ],
          "name": "stdout"
        }
      ]
    },
    {
      "cell_type": "code",
      "metadata": {
        "colab": {
          "base_uri": "https://localhost:8080/"
        },
        "id": "ud4SDp64lxSM",
        "outputId": "9758043b-70c4-46be-85fe-3e8a9871a150"
      },
      "source": [
        "history = model.fit_generator(train_generator, validation_data = validation_generator, epochs=150,verbose=0)"
      ],
      "id": "ud4SDp64lxSM",
      "execution_count": 86,
      "outputs": [
        {
          "output_type": "stream",
          "text": [
            "/usr/local/lib/python3.7/dist-packages/tensorflow/python/keras/engine/training.py:1940: UserWarning: `Model.fit_generator` is deprecated and will be removed in a future version. Please use `Model.fit`, which supports generators.\n",
            "  warnings.warn('`Model.fit_generator` is deprecated and '\n"
          ],
          "name": "stderr"
        }
      ]
    },
    {
      "cell_type": "code",
      "metadata": {
        "colab": {
          "base_uri": "https://localhost:8080/",
          "height": 334
        },
        "id": "Mr82iAeslxVO",
        "outputId": "f4430057-1369-460b-9d25-b98e058c4365"
      },
      "source": [
        "plot_learning_curve(history.history['loss'], history.history['val_loss'], \n",
        "                    history.history['categorical_accuracy'], history.history['val_categorical_accuracy'], \n",
        "                    metric_name='Accuracy')"
      ],
      "id": "Mr82iAeslxVO",
      "execution_count": 87,
      "outputs": [
        {
          "output_type": "display_data",
          "data": {
            "image/png": "[encoded data removed]",
            "text/plain": [
              "<Figure size 720x360 with 2 Axes>"
            ]
          },
          "metadata": {
            "tags": [],
            "needs_background": "light"
          }
        }
      ]
    },
    {
      "cell_type": "code",
      "metadata": {
        "colab": {
          "base_uri": "https://localhost:8080/"
        },
        "id": "NIdoWFThlxYk",
        "outputId": "7f2ebb21-bcd9-44a8-c7a2-89846f9453d5"
      },
      "source": [
        "model.save(\"detect_cancer\")"
      ],
      "id": "NIdoWFThlxYk",
      "execution_count": 88,
      "outputs": [
        {
          "output_type": "stream",
          "text": [
            "INFO:tensorflow:Assets written to: detect_cancer/assets\n"
          ],
          "name": "stdout"
        }
      ]
    },
    {
      "cell_type": "markdown",
      "metadata": {
        "id": "6NPH_kzTpDAC"
      },
      "source": [
        "# Evaluating the Trained Model"
      ],
      "id": "6NPH_kzTpDAC"
    },
    {
      "cell_type": "code",
      "metadata": {
        "colab": {
          "base_uri": "https://localhost:8080/"
        },
        "id": "KiuaQasclxbj",
        "outputId": "fe454926-9922-4a1f-cdc4-b4d0e37b3ba6"
      },
      "source": [
        "test_data['isCancerous'] = test_data['isCancerous'].astype('str')\n",
        "\n",
        "test_datagen = ImageDataGenerator(rescale=1./255, data_format='channels_last')\n",
        "\n",
        "batch_size = 1\n",
        "\n",
        "test_generator = test_datagen.flow_from_dataframe(\n",
        "        dataframe=test_data,\n",
        "        directory='/content/patch_images/',\n",
        "        x_col=\"ImageName\",\n",
        "        y_col=\"isCancerous\",\n",
        "        target_size=(27, 27),\n",
        "        batch_size=batch_size,\n",
        "        class_mode='categorical')"
      ],
      "id": "KiuaQasclxbj",
      "execution_count": 89,
      "outputs": [
        {
          "output_type": "stream",
          "text": [
            "Found 1980 validated image filenames belonging to 2 classes.\n"
          ],
          "name": "stdout"
        },
        {
          "output_type": "stream",
          "text": [
            "/usr/local/lib/python3.7/dist-packages/ipykernel_launcher.py:1: SettingWithCopyWarning: \n",
            "A value is trying to be set on a copy of a slice from a DataFrame.\n",
            "Try using .loc[row_indexer,col_indexer] = value instead\n",
            "\n",
            "See the caveats in the documentation: https://pandas.pydata.org/pandas-docs/stable/user_guide/indexing.html#returning-a-view-versus-a-copy\n",
            "  \"\"\"Entry point for launching an IPython kernel.\n"
          ],
          "name": "stderr"
        }
      ]
    },
    {
      "cell_type": "code",
      "metadata": {
        "colab": {
          "base_uri": "https://localhost:8080/"
        },
        "id": "n_YJv5A7qldj",
        "outputId": "bfb5c447-7fbe-48f7-da30-99323779da36"
      },
      "source": [
        "model.evaluate(test_generator)"
      ],
      "id": "n_YJv5A7qldj",
      "execution_count": 90,
      "outputs": [
        {
          "output_type": "stream",
          "text": [
            "1980/1980 [==============================] - 5s 2ms/step - loss: 0.3061 - categorical_accuracy: 0.8753\n"
          ],
          "name": "stdout"
        },
        {
          "output_type": "execute_result",
          "data": {
            "text/plain": [
              "[0.30613720417022705, 0.8752525448799133]"
            ]
          },
          "metadata": {
            "tags": []
          },
          "execution_count": 90
        }
      ]
    },
    {
      "cell_type": "code",
      "metadata": {
        "id": "7w813Jv8qlgV"
      },
      "source": [
        "label_names = {'cancer' : 0, 'noCancer' : 1}"
      ],
      "id": "7w813Jv8qlgV",
      "execution_count": 91,
      "outputs": []
    },
    {
      "cell_type": "code",
      "metadata": {
        "colab": {
          "base_uri": "https://localhost:8080/",
          "height": 201
        },
        "id": "8e6nXb2Yqljm",
        "outputId": "6ca163fe-b588-4daa-bf52-4e03b593a8bb"
      },
      "source": [
        "d_inv = {v: k for k, v in label_names.items()}\n",
        "plt.figure(figsize=(16,4))\n",
        "batches = 0\n",
        "for x,y in test_generator:\n",
        "        batches = batches + 1\n",
        "        y_hat = model.predict(x, verbose=0)\n",
        "        x = np.squeeze(x)\n",
        "        if batches < 5:\n",
        "            plt.subplot(1,5,batches)\n",
        "            plt.imshow(x)\n",
        "            plt.title(\"GT-{}, Pred-{}\".format(d_inv[np.argmax(y[0])], d_inv[np.argmax(y_hat[0])] ))\n",
        "            \n",
        "        else:\n",
        "            break\n",
        "        \n",
        "        plt.axis('off')"
      ],
      "id": "8e6nXb2Yqljm",
      "execution_count": 92,
      "outputs": [
        {
          "output_type": "display_data",
          "data": {
            "image/png": "[encoded data removed]",
            "text/plain": [
              "<Figure size 1152x288 with 4 Axes>"
            ]
          },
          "metadata": {
            "tags": [],
            "needs_background": "light"
          }
        }
      ]
    },
    {
      "cell_type": "markdown",
      "metadata": {
        "id": "BTcuD_z7qvAx"
      },
      "source": [
        ""
      ],
      "id": "BTcuD_z7qvAx"
    },
    {
      "cell_type": "markdown",
      "metadata": {
        "id": "ZTs817yfqvO0"
      },
      "source": [
        "# Convolutional Neural Network"
      ],
      "id": "ZTs817yfqvO0"
    },
    {
      "cell_type": "code",
      "metadata": {
        "colab": {
          "base_uri": "https://localhost:8080/"
        },
        "id": "6a86ae88",
        "outputId": "846926a7-7b8f-4c32-f9f6-4d850c58e8dd"
      },
      "source": [
        "train_data['isCancerous'] = train_data['isCancerous'].astype('str')\n",
        "val_data['isCancerous'] = val_data['isCancerous'].astype('str')\n",
        "\n",
        "from tensorflow.keras.preprocessing.image import ImageDataGenerator\n",
        "\n",
        "train_datagen = ImageDataGenerator(rescale=1./255, data_format='channels_last')\n",
        "val_datagen = ImageDataGenerator(rescale=1./255, data_format='channels_last')\n",
        "\n",
        "batch_size = 32\n",
        "\n",
        "train_generator = train_datagen.flow_from_dataframe(\n",
        "        dataframe=train_data,\n",
        "        directory='/content/patch_images',\n",
        "        x_col=\"ImageName\",\n",
        "        y_col=\"isCancerous\",\n",
        "        target_size=(27, 27),\n",
        "        batch_size=batch_size,\n",
        "        class_mode='categorical')\n",
        "\n",
        "validation_generator = val_datagen.flow_from_dataframe(\n",
        "        dataframe=val_data,\n",
        "        directory='/content/patch_images',\n",
        "        x_col=\"ImageName\",\n",
        "        y_col=\"isCancerous\",\n",
        "        target_size=(27,27),\n",
        "        batch_size=batch_size,\n",
        "        class_mode='categorical')"
      ],
      "id": "6a86ae88",
      "execution_count": 131,
      "outputs": [
        {
          "output_type": "stream",
          "text": [
            "Found 5937 validated image filenames belonging to 2 classes.\n",
            "Found 1979 validated image filenames belonging to 2 classes.\n"
          ],
          "name": "stdout"
        }
      ]
    },
    {
      "cell_type": "code",
      "metadata": {
        "id": "6c08ffce-42ae-47b4-8971-3b76081cd231"
      },
      "source": [
        ""
      ],
      "id": "6c08ffce-42ae-47b4-8971-3b76081cd231",
      "execution_count": 131,
      "outputs": []
    },
    {
      "cell_type": "code",
      "metadata": {
        "id": "fa0b6dc8-6584-4e50-943c-ba24157e39c2"
      },
      "source": [
        "\n",
        "\n",
        "model_VGG_1 = tf.keras.Sequential([\n",
        "    #VGG block 1\n",
        "    tf.keras.layers.Conv2D(32, (3, 3), activation='relu', padding='same', input_shape=(27, 27, 3)),\n",
        "    tf.keras.layers.Conv2D(32, (3, 3), activation='relu', padding='same'),\n",
        "    tf.keras.layers.MaxPooling2D((2, 2)),\n",
        "    \n",
        "    #VGG block 2\n",
        "    tf.keras.layers.Conv2D(64, (3, 3), activation='relu', padding='same'),\n",
        "    tf.keras.layers.Conv2D(64, (3, 3), activation='relu', padding='same'),\n",
        "    tf.keras.layers.MaxPooling2D((2, 2)),\n",
        "    \n",
        "    #VGG block 3\n",
        "    tf.keras.layers.Conv2D(128, (3, 3), activation='relu', padding='same'),\n",
        "    tf.keras.layers.Conv2D(128, (3, 3), activation='relu', padding='same'),\n",
        "    tf.keras.layers.MaxPooling2D((2, 2)),\n",
        "    \n",
        "    tf.keras.layers.Flatten(),\n",
        "    tf.keras.layers.Dense(128, activation='relu'),\n",
        "    tf.keras.layers.Dense(OUTPUT_CLASSES),\n",
        "])"
      ],
      "id": "fa0b6dc8-6584-4e50-943c-ba24157e39c2",
      "execution_count": 132,
      "outputs": []
    },
    {
      "cell_type": "code",
      "metadata": {
        "id": "877bdaa6-2595-4cf9-a0e8-b75644a07845"
      },
      "source": [
        "model_VGG_1.compile(optimizer='adam',\n",
        "              loss=tf.keras.losses.CategoricalCrossentropy(from_logits=True),\n",
        "              metrics=['categorical_accuracy'])"
      ],
      "id": "877bdaa6-2595-4cf9-a0e8-b75644a07845",
      "execution_count": 133,
      "outputs": []
    },
    {
      "cell_type": "code",
      "metadata": {
        "colab": {
          "base_uri": "https://localhost:8080/"
        },
        "id": "777a94bc-7db6-4937-adb0-d96c6ce2a5a0",
        "outputId": "06506144-793a-4fbd-f980-6c1b6569cb71"
      },
      "source": [
        "history_VGG_1 = model_VGG_1.fit_generator(train_generator, validation_data = validation_generator, epochs=25,verbose=0)"
      ],
      "id": "777a94bc-7db6-4937-adb0-d96c6ce2a5a0",
      "execution_count": 134,
      "outputs": [
        {
          "output_type": "stream",
          "text": [
            "/usr/local/lib/python3.7/dist-packages/tensorflow/python/keras/engine/training.py:1940: UserWarning: `Model.fit_generator` is deprecated and will be removed in a future version. Please use `Model.fit`, which supports generators.\n",
            "  warnings.warn('`Model.fit_generator` is deprecated and '\n"
          ],
          "name": "stderr"
        }
      ]
    },
    {
      "cell_type": "code",
      "metadata": {
        "colab": {
          "base_uri": "https://localhost:8080/",
          "height": 334
        },
        "id": "2dfc9ea1-a336-47cf-8fe7-4c6b970586b3",
        "outputId": "307d0c9b-c9da-407d-94fc-8c57db92a372"
      },
      "source": [
        "plot_learning_curve(history_VGG_1.history['loss'], history_VGG_1.history['val_loss'], \n",
        "                    history_VGG_1.history['categorical_accuracy'], history_VGG_1.history['val_categorical_accuracy'], \n",
        "                    metric_name='Accuracy')"
      ],
      "id": "2dfc9ea1-a336-47cf-8fe7-4c6b970586b3",
      "execution_count": 135,
      "outputs": [
        {
          "output_type": "display_data",
          "data": {
            "image/png": "[encoded data removed]",
            "text/plain": [
              "<Figure size 720x360 with 2 Axes>"
            ]
          },
          "metadata": {
            "tags": [],
            "needs_background": "light"
          }
        }
      ]
    },
    {
      "cell_type": "markdown",
      "metadata": {
        "id": "bb01c593-7e5c-45c7-83a5-4478b1191e1f"
      },
      "source": [
        "# Overfitting"
      ],
      "id": "bb01c593-7e5c-45c7-83a5-4478b1191e1f"
    },
    {
      "cell_type": "markdown",
      "metadata": {
        "id": "e19c8488-6318-4faf-9e85-eb24a40e5f2a"
      },
      "source": [
        "## Apply Regularisation"
      ],
      "id": "e19c8488-6318-4faf-9e85-eb24a40e5f2a"
    },
    {
      "cell_type": "code",
      "metadata": {
        "id": "a63ced98-463d-4fd7-9be7-ef70d19fda26"
      },
      "source": [
        "reg_lambda = 0.001\n",
        "\n",
        "model_VGG_2 = tf.keras.Sequential([\n",
        "    #VGG block 1\n",
        "    tf.keras.layers.Conv2D(32, (3, 3), activation='relu', padding='same', \n",
        "                           kernel_regularizer=tf.keras.regularizers.l2(reg_lambda), input_shape=(27, 27, 3)),\n",
        "    tf.keras.layers.Conv2D(32, (3, 3), activation='relu', padding='same', \n",
        "                           kernel_regularizer=tf.keras.regularizers.l2(reg_lambda)),\n",
        "    tf.keras.layers.MaxPooling2D((2, 2)),\n",
        "    \n",
        "    #VGG block 2\n",
        "    tf.keras.layers.Conv2D(64, (3, 3), activation='relu', padding='same', \n",
        "                           kernel_regularizer=tf.keras.regularizers.l2(reg_lambda)),\n",
        "    tf.keras.layers.Conv2D(64, (3, 3), activation='relu', padding='same', \n",
        "                           kernel_regularizer=tf.keras.regularizers.l2(reg_lambda)),\n",
        "    tf.keras.layers.MaxPooling2D((2, 2)),\n",
        "    \n",
        "    #VGG block 3\n",
        "    tf.keras.layers.Conv2D(128, (3, 3), activation='relu', padding='same', \n",
        "                           kernel_regularizer=tf.keras.regularizers.l2(reg_lambda)),\n",
        "    tf.keras.layers.Conv2D(128, (3, 3), activation='relu', padding='same', \n",
        "                           kernel_regularizer=tf.keras.regularizers.l2(reg_lambda)),\n",
        "    tf.keras.layers.MaxPooling2D((2, 2)),\n",
        "    \n",
        "    tf.keras.layers.Flatten(),\n",
        "    tf.keras.layers.Dense(128, activation='relu'),\n",
        "    tf.keras.layers.Dropout(.2),\n",
        "    tf.keras.layers.Dense(OUTPUT_CLASSES),\n",
        "])"
      ],
      "id": "a63ced98-463d-4fd7-9be7-ef70d19fda26",
      "execution_count": 136,
      "outputs": []
    },
    {
      "cell_type": "code",
      "metadata": {
        "id": "660ffebd-e114-4a54-a313-6bc9bed0a9b1"
      },
      "source": [
        "model_VGG_2.compile(optimizer='adam',\n",
        "              loss=tf.keras.losses.CategoricalCrossentropy(from_logits=True),\n",
        "              metrics=['categorical_accuracy'])"
      ],
      "id": "660ffebd-e114-4a54-a313-6bc9bed0a9b1",
      "execution_count": 137,
      "outputs": []
    },
    {
      "cell_type": "code",
      "metadata": {
        "colab": {
          "base_uri": "https://localhost:8080/",
          "height": 388
        },
        "id": "ca7fe6e2-5c4e-4b68-a0d7-f4c26eca9c30",
        "outputId": "bfb3b919-7911-4ed9-d245-229f94823214"
      },
      "source": [
        "history_VGG_2 = model_VGG_2.fit_generator(train_generator, validation_data = validation_generator, epochs=100, verbose=0)\n",
        "\n",
        "plot_learning_curve(history_VGG_2.history['loss'], history_VGG_2.history['val_loss'], \n",
        "                    history_VGG_2.history['categorical_accuracy'], history_VGG_2.history['val_categorical_accuracy'], \n",
        "                    metric_name='Accuracy')"
      ],
      "id": "ca7fe6e2-5c4e-4b68-a0d7-f4c26eca9c30",
      "execution_count": 138,
      "outputs": [
        {
          "output_type": "stream",
          "text": [
            "/usr/local/lib/python3.7/dist-packages/tensorflow/python/keras/engine/training.py:1940: UserWarning: `Model.fit_generator` is deprecated and will be removed in a future version. Please use `Model.fit`, which supports generators.\n",
            "  warnings.warn('`Model.fit_generator` is deprecated and '\n"
          ],
          "name": "stderr"
        },
        {
          "output_type": "display_data",
          "data": {
            "image/png": "[encoded data removed]",
            "text/plain": [
              "<Figure size 720x360 with 2 Axes>"
            ]
          },
          "metadata": {
            "tags": [],
            "needs_background": "light"
          }
        }
      ]
    },
    {
      "cell_type": "markdown",
      "metadata": {
        "id": "2f94386e-7738-4240-9b8e-fa866e9dacee"
      },
      "source": [
        "### Data Augmentation"
      ],
      "id": "2f94386e-7738-4240-9b8e-fa866e9dacee"
    },
    {
      "cell_type": "code",
      "metadata": {
        "colab": {
          "base_uri": "https://localhost:8080/"
        },
        "id": "17aa48f7-b3d0-475c-af95-0c082ab2a76b",
        "outputId": "311fad87-ecba-4bfd-d21f-bd2aa379e801"
      },
      "source": [
        "\n",
        "train_data['isCancerous'] = train_data['isCancerous'].astype('str')\n",
        "val_data['isCancerous'] = val_data['isCancerous'].astype('str')\n",
        "from tensorflow.keras.preprocessing.image import ImageDataGenerator\n",
        "\n",
        "train_datagen = ImageDataGenerator(rescale=1./255, data_format='channels_last',\n",
        "                                   rotation_range=15, width_shift_range=0.2,\n",
        "                                   height_shift_range=0.2, brightness_range=[0.5,1.5])\n",
        "val_datagen = ImageDataGenerator(rescale=1./255, data_format='channels_last')\n",
        "\n",
        "batch_size = 32\n",
        "\n",
        "train_generator = train_datagen.flow_from_dataframe(\n",
        "        dataframe=train_data,\n",
        "        directory='/content/patch_images',\n",
        "        x_col=\"ImageName\",\n",
        "        y_col=\"isCancerous\",\n",
        "        target_size=(27, 27),\n",
        "        batch_size=batch_size,\n",
        "        class_mode='categorical')\n",
        "\n",
        "validation_generator = val_datagen.flow_from_dataframe(\n",
        "        dataframe=val_data,\n",
        "        directory='/content/patch_images',\n",
        "        x_col=\"ImageName\",\n",
        "        y_col=\"isCancerous\",\n",
        "        target_size=(27, 27),\n",
        "        batch_size=batch_size,\n",
        "        class_mode='categorical')"
      ],
      "id": "17aa48f7-b3d0-475c-af95-0c082ab2a76b",
      "execution_count": 139,
      "outputs": [
        {
          "output_type": "stream",
          "text": [
            "Found 5937 validated image filenames belonging to 2 classes.\n",
            "Found 1979 validated image filenames belonging to 2 classes.\n"
          ],
          "name": "stdout"
        }
      ]
    },
    {
      "cell_type": "code",
      "metadata": {
        "id": "af0a8d9e-1fe6-4e43-81a6-7aeeb34d3a58"
      },
      "source": [
        "reg_lambda = 0.001\n",
        "\n",
        "model_VGG_3 = tf.keras.Sequential([\n",
        "    #VGG block 1\n",
        "    tf.keras.layers.Conv2D(32, (3, 3), activation='relu', padding='same', \n",
        "                           kernel_regularizer=tf.keras.regularizers.l2(reg_lambda), input_shape=(27, 27, 3)),\n",
        "    tf.keras.layers.Conv2D(32, (3, 3), activation='relu', padding='same', \n",
        "                           kernel_regularizer=tf.keras.regularizers.l2(reg_lambda)),\n",
        "    tf.keras.layers.MaxPooling2D((2, 2)),\n",
        "    \n",
        "    #VGG block 2\n",
        "    tf.keras.layers.Conv2D(64, (3, 3), activation='relu', padding='same', \n",
        "                           kernel_regularizer=tf.keras.regularizers.l2(reg_lambda)),\n",
        "    tf.keras.layers.Conv2D(64, (3, 3), activation='relu', padding='same', \n",
        "                           kernel_regularizer=tf.keras.regularizers.l2(reg_lambda)),\n",
        "    tf.keras.layers.MaxPooling2D((2, 2)),\n",
        "    \n",
        "    #VGG block 3\n",
        "    tf.keras.layers.Conv2D(128, (3, 3), activation='relu', padding='same', \n",
        "                           kernel_regularizer=tf.keras.regularizers.l2(reg_lambda)),\n",
        "    tf.keras.layers.Conv2D(128, (3, 3), activation='relu', padding='same', \n",
        "                           kernel_regularizer=tf.keras.regularizers.l2(reg_lambda)),\n",
        "    tf.keras.layers.MaxPooling2D((2, 2)),\n",
        "    \n",
        "    \n",
        "    tf.keras.layers.Flatten(),\n",
        "    tf.keras.layers.Dense(128, activation='relu', kernel_regularizer=tf.keras.regularizers.l2(reg_lambda)),\n",
        "    tf.keras.layers.Dense(OUTPUT_CLASSES),\n",
        "])"
      ],
      "id": "af0a8d9e-1fe6-4e43-81a6-7aeeb34d3a58",
      "execution_count": 140,
      "outputs": []
    },
    {
      "cell_type": "code",
      "metadata": {
        "id": "91588fa8-31cf-4348-8f4f-1f7d755de7d0"
      },
      "source": [
        "model_VGG_3.compile(optimizer='adam',\n",
        "              loss=tf.keras.losses.CategoricalCrossentropy(from_logits=True),\n",
        "              metrics=['categorical_accuracy'])"
      ],
      "id": "91588fa8-31cf-4348-8f4f-1f7d755de7d0",
      "execution_count": 141,
      "outputs": []
    },
    {
      "cell_type": "code",
      "metadata": {
        "colab": {
          "base_uri": "https://localhost:8080/",
          "height": 388
        },
        "id": "6eedac50-cbed-4bc8-871f-03333ab69b89",
        "outputId": "57137c66-1c37-413a-9914-10f22b7f9c9f"
      },
      "source": [
        "history_VGG_3 = model_VGG_3.fit_generator(train_generator, validation_data = validation_generator, epochs=100, verbose=0)\n",
        "\n",
        "plot_learning_curve(history_VGG_3.history['loss'], history_VGG_3.history['val_loss'], \n",
        "                    history_VGG_3.history['categorical_accuracy'], history_VGG_3.history['val_categorical_accuracy'], \n",
        "                    metric_name='Accuracy')"
      ],
      "id": "6eedac50-cbed-4bc8-871f-03333ab69b89",
      "execution_count": 142,
      "outputs": [
        {
          "output_type": "stream",
          "text": [
            "/usr/local/lib/python3.7/dist-packages/tensorflow/python/keras/engine/training.py:1940: UserWarning: `Model.fit_generator` is deprecated and will be removed in a future version. Please use `Model.fit`, which supports generators.\n",
            "  warnings.warn('`Model.fit_generator` is deprecated and '\n"
          ],
          "name": "stderr"
        },
        {
          "output_type": "display_data",
          "data": {
            "image/png": "[encoded data removed]",
            "text/plain": [
              "<Figure size 720x360 with 2 Axes>"
            ]
          },
          "metadata": {
            "tags": [],
            "needs_background": "light"
          }
        }
      ]
    },
    {
      "cell_type": "code",
      "metadata": {
        "id": "6tPIJoeGzHDr"
      },
      "source": [
        ""
      ],
      "id": "6tPIJoeGzHDr",
      "execution_count": 142,
      "outputs": []
    },
    {
      "cell_type": "markdown",
      "metadata": {
        "id": "TecsWSj-zH21"
      },
      "source": [
        "### Save the Model\n",
        "\n"
      ],
      "id": "TecsWSj-zH21"
    },
    {
      "cell_type": "code",
      "metadata": {
        "colab": {
          "base_uri": "https://localhost:8080/"
        },
        "id": "9854ecc6-8b7a-4cdb-955b-276cb44adc0b",
        "outputId": "e942ff43-e666-4a14-95cb-93ce8e90cb80"
      },
      "source": [
        "model_VGG_3.save(\"model_VGG_3\")"
      ],
      "id": "9854ecc6-8b7a-4cdb-955b-276cb44adc0b",
      "execution_count": 143,
      "outputs": [
        {
          "output_type": "stream",
          "text": [
            "INFO:tensorflow:Assets written to: model_VGG_3/assets\n"
          ],
          "name": "stdout"
        }
      ]
    },
    {
      "cell_type": "code",
      "metadata": {
        "id": "2d46ded3-c190-43b6-ac44-249c75b37bd0"
      },
      "source": [
        "!cp -R ./model_VGG_3 /content/drive/'My Drive'/CML-Assignment2/"
      ],
      "id": "2d46ded3-c190-43b6-ac44-249c75b37bd0",
      "execution_count": 144,
      "outputs": []
    },
    {
      "cell_type": "code",
      "metadata": {
        "id": "5v75QklhLGY2"
      },
      "source": [
        ""
      ],
      "id": "5v75QklhLGY2",
      "execution_count": 144,
      "outputs": []
    },
    {
      "cell_type": "markdown",
      "metadata": {
        "id": "k2PK_iAaLHsA"
      },
      "source": [
        "## Testing the Model we have created finally"
      ],
      "id": "k2PK_iAaLHsA"
    },
    {
      "cell_type": "code",
      "metadata": {
        "colab": {
          "base_uri": "https://localhost:8080/"
        },
        "id": "58190491-30b3-48ea-a162-00c606ff2cdc",
        "outputId": "f8d87674-6192-4691-89e4-00adb14820da"
      },
      "source": [
        "test_data['isCancerous'] = test_data['isCancerous'].astype('str')\n",
        "\n",
        "test_datagen = ImageDataGenerator(rescale=1./255, data_format='channels_last')\n",
        "\n",
        "batch_size = 1\n",
        "\n",
        "test_generator = test_datagen.flow_from_dataframe(\n",
        "        dataframe=test_data,\n",
        "        directory='/content/patch_images',\n",
        "        x_col=\"ImageName\",\n",
        "        y_col=\"isCancerous\",\n",
        "        target_size=(27, 27),\n",
        "        batch_size=batch_size,\n",
        "        class_mode='categorical')"
      ],
      "id": "58190491-30b3-48ea-a162-00c606ff2cdc",
      "execution_count": 145,
      "outputs": [
        {
          "output_type": "stream",
          "text": [
            "Found 1980 validated image filenames belonging to 2 classes.\n"
          ],
          "name": "stdout"
        },
        {
          "output_type": "stream",
          "text": [
            "/usr/local/lib/python3.7/dist-packages/ipykernel_launcher.py:1: SettingWithCopyWarning: \n",
            "A value is trying to be set on a copy of a slice from a DataFrame.\n",
            "Try using .loc[row_indexer,col_indexer] = value instead\n",
            "\n",
            "See the caveats in the documentation: https://pandas.pydata.org/pandas-docs/stable/user_guide/indexing.html#returning-a-view-versus-a-copy\n",
            "  \"\"\"Entry point for launching an IPython kernel.\n"
          ],
          "name": "stderr"
        }
      ]
    },
    {
      "cell_type": "code",
      "metadata": {
        "colab": {
          "base_uri": "https://localhost:8080/"
        },
        "id": "W_dLzjrL1mo0",
        "outputId": "630a6a55-398a-4d1d-f50b-d3bd3c45487b"
      },
      "source": [
        "model_VGG_3.evaluate(test_generator)"
      ],
      "id": "W_dLzjrL1mo0",
      "execution_count": 146,
      "outputs": [
        {
          "output_type": "stream",
          "text": [
            "1980/1980 [==============================] - 6s 3ms/step - loss: 0.2787 - categorical_accuracy: 0.8970\n"
          ],
          "name": "stdout"
        },
        {
          "output_type": "execute_result",
          "data": {
            "text/plain": [
              "[0.27874860167503357, 0.8969696760177612]"
            ]
          },
          "metadata": {
            "tags": []
          },
          "execution_count": 146
        }
      ]
    },
    {
      "cell_type": "markdown",
      "metadata": {
        "id": "TsQK1DNoLtCM"
      },
      "source": [
        "## Plotting our Final Results"
      ],
      "id": "TsQK1DNoLtCM"
    },
    {
      "cell_type": "code",
      "metadata": {
        "id": "Bk0pYu0k1ms9"
      },
      "source": [
        "label_names = {'cancer' : 0, 'noCancer' : 1}"
      ],
      "id": "Bk0pYu0k1ms9",
      "execution_count": 147,
      "outputs": []
    },
    {
      "cell_type": "code",
      "metadata": {
        "colab": {
          "base_uri": "https://localhost:8080/",
          "height": 201
        },
        "id": "5h6xZcxAJeXa",
        "outputId": "9b0a843b-6804-4605-c961-c2833e7afaea"
      },
      "source": [
        "d_inv = {v: k for k, v in label_names.items()}\n",
        "plt.figure(figsize=(16,4))\n",
        "batches = 0\n",
        "for x,y in test_generator:\n",
        "        batches = batches + 1\n",
        "        y_hat = model_VGG_3.predict(x, verbose=0)\n",
        "        x = np.squeeze(x)\n",
        "        if batches < 5:\n",
        "            plt.subplot(1,5,batches)\n",
        "            plt.imshow(x)\n",
        "            plt.title(\"GT-{}, Pred-{}\".format(d_inv[np.argmax(y[0])], d_inv[np.argmax(y_hat[0])] ))\n",
        "            \n",
        "        else:\n",
        "            break\n",
        "        \n",
        "        plt.axis('off')"
      ],
      "id": "5h6xZcxAJeXa",
      "execution_count": 148,
      "outputs": [
        {
          "output_type": "display_data",
          "data": {
            "image/png": "[encoded data removed]",
            "text/plain": [
              "<Figure size 1152x288 with 4 Axes>"
            ]
          },
          "metadata": {
            "tags": [],
            "needs_background": "light"
          }
        }
      ]
    }
  ]
}