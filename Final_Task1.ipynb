{
 "cells": [
  {
   "cell_type": "markdown",
   "id": "2beba4cf",
   "metadata": {
    "colab_type": "text",
    "id": "view-in-github"
   },
   "source": [
    "<a href=\"https://colab.research.google.com/github/ngkarthi71/colon-cancer-analysis/blob/final-_task-_one/Final_Task1.ipynb\" target=\"_parent\"><img src=\"https://colab.research.google.com/assets/colab-badge.svg\" alt=\"Open In Colab\"/></a>"
   ]
  },
  {
   "cell_type": "markdown",
   "id": "8dc5a26d",
   "metadata": {
    "id": "6897c6bf"
   },
   "source": [
    "# Reading the given Data Set"
   ]
  },
  {
   "cell_type": "code",
   "execution_count": 2,
   "id": "38deaea1",
   "metadata": {
    "colab": {
     "base_uri": "https://localhost:8080/"
    },
    "id": "A0Uv1RBNbStG",
    "outputId": "e578ec90-8a93-47f7-e2f8-730aedd32a2f"
   },
   "outputs": [
    {
     "name": "stdout",
     "output_type": "stream",
     "text": [
      "Mounted at /content/drive\n"
     ]
    }
   ],
   "source": [
    "from google.colab import drive\n",
    "drive.mount('/content/drive')"
   ]
  },
  {
   "cell_type": "code",
   "execution_count": 3,
   "id": "21e41958",
   "metadata": {
    "colab": {
     "base_uri": "https://localhost:8080/"
    },
    "id": "Q_JqEdZ6bo17",
    "outputId": "f6d419ea-d34b-44b0-8dfd-43fb69878965"
   },
   "outputs": [
    {
     "name": "stdout",
     "output_type": "stream",
     "text": [
      "cell_model_VGG_3   Image_classification_data.zip\n",
      "Final_Task1.ipynb  latest.ipynb\n"
     ]
    }
   ],
   "source": [
    "!ls /content/drive/'My Drive'/CML-Assignment2/"
   ]
  },
  {
   "cell_type": "code",
   "execution_count": 4,
   "id": "dacc2d8e",
   "metadata": {
    "colab": {
     "base_uri": "https://localhost:8080/"
    },
    "id": "hu4Z8u7ba2ev",
    "outputId": "d4f20cff-01ca-46f0-b02e-8688fde11027"
   },
   "outputs": [
    {
     "name": "stdout",
     "output_type": "stream",
     "text": [
      "data_labels_extraData.csv  drive     patch_images\n",
      "data_labels_mainData.csv   __MACOSX  sample_data\n"
     ]
    }
   ],
   "source": [
    "!cp /content/drive/'My Drive'/CML-Assignment2/Image_classification_data.zip .\n",
    "!unzip -q -o Image_classification_data.zip\n",
    "!rm Image_classification_data.zip\n",
    "!ls"
   ]
  },
  {
   "cell_type": "markdown",
   "id": "4a21ab69",
   "metadata": {
    "id": "FWXlU04eii0J"
   },
   "source": [
    "# Importing the needed Packages"
   ]
  },
  {
   "cell_type": "code",
   "execution_count": 5,
   "id": "671eda10",
   "metadata": {
    "id": "63489e7f"
   },
   "outputs": [],
   "source": [
    "import numpy as np\n",
    "\n",
    "import pandas as pd\n",
    "import matplotlib.pyplot as plt\n",
    "import matplotlib.patches as patches\n",
    "import os\n",
    "import cv2 as cv\n",
    "\n",
    "import IPython.display as display\n",
    "from PIL import Image\n",
    "from sklearn.model_selection import GridSearchCV\n",
    "\n",
    "from skimage.transform import resize\n",
    "from skimage.io import imread\n",
    "import warnings;\n",
    "warnings.simplefilter('ignore')\n"
   ]
  },
  {
   "cell_type": "markdown",
   "id": "f2bad9bf",
   "metadata": {
    "id": "e1Ot8g75ir1v"
   },
   "source": [
    "# Loading the Data set "
   ]
  },
  {
   "cell_type": "code",
   "execution_count": 6,
   "id": "7277bcb3",
   "metadata": {
    "id": "6822f05f"
   },
   "outputs": [],
   "source": [
    "cancer=pd.read_csv('data_labels_mainData.csv')"
   ]
  },
  {
   "cell_type": "code",
   "execution_count": 7,
   "id": "ebcf72a3",
   "metadata": {
    "colab": {
     "base_uri": "https://localhost:8080/",
     "height": 204
    },
    "id": "1956ae4e",
    "outputId": "f58f17a5-3a0d-4b64-e80a-182c1721be3d"
   },
   "outputs": [
    {
     "data": {
      "text/html": [
       "<div>\n",
       "<style scoped>\n",
       "    .dataframe tbody tr th:only-of-type {\n",
       "        vertical-align: middle;\n",
       "    }\n",
       "\n",
       "    .dataframe tbody tr th {\n",
       "        vertical-align: top;\n",
       "    }\n",
       "\n",
       "    .dataframe thead th {\n",
       "        text-align: right;\n",
       "    }\n",
       "</style>\n",
       "<table border=\"1\" class=\"dataframe\">\n",
       "  <thead>\n",
       "    <tr style=\"text-align: right;\">\n",
       "      <th></th>\n",
       "      <th>InstanceID</th>\n",
       "      <th>patientID</th>\n",
       "      <th>ImageName</th>\n",
       "      <th>cellTypeName</th>\n",
       "      <th>cellType</th>\n",
       "      <th>isCancerous</th>\n",
       "    </tr>\n",
       "  </thead>\n",
       "  <tbody>\n",
       "    <tr>\n",
       "      <th>0</th>\n",
       "      <td>22405</td>\n",
       "      <td>1</td>\n",
       "      <td>22405.png</td>\n",
       "      <td>fibroblast</td>\n",
       "      <td>0</td>\n",
       "      <td>0</td>\n",
       "    </tr>\n",
       "    <tr>\n",
       "      <th>1</th>\n",
       "      <td>22406</td>\n",
       "      <td>1</td>\n",
       "      <td>22406.png</td>\n",
       "      <td>fibroblast</td>\n",
       "      <td>0</td>\n",
       "      <td>0</td>\n",
       "    </tr>\n",
       "    <tr>\n",
       "      <th>2</th>\n",
       "      <td>22407</td>\n",
       "      <td>1</td>\n",
       "      <td>22407.png</td>\n",
       "      <td>fibroblast</td>\n",
       "      <td>0</td>\n",
       "      <td>0</td>\n",
       "    </tr>\n",
       "    <tr>\n",
       "      <th>3</th>\n",
       "      <td>22408</td>\n",
       "      <td>1</td>\n",
       "      <td>22408.png</td>\n",
       "      <td>fibroblast</td>\n",
       "      <td>0</td>\n",
       "      <td>0</td>\n",
       "    </tr>\n",
       "    <tr>\n",
       "      <th>4</th>\n",
       "      <td>22409</td>\n",
       "      <td>1</td>\n",
       "      <td>22409.png</td>\n",
       "      <td>fibroblast</td>\n",
       "      <td>0</td>\n",
       "      <td>0</td>\n",
       "    </tr>\n",
       "  </tbody>\n",
       "</table>\n",
       "</div>"
      ],
      "text/plain": [
       "   InstanceID  patientID  ImageName cellTypeName  cellType  isCancerous\n",
       "0       22405          1  22405.png   fibroblast         0            0\n",
       "1       22406          1  22406.png   fibroblast         0            0\n",
       "2       22407          1  22407.png   fibroblast         0            0\n",
       "3       22408          1  22408.png   fibroblast         0            0\n",
       "4       22409          1  22409.png   fibroblast         0            0"
      ]
     },
     "execution_count": 7,
     "metadata": {
      "tags": []
     },
     "output_type": "execute_result"
    }
   ],
   "source": [
    "cancer.head(5)"
   ]
  },
  {
   "cell_type": "markdown",
   "id": "1866dc94",
   "metadata": {
    "id": "tY_pH_MIi6bQ"
   },
   "source": [
    "# Data Exploration"
   ]
  },
  {
   "cell_type": "code",
   "execution_count": 8,
   "id": "7a80dca3",
   "metadata": {
    "colab": {
     "base_uri": "https://localhost:8080/"
    },
    "id": "mkOJOgGrjDEo",
    "outputId": "cf781212-bfe1-4125-be77-75d666fbea39"
   },
   "outputs": [
    {
     "data": {
      "text/plain": [
       "InstanceID       int64\n",
       "patientID        int64\n",
       "ImageName       object\n",
       "cellTypeName    object\n",
       "cellType         int64\n",
       "isCancerous      int64\n",
       "dtype: object"
      ]
     },
     "execution_count": 8,
     "metadata": {
      "tags": []
     },
     "output_type": "execute_result"
    }
   ],
   "source": [
    "cancer.dtypes"
   ]
  },
  {
   "cell_type": "code",
   "execution_count": 9,
   "id": "54508d53",
   "metadata": {
    "colab": {
     "base_uri": "https://localhost:8080/"
    },
    "id": "4zQl2oLBjDHm",
    "outputId": "8edcdc83-925a-4375-aacb-cede1586cfbc"
   },
   "outputs": [
    {
     "data": {
      "text/plain": [
       "InstanceID      0\n",
       "patientID       0\n",
       "ImageName       0\n",
       "cellTypeName    0\n",
       "cellType        0\n",
       "isCancerous     0\n",
       "dtype: int64"
      ]
     },
     "execution_count": 9,
     "metadata": {
      "tags": []
     },
     "output_type": "execute_result"
    }
   ],
   "source": [
    "cancer.isnull().sum()"
   ]
  },
  {
   "cell_type": "code",
   "execution_count": 11,
   "id": "18b9a349",
   "metadata": {
    "colab": {
     "base_uri": "https://localhost:8080/"
    },
    "id": "XqR3bWecAag-",
    "outputId": "a6fc6ab2-f211-4665-f589-8665588ca9ce"
   },
   "outputs": [
    {
     "data": {
      "text/plain": [
       "0    5817\n",
       "1    4079\n",
       "Name: isCancerous, dtype: int64"
      ]
     },
     "execution_count": 11,
     "metadata": {
      "tags": []
     },
     "output_type": "execute_result"
    }
   ],
   "source": [
    "cancer.isCancerous.value_counts()"
   ]
  },
  {
   "cell_type": "code",
   "execution_count": 12,
   "id": "4a4d89e4",
   "metadata": {
    "colab": {
     "base_uri": "https://localhost:8080/",
     "height": 266
    },
    "id": "evJ3eC9aAajv",
    "outputId": "0c58d6a9-470c-47a2-ca27-673897f2acae"
   },
   "outputs": [
    {
     "data": {
      "image/png": "[encoded data removed]",
      "text/plain": [
       "<Figure size 432x288 with 1 Axes>"
      ]
     },
     "metadata": {
      "needs_background": "light",
      "tags": []
     },
     "output_type": "display_data"
    }
   ],
   "source": [
    "cancer.isCancerous.hist()\n",
    "plt.show()"
   ]
  },
  {
   "cell_type": "code",
   "execution_count": 13,
   "id": "e791f45d",
   "metadata": {
    "colab": {
     "base_uri": "https://localhost:8080/",
     "height": 456
    },
    "id": "SL2QTKHw6vr-",
    "outputId": "7df6f2f7-5c65-41aa-ef25-728874d6a89f"
   },
   "outputs": [
    {
     "data": {
      "text/plain": [
       "Text(0, 0.5, 'notCancerous samples')"
      ]
     },
     "execution_count": 13,
     "metadata": {
      "tags": []
     },
     "output_type": "execute_result"
    },
    {
     "data": {
      "image/png": "[encoded data removed]",
      "text/plain": [
       "<Figure size 1440x576 with 8 Axes>"
      ]
     },
     "metadata": {
      "needs_background": "light",
      "tags": []
     },
     "output_type": "display_data"
    }
   ],
   "source": [
    "isCancerous = cancer.loc[cancer['isCancerous'] == 1].sample(4)\n",
    "notCancerous = cancer.loc[cancer['isCancerous'] == 0].sample(4)\n",
    "\n",
    "isCancerous_images = []\n",
    "notCancerous_images = []\n",
    "\n",
    "for path in isCancerous['ImageName']:\n",
    "    image_path = \"/content/patch_images/\" + path\n",
    "    image = cv.imread(image_path)\n",
    "    isCancerous_images.append(image)\n",
    "    \n",
    "for path in notCancerous['ImageName']:\n",
    "    image_path = \"/content/patch_images/\" + path\n",
    "    image = cv.imread(image_path)\n",
    "    notCancerous_images.append(image)\n",
    "\n",
    "fig,axis = plt.subplots(2,4,figsize=(20,8))\n",
    "for i, image in enumerate(isCancerous_images):\n",
    "    axis[0,i].imshow(image)\n",
    "axis[0,0].set_ylabel('isCancerous samples', size='large')\n",
    "\n",
    "for i, image in enumerate(notCancerous_images):\n",
    "    axis[1,i].imshow(image)\n",
    "axis[1,0].set_ylabel('notCancerous samples', size='large')"
   ]
  },
  {
   "cell_type": "markdown",
   "id": "2054a491",
   "metadata": {
    "id": "GAKybysXgjNs"
   },
   "source": [
    "## Stochastic Gradient Descent model - Traditional machine learning algorithm"
   ]
  },
  {
   "cell_type": "markdown",
   "id": "7ba82089",
   "metadata": {
    "id": "xwnGdUGoQ73y"
   },
   "source": [
    "Data Reshaping :flattening images into image array in order to proceed with the algorithm"
   ]
  },
  {
   "cell_type": "markdown",
   "id": "b0bff266",
   "metadata": {
    "id": "GpwhfhzIXRyE"
   },
   "source": []
  },
  {
   "cell_type": "code",
   "execution_count": 14,
   "id": "fda2d6e0",
   "metadata": {
    "colab": {
     "base_uri": "https://localhost:8080/",
     "height": 439
    },
    "id": "fE4z6h-TNWfr",
    "outputId": "fab4e509-84d8-484f-b063-dd579051d8d1"
   },
   "outputs": [
    {
     "data": {
      "text/html": [
       "<div>\n",
       "<style scoped>\n",
       "    .dataframe tbody tr th:only-of-type {\n",
       "        vertical-align: middle;\n",
       "    }\n",
       "\n",
       "    .dataframe tbody tr th {\n",
       "        vertical-align: top;\n",
       "    }\n",
       "\n",
       "    .dataframe thead th {\n",
       "        text-align: right;\n",
       "    }\n",
       "</style>\n",
       "<table border=\"1\" class=\"dataframe\">\n",
       "  <thead>\n",
       "    <tr style=\"text-align: right;\">\n",
       "      <th></th>\n",
       "      <th>0</th>\n",
       "      <th>1</th>\n",
       "      <th>2</th>\n",
       "      <th>3</th>\n",
       "      <th>4</th>\n",
       "      <th>5</th>\n",
       "      <th>6</th>\n",
       "      <th>7</th>\n",
       "      <th>8</th>\n",
       "      <th>9</th>\n",
       "      <th>10</th>\n",
       "      <th>11</th>\n",
       "      <th>12</th>\n",
       "      <th>13</th>\n",
       "      <th>14</th>\n",
       "      <th>15</th>\n",
       "      <th>16</th>\n",
       "      <th>17</th>\n",
       "      <th>18</th>\n",
       "      <th>19</th>\n",
       "      <th>20</th>\n",
       "      <th>21</th>\n",
       "      <th>22</th>\n",
       "      <th>23</th>\n",
       "      <th>24</th>\n",
       "      <th>25</th>\n",
       "      <th>26</th>\n",
       "      <th>27</th>\n",
       "      <th>28</th>\n",
       "      <th>29</th>\n",
       "      <th>30</th>\n",
       "      <th>31</th>\n",
       "      <th>32</th>\n",
       "      <th>33</th>\n",
       "      <th>34</th>\n",
       "      <th>35</th>\n",
       "      <th>36</th>\n",
       "      <th>37</th>\n",
       "      <th>38</th>\n",
       "      <th>39</th>\n",
       "      <th>...</th>\n",
       "      <th>2148</th>\n",
       "      <th>2149</th>\n",
       "      <th>2150</th>\n",
       "      <th>2151</th>\n",
       "      <th>2152</th>\n",
       "      <th>2153</th>\n",
       "      <th>2154</th>\n",
       "      <th>2155</th>\n",
       "      <th>2156</th>\n",
       "      <th>2157</th>\n",
       "      <th>2158</th>\n",
       "      <th>2159</th>\n",
       "      <th>2160</th>\n",
       "      <th>2161</th>\n",
       "      <th>2162</th>\n",
       "      <th>2163</th>\n",
       "      <th>2164</th>\n",
       "      <th>2165</th>\n",
       "      <th>2166</th>\n",
       "      <th>2167</th>\n",
       "      <th>2168</th>\n",
       "      <th>2169</th>\n",
       "      <th>2170</th>\n",
       "      <th>2171</th>\n",
       "      <th>2172</th>\n",
       "      <th>2173</th>\n",
       "      <th>2174</th>\n",
       "      <th>2175</th>\n",
       "      <th>2176</th>\n",
       "      <th>2177</th>\n",
       "      <th>2178</th>\n",
       "      <th>2179</th>\n",
       "      <th>2180</th>\n",
       "      <th>2181</th>\n",
       "      <th>2182</th>\n",
       "      <th>2183</th>\n",
       "      <th>2184</th>\n",
       "      <th>2185</th>\n",
       "      <th>2186</th>\n",
       "      <th>Target</th>\n",
       "    </tr>\n",
       "  </thead>\n",
       "  <tbody>\n",
       "    <tr>\n",
       "      <th>0</th>\n",
       "      <td>0.929412</td>\n",
       "      <td>0.835294</td>\n",
       "      <td>0.949020</td>\n",
       "      <td>0.913725</td>\n",
       "      <td>0.819608</td>\n",
       "      <td>0.937255</td>\n",
       "      <td>0.898039</td>\n",
       "      <td>0.803922</td>\n",
       "      <td>0.921569</td>\n",
       "      <td>0.890196</td>\n",
       "      <td>0.792157</td>\n",
       "      <td>0.913725</td>\n",
       "      <td>0.929412</td>\n",
       "      <td>0.827451</td>\n",
       "      <td>0.949020</td>\n",
       "      <td>0.945098</td>\n",
       "      <td>0.839216</td>\n",
       "      <td>0.960784</td>\n",
       "      <td>0.941176</td>\n",
       "      <td>0.831373</td>\n",
       "      <td>0.956863</td>\n",
       "      <td>0.925490</td>\n",
       "      <td>0.811765</td>\n",
       "      <td>0.941176</td>\n",
       "      <td>0.905882</td>\n",
       "      <td>0.784314</td>\n",
       "      <td>0.917647</td>\n",
       "      <td>0.886275</td>\n",
       "      <td>0.764706</td>\n",
       "      <td>0.894118</td>\n",
       "      <td>0.858824</td>\n",
       "      <td>0.733333</td>\n",
       "      <td>0.870588</td>\n",
       "      <td>0.858824</td>\n",
       "      <td>0.737255</td>\n",
       "      <td>0.874510</td>\n",
       "      <td>0.854902</td>\n",
       "      <td>0.733333</td>\n",
       "      <td>0.874510</td>\n",
       "      <td>0.854902</td>\n",
       "      <td>...</td>\n",
       "      <td>0.803922</td>\n",
       "      <td>0.647059</td>\n",
       "      <td>0.843137</td>\n",
       "      <td>0.847059</td>\n",
       "      <td>0.690196</td>\n",
       "      <td>0.886275</td>\n",
       "      <td>0.909804</td>\n",
       "      <td>0.749020</td>\n",
       "      <td>0.937255</td>\n",
       "      <td>0.925490</td>\n",
       "      <td>0.760784</td>\n",
       "      <td>0.949020</td>\n",
       "      <td>0.909804</td>\n",
       "      <td>0.745098</td>\n",
       "      <td>0.933333</td>\n",
       "      <td>0.921569</td>\n",
       "      <td>0.756863</td>\n",
       "      <td>0.949020</td>\n",
       "      <td>0.945098</td>\n",
       "      <td>0.780392</td>\n",
       "      <td>0.972549</td>\n",
       "      <td>0.941176</td>\n",
       "      <td>0.776471</td>\n",
       "      <td>0.972549</td>\n",
       "      <td>0.913725</td>\n",
       "      <td>0.745098</td>\n",
       "      <td>0.941176</td>\n",
       "      <td>0.874510</td>\n",
       "      <td>0.705882</td>\n",
       "      <td>0.901961</td>\n",
       "      <td>0.760784</td>\n",
       "      <td>0.592157</td>\n",
       "      <td>0.788235</td>\n",
       "      <td>0.686275</td>\n",
       "      <td>0.517647</td>\n",
       "      <td>0.709804</td>\n",
       "      <td>0.745098</td>\n",
       "      <td>0.576471</td>\n",
       "      <td>0.764706</td>\n",
       "      <td>0</td>\n",
       "    </tr>\n",
       "    <tr>\n",
       "      <th>1</th>\n",
       "      <td>0.827451</td>\n",
       "      <td>0.686275</td>\n",
       "      <td>0.866667</td>\n",
       "      <td>0.827451</td>\n",
       "      <td>0.686275</td>\n",
       "      <td>0.878431</td>\n",
       "      <td>0.858824</td>\n",
       "      <td>0.721569</td>\n",
       "      <td>0.913725</td>\n",
       "      <td>0.854902</td>\n",
       "      <td>0.717647</td>\n",
       "      <td>0.901961</td>\n",
       "      <td>0.921569</td>\n",
       "      <td>0.784314</td>\n",
       "      <td>0.964706</td>\n",
       "      <td>1.000000</td>\n",
       "      <td>0.858824</td>\n",
       "      <td>1.000000</td>\n",
       "      <td>0.925490</td>\n",
       "      <td>0.776471</td>\n",
       "      <td>0.949020</td>\n",
       "      <td>0.894118</td>\n",
       "      <td>0.733333</td>\n",
       "      <td>0.905882</td>\n",
       "      <td>0.847059</td>\n",
       "      <td>0.682353</td>\n",
       "      <td>0.854902</td>\n",
       "      <td>0.874510</td>\n",
       "      <td>0.705882</td>\n",
       "      <td>0.874510</td>\n",
       "      <td>0.890196</td>\n",
       "      <td>0.733333</td>\n",
       "      <td>0.890196</td>\n",
       "      <td>0.870588</td>\n",
       "      <td>0.729412</td>\n",
       "      <td>0.878431</td>\n",
       "      <td>0.803922</td>\n",
       "      <td>0.682353</td>\n",
       "      <td>0.815686</td>\n",
       "      <td>0.850980</td>\n",
       "      <td>...</td>\n",
       "      <td>0.898039</td>\n",
       "      <td>0.784314</td>\n",
       "      <td>0.984314</td>\n",
       "      <td>0.925490</td>\n",
       "      <td>0.811765</td>\n",
       "      <td>0.992157</td>\n",
       "      <td>0.901961</td>\n",
       "      <td>0.811765</td>\n",
       "      <td>0.984314</td>\n",
       "      <td>0.866667</td>\n",
       "      <td>0.796078</td>\n",
       "      <td>0.960784</td>\n",
       "      <td>0.894118</td>\n",
       "      <td>0.819608</td>\n",
       "      <td>0.976471</td>\n",
       "      <td>0.945098</td>\n",
       "      <td>0.866667</td>\n",
       "      <td>1.000000</td>\n",
       "      <td>0.972549</td>\n",
       "      <td>0.886275</td>\n",
       "      <td>1.000000</td>\n",
       "      <td>0.949020</td>\n",
       "      <td>0.858824</td>\n",
       "      <td>0.980392</td>\n",
       "      <td>0.921569</td>\n",
       "      <td>0.831373</td>\n",
       "      <td>0.952941</td>\n",
       "      <td>0.937255</td>\n",
       "      <td>0.843137</td>\n",
       "      <td>0.968627</td>\n",
       "      <td>0.905882</td>\n",
       "      <td>0.811765</td>\n",
       "      <td>0.941176</td>\n",
       "      <td>0.933333</td>\n",
       "      <td>0.835294</td>\n",
       "      <td>0.968627</td>\n",
       "      <td>0.956863</td>\n",
       "      <td>0.858824</td>\n",
       "      <td>0.992157</td>\n",
       "      <td>0</td>\n",
       "    </tr>\n",
       "    <tr>\n",
       "      <th>2</th>\n",
       "      <td>0.968627</td>\n",
       "      <td>0.952941</td>\n",
       "      <td>0.968627</td>\n",
       "      <td>0.964706</td>\n",
       "      <td>0.949020</td>\n",
       "      <td>0.972549</td>\n",
       "      <td>0.956863</td>\n",
       "      <td>0.937255</td>\n",
       "      <td>0.968627</td>\n",
       "      <td>0.945098</td>\n",
       "      <td>0.917647</td>\n",
       "      <td>0.960784</td>\n",
       "      <td>0.949020</td>\n",
       "      <td>0.909804</td>\n",
       "      <td>0.960784</td>\n",
       "      <td>0.952941</td>\n",
       "      <td>0.894118</td>\n",
       "      <td>0.956863</td>\n",
       "      <td>0.933333</td>\n",
       "      <td>0.858824</td>\n",
       "      <td>0.933333</td>\n",
       "      <td>0.905882</td>\n",
       "      <td>0.815686</td>\n",
       "      <td>0.898039</td>\n",
       "      <td>0.854902</td>\n",
       "      <td>0.737255</td>\n",
       "      <td>0.835294</td>\n",
       "      <td>0.827451</td>\n",
       "      <td>0.686275</td>\n",
       "      <td>0.796078</td>\n",
       "      <td>0.815686</td>\n",
       "      <td>0.650980</td>\n",
       "      <td>0.772549</td>\n",
       "      <td>0.807843</td>\n",
       "      <td>0.623529</td>\n",
       "      <td>0.756863</td>\n",
       "      <td>0.776471</td>\n",
       "      <td>0.584314</td>\n",
       "      <td>0.725490</td>\n",
       "      <td>0.772549</td>\n",
       "      <td>...</td>\n",
       "      <td>0.713725</td>\n",
       "      <td>0.462745</td>\n",
       "      <td>0.647059</td>\n",
       "      <td>0.705882</td>\n",
       "      <td>0.435294</td>\n",
       "      <td>0.627451</td>\n",
       "      <td>0.721569</td>\n",
       "      <td>0.443137</td>\n",
       "      <td>0.639216</td>\n",
       "      <td>0.717647</td>\n",
       "      <td>0.431373</td>\n",
       "      <td>0.631373</td>\n",
       "      <td>0.705882</td>\n",
       "      <td>0.415686</td>\n",
       "      <td>0.619608</td>\n",
       "      <td>0.682353</td>\n",
       "      <td>0.384314</td>\n",
       "      <td>0.592157</td>\n",
       "      <td>0.584314</td>\n",
       "      <td>0.290196</td>\n",
       "      <td>0.498039</td>\n",
       "      <td>0.619608</td>\n",
       "      <td>0.325490</td>\n",
       "      <td>0.537255</td>\n",
       "      <td>0.643137</td>\n",
       "      <td>0.356863</td>\n",
       "      <td>0.568627</td>\n",
       "      <td>0.619608</td>\n",
       "      <td>0.341176</td>\n",
       "      <td>0.552941</td>\n",
       "      <td>0.686275</td>\n",
       "      <td>0.419608</td>\n",
       "      <td>0.635294</td>\n",
       "      <td>0.784314</td>\n",
       "      <td>0.529412</td>\n",
       "      <td>0.745098</td>\n",
       "      <td>0.764706</td>\n",
       "      <td>0.529412</td>\n",
       "      <td>0.745098</td>\n",
       "      <td>0</td>\n",
       "    </tr>\n",
       "    <tr>\n",
       "      <th>3</th>\n",
       "      <td>0.949020</td>\n",
       "      <td>0.949020</td>\n",
       "      <td>0.952941</td>\n",
       "      <td>0.945098</td>\n",
       "      <td>0.945098</td>\n",
       "      <td>0.952941</td>\n",
       "      <td>0.945098</td>\n",
       "      <td>0.945098</td>\n",
       "      <td>0.952941</td>\n",
       "      <td>0.949020</td>\n",
       "      <td>0.949020</td>\n",
       "      <td>0.952941</td>\n",
       "      <td>0.952941</td>\n",
       "      <td>0.949020</td>\n",
       "      <td>0.952941</td>\n",
       "      <td>0.956863</td>\n",
       "      <td>0.952941</td>\n",
       "      <td>0.956863</td>\n",
       "      <td>0.956863</td>\n",
       "      <td>0.952941</td>\n",
       "      <td>0.956863</td>\n",
       "      <td>0.956863</td>\n",
       "      <td>0.952941</td>\n",
       "      <td>0.956863</td>\n",
       "      <td>0.952941</td>\n",
       "      <td>0.949020</td>\n",
       "      <td>0.952941</td>\n",
       "      <td>0.952941</td>\n",
       "      <td>0.945098</td>\n",
       "      <td>0.952941</td>\n",
       "      <td>0.952941</td>\n",
       "      <td>0.945098</td>\n",
       "      <td>0.952941</td>\n",
       "      <td>0.956863</td>\n",
       "      <td>0.945098</td>\n",
       "      <td>0.952941</td>\n",
       "      <td>0.956863</td>\n",
       "      <td>0.945098</td>\n",
       "      <td>0.952941</td>\n",
       "      <td>0.960784</td>\n",
       "      <td>...</td>\n",
       "      <td>0.909804</td>\n",
       "      <td>0.858824</td>\n",
       "      <td>0.933333</td>\n",
       "      <td>0.886275</td>\n",
       "      <td>0.831373</td>\n",
       "      <td>0.909804</td>\n",
       "      <td>0.913725</td>\n",
       "      <td>0.858824</td>\n",
       "      <td>0.937255</td>\n",
       "      <td>0.956863</td>\n",
       "      <td>0.898039</td>\n",
       "      <td>0.976471</td>\n",
       "      <td>0.949020</td>\n",
       "      <td>0.890196</td>\n",
       "      <td>0.972549</td>\n",
       "      <td>0.937255</td>\n",
       "      <td>0.866667</td>\n",
       "      <td>0.952941</td>\n",
       "      <td>0.913725</td>\n",
       "      <td>0.831373</td>\n",
       "      <td>0.929412</td>\n",
       "      <td>0.945098</td>\n",
       "      <td>0.850980</td>\n",
       "      <td>0.952941</td>\n",
       "      <td>0.960784</td>\n",
       "      <td>0.850980</td>\n",
       "      <td>0.960784</td>\n",
       "      <td>0.949020</td>\n",
       "      <td>0.827451</td>\n",
       "      <td>0.945098</td>\n",
       "      <td>0.956863</td>\n",
       "      <td>0.827451</td>\n",
       "      <td>0.949020</td>\n",
       "      <td>0.988235</td>\n",
       "      <td>0.854902</td>\n",
       "      <td>0.972549</td>\n",
       "      <td>0.866667</td>\n",
       "      <td>0.729412</td>\n",
       "      <td>0.847059</td>\n",
       "      <td>0</td>\n",
       "    </tr>\n",
       "    <tr>\n",
       "      <th>4</th>\n",
       "      <td>0.741176</td>\n",
       "      <td>0.509804</td>\n",
       "      <td>0.741176</td>\n",
       "      <td>0.721569</td>\n",
       "      <td>0.494118</td>\n",
       "      <td>0.729412</td>\n",
       "      <td>0.717647</td>\n",
       "      <td>0.494118</td>\n",
       "      <td>0.733333</td>\n",
       "      <td>0.729412</td>\n",
       "      <td>0.509804</td>\n",
       "      <td>0.745098</td>\n",
       "      <td>0.776471</td>\n",
       "      <td>0.568627</td>\n",
       "      <td>0.792157</td>\n",
       "      <td>0.784314</td>\n",
       "      <td>0.603922</td>\n",
       "      <td>0.811765</td>\n",
       "      <td>0.788235</td>\n",
       "      <td>0.627451</td>\n",
       "      <td>0.823529</td>\n",
       "      <td>0.756863</td>\n",
       "      <td>0.580392</td>\n",
       "      <td>0.788235</td>\n",
       "      <td>0.662745</td>\n",
       "      <td>0.458824</td>\n",
       "      <td>0.686275</td>\n",
       "      <td>0.721569</td>\n",
       "      <td>0.501961</td>\n",
       "      <td>0.713725</td>\n",
       "      <td>0.874510</td>\n",
       "      <td>0.650980</td>\n",
       "      <td>0.839216</td>\n",
       "      <td>0.850980</td>\n",
       "      <td>0.627451</td>\n",
       "      <td>0.803922</td>\n",
       "      <td>0.878431</td>\n",
       "      <td>0.650980</td>\n",
       "      <td>0.835294</td>\n",
       "      <td>0.858824</td>\n",
       "      <td>...</td>\n",
       "      <td>0.960784</td>\n",
       "      <td>0.929412</td>\n",
       "      <td>0.964706</td>\n",
       "      <td>0.976471</td>\n",
       "      <td>0.952941</td>\n",
       "      <td>0.984314</td>\n",
       "      <td>0.972549</td>\n",
       "      <td>0.949020</td>\n",
       "      <td>0.976471</td>\n",
       "      <td>0.964706</td>\n",
       "      <td>0.945098</td>\n",
       "      <td>0.972549</td>\n",
       "      <td>0.952941</td>\n",
       "      <td>0.933333</td>\n",
       "      <td>0.960784</td>\n",
       "      <td>0.952941</td>\n",
       "      <td>0.933333</td>\n",
       "      <td>0.960784</td>\n",
       "      <td>0.949020</td>\n",
       "      <td>0.937255</td>\n",
       "      <td>0.956863</td>\n",
       "      <td>0.941176</td>\n",
       "      <td>0.937255</td>\n",
       "      <td>0.952941</td>\n",
       "      <td>0.937255</td>\n",
       "      <td>0.933333</td>\n",
       "      <td>0.949020</td>\n",
       "      <td>0.941176</td>\n",
       "      <td>0.937255</td>\n",
       "      <td>0.952941</td>\n",
       "      <td>0.945098</td>\n",
       "      <td>0.937255</td>\n",
       "      <td>0.952941</td>\n",
       "      <td>0.949020</td>\n",
       "      <td>0.937255</td>\n",
       "      <td>0.956863</td>\n",
       "      <td>0.956863</td>\n",
       "      <td>0.941176</td>\n",
       "      <td>0.956863</td>\n",
       "      <td>0</td>\n",
       "    </tr>\n",
       "    <tr>\n",
       "      <th>...</th>\n",
       "      <td>...</td>\n",
       "      <td>...</td>\n",
       "      <td>...</td>\n",
       "      <td>...</td>\n",
       "      <td>...</td>\n",
       "      <td>...</td>\n",
       "      <td>...</td>\n",
       "      <td>...</td>\n",
       "      <td>...</td>\n",
       "      <td>...</td>\n",
       "      <td>...</td>\n",
       "      <td>...</td>\n",
       "      <td>...</td>\n",
       "      <td>...</td>\n",
       "      <td>...</td>\n",
       "      <td>...</td>\n",
       "      <td>...</td>\n",
       "      <td>...</td>\n",
       "      <td>...</td>\n",
       "      <td>...</td>\n",
       "      <td>...</td>\n",
       "      <td>...</td>\n",
       "      <td>...</td>\n",
       "      <td>...</td>\n",
       "      <td>...</td>\n",
       "      <td>...</td>\n",
       "      <td>...</td>\n",
       "      <td>...</td>\n",
       "      <td>...</td>\n",
       "      <td>...</td>\n",
       "      <td>...</td>\n",
       "      <td>...</td>\n",
       "      <td>...</td>\n",
       "      <td>...</td>\n",
       "      <td>...</td>\n",
       "      <td>...</td>\n",
       "      <td>...</td>\n",
       "      <td>...</td>\n",
       "      <td>...</td>\n",
       "      <td>...</td>\n",
       "      <td>...</td>\n",
       "      <td>...</td>\n",
       "      <td>...</td>\n",
       "      <td>...</td>\n",
       "      <td>...</td>\n",
       "      <td>...</td>\n",
       "      <td>...</td>\n",
       "      <td>...</td>\n",
       "      <td>...</td>\n",
       "      <td>...</td>\n",
       "      <td>...</td>\n",
       "      <td>...</td>\n",
       "      <td>...</td>\n",
       "      <td>...</td>\n",
       "      <td>...</td>\n",
       "      <td>...</td>\n",
       "      <td>...</td>\n",
       "      <td>...</td>\n",
       "      <td>...</td>\n",
       "      <td>...</td>\n",
       "      <td>...</td>\n",
       "      <td>...</td>\n",
       "      <td>...</td>\n",
       "      <td>...</td>\n",
       "      <td>...</td>\n",
       "      <td>...</td>\n",
       "      <td>...</td>\n",
       "      <td>...</td>\n",
       "      <td>...</td>\n",
       "      <td>...</td>\n",
       "      <td>...</td>\n",
       "      <td>...</td>\n",
       "      <td>...</td>\n",
       "      <td>...</td>\n",
       "      <td>...</td>\n",
       "      <td>...</td>\n",
       "      <td>...</td>\n",
       "      <td>...</td>\n",
       "      <td>...</td>\n",
       "      <td>...</td>\n",
       "      <td>...</td>\n",
       "    </tr>\n",
       "    <tr>\n",
       "      <th>9891</th>\n",
       "      <td>0.705882</td>\n",
       "      <td>0.541176</td>\n",
       "      <td>0.670588</td>\n",
       "      <td>0.894118</td>\n",
       "      <td>0.729412</td>\n",
       "      <td>0.850980</td>\n",
       "      <td>1.000000</td>\n",
       "      <td>0.878431</td>\n",
       "      <td>0.988235</td>\n",
       "      <td>0.905882</td>\n",
       "      <td>0.764706</td>\n",
       "      <td>0.866667</td>\n",
       "      <td>0.823529</td>\n",
       "      <td>0.658824</td>\n",
       "      <td>0.760784</td>\n",
       "      <td>0.827451</td>\n",
       "      <td>0.647059</td>\n",
       "      <td>0.749020</td>\n",
       "      <td>0.925490</td>\n",
       "      <td>0.776471</td>\n",
       "      <td>0.874510</td>\n",
       "      <td>0.980392</td>\n",
       "      <td>0.874510</td>\n",
       "      <td>0.964706</td>\n",
       "      <td>1.000000</td>\n",
       "      <td>0.956863</td>\n",
       "      <td>1.000000</td>\n",
       "      <td>0.992157</td>\n",
       "      <td>0.960784</td>\n",
       "      <td>0.992157</td>\n",
       "      <td>0.996078</td>\n",
       "      <td>0.933333</td>\n",
       "      <td>0.996078</td>\n",
       "      <td>0.898039</td>\n",
       "      <td>0.768627</td>\n",
       "      <td>0.866667</td>\n",
       "      <td>0.823529</td>\n",
       "      <td>0.686275</td>\n",
       "      <td>0.800000</td>\n",
       "      <td>0.811765</td>\n",
       "      <td>...</td>\n",
       "      <td>0.850980</td>\n",
       "      <td>0.650980</td>\n",
       "      <td>0.827451</td>\n",
       "      <td>0.905882</td>\n",
       "      <td>0.713725</td>\n",
       "      <td>0.886275</td>\n",
       "      <td>0.878431</td>\n",
       "      <td>0.694118</td>\n",
       "      <td>0.858824</td>\n",
       "      <td>0.827451</td>\n",
       "      <td>0.643137</td>\n",
       "      <td>0.803922</td>\n",
       "      <td>0.772549</td>\n",
       "      <td>0.596078</td>\n",
       "      <td>0.749020</td>\n",
       "      <td>0.823529</td>\n",
       "      <td>0.650980</td>\n",
       "      <td>0.800000</td>\n",
       "      <td>0.858824</td>\n",
       "      <td>0.670588</td>\n",
       "      <td>0.823529</td>\n",
       "      <td>0.862745</td>\n",
       "      <td>0.654902</td>\n",
       "      <td>0.815686</td>\n",
       "      <td>0.815686</td>\n",
       "      <td>0.611765</td>\n",
       "      <td>0.776471</td>\n",
       "      <td>0.772549</td>\n",
       "      <td>0.584314</td>\n",
       "      <td>0.741176</td>\n",
       "      <td>0.811765</td>\n",
       "      <td>0.631373</td>\n",
       "      <td>0.776471</td>\n",
       "      <td>0.811765</td>\n",
       "      <td>0.647059</td>\n",
       "      <td>0.776471</td>\n",
       "      <td>0.905882</td>\n",
       "      <td>0.803922</td>\n",
       "      <td>0.921569</td>\n",
       "      <td>1</td>\n",
       "    </tr>\n",
       "    <tr>\n",
       "      <th>9892</th>\n",
       "      <td>0.894118</td>\n",
       "      <td>0.678431</td>\n",
       "      <td>0.831373</td>\n",
       "      <td>0.811765</td>\n",
       "      <td>0.568627</td>\n",
       "      <td>0.725490</td>\n",
       "      <td>0.713725</td>\n",
       "      <td>0.486275</td>\n",
       "      <td>0.643137</td>\n",
       "      <td>0.756863</td>\n",
       "      <td>0.556863</td>\n",
       "      <td>0.713725</td>\n",
       "      <td>0.847059</td>\n",
       "      <td>0.662745</td>\n",
       "      <td>0.823529</td>\n",
       "      <td>0.858824</td>\n",
       "      <td>0.690196</td>\n",
       "      <td>0.850980</td>\n",
       "      <td>0.772549</td>\n",
       "      <td>0.615686</td>\n",
       "      <td>0.768627</td>\n",
       "      <td>0.847059</td>\n",
       "      <td>0.698039</td>\n",
       "      <td>0.843137</td>\n",
       "      <td>0.956863</td>\n",
       "      <td>0.819608</td>\n",
       "      <td>0.949020</td>\n",
       "      <td>0.960784</td>\n",
       "      <td>0.831373</td>\n",
       "      <td>0.952941</td>\n",
       "      <td>0.937255</td>\n",
       "      <td>0.800000</td>\n",
       "      <td>0.929412</td>\n",
       "      <td>0.933333</td>\n",
       "      <td>0.784314</td>\n",
       "      <td>0.929412</td>\n",
       "      <td>0.968627</td>\n",
       "      <td>0.807843</td>\n",
       "      <td>0.968627</td>\n",
       "      <td>0.898039</td>\n",
       "      <td>...</td>\n",
       "      <td>0.898039</td>\n",
       "      <td>0.835294</td>\n",
       "      <td>0.898039</td>\n",
       "      <td>0.898039</td>\n",
       "      <td>0.843137</td>\n",
       "      <td>0.905882</td>\n",
       "      <td>0.890196</td>\n",
       "      <td>0.835294</td>\n",
       "      <td>0.898039</td>\n",
       "      <td>0.886275</td>\n",
       "      <td>0.831373</td>\n",
       "      <td>0.894118</td>\n",
       "      <td>0.890196</td>\n",
       "      <td>0.831373</td>\n",
       "      <td>0.898039</td>\n",
       "      <td>0.898039</td>\n",
       "      <td>0.831373</td>\n",
       "      <td>0.901961</td>\n",
       "      <td>0.894118</td>\n",
       "      <td>0.819608</td>\n",
       "      <td>0.894118</td>\n",
       "      <td>0.890196</td>\n",
       "      <td>0.811765</td>\n",
       "      <td>0.890196</td>\n",
       "      <td>0.898039</td>\n",
       "      <td>0.811765</td>\n",
       "      <td>0.898039</td>\n",
       "      <td>0.901961</td>\n",
       "      <td>0.811765</td>\n",
       "      <td>0.905882</td>\n",
       "      <td>0.894118</td>\n",
       "      <td>0.800000</td>\n",
       "      <td>0.901961</td>\n",
       "      <td>0.886275</td>\n",
       "      <td>0.788235</td>\n",
       "      <td>0.894118</td>\n",
       "      <td>0.925490</td>\n",
       "      <td>0.823529</td>\n",
       "      <td>0.929412</td>\n",
       "      <td>1</td>\n",
       "    </tr>\n",
       "    <tr>\n",
       "      <th>9893</th>\n",
       "      <td>0.756863</td>\n",
       "      <td>0.552941</td>\n",
       "      <td>0.686275</td>\n",
       "      <td>0.819608</td>\n",
       "      <td>0.658824</td>\n",
       "      <td>0.768627</td>\n",
       "      <td>0.870588</td>\n",
       "      <td>0.737255</td>\n",
       "      <td>0.839216</td>\n",
       "      <td>0.929412</td>\n",
       "      <td>0.792157</td>\n",
       "      <td>0.901961</td>\n",
       "      <td>0.890196</td>\n",
       "      <td>0.733333</td>\n",
       "      <td>0.862745</td>\n",
       "      <td>0.803922</td>\n",
       "      <td>0.635294</td>\n",
       "      <td>0.780392</td>\n",
       "      <td>0.839216</td>\n",
       "      <td>0.654902</td>\n",
       "      <td>0.815686</td>\n",
       "      <td>0.792157</td>\n",
       "      <td>0.600000</td>\n",
       "      <td>0.764706</td>\n",
       "      <td>0.772549</td>\n",
       "      <td>0.580392</td>\n",
       "      <td>0.745098</td>\n",
       "      <td>0.745098</td>\n",
       "      <td>0.556863</td>\n",
       "      <td>0.717647</td>\n",
       "      <td>0.760784</td>\n",
       "      <td>0.572549</td>\n",
       "      <td>0.729412</td>\n",
       "      <td>0.823529</td>\n",
       "      <td>0.639216</td>\n",
       "      <td>0.788235</td>\n",
       "      <td>0.925490</td>\n",
       "      <td>0.741176</td>\n",
       "      <td>0.890196</td>\n",
       "      <td>0.984314</td>\n",
       "      <td>...</td>\n",
       "      <td>0.694118</td>\n",
       "      <td>0.509804</td>\n",
       "      <td>0.670588</td>\n",
       "      <td>0.815686</td>\n",
       "      <td>0.627451</td>\n",
       "      <td>0.792157</td>\n",
       "      <td>0.874510</td>\n",
       "      <td>0.686275</td>\n",
       "      <td>0.854902</td>\n",
       "      <td>0.925490</td>\n",
       "      <td>0.745098</td>\n",
       "      <td>0.913725</td>\n",
       "      <td>0.894118</td>\n",
       "      <td>0.713725</td>\n",
       "      <td>0.882353</td>\n",
       "      <td>0.909804</td>\n",
       "      <td>0.698039</td>\n",
       "      <td>0.870588</td>\n",
       "      <td>0.752941</td>\n",
       "      <td>0.513725</td>\n",
       "      <td>0.686275</td>\n",
       "      <td>0.737255</td>\n",
       "      <td>0.505882</td>\n",
       "      <td>0.674510</td>\n",
       "      <td>0.741176</td>\n",
       "      <td>0.521569</td>\n",
       "      <td>0.682353</td>\n",
       "      <td>0.643137</td>\n",
       "      <td>0.423529</td>\n",
       "      <td>0.580392</td>\n",
       "      <td>0.733333</td>\n",
       "      <td>0.517647</td>\n",
       "      <td>0.662745</td>\n",
       "      <td>0.854902</td>\n",
       "      <td>0.694118</td>\n",
       "      <td>0.819608</td>\n",
       "      <td>0.945098</td>\n",
       "      <td>0.803922</td>\n",
       "      <td>0.917647</td>\n",
       "      <td>1</td>\n",
       "    </tr>\n",
       "    <tr>\n",
       "      <th>9894</th>\n",
       "      <td>0.909804</td>\n",
       "      <td>0.792157</td>\n",
       "      <td>0.890196</td>\n",
       "      <td>0.756863</td>\n",
       "      <td>0.572549</td>\n",
       "      <td>0.690196</td>\n",
       "      <td>0.768627</td>\n",
       "      <td>0.572549</td>\n",
       "      <td>0.717647</td>\n",
       "      <td>0.811765</td>\n",
       "      <td>0.615686</td>\n",
       "      <td>0.780392</td>\n",
       "      <td>0.815686</td>\n",
       "      <td>0.596078</td>\n",
       "      <td>0.776471</td>\n",
       "      <td>0.776471</td>\n",
       "      <td>0.541176</td>\n",
       "      <td>0.725490</td>\n",
       "      <td>0.780392</td>\n",
       "      <td>0.533333</td>\n",
       "      <td>0.721569</td>\n",
       "      <td>0.827451</td>\n",
       "      <td>0.572549</td>\n",
       "      <td>0.768627</td>\n",
       "      <td>0.811765</td>\n",
       "      <td>0.556863</td>\n",
       "      <td>0.756863</td>\n",
       "      <td>0.811765</td>\n",
       "      <td>0.560784</td>\n",
       "      <td>0.760784</td>\n",
       "      <td>0.878431</td>\n",
       "      <td>0.635294</td>\n",
       "      <td>0.839216</td>\n",
       "      <td>0.886275</td>\n",
       "      <td>0.650980</td>\n",
       "      <td>0.850980</td>\n",
       "      <td>0.850980</td>\n",
       "      <td>0.619608</td>\n",
       "      <td>0.823529</td>\n",
       "      <td>0.909804</td>\n",
       "      <td>...</td>\n",
       "      <td>0.670588</td>\n",
       "      <td>0.462745</td>\n",
       "      <td>0.623529</td>\n",
       "      <td>0.796078</td>\n",
       "      <td>0.596078</td>\n",
       "      <td>0.749020</td>\n",
       "      <td>0.976471</td>\n",
       "      <td>0.768627</td>\n",
       "      <td>0.925490</td>\n",
       "      <td>0.941176</td>\n",
       "      <td>0.733333</td>\n",
       "      <td>0.886275</td>\n",
       "      <td>0.929412</td>\n",
       "      <td>0.733333</td>\n",
       "      <td>0.874510</td>\n",
       "      <td>0.854902</td>\n",
       "      <td>0.666667</td>\n",
       "      <td>0.796078</td>\n",
       "      <td>0.866667</td>\n",
       "      <td>0.658824</td>\n",
       "      <td>0.784314</td>\n",
       "      <td>0.886275</td>\n",
       "      <td>0.658824</td>\n",
       "      <td>0.784314</td>\n",
       "      <td>0.964706</td>\n",
       "      <td>0.721569</td>\n",
       "      <td>0.843137</td>\n",
       "      <td>0.913725</td>\n",
       "      <td>0.666667</td>\n",
       "      <td>0.784314</td>\n",
       "      <td>1.000000</td>\n",
       "      <td>0.760784</td>\n",
       "      <td>0.890196</td>\n",
       "      <td>0.792157</td>\n",
       "      <td>0.552941</td>\n",
       "      <td>0.694118</td>\n",
       "      <td>0.631373</td>\n",
       "      <td>0.396078</td>\n",
       "      <td>0.545098</td>\n",
       "      <td>1</td>\n",
       "    </tr>\n",
       "    <tr>\n",
       "      <th>9895</th>\n",
       "      <td>0.866667</td>\n",
       "      <td>0.705882</td>\n",
       "      <td>0.819608</td>\n",
       "      <td>1.000000</td>\n",
       "      <td>0.905882</td>\n",
       "      <td>0.988235</td>\n",
       "      <td>1.000000</td>\n",
       "      <td>0.945098</td>\n",
       "      <td>0.988235</td>\n",
       "      <td>1.000000</td>\n",
       "      <td>0.980392</td>\n",
       "      <td>0.996078</td>\n",
       "      <td>0.984314</td>\n",
       "      <td>0.964706</td>\n",
       "      <td>0.976471</td>\n",
       "      <td>0.992157</td>\n",
       "      <td>0.945098</td>\n",
       "      <td>0.972549</td>\n",
       "      <td>0.901961</td>\n",
       "      <td>0.811765</td>\n",
       "      <td>0.870588</td>\n",
       "      <td>0.807843</td>\n",
       "      <td>0.678431</td>\n",
       "      <td>0.768627</td>\n",
       "      <td>0.960784</td>\n",
       "      <td>0.800000</td>\n",
       "      <td>0.913725</td>\n",
       "      <td>0.992157</td>\n",
       "      <td>0.839216</td>\n",
       "      <td>0.949020</td>\n",
       "      <td>0.952941</td>\n",
       "      <td>0.815686</td>\n",
       "      <td>0.913725</td>\n",
       "      <td>0.952941</td>\n",
       "      <td>0.831373</td>\n",
       "      <td>0.921569</td>\n",
       "      <td>0.941176</td>\n",
       "      <td>0.839216</td>\n",
       "      <td>0.913725</td>\n",
       "      <td>0.952941</td>\n",
       "      <td>...</td>\n",
       "      <td>0.941176</td>\n",
       "      <td>0.760784</td>\n",
       "      <td>0.913725</td>\n",
       "      <td>0.901961</td>\n",
       "      <td>0.705882</td>\n",
       "      <td>0.862745</td>\n",
       "      <td>0.831373</td>\n",
       "      <td>0.619608</td>\n",
       "      <td>0.780392</td>\n",
       "      <td>0.729412</td>\n",
       "      <td>0.513725</td>\n",
       "      <td>0.666667</td>\n",
       "      <td>0.729412</td>\n",
       "      <td>0.513725</td>\n",
       "      <td>0.654902</td>\n",
       "      <td>0.847059</td>\n",
       "      <td>0.631373</td>\n",
       "      <td>0.760784</td>\n",
       "      <td>0.925490</td>\n",
       "      <td>0.713725</td>\n",
       "      <td>0.835294</td>\n",
       "      <td>0.733333</td>\n",
       "      <td>0.509804</td>\n",
       "      <td>0.639216</td>\n",
       "      <td>0.776471</td>\n",
       "      <td>0.541176</td>\n",
       "      <td>0.682353</td>\n",
       "      <td>0.752941</td>\n",
       "      <td>0.509804</td>\n",
       "      <td>0.662745</td>\n",
       "      <td>0.682353</td>\n",
       "      <td>0.443137</td>\n",
       "      <td>0.600000</td>\n",
       "      <td>0.843137</td>\n",
       "      <td>0.650980</td>\n",
       "      <td>0.784314</td>\n",
       "      <td>0.941176</td>\n",
       "      <td>0.803922</td>\n",
       "      <td>0.905882</td>\n",
       "      <td>1</td>\n",
       "    </tr>\n",
       "  </tbody>\n",
       "</table>\n",
       "<p>9896 rows × 2188 columns</p>\n",
       "</div>"
      ],
      "text/plain": [
       "             0         1         2  ...      2185      2186  Target\n",
       "0     0.929412  0.835294  0.949020  ...  0.576471  0.764706       0\n",
       "1     0.827451  0.686275  0.866667  ...  0.858824  0.992157       0\n",
       "2     0.968627  0.952941  0.968627  ...  0.529412  0.745098       0\n",
       "3     0.949020  0.949020  0.952941  ...  0.729412  0.847059       0\n",
       "4     0.741176  0.509804  0.741176  ...  0.941176  0.956863       0\n",
       "...        ...       ...       ...  ...       ...       ...     ...\n",
       "9891  0.705882  0.541176  0.670588  ...  0.803922  0.921569       1\n",
       "9892  0.894118  0.678431  0.831373  ...  0.823529  0.929412       1\n",
       "9893  0.756863  0.552941  0.686275  ...  0.803922  0.917647       1\n",
       "9894  0.909804  0.792157  0.890196  ...  0.396078  0.545098       1\n",
       "9895  0.866667  0.705882  0.819608  ...  0.803922  0.905882       1\n",
       "\n",
       "[9896 rows x 2188 columns]"
      ]
     },
     "execution_count": 14,
     "metadata": {
      "tags": []
     },
     "output_type": "execute_result"
    }
   ],
   "source": [
    "flat_data_arr=[]\n",
    "target_arr=[]\n",
    "\n",
    "for img in cancer['ImageName']:\n",
    "    path = \"/content/patch_images/\" + img\n",
    "    image_arr = cv.imread(path)\n",
    "    #print(image_arr)\n",
    "    img_resized=resize(image_arr,(27, 27, 3))\n",
    "    flat_data_arr.append(img_resized.flatten())\n",
    "    target_arr.append(cancer.loc[cancer['ImageName'] == img].isCancerous)\n",
    "flat_data=np.array(flat_data_arr)\n",
    "target=np.array(target_arr)\n",
    "df=pd.DataFrame(flat_data_arr)\n",
    "df['Target']=target\n",
    "df"
   ]
  },
  {
   "cell_type": "markdown",
   "id": "c1dd96f9",
   "metadata": {
    "id": "IFDWdOFYhiKC"
   },
   "source": [
    "## Test -Train split"
   ]
  },
  {
   "cell_type": "code",
   "execution_count": 15,
   "id": "9c4eebd9",
   "metadata": {
    "id": "xOT6YdzvQl-P"
   },
   "outputs": [],
   "source": [
    "from sklearn.model_selection import train_test_split"
   ]
  },
  {
   "cell_type": "code",
   "execution_count": 16,
   "id": "393fdf25",
   "metadata": {
    "id": "EuR5C9tyg7KF"
   },
   "outputs": [],
   "source": [
    "x=df.iloc[:,:-1]\n",
    "y=df.iloc[:,-1]\n",
    "x_train,x_test,y_train,y_test=train_test_split(x,y,test_size=0.20,random_state=77,stratify=y)"
   ]
  },
  {
   "cell_type": "markdown",
   "id": "1481ac7b",
   "metadata": {
    "id": "hpKtAcgQjpUD"
   },
   "source": [
    "## Building an image classfier model using SGDClassifier"
   ]
  },
  {
   "cell_type": "code",
   "execution_count": 17,
   "id": "874b1dbb",
   "metadata": {
    "colab": {
     "base_uri": "https://localhost:8080/"
    },
    "id": "7vBdYvgZCnus",
    "outputId": "fdcc53bd-88b1-45e8-f217-93ef26f8d86a"
   },
   "outputs": [
    {
     "data": {
      "text/plain": [
       "SGDClassifier(alpha=0.0001, average=False, class_weight=None,\n",
       "              early_stopping=False, epsilon=0.1, eta0=0.0, fit_intercept=True,\n",
       "              l1_ratio=0.15, learning_rate='optimal', loss='hinge',\n",
       "              max_iter=1000, n_iter_no_change=5, n_jobs=None, penalty='l2',\n",
       "              power_t=0.5, random_state=42, shuffle=True, tol=0.001,\n",
       "              validation_fraction=0.1, verbose=0, warm_start=False)"
      ]
     },
     "execution_count": 17,
     "metadata": {
      "tags": []
     },
     "output_type": "execute_result"
    }
   ],
   "source": [
    "from sklearn.linear_model import SGDClassifier\n",
    "sgd_clf = SGDClassifier(loss='hinge', random_state=42)\n",
    "sgd_clf.fit(x_train, y_train)"
   ]
  },
  {
   "cell_type": "code",
   "execution_count": 18,
   "id": "b1b40bd5",
   "metadata": {
    "colab": {
     "base_uri": "https://localhost:8080/"
    },
    "id": "2NRr9q_2Cnxv",
    "outputId": "8f31de72-9ece-410a-da9e-d246cf9e5187"
   },
   "outputs": [
    {
     "data": {
      "text/plain": [
       "array([0.71504358, 0.84350133, 0.85633055])"
      ]
     },
     "execution_count": 18,
     "metadata": {
      "tags": []
     },
     "output_type": "execute_result"
    }
   ],
   "source": [
    "from sklearn.model_selection import cross_val_score\n",
    "cross_val_score(sgd_clf, x_train, y_train, cv=3, scoring='accuracy')"
   ]
  },
  {
   "cell_type": "code",
   "execution_count": 19,
   "id": "86933bbd",
   "metadata": {
    "colab": {
     "base_uri": "https://localhost:8080/"
    },
    "id": "C7OR-Xi9RAjr",
    "outputId": "9e65c85a-ff3d-4c44-b6fb-b32965170c3c"
   },
   "outputs": [
    {
     "data": {
      "text/plain": [
       "0.8570707070707071"
      ]
     },
     "execution_count": 19,
     "metadata": {
      "tags": []
     },
     "output_type": "execute_result"
    }
   ],
   "source": [
    "score = sgd_clf.score(x_test, y_test)\n",
    "score"
   ]
  },
  {
   "cell_type": "markdown",
   "id": "b4a112a9",
   "metadata": {
    "id": "oPVDPBgdkSt0"
   },
   "source": [
    "## Fine tuning the model in order to get better accuracy"
   ]
  },
  {
   "cell_type": "code",
   "execution_count": 20,
   "id": "fa99ac93",
   "metadata": {
    "colab": {
     "base_uri": "https://localhost:8080/"
    },
    "id": "bu0ckMfeRKqS",
    "outputId": "bd232724-4f17-4f15-9b8c-a2a39738c823"
   },
   "outputs": [
    {
     "data": {
      "text/plain": [
       "SGDClassifier(alpha=0.0001, average=False, class_weight=None,\n",
       "              early_stopping=False, epsilon=0.1, eta0=0.0, fit_intercept=True,\n",
       "              l1_ratio=0.15, learning_rate='optimal', loss='log', max_iter=1000,\n",
       "              n_iter_no_change=5, n_jobs=None, penalty='l2', power_t=0.5,\n",
       "              random_state=42, shuffle=True, tol=0.001, validation_fraction=0.1,\n",
       "              verbose=0, warm_start=False)"
      ]
     },
     "execution_count": 20,
     "metadata": {
      "tags": []
     },
     "output_type": "execute_result"
    }
   ],
   "source": [
    "sgd_clf = SGDClassifier(loss='log', random_state=42, \n",
    "                        penalty='l2', alpha=1e-4)\n",
    "sgd_clf.fit(x_train, y_train)"
   ]
  },
  {
   "cell_type": "code",
   "execution_count": 21,
   "id": "5fbdb167",
   "metadata": {
    "colab": {
     "base_uri": "https://localhost:8080/"
    },
    "id": "PxgAwARwRKtQ",
    "outputId": "05943fd9-eea5-4c08-cc75-e9048ccf5430"
   },
   "outputs": [
    {
     "data": {
      "text/plain": [
       "array([0.84969054, 0.74889478, 0.78868258, 0.84261715, 0.84350133,\n",
       "       0.85057471, 0.83362832])"
      ]
     },
     "execution_count": 21,
     "metadata": {
      "tags": []
     },
     "output_type": "execute_result"
    }
   ],
   "source": [
    "cross_val_score(sgd_clf, x_train, y_train, cv=7, scoring='accuracy')"
   ]
  },
  {
   "cell_type": "code",
   "execution_count": 22,
   "id": "1945740e",
   "metadata": {
    "colab": {
     "base_uri": "https://localhost:8080/"
    },
    "id": "1VuMNzcjRKwa",
    "outputId": "dd60e082-1665-46d3-f46c-02714a653480"
   },
   "outputs": [
    {
     "data": {
      "text/plain": [
       "0.7141414141414142"
      ]
     },
     "execution_count": 22,
     "metadata": {
      "tags": []
     },
     "output_type": "execute_result"
    }
   ],
   "source": [
    "score = sgd_clf.score(x_test, y_test)\n",
    "score"
   ]
  },
  {
   "cell_type": "markdown",
   "id": "aa266a35",
   "metadata": {
    "id": "TtnIMet-kcA8"
   },
   "source": [
    "# Classic Neural Network Model"
   ]
  },
  {
   "cell_type": "markdown",
   "id": "360058f4",
   "metadata": {
    "id": "17aa4ece"
   },
   "source": [
    "### Randomly split the given data set"
   ]
  },
  {
   "cell_type": "code",
   "execution_count": 23,
   "id": "f300f705",
   "metadata": {
    "id": "a6b65173"
   },
   "outputs": [],
   "source": [
    "from sklearn.model_selection import train_test_split"
   ]
  },
  {
   "cell_type": "code",
   "execution_count": 24,
   "id": "ab731d00",
   "metadata": {
    "colab": {
     "base_uri": "https://localhost:8080/"
    },
    "id": "1593aa5b",
    "outputId": "a2d02a89-999d-40dc-9ff6-271f58c354e0"
   },
   "outputs": [
    {
     "name": "stdout",
     "output_type": "stream",
     "text": [
      "Train data : 5937, Val Data: 1979, Test Data: 1980\n"
     ]
    }
   ],
   "source": [
    "train_data, test_data = train_test_split(cancer, test_size=0.2, random_state=42)\n",
    "train_data, val_data = train_test_split(train_data, test_size=0.25, random_state=42)\n",
    "\n",
    "print(\"Train data : {}, Val Data: {}, Test Data: {}\".format(train_data.shape[0], val_data.shape[0], test_data.shape[0]))"
   ]
  },
  {
   "cell_type": "markdown",
   "id": "e35649fb",
   "metadata": {
    "id": "18259807"
   },
   "source": [
    "# Model development"
   ]
  },
  {
   "cell_type": "code",
   "execution_count": 25,
   "id": "1b35271b",
   "metadata": {
    "id": "76d8f66d"
   },
   "outputs": [],
   "source": [
    "import matplotlib.pyplot as plt\n",
    "def plot_learning_curve(train_loss, val_loss, train_metric, val_metric, metric_name='Accuracy'):\n",
    "    plt.figure(figsize=(10,5))\n",
    "    \n",
    "    plt.subplot(1,2,1)\n",
    "    plt.plot(train_loss, 'r--')\n",
    "    plt.plot(val_loss, 'b--')\n",
    "    plt.xlabel(\"epochs\")\n",
    "    plt.ylabel(\"Loss\")\n",
    "    plt.legend(['train', 'val'], loc='upper left')\n",
    "\n",
    "    plt.subplot(1,2,2)\n",
    "    plt.plot(train_metric, 'r--')\n",
    "    plt.plot(val_metric, 'b--')\n",
    "    plt.xlabel(\"epochs\")\n",
    "    plt.ylabel(metric_name)\n",
    "    plt.legend(['train', 'val'], loc='upper left')\n",
    "\n",
    "    plt.show()"
   ]
  },
  {
   "cell_type": "code",
   "execution_count": 2,
   "id": "dbe85ac2",
   "metadata": {
    "id": "5048ead5"
   },
   "outputs": [],
   "source": [
    "INPUT_DIM = (27,27,3)\n",
    "HIDDEN_LAYER_DIM = 256\n",
    "OUTPUT_CLASSES = 2"
   ]
  },
  {
   "cell_type": "code",
   "execution_count": 1,
   "id": "18778dae",
   "metadata": {
    "colab": {
     "base_uri": "https://localhost:8080/",
     "height": 35
    },
    "id": "cbef3cf6",
    "outputId": "bef6f231-110b-424b-cb99-537250c9a775"
   },
   "outputs": [
    {
     "data": {
      "text/plain": [
       "'2.5.0'"
      ]
     },
     "execution_count": 1,
     "metadata": {},
     "output_type": "execute_result"
    }
   ],
   "source": [
    "import tensorflow as tf\n",
    "from tensorflow.keras.preprocessing.image import ImageDataGenerator\n",
    "AUTOTUNE = tf.data.experimental.AUTOTUNE\n",
    "\n",
    "tf.__version__"
   ]
  },
  {
   "cell_type": "code",
   "execution_count": 28,
   "id": "771ba484",
   "metadata": {
    "id": "51c7076d"
   },
   "outputs": [],
   "source": [
    "\n",
    "\n",
    "model = tf.keras.Sequential([\n",
    "    tf.keras.layers.Flatten(input_shape=INPUT_DIM),\n",
    "    tf.keras.layers.Dense(HIDDEN_LAYER_DIM, activation='sigmoid'),\n",
    "    tf.keras.layers.Dense(OUTPUT_CLASSES)\n",
    "])"
   ]
  },
  {
   "cell_type": "code",
   "execution_count": 29,
   "id": "5de02201",
   "metadata": {
    "colab": {
     "base_uri": "https://localhost:8080/"
    },
    "id": "6983caa8",
    "outputId": "6d2ecb4c-713d-4a76-90f1-dced7a95b214"
   },
   "outputs": [
    {
     "name": "stdout",
     "output_type": "stream",
     "text": [
      "Model: \"sequential\"\n",
      "_________________________________________________________________\n",
      "Layer (type)                 Output Shape              Param #   \n",
      "=================================================================\n",
      "flatten (Flatten)            (None, 2187)              0         \n",
      "_________________________________________________________________\n",
      "dense (Dense)                (None, 256)               560128    \n",
      "_________________________________________________________________\n",
      "dense_1 (Dense)              (None, 2)                 514       \n",
      "=================================================================\n",
      "Total params: 560,642\n",
      "Trainable params: 560,642\n",
      "Non-trainable params: 0\n",
      "_________________________________________________________________\n"
     ]
    }
   ],
   "source": [
    "model.summary()"
   ]
  },
  {
   "cell_type": "code",
   "execution_count": 30,
   "id": "33d63468",
   "metadata": {
    "colab": {
     "base_uri": "https://localhost:8080/",
     "height": 422
    },
    "id": "4d9Sr56HyyDn",
    "outputId": "6cba45eb-c612-40af-889f-74e8c793281f"
   },
   "outputs": [
    {
     "data": {
      "image/png": "[encoded data removed]",
      "text/plain": [
       "<IPython.core.display.Image object>"
      ]
     },
     "execution_count": 30,
     "metadata": {
      "tags": []
     },
     "output_type": "execute_result"
    }
   ],
   "source": [
    "tf.keras.utils.plot_model(model, show_shapes=True)"
   ]
  },
  {
   "cell_type": "code",
   "execution_count": 31,
   "id": "16ec9f61",
   "metadata": {
    "id": "VM7ryT-hlxMI"
   },
   "outputs": [],
   "source": [
    "model.compile(optimizer='SGD',\n",
    "              loss=tf.keras.losses.CategoricalCrossentropy(from_logits=True),\n",
    "              metrics=['categorical_accuracy'])"
   ]
  },
  {
   "cell_type": "code",
   "execution_count": 32,
   "id": "d25d8efd",
   "metadata": {
    "id": "xC-ZBw1np-me"
   },
   "outputs": [],
   "source": [
    "train_data['isCancerous'] = train_data['isCancerous'].astype('str')\n",
    "val_data['isCancerous'] = val_data['isCancerous'].astype('str')"
   ]
  },
  {
   "cell_type": "code",
   "execution_count": 33,
   "id": "b8c32315",
   "metadata": {
    "colab": {
     "base_uri": "https://localhost:8080/"
    },
    "id": "MLowCTIglxPM",
    "outputId": "b7d4fd31-5ad4-4a05-a980-8cbcd57e74e1"
   },
   "outputs": [
    {
     "name": "stdout",
     "output_type": "stream",
     "text": [
      "Found 5937 validated image filenames belonging to 2 classes.\n",
      "Found 1979 validated image filenames belonging to 2 classes.\n"
     ]
    }
   ],
   "source": [
    "train_datagen = ImageDataGenerator(rescale=1./255, data_format='channels_last')\n",
    "val_datagen = ImageDataGenerator(rescale=1./255, data_format='channels_last')\n",
    "\n",
    "batch_size = 27\n",
    "\n",
    "train_generator = train_datagen.flow_from_dataframe(\n",
    "        dataframe=train_data,\n",
    "        directory='/content/patch_images/',\n",
    "        x_col=\"ImageName\",\n",
    "        y_col=\"isCancerous\",\n",
    "        target_size=(27, 27),\n",
    "        batch_size=batch_size,\n",
    "        class_mode='categorical')\n",
    "\n",
    "validation_generator = val_datagen.flow_from_dataframe(\n",
    "        dataframe=val_data,\n",
    "        directory='/content/patch_images/',\n",
    "        x_col=\"ImageName\",\n",
    "        y_col=\"isCancerous\",\n",
    "        target_size=(27, 27),\n",
    "        batch_size=batch_size,\n",
    "        class_mode='categorical')"
   ]
  },
  {
   "cell_type": "code",
   "execution_count": 34,
   "id": "7f7f43b8",
   "metadata": {
    "id": "ud4SDp64lxSM"
   },
   "outputs": [],
   "source": [
    "history = model.fit_generator(train_generator, validation_data = validation_generator, epochs=150,verbose=0)"
   ]
  },
  {
   "cell_type": "code",
   "execution_count": 35,
   "id": "c91f7830",
   "metadata": {
    "colab": {
     "base_uri": "https://localhost:8080/",
     "height": 334
    },
    "id": "Mr82iAeslxVO",
    "outputId": "3e2bf896-7fc5-4ecc-c290-8b73949ac9a2"
   },
   "outputs": [
    {
     "data": {
      "image/png": "[encoded data removed]",
      "text/plain": [
       "<Figure size 720x360 with 2 Axes>"
      ]
     },
     "metadata": {
      "needs_background": "light",
      "tags": []
     },
     "output_type": "display_data"
    }
   ],
   "source": [
    "plot_learning_curve(history.history['loss'], history.history['val_loss'], \n",
    "                    history.history['categorical_accuracy'], history.history['val_categorical_accuracy'], \n",
    "                    metric_name='Accuracy')"
   ]
  },
  {
   "cell_type": "code",
   "execution_count": 36,
   "id": "f9cbd2f1",
   "metadata": {
    "colab": {
     "base_uri": "https://localhost:8080/"
    },
    "id": "NIdoWFThlxYk",
    "outputId": "02fc4ce2-6338-4107-e7fb-7ea7151c40a9"
   },
   "outputs": [
    {
     "name": "stdout",
     "output_type": "stream",
     "text": [
      "INFO:tensorflow:Assets written to: detect_cancer/assets\n"
     ]
    }
   ],
   "source": [
    "model.save(\"detect_cancer\")"
   ]
  },
  {
   "cell_type": "markdown",
   "id": "ab175059",
   "metadata": {
    "id": "6NPH_kzTpDAC"
   },
   "source": [
    "# Evaluating the Trained Model"
   ]
  },
  {
   "cell_type": "code",
   "execution_count": 38,
   "id": "278df443",
   "metadata": {
    "colab": {
     "base_uri": "https://localhost:8080/"
    },
    "id": "KiuaQasclxbj",
    "outputId": "9d7be15c-6c52-4441-da18-cf8131cad577"
   },
   "outputs": [
    {
     "name": "stdout",
     "output_type": "stream",
     "text": [
      "Found 1980 validated image filenames belonging to 2 classes.\n",
      "Accuracy score:  0.8782828282828283\n",
      "F1 score:  0.8744717372003552\n",
      "[[1042  147]\n",
      " [  94  697]]\n"
     ]
    }
   ],
   "source": [
    "test_data['isCancerous'] = test_data['isCancerous'].astype('str')\n",
    "batch_size = 1\n",
    "\n",
    "test_datagen = ImageDataGenerator(rescale=1./255, data_format='channels_last')\n",
    "\n",
    "test_generator = test_datagen.flow_from_dataframe(\n",
    "        dataframe=test_data,\n",
    "        directory='/content/patch_images/',\n",
    "        x_col=\"ImageName\",\n",
    "        y_col=\"isCancerous\",\n",
    "        target_size=(27, 27),\n",
    "        batch_size=batch_size,\n",
    "        class_mode='categorical')\n",
    "\n",
    "# setup data some placeholders\n",
    "y_hat_all = list()\n",
    "y_all = list()\n",
    "filenames = test_generator.filenames\n",
    "N_images = len(filenames)\n",
    "batches = 0\n",
    "\n",
    "# iterate through the data generator and predict for each batch\n",
    "# hold the predictions and labels\n",
    "for x,y in test_generator:\n",
    "        y_hat = model.predict(x, verbose=0)\n",
    "        y_hat = np.argmax(y_hat, axis = 1)\n",
    "        y = np.argmax(y, axis = 1)\n",
    "        y_hat_all = y_hat_all + y_hat.tolist()\n",
    "        y_all = y_all + y.tolist()\n",
    "\n",
    "        batches += 1\n",
    "        if batches >= N_images / batch_size:\n",
    "            # we need to break the loop by hand because\n",
    "            # the generator loops indefinitely\n",
    "            break\n",
    "\n",
    "# now you have made the predictions you can use any performance metric\n",
    "# you wish: either in sklearn or some function you have written\n",
    "\n",
    "from sklearn.metrics import classification_report\n",
    "from sklearn.metrics import confusion_matrix, accuracy_score, f1_score\n",
    "\n",
    "print(\"Accuracy score: \", accuracy_score(y_all, y_hat_all))\n",
    "print(\"F1 score: \", f1_score(y_all, y_hat_all, average='macro'))\n",
    "print(confusion_matrix(y_all, y_hat_all))"
   ]
  },
  {
   "cell_type": "code",
   "execution_count": 39,
   "id": "d6117d64",
   "metadata": {
    "colab": {
     "base_uri": "https://localhost:8080/"
    },
    "id": "n_YJv5A7qldj",
    "outputId": "9ee6bf16-cd2b-4007-b7c5-86ea452e49c5"
   },
   "outputs": [
    {
     "name": "stdout",
     "output_type": "stream",
     "text": [
      "1980/1980 [==============================] - 4s 2ms/step - loss: 0.3063 - categorical_accuracy: 0.8783\n"
     ]
    },
    {
     "data": {
      "text/plain": [
       "[0.306303471326828, 0.8782828450202942]"
      ]
     },
     "execution_count": 39,
     "metadata": {
      "tags": []
     },
     "output_type": "execute_result"
    }
   ],
   "source": [
    "model.evaluate(test_generator)"
   ]
  },
  {
   "cell_type": "code",
   "execution_count": 40,
   "id": "e1a1d9c1",
   "metadata": {
    "id": "7w813Jv8qlgV"
   },
   "outputs": [],
   "source": [
    "label_names = {'cancer' : 0, 'noCancer' : 1}"
   ]
  },
  {
   "cell_type": "code",
   "execution_count": 41,
   "id": "489fe7c1",
   "metadata": {
    "colab": {
     "base_uri": "https://localhost:8080/",
     "height": 201
    },
    "id": "8e6nXb2Yqljm",
    "outputId": "891f58b5-6fb0-4dff-fcfe-5797032ff73b"
   },
   "outputs": [
    {
     "data": {
      "image/png": "[encoded data removed]",
      "text/plain": [
       "<Figure size 1152x288 with 4 Axes>"
      ]
     },
     "metadata": {
      "needs_background": "light",
      "tags": []
     },
     "output_type": "display_data"
    }
   ],
   "source": [
    "d_inv = {v: k for k, v in label_names.items()}\n",
    "plt.figure(figsize=(16,4))\n",
    "batches = 0\n",
    "for x,y in test_generator:\n",
    "        batches = batches + 1\n",
    "        y_hat = model.predict(x, verbose=0)\n",
    "        x = np.squeeze(x)\n",
    "        if batches < 5:\n",
    "            plt.subplot(1,5,batches)\n",
    "            plt.imshow(x)\n",
    "            plt.title(\"GT-{}, Pred-{}\".format(d_inv[np.argmax(y[0])], d_inv[np.argmax(y_hat[0])] ))\n",
    "            \n",
    "        else:\n",
    "            break\n",
    "        \n",
    "        plt.axis('off')"
   ]
  },
  {
   "cell_type": "markdown",
   "id": "f7866afc",
   "metadata": {
    "id": "BTcuD_z7qvAx"
   },
   "source": []
  },
  {
   "cell_type": "markdown",
   "id": "51d00f8c",
   "metadata": {
    "id": "ZTs817yfqvO0"
   },
   "source": [
    "# VGG Model- Predicting cell image whether cancerous or not"
   ]
  },
  {
   "cell_type": "code",
   "execution_count": 42,
   "id": "7c106831",
   "metadata": {
    "colab": {
     "base_uri": "https://localhost:8080/"
    },
    "id": "6a86ae88",
    "outputId": "53702e94-767d-47bb-d9f7-4c7e114d7a5e"
   },
   "outputs": [
    {
     "name": "stdout",
     "output_type": "stream",
     "text": [
      "Found 5937 validated image filenames belonging to 2 classes.\n",
      "Found 1979 validated image filenames belonging to 2 classes.\n"
     ]
    }
   ],
   "source": [
    "train_data['isCancerous'] = train_data['isCancerous'].astype('str')\n",
    "val_data['isCancerous'] = val_data['isCancerous'].astype('str')\n",
    "\n",
    "from tensorflow.keras.preprocessing.image import ImageDataGenerator\n",
    "\n",
    "train_datagen = ImageDataGenerator(rescale=1./255, data_format='channels_last')\n",
    "val_datagen = ImageDataGenerator(rescale=1./255, data_format='channels_last')\n",
    "\n",
    "batch_size = 32\n",
    "\n",
    "train_generator = train_datagen.flow_from_dataframe(\n",
    "        dataframe=train_data,\n",
    "        directory='/content/patch_images',\n",
    "        x_col=\"ImageName\",\n",
    "        y_col=\"isCancerous\",\n",
    "        target_size=(27, 27),\n",
    "        batch_size=batch_size,\n",
    "        class_mode='categorical')\n",
    "\n",
    "validation_generator = val_datagen.flow_from_dataframe(\n",
    "        dataframe=val_data,\n",
    "        directory='/content/patch_images',\n",
    "        x_col=\"ImageName\",\n",
    "        y_col=\"isCancerous\",\n",
    "        target_size=(27,27),\n",
    "        batch_size=batch_size,\n",
    "        class_mode='categorical')"
   ]
  },
  {
   "cell_type": "code",
   "execution_count": null,
   "id": "93abc67a",
   "metadata": {
    "id": "6c08ffce-42ae-47b4-8971-3b76081cd231"
   },
   "outputs": [],
   "source": []
  },
  {
   "cell_type": "code",
   "execution_count": 43,
   "id": "a603b633",
   "metadata": {
    "id": "fa0b6dc8-6584-4e50-943c-ba24157e39c2"
   },
   "outputs": [],
   "source": [
    "\n",
    "\n",
    "model_VGG_1 = tf.keras.Sequential([\n",
    "    #VGG block 1\n",
    "    tf.keras.layers.Conv2D(32, (3, 3), activation='relu', padding='same', input_shape=(27, 27, 3)),\n",
    "    tf.keras.layers.Conv2D(32, (3, 3), activation='relu', padding='same'),\n",
    "    tf.keras.layers.MaxPooling2D((2, 2)),\n",
    "    \n",
    "    #VGG block 2\n",
    "    tf.keras.layers.Conv2D(64, (3, 3), activation='relu', padding='same'),\n",
    "    tf.keras.layers.Conv2D(64, (3, 3), activation='relu', padding='same'),\n",
    "    tf.keras.layers.MaxPooling2D((2, 2)),\n",
    "    \n",
    "    #VGG block 3\n",
    "    tf.keras.layers.Conv2D(128, (3, 3), activation='relu', padding='same'),\n",
    "    tf.keras.layers.Conv2D(128, (3, 3), activation='relu', padding='same'),\n",
    "    tf.keras.layers.MaxPooling2D((2, 2)),\n",
    "    \n",
    "    tf.keras.layers.Flatten(),\n",
    "    tf.keras.layers.Dense(128, activation='relu'),\n",
    "    tf.keras.layers.Dense(OUTPUT_CLASSES),\n",
    "])"
   ]
  },
  {
   "cell_type": "code",
   "execution_count": 45,
   "id": "9626e92b",
   "metadata": {
    "id": "877bdaa6-2595-4cf9-a0e8-b75644a07845"
   },
   "outputs": [],
   "source": [
    "model_VGG_1.compile(optimizer='adam',\n",
    "              loss=tf.keras.losses.CategoricalCrossentropy(from_logits=True),\n",
    "              metrics=['categorical_accuracy'])"
   ]
  },
  {
   "cell_type": "code",
   "execution_count": 46,
   "id": "11d9e1e4",
   "metadata": {
    "id": "777a94bc-7db6-4937-adb0-d96c6ce2a5a0"
   },
   "outputs": [],
   "source": [
    "history_VGG_1 = model_VGG_1.fit_generator(train_generator, validation_data = validation_generator, epochs=25,verbose=0)"
   ]
  },
  {
   "cell_type": "code",
   "execution_count": 47,
   "id": "67a51b67",
   "metadata": {
    "colab": {
     "base_uri": "https://localhost:8080/",
     "height": 334
    },
    "id": "2dfc9ea1-a336-47cf-8fe7-4c6b970586b3",
    "outputId": "7c69a092-76f7-48d8-c1d4-86a13d49b11d"
   },
   "outputs": [
    {
     "data": {
      "image/png": "[encoded data removed]",
      "text/plain": [
       "<Figure size 720x360 with 2 Axes>"
      ]
     },
     "metadata": {
      "needs_background": "light",
      "tags": []
     },
     "output_type": "display_data"
    }
   ],
   "source": [
    "plot_learning_curve(history_VGG_1.history['loss'], history_VGG_1.history['val_loss'], \n",
    "                    history_VGG_1.history['categorical_accuracy'], history_VGG_1.history['val_categorical_accuracy'], \n",
    "                    metric_name='Accuracy')"
   ]
  },
  {
   "cell_type": "markdown",
   "id": "59ddc382",
   "metadata": {
    "id": "bb01c593-7e5c-45c7-83a5-4478b1191e1f"
   },
   "source": [
    "# Overfitting"
   ]
  },
  {
   "cell_type": "markdown",
   "id": "e656a5ba",
   "metadata": {
    "id": "e19c8488-6318-4faf-9e85-eb24a40e5f2a"
   },
   "source": [
    "## Apply Regularisation"
   ]
  },
  {
   "cell_type": "code",
   "execution_count": 48,
   "id": "afafbbf8",
   "metadata": {
    "id": "a63ced98-463d-4fd7-9be7-ef70d19fda26"
   },
   "outputs": [],
   "source": [
    "reg_lambda = 0.001\n",
    "\n",
    "model_VGG_2 = tf.keras.Sequential([\n",
    "    #VGG block 1\n",
    "    tf.keras.layers.Conv2D(32, (3, 3), activation='relu', padding='same', \n",
    "                           kernel_regularizer=tf.keras.regularizers.l2(reg_lambda), input_shape=(27, 27, 3)),\n",
    "    tf.keras.layers.Conv2D(32, (3, 3), activation='relu', padding='same', \n",
    "                           kernel_regularizer=tf.keras.regularizers.l2(reg_lambda)),\n",
    "    tf.keras.layers.MaxPooling2D((2, 2)),\n",
    "    \n",
    "    #VGG block 2\n",
    "    tf.keras.layers.Conv2D(64, (3, 3), activation='relu', padding='same', \n",
    "                           kernel_regularizer=tf.keras.regularizers.l2(reg_lambda)),\n",
    "    tf.keras.layers.Conv2D(64, (3, 3), activation='relu', padding='same', \n",
    "                           kernel_regularizer=tf.keras.regularizers.l2(reg_lambda)),\n",
    "    tf.keras.layers.MaxPooling2D((2, 2)),\n",
    "    \n",
    "    #VGG block 3\n",
    "    tf.keras.layers.Conv2D(128, (3, 3), activation='relu', padding='same', \n",
    "                           kernel_regularizer=tf.keras.regularizers.l2(reg_lambda)),\n",
    "    tf.keras.layers.Conv2D(128, (3, 3), activation='relu', padding='same', \n",
    "                           kernel_regularizer=tf.keras.regularizers.l2(reg_lambda)),\n",
    "    tf.keras.layers.MaxPooling2D((2, 2)),\n",
    "    \n",
    "    tf.keras.layers.Flatten(),\n",
    "    tf.keras.layers.Dense(128, activation='relu'),\n",
    "    tf.keras.layers.Dropout(.2),\n",
    "    tf.keras.layers.Dense(OUTPUT_CLASSES),\n",
    "])"
   ]
  },
  {
   "cell_type": "code",
   "execution_count": 49,
   "id": "7bcc0192",
   "metadata": {
    "id": "660ffebd-e114-4a54-a313-6bc9bed0a9b1"
   },
   "outputs": [],
   "source": [
    "model_VGG_2.compile(optimizer='adam',\n",
    "              loss=tf.keras.losses.CategoricalCrossentropy(from_logits=True),\n",
    "              metrics=['categorical_accuracy'])"
   ]
  },
  {
   "cell_type": "code",
   "execution_count": 50,
   "id": "0d5996ad",
   "metadata": {
    "colab": {
     "base_uri": "https://localhost:8080/",
     "height": 335
    },
    "id": "ca7fe6e2-5c4e-4b68-a0d7-f4c26eca9c30",
    "outputId": "8ac33d03-9e80-4339-a00b-2a8f79ce1d8f"
   },
   "outputs": [
    {
     "data": {
      "image/png": "[encoded data removed]",
      "text/plain": [
       "<Figure size 720x360 with 2 Axes>"
      ]
     },
     "metadata": {
      "needs_background": "light",
      "tags": []
     },
     "output_type": "display_data"
    }
   ],
   "source": [
    "history_VGG_2 = model_VGG_2.fit_generator(train_generator, validation_data = validation_generator, epochs=100, verbose=0)\n",
    "\n",
    "plot_learning_curve(history_VGG_2.history['loss'], history_VGG_2.history['val_loss'], \n",
    "                    history_VGG_2.history['categorical_accuracy'], history_VGG_2.history['val_categorical_accuracy'], \n",
    "                    metric_name='Accuracy')"
   ]
  },
  {
   "cell_type": "markdown",
   "id": "465bd801",
   "metadata": {
    "id": "2f94386e-7738-4240-9b8e-fa866e9dacee"
   },
   "source": [
    "### Data Augmentation"
   ]
  },
  {
   "cell_type": "code",
   "execution_count": null,
   "id": "1316bf2f",
   "metadata": {
    "id": "17aa48f7-b3d0-475c-af95-0c082ab2a76b"
   },
   "outputs": [],
   "source": [
    "\n",
    "train_data['isCancerous'] = train_data['isCancerous'].astype('str')\n",
    "val_data['isCancerous'] = val_data['isCancerous'].astype('str')\n",
    "from tensorflow.keras.preprocessing.image import ImageDataGenerator\n",
    "\n",
    "train_datagen = ImageDataGenerator(rescale=1./255, data_format='channels_last',\n",
    "                                   rotation_range=15, width_shift_range=0.2,\n",
    "                                   height_shift_range=0.2, brightness_range=[0.5,1.5])\n",
    "val_datagen = ImageDataGenerator(rescale=1./255, data_format='channels_last')\n",
    "\n",
    "batch_size = 32\n",
    "\n",
    "train_generator = train_datagen.flow_from_dataframe(\n",
    "        dataframe=train_data,\n",
    "        directory='/content/patch_images',\n",
    "        x_col=\"ImageName\",\n",
    "        y_col=\"isCancerous\",\n",
    "        target_size=(27, 27),\n",
    "        batch_size=batch_size,\n",
    "        class_mode='categorical')\n",
    "\n",
    "validation_generator = val_datagen.flow_from_dataframe(\n",
    "        dataframe=val_data,\n",
    "        directory='/content/patch_images',\n",
    "        x_col=\"ImageName\",\n",
    "        y_col=\"isCancerous\",\n",
    "        target_size=(27, 27),\n",
    "        batch_size=batch_size,\n",
    "        class_mode='categorical')"
   ]
  },
  {
   "cell_type": "code",
   "execution_count": 3,
   "id": "1230afd6",
   "metadata": {
    "id": "af0a8d9e-1fe6-4e43-81a6-7aeeb34d3a58"
   },
   "outputs": [],
   "source": [
    "reg_lambda = 0.001\n",
    "\n",
    "model_VGG_3 = tf.keras.Sequential([\n",
    "    #VGG block 1\n",
    "    tf.keras.layers.Conv2D(32, (3, 3), activation='relu', padding='same', \n",
    "                           kernel_regularizer=tf.keras.regularizers.l2(reg_lambda), input_shape=(27, 27, 3)),\n",
    "    tf.keras.layers.Conv2D(32, (3, 3), activation='relu', padding='same', \n",
    "                           kernel_regularizer=tf.keras.regularizers.l2(reg_lambda)),\n",
    "    tf.keras.layers.MaxPooling2D((2, 2)),\n",
    "    \n",
    "    #VGG block 2\n",
    "    tf.keras.layers.Conv2D(64, (3, 3), activation='relu', padding='same', \n",
    "                           kernel_regularizer=tf.keras.regularizers.l2(reg_lambda)),\n",
    "    tf.keras.layers.Conv2D(64, (3, 3), activation='relu', padding='same', \n",
    "                           kernel_regularizer=tf.keras.regularizers.l2(reg_lambda)),\n",
    "    tf.keras.layers.MaxPooling2D((2, 2)),\n",
    "    \n",
    "    #VGG block 3\n",
    "    tf.keras.layers.Conv2D(128, (3, 3), activation='relu', padding='same', \n",
    "                           kernel_regularizer=tf.keras.regularizers.l2(reg_lambda)),\n",
    "    tf.keras.layers.Conv2D(128, (3, 3), activation='relu', padding='same', \n",
    "                           kernel_regularizer=tf.keras.regularizers.l2(reg_lambda)),\n",
    "    tf.keras.layers.MaxPooling2D((2, 2)),\n",
    "    \n",
    "    \n",
    "    tf.keras.layers.Flatten(),\n",
    "    tf.keras.layers.Dense(128, activation='relu', kernel_regularizer=tf.keras.regularizers.l2(reg_lambda)),\n",
    "    tf.keras.layers.Dense(OUTPUT_CLASSES),\n",
    "])"
   ]
  },
  {
   "cell_type": "code",
   "execution_count": 5,
   "id": "c4a210cf",
   "metadata": {},
   "outputs": [
    {
     "name": "stdout",
     "output_type": "stream",
     "text": [
      "Model: \"sequential\"\n",
      "_________________________________________________________________\n",
      "Layer (type)                 Output Shape              Param #   \n",
      "=================================================================\n",
      "conv2d (Conv2D)              (None, 27, 27, 32)        896       \n",
      "_________________________________________________________________\n",
      "conv2d_1 (Conv2D)            (None, 27, 27, 32)        9248      \n",
      "_________________________________________________________________\n",
      "max_pooling2d (MaxPooling2D) (None, 13, 13, 32)        0         \n",
      "_________________________________________________________________\n",
      "conv2d_2 (Conv2D)            (None, 13, 13, 64)        18496     \n",
      "_________________________________________________________________\n",
      "conv2d_3 (Conv2D)            (None, 13, 13, 64)        36928     \n",
      "_________________________________________________________________\n",
      "max_pooling2d_1 (MaxPooling2 (None, 6, 6, 64)          0         \n",
      "_________________________________________________________________\n",
      "conv2d_4 (Conv2D)            (None, 6, 6, 128)         73856     \n",
      "_________________________________________________________________\n",
      "conv2d_5 (Conv2D)            (None, 6, 6, 128)         147584    \n",
      "_________________________________________________________________\n",
      "max_pooling2d_2 (MaxPooling2 (None, 3, 3, 128)         0         \n",
      "_________________________________________________________________\n",
      "flatten (Flatten)            (None, 1152)              0         \n",
      "_________________________________________________________________\n",
      "dense (Dense)                (None, 128)               147584    \n",
      "_________________________________________________________________\n",
      "dense_1 (Dense)              (None, 2)                 258       \n",
      "=================================================================\n",
      "Total params: 434,850\n",
      "Trainable params: 434,850\n",
      "Non-trainable params: 0\n",
      "_________________________________________________________________\n"
     ]
    }
   ],
   "source": [
    "model_VGG_3.summary()"
   ]
  },
  {
   "cell_type": "code",
   "execution_count": 6,
   "id": "45d70f3d",
   "metadata": {},
   "outputs": [
    {
     "data": {
      "image/png": "[encoded data removed]",
      "text/plain": [
       "<IPython.core.display.Image object>"
      ]
     },
     "execution_count": 6,
     "metadata": {},
     "output_type": "execute_result"
    }
   ],
   "source": [
    "tf.keras.utils.plot_model(model_VGG_3, show_shapes=True)"
   ]
  },
  {
   "cell_type": "code",
   "execution_count": 53,
   "id": "2051942a",
   "metadata": {
    "id": "91588fa8-31cf-4348-8f4f-1f7d755de7d0"
   },
   "outputs": [],
   "source": [
    "model_VGG_3.compile(optimizer='adam',\n",
    "              loss=tf.keras.losses.CategoricalCrossentropy(from_logits=True),\n",
    "              metrics=['categorical_accuracy'])"
   ]
  },
  {
   "cell_type": "code",
   "execution_count": 54,
   "id": "a0fd9bd0",
   "metadata": {
    "colab": {
     "base_uri": "https://localhost:8080/",
     "height": 334
    },
    "id": "6eedac50-cbed-4bc8-871f-03333ab69b89",
    "outputId": "bac80cb9-e588-4a0a-9075-2754767e6584"
   },
   "outputs": [
    {
     "data": {
      "image/png": "[encoded data removed]",
      "text/plain": [
       "<Figure size 720x360 with 2 Axes>"
      ]
     },
     "metadata": {
      "needs_background": "light",
      "tags": []
     },
     "output_type": "display_data"
    }
   ],
   "source": [
    "history_VGG_3 = model_VGG_3.fit_generator(train_generator, validation_data = validation_generator, epochs=100, verbose=0)\n",
    "\n",
    "plot_learning_curve(history_VGG_3.history['loss'], history_VGG_3.history['val_loss'], \n",
    "                    history_VGG_3.history['categorical_accuracy'], history_VGG_3.history['val_categorical_accuracy'], \n",
    "                    metric_name='Accuracy')"
   ]
  },
  {
   "cell_type": "code",
   "execution_count": 54,
   "id": "dc0952a0",
   "metadata": {
    "id": "6tPIJoeGzHDr"
   },
   "outputs": [],
   "source": []
  },
  {
   "cell_type": "markdown",
   "id": "2e1f9eef",
   "metadata": {
    "id": "TecsWSj-zH21"
   },
   "source": [
    "### Save the Model\n",
    "\n"
   ]
  },
  {
   "cell_type": "code",
   "execution_count": 55,
   "id": "0005f188",
   "metadata": {
    "colab": {
     "base_uri": "https://localhost:8080/"
    },
    "id": "9854ecc6-8b7a-4cdb-955b-276cb44adc0b",
    "outputId": "b4436a6f-c7c7-4003-f1f5-90b959d42a88"
   },
   "outputs": [
    {
     "name": "stdout",
     "output_type": "stream",
     "text": [
      "INFO:tensorflow:Assets written to: model_VGG_3/assets\n"
     ]
    }
   ],
   "source": [
    "model_VGG_3.save(\"model_VGG_3\")"
   ]
  },
  {
   "cell_type": "code",
   "execution_count": 56,
   "id": "a175e412",
   "metadata": {
    "id": "2d46ded3-c190-43b6-ac44-249c75b37bd0"
   },
   "outputs": [],
   "source": [
    "!cp -R ./model_VGG_3 /content/drive/'My Drive'/CML-Assignment2/"
   ]
  },
  {
   "cell_type": "code",
   "execution_count": 56,
   "id": "871760a9",
   "metadata": {
    "id": "5v75QklhLGY2"
   },
   "outputs": [],
   "source": []
  },
  {
   "cell_type": "markdown",
   "id": "6047b09e",
   "metadata": {
    "id": "k2PK_iAaLHsA"
   },
   "source": [
    "## Testing the Model we have created finally"
   ]
  },
  {
   "cell_type": "code",
   "execution_count": 58,
   "id": "6b7bad93",
   "metadata": {
    "colab": {
     "base_uri": "https://localhost:8080/"
    },
    "id": "58190491-30b3-48ea-a162-00c606ff2cdc",
    "outputId": "7fdde2ac-d3e9-41e6-b24e-fa3249897694"
   },
   "outputs": [
    {
     "name": "stdout",
     "output_type": "stream",
     "text": [
      "Found 1980 validated image filenames belonging to 2 classes.\n",
      "Accuracy score:  0.8808080808080808\n",
      "F1 score:  0.8744371868856617\n",
      "[[1095   94]\n",
      " [ 142  649]]\n"
     ]
    }
   ],
   "source": [
    "test_data['isCancerous'] = test_data['isCancerous'].astype('str')\n",
    "batch_size = 1\n",
    "test_datagen = ImageDataGenerator(rescale=1./255, data_format='channels_last')\n",
    "\n",
    "\n",
    "\n",
    "test_generator = test_datagen.flow_from_dataframe(\n",
    "        dataframe=test_data,\n",
    "        directory='/content/patch_images',\n",
    "        x_col=\"ImageName\",\n",
    "        y_col=\"isCancerous\",\n",
    "        target_size=(27, 27),\n",
    "        batch_size=batch_size,\n",
    "        class_mode='categorical')\n",
    "\n",
    "# setup data some placeholders\n",
    "y_hat_all = list()\n",
    "y_all = list()\n",
    "filenames = test_generator.filenames\n",
    "N_images = len(filenames)\n",
    "batches = 0\n",
    "\n",
    "# iterate through the data generator and predict for each batch\n",
    "# hold the predictions and labels\n",
    "for x,y in test_generator:\n",
    "        y_hat = model_VGG_3.predict(x, verbose=0)\n",
    "        y_hat = np.argmax(y_hat, axis = 1)\n",
    "        y = np.argmax(y, axis = 1)\n",
    "        y_hat_all = y_hat_all + y_hat.tolist()\n",
    "        y_all = y_all + y.tolist()\n",
    "\n",
    "        batches += 1\n",
    "        if batches >= N_images / batch_size:\n",
    "            # we need to break the loop by hand because\n",
    "            # the generator loops indefinitely\n",
    "            break\n",
    "\n",
    "# now you have made the predictions you can use any performance metric\n",
    "# you wish: either in sklearn or some function you have written\n",
    "\n",
    "from sklearn.metrics import classification_report\n",
    "from sklearn.metrics import confusion_matrix, accuracy_score, f1_score\n",
    "\n",
    "print(\"Accuracy score: \", accuracy_score(y_all, y_hat_all))\n",
    "print(\"F1 score: \", f1_score(y_all, y_hat_all, average='macro'))\n",
    "print(confusion_matrix(y_all, y_hat_all))"
   ]
  },
  {
   "cell_type": "code",
   "execution_count": 59,
   "id": "7867513c",
   "metadata": {
    "colab": {
     "base_uri": "https://localhost:8080/"
    },
    "id": "W_dLzjrL1mo0",
    "outputId": "c95257be-6e47-4f0b-e563-c1dbb32b0f52"
   },
   "outputs": [
    {
     "name": "stdout",
     "output_type": "stream",
     "text": [
      "1980/1980 [==============================] - 6s 3ms/step - loss: 0.3192 - categorical_accuracy: 0.8808\n"
     ]
    },
    {
     "data": {
      "text/plain": [
       "[0.3191906213760376, 0.8808080554008484]"
      ]
     },
     "execution_count": 59,
     "metadata": {
      "tags": []
     },
     "output_type": "execute_result"
    }
   ],
   "source": [
    "model_VGG_3.evaluate(test_generator)"
   ]
  },
  {
   "cell_type": "markdown",
   "id": "6cbf7c5a",
   "metadata": {
    "id": "TsQK1DNoLtCM"
   },
   "source": [
    "## Plotting our Final Results"
   ]
  },
  {
   "cell_type": "code",
   "execution_count": 60,
   "id": "a020a930",
   "metadata": {
    "id": "Bk0pYu0k1ms9"
   },
   "outputs": [],
   "source": [
    "label_names = {'cancer' : 0, 'noCancer' : 1}"
   ]
  },
  {
   "cell_type": "code",
   "execution_count": 61,
   "id": "e86f81c8",
   "metadata": {
    "colab": {
     "base_uri": "https://localhost:8080/",
     "height": 201
    },
    "id": "5h6xZcxAJeXa",
    "outputId": "4b1b1c29-2a8e-44aa-cdc7-094af3ac6857"
   },
   "outputs": [
    {
     "data": {
      "image/png": "[encoded data removed]",
      "text/plain": [
       "<Figure size 1152x288 with 4 Axes>"
      ]
     },
     "metadata": {
      "needs_background": "light",
      "tags": []
     },
     "output_type": "display_data"
    }
   ],
   "source": [
    "d_inv = {v: k for k, v in label_names.items()}\n",
    "plt.figure(figsize=(16,4))\n",
    "batches = 0\n",
    "for x,y in test_generator:\n",
    "        batches = batches + 1\n",
    "        y_hat = model_VGG_3.predict(x, verbose=0)\n",
    "        x = np.squeeze(x)\n",
    "        if batches < 5:\n",
    "            plt.subplot(1,5,batches)\n",
    "            plt.imshow(x)\n",
    "            plt.title(\"GT-{}, Pred-{}\".format(d_inv[np.argmax(y[0])], d_inv[np.argmax(y_hat[0])] ))\n",
    "            \n",
    "        else:\n",
    "            break\n",
    "        \n",
    "        plt.axis('off')"
   ]
  }
 ],
 "metadata": {
  "accelerator": "GPU",
  "colab": {
   "collapsed_sections": [],
   "include_colab_link": true,
   "name": "Final_Task1.ipynb",
   "provenance": [],
   "toc_visible": true
  },
  "kernelspec": {
   "display_name": "conda_tensorflow_p36",
   "language": "python",
   "name": "conda_tensorflow_p36"
  },
  "language_info": {
   "codemirror_mode": {
    "name": "ipython",
    "version": 3
   },
   "file_extension": ".py",
   "mimetype": "text/x-python",
   "name": "python",
   "nbconvert_exporter": "python",
   "pygments_lexer": "ipython3",
   "version": "3.6.13"
  }
 },
 "nbformat": 4,
 "nbformat_minor": 5
}
