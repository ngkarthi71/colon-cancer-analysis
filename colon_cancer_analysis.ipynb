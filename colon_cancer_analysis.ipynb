{
 "cells": [
  {
   "cell_type": "code",
   "execution_count": 28,
   "id": "56615ac6",
   "metadata": {},
   "outputs": [],
   "source": [
    "import numpy as np\n",
    "import pandas as pd\n",
    "import matplotlib.pyplot as plt\n",
    "import matplotlib.patches as patches\n",
    "import os\n",
    "import cv2 as cv\n",
    "\n",
    "import IPython.display as display\n",
    "from PIL import Image\n",
    "\n",
    "from sklearn.model_selection import train_test_split\n"
   ]
  },
  {
   "cell_type": "code",
   "execution_count": 29,
   "id": "78e7a516",
   "metadata": {},
   "outputs": [
    {
     "name": "stdout",
     "output_type": "stream",
     "text": [
      "2.5.0\n"
     ]
    }
   ],
   "source": [
    "import tensorflow as tf\n",
    "from tensorflow.keras.preprocessing.image import ImageDataGenerator\n",
    "from tensorflow.keras.models import load_model\n",
    "from tensorflow.keras.models import Model\n",
    "from tensorflow.keras.layers import Dense\n",
    "from tensorflow.keras.layers import Flatten\n",
    "\n",
    "AUTOTUNE = tf.data.experimental.AUTOTUNE\n",
    "\n",
    "print(tf.__version__)"
   ]
  },
  {
   "cell_type": "code",
   "execution_count": 9,
   "id": "9e264493",
   "metadata": {},
   "outputs": [],
   "source": [
    "colon_main = pd.read_csv(\"./Image_classification_data/data_labels_mainData.csv\")"
   ]
  },
  {
   "cell_type": "code",
   "execution_count": 123,
   "id": "b48a44b2",
   "metadata": {},
   "outputs": [
    {
     "data": {
      "text/html": [
       "<div>\n",
       "<style scoped>\n",
       "    .dataframe tbody tr th:only-of-type {\n",
       "        vertical-align: middle;\n",
       "    }\n",
       "\n",
       "    .dataframe tbody tr th {\n",
       "        vertical-align: top;\n",
       "    }\n",
       "\n",
       "    .dataframe thead th {\n",
       "        text-align: right;\n",
       "    }\n",
       "</style>\n",
       "<table border=\"1\" class=\"dataframe\">\n",
       "  <thead>\n",
       "    <tr style=\"text-align: right;\">\n",
       "      <th></th>\n",
       "      <th>InstanceID</th>\n",
       "      <th>patientID</th>\n",
       "      <th>ImageName</th>\n",
       "      <th>cellTypeName</th>\n",
       "      <th>cellType</th>\n",
       "      <th>isCancerous</th>\n",
       "    </tr>\n",
       "  </thead>\n",
       "  <tbody>\n",
       "    <tr>\n",
       "      <th>0</th>\n",
       "      <td>22405</td>\n",
       "      <td>1</td>\n",
       "      <td>22405.png</td>\n",
       "      <td>fibroblast</td>\n",
       "      <td>0</td>\n",
       "      <td>0</td>\n",
       "    </tr>\n",
       "    <tr>\n",
       "      <th>1</th>\n",
       "      <td>22406</td>\n",
       "      <td>1</td>\n",
       "      <td>22406.png</td>\n",
       "      <td>fibroblast</td>\n",
       "      <td>0</td>\n",
       "      <td>0</td>\n",
       "    </tr>\n",
       "    <tr>\n",
       "      <th>2</th>\n",
       "      <td>22407</td>\n",
       "      <td>1</td>\n",
       "      <td>22407.png</td>\n",
       "      <td>fibroblast</td>\n",
       "      <td>0</td>\n",
       "      <td>0</td>\n",
       "    </tr>\n",
       "    <tr>\n",
       "      <th>3</th>\n",
       "      <td>22408</td>\n",
       "      <td>1</td>\n",
       "      <td>22408.png</td>\n",
       "      <td>fibroblast</td>\n",
       "      <td>0</td>\n",
       "      <td>0</td>\n",
       "    </tr>\n",
       "    <tr>\n",
       "      <th>4</th>\n",
       "      <td>22409</td>\n",
       "      <td>1</td>\n",
       "      <td>22409.png</td>\n",
       "      <td>fibroblast</td>\n",
       "      <td>0</td>\n",
       "      <td>0</td>\n",
       "    </tr>\n",
       "  </tbody>\n",
       "</table>\n",
       "</div>"
      ],
      "text/plain": [
       "   InstanceID  patientID  ImageName cellTypeName  cellType  isCancerous\n",
       "0       22405          1  22405.png   fibroblast         0            0\n",
       "1       22406          1  22406.png   fibroblast         0            0\n",
       "2       22407          1  22407.png   fibroblast         0            0\n",
       "3       22408          1  22408.png   fibroblast         0            0\n",
       "4       22409          1  22409.png   fibroblast         0            0"
      ]
     },
     "execution_count": 123,
     "metadata": {},
     "output_type": "execute_result"
    }
   ],
   "source": [
    "colon_main.head()"
   ]
  },
  {
   "cell_type": "code",
   "execution_count": 34,
   "id": "0b364767",
   "metadata": {},
   "outputs": [],
   "source": [
    "colon_main.drop(['cellTypeName'], axis=1, inplace=True)"
   ]
  },
  {
   "cell_type": "code",
   "execution_count": 164,
   "id": "86b1c874",
   "metadata": {},
   "outputs": [
    {
     "data": {
      "text/plain": [
       "InstanceID      int64\n",
       "patientID       int64\n",
       "ImageName      object\n",
       "cellType        int64\n",
       "isCancerous     int64\n",
       "dtype: object"
      ]
     },
     "execution_count": 164,
     "metadata": {},
     "output_type": "execute_result"
    }
   ],
   "source": [
    "colon_main.dtypes"
   ]
  },
  {
   "cell_type": "code",
   "execution_count": 165,
   "id": "1e152c95",
   "metadata": {},
   "outputs": [
    {
     "data": {
      "text/plain": [
       "InstanceID     0\n",
       "patientID      0\n",
       "ImageName      0\n",
       "cellType       0\n",
       "isCancerous    0\n",
       "dtype: int64"
      ]
     },
     "execution_count": 165,
     "metadata": {},
     "output_type": "execute_result"
    }
   ],
   "source": [
    "colon_main.isnull().sum()"
   ]
  },
  {
   "cell_type": "code",
   "execution_count": 35,
   "id": "1e16185c",
   "metadata": {},
   "outputs": [
    {
     "name": "stdout",
     "output_type": "stream",
     "text": [
      "Train data : 5937, \n",
      "Val Data: 1979, \n",
      "Test Data: 1980\n"
     ]
    }
   ],
   "source": [
    "train_data, test_data = train_test_split(colon_main, test_size=0.2, random_state=42)\n",
    "train_data, val_data = train_test_split(train_data, test_size=0.25, random_state=42)\n",
    "\n",
    "print(\"Train data : {}, \\nVal Data: {}, \\nTest Data: {}\".format(train_data.shape[0], val_data.shape[0], test_data.shape[0]))"
   ]
  },
  {
   "cell_type": "code",
   "execution_count": 10,
   "id": "244e395b",
   "metadata": {},
   "outputs": [],
   "source": [
    "def plot_learning_curve(train_loss, val_loss, train_metric, val_metric, metric_name='Accuracy'):\n",
    "    plt.figure(figsize=(10,5))\n",
    "    \n",
    "    plt.subplot(1,2,1)\n",
    "    plt.plot(train_loss, 'r--')\n",
    "    plt.plot(val_loss, 'b--')\n",
    "    plt.xlabel(\"epochs\")\n",
    "    plt.ylabel(\"Loss\")\n",
    "    plt.legend(['train', 'val'], loc='upper left')\n",
    "\n",
    "    plt.subplot(1,2,2)\n",
    "    plt.plot(train_metric, 'r--')\n",
    "    plt.plot(val_metric, 'b--')\n",
    "    plt.xlabel(\"epochs\")\n",
    "    plt.ylabel(metric_name)\n",
    "    plt.legend(['train', 'val'], loc='upper left')\n",
    "\n",
    "    plt.show()"
   ]
  },
  {
   "cell_type": "code",
   "execution_count": 15,
   "id": "9133f5e1",
   "metadata": {},
   "outputs": [],
   "source": [
    "import os, shutil, glob\n",
    "\n",
    "src_dir = \"./Image_classification_data/patch_images\"\n",
    "dst_dir = \"./Image_classification_data/main_images\"\n",
    "\n",
    "for img in colon_main['ImageName']:\n",
    "    shutil.copy(os.path.join(src_dir, img), dst_dir)\n",
    "    "
   ]
  },
  {
   "cell_type": "code",
   "execution_count": null,
   "id": "64a27c6b",
   "metadata": {},
   "outputs": [],
   "source": []
  },
  {
   "cell_type": "markdown",
   "id": "49f4f1f3",
   "metadata": {},
   "source": [
    "# Approach for the task 3\n",
    "### 1. Initializing the extra data\n",
    "### 2. Split the data into 3 equal halves\n",
    "### 3. Predict the cellType for the 1st batch of data using the previously saved model\n",
    "### 4. Replace the cellType 1st batch of data\n",
    "### 5. Load the base neural netwwork model\n",
    "### 6. Train the base model with the concept of transfer learning\n",
    "### 7. Repeat Steps 3 - 6 for the other 2 batches of data"
   ]
  },
  {
   "cell_type": "code",
   "execution_count": 11,
   "id": "c4548230",
   "metadata": {},
   "outputs": [],
   "source": [
    "colon_extra = pd.read_csv(\"./Image_classification_data/data_labels_extraData.csv\")"
   ]
  },
  {
   "cell_type": "code",
   "execution_count": 14,
   "id": "f11b8b6e",
   "metadata": {},
   "outputs": [],
   "source": [
    "import os, shutil, glob\n",
    "\n",
    "src_dir = \"./Image_classification_data/patch_images\"\n",
    "dst_dir = \"./Image_classification_data/extra_images\"\n",
    "\n",
    "for img in colon_extra['ImageName']:\n",
    "    \n",
    "    shutil.copy(os.path.join(src_dir, img), dst_dir)\n",
    "    "
   ]
  },
  {
   "cell_type": "code",
   "execution_count": 126,
   "id": "938ad9f3",
   "metadata": {},
   "outputs": [
    {
     "name": "stdout",
     "output_type": "stream",
     "text": [
      "Batch 1 : 3462, \n",
      "Batch 2: 3461, \n",
      "Batch 3: 3461\n"
     ]
    }
   ],
   "source": [
    "train_data, train_data_1 = train_test_split(colon_extra, test_size=colon_extra.shape[0]//3, random_state=42)\n",
    "train_data, train_data_2 = train_test_split(train_data, test_size=colon_extra.shape[0]//3, random_state=42)\n",
    "\n",
    "print(\"Batch 1 : {}, \\nBatch 2: {}, \\nBatch 3: {}\".format(train_data.shape[0], train_data_1.shape[0], train_data_2.shape[0]))"
   ]
  },
  {
   "cell_type": "code",
   "execution_count": 18,
   "id": "b8c21a3a",
   "metadata": {},
   "outputs": [
    {
     "data": {
      "text/html": [
       "<div>\n",
       "<style scoped>\n",
       "    .dataframe tbody tr th:only-of-type {\n",
       "        vertical-align: middle;\n",
       "    }\n",
       "\n",
       "    .dataframe tbody tr th {\n",
       "        vertical-align: top;\n",
       "    }\n",
       "\n",
       "    .dataframe thead th {\n",
       "        text-align: right;\n",
       "    }\n",
       "</style>\n",
       "<table border=\"1\" class=\"dataframe\">\n",
       "  <thead>\n",
       "    <tr style=\"text-align: right;\">\n",
       "      <th></th>\n",
       "      <th>InstanceID</th>\n",
       "      <th>patientID</th>\n",
       "      <th>ImageName</th>\n",
       "      <th>isCancerous</th>\n",
       "    </tr>\n",
       "  </thead>\n",
       "  <tbody>\n",
       "    <tr>\n",
       "      <th>6837</th>\n",
       "      <td>9612</td>\n",
       "      <td>86</td>\n",
       "      <td>9612.png</td>\n",
       "      <td>0</td>\n",
       "    </tr>\n",
       "    <tr>\n",
       "      <th>7097</th>\n",
       "      <td>12301</td>\n",
       "      <td>87</td>\n",
       "      <td>12301.png</td>\n",
       "      <td>0</td>\n",
       "    </tr>\n",
       "    <tr>\n",
       "      <th>9420</th>\n",
       "      <td>21326</td>\n",
       "      <td>92</td>\n",
       "      <td>21326.png</td>\n",
       "      <td>0</td>\n",
       "    </tr>\n",
       "    <tr>\n",
       "      <th>9074</th>\n",
       "      <td>19498</td>\n",
       "      <td>91</td>\n",
       "      <td>19498.png</td>\n",
       "      <td>0</td>\n",
       "    </tr>\n",
       "    <tr>\n",
       "      <th>5483</th>\n",
       "      <td>17855</td>\n",
       "      <td>82</td>\n",
       "      <td>17855.png</td>\n",
       "      <td>0</td>\n",
       "    </tr>\n",
       "  </tbody>\n",
       "</table>\n",
       "</div>"
      ],
      "text/plain": [
       "      InstanceID  patientID  ImageName  isCancerous\n",
       "6837        9612         86   9612.png            0\n",
       "7097       12301         87  12301.png            0\n",
       "9420       21326         92  21326.png            0\n",
       "9074       19498         91  19498.png            0\n",
       "5483       17855         82  17855.png            0"
      ]
     },
     "execution_count": 18,
     "metadata": {},
     "output_type": "execute_result"
    }
   ],
   "source": [
    "train_data.head()"
   ]
  },
  {
   "cell_type": "markdown",
   "id": "711f4009",
   "metadata": {},
   "source": [
    "## Batch - 1 Training"
   ]
  },
  {
   "cell_type": "code",
   "execution_count": 19,
   "id": "fbb4f638",
   "metadata": {},
   "outputs": [],
   "source": [
    "base_model = load_model(\"predict_celltype.h5\")"
   ]
  },
  {
   "cell_type": "code",
   "execution_count": 127,
   "id": "a0d17516",
   "metadata": {},
   "outputs": [],
   "source": [
    "from sklearn.datasets import make_blobs\n",
    "from sklearn.preprocessing import MinMaxScaler\n",
    "\n",
    "X, train_data['cellType'], = make_blobs(n_samples=3462, centers=4, n_features=1, random_state=42)\n"
   ]
  },
  {
   "cell_type": "code",
   "execution_count": 83,
   "id": "c2403b7e",
   "metadata": {},
   "outputs": [
    {
     "data": {
      "text/plain": [
       "array(['0', '1', '2', '3'], dtype=object)"
      ]
     },
     "execution_count": 83,
     "metadata": {},
     "output_type": "execute_result"
    }
   ],
   "source": [
    "np.unique(train_data['cellType'])"
   ]
  },
  {
   "cell_type": "code",
   "execution_count": 129,
   "id": "84900c34",
   "metadata": {},
   "outputs": [
    {
     "data": {
      "text/plain": [
       "(3462, 5)"
      ]
     },
     "execution_count": 129,
     "metadata": {},
     "output_type": "execute_result"
    }
   ],
   "source": [
    "train_data.shape"
   ]
  },
  {
   "cell_type": "code",
   "execution_count": 130,
   "id": "8b678387",
   "metadata": {},
   "outputs": [
    {
     "name": "stdout",
     "output_type": "stream",
     "text": [
      "Found 3462 validated image filenames belonging to 4 classes.\n"
     ]
    },
    {
     "name": "stderr",
     "output_type": "stream",
     "text": [
      "/home/ec2-user/anaconda3/envs/tensorflow_p36/lib/python3.6/site-packages/keras_preprocessing/image/image_data_generator.py:349: UserWarning: This ImageDataGenerator specifies `featurewise_std_normalization`, which overrides setting of `featurewise_center`.\n",
      "  warnings.warn('This ImageDataGenerator specifies '\n",
      "/home/ec2-user/anaconda3/envs/tensorflow_p36/lib/python3.6/site-packages/keras_preprocessing/image/image_data_generator.py:356: UserWarning: This ImageDataGenerator specifies `samplewise_std_normalization`, which overrides setting of `samplewise_center`.\n",
      "  warnings.warn('This ImageDataGenerator specifies '\n"
     ]
    }
   ],
   "source": [
    "train_data['cellType'] = train_data['cellType'].astype('str')\n",
    "\n",
    "cell_train_datagen = ImageDataGenerator(\n",
    "                                rescale=1./255, \n",
    "                                data_format='channels_last',\n",
    "                                rotation_range=30, \n",
    "                                width_shift_range=0.2,\n",
    "                                height_shift_range=0.2,\n",
    "                                zoom_range = 0.2,\n",
    "                                featurewise_std_normalization=True,\n",
    "                                samplewise_std_normalization=True)\n",
    "\n",
    "batch_size = 1\n",
    "\n",
    "cell_train_generator = cell_train_datagen.flow_from_dataframe(\n",
    "        dataframe=train_data,\n",
    "        directory='./Image_classification_data/extra_images/',\n",
    "        x_col=\"ImageName\",\n",
    "        y_col=\"cellType\",\n",
    "        target_size=(27, 27),\n",
    "        batch_size=batch_size,\n",
    "        class_mode='categorical')"
   ]
  },
  {
   "cell_type": "code",
   "execution_count": 135,
   "id": "d9c74335",
   "metadata": {},
   "outputs": [
    {
     "name": "stdout",
     "output_type": "stream",
     "text": [
      "3462/3462 [==============================] - 10s 3ms/step - loss: 5.2105 - categorical_accuracy: 0.2516\n"
     ]
    },
    {
     "data": {
      "text/plain": [
       "[5.2105302810668945, 0.2515886723995209]"
      ]
     },
     "execution_count": 135,
     "metadata": {},
     "output_type": "execute_result"
    }
   ],
   "source": [
    "base_model.evaluate(cell_train_generator)"
   ]
  },
  {
   "cell_type": "code",
   "execution_count": 131,
   "id": "f817deb6",
   "metadata": {
    "collapsed": true,
    "jupyter": {
     "outputs_hidden": true
    }
   },
   "outputs": [
    {
     "name": "stderr",
     "output_type": "stream",
     "text": [
      "/home/ec2-user/anaconda3/envs/tensorflow_p36/lib/python3.6/site-packages/keras_preprocessing/image/image_data_generator.py:720: UserWarning: This ImageDataGenerator specifies `featurewise_center`, but it hasn't been fit on any training data. Fit it first by calling `.fit(numpy_data)`.\n",
      "  warnings.warn('This ImageDataGenerator specifies '\n",
      "/home/ec2-user/anaconda3/envs/tensorflow_p36/lib/python3.6/site-packages/keras_preprocessing/image/image_data_generator.py:728: UserWarning: This ImageDataGenerator specifies `featurewise_std_normalization`, but it hasn't been fit on any training data. Fit it first by calling `.fit(numpy_data)`.\n",
      "  warnings.warn('This ImageDataGenerator specifies '\n"
     ]
    },
    {
     "data": {
      "text/plain": [
       "[2,\n",
       " 2,\n",
       " 2,\n",
       " 2,\n",
       " 2,\n",
       " 2,\n",
       " 2,\n",
       " 2,\n",
       " 2,\n",
       " 2,\n",
       " 2,\n",
       " 2,\n",
       " 2,\n",
       " 2,\n",
       " 2,\n",
       " 2,\n",
       " 3,\n",
       " 2,\n",
       " 2,\n",
       " 2,\n",
       " 2,\n",
       " 2,\n",
       " 2,\n",
       " 2,\n",
       " 1,\n",
       " 2,\n",
       " 2,\n",
       " 2,\n",
       " 2,\n",
       " 2,\n",
       " 2,\n",
       " 2,\n",
       " 2,\n",
       " 1,\n",
       " 2,\n",
       " 2,\n",
       " 2,\n",
       " 2,\n",
       " 2,\n",
       " 2,\n",
       " 2,\n",
       " 2,\n",
       " 1,\n",
       " 2,\n",
       " 2,\n",
       " 2,\n",
       " 2,\n",
       " 2,\n",
       " 2,\n",
       " 2,\n",
       " 2,\n",
       " 2,\n",
       " 2,\n",
       " 2,\n",
       " 0,\n",
       " 2,\n",
       " 2,\n",
       " 2,\n",
       " 2,\n",
       " 1,\n",
       " 1,\n",
       " 2,\n",
       " 2,\n",
       " 1,\n",
       " 2,\n",
       " 2,\n",
       " 1,\n",
       " 0,\n",
       " 2,\n",
       " 2,\n",
       " 2,\n",
       " 2,\n",
       " 2,\n",
       " 2,\n",
       " 2,\n",
       " 2,\n",
       " 2,\n",
       " 2,\n",
       " 2,\n",
       " 2,\n",
       " 2,\n",
       " 2,\n",
       " 1,\n",
       " 2,\n",
       " 1,\n",
       " 2,\n",
       " 2,\n",
       " 2,\n",
       " 2,\n",
       " 2,\n",
       " 2,\n",
       " 1,\n",
       " 2,\n",
       " 2,\n",
       " 2,\n",
       " 2,\n",
       " 2,\n",
       " 2,\n",
       " 2,\n",
       " 2,\n",
       " 2,\n",
       " 2,\n",
       " 1,\n",
       " 2,\n",
       " 2,\n",
       " 1,\n",
       " 2,\n",
       " 2,\n",
       " 2,\n",
       " 2,\n",
       " 2,\n",
       " 2,\n",
       " 2,\n",
       " 2,\n",
       " 2,\n",
       " 2,\n",
       " 2,\n",
       " 2,\n",
       " 2,\n",
       " 2,\n",
       " 2,\n",
       " 2,\n",
       " 2,\n",
       " 2,\n",
       " 1,\n",
       " 2,\n",
       " 2,\n",
       " 2,\n",
       " 2,\n",
       " 2,\n",
       " 3,\n",
       " 2,\n",
       " 2,\n",
       " 2,\n",
       " 2,\n",
       " 2,\n",
       " 2,\n",
       " 2,\n",
       " 2,\n",
       " 2,\n",
       " 2,\n",
       " 2,\n",
       " 2,\n",
       " 1,\n",
       " 2,\n",
       " 2,\n",
       " 2,\n",
       " 2,\n",
       " 2,\n",
       " 1,\n",
       " 2,\n",
       " 2,\n",
       " 2,\n",
       " 2,\n",
       " 1,\n",
       " 2,\n",
       " 2,\n",
       " 1,\n",
       " 2,\n",
       " 2,\n",
       " 2,\n",
       " 1,\n",
       " 1,\n",
       " 2,\n",
       " 2,\n",
       " 1,\n",
       " 2,\n",
       " 2,\n",
       " 2,\n",
       " 2,\n",
       " 2,\n",
       " 2,\n",
       " 2,\n",
       " 2,\n",
       " 2,\n",
       " 2,\n",
       " 2,\n",
       " 2,\n",
       " 0,\n",
       " 2,\n",
       " 2,\n",
       " 2,\n",
       " 2,\n",
       " 2,\n",
       " 2,\n",
       " 1,\n",
       " 2,\n",
       " 2,\n",
       " 2,\n",
       " 2,\n",
       " 2,\n",
       " 2,\n",
       " 2,\n",
       " 2,\n",
       " 2,\n",
       " 1,\n",
       " 2,\n",
       " 2,\n",
       " 2,\n",
       " 2,\n",
       " 2,\n",
       " 2,\n",
       " 2,\n",
       " 2,\n",
       " 1,\n",
       " 2,\n",
       " 2,\n",
       " 2,\n",
       " 2,\n",
       " 3,\n",
       " 1,\n",
       " 2,\n",
       " 2,\n",
       " 2,\n",
       " 1,\n",
       " 0,\n",
       " 2,\n",
       " 2,\n",
       " 2,\n",
       " 2,\n",
       " 2,\n",
       " 2,\n",
       " 2,\n",
       " 2,\n",
       " 2,\n",
       " 1,\n",
       " 2,\n",
       " 0,\n",
       " 2,\n",
       " 2,\n",
       " 2,\n",
       " 2,\n",
       " 2,\n",
       " 2,\n",
       " 2,\n",
       " 2,\n",
       " 2,\n",
       " 2,\n",
       " 1,\n",
       " 2,\n",
       " 2,\n",
       " 2,\n",
       " 2,\n",
       " 2,\n",
       " 2,\n",
       " 1,\n",
       " 2,\n",
       " 1,\n",
       " 1,\n",
       " 1,\n",
       " 3,\n",
       " 2,\n",
       " 2,\n",
       " 2,\n",
       " 1,\n",
       " 2,\n",
       " 2,\n",
       " 1,\n",
       " 2,\n",
       " 2,\n",
       " 2,\n",
       " 2,\n",
       " 2,\n",
       " 2,\n",
       " 2,\n",
       " 2,\n",
       " 2,\n",
       " 2,\n",
       " 2,\n",
       " 1,\n",
       " 2,\n",
       " 2,\n",
       " 2,\n",
       " 2,\n",
       " 2,\n",
       " 2,\n",
       " 2,\n",
       " 2,\n",
       " 2,\n",
       " 2,\n",
       " 2,\n",
       " 2,\n",
       " 2,\n",
       " 2,\n",
       " 2,\n",
       " 2,\n",
       " 1,\n",
       " 2,\n",
       " 2,\n",
       " 2,\n",
       " 1,\n",
       " 2,\n",
       " 1,\n",
       " 2,\n",
       " 2,\n",
       " 2,\n",
       " 2,\n",
       " 2,\n",
       " 0,\n",
       " 2,\n",
       " 2,\n",
       " 1,\n",
       " 2,\n",
       " 2,\n",
       " 2,\n",
       " 2,\n",
       " 2,\n",
       " 2,\n",
       " 2,\n",
       " 2,\n",
       " 2,\n",
       " 2,\n",
       " 2,\n",
       " 2,\n",
       " 2,\n",
       " 0,\n",
       " 2,\n",
       " 1,\n",
       " 1,\n",
       " 2,\n",
       " 2,\n",
       " 2,\n",
       " 1,\n",
       " 2,\n",
       " 2,\n",
       " 2,\n",
       " 2,\n",
       " 2,\n",
       " 2,\n",
       " 1,\n",
       " 2,\n",
       " 0,\n",
       " 1,\n",
       " 2,\n",
       " 2,\n",
       " 0,\n",
       " 1,\n",
       " 1,\n",
       " 2,\n",
       " 2,\n",
       " 2,\n",
       " 2,\n",
       " 2,\n",
       " 1,\n",
       " 2,\n",
       " 2,\n",
       " 2,\n",
       " 2,\n",
       " 2,\n",
       " 2,\n",
       " 2,\n",
       " 2,\n",
       " 2,\n",
       " 2,\n",
       " 0,\n",
       " 3,\n",
       " 2,\n",
       " 2,\n",
       " 2,\n",
       " 2,\n",
       " 2,\n",
       " 2,\n",
       " 2,\n",
       " 2,\n",
       " 2,\n",
       " 2,\n",
       " 2,\n",
       " 1,\n",
       " 2,\n",
       " 2,\n",
       " 2,\n",
       " 2,\n",
       " 2,\n",
       " 2,\n",
       " 2,\n",
       " 2,\n",
       " 2,\n",
       " 2,\n",
       " 2,\n",
       " 2,\n",
       " 2,\n",
       " 2,\n",
       " 2,\n",
       " 2,\n",
       " 2,\n",
       " 1,\n",
       " 2,\n",
       " 0,\n",
       " 2,\n",
       " 2,\n",
       " 2,\n",
       " 2,\n",
       " 2,\n",
       " 2,\n",
       " 2,\n",
       " 2,\n",
       " 2,\n",
       " 2,\n",
       " 1,\n",
       " 2,\n",
       " 2,\n",
       " 1,\n",
       " 2,\n",
       " 2,\n",
       " 2,\n",
       " 3,\n",
       " 2,\n",
       " 2,\n",
       " 2,\n",
       " 2,\n",
       " 2,\n",
       " 2,\n",
       " 2,\n",
       " 1,\n",
       " 2,\n",
       " 2,\n",
       " 2,\n",
       " 2,\n",
       " 1,\n",
       " 2,\n",
       " 2,\n",
       " 0,\n",
       " 2,\n",
       " 2,\n",
       " 2,\n",
       " 2,\n",
       " 2,\n",
       " 2,\n",
       " 2,\n",
       " 2,\n",
       " 2,\n",
       " 2,\n",
       " 2,\n",
       " 2,\n",
       " 2,\n",
       " 2,\n",
       " 2,\n",
       " 2,\n",
       " 2,\n",
       " 2,\n",
       " 2,\n",
       " 2,\n",
       " 2,\n",
       " 2,\n",
       " 1,\n",
       " 2,\n",
       " 1,\n",
       " 2,\n",
       " 2,\n",
       " 2,\n",
       " 2,\n",
       " 2,\n",
       " 2,\n",
       " 2,\n",
       " 0,\n",
       " 2,\n",
       " 2,\n",
       " 2,\n",
       " 1,\n",
       " 2,\n",
       " 2,\n",
       " 2,\n",
       " 2,\n",
       " 2,\n",
       " 2,\n",
       " 2,\n",
       " 2,\n",
       " 2,\n",
       " 2,\n",
       " 2,\n",
       " 1,\n",
       " 2,\n",
       " 1,\n",
       " 2,\n",
       " 1,\n",
       " 2,\n",
       " 2,\n",
       " 2,\n",
       " 2,\n",
       " 2,\n",
       " 2,\n",
       " 2,\n",
       " 2,\n",
       " 2,\n",
       " 2,\n",
       " 2,\n",
       " 2,\n",
       " 2,\n",
       " 2,\n",
       " 2,\n",
       " 0,\n",
       " 2,\n",
       " 1,\n",
       " 1,\n",
       " 2,\n",
       " 2,\n",
       " 2,\n",
       " 2,\n",
       " 1,\n",
       " 2,\n",
       " 2,\n",
       " 2,\n",
       " 2,\n",
       " 2,\n",
       " 2,\n",
       " 2,\n",
       " 2,\n",
       " 2,\n",
       " 2,\n",
       " 2,\n",
       " 1,\n",
       " 2,\n",
       " 2,\n",
       " 2,\n",
       " 2,\n",
       " 1,\n",
       " 2,\n",
       " 2,\n",
       " 2,\n",
       " 2,\n",
       " 2,\n",
       " 2,\n",
       " 1,\n",
       " 2,\n",
       " 2,\n",
       " 2,\n",
       " 2,\n",
       " 2,\n",
       " 2,\n",
       " 2,\n",
       " 2,\n",
       " 2,\n",
       " 2,\n",
       " 2,\n",
       " 1,\n",
       " 3,\n",
       " 2,\n",
       " 1,\n",
       " 1,\n",
       " 2,\n",
       " 2,\n",
       " 2,\n",
       " 2,\n",
       " 2,\n",
       " 2,\n",
       " 2,\n",
       " 2,\n",
       " 2,\n",
       " 2,\n",
       " 2,\n",
       " 2,\n",
       " 1,\n",
       " 2,\n",
       " 2,\n",
       " 2,\n",
       " 2,\n",
       " 2,\n",
       " 2,\n",
       " 2,\n",
       " 2,\n",
       " 2,\n",
       " 2,\n",
       " 2,\n",
       " 2,\n",
       " 2,\n",
       " 2,\n",
       " 2,\n",
       " 2,\n",
       " 2,\n",
       " 2,\n",
       " 1,\n",
       " 2,\n",
       " 2,\n",
       " 2,\n",
       " 2,\n",
       " 2,\n",
       " 2,\n",
       " 2,\n",
       " 2,\n",
       " 1,\n",
       " 2,\n",
       " 2,\n",
       " 0,\n",
       " 2,\n",
       " 2,\n",
       " 2,\n",
       " 2,\n",
       " 2,\n",
       " 2,\n",
       " 2,\n",
       " 2,\n",
       " 0,\n",
       " 2,\n",
       " 3,\n",
       " 2,\n",
       " 1,\n",
       " 2,\n",
       " 2,\n",
       " 2,\n",
       " 2,\n",
       " 2,\n",
       " 2,\n",
       " 2,\n",
       " 2,\n",
       " 2,\n",
       " 2,\n",
       " 1,\n",
       " 1,\n",
       " 2,\n",
       " 2,\n",
       " 2,\n",
       " 2,\n",
       " 2,\n",
       " 2,\n",
       " 2,\n",
       " 2,\n",
       " 1,\n",
       " 2,\n",
       " 2,\n",
       " 2,\n",
       " 2,\n",
       " 2,\n",
       " 1,\n",
       " 2,\n",
       " 1,\n",
       " 2,\n",
       " 2,\n",
       " 2,\n",
       " 2,\n",
       " 2,\n",
       " 0,\n",
       " 2,\n",
       " 2,\n",
       " 2,\n",
       " 2,\n",
       " 2,\n",
       " 2,\n",
       " 2,\n",
       " 2,\n",
       " 1,\n",
       " 1,\n",
       " 1,\n",
       " 2,\n",
       " 2,\n",
       " 2,\n",
       " 2,\n",
       " 2,\n",
       " 2,\n",
       " 2,\n",
       " 2,\n",
       " 1,\n",
       " 2,\n",
       " 2,\n",
       " 0,\n",
       " 2,\n",
       " 2,\n",
       " 2,\n",
       " 0,\n",
       " 1,\n",
       " 1,\n",
       " 1,\n",
       " 2,\n",
       " 2,\n",
       " 2,\n",
       " 2,\n",
       " 2,\n",
       " 2,\n",
       " 2,\n",
       " 2,\n",
       " 0,\n",
       " 2,\n",
       " 2,\n",
       " 2,\n",
       " 2,\n",
       " 1,\n",
       " 2,\n",
       " 2,\n",
       " 1,\n",
       " 2,\n",
       " 2,\n",
       " 2,\n",
       " 2,\n",
       " 0,\n",
       " 2,\n",
       " 2,\n",
       " 2,\n",
       " 2,\n",
       " 2,\n",
       " 2,\n",
       " 2,\n",
       " 2,\n",
       " 2,\n",
       " 2,\n",
       " 1,\n",
       " 2,\n",
       " 2,\n",
       " 2,\n",
       " 2,\n",
       " 1,\n",
       " 2,\n",
       " 2,\n",
       " 2,\n",
       " 2,\n",
       " 2,\n",
       " 2,\n",
       " 2,\n",
       " 2,\n",
       " 1,\n",
       " 2,\n",
       " 2,\n",
       " 2,\n",
       " 2,\n",
       " 2,\n",
       " 1,\n",
       " 1,\n",
       " 2,\n",
       " 2,\n",
       " 2,\n",
       " 2,\n",
       " 2,\n",
       " 2,\n",
       " 2,\n",
       " 1,\n",
       " 2,\n",
       " 2,\n",
       " 2,\n",
       " 2,\n",
       " 1,\n",
       " 2,\n",
       " 0,\n",
       " 2,\n",
       " 2,\n",
       " 2,\n",
       " 2,\n",
       " 2,\n",
       " 2,\n",
       " 2,\n",
       " 2,\n",
       " 2,\n",
       " 2,\n",
       " 2,\n",
       " 2,\n",
       " 2,\n",
       " 2,\n",
       " 2,\n",
       " 2,\n",
       " 2,\n",
       " 2,\n",
       " 2,\n",
       " 2,\n",
       " 3,\n",
       " 2,\n",
       " 2,\n",
       " 2,\n",
       " 2,\n",
       " 2,\n",
       " 2,\n",
       " 2,\n",
       " 2,\n",
       " 2,\n",
       " 2,\n",
       " 2,\n",
       " 2,\n",
       " 2,\n",
       " 1,\n",
       " 2,\n",
       " 2,\n",
       " 2,\n",
       " 2,\n",
       " 2,\n",
       " 2,\n",
       " 2,\n",
       " 2,\n",
       " 1,\n",
       " 1,\n",
       " 1,\n",
       " 2,\n",
       " 1,\n",
       " 1,\n",
       " 2,\n",
       " 2,\n",
       " 1,\n",
       " 1,\n",
       " 2,\n",
       " 2,\n",
       " 0,\n",
       " 2,\n",
       " 2,\n",
       " 2,\n",
       " 2,\n",
       " 2,\n",
       " 2,\n",
       " 2,\n",
       " 2,\n",
       " 2,\n",
       " 2,\n",
       " 2,\n",
       " 2,\n",
       " 2,\n",
       " 2,\n",
       " 2,\n",
       " 2,\n",
       " 1,\n",
       " 2,\n",
       " 2,\n",
       " 2,\n",
       " 2,\n",
       " 2,\n",
       " 2,\n",
       " 3,\n",
       " 1,\n",
       " 2,\n",
       " 2,\n",
       " 2,\n",
       " 2,\n",
       " 1,\n",
       " 1,\n",
       " 2,\n",
       " 2,\n",
       " 2,\n",
       " 2,\n",
       " 2,\n",
       " 2,\n",
       " 2,\n",
       " 2,\n",
       " 2,\n",
       " 2,\n",
       " 2,\n",
       " 2,\n",
       " 2,\n",
       " 2,\n",
       " 2,\n",
       " 2,\n",
       " 0,\n",
       " 0,\n",
       " 2,\n",
       " 2,\n",
       " 2,\n",
       " 2,\n",
       " 2,\n",
       " 1,\n",
       " 2,\n",
       " 2,\n",
       " 2,\n",
       " 1,\n",
       " 1,\n",
       " 2,\n",
       " 2,\n",
       " 2,\n",
       " 2,\n",
       " 2,\n",
       " 1,\n",
       " 2,\n",
       " 2,\n",
       " 2,\n",
       " 1,\n",
       " 2,\n",
       " 1,\n",
       " 2,\n",
       " 1,\n",
       " 2,\n",
       " 2,\n",
       " 1,\n",
       " 1,\n",
       " 2,\n",
       " 1,\n",
       " 2,\n",
       " 2,\n",
       " 1,\n",
       " 2,\n",
       " 2,\n",
       " 2,\n",
       " 2,\n",
       " 2,\n",
       " 2,\n",
       " 2,\n",
       " 2,\n",
       " 2,\n",
       " 2,\n",
       " 2,\n",
       " 1,\n",
       " 2,\n",
       " 2,\n",
       " 2,\n",
       " 2,\n",
       " 2,\n",
       " 2,\n",
       " 2,\n",
       " 2,\n",
       " 2,\n",
       " 2,\n",
       " 2,\n",
       " 1,\n",
       " 2,\n",
       " 2,\n",
       " 2,\n",
       " 1,\n",
       " 2,\n",
       " 2,\n",
       " 2,\n",
       " 2,\n",
       " 2,\n",
       " 2,\n",
       " 1,\n",
       " 2,\n",
       " 2,\n",
       " 2,\n",
       " 2,\n",
       " 2,\n",
       " 2,\n",
       " 2,\n",
       " 2,\n",
       " 2,\n",
       " 2,\n",
       " 2,\n",
       " 2,\n",
       " 2,\n",
       " 2,\n",
       " 2,\n",
       " 2,\n",
       " 2,\n",
       " 2,\n",
       " 2,\n",
       " 2,\n",
       " 2,\n",
       " 2,\n",
       " 2,\n",
       " 2,\n",
       " 0,\n",
       " 2,\n",
       " 2,\n",
       " 2,\n",
       " 2,\n",
       " 2,\n",
       " 0,\n",
       " 2,\n",
       " 1,\n",
       " 1,\n",
       " 2,\n",
       " 2,\n",
       " 1,\n",
       " 2,\n",
       " 2,\n",
       " 2,\n",
       " 2,\n",
       " 2,\n",
       " 2,\n",
       " 2,\n",
       " 2,\n",
       " 1,\n",
       " 2,\n",
       " 1,\n",
       " 2,\n",
       " 2,\n",
       " 2,\n",
       " 2,\n",
       " 1,\n",
       " 2,\n",
       " 2,\n",
       " 1,\n",
       " 2,\n",
       " 2,\n",
       " 2,\n",
       " 2,\n",
       " 2,\n",
       " 2,\n",
       " 2,\n",
       " 2,\n",
       " 1,\n",
       " 2,\n",
       " 2,\n",
       " 2,\n",
       " 1,\n",
       " 2,\n",
       " 2,\n",
       " 2,\n",
       " 2,\n",
       " 2,\n",
       " 2,\n",
       " 2,\n",
       " 2,\n",
       " 2,\n",
       " 2,\n",
       " 1,\n",
       " 2,\n",
       " 2,\n",
       " 2,\n",
       " 2,\n",
       " 2,\n",
       " 2,\n",
       " 2,\n",
       " 2,\n",
       " 2,\n",
       " 2,\n",
       " 2,\n",
       " 2,\n",
       " 2,\n",
       " 1,\n",
       " 2,\n",
       " 2,\n",
       " ...]"
      ]
     },
     "execution_count": 131,
     "metadata": {},
     "output_type": "execute_result"
    }
   ],
   "source": [
    "preds = []\n",
    "for i in range(0, 3462):\n",
    "    preds.append(np.argmax(base_model.predict(cell_train_generator[i][0])))\n",
    "preds"
   ]
  },
  {
   "cell_type": "code",
   "execution_count": 132,
   "id": "218e40a2",
   "metadata": {},
   "outputs": [],
   "source": [
    "train_data.drop(['cellType'], axis=1, inplace=True)\n",
    "train_data['cellType'] = preds"
   ]
  },
  {
   "cell_type": "code",
   "execution_count": 133,
   "id": "f43b8ba3",
   "metadata": {},
   "outputs": [
    {
     "data": {
      "text/plain": [
       "(3462, 5)"
      ]
     },
     "execution_count": 133,
     "metadata": {},
     "output_type": "execute_result"
    }
   ],
   "source": [
    "train_data.shape"
   ]
  },
  {
   "cell_type": "code",
   "execution_count": 134,
   "id": "53bb8fb3",
   "metadata": {},
   "outputs": [
    {
     "data": {
      "text/plain": [
       "(13358, 6)"
      ]
     },
     "execution_count": 134,
     "metadata": {},
     "output_type": "execute_result"
    }
   ],
   "source": [
    "train_batch_1 = pd.concat([colon_main, train_data])\n",
    "train_batch_1.shape"
   ]
  },
  {
   "cell_type": "code",
   "execution_count": 25,
   "id": "4f0d5bf8",
   "metadata": {},
   "outputs": [
    {
     "name": "stdout",
     "output_type": "stream",
     "text": [
      "Train data : 8014, \n",
      "Val Data: 2672, \n",
      "Test Data: 2672\n"
     ]
    }
   ],
   "source": [
    "train_data, test_data = train_test_split(train_batch_1, test_size=0.2, random_state=42)\n",
    "train_data, val_data = train_test_split(train_data, test_size=0.25, random_state=42)\n",
    "\n",
    "print(\"Train data : {}, \\nVal Data: {}, \\nTest Data: {}\".format(train_data.shape[0], val_data.shape[0], test_data.shape[0]))"
   ]
  },
  {
   "cell_type": "code",
   "execution_count": 26,
   "id": "97b00672",
   "metadata": {},
   "outputs": [
    {
     "name": "stdout",
     "output_type": "stream",
     "text": [
      "Found 8014 validated image filenames belonging to 4 classes.\n",
      "Found 2672 validated image filenames belonging to 4 classes.\n"
     ]
    },
    {
     "name": "stderr",
     "output_type": "stream",
     "text": [
      "/home/ec2-user/anaconda3/envs/tensorflow_p36/lib/python3.6/site-packages/keras_preprocessing/image/image_data_generator.py:349: UserWarning: This ImageDataGenerator specifies `featurewise_std_normalization`, which overrides setting of `featurewise_center`.\n",
      "  warnings.warn('This ImageDataGenerator specifies '\n",
      "/home/ec2-user/anaconda3/envs/tensorflow_p36/lib/python3.6/site-packages/keras_preprocessing/image/image_data_generator.py:356: UserWarning: This ImageDataGenerator specifies `samplewise_std_normalization`, which overrides setting of `samplewise_center`.\n",
      "  warnings.warn('This ImageDataGenerator specifies '\n"
     ]
    }
   ],
   "source": [
    "train_data['cellType'] = train_data['cellType'].astype('str')\n",
    "val_data['cellType'] = val_data['cellType'].astype('str')\n",
    "\n",
    "cell_train_datagen = ImageDataGenerator(rescale=1./255, \n",
    "                                data_format='channels_last',\n",
    "                                rotation_range=30, \n",
    "                                width_shift_range=0.2,\n",
    "                                height_shift_range=0.2,\n",
    "                                zoom_range = 0.2,\n",
    "                                featurewise_std_normalization=True,\n",
    "                                samplewise_std_normalization=True)\n",
    "cell_val_datagen = ImageDataGenerator(rescale=1./255, \n",
    "                                data_format='channels_last',\n",
    "                                rotation_range=30, \n",
    "                                width_shift_range=0.2,\n",
    "                                height_shift_range=0.2,\n",
    "                                zoom_range = 0.2,\n",
    "                                featurewise_std_normalization=True,\n",
    "                                samplewise_std_normalization=True)\n",
    "\n",
    "batch_size = 27\n",
    "\n",
    "cell_train_generator_1 = cell_train_datagen.flow_from_dataframe(\n",
    "        dataframe=train_data,\n",
    "        directory='./Image_classification_data/patch_images/',\n",
    "        x_col=\"ImageName\",\n",
    "        y_col=\"cellType\",\n",
    "        target_size=(27, 27),\n",
    "        batch_size=batch_size,\n",
    "        class_mode='categorical')\n",
    "\n",
    "cell_validation_generator_1 = cell_val_datagen.flow_from_dataframe(\n",
    "        dataframe=val_data,\n",
    "        directory='./Image_classification_data/patch_images/',\n",
    "        x_col=\"ImageName\",\n",
    "        y_col=\"cellType\",\n",
    "        target_size=(27, 27),\n",
    "        batch_size=batch_size,\n",
    "        class_mode='categorical')"
   ]
  },
  {
   "cell_type": "code",
   "execution_count": 57,
   "id": "a2150df7",
   "metadata": {},
   "outputs": [
    {
     "name": "stdout",
     "output_type": "stream",
     "text": [
      "Model: \"model_12\"\n",
      "_________________________________________________________________\n",
      "Layer (type)                 Output Shape              Param #   \n",
      "=================================================================\n",
      "input_18 (InputLayer)        [(None, 27, 27, 3)]       0         \n",
      "_________________________________________________________________\n",
      "sequential (Sequential)      (None, 4)                 107160    \n",
      "_________________________________________________________________\n",
      "dense_9 (Dense)              (None, 1024)              5120      \n",
      "_________________________________________________________________\n",
      "dense_10 (Dense)             (None, 4)                 4100      \n",
      "=================================================================\n",
      "Total params: 116,380\n",
      "Trainable params: 9,220\n",
      "Non-trainable params: 107,160\n",
      "_________________________________________________________________\n"
     ]
    }
   ],
   "source": [
    "reg_lambda = 0.001\n",
    "base_model.trainable = False\n",
    "# add new classifier layers\n",
    "\n",
    "inputs = tf.keras.Input(shape=(27, 27, 3))\n",
    "x = base_model(inputs, training=False)\n",
    "class1 = Dense(1024, activation='relu')(x)\n",
    "outputs = tf.keras.layers.Dense(4, activation='softmax', kernel_regularizer=tf.keras.regularizers.l2(reg_lambda))(class1)\n",
    "model = tf.keras.Model(inputs, outputs)\n",
    "\n",
    "sgd = tf.keras.optimizers.SGD(learning_rate=0.01, decay=1e-6, momentum=0.9, nesterov=True)\n",
    "model.compile(optimizer=sgd,\n",
    "              loss=tf.keras.losses.CategoricalCrossentropy(from_logits=False),\n",
    "              metrics=['categorical_accuracy'])\n",
    "\n",
    "model.summary()"
   ]
  },
  {
   "cell_type": "code",
   "execution_count": 64,
   "id": "169a008e",
   "metadata": {
    "collapsed": true,
    "jupyter": {
     "outputs_hidden": true
    }
   },
   "outputs": [
    {
     "name": "stdout",
     "output_type": "stream",
     "text": [
      "Epoch 1/25\n",
      "1/4 [======>.......................] - ETA: 0s - loss: 0.9507 - categorical_accuracy: 0.6667"
     ]
    },
    {
     "name": "stderr",
     "output_type": "stream",
     "text": [
      "/home/ec2-user/anaconda3/envs/tensorflow_p36/lib/python3.6/site-packages/tensorflow/python/keras/engine/training.py:1940: UserWarning: `Model.fit_generator` is deprecated and will be removed in a future version. Please use `Model.fit`, which supports generators.\n",
      "  warnings.warn('`Model.fit_generator` is deprecated and '\n"
     ]
    },
    {
     "name": "stdout",
     "output_type": "stream",
     "text": [
      "4/4 [==============================] - 4s 1s/step - loss: 0.9079 - categorical_accuracy: 0.7130 - val_loss: 0.9471 - val_categorical_accuracy: 0.6995\n",
      "Epoch 2/25\n",
      "4/4 [==============================] - 4s 1s/step - loss: 0.7952 - categorical_accuracy: 0.7963 - val_loss: 0.9171 - val_categorical_accuracy: 0.7163\n",
      "Epoch 3/25\n",
      "4/4 [==============================] - 4s 1s/step - loss: 1.0266 - categorical_accuracy: 0.6759 - val_loss: 0.9142 - val_categorical_accuracy: 0.7107\n",
      "Epoch 4/25\n",
      "4/4 [==============================] - 4s 1s/step - loss: 0.9805 - categorical_accuracy: 0.6667 - val_loss: 0.9109 - val_categorical_accuracy: 0.7073\n",
      "Epoch 5/25\n",
      "4/4 [==============================] - 4s 1s/step - loss: 0.9157 - categorical_accuracy: 0.7037 - val_loss: 0.9087 - val_categorical_accuracy: 0.7219\n",
      "Epoch 6/25\n",
      "4/4 [==============================] - 4s 1s/step - loss: 0.8195 - categorical_accuracy: 0.7315 - val_loss: 0.8897 - val_categorical_accuracy: 0.7317\n",
      "Epoch 7/25\n",
      "4/4 [==============================] - 4s 1s/step - loss: 0.9952 - categorical_accuracy: 0.6481 - val_loss: 0.9096 - val_categorical_accuracy: 0.7144\n",
      "Epoch 8/25\n",
      "4/4 [==============================] - 4s 1s/step - loss: 0.9726 - categorical_accuracy: 0.7037 - val_loss: 0.9041 - val_categorical_accuracy: 0.7182\n",
      "Epoch 9/25\n",
      "4/4 [==============================] - 4s 1s/step - loss: 0.7912 - categorical_accuracy: 0.7685 - val_loss: 0.9065 - val_categorical_accuracy: 0.7129\n",
      "Epoch 10/25\n",
      "4/4 [==============================] - 4s 1s/step - loss: 0.9283 - categorical_accuracy: 0.6852 - val_loss: 0.9094 - val_categorical_accuracy: 0.7047\n",
      "Epoch 11/25\n",
      "4/4 [==============================] - 3s 1s/step - loss: 0.8545 - categorical_accuracy: 0.7315 - val_loss: 0.9282 - val_categorical_accuracy: 0.7085\n",
      "Epoch 12/25\n",
      "4/4 [==============================] - 4s 1s/step - loss: 0.9073 - categorical_accuracy: 0.7407 - val_loss: 0.9122 - val_categorical_accuracy: 0.7107\n",
      "Epoch 13/25\n",
      "4/4 [==============================] - 4s 1s/step - loss: 0.9937 - categorical_accuracy: 0.6574 - val_loss: 0.9243 - val_categorical_accuracy: 0.7006\n",
      "Epoch 14/25\n",
      "4/4 [==============================] - 4s 1s/step - loss: 0.9083 - categorical_accuracy: 0.7037 - val_loss: 0.9071 - val_categorical_accuracy: 0.7032\n",
      "Epoch 15/25\n",
      "4/4 [==============================] - 4s 1s/step - loss: 0.9612 - categorical_accuracy: 0.7037 - val_loss: 0.8907 - val_categorical_accuracy: 0.7156\n",
      "Epoch 16/25\n",
      "4/4 [==============================] - 4s 1s/step - loss: 0.9471 - categorical_accuracy: 0.7037 - val_loss: 0.8913 - val_categorical_accuracy: 0.7208\n",
      "Epoch 17/25\n",
      "4/4 [==============================] - 3s 1s/step - loss: 0.9354 - categorical_accuracy: 0.7222 - val_loss: 0.9413 - val_categorical_accuracy: 0.6924\n",
      "Epoch 18/25\n",
      "4/4 [==============================] - 4s 1s/step - loss: 1.0604 - categorical_accuracy: 0.6204 - val_loss: 0.9093 - val_categorical_accuracy: 0.7062\n",
      "Epoch 19/25\n",
      "4/4 [==============================] - 4s 1s/step - loss: 0.9202 - categorical_accuracy: 0.6944 - val_loss: 0.8996 - val_categorical_accuracy: 0.7111\n",
      "Epoch 20/25\n",
      "4/4 [==============================] - 4s 1s/step - loss: 0.8796 - categorical_accuracy: 0.7315 - val_loss: 0.8860 - val_categorical_accuracy: 0.7178\n",
      "Epoch 21/25\n",
      "4/4 [==============================] - 3s 1s/step - loss: 0.9678 - categorical_accuracy: 0.7222 - val_loss: 0.8807 - val_categorical_accuracy: 0.7182\n",
      "Epoch 22/25\n",
      "4/4 [==============================] - 3s 1s/step - loss: 0.9089 - categorical_accuracy: 0.6852 - val_loss: 0.8832 - val_categorical_accuracy: 0.7186\n",
      "Epoch 23/25\n",
      "4/4 [==============================] - 4s 1s/step - loss: 0.9356 - categorical_accuracy: 0.6944 - val_loss: 0.8961 - val_categorical_accuracy: 0.7107\n",
      "Epoch 24/25\n",
      "4/4 [==============================] - 3s 1s/step - loss: 0.9572 - categorical_accuracy: 0.6574 - val_loss: 0.8939 - val_categorical_accuracy: 0.7092\n",
      "Epoch 25/25\n",
      "4/4 [==============================] - 4s 1s/step - loss: 0.8880 - categorical_accuracy: 0.7407 - val_loss: 0.8974 - val_categorical_accuracy: 0.7047\n"
     ]
    },
    {
     "data": {
      "image/png": "[encoded data removed]",
      "text/plain": [
       "<Figure size 720x360 with 2 Axes>"
      ]
     },
     "metadata": {
      "needs_background": "light"
     },
     "output_type": "display_data"
    }
   ],
   "source": [
    "cell_history = model.fit_generator(cell_train_generator_1, validation_data = cell_validation_generator_1, epochs=25, steps_per_epoch=4)\n",
    "\n",
    "plot_learning_curve(cell_history.history['loss'], cell_history.history['val_loss'], \n",
    "                    cell_history.history['categorical_accuracy'], cell_history.history['val_categorical_accuracy'], \n",
    "                    metric_name='Accuracy')"
   ]
  },
  {
   "cell_type": "code",
   "execution_count": 76,
   "id": "e756e23d",
   "metadata": {},
   "outputs": [
    {
     "name": "stdout",
     "output_type": "stream",
     "text": [
      "Found 2672 validated image filenames belonging to 4 classes.\n",
      "  20/2672 [..............................] - ETA: 7s - loss: 0.9005 - categorical_accuracy: 0.7000  "
     ]
    },
    {
     "name": "stderr",
     "output_type": "stream",
     "text": [
      "/home/ec2-user/anaconda3/envs/tensorflow_p36/lib/python3.6/site-packages/ipykernel/__main__.py:1: SettingWithCopyWarning: \n",
      "A value is trying to be set on a copy of a slice from a DataFrame.\n",
      "Try using .loc[row_indexer,col_indexer] = value instead\n",
      "\n",
      "See the caveats in the documentation: https://pandas.pydata.org/pandas-docs/stable/user_guide/indexing.html#returning-a-view-versus-a-copy\n",
      "  if __name__ == '__main__':\n",
      "/home/ec2-user/anaconda3/envs/tensorflow_p36/lib/python3.6/site-packages/keras_preprocessing/image/image_data_generator.py:349: UserWarning: This ImageDataGenerator specifies `featurewise_std_normalization`, which overrides setting of `featurewise_center`.\n",
      "  warnings.warn('This ImageDataGenerator specifies '\n",
      "/home/ec2-user/anaconda3/envs/tensorflow_p36/lib/python3.6/site-packages/keras_preprocessing/image/image_data_generator.py:356: UserWarning: This ImageDataGenerator specifies `samplewise_std_normalization`, which overrides setting of `samplewise_center`.\n",
      "  warnings.warn('This ImageDataGenerator specifies '\n",
      "/home/ec2-user/anaconda3/envs/tensorflow_p36/lib/python3.6/site-packages/keras_preprocessing/image/image_data_generator.py:720: UserWarning: This ImageDataGenerator specifies `featurewise_center`, but it hasn't been fit on any training data. Fit it first by calling `.fit(numpy_data)`.\n",
      "  warnings.warn('This ImageDataGenerator specifies '\n",
      "/home/ec2-user/anaconda3/envs/tensorflow_p36/lib/python3.6/site-packages/keras_preprocessing/image/image_data_generator.py:728: UserWarning: This ImageDataGenerator specifies `featurewise_std_normalization`, but it hasn't been fit on any training data. Fit it first by calling `.fit(numpy_data)`.\n",
      "  warnings.warn('This ImageDataGenerator specifies '\n"
     ]
    },
    {
     "name": "stdout",
     "output_type": "stream",
     "text": [
      "2672/2672 [==============================] - 8s 3ms/step - loss: 0.9159 - categorical_accuracy: 0.7062\n"
     ]
    },
    {
     "data": {
      "text/plain": [
       "[0.915922224521637, 0.70621258020401]"
      ]
     },
     "execution_count": 76,
     "metadata": {},
     "output_type": "execute_result"
    }
   ],
   "source": [
    "test_data['cellType'] = test_data['cellType'].astype('str')\n",
    "\n",
    "cell_test_datagen = ImageDataGenerator(                               \n",
    "                                rescale=1./255, \n",
    "                                data_format='channels_last',\n",
    "                                rotation_range=30, \n",
    "                                width_shift_range=0.2,\n",
    "                                height_shift_range=0.2,\n",
    "                                zoom_range = 0.2,\n",
    "                                featurewise_std_normalization=True,\n",
    "                                samplewise_std_normalization=True)\n",
    "\n",
    "batch_size = 1\n",
    "\n",
    "cell_test_generator = cell_test_datagen.flow_from_dataframe(\n",
    "        dataframe=test_data,\n",
    "        directory='./Image_classification_data/patch_images/',\n",
    "        x_col=\"ImageName\",\n",
    "        y_col=\"cellType\",\n",
    "        target_size=(27, 27),\n",
    "        batch_size=batch_size,\n",
    "        class_mode='categorical')\n",
    "\n",
    "model.evaluate(cell_test_generator)"
   ]
  },
  {
   "cell_type": "markdown",
   "id": "c23df6c3",
   "metadata": {},
   "source": [
    "# Batch - 1 Fine Tuning"
   ]
  },
  {
   "cell_type": "code",
   "execution_count": 68,
   "id": "59009df2",
   "metadata": {},
   "outputs": [
    {
     "name": "stdout",
     "output_type": "stream",
     "text": [
      "Model: \"model_15\"\n",
      "_________________________________________________________________\n",
      "Layer (type)                 Output Shape              Param #   \n",
      "=================================================================\n",
      "input_21 (InputLayer)        [(None, 27, 27, 3)]       0         \n",
      "_________________________________________________________________\n",
      "sequential (Sequential)      (None, 4)                 107160    \n",
      "_________________________________________________________________\n",
      "dense_15 (Dense)             (None, 1024)              5120      \n",
      "_________________________________________________________________\n",
      "dense_16 (Dense)             (None, 4)                 4100      \n",
      "=================================================================\n",
      "Total params: 116,380\n",
      "Trainable params: 116,380\n",
      "Non-trainable params: 0\n",
      "_________________________________________________________________\n"
     ]
    }
   ],
   "source": [
    "reg_lambda = 0.001\n",
    "base_model.trainable = True\n",
    "# add new classifier layers\n",
    "\n",
    "inputs = tf.keras.Input(shape=(27, 27, 3))\n",
    "x = base_model(inputs, training=True)\n",
    "class1 = Dense(1024, activation='relu')(x)\n",
    "outputs = tf.keras.layers.Dense(4, activation='softmax', kernel_regularizer=tf.keras.regularizers.l2(reg_lambda))(class1)\n",
    "final_model = tf.keras.Model(inputs, outputs)\n",
    "\n",
    "sgd = tf.keras.optimizers.SGD(learning_rate=0.01, decay=1e-6, momentum=0.9, nesterov=True)\n",
    "final_model.compile(optimizer=sgd,\n",
    "              loss=tf.keras.losses.CategoricalCrossentropy(from_logits=False),\n",
    "              metrics=['categorical_accuracy'])\n",
    "\n",
    "final_model.summary()"
   ]
  },
  {
   "cell_type": "code",
   "execution_count": 69,
   "id": "3eeb558b",
   "metadata": {
    "collapsed": true,
    "jupyter": {
     "outputs_hidden": true
    }
   },
   "outputs": [
    {
     "name": "stderr",
     "output_type": "stream",
     "text": [
      "/home/ec2-user/anaconda3/envs/tensorflow_p36/lib/python3.6/site-packages/tensorflow/python/keras/engine/training.py:1940: UserWarning: `Model.fit_generator` is deprecated and will be removed in a future version. Please use `Model.fit`, which supports generators.\n",
      "  warnings.warn('`Model.fit_generator` is deprecated and '\n"
     ]
    },
    {
     "name": "stdout",
     "output_type": "stream",
     "text": [
      "Epoch 1/50\n",
      "4/4 [==============================] - 5s 1s/step - loss: 1.4363 - categorical_accuracy: 0.5185 - val_loss: 1.4043 - val_categorical_accuracy: 0.4891\n",
      "Epoch 2/50\n",
      "4/4 [==============================] - 4s 1s/step - loss: 1.3824 - categorical_accuracy: 0.4907 - val_loss: 1.3402 - val_categorical_accuracy: 0.4891\n",
      "Epoch 3/50\n",
      "4/4 [==============================] - 4s 1s/step - loss: 1.3371 - categorical_accuracy: 0.4722 - val_loss: 1.2753 - val_categorical_accuracy: 0.4891\n",
      "Epoch 4/50\n",
      "4/4 [==============================] - 4s 1s/step - loss: 1.2788 - categorical_accuracy: 0.4444 - val_loss: 1.2249 - val_categorical_accuracy: 0.4891\n",
      "Epoch 5/50\n",
      "4/4 [==============================] - 3s 1s/step - loss: 1.2020 - categorical_accuracy: 0.5093 - val_loss: 1.1853 - val_categorical_accuracy: 0.4891\n",
      "Epoch 6/50\n",
      "4/4 [==============================] - 4s 1s/step - loss: 1.2227 - categorical_accuracy: 0.4259 - val_loss: 1.1551 - val_categorical_accuracy: 0.4891\n",
      "Epoch 7/50\n",
      "4/4 [==============================] - 4s 1s/step - loss: 1.2369 - categorical_accuracy: 0.4074 - val_loss: 1.1291 - val_categorical_accuracy: 0.4891\n",
      "Epoch 8/50\n",
      "4/4 [==============================] - 3s 1s/step - loss: 1.2153 - categorical_accuracy: 0.3981 - val_loss: 1.1084 - val_categorical_accuracy: 0.4891\n",
      "Epoch 9/50\n",
      "4/4 [==============================] - 4s 1s/step - loss: 1.0994 - categorical_accuracy: 0.5926 - val_loss: 1.0889 - val_categorical_accuracy: 0.5928\n",
      "Epoch 10/50\n",
      "4/4 [==============================] - 4s 1s/step - loss: 1.0806 - categorical_accuracy: 0.5926 - val_loss: 1.0681 - val_categorical_accuracy: 0.6007\n",
      "Epoch 11/50\n",
      "4/4 [==============================] - 3s 1s/step - loss: 1.0621 - categorical_accuracy: 0.6296 - val_loss: 1.0548 - val_categorical_accuracy: 0.6224\n",
      "Epoch 12/50\n",
      "4/4 [==============================] - 4s 1s/step - loss: 1.0765 - categorical_accuracy: 0.5926 - val_loss: 1.0459 - val_categorical_accuracy: 0.6269\n",
      "Epoch 13/50\n",
      "4/4 [==============================] - 4s 1s/step - loss: 1.0915 - categorical_accuracy: 0.6389 - val_loss: 1.0233 - val_categorical_accuracy: 0.6894\n",
      "Epoch 14/50\n",
      "4/4 [==============================] - 4s 1s/step - loss: 1.0398 - categorical_accuracy: 0.6481 - val_loss: 1.0152 - val_categorical_accuracy: 0.6946\n",
      "Epoch 15/50\n",
      "4/4 [==============================] - 4s 1s/step - loss: 1.0150 - categorical_accuracy: 0.6759 - val_loss: 1.0008 - val_categorical_accuracy: 0.6961\n",
      "Epoch 16/50\n",
      "4/4 [==============================] - 4s 1s/step - loss: 1.0257 - categorical_accuracy: 0.6574 - val_loss: 0.9926 - val_categorical_accuracy: 0.6950\n",
      "Epoch 17/50\n",
      "4/4 [==============================] - 4s 1s/step - loss: 0.9739 - categorical_accuracy: 0.7315 - val_loss: 0.9863 - val_categorical_accuracy: 0.6965\n",
      "Epoch 18/50\n",
      "4/4 [==============================] - 4s 1s/step - loss: 0.9929 - categorical_accuracy: 0.7037 - val_loss: 0.9791 - val_categorical_accuracy: 0.6942\n",
      "Epoch 19/50\n",
      "4/4 [==============================] - 3s 1s/step - loss: 1.0480 - categorical_accuracy: 0.6574 - val_loss: 0.9733 - val_categorical_accuracy: 0.6939\n",
      "Epoch 20/50\n",
      "4/4 [==============================] - 4s 1s/step - loss: 1.0187 - categorical_accuracy: 0.6481 - val_loss: 0.9662 - val_categorical_accuracy: 0.7025\n",
      "Epoch 21/50\n",
      "4/4 [==============================] - 4s 1s/step - loss: 0.9629 - categorical_accuracy: 0.7130 - val_loss: 0.9601 - val_categorical_accuracy: 0.7021\n",
      "Epoch 22/50\n",
      "4/4 [==============================] - 3s 1s/step - loss: 0.9013 - categorical_accuracy: 0.7407 - val_loss: 0.9755 - val_categorical_accuracy: 0.7028\n",
      "Epoch 23/50\n",
      "4/4 [==============================] - 4s 1s/step - loss: 1.0782 - categorical_accuracy: 0.6667 - val_loss: 0.9594 - val_categorical_accuracy: 0.7189\n",
      "Epoch 24/50\n",
      "4/4 [==============================] - 3s 1s/step - loss: 1.0454 - categorical_accuracy: 0.6204 - val_loss: 0.9557 - val_categorical_accuracy: 0.7118\n",
      "Epoch 25/50\n",
      "4/4 [==============================] - 4s 1s/step - loss: 0.9951 - categorical_accuracy: 0.7500 - val_loss: 0.9494 - val_categorical_accuracy: 0.7201\n",
      "Epoch 26/50\n",
      "4/4 [==============================] - 4s 1s/step - loss: 0.9300 - categorical_accuracy: 0.7037 - val_loss: 0.9324 - val_categorical_accuracy: 0.7219\n",
      "Epoch 27/50\n",
      "4/4 [==============================] - 4s 1s/step - loss: 0.9161 - categorical_accuracy: 0.7593 - val_loss: 0.9269 - val_categorical_accuracy: 0.7219\n",
      "Epoch 28/50\n",
      "4/4 [==============================] - 4s 1s/step - loss: 0.9786 - categorical_accuracy: 0.7315 - val_loss: 0.9372 - val_categorical_accuracy: 0.7201\n",
      "Epoch 29/50\n",
      "4/4 [==============================] - 3s 1s/step - loss: 0.8864 - categorical_accuracy: 0.7130 - val_loss: 0.9254 - val_categorical_accuracy: 0.7249\n",
      "Epoch 30/50\n",
      "4/4 [==============================] - 4s 1s/step - loss: 0.9626 - categorical_accuracy: 0.7222 - val_loss: 0.9248 - val_categorical_accuracy: 0.7193\n",
      "Epoch 31/50\n",
      "4/4 [==============================] - 4s 1s/step - loss: 0.9525 - categorical_accuracy: 0.7222 - val_loss: 0.9384 - val_categorical_accuracy: 0.7077\n",
      "Epoch 32/50\n",
      "4/4 [==============================] - 4s 1s/step - loss: 0.8588 - categorical_accuracy: 0.7407 - val_loss: 0.9405 - val_categorical_accuracy: 0.6957\n",
      "Epoch 33/50\n",
      "4/4 [==============================] - 4s 1s/step - loss: 0.9755 - categorical_accuracy: 0.6759 - val_loss: 0.9447 - val_categorical_accuracy: 0.6935\n",
      "Epoch 34/50\n",
      "4/4 [==============================] - 3s 1s/step - loss: 0.8620 - categorical_accuracy: 0.7685 - val_loss: 0.9328 - val_categorical_accuracy: 0.7013\n",
      "Epoch 35/50\n",
      "4/4 [==============================] - 4s 1s/step - loss: 1.0058 - categorical_accuracy: 0.6481 - val_loss: 0.9060 - val_categorical_accuracy: 0.7159\n",
      "Epoch 36/50\n",
      "4/4 [==============================] - 4s 1s/step - loss: 0.9319 - categorical_accuracy: 0.7037 - val_loss: 0.9174 - val_categorical_accuracy: 0.7118\n",
      "Epoch 37/50\n",
      "4/4 [==============================] - 4s 1s/step - loss: 0.9607 - categorical_accuracy: 0.6574 - val_loss: 0.9306 - val_categorical_accuracy: 0.7032\n",
      "Epoch 38/50\n",
      "4/4 [==============================] - 4s 1s/step - loss: 0.9131 - categorical_accuracy: 0.7315 - val_loss: 0.9380 - val_categorical_accuracy: 0.6939\n",
      "Epoch 39/50\n",
      "4/4 [==============================] - 4s 1s/step - loss: 0.8438 - categorical_accuracy: 0.7500 - val_loss: 0.9032 - val_categorical_accuracy: 0.7264\n",
      "Epoch 40/50\n",
      "4/4 [==============================] - 4s 1s/step - loss: 0.8830 - categorical_accuracy: 0.7407 - val_loss: 0.8943 - val_categorical_accuracy: 0.7313\n",
      "Epoch 41/50\n",
      "4/4 [==============================] - 4s 1s/step - loss: 0.7190 - categorical_accuracy: 0.7963 - val_loss: 0.9144 - val_categorical_accuracy: 0.7163\n",
      "Epoch 42/50\n",
      "4/4 [==============================] - 4s 1s/step - loss: 0.9880 - categorical_accuracy: 0.6481 - val_loss: 0.9226 - val_categorical_accuracy: 0.7070\n",
      "Epoch 43/50\n",
      "4/4 [==============================] - 4s 1s/step - loss: 0.8779 - categorical_accuracy: 0.7222 - val_loss: 0.9501 - val_categorical_accuracy: 0.6838\n",
      "Epoch 44/50\n",
      "4/4 [==============================] - 5s 2s/step - loss: 1.0690 - categorical_accuracy: 0.6481 - val_loss: 0.9095 - val_categorical_accuracy: 0.7186\n",
      "Epoch 45/50\n",
      "4/4 [==============================] - 5s 2s/step - loss: 1.0065 - categorical_accuracy: 0.6481 - val_loss: 0.9095 - val_categorical_accuracy: 0.7201\n",
      "Epoch 46/50\n",
      "4/4 [==============================] - 5s 2s/step - loss: 0.8482 - categorical_accuracy: 0.7222 - val_loss: 0.9182 - val_categorical_accuracy: 0.7133\n",
      "Epoch 47/50\n",
      "4/4 [==============================] - 4s 1s/step - loss: 0.8982 - categorical_accuracy: 0.7130 - val_loss: 0.9440 - val_categorical_accuracy: 0.6939\n",
      "Epoch 48/50\n",
      "4/4 [==============================] - 4s 1s/step - loss: 0.9725 - categorical_accuracy: 0.6481 - val_loss: 0.8994 - val_categorical_accuracy: 0.7137\n",
      "Epoch 49/50\n",
      "4/4 [==============================] - 4s 1s/step - loss: 0.8553 - categorical_accuracy: 0.7130 - val_loss: 0.9044 - val_categorical_accuracy: 0.7070\n",
      "Epoch 50/50\n",
      "4/4 [==============================] - 4s 1s/step - loss: 1.0807 - categorical_accuracy: 0.5926 - val_loss: 0.8979 - val_categorical_accuracy: 0.7197\n"
     ]
    },
    {
     "data": {
      "image/png": "[encoded data removed]",
      "text/plain": [
       "<Figure size 720x360 with 2 Axes>"
      ]
     },
     "metadata": {
      "needs_background": "light"
     },
     "output_type": "display_data"
    }
   ],
   "source": [
    "cell_history_train = model.fit_generator(cell_train_generator_1, validation_data = cell_validation_generator_1, epochs=50, steps_per_epoch=4)\n",
    "\n",
    "plot_learning_curve(cell_history_train.history['loss'], cell_history_train.history['val_loss'], \n",
    "                    cell_history_train.history['categorical_accuracy'], cell_history_train.history['val_categorical_accuracy'], \n",
    "                    metric_name='Accuracy')"
   ]
  },
  {
   "cell_type": "code",
   "execution_count": 75,
   "id": "3549dad2",
   "metadata": {},
   "outputs": [
    {
     "name": "stdout",
     "output_type": "stream",
     "text": [
      "Found 2672 validated image filenames belonging to 4 classes.\n",
      "  38/2672 [..............................] - ETA: 7s - loss: 1.4802 - categorical_accuracy: 0.1842    "
     ]
    },
    {
     "name": "stderr",
     "output_type": "stream",
     "text": [
      "/home/ec2-user/anaconda3/envs/tensorflow_p36/lib/python3.6/site-packages/ipykernel/__main__.py:1: SettingWithCopyWarning: \n",
      "A value is trying to be set on a copy of a slice from a DataFrame.\n",
      "Try using .loc[row_indexer,col_indexer] = value instead\n",
      "\n",
      "See the caveats in the documentation: https://pandas.pydata.org/pandas-docs/stable/user_guide/indexing.html#returning-a-view-versus-a-copy\n",
      "  if __name__ == '__main__':\n",
      "/home/ec2-user/anaconda3/envs/tensorflow_p36/lib/python3.6/site-packages/keras_preprocessing/image/image_data_generator.py:349: UserWarning: This ImageDataGenerator specifies `featurewise_std_normalization`, which overrides setting of `featurewise_center`.\n",
      "  warnings.warn('This ImageDataGenerator specifies '\n",
      "/home/ec2-user/anaconda3/envs/tensorflow_p36/lib/python3.6/site-packages/keras_preprocessing/image/image_data_generator.py:356: UserWarning: This ImageDataGenerator specifies `samplewise_std_normalization`, which overrides setting of `samplewise_center`.\n",
      "  warnings.warn('This ImageDataGenerator specifies '\n",
      "/home/ec2-user/anaconda3/envs/tensorflow_p36/lib/python3.6/site-packages/keras_preprocessing/image/image_data_generator.py:720: UserWarning: This ImageDataGenerator specifies `featurewise_center`, but it hasn't been fit on any training data. Fit it first by calling `.fit(numpy_data)`.\n",
      "  warnings.warn('This ImageDataGenerator specifies '\n",
      "/home/ec2-user/anaconda3/envs/tensorflow_p36/lib/python3.6/site-packages/keras_preprocessing/image/image_data_generator.py:728: UserWarning: This ImageDataGenerator specifies `featurewise_std_normalization`, but it hasn't been fit on any training data. Fit it first by calling `.fit(numpy_data)`.\n",
      "  warnings.warn('This ImageDataGenerator specifies '\n"
     ]
    },
    {
     "name": "stdout",
     "output_type": "stream",
     "text": [
      "2672/2672 [==============================] - 7s 3ms/step - loss: 1.4836 - categorical_accuracy: 0.1415\n"
     ]
    },
    {
     "data": {
      "text/plain": [
       "[1.4835885763168335, 0.14146706461906433]"
      ]
     },
     "execution_count": 75,
     "metadata": {},
     "output_type": "execute_result"
    }
   ],
   "source": [
    "test_data['cellType'] = test_data['cellType'].astype('str')\n",
    "\n",
    "cell_test_datagen = ImageDataGenerator(                               \n",
    "                                rescale=1./255, \n",
    "                                data_format='channels_last',\n",
    "                                rotation_range=30, \n",
    "                                width_shift_range=0.2,\n",
    "                                height_shift_range=0.2,\n",
    "                                zoom_range = 0.2,\n",
    "                                featurewise_std_normalization=True,\n",
    "                                samplewise_std_normalization=True)\n",
    "\n",
    "batch_size = 1\n",
    "\n",
    "cell_test_generator = cell_test_datagen.flow_from_dataframe(\n",
    "        dataframe=test_data,\n",
    "        directory='./Image_classification_data/patch_images/',\n",
    "        x_col=\"ImageName\",\n",
    "        y_col=\"cellType\",\n",
    "        target_size=(27, 27),\n",
    "        batch_size=batch_size,\n",
    "        class_mode='categorical')\n",
    "\n",
    "final_model.evaluate(cell_test_generator)"
   ]
  },
  {
   "cell_type": "code",
   "execution_count": 78,
   "id": "cc6bce2d",
   "metadata": {},
   "outputs": [],
   "source": [
    "model.save(\"batch_1_model.h5\")"
   ]
  },
  {
   "cell_type": "markdown",
   "id": "b3d549ac",
   "metadata": {},
   "source": [
    "## Batch 2 - Training"
   ]
  },
  {
   "cell_type": "code",
   "execution_count": 136,
   "id": "ed852aad",
   "metadata": {},
   "outputs": [
    {
     "name": "stderr",
     "output_type": "stream",
     "text": [
      "/home/ec2-user/anaconda3/envs/tensorflow_p36/lib/python3.6/site-packages/ipykernel/__main__.py:4: SettingWithCopyWarning: \n",
      "A value is trying to be set on a copy of a slice from a DataFrame.\n",
      "Try using .loc[row_indexer,col_indexer] = value instead\n",
      "\n",
      "See the caveats in the documentation: https://pandas.pydata.org/pandas-docs/stable/user_guide/indexing.html#returning-a-view-versus-a-copy\n"
     ]
    },
    {
     "data": {
      "text/html": [
       "<div>\n",
       "<style scoped>\n",
       "    .dataframe tbody tr th:only-of-type {\n",
       "        vertical-align: middle;\n",
       "    }\n",
       "\n",
       "    .dataframe tbody tr th {\n",
       "        vertical-align: top;\n",
       "    }\n",
       "\n",
       "    .dataframe thead th {\n",
       "        text-align: right;\n",
       "    }\n",
       "</style>\n",
       "<table border=\"1\" class=\"dataframe\">\n",
       "  <thead>\n",
       "    <tr style=\"text-align: right;\">\n",
       "      <th></th>\n",
       "      <th>InstanceID</th>\n",
       "      <th>patientID</th>\n",
       "      <th>ImageName</th>\n",
       "      <th>isCancerous</th>\n",
       "      <th>cellType</th>\n",
       "    </tr>\n",
       "  </thead>\n",
       "  <tbody>\n",
       "    <tr>\n",
       "      <th>8952</th>\n",
       "      <td>19370</td>\n",
       "      <td>91</td>\n",
       "      <td>19370.png</td>\n",
       "      <td>0</td>\n",
       "      <td>3</td>\n",
       "    </tr>\n",
       "    <tr>\n",
       "      <th>2922</th>\n",
       "      <td>1816</td>\n",
       "      <td>77</td>\n",
       "      <td>1816.png</td>\n",
       "      <td>0</td>\n",
       "      <td>2</td>\n",
       "    </tr>\n",
       "    <tr>\n",
       "      <th>1803</th>\n",
       "      <td>6543</td>\n",
       "      <td>68</td>\n",
       "      <td>6543.png</td>\n",
       "      <td>1</td>\n",
       "      <td>3</td>\n",
       "    </tr>\n",
       "    <tr>\n",
       "      <th>8102</th>\n",
       "      <td>14850</td>\n",
       "      <td>89</td>\n",
       "      <td>14850.png</td>\n",
       "      <td>0</td>\n",
       "      <td>0</td>\n",
       "    </tr>\n",
       "    <tr>\n",
       "      <th>3438</th>\n",
       "      <td>2373</td>\n",
       "      <td>77</td>\n",
       "      <td>2373.png</td>\n",
       "      <td>0</td>\n",
       "      <td>2</td>\n",
       "    </tr>\n",
       "  </tbody>\n",
       "</table>\n",
       "</div>"
      ],
      "text/plain": [
       "      InstanceID  patientID  ImageName  isCancerous  cellType\n",
       "8952       19370         91  19370.png            0         3\n",
       "2922        1816         77   1816.png            0         2\n",
       "1803        6543         68   6543.png            1         3\n",
       "8102       14850         89  14850.png            0         0\n",
       "3438        2373         77   2373.png            0         2"
      ]
     },
     "execution_count": 136,
     "metadata": {},
     "output_type": "execute_result"
    }
   ],
   "source": [
    "from sklearn.datasets import make_blobs\n",
    "from sklearn.preprocessing import MinMaxScaler\n",
    "\n",
    "X, train_data_1['cellType'], = make_blobs(n_samples=3461, centers=4, n_features=1, random_state=42)\n",
    "train_data_1.head()"
   ]
  },
  {
   "cell_type": "code",
   "execution_count": 137,
   "id": "48490dca",
   "metadata": {},
   "outputs": [
    {
     "name": "stdout",
     "output_type": "stream",
     "text": [
      "Found 3461 validated image filenames belonging to 4 classes.\n"
     ]
    },
    {
     "name": "stderr",
     "output_type": "stream",
     "text": [
      "/home/ec2-user/anaconda3/envs/tensorflow_p36/lib/python3.6/site-packages/ipykernel/__main__.py:1: SettingWithCopyWarning: \n",
      "A value is trying to be set on a copy of a slice from a DataFrame.\n",
      "Try using .loc[row_indexer,col_indexer] = value instead\n",
      "\n",
      "See the caveats in the documentation: https://pandas.pydata.org/pandas-docs/stable/user_guide/indexing.html#returning-a-view-versus-a-copy\n",
      "  if __name__ == '__main__':\n",
      "/home/ec2-user/anaconda3/envs/tensorflow_p36/lib/python3.6/site-packages/keras_preprocessing/image/image_data_generator.py:349: UserWarning: This ImageDataGenerator specifies `featurewise_std_normalization`, which overrides setting of `featurewise_center`.\n",
      "  warnings.warn('This ImageDataGenerator specifies '\n",
      "/home/ec2-user/anaconda3/envs/tensorflow_p36/lib/python3.6/site-packages/keras_preprocessing/image/image_data_generator.py:356: UserWarning: This ImageDataGenerator specifies `samplewise_std_normalization`, which overrides setting of `samplewise_center`.\n",
      "  warnings.warn('This ImageDataGenerator specifies '\n"
     ]
    }
   ],
   "source": [
    "train_data_1['cellType'] = train_data_1['cellType'].astype('str')\n",
    "\n",
    "cell_train_datagen = ImageDataGenerator(\n",
    "                                rescale=1./255, \n",
    "                                data_format='channels_last',\n",
    "                                rotation_range=30, \n",
    "                                width_shift_range=0.2,\n",
    "                                height_shift_range=0.2,\n",
    "                                zoom_range = 0.2,\n",
    "                                featurewise_std_normalization=True,\n",
    "                                samplewise_std_normalization=True)\n",
    "\n",
    "batch_size = 1\n",
    "\n",
    "cell_train_generator = cell_train_datagen.flow_from_dataframe(\n",
    "        dataframe=train_data_1,\n",
    "        directory='./Image_classification_data/extra_images/',\n",
    "        x_col=\"ImageName\",\n",
    "        y_col=\"cellType\",\n",
    "        target_size=(27, 27),\n",
    "        batch_size=batch_size,\n",
    "        class_mode='categorical')"
   ]
  },
  {
   "cell_type": "code",
   "execution_count": 138,
   "id": "b9dd1ba6",
   "metadata": {},
   "outputs": [
    {
     "name": "stderr",
     "output_type": "stream",
     "text": [
      "/home/ec2-user/anaconda3/envs/tensorflow_p36/lib/python3.6/site-packages/keras_preprocessing/image/image_data_generator.py:720: UserWarning: This ImageDataGenerator specifies `featurewise_center`, but it hasn't been fit on any training data. Fit it first by calling `.fit(numpy_data)`.\n",
      "  warnings.warn('This ImageDataGenerator specifies '\n",
      "/home/ec2-user/anaconda3/envs/tensorflow_p36/lib/python3.6/site-packages/keras_preprocessing/image/image_data_generator.py:728: UserWarning: This ImageDataGenerator specifies `featurewise_std_normalization`, but it hasn't been fit on any training data. Fit it first by calling `.fit(numpy_data)`.\n",
      "  warnings.warn('This ImageDataGenerator specifies '\n"
     ]
    },
    {
     "name": "stdout",
     "output_type": "stream",
     "text": [
      "3461/3461 [==============================] - 10s 3ms/step - loss: 2.2255 - categorical_accuracy: 0.2491\n"
     ]
    },
    {
     "data": {
      "text/plain": [
       "[2.2254819869995117, 0.2490609586238861]"
      ]
     },
     "execution_count": 138,
     "metadata": {},
     "output_type": "execute_result"
    }
   ],
   "source": [
    "batch_1_base = load_model(\"batch_1_model.h5\")\n",
    "batch_1_base.evaluate(cell_train_generator)"
   ]
  },
  {
   "cell_type": "code",
   "execution_count": 139,
   "id": "cdbf0aad",
   "metadata": {},
   "outputs": [
    {
     "name": "stderr",
     "output_type": "stream",
     "text": [
      "/home/ec2-user/anaconda3/envs/tensorflow_p36/lib/python3.6/site-packages/pandas/core/frame.py:4174: SettingWithCopyWarning: \n",
      "A value is trying to be set on a copy of a slice from a DataFrame\n",
      "\n",
      "See the caveats in the documentation: https://pandas.pydata.org/pandas-docs/stable/user_guide/indexing.html#returning-a-view-versus-a-copy\n",
      "  errors=errors,\n",
      "/home/ec2-user/anaconda3/envs/tensorflow_p36/lib/python3.6/site-packages/ipykernel/__main__.py:5: SettingWithCopyWarning: \n",
      "A value is trying to be set on a copy of a slice from a DataFrame.\n",
      "Try using .loc[row_indexer,col_indexer] = value instead\n",
      "\n",
      "See the caveats in the documentation: https://pandas.pydata.org/pandas-docs/stable/user_guide/indexing.html#returning-a-view-versus-a-copy\n"
     ]
    },
    {
     "data": {
      "text/plain": [
       "(16819, 6)"
      ]
     },
     "execution_count": 139,
     "metadata": {},
     "output_type": "execute_result"
    }
   ],
   "source": [
    "preds = []\n",
    "for i in range(0, 3461):\n",
    "    preds.append(np.argmax(batch_1_base.predict(cell_train_generator[i][0])))\n",
    "train_data_1.drop(['cellType'], axis=1, inplace=True)\n",
    "train_data_1['cellType'] = preds\n",
    "train_batch_2 = pd.concat([train_batch_1, train_data_1])\n",
    "train_batch_2.shape"
   ]
  },
  {
   "cell_type": "code",
   "execution_count": 140,
   "id": "759e605a",
   "metadata": {},
   "outputs": [
    {
     "name": "stdout",
     "output_type": "stream",
     "text": [
      "Train data : 10091, \n",
      "Val Data: 3364, \n",
      "Test Data: 3364\n"
     ]
    }
   ],
   "source": [
    "train_data, test_data = train_test_split(train_batch_2, test_size=0.2, random_state=42)\n",
    "train_data, val_data = train_test_split(train_data, test_size=0.25, random_state=42)\n",
    "\n",
    "print(\"Train data : {}, \\nVal Data: {}, \\nTest Data: {}\".format(train_data.shape[0], val_data.shape[0], test_data.shape[0]))"
   ]
  },
  {
   "cell_type": "code",
   "execution_count": 141,
   "id": "dc67490a",
   "metadata": {},
   "outputs": [
    {
     "name": "stdout",
     "output_type": "stream",
     "text": [
      "Found 10091 validated image filenames belonging to 4 classes.\n",
      "Found 3364 validated image filenames belonging to 4 classes.\n"
     ]
    },
    {
     "name": "stderr",
     "output_type": "stream",
     "text": [
      "/home/ec2-user/anaconda3/envs/tensorflow_p36/lib/python3.6/site-packages/keras_preprocessing/image/image_data_generator.py:349: UserWarning: This ImageDataGenerator specifies `featurewise_std_normalization`, which overrides setting of `featurewise_center`.\n",
      "  warnings.warn('This ImageDataGenerator specifies '\n",
      "/home/ec2-user/anaconda3/envs/tensorflow_p36/lib/python3.6/site-packages/keras_preprocessing/image/image_data_generator.py:356: UserWarning: This ImageDataGenerator specifies `samplewise_std_normalization`, which overrides setting of `samplewise_center`.\n",
      "  warnings.warn('This ImageDataGenerator specifies '\n"
     ]
    }
   ],
   "source": [
    "train_data['cellType'] = train_data['cellType'].astype('str')\n",
    "val_data['cellType'] = val_data['cellType'].astype('str')\n",
    "\n",
    "cell_train_datagen = ImageDataGenerator(rescale=1./255, \n",
    "                                data_format='channels_last',\n",
    "                                rotation_range=30, \n",
    "                                width_shift_range=0.2,\n",
    "                                height_shift_range=0.2,\n",
    "                                zoom_range = 0.2,\n",
    "                                featurewise_std_normalization=True,\n",
    "                                samplewise_std_normalization=True)\n",
    "cell_val_datagen = ImageDataGenerator(rescale=1./255, \n",
    "                                data_format='channels_last',\n",
    "                                rotation_range=30, \n",
    "                                width_shift_range=0.2,\n",
    "                                height_shift_range=0.2,\n",
    "                                zoom_range = 0.2,\n",
    "                                featurewise_std_normalization=True,\n",
    "                                samplewise_std_normalization=True)\n",
    "\n",
    "batch_size = 27\n",
    "\n",
    "cell_train_generator_2 = cell_train_datagen.flow_from_dataframe(\n",
    "        dataframe=train_data,\n",
    "        directory='./Image_classification_data/patch_images/',\n",
    "        x_col=\"ImageName\",\n",
    "        y_col=\"cellType\",\n",
    "        target_size=(27, 27),\n",
    "        batch_size=batch_size,\n",
    "        class_mode='categorical')\n",
    "\n",
    "cell_validation_generator_2 = cell_val_datagen.flow_from_dataframe(\n",
    "        dataframe=val_data,\n",
    "        directory='./Image_classification_data/patch_images/',\n",
    "        x_col=\"ImageName\",\n",
    "        y_col=\"cellType\",\n",
    "        target_size=(27, 27),\n",
    "        batch_size=batch_size,\n",
    "        class_mode='categorical')"
   ]
  },
  {
   "cell_type": "code",
   "execution_count": 142,
   "id": "182d0917",
   "metadata": {},
   "outputs": [
    {
     "name": "stdout",
     "output_type": "stream",
     "text": [
      "Model: \"model_17\"\n",
      "_________________________________________________________________\n",
      "Layer (type)                 Output Shape              Param #   \n",
      "=================================================================\n",
      "input_23 (InputLayer)        [(None, 27, 27, 3)]       0         \n",
      "_________________________________________________________________\n",
      "model_14 (Functional)        (None, 4)                 116380    \n",
      "_________________________________________________________________\n",
      "dense_19 (Dense)             (None, 1024)              5120      \n",
      "_________________________________________________________________\n",
      "dense_20 (Dense)             (None, 4)                 4100      \n",
      "=================================================================\n",
      "Total params: 125,600\n",
      "Trainable params: 9,220\n",
      "Non-trainable params: 116,380\n",
      "_________________________________________________________________\n"
     ]
    }
   ],
   "source": [
    "reg_lambda = 0.001\n",
    "batch_1_base.trainable = False\n",
    "# add new classifier layers\n",
    "\n",
    "inputs = tf.keras.Input(shape=(27, 27, 3))\n",
    "x = batch_1_base(inputs, training=False)\n",
    "class1 = Dense(1024, activation='relu')(x)\n",
    "outputs = tf.keras.layers.Dense(4, activation='softmax', kernel_regularizer=tf.keras.regularizers.l2(reg_lambda))(class1)\n",
    "batch_2_model = tf.keras.Model(inputs, outputs)\n",
    "\n",
    "sgd = tf.keras.optimizers.SGD(learning_rate=0.01, decay=1e-6, momentum=0.9, nesterov=True)\n",
    "batch_2_model.compile(optimizer=sgd,\n",
    "              loss=tf.keras.losses.CategoricalCrossentropy(from_logits=False),\n",
    "              metrics=['categorical_accuracy'])\n",
    "\n",
    "batch_2_model.summary()"
   ]
  },
  {
   "cell_type": "code",
   "execution_count": 155,
   "id": "1eba2d80",
   "metadata": {
    "collapsed": true,
    "jupyter": {
     "outputs_hidden": true
    }
   },
   "outputs": [
    {
     "name": "stdout",
     "output_type": "stream",
     "text": [
      "Epoch 1/50\n",
      "1/4 [======>.......................] - ETA: 0s - loss: 0.8323 - categorical_accuracy: 0.7037"
     ]
    },
    {
     "name": "stderr",
     "output_type": "stream",
     "text": [
      "/home/ec2-user/anaconda3/envs/tensorflow_p36/lib/python3.6/site-packages/tensorflow/python/keras/engine/training.py:1940: UserWarning: `Model.fit_generator` is deprecated and will be removed in a future version. Please use `Model.fit`, which supports generators.\n",
      "  warnings.warn('`Model.fit_generator` is deprecated and '\n",
      "/home/ec2-user/anaconda3/envs/tensorflow_p36/lib/python3.6/site-packages/keras_preprocessing/image/image_data_generator.py:720: UserWarning: This ImageDataGenerator specifies `featurewise_center`, but it hasn't been fit on any training data. Fit it first by calling `.fit(numpy_data)`.\n",
      "  warnings.warn('This ImageDataGenerator specifies '\n",
      "/home/ec2-user/anaconda3/envs/tensorflow_p36/lib/python3.6/site-packages/keras_preprocessing/image/image_data_generator.py:728: UserWarning: This ImageDataGenerator specifies `featurewise_std_normalization`, but it hasn't been fit on any training data. Fit it first by calling `.fit(numpy_data)`.\n",
      "  warnings.warn('This ImageDataGenerator specifies '\n"
     ]
    },
    {
     "name": "stdout",
     "output_type": "stream",
     "text": [
      "4/4 [==============================] - 5s 1s/step - loss: 0.9111 - categorical_accuracy: 0.7037 - val_loss: 0.9064 - val_categorical_accuracy: 0.7161\n",
      "Epoch 2/50\n",
      "4/4 [==============================] - 5s 2s/step - loss: 0.8793 - categorical_accuracy: 0.7500 - val_loss: 0.8909 - val_categorical_accuracy: 0.7197\n",
      "Epoch 3/50\n",
      "4/4 [==============================] - 4s 1s/step - loss: 0.9225 - categorical_accuracy: 0.7222 - val_loss: 0.8927 - val_categorical_accuracy: 0.7203\n",
      "Epoch 4/50\n",
      "4/4 [==============================] - 4s 1s/step - loss: 0.8903 - categorical_accuracy: 0.7500 - val_loss: 0.8809 - val_categorical_accuracy: 0.7212\n",
      "Epoch 5/50\n",
      "4/4 [==============================] - 5s 1s/step - loss: 0.9245 - categorical_accuracy: 0.7037 - val_loss: 0.8889 - val_categorical_accuracy: 0.7221\n",
      "Epoch 6/50\n",
      "4/4 [==============================] - 5s 1s/step - loss: 0.7333 - categorical_accuracy: 0.7870 - val_loss: 0.8779 - val_categorical_accuracy: 0.7250\n",
      "Epoch 7/50\n",
      "4/4 [==============================] - 4s 1s/step - loss: 0.7839 - categorical_accuracy: 0.7685 - val_loss: 0.8914 - val_categorical_accuracy: 0.7218\n",
      "Epoch 8/50\n",
      "4/4 [==============================] - 4s 1s/step - loss: 0.9184 - categorical_accuracy: 0.7037 - val_loss: 0.8925 - val_categorical_accuracy: 0.7206\n",
      "Epoch 9/50\n",
      "4/4 [==============================] - 4s 1s/step - loss: 0.8742 - categorical_accuracy: 0.7778 - val_loss: 0.8927 - val_categorical_accuracy: 0.7244\n",
      "Epoch 10/50\n",
      "4/4 [==============================] - 4s 1s/step - loss: 0.9630 - categorical_accuracy: 0.6574 - val_loss: 0.8921 - val_categorical_accuracy: 0.7221\n",
      "Epoch 11/50\n",
      "4/4 [==============================] - 4s 1s/step - loss: 0.7977 - categorical_accuracy: 0.7500 - val_loss: 0.8813 - val_categorical_accuracy: 0.7232\n",
      "Epoch 12/50\n",
      "4/4 [==============================] - 4s 1s/step - loss: 0.7645 - categorical_accuracy: 0.7500 - val_loss: 0.8910 - val_categorical_accuracy: 0.7215\n",
      "Epoch 13/50\n",
      "4/4 [==============================] - 4s 1s/step - loss: 0.8764 - categorical_accuracy: 0.7315 - val_loss: 0.8802 - val_categorical_accuracy: 0.7170\n",
      "Epoch 14/50\n",
      "4/4 [==============================] - 4s 1s/step - loss: 0.9712 - categorical_accuracy: 0.6944 - val_loss: 0.8866 - val_categorical_accuracy: 0.7146\n",
      "Epoch 15/50\n",
      "4/4 [==============================] - 4s 1s/step - loss: 0.9165 - categorical_accuracy: 0.7037 - val_loss: 0.8895 - val_categorical_accuracy: 0.7164\n",
      "Epoch 16/50\n",
      "4/4 [==============================] - 4s 1s/step - loss: 0.9876 - categorical_accuracy: 0.6852 - val_loss: 0.8882 - val_categorical_accuracy: 0.7176\n",
      "Epoch 17/50\n",
      "4/4 [==============================] - 4s 1s/step - loss: 0.9745 - categorical_accuracy: 0.6389 - val_loss: 0.8912 - val_categorical_accuracy: 0.7206\n",
      "Epoch 18/50\n",
      "4/4 [==============================] - 4s 1s/step - loss: 0.9300 - categorical_accuracy: 0.6944 - val_loss: 0.8819 - val_categorical_accuracy: 0.7221\n",
      "Epoch 19/50\n",
      "4/4 [==============================] - 4s 1s/step - loss: 0.8110 - categorical_accuracy: 0.7685 - val_loss: 0.8880 - val_categorical_accuracy: 0.7176\n",
      "Epoch 20/50\n",
      "4/4 [==============================] - 4s 1s/step - loss: 0.9792 - categorical_accuracy: 0.6944 - val_loss: 0.8740 - val_categorical_accuracy: 0.7229\n",
      "Epoch 21/50\n",
      "4/4 [==============================] - 4s 1s/step - loss: 0.8838 - categorical_accuracy: 0.7037 - val_loss: 0.8752 - val_categorical_accuracy: 0.7286\n",
      "Epoch 22/50\n",
      "4/4 [==============================] - 4s 1s/step - loss: 0.9935 - categorical_accuracy: 0.6944 - val_loss: 0.8756 - val_categorical_accuracy: 0.7224\n",
      "Epoch 23/50\n",
      "4/4 [==============================] - 4s 1s/step - loss: 0.8647 - categorical_accuracy: 0.7222 - val_loss: 0.8769 - val_categorical_accuracy: 0.7203\n",
      "Epoch 24/50\n",
      "4/4 [==============================] - 4s 1s/step - loss: 0.9019 - categorical_accuracy: 0.7130 - val_loss: 0.8674 - val_categorical_accuracy: 0.7221\n",
      "Epoch 25/50\n",
      "4/4 [==============================] - 4s 1s/step - loss: 0.7480 - categorical_accuracy: 0.7778 - val_loss: 0.8719 - val_categorical_accuracy: 0.7247\n",
      "Epoch 26/50\n",
      "4/4 [==============================] - 4s 1s/step - loss: 0.8256 - categorical_accuracy: 0.7500 - val_loss: 0.8725 - val_categorical_accuracy: 0.7363\n",
      "Epoch 27/50\n",
      "4/4 [==============================] - 4s 1s/step - loss: 0.8079 - categorical_accuracy: 0.7500 - val_loss: 0.8793 - val_categorical_accuracy: 0.7354\n",
      "Epoch 28/50\n",
      "4/4 [==============================] - 5s 2s/step - loss: 0.9203 - categorical_accuracy: 0.7037 - val_loss: 0.8683 - val_categorical_accuracy: 0.7384\n",
      "Epoch 29/50\n",
      "4/4 [==============================] - 4s 1s/step - loss: 0.8618 - categorical_accuracy: 0.7500 - val_loss: 0.8675 - val_categorical_accuracy: 0.7351\n",
      "Epoch 30/50\n",
      "4/4 [==============================] - 5s 2s/step - loss: 0.8038 - categorical_accuracy: 0.7870 - val_loss: 0.8809 - val_categorical_accuracy: 0.7378\n",
      "Epoch 31/50\n",
      "4/4 [==============================] - 4s 1s/step - loss: 0.9908 - categorical_accuracy: 0.7037 - val_loss: 0.8684 - val_categorical_accuracy: 0.7342\n",
      "Epoch 32/50\n",
      "4/4 [==============================] - 4s 1s/step - loss: 0.8390 - categorical_accuracy: 0.7315 - val_loss: 0.8726 - val_categorical_accuracy: 0.7331\n",
      "Epoch 33/50\n",
      "4/4 [==============================] - 4s 1s/step - loss: 0.8473 - categorical_accuracy: 0.6852 - val_loss: 0.8736 - val_categorical_accuracy: 0.7259\n",
      "Epoch 34/50\n",
      "4/4 [==============================] - 4s 1s/step - loss: 0.9795 - categorical_accuracy: 0.6667 - val_loss: 0.8708 - val_categorical_accuracy: 0.7185\n",
      "Epoch 35/50\n",
      "4/4 [==============================] - 4s 1s/step - loss: 0.8099 - categorical_accuracy: 0.7500 - val_loss: 0.8723 - val_categorical_accuracy: 0.7200\n",
      "Epoch 36/50\n",
      "4/4 [==============================] - 4s 1s/step - loss: 0.8340 - categorical_accuracy: 0.7222 - val_loss: 0.8667 - val_categorical_accuracy: 0.7212\n",
      "Epoch 37/50\n",
      "4/4 [==============================] - 4s 1s/step - loss: 0.9020 - categorical_accuracy: 0.7037 - val_loss: 0.8653 - val_categorical_accuracy: 0.7229\n",
      "Epoch 38/50\n",
      "4/4 [==============================] - 4s 1s/step - loss: 0.9377 - categorical_accuracy: 0.6944 - val_loss: 0.8676 - val_categorical_accuracy: 0.7203\n",
      "Epoch 39/50\n",
      "4/4 [==============================] - 4s 1s/step - loss: 0.8636 - categorical_accuracy: 0.6944 - val_loss: 0.8742 - val_categorical_accuracy: 0.7209\n",
      "Epoch 40/50\n",
      "4/4 [==============================] - 4s 1s/step - loss: 0.9280 - categorical_accuracy: 0.6944 - val_loss: 0.8724 - val_categorical_accuracy: 0.7331\n",
      "Epoch 41/50\n",
      "4/4 [==============================] - 4s 1s/step - loss: 0.9514 - categorical_accuracy: 0.6944 - val_loss: 0.8719 - val_categorical_accuracy: 0.7384\n",
      "Epoch 42/50\n",
      "4/4 [==============================] - 4s 1s/step - loss: 0.9097 - categorical_accuracy: 0.7130 - val_loss: 0.8660 - val_categorical_accuracy: 0.7405\n",
      "Epoch 43/50\n",
      "4/4 [==============================] - 4s 1s/step - loss: 0.8648 - categorical_accuracy: 0.7130 - val_loss: 0.8648 - val_categorical_accuracy: 0.7345\n",
      "Epoch 44/50\n",
      "4/4 [==============================] - 4s 1s/step - loss: 0.8447 - categorical_accuracy: 0.7593 - val_loss: 0.8649 - val_categorical_accuracy: 0.7348\n",
      "Epoch 45/50\n",
      "4/4 [==============================] - 4s 1s/step - loss: 0.9835 - categorical_accuracy: 0.7130 - val_loss: 0.8598 - val_categorical_accuracy: 0.7444\n",
      "Epoch 46/50\n",
      "4/4 [==============================] - 4s 1s/step - loss: 0.7043 - categorical_accuracy: 0.8056 - val_loss: 0.8556 - val_categorical_accuracy: 0.7435\n",
      "Epoch 47/50\n",
      "4/4 [==============================] - 4s 1s/step - loss: 0.8657 - categorical_accuracy: 0.7500 - val_loss: 0.8645 - val_categorical_accuracy: 0.7399\n",
      "Epoch 48/50\n",
      "4/4 [==============================] - 4s 1s/step - loss: 0.8844 - categorical_accuracy: 0.7500 - val_loss: 0.8674 - val_categorical_accuracy: 0.7411\n",
      "Epoch 49/50\n",
      "4/4 [==============================] - 4s 1s/step - loss: 0.9724 - categorical_accuracy: 0.6481 - val_loss: 0.8712 - val_categorical_accuracy: 0.7339\n",
      "Epoch 50/50\n",
      "4/4 [==============================] - 4s 1s/step - loss: 0.8627 - categorical_accuracy: 0.7685 - val_loss: 0.8698 - val_categorical_accuracy: 0.7354\n"
     ]
    },
    {
     "data": {
      "image/png": "[encoded data removed]",
      "text/plain": [
       "<Figure size 720x360 with 2 Axes>"
      ]
     },
     "metadata": {
      "needs_background": "light"
     },
     "output_type": "display_data"
    }
   ],
   "source": [
    "cell_history = batch_2_model.fit_generator(cell_train_generator_2, validation_data = cell_validation_generator_2, epochs=50, steps_per_epoch=4)\n",
    "\n",
    "plot_learning_curve(cell_history.history['loss'], cell_history.history['val_loss'], \n",
    "                    cell_history.history['categorical_accuracy'], cell_history.history['val_categorical_accuracy'], \n",
    "                    metric_name='Accuracy')"
   ]
  },
  {
   "cell_type": "code",
   "execution_count": 156,
   "id": "8115194e",
   "metadata": {},
   "outputs": [
    {
     "name": "stdout",
     "output_type": "stream",
     "text": [
      "Found 4056 validated image filenames belonging to 4 classes.\n",
      "  19/4056 [..............................] - ETA: 11s - loss: 0.6746 - categorical_accuracy: 0.8421 "
     ]
    },
    {
     "name": "stderr",
     "output_type": "stream",
     "text": [
      "/home/ec2-user/anaconda3/envs/tensorflow_p36/lib/python3.6/site-packages/ipykernel/__main__.py:1: SettingWithCopyWarning: \n",
      "A value is trying to be set on a copy of a slice from a DataFrame.\n",
      "Try using .loc[row_indexer,col_indexer] = value instead\n",
      "\n",
      "See the caveats in the documentation: https://pandas.pydata.org/pandas-docs/stable/user_guide/indexing.html#returning-a-view-versus-a-copy\n",
      "  if __name__ == '__main__':\n",
      "/home/ec2-user/anaconda3/envs/tensorflow_p36/lib/python3.6/site-packages/keras_preprocessing/image/image_data_generator.py:349: UserWarning: This ImageDataGenerator specifies `featurewise_std_normalization`, which overrides setting of `featurewise_center`.\n",
      "  warnings.warn('This ImageDataGenerator specifies '\n",
      "/home/ec2-user/anaconda3/envs/tensorflow_p36/lib/python3.6/site-packages/keras_preprocessing/image/image_data_generator.py:356: UserWarning: This ImageDataGenerator specifies `samplewise_std_normalization`, which overrides setting of `samplewise_center`.\n",
      "  warnings.warn('This ImageDataGenerator specifies '\n",
      "/home/ec2-user/anaconda3/envs/tensorflow_p36/lib/python3.6/site-packages/keras_preprocessing/image/image_data_generator.py:720: UserWarning: This ImageDataGenerator specifies `featurewise_center`, but it hasn't been fit on any training data. Fit it first by calling `.fit(numpy_data)`.\n",
      "  warnings.warn('This ImageDataGenerator specifies '\n",
      "/home/ec2-user/anaconda3/envs/tensorflow_p36/lib/python3.6/site-packages/keras_preprocessing/image/image_data_generator.py:728: UserWarning: This ImageDataGenerator specifies `featurewise_std_normalization`, but it hasn't been fit on any training data. Fit it first by calling `.fit(numpy_data)`.\n",
      "  warnings.warn('This ImageDataGenerator specifies '\n"
     ]
    },
    {
     "name": "stdout",
     "output_type": "stream",
     "text": [
      "4056/4056 [==============================] - 12s 3ms/step - loss: 0.8619 - categorical_accuracy: 0.7355\n"
     ]
    },
    {
     "data": {
      "text/plain": [
       "[0.8618552088737488, 0.7354536652565002]"
      ]
     },
     "execution_count": 156,
     "metadata": {},
     "output_type": "execute_result"
    }
   ],
   "source": [
    "test_data['cellType'] = test_data['cellType'].astype('str')\n",
    "\n",
    "cell_test_datagen = ImageDataGenerator(                               \n",
    "                                rescale=1./255, \n",
    "                                data_format='channels_last',\n",
    "                                rotation_range=30, \n",
    "                                width_shift_range=0.2,\n",
    "                                height_shift_range=0.2,\n",
    "                                zoom_range = 0.2,\n",
    "                                featurewise_std_normalization=True,\n",
    "                                samplewise_std_normalization=True)\n",
    "\n",
    "batch_size = 1\n",
    "\n",
    "cell_test_generator = cell_test_datagen.flow_from_dataframe(\n",
    "        dataframe=test_data,\n",
    "        directory='./Image_classification_data/patch_images/',\n",
    "        x_col=\"ImageName\",\n",
    "        y_col=\"cellType\",\n",
    "        target_size=(27, 27),\n",
    "        batch_size=batch_size,\n",
    "        class_mode='categorical')\n",
    "\n",
    "batch_2_model.evaluate(cell_test_generator)"
   ]
  },
  {
   "cell_type": "code",
   "execution_count": 167,
   "id": "92cf9c06",
   "metadata": {},
   "outputs": [],
   "source": [
    "batch_2_model.save(\"batch_2_model.h5\")"
   ]
  },
  {
   "cell_type": "markdown",
   "id": "5a22f1a4",
   "metadata": {},
   "source": [
    "## Batch - 3 Training"
   ]
  },
  {
   "cell_type": "code",
   "execution_count": 169,
   "id": "330e83a7",
   "metadata": {},
   "outputs": [
    {
     "data": {
      "text/html": [
       "<div>\n",
       "<style scoped>\n",
       "    .dataframe tbody tr th:only-of-type {\n",
       "        vertical-align: middle;\n",
       "    }\n",
       "\n",
       "    .dataframe tbody tr th {\n",
       "        vertical-align: top;\n",
       "    }\n",
       "\n",
       "    .dataframe thead th {\n",
       "        text-align: right;\n",
       "    }\n",
       "</style>\n",
       "<table border=\"1\" class=\"dataframe\">\n",
       "  <thead>\n",
       "    <tr style=\"text-align: right;\">\n",
       "      <th></th>\n",
       "      <th>InstanceID</th>\n",
       "      <th>patientID</th>\n",
       "      <th>ImageName</th>\n",
       "      <th>isCancerous</th>\n",
       "      <th>cellType</th>\n",
       "    </tr>\n",
       "  </thead>\n",
       "  <tbody>\n",
       "    <tr>\n",
       "      <th>2317</th>\n",
       "      <td>10423</td>\n",
       "      <td>70</td>\n",
       "      <td>10423.png</td>\n",
       "      <td>1</td>\n",
       "      <td>3</td>\n",
       "    </tr>\n",
       "    <tr>\n",
       "      <th>9587</th>\n",
       "      <td>21511</td>\n",
       "      <td>92</td>\n",
       "      <td>21511.png</td>\n",
       "      <td>0</td>\n",
       "      <td>2</td>\n",
       "    </tr>\n",
       "    <tr>\n",
       "      <th>7861</th>\n",
       "      <td>14584</td>\n",
       "      <td>89</td>\n",
       "      <td>14584.png</td>\n",
       "      <td>0</td>\n",
       "      <td>3</td>\n",
       "    </tr>\n",
       "    <tr>\n",
       "      <th>2237</th>\n",
       "      <td>10335</td>\n",
       "      <td>70</td>\n",
       "      <td>10335.png</td>\n",
       "      <td>0</td>\n",
       "      <td>0</td>\n",
       "    </tr>\n",
       "    <tr>\n",
       "      <th>5412</th>\n",
       "      <td>15417</td>\n",
       "      <td>81</td>\n",
       "      <td>15417.png</td>\n",
       "      <td>0</td>\n",
       "      <td>2</td>\n",
       "    </tr>\n",
       "  </tbody>\n",
       "</table>\n",
       "</div>"
      ],
      "text/plain": [
       "      InstanceID  patientID  ImageName  isCancerous  cellType\n",
       "2317       10423         70  10423.png            1         3\n",
       "9587       21511         92  21511.png            0         2\n",
       "7861       14584         89  14584.png            0         3\n",
       "2237       10335         70  10335.png            0         0\n",
       "5412       15417         81  15417.png            0         2"
      ]
     },
     "execution_count": 169,
     "metadata": {},
     "output_type": "execute_result"
    }
   ],
   "source": [
    "from sklearn.datasets import make_blobs\n",
    "from sklearn.preprocessing import MinMaxScaler\n",
    "\n",
    "X, train_data_2['cellType'], = make_blobs(n_samples=3461, centers=4, n_features=1, random_state=42)\n",
    "train_data_2.head()"
   ]
  },
  {
   "cell_type": "code",
   "execution_count": 170,
   "id": "846752e8",
   "metadata": {},
   "outputs": [
    {
     "name": "stdout",
     "output_type": "stream",
     "text": [
      "Found 3461 validated image filenames belonging to 4 classes.\n"
     ]
    },
    {
     "name": "stderr",
     "output_type": "stream",
     "text": [
      "/home/ec2-user/anaconda3/envs/tensorflow_p36/lib/python3.6/site-packages/keras_preprocessing/image/image_data_generator.py:349: UserWarning: This ImageDataGenerator specifies `featurewise_std_normalization`, which overrides setting of `featurewise_center`.\n",
      "  warnings.warn('This ImageDataGenerator specifies '\n",
      "/home/ec2-user/anaconda3/envs/tensorflow_p36/lib/python3.6/site-packages/keras_preprocessing/image/image_data_generator.py:356: UserWarning: This ImageDataGenerator specifies `samplewise_std_normalization`, which overrides setting of `samplewise_center`.\n",
      "  warnings.warn('This ImageDataGenerator specifies '\n"
     ]
    }
   ],
   "source": [
    "train_data_2['cellType'] = train_data_2['cellType'].astype('str')\n",
    "\n",
    "cell_train_datagen = ImageDataGenerator(\n",
    "                                rescale=1./255, \n",
    "                                data_format='channels_last',\n",
    "                                rotation_range=30, \n",
    "                                width_shift_range=0.2,\n",
    "                                height_shift_range=0.2,\n",
    "                                zoom_range = 0.2,\n",
    "                                featurewise_std_normalization=True,\n",
    "                                samplewise_std_normalization=True)\n",
    "\n",
    "batch_size = 1\n",
    "\n",
    "cell_train_generator = cell_train_datagen.flow_from_dataframe(\n",
    "        dataframe=train_data_2,\n",
    "        directory='./Image_classification_data/extra_images/',\n",
    "        x_col=\"ImageName\",\n",
    "        y_col=\"cellType\",\n",
    "        target_size=(27, 27),\n",
    "        batch_size=batch_size,\n",
    "        class_mode='categorical')"
   ]
  },
  {
   "cell_type": "code",
   "execution_count": 171,
   "id": "e2ce6c20",
   "metadata": {},
   "outputs": [
    {
     "name": "stderr",
     "output_type": "stream",
     "text": [
      "/home/ec2-user/anaconda3/envs/tensorflow_p36/lib/python3.6/site-packages/keras_preprocessing/image/image_data_generator.py:720: UserWarning: This ImageDataGenerator specifies `featurewise_center`, but it hasn't been fit on any training data. Fit it first by calling `.fit(numpy_data)`.\n",
      "  warnings.warn('This ImageDataGenerator specifies '\n",
      "/home/ec2-user/anaconda3/envs/tensorflow_p36/lib/python3.6/site-packages/keras_preprocessing/image/image_data_generator.py:728: UserWarning: This ImageDataGenerator specifies `featurewise_std_normalization`, but it hasn't been fit on any training data. Fit it first by calling `.fit(numpy_data)`.\n",
      "  warnings.warn('This ImageDataGenerator specifies '\n"
     ]
    },
    {
     "name": "stdout",
     "output_type": "stream",
     "text": [
      "3461/3461 [==============================] - 10s 3ms/step - loss: 2.2517 - categorical_accuracy: 0.2496\n"
     ]
    },
    {
     "data": {
      "text/plain": [
       "[2.2517318725585938, 0.24963882565498352]"
      ]
     },
     "execution_count": 171,
     "metadata": {},
     "output_type": "execute_result"
    }
   ],
   "source": [
    "batch_2_base = load_model(\"batch_2_model.h5\")\n",
    "batch_2_base.evaluate(cell_train_generator)"
   ]
  },
  {
   "cell_type": "code",
   "execution_count": 172,
   "id": "6113f2d8",
   "metadata": {},
   "outputs": [
    {
     "data": {
      "text/plain": [
       "(20280, 6)"
      ]
     },
     "execution_count": 172,
     "metadata": {},
     "output_type": "execute_result"
    }
   ],
   "source": [
    "preds = []\n",
    "for i in range(0, 3461):\n",
    "    preds.append(np.argmax(batch_2_base.predict(cell_train_generator[i][0])))\n",
    "train_data_2.drop(['cellType'], axis=1, inplace=True)\n",
    "train_data_2['cellType'] = preds\n",
    "train_batch_3 = pd.concat([train_batch_2, train_data_2])\n",
    "train_batch_3.shape"
   ]
  },
  {
   "cell_type": "code",
   "execution_count": 162,
   "id": "08c4f1eb",
   "metadata": {},
   "outputs": [
    {
     "name": "stdout",
     "output_type": "stream",
     "text": [
      "Train data : 12168, \n",
      "Val Data: 4056, \n",
      "Test Data: 4056\n"
     ]
    }
   ],
   "source": [
    "train_data, test_data = train_test_split(train_batch_3, test_size=0.2, random_state=42)\n",
    "train_data, val_data = train_test_split(train_data, test_size=0.25, random_state=42)\n",
    "\n",
    "print(\"Train data : {}, \\nVal Data: {}, \\nTest Data: {}\".format(train_data.shape[0], val_data.shape[0], test_data.shape[0]))"
   ]
  },
  {
   "cell_type": "code",
   "execution_count": 173,
   "id": "2e59f5ef",
   "metadata": {},
   "outputs": [
    {
     "name": "stdout",
     "output_type": "stream",
     "text": [
      "Found 12168 validated image filenames belonging to 4 classes.\n",
      "Found 4056 validated image filenames belonging to 4 classes.\n"
     ]
    },
    {
     "name": "stderr",
     "output_type": "stream",
     "text": [
      "/home/ec2-user/anaconda3/envs/tensorflow_p36/lib/python3.6/site-packages/keras_preprocessing/image/image_data_generator.py:349: UserWarning: This ImageDataGenerator specifies `featurewise_std_normalization`, which overrides setting of `featurewise_center`.\n",
      "  warnings.warn('This ImageDataGenerator specifies '\n",
      "/home/ec2-user/anaconda3/envs/tensorflow_p36/lib/python3.6/site-packages/keras_preprocessing/image/image_data_generator.py:356: UserWarning: This ImageDataGenerator specifies `samplewise_std_normalization`, which overrides setting of `samplewise_center`.\n",
      "  warnings.warn('This ImageDataGenerator specifies '\n"
     ]
    }
   ],
   "source": [
    "train_data['cellType'] = train_data['cellType'].astype('str')\n",
    "val_data['cellType'] = val_data['cellType'].astype('str')\n",
    "\n",
    "cell_train_datagen = ImageDataGenerator(rescale=1./255, \n",
    "                                data_format='channels_last',\n",
    "                                rotation_range=30, \n",
    "                                width_shift_range=0.2,\n",
    "                                height_shift_range=0.2,\n",
    "                                zoom_range = 0.2,\n",
    "                                featurewise_std_normalization=True,\n",
    "                                samplewise_std_normalization=True)\n",
    "cell_val_datagen = ImageDataGenerator(rescale=1./255, \n",
    "                                data_format='channels_last',\n",
    "                                rotation_range=30, \n",
    "                                width_shift_range=0.2,\n",
    "                                height_shift_range=0.2,\n",
    "                                zoom_range = 0.2,\n",
    "                                featurewise_std_normalization=True,\n",
    "                                samplewise_std_normalization=True)\n",
    "\n",
    "batch_size = 27\n",
    "\n",
    "cell_train_generator_3 = cell_train_datagen.flow_from_dataframe(\n",
    "        dataframe=train_data,\n",
    "        directory='./Image_classification_data/patch_images/',\n",
    "        x_col=\"ImageName\",\n",
    "        y_col=\"cellType\",\n",
    "        target_size=(27, 27),\n",
    "        batch_size=batch_size,\n",
    "        class_mode='categorical')\n",
    "\n",
    "cell_validation_generator_3 = cell_val_datagen.flow_from_dataframe(\n",
    "        dataframe=val_data,\n",
    "        directory='./Image_classification_data/patch_images/',\n",
    "        x_col=\"ImageName\",\n",
    "        y_col=\"cellType\",\n",
    "        target_size=(27, 27),\n",
    "        batch_size=batch_size,\n",
    "        class_mode='categorical')"
   ]
  },
  {
   "cell_type": "code",
   "execution_count": 174,
   "id": "2561db94",
   "metadata": {},
   "outputs": [
    {
     "name": "stdout",
     "output_type": "stream",
     "text": [
      "Model: \"model_23\"\n",
      "_________________________________________________________________\n",
      "Layer (type)                 Output Shape              Param #   \n",
      "=================================================================\n",
      "input_29 (InputLayer)        [(None, 27, 27, 3)]       0         \n",
      "_________________________________________________________________\n",
      "model_17 (Functional)        (None, 4)                 125600    \n",
      "_________________________________________________________________\n",
      "dense_31 (Dense)             (None, 1024)              5120      \n",
      "_________________________________________________________________\n",
      "dense_32 (Dense)             (None, 4)                 4100      \n",
      "=================================================================\n",
      "Total params: 134,820\n",
      "Trainable params: 9,220\n",
      "Non-trainable params: 125,600\n",
      "_________________________________________________________________\n"
     ]
    }
   ],
   "source": [
    "reg_lambda = 0.001\n",
    "batch_2_base.trainable = False\n",
    "# add new classifier layers\n",
    "\n",
    "inputs = tf.keras.Input(shape=(27, 27, 3))\n",
    "x = batch_2_base(inputs, training=False)\n",
    "class1 = Dense(1024, activation='relu')(x)\n",
    "outputs = tf.keras.layers.Dense(4, activation='softmax', kernel_regularizer=tf.keras.regularizers.l2(reg_lambda))(class1)\n",
    "batch_3_model = tf.keras.Model(inputs, outputs)\n",
    "\n",
    "sgd = tf.keras.optimizers.SGD(learning_rate=0.01, decay=1e-6, momentum=0.9, nesterov=True)\n",
    "batch_3_model.compile(optimizer=sgd,\n",
    "              loss=tf.keras.losses.CategoricalCrossentropy(from_logits=False),\n",
    "              metrics=['categorical_accuracy'])\n",
    "\n",
    "batch_3_model.summary()"
   ]
  },
  {
   "cell_type": "code",
   "execution_count": 175,
   "id": "e21a6a66",
   "metadata": {
    "collapsed": true,
    "jupyter": {
     "outputs_hidden": true
    }
   },
   "outputs": [
    {
     "name": "stderr",
     "output_type": "stream",
     "text": [
      "/home/ec2-user/anaconda3/envs/tensorflow_p36/lib/python3.6/site-packages/tensorflow/python/keras/engine/training.py:1940: UserWarning: `Model.fit_generator` is deprecated and will be removed in a future version. Please use `Model.fit`, which supports generators.\n",
      "  warnings.warn('`Model.fit_generator` is deprecated and '\n",
      "/home/ec2-user/anaconda3/envs/tensorflow_p36/lib/python3.6/site-packages/keras_preprocessing/image/image_data_generator.py:720: UserWarning: This ImageDataGenerator specifies `featurewise_center`, but it hasn't been fit on any training data. Fit it first by calling `.fit(numpy_data)`.\n",
      "  warnings.warn('This ImageDataGenerator specifies '\n",
      "/home/ec2-user/anaconda3/envs/tensorflow_p36/lib/python3.6/site-packages/keras_preprocessing/image/image_data_generator.py:728: UserWarning: This ImageDataGenerator specifies `featurewise_std_normalization`, but it hasn't been fit on any training data. Fit it first by calling `.fit(numpy_data)`.\n",
      "  warnings.warn('This ImageDataGenerator specifies '\n"
     ]
    },
    {
     "name": "stdout",
     "output_type": "stream",
     "text": [
      "Epoch 1/50\n",
      "4/4 [==============================] - 6s 2s/step - loss: 1.4796 - categorical_accuracy: 0.3981 - val_loss: 1.4271 - val_categorical_accuracy: 0.6351\n",
      "Epoch 2/50\n",
      "4/4 [==============================] - 5s 2s/step - loss: 1.3674 - categorical_accuracy: 0.6944 - val_loss: 1.3159 - val_categorical_accuracy: 0.6351\n",
      "Epoch 3/50\n",
      "4/4 [==============================] - 6s 2s/step - loss: 1.2840 - categorical_accuracy: 0.6111 - val_loss: 1.2060 - val_categorical_accuracy: 0.6351\n",
      "Epoch 4/50\n",
      "4/4 [==============================] - 5s 2s/step - loss: 1.2135 - categorical_accuracy: 0.5741 - val_loss: 1.1321 - val_categorical_accuracy: 0.6351\n",
      "Epoch 5/50\n",
      "4/4 [==============================] - 5s 2s/step - loss: 1.1837 - categorical_accuracy: 0.5741 - val_loss: 1.0885 - val_categorical_accuracy: 0.6351\n",
      "Epoch 6/50\n",
      "4/4 [==============================] - 5s 2s/step - loss: 0.9964 - categorical_accuracy: 0.6852 - val_loss: 1.0610 - val_categorical_accuracy: 0.6351\n",
      "Epoch 7/50\n",
      "4/4 [==============================] - 5s 2s/step - loss: 1.1063 - categorical_accuracy: 0.5926 - val_loss: 1.0501 - val_categorical_accuracy: 0.6351\n",
      "Epoch 8/50\n",
      "4/4 [==============================] - 5s 2s/step - loss: 1.1421 - categorical_accuracy: 0.5833 - val_loss: 1.0401 - val_categorical_accuracy: 0.6351\n",
      "Epoch 9/50\n",
      "4/4 [==============================] - 5s 2s/step - loss: 0.9822 - categorical_accuracy: 0.6759 - val_loss: 1.0353 - val_categorical_accuracy: 0.6351\n",
      "Epoch 10/50\n",
      "4/4 [==============================] - 5s 2s/step - loss: 0.8570 - categorical_accuracy: 0.7315 - val_loss: 1.0305 - val_categorical_accuracy: 0.6351\n",
      "Epoch 11/50\n",
      "4/4 [==============================] - 5s 2s/step - loss: 1.0034 - categorical_accuracy: 0.6296 - val_loss: 1.0220 - val_categorical_accuracy: 0.6351\n",
      "Epoch 12/50\n",
      "4/4 [==============================] - 5s 2s/step - loss: 1.0168 - categorical_accuracy: 0.6296 - val_loss: 1.0157 - val_categorical_accuracy: 0.6351\n",
      "Epoch 13/50\n",
      "4/4 [==============================] - 5s 2s/step - loss: 0.9580 - categorical_accuracy: 0.6481 - val_loss: 1.0092 - val_categorical_accuracy: 0.6351\n",
      "Epoch 14/50\n",
      "4/4 [==============================] - 6s 2s/step - loss: 0.9149 - categorical_accuracy: 0.6852 - val_loss: 1.0016 - val_categorical_accuracy: 0.6351\n",
      "Epoch 15/50\n",
      "4/4 [==============================] - 5s 2s/step - loss: 1.0046 - categorical_accuracy: 0.6204 - val_loss: 0.9966 - val_categorical_accuracy: 0.6351\n",
      "Epoch 16/50\n",
      "4/4 [==============================] - 5s 2s/step - loss: 0.9589 - categorical_accuracy: 0.6667 - val_loss: 0.9908 - val_categorical_accuracy: 0.6351\n",
      "Epoch 17/50\n",
      "4/4 [==============================] - 5s 2s/step - loss: 0.9873 - categorical_accuracy: 0.6574 - val_loss: 0.9890 - val_categorical_accuracy: 0.6351\n",
      "Epoch 18/50\n",
      "4/4 [==============================] - 5s 2s/step - loss: 0.9430 - categorical_accuracy: 0.6389 - val_loss: 0.9851 - val_categorical_accuracy: 0.6351\n",
      "Epoch 19/50\n",
      "4/4 [==============================] - 5s 2s/step - loss: 0.9220 - categorical_accuracy: 0.6389 - val_loss: 0.9834 - val_categorical_accuracy: 0.6603\n",
      "Epoch 20/50\n",
      "4/4 [==============================] - 5s 2s/step - loss: 0.9653 - categorical_accuracy: 0.6574 - val_loss: 0.9781 - val_categorical_accuracy: 0.6726\n",
      "Epoch 21/50\n",
      "4/4 [==============================] - 5s 2s/step - loss: 0.9251 - categorical_accuracy: 0.6944 - val_loss: 0.9718 - val_categorical_accuracy: 0.6768\n",
      "Epoch 22/50\n",
      "4/4 [==============================] - 5s 2s/step - loss: 1.0581 - categorical_accuracy: 0.6111 - val_loss: 0.9679 - val_categorical_accuracy: 0.6741\n",
      "Epoch 23/50\n",
      "4/4 [==============================] - 5s 2s/step - loss: 0.9737 - categorical_accuracy: 0.6574 - val_loss: 0.9649 - val_categorical_accuracy: 0.6741\n",
      "Epoch 24/50\n",
      "4/4 [==============================] - 5s 2s/step - loss: 1.0258 - categorical_accuracy: 0.6852 - val_loss: 0.9626 - val_categorical_accuracy: 0.6807\n",
      "Epoch 25/50\n",
      "4/4 [==============================] - 5s 2s/step - loss: 0.9136 - categorical_accuracy: 0.7500 - val_loss: 0.9594 - val_categorical_accuracy: 0.6763\n",
      "Epoch 26/50\n",
      "4/4 [==============================] - 5s 2s/step - loss: 0.9061 - categorical_accuracy: 0.7037 - val_loss: 0.9556 - val_categorical_accuracy: 0.6758\n",
      "Epoch 27/50\n",
      "4/4 [==============================] - 5s 2s/step - loss: 0.9157 - categorical_accuracy: 0.7037 - val_loss: 0.9613 - val_categorical_accuracy: 0.6746\n",
      "Epoch 28/50\n",
      "4/4 [==============================] - 5s 2s/step - loss: 0.8659 - categorical_accuracy: 0.7130 - val_loss: 0.9556 - val_categorical_accuracy: 0.6765\n",
      "Epoch 29/50\n",
      "4/4 [==============================] - 5s 2s/step - loss: 1.0084 - categorical_accuracy: 0.6481 - val_loss: 0.9492 - val_categorical_accuracy: 0.7078\n",
      "Epoch 30/50\n",
      "4/4 [==============================] - 5s 2s/step - loss: 0.8379 - categorical_accuracy: 0.7407 - val_loss: 0.9556 - val_categorical_accuracy: 0.7091\n",
      "Epoch 31/50\n",
      "4/4 [==============================] - 5s 2s/step - loss: 0.9995 - categorical_accuracy: 0.7315 - val_loss: 0.9475 - val_categorical_accuracy: 0.7150\n",
      "Epoch 32/50\n",
      "4/4 [==============================] - 5s 2s/step - loss: 0.9637 - categorical_accuracy: 0.6759 - val_loss: 0.9453 - val_categorical_accuracy: 0.7199\n",
      "Epoch 33/50\n",
      "4/4 [==============================] - 5s 2s/step - loss: 0.9746 - categorical_accuracy: 0.7037 - val_loss: 0.9364 - val_categorical_accuracy: 0.7234\n",
      "Epoch 34/50\n",
      "4/4 [==============================] - 6s 2s/step - loss: 1.0271 - categorical_accuracy: 0.6481 - val_loss: 0.9474 - val_categorical_accuracy: 0.7221\n",
      "Epoch 35/50\n",
      "4/4 [==============================] - 5s 2s/step - loss: 0.9235 - categorical_accuracy: 0.7315 - val_loss: 0.9364 - val_categorical_accuracy: 0.7231\n",
      "Epoch 36/50\n",
      "4/4 [==============================] - 5s 2s/step - loss: 0.8803 - categorical_accuracy: 0.7500 - val_loss: 0.9380 - val_categorical_accuracy: 0.7236\n",
      "Epoch 37/50\n",
      "4/4 [==============================] - 5s 2s/step - loss: 0.9242 - categorical_accuracy: 0.7222 - val_loss: 0.9399 - val_categorical_accuracy: 0.7202\n",
      "Epoch 38/50\n",
      "4/4 [==============================] - 5s 2s/step - loss: 0.8707 - categorical_accuracy: 0.7407 - val_loss: 0.9446 - val_categorical_accuracy: 0.7175\n",
      "Epoch 39/50\n",
      "4/4 [==============================] - 5s 2s/step - loss: 1.0257 - categorical_accuracy: 0.6481 - val_loss: 0.9442 - val_categorical_accuracy: 0.7179\n",
      "Epoch 40/50\n",
      "4/4 [==============================] - 5s 2s/step - loss: 0.8244 - categorical_accuracy: 0.7685 - val_loss: 0.9400 - val_categorical_accuracy: 0.7152\n",
      "Epoch 41/50\n",
      "4/4 [==============================] - 6s 2s/step - loss: 0.7865 - categorical_accuracy: 0.7778 - val_loss: 0.9369 - val_categorical_accuracy: 0.7165\n",
      "Epoch 42/50\n",
      "4/4 [==============================] - 5s 2s/step - loss: 0.8346 - categorical_accuracy: 0.7870 - val_loss: 0.9343 - val_categorical_accuracy: 0.7160\n",
      "Epoch 43/50\n",
      "4/4 [==============================] - 5s 2s/step - loss: 0.9877 - categorical_accuracy: 0.7130 - val_loss: 0.9394 - val_categorical_accuracy: 0.7189\n",
      "Epoch 44/50\n",
      "4/4 [==============================] - 6s 2s/step - loss: 0.9442 - categorical_accuracy: 0.7130 - val_loss: 0.9275 - val_categorical_accuracy: 0.7239\n",
      "Epoch 45/50\n",
      "4/4 [==============================] - 5s 2s/step - loss: 0.8752 - categorical_accuracy: 0.7685 - val_loss: 0.9339 - val_categorical_accuracy: 0.7197\n",
      "Epoch 46/50\n",
      "4/4 [==============================] - 5s 2s/step - loss: 0.8969 - categorical_accuracy: 0.7778 - val_loss: 0.9357 - val_categorical_accuracy: 0.7199\n",
      "Epoch 47/50\n",
      "4/4 [==============================] - 5s 2s/step - loss: 0.9047 - categorical_accuracy: 0.7222 - val_loss: 0.9351 - val_categorical_accuracy: 0.7229\n",
      "Epoch 48/50\n",
      "4/4 [==============================] - 5s 2s/step - loss: 0.8322 - categorical_accuracy: 0.7593 - val_loss: 0.9282 - val_categorical_accuracy: 0.7263\n",
      "Epoch 49/50\n",
      "4/4 [==============================] - 5s 2s/step - loss: 0.9805 - categorical_accuracy: 0.7222 - val_loss: 0.9253 - val_categorical_accuracy: 0.7258\n",
      "Epoch 50/50\n",
      "4/4 [==============================] - 5s 2s/step - loss: 0.8923 - categorical_accuracy: 0.7407 - val_loss: 0.9266 - val_categorical_accuracy: 0.7219\n"
     ]
    },
    {
     "data": {
      "image/png": "[encoded data removed]",
      "text/plain": [
       "<Figure size 720x360 with 2 Axes>"
      ]
     },
     "metadata": {
      "needs_background": "light"
     },
     "output_type": "display_data"
    }
   ],
   "source": [
    "cell_history = batch_3_model.fit_generator(cell_train_generator_3, validation_data = cell_validation_generator_3, epochs=50, steps_per_epoch=4)\n",
    "\n",
    "plot_learning_curve(cell_history.history['loss'], cell_history.history['val_loss'], \n",
    "                    cell_history.history['categorical_accuracy'], cell_history.history['val_categorical_accuracy'], \n",
    "                    metric_name='Accuracy')"
   ]
  },
  {
   "cell_type": "code",
   "execution_count": 176,
   "id": "003117ee",
   "metadata": {},
   "outputs": [
    {
     "name": "stdout",
     "output_type": "stream",
     "text": [
      "Found 4056 validated image filenames belonging to 4 classes.\n",
      "  14/4056 [..............................] - ETA: 16s - loss: 0.9178 - categorical_accuracy: 0.7143 "
     ]
    },
    {
     "name": "stderr",
     "output_type": "stream",
     "text": [
      "/home/ec2-user/anaconda3/envs/tensorflow_p36/lib/python3.6/site-packages/keras_preprocessing/image/image_data_generator.py:349: UserWarning: This ImageDataGenerator specifies `featurewise_std_normalization`, which overrides setting of `featurewise_center`.\n",
      "  warnings.warn('This ImageDataGenerator specifies '\n",
      "/home/ec2-user/anaconda3/envs/tensorflow_p36/lib/python3.6/site-packages/keras_preprocessing/image/image_data_generator.py:356: UserWarning: This ImageDataGenerator specifies `samplewise_std_normalization`, which overrides setting of `samplewise_center`.\n",
      "  warnings.warn('This ImageDataGenerator specifies '\n",
      "/home/ec2-user/anaconda3/envs/tensorflow_p36/lib/python3.6/site-packages/keras_preprocessing/image/image_data_generator.py:720: UserWarning: This ImageDataGenerator specifies `featurewise_center`, but it hasn't been fit on any training data. Fit it first by calling `.fit(numpy_data)`.\n",
      "  warnings.warn('This ImageDataGenerator specifies '\n",
      "/home/ec2-user/anaconda3/envs/tensorflow_p36/lib/python3.6/site-packages/keras_preprocessing/image/image_data_generator.py:728: UserWarning: This ImageDataGenerator specifies `featurewise_std_normalization`, but it hasn't been fit on any training data. Fit it first by calling `.fit(numpy_data)`.\n",
      "  warnings.warn('This ImageDataGenerator specifies '\n"
     ]
    },
    {
     "name": "stdout",
     "output_type": "stream",
     "text": [
      "4056/4056 [==============================] - 12s 3ms/step - loss: 0.8918 - categorical_accuracy: 0.7347\n"
     ]
    },
    {
     "data": {
      "text/plain": [
       "[0.8918485641479492, 0.7347140312194824]"
      ]
     },
     "execution_count": 176,
     "metadata": {},
     "output_type": "execute_result"
    }
   ],
   "source": [
    "test_data['cellType'] = test_data['cellType'].astype('str')\n",
    "\n",
    "cell_test_datagen = ImageDataGenerator(                               \n",
    "                                rescale=1./255, \n",
    "                                data_format='channels_last',\n",
    "                                rotation_range=30, \n",
    "                                width_shift_range=0.2,\n",
    "                                height_shift_range=0.2,\n",
    "                                zoom_range = 0.2,\n",
    "                                featurewise_std_normalization=True,\n",
    "                                samplewise_std_normalization=True)\n",
    "\n",
    "batch_size = 1\n",
    "\n",
    "cell_test_generator = cell_test_datagen.flow_from_dataframe(\n",
    "        dataframe=test_data,\n",
    "        directory='./Image_classification_data/patch_images/',\n",
    "        x_col=\"ImageName\",\n",
    "        y_col=\"cellType\",\n",
    "        target_size=(27, 27),\n",
    "        batch_size=batch_size,\n",
    "        class_mode='categorical')\n",
    "\n",
    "batch_3_model.evaluate(cell_test_generator)"
   ]
  },
  {
   "cell_type": "code",
   "execution_count": 177,
   "id": "b2a658bd",
   "metadata": {},
   "outputs": [],
   "source": [
    "batch_3_model.save(\"batch_3_model.h5\")"
   ]
  },
  {
   "cell_type": "markdown",
   "id": "f3aa3e4e",
   "metadata": {},
   "source": [
    "## Tesing the final model"
   ]
  },
  {
   "cell_type": "code",
   "execution_count": 178,
   "id": "461f36d0",
   "metadata": {},
   "outputs": [],
   "source": [
    "label_names = {'fibroblast': 0, 'inflammatory':1, 'epithelial': 2, 'others':3}"
   ]
  },
  {
   "cell_type": "code",
   "execution_count": 180,
   "id": "43b04393",
   "metadata": {},
   "outputs": [
    {
     "name": "stderr",
     "output_type": "stream",
     "text": [
      "Clipping input data to the valid range for imshow with RGB data ([0..1] for floats or [0..255] for integers).\n",
      "Clipping input data to the valid range for imshow with RGB data ([0..1] for floats or [0..255] for integers).\n",
      "Clipping input data to the valid range for imshow with RGB data ([0..1] for floats or [0..255] for integers).\n",
      "Clipping input data to the valid range for imshow with RGB data ([0..1] for floats or [0..255] for integers).\n"
     ]
    },
    {
     "data": {
      "image/png": "[encoded data removed]",
      "text/plain": [
       "<Figure size 1152x288 with 4 Axes>"
      ]
     },
     "metadata": {
      "needs_background": "light"
     },
     "output_type": "display_data"
    }
   ],
   "source": [
    "d_inv = {v: k for k, v in label_names.items()}\n",
    "plt.figure(figsize=(16,4))\n",
    "batches = 0\n",
    "for x,y in cell_train_generator:\n",
    "        batches = batches + 1\n",
    "        y_hat = batch_3_model.predict(x, verbose=0)\n",
    "        \n",
    "        x = np.squeeze(x)\n",
    "        if batches < 5:\n",
    "            plt.subplot(1,5,batches)\n",
    "            plt.imshow(x)\n",
    "            plt.title(\"GT-{}, Pred-{}\".format(d_inv[np.argmax(y[0])], d_inv[np.argmax(y_hat[0])]))\n",
    "        else:\n",
    "            break\n",
    "        \n",
    "        plt.axis('off')"
   ]
  },
  {
   "cell_type": "markdown",
   "id": "a9ec31b6",
   "metadata": {},
   "source": [
    "# Clustering unlabelled data by extracting features from the saved model"
   ]
  },
  {
   "cell_type": "code",
   "execution_count": 8,
   "id": "4a395246",
   "metadata": {},
   "outputs": [],
   "source": [
    "cell_type_model_reg_pred = load_model(\"predict_celltype_extra1.h5\")\n",
    "model = Model(cell_type_model_reg_pred.input, cell_type_model_reg_pred.output)"
   ]
  },
  {
   "cell_type": "code",
   "execution_count": 17,
   "id": "4784b79f",
   "metadata": {},
   "outputs": [
    {
     "name": "stdout",
     "output_type": "stream",
     "text": [
      "Model: \"model_2\"\n",
      "_________________________________________________________________\n",
      "Layer (type)                 Output Shape              Param #   \n",
      "=================================================================\n",
      "input_12 (InputLayer)        [(None, 27, 27, 3)]       0         \n",
      "_________________________________________________________________\n",
      "conv2d_25 (Conv2D)           (None, 27, 27, 32)        2432      \n",
      "_________________________________________________________________\n",
      "max_pooling2d_20 (MaxPooling (None, 13, 13, 32)        0         \n",
      "_________________________________________________________________\n",
      "conv2d_26 (Conv2D)           (None, 9, 9, 48)          38448     \n",
      "_________________________________________________________________\n",
      "max_pooling2d_21 (MaxPooling (None, 4, 4, 48)          0         \n",
      "_________________________________________________________________\n",
      "conv2d_27 (Conv2D)           (None, 2, 2, 64)          27712     \n",
      "_________________________________________________________________\n",
      "max_pooling2d_22 (MaxPooling (None, 1, 1, 64)          0         \n",
      "_________________________________________________________________\n",
      "flatten_10 (Flatten)         (None, 64)                0         \n",
      "_________________________________________________________________\n",
      "dense_25 (Dense)             (None, 256)               16640     \n",
      "_________________________________________________________________\n",
      "dense_26 (Dense)             (None, 84)                21588     \n",
      "_________________________________________________________________\n",
      "dropout_10 (Dropout)         (None, 84)                0         \n",
      "_________________________________________________________________\n",
      "dense_27 (Dense)             (None, 4)                 340       \n",
      "=================================================================\n",
      "Total params: 107,160\n",
      "Trainable params: 107,160\n",
      "Non-trainable params: 0\n",
      "_________________________________________________________________\n"
     ]
    }
   ],
   "source": [
    "model.layers[0].trainable = False\n",
    "# add new classifier layers\n",
    "flat1 = Flatten()(cell_type_model_reg_pred.output)\n",
    "class1 = Dense(1024, activation='relu')(flat1)\n",
    "# define new model\n",
    "model = Model(inputs=model.inputs, outputs=model.outputs)\n",
    "model.load_weights(\"predict_celltype_extra1.h5\")\n",
    "\n",
    "model.compile(optimizer='adam',\n",
    "              loss='categorical_crossentropy',\n",
    "              metrics=['accuracy'])\n",
    "\n",
    "model.summary()"
   ]
  },
  {
   "cell_type": "code",
   "execution_count": 18,
   "id": "410f4b24",
   "metadata": {},
   "outputs": [
    {
     "name": "stdout",
     "output_type": "stream",
     "text": [
      "10384/10384 [==============================] - 22s 2ms/step - loss: 2.7947 - accuracy: 0.2500\n"
     ]
    },
    {
     "data": {
      "text/plain": [
       "[2.7946949005126953, 0.25]"
      ]
     },
     "execution_count": 18,
     "metadata": {},
     "output_type": "execute_result"
    }
   ],
   "source": [
    "model.evaluate(cell_predict_generator)"
   ]
  },
  {
   "cell_type": "code",
   "execution_count": 47,
   "id": "c947472d",
   "metadata": {},
   "outputs": [],
   "source": [
    "FlattenImages = {\n",
    "    'photo_name' : [],\n",
    "    'flattenPhoto' : [],\n",
    "    }"
   ]
  },
  {
   "cell_type": "code",
   "execution_count": 49,
   "id": "58feb4e9",
   "metadata": {},
   "outputs": [],
   "source": [
    "colon_extra['FlattenData'] = None\n",
    "for img in colon_extra['ImageName']:\n",
    "    FlattenImages['photo_name'].append(img)\n",
    "    path = './Image_classification_data/patch_images/' + img\n",
    "    img = cv.imread(path)\n",
    "    img = cv.resize(img, (27, 27))\n",
    "    ## Expanding image dims so this represents 1 sample\n",
    "    img = img = np.expand_dims(img, 0)\n",
    "    img = tf.keras.applications.resnet50.preprocess_input(img)\n",
    "    extractedFeatures = model.predict(img)\n",
    "    extractedFeatures = np.array(extractedFeatures)\n",
    "    FlattenImages['flattenPhoto'].append(extractedFeatures.flatten())"
   ]
  },
  {
   "cell_type": "code",
   "execution_count": 106,
   "id": "350446bd",
   "metadata": {},
   "outputs": [
    {
     "data": {
      "text/plain": [
       "AgglomerativeClustering(n_clusters=4)"
      ]
     },
     "execution_count": 106,
     "metadata": {},
     "output_type": "execute_result"
    }
   ],
   "source": [
    "Training_Feature_vector = np.array(FlattenImages['flattenPhoto'], dtype = 'float64')\n",
    "from sklearn.cluster import AgglomerativeClustering\n",
    "kmeans = AgglomerativeClustering(n_clusters = 4)\n",
    "kmeans.fit(Training_Feature_vector)"
   ]
  },
  {
   "cell_type": "code",
   "execution_count": 57,
   "id": "7dbe9312",
   "metadata": {},
   "outputs": [
    {
     "data": {
      "text/html": [
       "<div>\n",
       "<style scoped>\n",
       "    .dataframe tbody tr th:only-of-type {\n",
       "        vertical-align: middle;\n",
       "    }\n",
       "\n",
       "    .dataframe tbody tr th {\n",
       "        vertical-align: top;\n",
       "    }\n",
       "\n",
       "    .dataframe thead th {\n",
       "        text-align: right;\n",
       "    }\n",
       "</style>\n",
       "<table border=\"1\" class=\"dataframe\">\n",
       "  <thead>\n",
       "    <tr style=\"text-align: right;\">\n",
       "      <th></th>\n",
       "      <th>0</th>\n",
       "      <th>1</th>\n",
       "      <th>2</th>\n",
       "      <th>3</th>\n",
       "    </tr>\n",
       "  </thead>\n",
       "  <tbody>\n",
       "    <tr>\n",
       "      <th>0</th>\n",
       "      <td>0.254837</td>\n",
       "      <td>0.255506</td>\n",
       "      <td>0.252567</td>\n",
       "      <td>0.23709</td>\n",
       "    </tr>\n",
       "    <tr>\n",
       "      <th>1</th>\n",
       "      <td>0.254837</td>\n",
       "      <td>0.255506</td>\n",
       "      <td>0.252567</td>\n",
       "      <td>0.23709</td>\n",
       "    </tr>\n",
       "    <tr>\n",
       "      <th>2</th>\n",
       "      <td>0.254837</td>\n",
       "      <td>0.255506</td>\n",
       "      <td>0.252567</td>\n",
       "      <td>0.23709</td>\n",
       "    </tr>\n",
       "    <tr>\n",
       "      <th>3</th>\n",
       "      <td>0.254837</td>\n",
       "      <td>0.255506</td>\n",
       "      <td>0.252567</td>\n",
       "      <td>0.23709</td>\n",
       "    </tr>\n",
       "    <tr>\n",
       "      <th>4</th>\n",
       "      <td>0.254837</td>\n",
       "      <td>0.255506</td>\n",
       "      <td>0.252567</td>\n",
       "      <td>0.23709</td>\n",
       "    </tr>\n",
       "    <tr>\n",
       "      <th>...</th>\n",
       "      <td>...</td>\n",
       "      <td>...</td>\n",
       "      <td>...</td>\n",
       "      <td>...</td>\n",
       "    </tr>\n",
       "    <tr>\n",
       "      <th>10379</th>\n",
       "      <td>0.254837</td>\n",
       "      <td>0.255506</td>\n",
       "      <td>0.252567</td>\n",
       "      <td>0.23709</td>\n",
       "    </tr>\n",
       "    <tr>\n",
       "      <th>10380</th>\n",
       "      <td>0.254837</td>\n",
       "      <td>0.255506</td>\n",
       "      <td>0.252567</td>\n",
       "      <td>0.23709</td>\n",
       "    </tr>\n",
       "    <tr>\n",
       "      <th>10381</th>\n",
       "      <td>0.254837</td>\n",
       "      <td>0.255506</td>\n",
       "      <td>0.252567</td>\n",
       "      <td>0.23709</td>\n",
       "    </tr>\n",
       "    <tr>\n",
       "      <th>10382</th>\n",
       "      <td>0.254837</td>\n",
       "      <td>0.255506</td>\n",
       "      <td>0.252567</td>\n",
       "      <td>0.23709</td>\n",
       "    </tr>\n",
       "    <tr>\n",
       "      <th>10383</th>\n",
       "      <td>0.254837</td>\n",
       "      <td>0.255506</td>\n",
       "      <td>0.252567</td>\n",
       "      <td>0.23709</td>\n",
       "    </tr>\n",
       "  </tbody>\n",
       "</table>\n",
       "<p>10384 rows × 4 columns</p>\n",
       "</div>"
      ],
      "text/plain": [
       "              0         1         2        3\n",
       "0      0.254837  0.255506  0.252567  0.23709\n",
       "1      0.254837  0.255506  0.252567  0.23709\n",
       "2      0.254837  0.255506  0.252567  0.23709\n",
       "3      0.254837  0.255506  0.252567  0.23709\n",
       "4      0.254837  0.255506  0.252567  0.23709\n",
       "...         ...       ...       ...      ...\n",
       "10379  0.254837  0.255506  0.252567  0.23709\n",
       "10380  0.254837  0.255506  0.252567  0.23709\n",
       "10381  0.254837  0.255506  0.252567  0.23709\n",
       "10382  0.254837  0.255506  0.252567  0.23709\n",
       "10383  0.254837  0.255506  0.252567  0.23709\n",
       "\n",
       "[10384 rows x 4 columns]"
      ]
     },
     "execution_count": 57,
     "metadata": {},
     "output_type": "execute_result"
    }
   ],
   "source": [
    "dimReducedDataFrame = pd.DataFrame(Training_Feature_vector)\n",
    "dimReducedDataFrame"
   ]
  },
  {
   "cell_type": "code",
   "execution_count": 107,
   "id": "97e8c03a",
   "metadata": {},
   "outputs": [],
   "source": [
    "label = kmeans.fit_predict(Training_Feature_vector)"
   ]
  },
  {
   "cell_type": "code",
   "execution_count": 108,
   "id": "984da7f2",
   "metadata": {},
   "outputs": [
    {
     "data": {
      "image/png": "[encoded data removed]",
      "text/plain": [
       "<Figure size 432x288 with 1 Axes>"
      ]
     },
     "metadata": {
      "needs_background": "light"
     },
     "output_type": "display_data"
    }
   ],
   "source": [
    "u_labels = np.unique(label)\n",
    "#plotting the results:\n",
    "for i in u_labels:\n",
    "    plt.scatter(Training_Feature_vector[label == i, 0], Training_Feature_vector[label == i, 1], label = i)\n",
    "plt.legend()\n",
    "plt.show()"
   ]
  }
 ],
 "metadata": {
  "kernelspec": {
   "display_name": "conda_tensorflow_p36",
   "language": "python",
   "name": "conda_tensorflow_p36"
  },
  "language_info": {
   "codemirror_mode": {
    "name": "ipython",
    "version": 3
   },
   "file_extension": ".py",
   "mimetype": "text/x-python",
   "name": "python",
   "nbconvert_exporter": "python",
   "pygments_lexer": "ipython3",
   "version": "3.6.13"
  }
 },
 "nbformat": 4,
 "nbformat_minor": 5
}
