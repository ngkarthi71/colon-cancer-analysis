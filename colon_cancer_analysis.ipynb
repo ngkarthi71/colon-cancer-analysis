{
 "cells": [
  {
   "cell_type": "code",
   "execution_count": 39,
   "id": "5f901500",
   "metadata": {},
   "outputs": [],
   "source": [
    "import numpy as np\n",
    "import pandas as pd\n",
    "import matplotlib.pyplot as plt\n",
    "import os\n",
    "\n",
    "import IPython.display as display\n",
    "from PIL import Image\n",
    "\n",
    "from sklearn.model_selection import train_test_split\n"
   ]
  },
  {
   "cell_type": "code",
   "execution_count": 40,
   "id": "fa3944bc",
   "metadata": {},
   "outputs": [
    {
     "name": "stdout",
     "output_type": "stream",
     "text": [
      "2.5.0\n"
     ]
    }
   ],
   "source": [
    "import tensorflow as tf\n",
    "from tensorflow.keras.preprocessing.image import ImageDataGenerator\n",
    "\n",
    "AUTOTUNE = tf.data.experimental.AUTOTUNE\n",
    "\n",
    "print(tf.__version__)"
   ]
  },
  {
   "cell_type": "code",
   "execution_count": 41,
   "id": "b02bf665",
   "metadata": {},
   "outputs": [],
   "source": [
    "colon_main = pd.read_csv(\"./Image_classification_data/data_labels_mainData.csv\")"
   ]
  },
  {
   "cell_type": "code",
   "execution_count": 4,
   "id": "7cf7a69f",
   "metadata": {},
   "outputs": [
    {
     "data": {
      "text/html": [
       "<div>\n",
       "<style scoped>\n",
       "    .dataframe tbody tr th:only-of-type {\n",
       "        vertical-align: middle;\n",
       "    }\n",
       "\n",
       "    .dataframe tbody tr th {\n",
       "        vertical-align: top;\n",
       "    }\n",
       "\n",
       "    .dataframe thead th {\n",
       "        text-align: right;\n",
       "    }\n",
       "</style>\n",
       "<table border=\"1\" class=\"dataframe\">\n",
       "  <thead>\n",
       "    <tr style=\"text-align: right;\">\n",
       "      <th></th>\n",
       "      <th>InstanceID</th>\n",
       "      <th>patientID</th>\n",
       "      <th>ImageName</th>\n",
       "      <th>cellTypeName</th>\n",
       "      <th>cellType</th>\n",
       "      <th>isCancerous</th>\n",
       "    </tr>\n",
       "  </thead>\n",
       "  <tbody>\n",
       "    <tr>\n",
       "      <th>0</th>\n",
       "      <td>22405</td>\n",
       "      <td>1</td>\n",
       "      <td>22405.png</td>\n",
       "      <td>fibroblast</td>\n",
       "      <td>0</td>\n",
       "      <td>0</td>\n",
       "    </tr>\n",
       "    <tr>\n",
       "      <th>1</th>\n",
       "      <td>22406</td>\n",
       "      <td>1</td>\n",
       "      <td>22406.png</td>\n",
       "      <td>fibroblast</td>\n",
       "      <td>0</td>\n",
       "      <td>0</td>\n",
       "    </tr>\n",
       "    <tr>\n",
       "      <th>2</th>\n",
       "      <td>22407</td>\n",
       "      <td>1</td>\n",
       "      <td>22407.png</td>\n",
       "      <td>fibroblast</td>\n",
       "      <td>0</td>\n",
       "      <td>0</td>\n",
       "    </tr>\n",
       "    <tr>\n",
       "      <th>3</th>\n",
       "      <td>22408</td>\n",
       "      <td>1</td>\n",
       "      <td>22408.png</td>\n",
       "      <td>fibroblast</td>\n",
       "      <td>0</td>\n",
       "      <td>0</td>\n",
       "    </tr>\n",
       "    <tr>\n",
       "      <th>4</th>\n",
       "      <td>22409</td>\n",
       "      <td>1</td>\n",
       "      <td>22409.png</td>\n",
       "      <td>fibroblast</td>\n",
       "      <td>0</td>\n",
       "      <td>0</td>\n",
       "    </tr>\n",
       "  </tbody>\n",
       "</table>\n",
       "</div>"
      ],
      "text/plain": [
       "   InstanceID  patientID  ImageName cellTypeName  cellType  isCancerous\n",
       "0       22405          1  22405.png   fibroblast         0            0\n",
       "1       22406          1  22406.png   fibroblast         0            0\n",
       "2       22407          1  22407.png   fibroblast         0            0\n",
       "3       22408          1  22408.png   fibroblast         0            0\n",
       "4       22409          1  22409.png   fibroblast         0            0"
      ]
     },
     "execution_count": 4,
     "metadata": {},
     "output_type": "execute_result"
    }
   ],
   "source": [
    "colon_main.head()"
   ]
  },
  {
   "cell_type": "code",
   "execution_count": 5,
   "id": "1f46efbc",
   "metadata": {},
   "outputs": [
    {
     "data": {
      "text/plain": [
       "InstanceID       int64\n",
       "patientID        int64\n",
       "ImageName       object\n",
       "cellTypeName    object\n",
       "cellType         int64\n",
       "isCancerous      int64\n",
       "dtype: object"
      ]
     },
     "execution_count": 5,
     "metadata": {},
     "output_type": "execute_result"
    }
   ],
   "source": [
    "colon_main.dtypes"
   ]
  },
  {
   "cell_type": "code",
   "execution_count": 6,
   "id": "989edcba",
   "metadata": {},
   "outputs": [
    {
     "data": {
      "text/plain": [
       "InstanceID      0\n",
       "patientID       0\n",
       "ImageName       0\n",
       "cellTypeName    0\n",
       "cellType        0\n",
       "isCancerous     0\n",
       "dtype: int64"
      ]
     },
     "execution_count": 6,
     "metadata": {},
     "output_type": "execute_result"
    }
   ],
   "source": [
    "colon_main.isnull().sum()"
   ]
  },
  {
   "cell_type": "code",
   "execution_count": 7,
   "id": "4337ee39",
   "metadata": {},
   "outputs": [
    {
     "name": "stdout",
     "output_type": "stream",
     "text": [
      "Train data : 5937, \n",
      "Val Data: 1979, \n",
      "Test Data: 1980\n"
     ]
    }
   ],
   "source": [
    "train_data, test_data = train_test_split(colon_main, test_size=0.2, random_state=42)\n",
    "train_data, val_data = train_test_split(train_data, test_size=0.25, random_state=42)\n",
    "\n",
    "print(\"Train data : {}, \\nVal Data: {}, \\nTest Data: {}\".format(train_data.shape[0], val_data.shape[0], test_data.shape[0]))"
   ]
  },
  {
   "cell_type": "code",
   "execution_count": 8,
   "id": "c4569cea",
   "metadata": {},
   "outputs": [
    {
     "data": {
      "text/plain": [
       "0    5817\n",
       "1    4079\n",
       "Name: isCancerous, dtype: int64"
      ]
     },
     "execution_count": 8,
     "metadata": {},
     "output_type": "execute_result"
    }
   ],
   "source": [
    "colon_main.isCancerous.value_counts()"
   ]
  },
  {
   "cell_type": "code",
   "execution_count": null,
   "id": "9f9ba1b3",
   "metadata": {},
   "outputs": [],
   "source": [
    "colon_main.isCancerous.hist()\n",
    "plt.show()"
   ]
  },
  {
   "cell_type": "code",
   "execution_count": null,
   "id": "f87cda13",
   "metadata": {},
   "outputs": [],
   "source": [
    "r_inx = np.random.choice(100, 4)\n",
    "rand_data = colon_main.loc[r_inx,'ImageName']\n",
    "\n",
    "plt.figure(figsize=(16,4))\n",
    "\n",
    "for i, path in enumerate(rand_data):\n",
    "    image_path = \"./Image_classification_data/patch_images/\" + path\n",
    "    im = np.asarray(Image.open(image_path))\n",
    "    plt.subplot(1,4,i+1)\n",
    "    plt.imshow(im,cmap='gray')\n",
    "    plt.axis('off')\n",
    "    \n",
    "plt.show()"
   ]
  },
  {
   "cell_type": "code",
   "execution_count": null,
   "id": "6a761752",
   "metadata": {},
   "outputs": [],
   "source": [
    "INPUT_DIM = (27, 27, 3)\n",
    "HIDDEN_LAYER_DIM = 256\n",
    "OUTPUT_CLASSES = 2"
   ]
  },
  {
   "cell_type": "code",
   "execution_count": null,
   "id": "afa4032c",
   "metadata": {},
   "outputs": [],
   "source": []
  },
  {
   "cell_type": "code",
   "execution_count": null,
   "id": "a29a75be",
   "metadata": {},
   "outputs": [],
   "source": [
    "model = tf.keras.Sequential([\n",
    "    tf.keras.layers.Flatten(input_shape=INPUT_DIM),\n",
    "    tf.keras.layers.Dense(HIDDEN_LAYER_DIM, activation='sigmoid'),\n",
    "    tf.keras.layers.Dense(OUTPUT_CLASSES)\n",
    "])"
   ]
  },
  {
   "cell_type": "code",
   "execution_count": null,
   "id": "5e0291c4",
   "metadata": {},
   "outputs": [],
   "source": [
    "model.summary()"
   ]
  },
  {
   "cell_type": "code",
   "execution_count": null,
   "id": "f20d2ab0",
   "metadata": {},
   "outputs": [],
   "source": [
    "tf.keras.utils.plot_model(model, show_shapes=True)"
   ]
  },
  {
   "cell_type": "code",
   "execution_count": null,
   "id": "ced36817",
   "metadata": {},
   "outputs": [],
   "source": [
    "model.compile(optimizer='SGD',\n",
    "              loss=tf.keras.losses.CategoricalCrossentropy(from_logits=True),\n",
    "              metrics=['categorical_accuracy'])"
   ]
  },
  {
   "cell_type": "code",
   "execution_count": null,
   "id": "9c708c3b",
   "metadata": {},
   "outputs": [],
   "source": [
    "train_data['isCancerous'] = train_data['isCancerous'].astype('str')\n",
    "val_data['isCancerous'] = val_data['isCancerous'].astype('str')"
   ]
  },
  {
   "cell_type": "code",
   "execution_count": null,
   "id": "e3a9f875",
   "metadata": {},
   "outputs": [],
   "source": [
    "train_datagen = ImageDataGenerator(rescale=1./255, data_format='channels_last')\n",
    "val_datagen = ImageDataGenerator(rescale=1./255, data_format='channels_last')\n",
    "\n",
    "batch_size = 27\n",
    "\n",
    "train_generator = train_datagen.flow_from_dataframe(\n",
    "        dataframe=train_data,\n",
    "        directory='./Image_classification_data/patch_images/',\n",
    "        x_col=\"ImageName\",\n",
    "        y_col=\"isCancerous\",\n",
    "        target_size=(27, 27),\n",
    "        batch_size=batch_size,\n",
    "        class_mode='categorical')\n",
    "\n",
    "validation_generator = val_datagen.flow_from_dataframe(\n",
    "        dataframe=val_data,\n",
    "        directory='./Image_classification_data/patch_images/',\n",
    "        x_col=\"ImageName\",\n",
    "        y_col=\"isCancerous\",\n",
    "        target_size=(27, 27),\n",
    "        batch_size=batch_size,\n",
    "        class_mode='categorical')"
   ]
  },
  {
   "cell_type": "code",
   "execution_count": null,
   "id": "29fb5178",
   "metadata": {},
   "outputs": [],
   "source": [
    "history = model.fit_generator(train_generator, validation_data = validation_generator, epochs=150)"
   ]
  },
  {
   "cell_type": "code",
   "execution_count": 22,
   "id": "8e212045",
   "metadata": {},
   "outputs": [],
   "source": [
    "def plot_learning_curve(train_loss, val_loss, train_metric, val_metric, metric_name='Accuracy'):\n",
    "    plt.figure(figsize=(10,5))\n",
    "    \n",
    "    plt.subplot(1,2,1)\n",
    "    plt.plot(train_loss, 'r--')\n",
    "    plt.plot(val_loss, 'b--')\n",
    "    plt.xlabel(\"epochs\")\n",
    "    plt.ylabel(\"Loss\")\n",
    "    plt.legend(['train', 'val'], loc='upper left')\n",
    "\n",
    "    plt.subplot(1,2,2)\n",
    "    plt.plot(train_metric, 'r--')\n",
    "    plt.plot(val_metric, 'b--')\n",
    "    plt.xlabel(\"epochs\")\n",
    "    plt.ylabel(metric_name)\n",
    "    plt.legend(['train', 'val'], loc='upper left')\n",
    "\n",
    "    plt.show()"
   ]
  },
  {
   "cell_type": "code",
   "execution_count": null,
   "id": "6dbf4a50",
   "metadata": {},
   "outputs": [],
   "source": [
    "plot_learning_curve(history.history['loss'], history.history['val_loss'], \n",
    "                    history.history['categorical_accuracy'], history.history['val_categorical_accuracy'], \n",
    "                    metric_name='Accuracy')"
   ]
  },
  {
   "cell_type": "code",
   "execution_count": null,
   "id": "a27a42d6",
   "metadata": {},
   "outputs": [],
   "source": [
    "model.save(\"detect_cancer\")"
   ]
  },
  {
   "cell_type": "code",
   "execution_count": null,
   "id": "0b960bbc",
   "metadata": {},
   "outputs": [],
   "source": [
    "test_data['isCancerous'] = test_data['isCancerous'].astype('str')\n",
    "\n",
    "test_datagen = ImageDataGenerator(rescale=1./255, data_format='channels_last')\n",
    "\n",
    "batch_size = 1\n",
    "\n",
    "test_generator = test_datagen.flow_from_dataframe(\n",
    "        dataframe=test_data,\n",
    "        directory='./Image_classification_data/patch_images/',\n",
    "        x_col=\"ImageName\",\n",
    "        y_col=\"isCancerous\",\n",
    "        target_size=(27, 27),\n",
    "        batch_size=batch_size,\n",
    "        class_mode='categorical')"
   ]
  },
  {
   "cell_type": "code",
   "execution_count": null,
   "id": "5fa8a2b6",
   "metadata": {},
   "outputs": [],
   "source": [
    "model.evaluate(test_generator)"
   ]
  },
  {
   "cell_type": "code",
   "execution_count": null,
   "id": "8c5c725e",
   "metadata": {},
   "outputs": [],
   "source": [
    "label_names = {'cancer' : 0, 'noCancer' : 1}"
   ]
  },
  {
   "cell_type": "code",
   "execution_count": null,
   "id": "1a6365a3",
   "metadata": {},
   "outputs": [],
   "source": [
    "d_inv = {v: k for k, v in label_names.items()}\n",
    "plt.figure(figsize=(16,4))\n",
    "batches = 0\n",
    "for x,y in test_generator:\n",
    "        batches = batches + 1\n",
    "        y_hat = model.predict(x, verbose=0)\n",
    "        x = np.squeeze(x)\n",
    "        if batches < 5:\n",
    "            plt.subplot(1,5,batches)\n",
    "            plt.imshow(x)\n",
    "            plt.title(\"GT-{}, Pred-{}\".format(d_inv[np.argmax(y[0])], d_inv[np.argmax(y_hat[0])] ))\n",
    "            \n",
    "        else:\n",
    "            break\n",
    "        \n",
    "        plt.axis('off')"
   ]
  },
  {
   "cell_type": "code",
   "execution_count": null,
   "id": "1cca45b8",
   "metadata": {},
   "outputs": [],
   "source": []
  },
  {
   "cell_type": "code",
   "execution_count": 28,
   "id": "b02db6d6",
   "metadata": {},
   "outputs": [
    {
     "data": {
      "text/plain": [
       "2    4079\n",
       "1    2543\n",
       "0    1888\n",
       "3    1386\n",
       "Name: cellType, dtype: int64"
      ]
     },
     "execution_count": 28,
     "metadata": {},
     "output_type": "execute_result"
    }
   ],
   "source": [
    "colon_main.cellType.value_counts()"
   ]
  },
  {
   "cell_type": "code",
   "execution_count": 29,
   "id": "2162abcc",
   "metadata": {},
   "outputs": [
    {
     "data": {
      "image/png": "[encoded data removed]",
      "text/plain": [
       "<Figure size 432x288 with 1 Axes>"
      ]
     },
     "metadata": {
      "needs_background": "light"
     },
     "output_type": "display_data"
    }
   ],
   "source": [
    "colon_main.cellType.hist()\n",
    "plt.show()"
   ]
  },
  {
   "cell_type": "code",
   "execution_count": 30,
   "id": "4dc026bb",
   "metadata": {},
   "outputs": [],
   "source": [
    "INPUT_DIM = (27, 27, 3)\n",
    "HIDDEN_LAYER_DIM = 256\n",
    "OUTPUT_CLASSES = 4"
   ]
  },
  {
   "cell_type": "code",
   "execution_count": 31,
   "id": "a155f573",
   "metadata": {},
   "outputs": [],
   "source": [
    "cell_model = tf.keras.Sequential([\n",
    "    tf.keras.layers.Flatten(input_shape=INPUT_DIM),\n",
    "    tf.keras.layers.Dense(HIDDEN_LAYER_DIM, activation='sigmoid'),\n",
    "    tf.keras.layers.Dense(OUTPUT_CLASSES)\n",
    "])"
   ]
  },
  {
   "cell_type": "code",
   "execution_count": 32,
   "id": "e0b6cb99",
   "metadata": {},
   "outputs": [
    {
     "name": "stdout",
     "output_type": "stream",
     "text": [
      "Model: \"sequential_1\"\n",
      "_________________________________________________________________\n",
      "Layer (type)                 Output Shape              Param #   \n",
      "=================================================================\n",
      "flatten_1 (Flatten)          (None, 2187)              0         \n",
      "_________________________________________________________________\n",
      "dense_2 (Dense)              (None, 256)               560128    \n",
      "_________________________________________________________________\n",
      "dense_3 (Dense)              (None, 4)                 1028      \n",
      "=================================================================\n",
      "Total params: 561,156\n",
      "Trainable params: 561,156\n",
      "Non-trainable params: 0\n",
      "_________________________________________________________________\n"
     ]
    }
   ],
   "source": [
    "cell_model.summary()"
   ]
  },
  {
   "cell_type": "code",
   "execution_count": 33,
   "id": "8164a819",
   "metadata": {},
   "outputs": [
    {
     "data": {
      "image/png": "[encoded data removed]",
      "text/plain": [
       "<IPython.core.display.Image object>"
      ]
     },
     "execution_count": 33,
     "metadata": {},
     "output_type": "execute_result"
    }
   ],
   "source": [
    "tf.keras.utils.plot_model(cell_model, show_shapes=True)"
   ]
  },
  {
   "cell_type": "code",
   "execution_count": 34,
   "id": "be8e97dc",
   "metadata": {},
   "outputs": [],
   "source": [
    "cell_model.compile(optimizer='SGD',\n",
    "              loss=tf.keras.losses.CategoricalCrossentropy(from_logits=True),\n",
    "              metrics=['categorical_accuracy'])"
   ]
  },
  {
   "cell_type": "code",
   "execution_count": 35,
   "id": "eb93c10c",
   "metadata": {},
   "outputs": [
    {
     "name": "stdout",
     "output_type": "stream",
     "text": [
      "Found 5937 validated image filenames belonging to 4 classes.\n",
      "Found 1979 validated image filenames belonging to 4 classes.\n"
     ]
    }
   ],
   "source": [
    "train_data['cellType'] = train_data['cellType'].astype('str')\n",
    "val_data['cellType'] = val_data['cellType'].astype('str')\n",
    "\n",
    "cell_train_datagen = ImageDataGenerator(rescale=1./255, data_format='channels_last')\n",
    "cell_val_datagen = ImageDataGenerator(rescale=1./255, data_format='channels_last')\n",
    "\n",
    "batch_size = 27\n",
    "\n",
    "cell_train_generator = cell_train_datagen.flow_from_dataframe(\n",
    "        dataframe=train_data,\n",
    "        directory='./Image_classification_data/patch_images/',\n",
    "        x_col=\"ImageName\",\n",
    "        y_col=\"cellType\",\n",
    "        target_size=(27, 27),\n",
    "        batch_size=batch_size,\n",
    "        class_mode='categorical')\n",
    "\n",
    "cell_validation_generator = cell_val_datagen.flow_from_dataframe(\n",
    "        dataframe=val_data,\n",
    "        directory='./Image_classification_data/patch_images/',\n",
    "        x_col=\"ImageName\",\n",
    "        y_col=\"cellType\",\n",
    "        target_size=(27, 27),\n",
    "        batch_size=batch_size,\n",
    "        class_mode='categorical')"
   ]
  },
  {
   "cell_type": "code",
   "execution_count": 36,
   "id": "a49d3ce8",
   "metadata": {
    "collapsed": true,
    "jupyter": {
     "outputs_hidden": true
    }
   },
   "outputs": [
    {
     "name": "stderr",
     "output_type": "stream",
     "text": [
      "/home/ec2-user/anaconda3/envs/tensorflow_p36/lib/python3.6/site-packages/tensorflow/python/keras/engine/training.py:1940: UserWarning: `Model.fit_generator` is deprecated and will be removed in a future version. Please use `Model.fit`, which supports generators.\n",
      "  warnings.warn('`Model.fit_generator` is deprecated and '\n"
     ]
    },
    {
     "name": "stdout",
     "output_type": "stream",
     "text": [
      "Epoch 1/150\n",
      "220/220 [==============================] - 4s 16ms/step - loss: 1.2527 - categorical_accuracy: 0.4635 - val_loss: 1.1939 - val_categorical_accuracy: 0.4805\n",
      "Epoch 2/150\n",
      "220/220 [==============================] - 3s 15ms/step - loss: 1.1614 - categorical_accuracy: 0.5215 - val_loss: 1.1246 - val_categorical_accuracy: 0.5629\n",
      "Epoch 3/150\n",
      "220/220 [==============================] - 3s 15ms/step - loss: 1.0886 - categorical_accuracy: 0.5604 - val_loss: 1.0549 - val_categorical_accuracy: 0.5760\n",
      "Epoch 4/150\n",
      "220/220 [==============================] - 3s 15ms/step - loss: 1.0334 - categorical_accuracy: 0.5868 - val_loss: 1.0383 - val_categorical_accuracy: 0.5503\n",
      "Epoch 5/150\n",
      "220/220 [==============================] - 3s 15ms/step - loss: 0.9836 - categorical_accuracy: 0.6185 - val_loss: 0.9743 - val_categorical_accuracy: 0.6726\n",
      "Epoch 6/150\n",
      "220/220 [==============================] - 4s 16ms/step - loss: 0.9483 - categorical_accuracy: 0.6363 - val_loss: 0.9245 - val_categorical_accuracy: 0.6837\n",
      "Epoch 7/150\n",
      "220/220 [==============================] - 3s 15ms/step - loss: 0.9182 - categorical_accuracy: 0.6495 - val_loss: 0.9027 - val_categorical_accuracy: 0.6897\n",
      "Epoch 8/150\n",
      "220/220 [==============================] - 4s 17ms/step - loss: 0.8894 - categorical_accuracy: 0.6620 - val_loss: 0.9303 - val_categorical_accuracy: 0.6064\n",
      "Epoch 9/150\n",
      "220/220 [==============================] - 3s 15ms/step - loss: 0.8707 - categorical_accuracy: 0.6685 - val_loss: 0.8649 - val_categorical_accuracy: 0.6539\n",
      "Epoch 10/150\n",
      "220/220 [==============================] - 3s 15ms/step - loss: 0.8580 - categorical_accuracy: 0.6739 - val_loss: 0.8383 - val_categorical_accuracy: 0.6948\n",
      "Epoch 11/150\n",
      "220/220 [==============================] - 3s 15ms/step - loss: 0.8412 - categorical_accuracy: 0.6817 - val_loss: 0.8582 - val_categorical_accuracy: 0.6463\n",
      "Epoch 12/150\n",
      "220/220 [==============================] - 3s 15ms/step - loss: 0.8349 - categorical_accuracy: 0.6786 - val_loss: 0.8168 - val_categorical_accuracy: 0.6832\n",
      "Epoch 13/150\n",
      "220/220 [==============================] - 3s 15ms/step - loss: 0.8198 - categorical_accuracy: 0.6919 - val_loss: 0.8103 - val_categorical_accuracy: 0.6791\n",
      "Epoch 14/150\n",
      "220/220 [==============================] - 3s 16ms/step - loss: 0.8144 - categorical_accuracy: 0.6874 - val_loss: 0.8014 - val_categorical_accuracy: 0.6963\n",
      "Epoch 15/150\n",
      "220/220 [==============================] - 3s 15ms/step - loss: 0.8102 - categorical_accuracy: 0.6897 - val_loss: 0.7940 - val_categorical_accuracy: 0.6963\n",
      "Epoch 16/150\n",
      "220/220 [==============================] - 3s 16ms/step - loss: 0.8031 - categorical_accuracy: 0.6928 - val_loss: 0.8060 - val_categorical_accuracy: 0.6842\n",
      "Epoch 17/150\n",
      "220/220 [==============================] - 3s 15ms/step - loss: 0.7979 - categorical_accuracy: 0.6953 - val_loss: 0.8272 - val_categorical_accuracy: 0.6705\n",
      "Epoch 18/150\n",
      "220/220 [==============================] - 3s 15ms/step - loss: 0.7927 - categorical_accuracy: 0.6968 - val_loss: 0.8306 - val_categorical_accuracy: 0.6700\n",
      "Epoch 19/150\n",
      "220/220 [==============================] - 3s 15ms/step - loss: 0.7907 - categorical_accuracy: 0.6899 - val_loss: 0.7897 - val_categorical_accuracy: 0.7059\n",
      "Epoch 20/150\n",
      "220/220 [==============================] - 3s 15ms/step - loss: 0.7916 - categorical_accuracy: 0.6975 - val_loss: 0.7814 - val_categorical_accuracy: 0.6902\n",
      "Epoch 21/150\n",
      "220/220 [==============================] - 3s 16ms/step - loss: 0.7817 - categorical_accuracy: 0.7032 - val_loss: 0.8066 - val_categorical_accuracy: 0.6882\n",
      "Epoch 22/150\n",
      "220/220 [==============================] - 3s 15ms/step - loss: 0.7882 - categorical_accuracy: 0.6973 - val_loss: 0.7781 - val_categorical_accuracy: 0.6918\n",
      "Epoch 23/150\n",
      "220/220 [==============================] - 3s 15ms/step - loss: 0.7806 - categorical_accuracy: 0.6970 - val_loss: 0.7751 - val_categorical_accuracy: 0.7034\n",
      "Epoch 24/150\n",
      "220/220 [==============================] - 3s 15ms/step - loss: 0.7804 - categorical_accuracy: 0.7005 - val_loss: 0.7692 - val_categorical_accuracy: 0.7014\n",
      "Epoch 25/150\n",
      "220/220 [==============================] - 3s 15ms/step - loss: 0.7740 - categorical_accuracy: 0.7015 - val_loss: 0.7785 - val_categorical_accuracy: 0.7004\n",
      "Epoch 26/150\n",
      "220/220 [==============================] - 3s 15ms/step - loss: 0.7775 - categorical_accuracy: 0.6987 - val_loss: 0.8060 - val_categorical_accuracy: 0.6796\n",
      "Epoch 27/150\n",
      "220/220 [==============================] - 3s 15ms/step - loss: 0.7710 - categorical_accuracy: 0.7032 - val_loss: 0.7726 - val_categorical_accuracy: 0.6973\n",
      "Epoch 28/150\n",
      "220/220 [==============================] - 3s 15ms/step - loss: 0.7697 - categorical_accuracy: 0.7039 - val_loss: 0.7635 - val_categorical_accuracy: 0.7024\n",
      "Epoch 29/150\n",
      "220/220 [==============================] - 3s 16ms/step - loss: 0.7686 - categorical_accuracy: 0.7030 - val_loss: 0.7872 - val_categorical_accuracy: 0.6918\n",
      "Epoch 30/150\n",
      "220/220 [==============================] - 3s 15ms/step - loss: 0.7696 - categorical_accuracy: 0.7012 - val_loss: 0.7690 - val_categorical_accuracy: 0.6958\n",
      "Epoch 31/150\n",
      "220/220 [==============================] - 3s 15ms/step - loss: 0.7641 - categorical_accuracy: 0.7036 - val_loss: 0.7656 - val_categorical_accuracy: 0.7014\n",
      "Epoch 32/150\n",
      "220/220 [==============================] - 3s 15ms/step - loss: 0.7663 - categorical_accuracy: 0.7007 - val_loss: 0.7662 - val_categorical_accuracy: 0.7084\n",
      "Epoch 33/150\n",
      "220/220 [==============================] - 3s 15ms/step - loss: 0.7709 - categorical_accuracy: 0.6997 - val_loss: 0.8028 - val_categorical_accuracy: 0.6751\n",
      "Epoch 34/150\n",
      "220/220 [==============================] - 3s 15ms/step - loss: 0.7653 - categorical_accuracy: 0.7010 - val_loss: 0.7823 - val_categorical_accuracy: 0.6867\n",
      "Epoch 35/150\n",
      "220/220 [==============================] - 3s 15ms/step - loss: 0.7603 - categorical_accuracy: 0.7034 - val_loss: 0.8335 - val_categorical_accuracy: 0.6695\n",
      "Epoch 36/150\n",
      "220/220 [==============================] - 3s 16ms/step - loss: 0.7619 - categorical_accuracy: 0.7057 - val_loss: 0.7701 - val_categorical_accuracy: 0.7064\n",
      "Epoch 37/150\n",
      "220/220 [==============================] - 3s 15ms/step - loss: 0.7581 - categorical_accuracy: 0.7064 - val_loss: 0.7619 - val_categorical_accuracy: 0.7014\n",
      "Epoch 38/150\n",
      "220/220 [==============================] - 3s 15ms/step - loss: 0.7586 - categorical_accuracy: 0.7086 - val_loss: 0.7877 - val_categorical_accuracy: 0.6948\n",
      "Epoch 39/150\n",
      "220/220 [==============================] - 3s 15ms/step - loss: 0.7547 - categorical_accuracy: 0.7111 - val_loss: 0.7698 - val_categorical_accuracy: 0.6973\n",
      "Epoch 40/150\n",
      "220/220 [==============================] - 3s 15ms/step - loss: 0.7586 - categorical_accuracy: 0.7069 - val_loss: 0.7561 - val_categorical_accuracy: 0.7044\n",
      "Epoch 41/150\n",
      "220/220 [==============================] - 3s 16ms/step - loss: 0.7566 - categorical_accuracy: 0.7088 - val_loss: 0.7730 - val_categorical_accuracy: 0.6963\n",
      "Epoch 42/150\n",
      "220/220 [==============================] - 3s 15ms/step - loss: 0.7547 - categorical_accuracy: 0.7069 - val_loss: 0.7568 - val_categorical_accuracy: 0.7064\n",
      "Epoch 43/150\n",
      "220/220 [==============================] - 3s 15ms/step - loss: 0.7562 - categorical_accuracy: 0.7078 - val_loss: 0.7850 - val_categorical_accuracy: 0.6832\n",
      "Epoch 44/150\n",
      "220/220 [==============================] - 3s 15ms/step - loss: 0.7519 - categorical_accuracy: 0.7037 - val_loss: 0.7798 - val_categorical_accuracy: 0.7044\n",
      "Epoch 45/150\n",
      "220/220 [==============================] - 3s 15ms/step - loss: 0.7512 - categorical_accuracy: 0.7083 - val_loss: 0.7814 - val_categorical_accuracy: 0.6847\n",
      "Epoch 46/150\n",
      "220/220 [==============================] - 3s 15ms/step - loss: 0.7500 - categorical_accuracy: 0.7071 - val_loss: 0.7601 - val_categorical_accuracy: 0.7049\n",
      "Epoch 47/150\n",
      "220/220 [==============================] - 3s 15ms/step - loss: 0.7495 - categorical_accuracy: 0.7079 - val_loss: 0.7946 - val_categorical_accuracy: 0.6771\n",
      "Epoch 48/150\n",
      "220/220 [==============================] - 3s 15ms/step - loss: 0.7521 - categorical_accuracy: 0.7089 - val_loss: 0.7625 - val_categorical_accuracy: 0.7084\n",
      "Epoch 49/150\n",
      "220/220 [==============================] - 3s 15ms/step - loss: 0.7472 - categorical_accuracy: 0.7113 - val_loss: 0.7835 - val_categorical_accuracy: 0.6827\n",
      "Epoch 50/150\n",
      "220/220 [==============================] - 3s 15ms/step - loss: 0.7495 - categorical_accuracy: 0.7113 - val_loss: 0.7585 - val_categorical_accuracy: 0.7064\n",
      "Epoch 51/150\n",
      "220/220 [==============================] - 3s 16ms/step - loss: 0.7452 - categorical_accuracy: 0.7081 - val_loss: 0.8070 - val_categorical_accuracy: 0.6655\n",
      "Epoch 52/150\n",
      "220/220 [==============================] - 3s 15ms/step - loss: 0.7460 - categorical_accuracy: 0.7152 - val_loss: 0.7645 - val_categorical_accuracy: 0.6938\n",
      "Epoch 53/150\n",
      "220/220 [==============================] - 3s 15ms/step - loss: 0.7451 - categorical_accuracy: 0.7132 - val_loss: 0.8729 - val_categorical_accuracy: 0.6705\n",
      "Epoch 54/150\n",
      "220/220 [==============================] - 3s 15ms/step - loss: 0.7460 - categorical_accuracy: 0.7101 - val_loss: 0.7697 - val_categorical_accuracy: 0.6993\n",
      "Epoch 55/150\n",
      "220/220 [==============================] - 3s 15ms/step - loss: 0.7452 - categorical_accuracy: 0.7061 - val_loss: 0.7996 - val_categorical_accuracy: 0.6726\n",
      "Epoch 56/150\n",
      "220/220 [==============================] - 3s 16ms/step - loss: 0.7450 - categorical_accuracy: 0.7105 - val_loss: 0.7903 - val_categorical_accuracy: 0.6812\n",
      "Epoch 57/150\n",
      "220/220 [==============================] - 3s 16ms/step - loss: 0.7446 - categorical_accuracy: 0.7130 - val_loss: 0.8098 - val_categorical_accuracy: 0.6882\n",
      "Epoch 58/150\n",
      "220/220 [==============================] - 4s 17ms/step - loss: 0.7385 - categorical_accuracy: 0.7155 - val_loss: 0.7758 - val_categorical_accuracy: 0.7079\n",
      "Epoch 59/150\n",
      "220/220 [==============================] - 3s 15ms/step - loss: 0.7392 - categorical_accuracy: 0.7162 - val_loss: 0.7836 - val_categorical_accuracy: 0.7094\n",
      "Epoch 60/150\n",
      "220/220 [==============================] - 3s 15ms/step - loss: 0.7424 - categorical_accuracy: 0.7098 - val_loss: 0.7545 - val_categorical_accuracy: 0.7034\n",
      "Epoch 61/150\n",
      "220/220 [==============================] - 4s 19ms/step - loss: 0.7411 - categorical_accuracy: 0.7145 - val_loss: 0.7833 - val_categorical_accuracy: 0.6842\n",
      "Epoch 62/150\n",
      "220/220 [==============================] - 5s 23ms/step - loss: 0.7385 - categorical_accuracy: 0.7162 - val_loss: 0.7666 - val_categorical_accuracy: 0.7019\n",
      "Epoch 63/150\n",
      "220/220 [==============================] - 5s 24ms/step - loss: 0.7391 - categorical_accuracy: 0.7160 - val_loss: 0.7687 - val_categorical_accuracy: 0.6867\n",
      "Epoch 64/150\n",
      "220/220 [==============================] - 5s 24ms/step - loss: 0.7381 - categorical_accuracy: 0.7142 - val_loss: 0.8342 - val_categorical_accuracy: 0.6599\n",
      "Epoch 65/150\n",
      "220/220 [==============================] - 6s 27ms/step - loss: 0.7374 - categorical_accuracy: 0.7157 - val_loss: 0.7730 - val_categorical_accuracy: 0.6918\n",
      "Epoch 66/150\n",
      "220/220 [==============================] - 6s 25ms/step - loss: 0.7382 - categorical_accuracy: 0.7130 - val_loss: 0.7834 - val_categorical_accuracy: 0.7059\n",
      "Epoch 67/150\n",
      "220/220 [==============================] - 3s 15ms/step - loss: 0.7361 - categorical_accuracy: 0.7150 - val_loss: 0.8045 - val_categorical_accuracy: 0.6822\n",
      "Epoch 68/150\n",
      "220/220 [==============================] - 4s 16ms/step - loss: 0.7358 - categorical_accuracy: 0.7148 - val_loss: 0.7686 - val_categorical_accuracy: 0.6852\n",
      "Epoch 69/150\n",
      "220/220 [==============================] - 3s 16ms/step - loss: 0.7353 - categorical_accuracy: 0.7152 - val_loss: 0.7771 - val_categorical_accuracy: 0.7034\n",
      "Epoch 70/150\n",
      "220/220 [==============================] - 3s 16ms/step - loss: 0.7357 - categorical_accuracy: 0.7187 - val_loss: 0.7649 - val_categorical_accuracy: 0.6983\n",
      "Epoch 71/150\n",
      "220/220 [==============================] - 3s 16ms/step - loss: 0.7326 - categorical_accuracy: 0.7164 - val_loss: 0.7890 - val_categorical_accuracy: 0.6842\n",
      "Epoch 72/150\n",
      "220/220 [==============================] - 3s 15ms/step - loss: 0.7342 - categorical_accuracy: 0.7175 - val_loss: 0.8431 - val_categorical_accuracy: 0.6549\n",
      "Epoch 73/150\n",
      "220/220 [==============================] - 3s 15ms/step - loss: 0.7283 - categorical_accuracy: 0.7201 - val_loss: 0.7546 - val_categorical_accuracy: 0.7130\n",
      "Epoch 74/150\n",
      "220/220 [==============================] - 4s 16ms/step - loss: 0.7288 - categorical_accuracy: 0.7125 - val_loss: 0.7548 - val_categorical_accuracy: 0.7130\n",
      "Epoch 75/150\n",
      "220/220 [==============================] - 3s 16ms/step - loss: 0.7330 - categorical_accuracy: 0.7164 - val_loss: 0.7640 - val_categorical_accuracy: 0.6978\n",
      "Epoch 76/150\n",
      "220/220 [==============================] - 3s 15ms/step - loss: 0.7301 - categorical_accuracy: 0.7167 - val_loss: 0.7579 - val_categorical_accuracy: 0.7185\n",
      "Epoch 77/150\n",
      "220/220 [==============================] - 4s 16ms/step - loss: 0.7283 - categorical_accuracy: 0.7196 - val_loss: 0.7503 - val_categorical_accuracy: 0.7089\n",
      "Epoch 78/150\n",
      "220/220 [==============================] - 3s 16ms/step - loss: 0.7286 - categorical_accuracy: 0.7148 - val_loss: 0.7551 - val_categorical_accuracy: 0.7054\n",
      "Epoch 79/150\n",
      "220/220 [==============================] - 3s 15ms/step - loss: 0.7304 - categorical_accuracy: 0.7229 - val_loss: 0.7503 - val_categorical_accuracy: 0.7014\n",
      "Epoch 80/150\n",
      "220/220 [==============================] - 4s 16ms/step - loss: 0.7248 - categorical_accuracy: 0.7201 - val_loss: 0.8158 - val_categorical_accuracy: 0.6913\n",
      "Epoch 81/150\n",
      "220/220 [==============================] - 3s 16ms/step - loss: 0.7308 - categorical_accuracy: 0.7179 - val_loss: 0.7502 - val_categorical_accuracy: 0.7089\n",
      "Epoch 82/150\n",
      "220/220 [==============================] - 3s 15ms/step - loss: 0.7284 - categorical_accuracy: 0.7231 - val_loss: 0.7615 - val_categorical_accuracy: 0.6993\n",
      "Epoch 83/150\n",
      "220/220 [==============================] - 3s 16ms/step - loss: 0.7251 - categorical_accuracy: 0.7214 - val_loss: 0.7932 - val_categorical_accuracy: 0.6806\n",
      "Epoch 84/150\n",
      "220/220 [==============================] - 3s 15ms/step - loss: 0.7232 - categorical_accuracy: 0.7185 - val_loss: 0.7896 - val_categorical_accuracy: 0.7019\n",
      "Epoch 85/150\n",
      "220/220 [==============================] - 3s 15ms/step - loss: 0.7247 - categorical_accuracy: 0.7209 - val_loss: 0.7519 - val_categorical_accuracy: 0.7069\n",
      "Epoch 86/150\n",
      "220/220 [==============================] - 3s 15ms/step - loss: 0.7253 - categorical_accuracy: 0.7162 - val_loss: 0.7891 - val_categorical_accuracy: 0.7014\n",
      "Epoch 87/150\n",
      "220/220 [==============================] - 3s 15ms/step - loss: 0.7265 - categorical_accuracy: 0.7224 - val_loss: 0.7672 - val_categorical_accuracy: 0.7049\n",
      "Epoch 88/150\n",
      "220/220 [==============================] - 3s 15ms/step - loss: 0.7255 - categorical_accuracy: 0.7192 - val_loss: 0.7606 - val_categorical_accuracy: 0.7105\n",
      "Epoch 89/150\n",
      "220/220 [==============================] - 3s 15ms/step - loss: 0.7247 - categorical_accuracy: 0.7219 - val_loss: 0.7814 - val_categorical_accuracy: 0.6827\n",
      "Epoch 90/150\n",
      "220/220 [==============================] - 3s 15ms/step - loss: 0.7208 - categorical_accuracy: 0.7216 - val_loss: 0.7626 - val_categorical_accuracy: 0.6998\n",
      "Epoch 91/150\n",
      "220/220 [==============================] - 3s 15ms/step - loss: 0.7194 - categorical_accuracy: 0.7226 - val_loss: 0.7473 - val_categorical_accuracy: 0.7100\n",
      "Epoch 92/150\n",
      "220/220 [==============================] - 3s 15ms/step - loss: 0.7168 - categorical_accuracy: 0.7251 - val_loss: 0.7600 - val_categorical_accuracy: 0.7014\n",
      "Epoch 93/150\n",
      "220/220 [==============================] - 3s 15ms/step - loss: 0.7219 - categorical_accuracy: 0.7191 - val_loss: 0.7589 - val_categorical_accuracy: 0.7130\n",
      "Epoch 94/150\n",
      "220/220 [==============================] - 3s 16ms/step - loss: 0.7188 - categorical_accuracy: 0.7216 - val_loss: 0.7740 - val_categorical_accuracy: 0.6938\n",
      "Epoch 95/150\n",
      "220/220 [==============================] - 3s 15ms/step - loss: 0.7173 - categorical_accuracy: 0.7249 - val_loss: 0.7501 - val_categorical_accuracy: 0.7105\n",
      "Epoch 96/150\n",
      "220/220 [==============================] - 3s 15ms/step - loss: 0.7174 - categorical_accuracy: 0.7233 - val_loss: 0.7648 - val_categorical_accuracy: 0.7019\n",
      "Epoch 97/150\n",
      "220/220 [==============================] - 3s 15ms/step - loss: 0.7186 - categorical_accuracy: 0.7221 - val_loss: 0.7862 - val_categorical_accuracy: 0.6887\n",
      "Epoch 98/150\n",
      "220/220 [==============================] - 3s 15ms/step - loss: 0.7160 - categorical_accuracy: 0.7228 - val_loss: 0.7494 - val_categorical_accuracy: 0.7120\n",
      "Epoch 99/150\n",
      "220/220 [==============================] - 3s 15ms/step - loss: 0.7156 - categorical_accuracy: 0.7177 - val_loss: 0.7503 - val_categorical_accuracy: 0.7084\n",
      "Epoch 100/150\n",
      "220/220 [==============================] - 3s 15ms/step - loss: 0.7134 - categorical_accuracy: 0.7228 - val_loss: 0.7792 - val_categorical_accuracy: 0.7004\n",
      "Epoch 101/150\n",
      "220/220 [==============================] - 4s 16ms/step - loss: 0.7136 - categorical_accuracy: 0.7226 - val_loss: 0.7497 - val_categorical_accuracy: 0.7165\n",
      "Epoch 102/150\n",
      "220/220 [==============================] - 4s 16ms/step - loss: 0.7117 - categorical_accuracy: 0.7271 - val_loss: 0.7576 - val_categorical_accuracy: 0.7059\n",
      "Epoch 103/150\n",
      "220/220 [==============================] - 4s 16ms/step - loss: 0.7130 - categorical_accuracy: 0.7214 - val_loss: 0.7493 - val_categorical_accuracy: 0.7130\n",
      "Epoch 104/150\n",
      "220/220 [==============================] - 3s 15ms/step - loss: 0.7149 - categorical_accuracy: 0.7233 - val_loss: 0.7607 - val_categorical_accuracy: 0.6983\n",
      "Epoch 105/150\n",
      "220/220 [==============================] - 3s 16ms/step - loss: 0.7147 - categorical_accuracy: 0.7238 - val_loss: 0.7599 - val_categorical_accuracy: 0.6998\n",
      "Epoch 106/150\n",
      "220/220 [==============================] - 3s 15ms/step - loss: 0.7140 - categorical_accuracy: 0.7224 - val_loss: 0.7978 - val_categorical_accuracy: 0.7029\n",
      "Epoch 107/150\n",
      "220/220 [==============================] - 3s 15ms/step - loss: 0.7126 - categorical_accuracy: 0.7212 - val_loss: 0.7455 - val_categorical_accuracy: 0.7170\n",
      "Epoch 108/150\n",
      "220/220 [==============================] - 3s 15ms/step - loss: 0.7108 - categorical_accuracy: 0.7228 - val_loss: 0.7468 - val_categorical_accuracy: 0.7140\n",
      "Epoch 109/150\n",
      "220/220 [==============================] - 3s 15ms/step - loss: 0.7072 - categorical_accuracy: 0.7246 - val_loss: 0.7663 - val_categorical_accuracy: 0.7079\n",
      "Epoch 110/150\n",
      "220/220 [==============================] - 3s 15ms/step - loss: 0.7109 - categorical_accuracy: 0.7268 - val_loss: 0.7453 - val_categorical_accuracy: 0.7170\n",
      "Epoch 111/150\n",
      "220/220 [==============================] - 3s 15ms/step - loss: 0.7083 - categorical_accuracy: 0.7241 - val_loss: 0.7545 - val_categorical_accuracy: 0.7039\n",
      "Epoch 112/150\n",
      "220/220 [==============================] - 3s 16ms/step - loss: 0.7115 - categorical_accuracy: 0.7219 - val_loss: 0.7965 - val_categorical_accuracy: 0.6983\n",
      "Epoch 113/150\n",
      "220/220 [==============================] - 3s 15ms/step - loss: 0.7102 - categorical_accuracy: 0.7239 - val_loss: 0.7702 - val_categorical_accuracy: 0.6847\n",
      "Epoch 114/150\n",
      "220/220 [==============================] - 4s 17ms/step - loss: 0.7094 - categorical_accuracy: 0.7265 - val_loss: 0.7642 - val_categorical_accuracy: 0.6968\n",
      "Epoch 115/150\n",
      "220/220 [==============================] - 3s 16ms/step - loss: 0.7094 - categorical_accuracy: 0.7268 - val_loss: 0.7503 - val_categorical_accuracy: 0.7150\n",
      "Epoch 116/150\n",
      "220/220 [==============================] - 3s 15ms/step - loss: 0.7066 - categorical_accuracy: 0.7308 - val_loss: 0.7597 - val_categorical_accuracy: 0.7105\n",
      "Epoch 117/150\n",
      "220/220 [==============================] - 3s 16ms/step - loss: 0.7039 - categorical_accuracy: 0.7313 - val_loss: 0.7664 - val_categorical_accuracy: 0.6958\n",
      "Epoch 118/150\n",
      "220/220 [==============================] - 3s 15ms/step - loss: 0.7047 - categorical_accuracy: 0.7268 - val_loss: 0.7470 - val_categorical_accuracy: 0.7120\n",
      "Epoch 119/150\n",
      "220/220 [==============================] - 3s 16ms/step - loss: 0.7040 - categorical_accuracy: 0.7298 - val_loss: 0.7764 - val_categorical_accuracy: 0.7094\n",
      "Epoch 120/150\n",
      "220/220 [==============================] - 4s 17ms/step - loss: 0.7048 - categorical_accuracy: 0.7283 - val_loss: 0.7584 - val_categorical_accuracy: 0.7074\n",
      "Epoch 121/150\n",
      "220/220 [==============================] - 3s 16ms/step - loss: 0.7066 - categorical_accuracy: 0.7263 - val_loss: 0.7610 - val_categorical_accuracy: 0.6983\n",
      "Epoch 122/150\n",
      "220/220 [==============================] - 3s 16ms/step - loss: 0.7024 - categorical_accuracy: 0.7287 - val_loss: 0.7503 - val_categorical_accuracy: 0.7155\n",
      "Epoch 123/150\n",
      "220/220 [==============================] - 3s 15ms/step - loss: 0.7056 - categorical_accuracy: 0.7288 - val_loss: 0.7526 - val_categorical_accuracy: 0.7135\n",
      "Epoch 124/150\n",
      "220/220 [==============================] - 4s 16ms/step - loss: 0.7017 - categorical_accuracy: 0.7310 - val_loss: 0.8013 - val_categorical_accuracy: 0.6943\n",
      "Epoch 125/150\n",
      "220/220 [==============================] - 4s 16ms/step - loss: 0.7029 - categorical_accuracy: 0.7303 - val_loss: 0.7705 - val_categorical_accuracy: 0.7089\n",
      "Epoch 126/150\n",
      "220/220 [==============================] - 3s 16ms/step - loss: 0.6997 - categorical_accuracy: 0.7319 - val_loss: 0.7572 - val_categorical_accuracy: 0.7130\n",
      "Epoch 127/150\n",
      "220/220 [==============================] - 4s 17ms/step - loss: 0.7018 - categorical_accuracy: 0.7261 - val_loss: 0.7658 - val_categorical_accuracy: 0.7049\n",
      "Epoch 128/150\n",
      "220/220 [==============================] - 3s 16ms/step - loss: 0.7032 - categorical_accuracy: 0.7285 - val_loss: 0.7486 - val_categorical_accuracy: 0.7105\n",
      "Epoch 129/150\n",
      "220/220 [==============================] - 3s 16ms/step - loss: 0.6971 - categorical_accuracy: 0.7297 - val_loss: 0.7893 - val_categorical_accuracy: 0.6877\n",
      "Epoch 130/150\n",
      "220/220 [==============================] - 4s 16ms/step - loss: 0.6996 - categorical_accuracy: 0.7281 - val_loss: 0.7518 - val_categorical_accuracy: 0.7120\n",
      "Epoch 131/150\n",
      "220/220 [==============================] - 4s 18ms/step - loss: 0.6988 - categorical_accuracy: 0.7271 - val_loss: 0.7739 - val_categorical_accuracy: 0.6812\n",
      "Epoch 132/150\n",
      "220/220 [==============================] - 3s 16ms/step - loss: 0.7018 - categorical_accuracy: 0.7283 - val_loss: 0.7507 - val_categorical_accuracy: 0.7115\n",
      "Epoch 133/150\n",
      "220/220 [==============================] - 3s 16ms/step - loss: 0.7015 - categorical_accuracy: 0.7298 - val_loss: 0.7509 - val_categorical_accuracy: 0.7089\n",
      "Epoch 134/150\n",
      "220/220 [==============================] - 3s 16ms/step - loss: 0.6992 - categorical_accuracy: 0.7305 - val_loss: 0.7693 - val_categorical_accuracy: 0.7069\n",
      "Epoch 135/150\n",
      "220/220 [==============================] - 3s 16ms/step - loss: 0.6975 - categorical_accuracy: 0.7280 - val_loss: 0.7637 - val_categorical_accuracy: 0.7034\n",
      "Epoch 136/150\n",
      "220/220 [==============================] - 4s 19ms/step - loss: 0.6936 - categorical_accuracy: 0.7288 - val_loss: 0.7504 - val_categorical_accuracy: 0.7084\n",
      "Epoch 137/150\n",
      "220/220 [==============================] - 6s 25ms/step - loss: 0.6929 - categorical_accuracy: 0.7340 - val_loss: 0.7462 - val_categorical_accuracy: 0.7115\n",
      "Epoch 138/150\n",
      "220/220 [==============================] - 8s 34ms/step - loss: 0.6927 - categorical_accuracy: 0.7322 - val_loss: 0.7574 - val_categorical_accuracy: 0.7089\n",
      "Epoch 139/150\n",
      "220/220 [==============================] - 7s 33ms/step - loss: 0.6964 - categorical_accuracy: 0.7319 - val_loss: 0.7929 - val_categorical_accuracy: 0.7059\n",
      "Epoch 140/150\n",
      "220/220 [==============================] - 7s 31ms/step - loss: 0.6949 - categorical_accuracy: 0.7320 - val_loss: 0.7603 - val_categorical_accuracy: 0.7130\n",
      "Epoch 141/150\n",
      "220/220 [==============================] - 6s 25ms/step - loss: 0.6980 - categorical_accuracy: 0.7337 - val_loss: 0.7514 - val_categorical_accuracy: 0.7125\n",
      "Epoch 142/150\n",
      "220/220 [==============================] - 6s 26ms/step - loss: 0.6930 - categorical_accuracy: 0.7383 - val_loss: 0.7481 - val_categorical_accuracy: 0.7034\n",
      "Epoch 143/150\n",
      "220/220 [==============================] - 4s 17ms/step - loss: 0.6918 - categorical_accuracy: 0.7312 - val_loss: 0.7743 - val_categorical_accuracy: 0.6948\n",
      "Epoch 144/150\n",
      "220/220 [==============================] - 3s 15ms/step - loss: 0.6935 - categorical_accuracy: 0.7265 - val_loss: 0.7442 - val_categorical_accuracy: 0.7150\n",
      "Epoch 145/150\n",
      "220/220 [==============================] - 3s 15ms/step - loss: 0.6935 - categorical_accuracy: 0.7320 - val_loss: 0.7546 - val_categorical_accuracy: 0.7130\n",
      "Epoch 146/150\n",
      "220/220 [==============================] - 3s 15ms/step - loss: 0.6966 - categorical_accuracy: 0.7302 - val_loss: 0.7542 - val_categorical_accuracy: 0.7024\n",
      "Epoch 147/150\n",
      "220/220 [==============================] - 3s 15ms/step - loss: 0.6878 - categorical_accuracy: 0.7329 - val_loss: 0.7578 - val_categorical_accuracy: 0.6902\n",
      "Epoch 148/150\n",
      "220/220 [==============================] - 3s 16ms/step - loss: 0.6872 - categorical_accuracy: 0.7342 - val_loss: 0.7824 - val_categorical_accuracy: 0.7024\n",
      "Epoch 149/150\n",
      "220/220 [==============================] - 3s 16ms/step - loss: 0.6918 - categorical_accuracy: 0.7324 - val_loss: 0.7825 - val_categorical_accuracy: 0.7019\n",
      "Epoch 150/150\n",
      "220/220 [==============================] - 4s 16ms/step - loss: 0.6908 - categorical_accuracy: 0.7325 - val_loss: 0.7491 - val_categorical_accuracy: 0.7191\n"
     ]
    }
   ],
   "source": [
    "cell_history = cell_model.fit_generator(cell_train_generator, validation_data = cell_validation_generator, epochs=150)"
   ]
  },
  {
   "cell_type": "code",
   "execution_count": 37,
   "id": "20a1f651",
   "metadata": {},
   "outputs": [
    {
     "data": {
      "image/png": "[encoded data removed]",
      "text/plain": [
       "<Figure size 720x360 with 2 Axes>"
      ]
     },
     "metadata": {
      "needs_background": "light"
     },
     "output_type": "display_data"
    }
   ],
   "source": [
    "plot_learning_curve(cell_history.history['loss'], cell_history.history['val_loss'], \n",
    "                    cell_history.history['categorical_accuracy'], cell_history.history['val_categorical_accuracy'], \n",
    "                    metric_name='Accuracy')"
   ]
  },
  {
   "cell_type": "code",
   "execution_count": 38,
   "id": "e4c388f0",
   "metadata": {},
   "outputs": [
    {
     "name": "stdout",
     "output_type": "stream",
     "text": [
      "Found 1980 validated image filenames belonging to 4 classes.\n"
     ]
    },
    {
     "name": "stderr",
     "output_type": "stream",
     "text": [
      "/home/ec2-user/anaconda3/envs/tensorflow_p36/lib/python3.6/site-packages/ipykernel/__main__.py:1: SettingWithCopyWarning: \n",
      "A value is trying to be set on a copy of a slice from a DataFrame.\n",
      "Try using .loc[row_indexer,col_indexer] = value instead\n",
      "\n",
      "See the caveats in the documentation: https://pandas.pydata.org/pandas-docs/stable/user_guide/indexing.html#returning-a-view-versus-a-copy\n",
      "  if __name__ == '__main__':\n"
     ]
    }
   ],
   "source": [
    "test_data['cellType'] = test_data['cellType'].astype('str')\n",
    "\n",
    "cell_test_datagen = ImageDataGenerator(rescale=1./255, data_format='channels_last')\n",
    "\n",
    "batch_size = 1\n",
    "\n",
    "cell_test_generator = cell_test_datagen.flow_from_dataframe(\n",
    "        dataframe=test_data,\n",
    "        directory='./Image_classification_data/patch_images/',\n",
    "        x_col=\"ImageName\",\n",
    "        y_col=\"cellType\",\n",
    "        target_size=(27, 27),\n",
    "        batch_size=batch_size,\n",
    "        class_mode='categorical')"
   ]
  },
  {
   "cell_type": "code",
   "execution_count": null,
   "id": "f07e91f0",
   "metadata": {},
   "outputs": [],
   "source": [
    "cell_model.evaluate(cell_test_generator)"
   ]
  },
  {
   "cell_type": "code",
   "execution_count": null,
   "id": "a9ae3d26",
   "metadata": {},
   "outputs": [],
   "source": [
    "label_names = {'fibroblast': 0, 'inflammatory':1, 'epithelial': 2, 'others':3}"
   ]
  },
  {
   "cell_type": "code",
   "execution_count": null,
   "id": "75cf0ad8",
   "metadata": {},
   "outputs": [],
   "source": [
    "d_inv = {v: k for k, v in label_names.items()}\n",
    "plt.figure(figsize=(16,4))\n",
    "batches = 0\n",
    "for x,y in cell_test_generator:\n",
    "        batches = batches + 1\n",
    "        y_hat = cell_model.predict(x, verbose=0)\n",
    "        x = np.squeeze(x)\n",
    "        if batches < 5:\n",
    "            plt.subplot(1,5,batches)\n",
    "            plt.imshow(x)\n",
    "            plt.title(\"GT-{}, Pred-{}\".format(d_inv[np.argmax(y[0])], d_inv[np.argmax(y_hat[0])] ))\n",
    "            \n",
    "        else:\n",
    "            break\n",
    "        \n",
    "        plt.axis('off')"
   ]
  },
  {
   "cell_type": "code",
   "execution_count": null,
   "id": "04cefe1b",
   "metadata": {},
   "outputs": [],
   "source": [
    "cell_model.save(\"predict_celltype\")"
   ]
  },
  {
   "cell_type": "code",
   "execution_count": null,
   "id": "2d652fb9",
   "metadata": {},
   "outputs": [],
   "source": []
  },
  {
   "cell_type": "code",
   "execution_count": 42,
   "id": "5dd4180f",
   "metadata": {},
   "outputs": [],
   "source": [
    "colon_main_copy = colon_main.copy()"
   ]
  },
  {
   "cell_type": "code",
   "execution_count": 43,
   "id": "b3589116",
   "metadata": {},
   "outputs": [
    {
     "data": {
      "text/html": [
       "<div>\n",
       "<style scoped>\n",
       "    .dataframe tbody tr th:only-of-type {\n",
       "        vertical-align: middle;\n",
       "    }\n",
       "\n",
       "    .dataframe tbody tr th {\n",
       "        vertical-align: top;\n",
       "    }\n",
       "\n",
       "    .dataframe thead th {\n",
       "        text-align: right;\n",
       "    }\n",
       "</style>\n",
       "<table border=\"1\" class=\"dataframe\">\n",
       "  <thead>\n",
       "    <tr style=\"text-align: right;\">\n",
       "      <th></th>\n",
       "      <th>InstanceID</th>\n",
       "      <th>patientID</th>\n",
       "      <th>ImageName</th>\n",
       "      <th>cellTypeName</th>\n",
       "      <th>cellType</th>\n",
       "      <th>isCancerous</th>\n",
       "    </tr>\n",
       "  </thead>\n",
       "  <tbody>\n",
       "    <tr>\n",
       "      <th>0</th>\n",
       "      <td>22405</td>\n",
       "      <td>1</td>\n",
       "      <td>22405.png</td>\n",
       "      <td>fibroblast</td>\n",
       "      <td>0</td>\n",
       "      <td>0</td>\n",
       "    </tr>\n",
       "    <tr>\n",
       "      <th>1</th>\n",
       "      <td>22406</td>\n",
       "      <td>1</td>\n",
       "      <td>22406.png</td>\n",
       "      <td>fibroblast</td>\n",
       "      <td>0</td>\n",
       "      <td>0</td>\n",
       "    </tr>\n",
       "    <tr>\n",
       "      <th>2</th>\n",
       "      <td>22407</td>\n",
       "      <td>1</td>\n",
       "      <td>22407.png</td>\n",
       "      <td>fibroblast</td>\n",
       "      <td>0</td>\n",
       "      <td>0</td>\n",
       "    </tr>\n",
       "    <tr>\n",
       "      <th>3</th>\n",
       "      <td>22408</td>\n",
       "      <td>1</td>\n",
       "      <td>22408.png</td>\n",
       "      <td>fibroblast</td>\n",
       "      <td>0</td>\n",
       "      <td>0</td>\n",
       "    </tr>\n",
       "    <tr>\n",
       "      <th>4</th>\n",
       "      <td>22409</td>\n",
       "      <td>1</td>\n",
       "      <td>22409.png</td>\n",
       "      <td>fibroblast</td>\n",
       "      <td>0</td>\n",
       "      <td>0</td>\n",
       "    </tr>\n",
       "  </tbody>\n",
       "</table>\n",
       "</div>"
      ],
      "text/plain": [
       "   InstanceID  patientID  ImageName cellTypeName  cellType  isCancerous\n",
       "0       22405          1  22405.png   fibroblast         0            0\n",
       "1       22406          1  22406.png   fibroblast         0            0\n",
       "2       22407          1  22407.png   fibroblast         0            0\n",
       "3       22408          1  22408.png   fibroblast         0            0\n",
       "4       22409          1  22409.png   fibroblast         0            0"
      ]
     },
     "execution_count": 43,
     "metadata": {},
     "output_type": "execute_result"
    }
   ],
   "source": [
    "colon_main_copy.head()"
   ]
  },
  {
   "cell_type": "code",
   "execution_count": 44,
   "id": "e6b11e7a",
   "metadata": {},
   "outputs": [],
   "source": [
    "colon_main_copy.drop(['cellTypeName'], axis=1, inplace=True)"
   ]
  },
  {
   "cell_type": "code",
   "execution_count": 45,
   "id": "f4d7d66f",
   "metadata": {},
   "outputs": [
    {
     "name": "stdout",
     "output_type": "stream",
     "text": [
      "Train data : 7916, \n",
      "Val Data: 1980\n"
     ]
    }
   ],
   "source": [
    "cell_train_data, cell_val_data = train_test_split(colon_main_copy, test_size=0.2, random_state=42)\n",
    "\n",
    "print(\"Train data : {}, \\nVal Data: {}\".format(cell_train_data.shape[0], cell_val_data.shape[0]))"
   ]
  },
  {
   "cell_type": "code",
   "execution_count": 46,
   "id": "8aec57f8",
   "metadata": {},
   "outputs": [
    {
     "data": {
      "text/html": [
       "<div>\n",
       "<style scoped>\n",
       "    .dataframe tbody tr th:only-of-type {\n",
       "        vertical-align: middle;\n",
       "    }\n",
       "\n",
       "    .dataframe tbody tr th {\n",
       "        vertical-align: top;\n",
       "    }\n",
       "\n",
       "    .dataframe thead th {\n",
       "        text-align: right;\n",
       "    }\n",
       "</style>\n",
       "<table border=\"1\" class=\"dataframe\">\n",
       "  <thead>\n",
       "    <tr style=\"text-align: right;\">\n",
       "      <th></th>\n",
       "      <th>InstanceID</th>\n",
       "      <th>patientID</th>\n",
       "      <th>ImageName</th>\n",
       "      <th>cellType</th>\n",
       "      <th>isCancerous</th>\n",
       "    </tr>\n",
       "  </thead>\n",
       "  <tbody>\n",
       "    <tr>\n",
       "      <th>3111</th>\n",
       "      <td>8379</td>\n",
       "      <td>18</td>\n",
       "      <td>8379.png</td>\n",
       "      <td>2</td>\n",
       "      <td>1</td>\n",
       "    </tr>\n",
       "    <tr>\n",
       "      <th>742</th>\n",
       "      <td>9043</td>\n",
       "      <td>7</td>\n",
       "      <td>9043.png</td>\n",
       "      <td>0</td>\n",
       "      <td>0</td>\n",
       "    </tr>\n",
       "    <tr>\n",
       "      <th>6087</th>\n",
       "      <td>20555</td>\n",
       "      <td>37</td>\n",
       "      <td>20555.png</td>\n",
       "      <td>0</td>\n",
       "      <td>0</td>\n",
       "    </tr>\n",
       "    <tr>\n",
       "      <th>5669</th>\n",
       "      <td>11310</td>\n",
       "      <td>32</td>\n",
       "      <td>11310.png</td>\n",
       "      <td>3</td>\n",
       "      <td>0</td>\n",
       "    </tr>\n",
       "    <tr>\n",
       "      <th>4254</th>\n",
       "      <td>20081</td>\n",
       "      <td>23</td>\n",
       "      <td>20081.png</td>\n",
       "      <td>0</td>\n",
       "      <td>0</td>\n",
       "    </tr>\n",
       "  </tbody>\n",
       "</table>\n",
       "</div>"
      ],
      "text/plain": [
       "      InstanceID  patientID  ImageName  cellType  isCancerous\n",
       "3111        8379         18   8379.png         2            1\n",
       "742         9043          7   9043.png         0            0\n",
       "6087       20555         37  20555.png         0            0\n",
       "5669       11310         32  11310.png         3            0\n",
       "4254       20081         23  20081.png         0            0"
      ]
     },
     "execution_count": 46,
     "metadata": {},
     "output_type": "execute_result"
    }
   ],
   "source": [
    "cell_train_data.head()"
   ]
  },
  {
   "cell_type": "code",
   "execution_count": 47,
   "id": "6672645d",
   "metadata": {},
   "outputs": [],
   "source": [
    "INPUT_DIM = (27, 27, 3)\n",
    "HIDDEN_LAYER_DIM = 256\n",
    "OUTPUT_CLASSES = 4"
   ]
  },
  {
   "cell_type": "code",
   "execution_count": 48,
   "id": "91928c2d",
   "metadata": {},
   "outputs": [],
   "source": [
    "cell_model1 = tf.keras.Sequential([\n",
    "    tf.keras.layers.Flatten(input_shape=INPUT_DIM),\n",
    "    tf.keras.layers.Dense(HIDDEN_LAYER_DIM, activation='sigmoid'),\n",
    "    tf.keras.layers.Dense(OUTPUT_CLASSES)\n",
    "])"
   ]
  },
  {
   "cell_type": "code",
   "execution_count": 49,
   "id": "ed654ff7",
   "metadata": {},
   "outputs": [
    {
     "name": "stdout",
     "output_type": "stream",
     "text": [
      "Model: \"sequential_2\"\n",
      "_________________________________________________________________\n",
      "Layer (type)                 Output Shape              Param #   \n",
      "=================================================================\n",
      "flatten_2 (Flatten)          (None, 2187)              0         \n",
      "_________________________________________________________________\n",
      "dense_4 (Dense)              (None, 256)               560128    \n",
      "_________________________________________________________________\n",
      "dense_5 (Dense)              (None, 4)                 1028      \n",
      "=================================================================\n",
      "Total params: 561,156\n",
      "Trainable params: 561,156\n",
      "Non-trainable params: 0\n",
      "_________________________________________________________________\n"
     ]
    }
   ],
   "source": [
    "cell_model1.summary()"
   ]
  },
  {
   "cell_type": "code",
   "execution_count": 50,
   "id": "ba40cd77",
   "metadata": {},
   "outputs": [
    {
     "data": {
      "image/png": "[encoded data removed]",
      "text/plain": [
       "<IPython.core.display.Image object>"
      ]
     },
     "execution_count": 50,
     "metadata": {},
     "output_type": "execute_result"
    }
   ],
   "source": [
    "tf.keras.utils.plot_model(cell_model1, show_shapes=True)"
   ]
  },
  {
   "cell_type": "code",
   "execution_count": 51,
   "id": "0647da56",
   "metadata": {},
   "outputs": [],
   "source": [
    "cell_model1.compile(optimizer='SGD',\n",
    "              loss=tf.keras.losses.CategoricalCrossentropy(from_logits=True),\n",
    "              metrics=['categorical_accuracy'])"
   ]
  },
  {
   "cell_type": "code",
   "execution_count": 52,
   "id": "97e456c7",
   "metadata": {},
   "outputs": [
    {
     "name": "stdout",
     "output_type": "stream",
     "text": [
      "Found 7916 validated image filenames belonging to 4 classes.\n",
      "Found 1980 validated image filenames belonging to 4 classes.\n"
     ]
    },
    {
     "name": "stderr",
     "output_type": "stream",
     "text": [
      "/home/ec2-user/anaconda3/envs/tensorflow_p36/lib/python3.6/site-packages/ipykernel/__main__.py:3: SettingWithCopyWarning: \n",
      "A value is trying to be set on a copy of a slice from a DataFrame.\n",
      "Try using .loc[row_indexer,col_indexer] = value instead\n",
      "\n",
      "See the caveats in the documentation: https://pandas.pydata.org/pandas-docs/stable/user_guide/indexing.html#returning-a-view-versus-a-copy\n",
      "  app.launch_new_instance()\n",
      "/home/ec2-user/anaconda3/envs/tensorflow_p36/lib/python3.6/site-packages/ipykernel/__main__.py:4: SettingWithCopyWarning: \n",
      "A value is trying to be set on a copy of a slice from a DataFrame.\n",
      "Try using .loc[row_indexer,col_indexer] = value instead\n",
      "\n",
      "See the caveats in the documentation: https://pandas.pydata.org/pandas-docs/stable/user_guide/indexing.html#returning-a-view-versus-a-copy\n"
     ]
    }
   ],
   "source": [
    "from tensorflow.keras.preprocessing.image import ImageDataGenerator\n",
    "\n",
    "cell_train_data['cellType'] = cell_train_data['cellType'].astype('str')\n",
    "cell_val_data['cellType'] = cell_val_data['cellType'].astype('str')\n",
    "\n",
    "cell_train_datagen1 = ImageDataGenerator(rescale=1./255, data_format='channels_last')\n",
    "cell_val_datagen1 = ImageDataGenerator(rescale=1./255, data_format='channels_last')\n",
    "\n",
    "batch_size = 27\n",
    "\n",
    "cell_train_generator1 = cell_train_datagen1.flow_from_dataframe(\n",
    "        dataframe=cell_train_data,\n",
    "        directory='./Image_classification_data/patch_images/',\n",
    "        x_col=\"ImageName\",\n",
    "        y_col=\"cellType\",\n",
    "        target_size=(27, 27),\n",
    "        batch_size=batch_size,\n",
    "        class_mode='categorical')\n",
    "\n",
    "cell_validation_generator1 = cell_val_datagen1.flow_from_dataframe(\n",
    "        dataframe=cell_val_data,\n",
    "        directory='./Image_classification_data/patch_images/',\n",
    "        x_col=\"ImageName\",\n",
    "        y_col=\"cellType\",\n",
    "        target_size=(27, 27),\n",
    "        batch_size=batch_size,\n",
    "        class_mode='categorical')"
   ]
  },
  {
   "cell_type": "code",
   "execution_count": null,
   "id": "4407c5ab",
   "metadata": {
    "collapsed": true,
    "jupyter": {
     "outputs_hidden": true
    }
   },
   "outputs": [
    {
     "name": "stderr",
     "output_type": "stream",
     "text": [
      "/home/ec2-user/anaconda3/envs/tensorflow_p36/lib/python3.6/site-packages/tensorflow/python/keras/engine/training.py:1940: UserWarning: `Model.fit_generator` is deprecated and will be removed in a future version. Please use `Model.fit`, which supports generators.\n",
      "  warnings.warn('`Model.fit_generator` is deprecated and '\n"
     ]
    },
    {
     "name": "stdout",
     "output_type": "stream",
     "text": [
      "Epoch 1/150\n",
      "294/294 [==============================] - 5s 15ms/step - loss: 1.2325 - categorical_accuracy: 0.4660 - val_loss: 1.1995 - val_categorical_accuracy: 0.5500\n",
      "Epoch 2/150\n",
      "294/294 [==============================] - 4s 14ms/step - loss: 1.1232 - categorical_accuracy: 0.5428 - val_loss: 1.1024 - val_categorical_accuracy: 0.5581\n",
      "Epoch 3/150\n",
      "294/294 [==============================] - 4s 15ms/step - loss: 1.0439 - categorical_accuracy: 0.5875 - val_loss: 1.0188 - val_categorical_accuracy: 0.5798\n",
      "Epoch 4/150\n",
      "294/294 [==============================] - 4s 14ms/step - loss: 0.9793 - categorical_accuracy: 0.6194 - val_loss: 0.9788 - val_categorical_accuracy: 0.6697\n",
      "Epoch 5/150\n",
      "294/294 [==============================] - 4s 14ms/step - loss: 0.9297 - categorical_accuracy: 0.6474 - val_loss: 0.9411 - val_categorical_accuracy: 0.6682\n",
      "Epoch 6/150\n",
      "294/294 [==============================] - 4s 14ms/step - loss: 0.8918 - categorical_accuracy: 0.6674 - val_loss: 0.8869 - val_categorical_accuracy: 0.6838\n",
      "Epoch 7/150\n",
      "294/294 [==============================] - 4s 15ms/step - loss: 0.8706 - categorical_accuracy: 0.6688 - val_loss: 0.8669 - val_categorical_accuracy: 0.6672\n",
      "Epoch 8/150\n",
      "294/294 [==============================] - 4s 14ms/step - loss: 0.8528 - categorical_accuracy: 0.6764 - val_loss: 0.8650 - val_categorical_accuracy: 0.6581\n",
      "Epoch 9/150\n",
      "294/294 [==============================] - 4s 14ms/step - loss: 0.8293 - categorical_accuracy: 0.6894 - val_loss: 0.8422 - val_categorical_accuracy: 0.6697\n",
      "Epoch 10/150\n",
      "294/294 [==============================] - 4s 15ms/step - loss: 0.8204 - categorical_accuracy: 0.6876 - val_loss: 0.8349 - val_categorical_accuracy: 0.6778\n",
      "Epoch 11/150\n",
      "294/294 [==============================] - 4s 14ms/step - loss: 0.8100 - categorical_accuracy: 0.6838 - val_loss: 0.8342 - val_categorical_accuracy: 0.6717\n",
      "Epoch 12/150\n",
      "294/294 [==============================] - 4s 14ms/step - loss: 0.8028 - categorical_accuracy: 0.6921 - val_loss: 0.8247 - val_categorical_accuracy: 0.6955\n",
      "Epoch 13/150\n",
      "294/294 [==============================] - 4s 14ms/step - loss: 0.7974 - categorical_accuracy: 0.6982 - val_loss: 0.8127 - val_categorical_accuracy: 0.6944\n",
      "Epoch 14/150\n",
      "294/294 [==============================] - 5s 16ms/step - loss: 0.7969 - categorical_accuracy: 0.6876 - val_loss: 0.8169 - val_categorical_accuracy: 0.6828\n",
      "Epoch 15/150\n",
      "294/294 [==============================] - 4s 14ms/step - loss: 0.7879 - categorical_accuracy: 0.6952 - val_loss: 0.8171 - val_categorical_accuracy: 0.6894\n",
      "Epoch 16/150\n",
      "294/294 [==============================] - 4s 15ms/step - loss: 0.7853 - categorical_accuracy: 0.6967 - val_loss: 0.8106 - val_categorical_accuracy: 0.6884\n",
      "Epoch 17/150\n",
      "294/294 [==============================] - 4s 15ms/step - loss: 0.7861 - categorical_accuracy: 0.6985 - val_loss: 0.8174 - val_categorical_accuracy: 0.6939\n",
      "Epoch 18/150\n",
      "294/294 [==============================] - 6s 22ms/step - loss: 0.7816 - categorical_accuracy: 0.6972 - val_loss: 0.8043 - val_categorical_accuracy: 0.6884\n",
      "Epoch 19/150\n",
      "294/294 [==============================] - 9s 30ms/step - loss: 0.7791 - categorical_accuracy: 0.6983 - val_loss: 0.8153 - val_categorical_accuracy: 0.6869\n",
      "Epoch 20/150\n",
      "294/294 [==============================] - 10s 34ms/step - loss: 0.7753 - categorical_accuracy: 0.6997 - val_loss: 0.8128 - val_categorical_accuracy: 0.6924\n",
      "Epoch 21/150\n",
      "294/294 [==============================] - 7s 23ms/step - loss: 0.7731 - categorical_accuracy: 0.7030 - val_loss: 0.8427 - val_categorical_accuracy: 0.6687\n",
      "Epoch 22/150\n",
      "294/294 [==============================] - 6s 19ms/step - loss: 0.7743 - categorical_accuracy: 0.7012 - val_loss: 0.8079 - val_categorical_accuracy: 0.6843\n",
      "Epoch 23/150\n",
      "294/294 [==============================] - 5s 16ms/step - loss: 0.7693 - categorical_accuracy: 0.7017 - val_loss: 0.8186 - val_categorical_accuracy: 0.7005\n",
      "Epoch 24/150\n",
      "294/294 [==============================] - 5s 16ms/step - loss: 0.7687 - categorical_accuracy: 0.7014 - val_loss: 0.8003 - val_categorical_accuracy: 0.6909\n",
      "Epoch 25/150\n",
      "294/294 [==============================] - 4s 15ms/step - loss: 0.7692 - categorical_accuracy: 0.6996 - val_loss: 0.8030 - val_categorical_accuracy: 0.6990\n",
      "Epoch 26/150\n",
      "294/294 [==============================] - 4s 15ms/step - loss: 0.7672 - categorical_accuracy: 0.7035 - val_loss: 0.8031 - val_categorical_accuracy: 0.6904\n",
      "Epoch 27/150\n",
      "294/294 [==============================] - 5s 15ms/step - loss: 0.7619 - categorical_accuracy: 0.7064 - val_loss: 0.8031 - val_categorical_accuracy: 0.6929\n",
      "Epoch 28/150\n",
      "294/294 [==============================] - 4s 14ms/step - loss: 0.7630 - categorical_accuracy: 0.7044 - val_loss: 0.8236 - val_categorical_accuracy: 0.6793\n",
      "Epoch 29/150\n",
      "294/294 [==============================] - 4s 14ms/step - loss: 0.7625 - categorical_accuracy: 0.7064 - val_loss: 0.8160 - val_categorical_accuracy: 0.6874\n",
      "Epoch 30/150\n",
      "294/294 [==============================] - 4s 15ms/step - loss: 0.7564 - categorical_accuracy: 0.7082 - val_loss: 0.8198 - val_categorical_accuracy: 0.6803\n",
      "Epoch 31/150\n",
      "294/294 [==============================] - 5s 16ms/step - loss: 0.7568 - categorical_accuracy: 0.7072 - val_loss: 0.7957 - val_categorical_accuracy: 0.6975\n",
      "Epoch 32/150\n",
      "294/294 [==============================] - 4s 15ms/step - loss: 0.7570 - categorical_accuracy: 0.7074 - val_loss: 0.8051 - val_categorical_accuracy: 0.6859\n",
      "Epoch 33/150\n",
      "294/294 [==============================] - 5s 17ms/step - loss: 0.7576 - categorical_accuracy: 0.7092 - val_loss: 0.8313 - val_categorical_accuracy: 0.6798\n",
      "Epoch 34/150\n",
      "294/294 [==============================] - 4s 15ms/step - loss: 0.7551 - categorical_accuracy: 0.7078 - val_loss: 0.7977 - val_categorical_accuracy: 0.6970\n",
      "Epoch 35/150\n",
      "294/294 [==============================] - 4s 15ms/step - loss: 0.7553 - categorical_accuracy: 0.7050 - val_loss: 0.8036 - val_categorical_accuracy: 0.6934\n",
      "Epoch 36/150\n",
      "294/294 [==============================] - 4s 15ms/step - loss: 0.7550 - categorical_accuracy: 0.7044 - val_loss: 0.7936 - val_categorical_accuracy: 0.6965\n",
      "Epoch 37/150\n",
      "294/294 [==============================] - 4s 15ms/step - loss: 0.7528 - categorical_accuracy: 0.7067 - val_loss: 0.7974 - val_categorical_accuracy: 0.6990\n",
      "Epoch 38/150\n",
      "294/294 [==============================] - 4s 14ms/step - loss: 0.7505 - categorical_accuracy: 0.7072 - val_loss: 0.8166 - val_categorical_accuracy: 0.6879\n",
      "Epoch 39/150\n",
      "294/294 [==============================] - 4s 14ms/step - loss: 0.7503 - categorical_accuracy: 0.7094 - val_loss: 0.8040 - val_categorical_accuracy: 0.6995\n",
      "Epoch 40/150\n",
      "294/294 [==============================] - 4s 15ms/step - loss: 0.7500 - categorical_accuracy: 0.7068 - val_loss: 0.8207 - val_categorical_accuracy: 0.6859\n",
      "Epoch 41/150\n",
      "294/294 [==============================] - 4s 15ms/step - loss: 0.7474 - categorical_accuracy: 0.7108 - val_loss: 0.7979 - val_categorical_accuracy: 0.6995\n",
      "Epoch 42/150\n",
      "294/294 [==============================] - 4s 15ms/step - loss: 0.7478 - categorical_accuracy: 0.7132 - val_loss: 0.8401 - val_categorical_accuracy: 0.6808\n",
      "Epoch 43/150\n",
      "294/294 [==============================] - 4s 15ms/step - loss: 0.7442 - categorical_accuracy: 0.7121 - val_loss: 0.7980 - val_categorical_accuracy: 0.6864\n",
      "Epoch 44/150\n",
      "294/294 [==============================] - 4s 15ms/step - loss: 0.7456 - categorical_accuracy: 0.7124 - val_loss: 0.8040 - val_categorical_accuracy: 0.6904\n",
      "Epoch 45/150\n",
      "294/294 [==============================] - 4s 15ms/step - loss: 0.7455 - categorical_accuracy: 0.7110 - val_loss: 0.8151 - val_categorical_accuracy: 0.6889\n",
      "Epoch 46/150\n",
      "294/294 [==============================] - 5s 15ms/step - loss: 0.7456 - categorical_accuracy: 0.7067 - val_loss: 0.7926 - val_categorical_accuracy: 0.7005\n",
      "Epoch 47/150\n",
      "294/294 [==============================] - 4s 15ms/step - loss: 0.7433 - categorical_accuracy: 0.7142 - val_loss: 0.8020 - val_categorical_accuracy: 0.6924\n",
      "Epoch 48/150\n",
      "294/294 [==============================] - 4s 15ms/step - loss: 0.7426 - categorical_accuracy: 0.7148 - val_loss: 0.7941 - val_categorical_accuracy: 0.6944\n",
      "Epoch 49/150\n",
      "294/294 [==============================] - 4s 15ms/step - loss: 0.7406 - categorical_accuracy: 0.7132 - val_loss: 0.8258 - val_categorical_accuracy: 0.6727\n",
      "Epoch 50/150\n",
      "294/294 [==============================] - 4s 15ms/step - loss: 0.7374 - categorical_accuracy: 0.7125 - val_loss: 0.7992 - val_categorical_accuracy: 0.7025\n",
      "Epoch 51/150\n",
      "294/294 [==============================] - 4s 15ms/step - loss: 0.7404 - categorical_accuracy: 0.7127 - val_loss: 0.8147 - val_categorical_accuracy: 0.6929\n",
      "Epoch 52/150\n",
      "294/294 [==============================] - 4s 15ms/step - loss: 0.7395 - categorical_accuracy: 0.7116 - val_loss: 0.7977 - val_categorical_accuracy: 0.6965\n",
      "Epoch 53/150\n",
      "294/294 [==============================] - 4s 15ms/step - loss: 0.7366 - categorical_accuracy: 0.7134 - val_loss: 0.7916 - val_categorical_accuracy: 0.6985\n",
      "Epoch 54/150\n",
      "294/294 [==============================] - 4s 15ms/step - loss: 0.7362 - categorical_accuracy: 0.7137 - val_loss: 0.7990 - val_categorical_accuracy: 0.6965\n",
      "Epoch 55/150\n",
      "294/294 [==============================] - 4s 14ms/step - loss: 0.7378 - categorical_accuracy: 0.7122 - val_loss: 0.7985 - val_categorical_accuracy: 0.6965\n",
      "Epoch 56/150\n",
      "294/294 [==============================] - 4s 14ms/step - loss: 0.7377 - categorical_accuracy: 0.7148 - val_loss: 0.7928 - val_categorical_accuracy: 0.6909\n",
      "Epoch 57/150\n",
      "294/294 [==============================] - 4s 15ms/step - loss: 0.7382 - categorical_accuracy: 0.7124 - val_loss: 0.7951 - val_categorical_accuracy: 0.6975\n",
      "Epoch 58/150\n",
      "294/294 [==============================] - 4s 14ms/step - loss: 0.7338 - categorical_accuracy: 0.7156 - val_loss: 0.7948 - val_categorical_accuracy: 0.6980\n",
      "Epoch 59/150\n",
      "294/294 [==============================] - 4s 14ms/step - loss: 0.7365 - categorical_accuracy: 0.7148 - val_loss: 0.8402 - val_categorical_accuracy: 0.6848\n",
      "Epoch 60/150\n",
      "294/294 [==============================] - 4s 15ms/step - loss: 0.7341 - categorical_accuracy: 0.7153 - val_loss: 0.8173 - val_categorical_accuracy: 0.6944\n",
      "Epoch 61/150\n",
      "294/294 [==============================] - 4s 15ms/step - loss: 0.7333 - categorical_accuracy: 0.7178 - val_loss: 0.8024 - val_categorical_accuracy: 0.6990\n",
      "Epoch 62/150\n",
      "294/294 [==============================] - 4s 14ms/step - loss: 0.7330 - categorical_accuracy: 0.7160 - val_loss: 0.7976 - val_categorical_accuracy: 0.6944\n",
      "Epoch 63/150\n",
      "294/294 [==============================] - 4s 14ms/step - loss: 0.7322 - categorical_accuracy: 0.7203 - val_loss: 0.8171 - val_categorical_accuracy: 0.6864\n",
      "Epoch 64/150\n",
      "294/294 [==============================] - 4s 14ms/step - loss: 0.7306 - categorical_accuracy: 0.7161 - val_loss: 0.7974 - val_categorical_accuracy: 0.6975\n",
      "Epoch 65/150\n",
      "294/294 [==============================] - 5s 15ms/step - loss: 0.7355 - categorical_accuracy: 0.7125 - val_loss: 0.8013 - val_categorical_accuracy: 0.6990\n",
      "Epoch 66/150\n",
      "294/294 [==============================] - 4s 14ms/step - loss: 0.7312 - categorical_accuracy: 0.7202 - val_loss: 0.8128 - val_categorical_accuracy: 0.6879\n",
      "Epoch 67/150\n",
      "294/294 [==============================] - 4s 15ms/step - loss: 0.7288 - categorical_accuracy: 0.7179 - val_loss: 0.8083 - val_categorical_accuracy: 0.6975\n",
      "Epoch 68/150\n",
      "294/294 [==============================] - 5s 16ms/step - loss: 0.7288 - categorical_accuracy: 0.7188 - val_loss: 0.7961 - val_categorical_accuracy: 0.6939\n",
      "Epoch 69/150\n",
      "294/294 [==============================] - 4s 15ms/step - loss: 0.7270 - categorical_accuracy: 0.7196 - val_loss: 0.7898 - val_categorical_accuracy: 0.7020\n",
      "Epoch 70/150\n",
      "294/294 [==============================] - 4s 14ms/step - loss: 0.7271 - categorical_accuracy: 0.7204 - val_loss: 0.7898 - val_categorical_accuracy: 0.7000\n",
      "Epoch 71/150\n",
      "294/294 [==============================] - 4s 15ms/step - loss: 0.7287 - categorical_accuracy: 0.7175 - val_loss: 0.8148 - val_categorical_accuracy: 0.6995\n",
      "Epoch 72/150\n",
      "294/294 [==============================] - 4s 15ms/step - loss: 0.7274 - categorical_accuracy: 0.7177 - val_loss: 0.7981 - val_categorical_accuracy: 0.6990\n",
      "Epoch 73/150\n",
      "294/294 [==============================] - 4s 15ms/step - loss: 0.7231 - categorical_accuracy: 0.7213 - val_loss: 0.8074 - val_categorical_accuracy: 0.6879\n",
      "Epoch 74/150\n",
      "294/294 [==============================] - 4s 14ms/step - loss: 0.7226 - categorical_accuracy: 0.7206 - val_loss: 0.7909 - val_categorical_accuracy: 0.7000\n",
      "Epoch 75/150\n",
      "294/294 [==============================] - 4s 14ms/step - loss: 0.7212 - categorical_accuracy: 0.7209 - val_loss: 0.8239 - val_categorical_accuracy: 0.6919\n",
      "Epoch 76/150\n",
      "294/294 [==============================] - 4s 14ms/step - loss: 0.7245 - categorical_accuracy: 0.7215 - val_loss: 0.8145 - val_categorical_accuracy: 0.6955\n",
      "Epoch 77/150\n",
      "294/294 [==============================] - 4s 14ms/step - loss: 0.7203 - categorical_accuracy: 0.7209 - val_loss: 0.7945 - val_categorical_accuracy: 0.6980\n",
      "Epoch 78/150\n",
      "294/294 [==============================] - 4s 14ms/step - loss: 0.7257 - categorical_accuracy: 0.7177 - val_loss: 0.8423 - val_categorical_accuracy: 0.6843\n",
      "Epoch 79/150\n",
      "294/294 [==============================] - 4s 14ms/step - loss: 0.7217 - categorical_accuracy: 0.7199 - val_loss: 0.7945 - val_categorical_accuracy: 0.6955\n",
      "Epoch 80/150\n",
      "294/294 [==============================] - 4s 14ms/step - loss: 0.7214 - categorical_accuracy: 0.7204 - val_loss: 0.8333 - val_categorical_accuracy: 0.6768\n",
      "Epoch 81/150\n",
      "294/294 [==============================] - 4s 14ms/step - loss: 0.7208 - categorical_accuracy: 0.7192 - val_loss: 0.8084 - val_categorical_accuracy: 0.6823\n",
      "Epoch 82/150\n",
      "294/294 [==============================] - 5s 18ms/step - loss: 0.7215 - categorical_accuracy: 0.7206 - val_loss: 0.8090 - val_categorical_accuracy: 0.6838\n",
      "Epoch 83/150\n",
      "294/294 [==============================] - 6s 19ms/step - loss: 0.7169 - categorical_accuracy: 0.7226 - val_loss: 0.8038 - val_categorical_accuracy: 0.6929\n",
      "Epoch 84/150\n",
      "294/294 [==============================] - 5s 18ms/step - loss: 0.7204 - categorical_accuracy: 0.7230 - val_loss: 0.7993 - val_categorical_accuracy: 0.6944\n",
      "Epoch 85/150\n",
      "294/294 [==============================] - 6s 20ms/step - loss: 0.7207 - categorical_accuracy: 0.7198 - val_loss: 0.8362 - val_categorical_accuracy: 0.6843\n",
      "Epoch 86/150\n",
      "294/294 [==============================] - 6s 19ms/step - loss: 0.7168 - categorical_accuracy: 0.7215 - val_loss: 0.7959 - val_categorical_accuracy: 0.6949\n",
      "Epoch 87/150\n",
      "294/294 [==============================] - 5s 18ms/step - loss: 0.7189 - categorical_accuracy: 0.7225 - val_loss: 0.7917 - val_categorical_accuracy: 0.6970\n",
      "Epoch 88/150\n",
      "294/294 [==============================] - 5s 16ms/step - loss: 0.7182 - categorical_accuracy: 0.7227 - val_loss: 0.7971 - val_categorical_accuracy: 0.7040\n",
      "Epoch 89/150\n",
      "294/294 [==============================] - 4s 15ms/step - loss: 0.7148 - categorical_accuracy: 0.7222 - val_loss: 0.7977 - val_categorical_accuracy: 0.6985\n",
      "Epoch 90/150\n",
      "294/294 [==============================] - 4s 15ms/step - loss: 0.7156 - categorical_accuracy: 0.7225 - val_loss: 0.7931 - val_categorical_accuracy: 0.6990\n",
      "Epoch 91/150\n",
      "294/294 [==============================] - 4s 14ms/step - loss: 0.7110 - categorical_accuracy: 0.7213 - val_loss: 0.8130 - val_categorical_accuracy: 0.6980\n",
      "Epoch 92/150\n",
      "294/294 [==============================] - 4s 14ms/step - loss: 0.7139 - categorical_accuracy: 0.7255 - val_loss: 0.7953 - val_categorical_accuracy: 0.6980\n",
      "Epoch 93/150\n",
      "294/294 [==============================] - 4s 14ms/step - loss: 0.7109 - categorical_accuracy: 0.7309 - val_loss: 0.8226 - val_categorical_accuracy: 0.6975\n",
      "Epoch 94/150\n",
      "294/294 [==============================] - 4s 14ms/step - loss: 0.7151 - categorical_accuracy: 0.7249 - val_loss: 0.7956 - val_categorical_accuracy: 0.6990\n",
      "Epoch 95/150\n",
      "294/294 [==============================] - 4s 14ms/step - loss: 0.7118 - categorical_accuracy: 0.7250 - val_loss: 0.7933 - val_categorical_accuracy: 0.7010\n",
      "Epoch 96/150\n",
      "294/294 [==============================] - 4s 14ms/step - loss: 0.7125 - categorical_accuracy: 0.7242 - val_loss: 0.7860 - val_categorical_accuracy: 0.7000\n",
      "Epoch 97/150\n",
      "294/294 [==============================] - 4s 14ms/step - loss: 0.7127 - categorical_accuracy: 0.7230 - val_loss: 0.7911 - val_categorical_accuracy: 0.6990\n",
      "Epoch 98/150\n",
      "294/294 [==============================] - 4s 14ms/step - loss: 0.7075 - categorical_accuracy: 0.7290 - val_loss: 0.8157 - val_categorical_accuracy: 0.6914\n",
      "Epoch 99/150\n",
      "294/294 [==============================] - 4s 14ms/step - loss: 0.7079 - categorical_accuracy: 0.7299 - val_loss: 0.7879 - val_categorical_accuracy: 0.6990\n",
      "Epoch 100/150\n",
      "294/294 [==============================] - 4s 14ms/step - loss: 0.7064 - categorical_accuracy: 0.7265 - val_loss: 0.7914 - val_categorical_accuracy: 0.6995\n",
      "Epoch 101/150\n",
      "294/294 [==============================] - 4s 15ms/step - loss: 0.7075 - categorical_accuracy: 0.7313 - val_loss: 0.8292 - val_categorical_accuracy: 0.6803\n",
      "Epoch 102/150\n",
      "294/294 [==============================] - 4s 14ms/step - loss: 0.7100 - categorical_accuracy: 0.7269 - val_loss: 0.8070 - val_categorical_accuracy: 0.6894\n",
      "Epoch 103/150\n",
      "294/294 [==============================] - 5s 16ms/step - loss: 0.7072 - categorical_accuracy: 0.7292 - val_loss: 0.8023 - val_categorical_accuracy: 0.6934\n",
      "Epoch 104/150\n",
      "294/294 [==============================] - 4s 15ms/step - loss: 0.7101 - categorical_accuracy: 0.7236 - val_loss: 0.7869 - val_categorical_accuracy: 0.6990\n",
      "Epoch 105/150\n",
      "294/294 [==============================] - 4s 15ms/step - loss: 0.7058 - categorical_accuracy: 0.7268 - val_loss: 0.7910 - val_categorical_accuracy: 0.7010\n",
      "Epoch 106/150\n",
      "294/294 [==============================] - 4s 15ms/step - loss: 0.7039 - categorical_accuracy: 0.7311 - val_loss: 0.8964 - val_categorical_accuracy: 0.6606\n",
      "Epoch 107/150\n",
      "294/294 [==============================] - 4s 14ms/step - loss: 0.7034 - categorical_accuracy: 0.7255 - val_loss: 0.7960 - val_categorical_accuracy: 0.6955\n",
      "Epoch 108/150\n",
      "294/294 [==============================] - 4s 14ms/step - loss: 0.7055 - categorical_accuracy: 0.7263 - val_loss: 0.7898 - val_categorical_accuracy: 0.6990\n",
      "Epoch 109/150\n",
      "294/294 [==============================] - 4s 15ms/step - loss: 0.7035 - categorical_accuracy: 0.7308 - val_loss: 0.8118 - val_categorical_accuracy: 0.6879\n",
      "Epoch 110/150\n",
      "294/294 [==============================] - 4s 15ms/step - loss: 0.7010 - categorical_accuracy: 0.7270 - val_loss: 0.7957 - val_categorical_accuracy: 0.6995\n",
      "Epoch 111/150\n",
      "294/294 [==============================] - 4s 14ms/step - loss: 0.7018 - categorical_accuracy: 0.7298 - val_loss: 0.8238 - val_categorical_accuracy: 0.6763\n",
      "Epoch 112/150\n",
      "294/294 [==============================] - 4s 15ms/step - loss: 0.6996 - categorical_accuracy: 0.7276 - val_loss: 0.7871 - val_categorical_accuracy: 0.7030\n",
      "Epoch 113/150\n",
      "294/294 [==============================] - 4s 15ms/step - loss: 0.7022 - categorical_accuracy: 0.7293 - val_loss: 0.8286 - val_categorical_accuracy: 0.6914\n",
      "Epoch 114/150\n",
      "294/294 [==============================] - 4s 15ms/step - loss: 0.6982 - categorical_accuracy: 0.7307 - val_loss: 0.7870 - val_categorical_accuracy: 0.7010\n",
      "Epoch 115/150\n",
      "294/294 [==============================] - 4s 15ms/step - loss: 0.6982 - categorical_accuracy: 0.7317 - val_loss: 0.7971 - val_categorical_accuracy: 0.6965\n",
      "Epoch 116/150\n",
      "294/294 [==============================] - 5s 15ms/step - loss: 0.7005 - categorical_accuracy: 0.7280 - val_loss: 0.7871 - val_categorical_accuracy: 0.6995\n",
      "Epoch 117/150\n",
      "294/294 [==============================] - 4s 14ms/step - loss: 0.6992 - categorical_accuracy: 0.7290 - val_loss: 0.7874 - val_categorical_accuracy: 0.7000\n",
      "Epoch 118/150\n",
      "294/294 [==============================] - 4s 14ms/step - loss: 0.6988 - categorical_accuracy: 0.7307 - val_loss: 0.8279 - val_categorical_accuracy: 0.6833\n",
      "Epoch 119/150\n",
      "294/294 [==============================] - 4s 14ms/step - loss: 0.6967 - categorical_accuracy: 0.7321 - val_loss: 0.8117 - val_categorical_accuracy: 0.6899\n",
      "Epoch 120/150\n",
      "294/294 [==============================] - 4s 14ms/step - loss: 0.6958 - categorical_accuracy: 0.7298 - val_loss: 0.7893 - val_categorical_accuracy: 0.7030\n",
      "Epoch 121/150\n",
      "294/294 [==============================] - 4s 14ms/step - loss: 0.6972 - categorical_accuracy: 0.7290 - val_loss: 0.7900 - val_categorical_accuracy: 0.7040\n",
      "Epoch 122/150\n",
      "294/294 [==============================] - 4s 14ms/step - loss: 0.6978 - categorical_accuracy: 0.7313 - val_loss: 0.8278 - val_categorical_accuracy: 0.6904\n",
      "Epoch 123/150\n",
      "294/294 [==============================] - 4s 14ms/step - loss: 0.6971 - categorical_accuracy: 0.7295 - val_loss: 0.7822 - val_categorical_accuracy: 0.7035\n",
      "Epoch 124/150\n",
      "294/294 [==============================] - 4s 14ms/step - loss: 0.6961 - categorical_accuracy: 0.7317 - val_loss: 0.8123 - val_categorical_accuracy: 0.6919\n",
      "Epoch 127/150\n",
      "294/294 [==============================] - 4s 14ms/step - loss: 0.6958 - categorical_accuracy: 0.7308 - val_loss: 0.8207 - val_categorical_accuracy: 0.6854\n",
      "Epoch 128/150\n",
      "294/294 [==============================] - 4s 14ms/step - loss: 0.6922 - categorical_accuracy: 0.7327 - val_loss: 0.7904 - val_categorical_accuracy: 0.7020\n",
      "Epoch 129/150\n",
      "294/294 [==============================] - 4s 15ms/step - loss: 0.6899 - categorical_accuracy: 0.7340 - val_loss: 0.7899 - val_categorical_accuracy: 0.6995\n",
      "Epoch 130/150\n",
      "294/294 [==============================] - 4s 14ms/step - loss: 0.6905 - categorical_accuracy: 0.7336 - val_loss: 0.8010 - val_categorical_accuracy: 0.6879\n",
      "Epoch 131/150\n",
      "294/294 [==============================] - 4s 14ms/step - loss: 0.6891 - categorical_accuracy: 0.7356 - val_loss: 0.8268 - val_categorical_accuracy: 0.6677\n",
      "Epoch 132/150\n",
      "294/294 [==============================] - 4s 14ms/step - loss: 0.6940 - categorical_accuracy: 0.7305 - val_loss: 0.7936 - val_categorical_accuracy: 0.7030\n",
      "Epoch 133/150\n",
      "294/294 [==============================] - 4s 14ms/step - loss: 0.6877 - categorical_accuracy: 0.7333 - val_loss: 0.8381 - val_categorical_accuracy: 0.6833\n",
      "Epoch 134/150\n",
      "294/294 [==============================] - 4s 14ms/step - loss: 0.6888 - categorical_accuracy: 0.7331 - val_loss: 0.8049 - val_categorical_accuracy: 0.6894\n",
      "Epoch 135/150\n",
      "294/294 [==============================] - 4s 15ms/step - loss: 0.6906 - categorical_accuracy: 0.7295 - val_loss: 0.7892 - val_categorical_accuracy: 0.6944\n",
      "Epoch 136/150\n",
      "294/294 [==============================] - 4s 14ms/step - loss: 0.6845 - categorical_accuracy: 0.7355 - val_loss: 0.8197 - val_categorical_accuracy: 0.6854\n",
      "Epoch 137/150\n",
      "294/294 [==============================] - 4s 14ms/step - loss: 0.6876 - categorical_accuracy: 0.7347 - val_loss: 0.7817 - val_categorical_accuracy: 0.7056\n",
      "Epoch 138/150\n",
      "294/294 [==============================] - 4s 14ms/step - loss: 0.6860 - categorical_accuracy: 0.7348 - val_loss: 0.7904 - val_categorical_accuracy: 0.6929\n",
      "Epoch 139/150\n",
      "294/294 [==============================] - 4s 14ms/step - loss: 0.6817 - categorical_accuracy: 0.7371 - val_loss: 0.8157 - val_categorical_accuracy: 0.6722\n",
      "Epoch 140/150\n",
      "294/294 [==============================] - 4s 14ms/step - loss: 0.6839 - categorical_accuracy: 0.7386 - val_loss: 0.7886 - val_categorical_accuracy: 0.7020\n",
      "Epoch 141/150\n",
      "294/294 [==============================] - 4s 14ms/step - loss: 0.6822 - categorical_accuracy: 0.7390 - val_loss: 0.7955 - val_categorical_accuracy: 0.6980\n",
      "Epoch 142/150\n",
      "294/294 [==============================] - 4s 14ms/step - loss: 0.6832 - categorical_accuracy: 0.7342 - val_loss: 0.7822 - val_categorical_accuracy: 0.7025\n",
      "Epoch 143/150\n",
      "294/294 [==============================] - 4s 14ms/step - loss: 0.6788 - categorical_accuracy: 0.7357 - val_loss: 0.8019 - val_categorical_accuracy: 0.6970\n",
      "Epoch 144/150\n",
      "294/294 [==============================] - 4s 14ms/step - loss: 0.6854 - categorical_accuracy: 0.7348 - val_loss: 0.8140 - val_categorical_accuracy: 0.6889\n",
      "Epoch 145/150\n",
      "294/294 [==============================] - 4s 14ms/step - loss: 0.6828 - categorical_accuracy: 0.7333 - val_loss: 0.7776 - val_categorical_accuracy: 0.7071\n",
      "Epoch 146/150\n",
      "294/294 [==============================] - 5s 16ms/step - loss: 0.6831 - categorical_accuracy: 0.7370 - val_loss: 0.7970 - val_categorical_accuracy: 0.6965\n",
      "Epoch 147/150\n",
      "294/294 [==============================] - 4s 14ms/step - loss: 0.6826 - categorical_accuracy: 0.7331 - val_loss: 0.7807 - val_categorical_accuracy: 0.7020\n",
      "Epoch 148/150\n",
      "294/294 [==============================] - 4s 14ms/step - loss: 0.6810 - categorical_accuracy: 0.7379 - val_loss: 0.8236 - val_categorical_accuracy: 0.6838\n",
      "Epoch 149/150\n",
      "294/294 [==============================] - 5s 17ms/step - loss: 0.6825 - categorical_accuracy: 0.7347 - val_loss: 0.7829 - val_categorical_accuracy: 0.6995\n",
      "Epoch 150/150\n",
      "294/294 [==============================] - 5s 16ms/step - loss: 0.6764 - categorical_accuracy: 0.7359 - val_loss: 0.8069 - val_categorical_accuracy: 0.6939\n"
     ]
    }
   ],
   "source": [
    "cell_history1 = cell_model1.fit_generator(cell_train_generator1, validation_data = cell_validation_generator1, epochs=150)"
   ]
  },
  {
   "cell_type": "code",
   "execution_count": 54,
   "id": "f354a157",
   "metadata": {},
   "outputs": [
    {
     "data": {
      "image/png": "[encoded data removed]",
      "text/plain": [
       "<Figure size 720x360 with 2 Axes>"
      ]
     },
     "metadata": {
      "needs_background": "light"
     },
     "output_type": "display_data"
    }
   ],
   "source": [
    "plot_learning_curve(cell_history1.history['loss'], cell_history1.history['val_loss'], \n",
    "                    cell_history1.history['categorical_accuracy'], cell_history1.history['val_categorical_accuracy'], \n",
    "                    metric_name='Accuracy')"
   ]
  },
  {
   "cell_type": "code",
   "execution_count": 55,
   "id": "299286f2",
   "metadata": {},
   "outputs": [
    {
     "name": "stdout",
     "output_type": "stream",
     "text": [
      "INFO:tensorflow:Assets written to: predict_celltype_extra/assets\n"
     ]
    }
   ],
   "source": [
    "cell_model1.save(\"predict_celltype_extra\")"
   ]
  },
  {
   "cell_type": "code",
   "execution_count": 56,
   "id": "e7030026",
   "metadata": {},
   "outputs": [],
   "source": [
    "colon_extra = pd.read_csv(\"./Image_classification_data/data_labels_extraData.csv\")"
   ]
  },
  {
   "cell_type": "code",
   "execution_count": 57,
   "id": "b73eab50",
   "metadata": {},
   "outputs": [
    {
     "data": {
      "text/html": [
       "<div>\n",
       "<style scoped>\n",
       "    .dataframe tbody tr th:only-of-type {\n",
       "        vertical-align: middle;\n",
       "    }\n",
       "\n",
       "    .dataframe tbody tr th {\n",
       "        vertical-align: top;\n",
       "    }\n",
       "\n",
       "    .dataframe thead th {\n",
       "        text-align: right;\n",
       "    }\n",
       "</style>\n",
       "<table border=\"1\" class=\"dataframe\">\n",
       "  <thead>\n",
       "    <tr style=\"text-align: right;\">\n",
       "      <th></th>\n",
       "      <th>InstanceID</th>\n",
       "      <th>patientID</th>\n",
       "      <th>ImageName</th>\n",
       "      <th>isCancerous</th>\n",
       "    </tr>\n",
       "  </thead>\n",
       "  <tbody>\n",
       "    <tr>\n",
       "      <th>0</th>\n",
       "      <td>12681</td>\n",
       "      <td>61</td>\n",
       "      <td>12681.png</td>\n",
       "      <td>0</td>\n",
       "    </tr>\n",
       "    <tr>\n",
       "      <th>1</th>\n",
       "      <td>12682</td>\n",
       "      <td>61</td>\n",
       "      <td>12682.png</td>\n",
       "      <td>0</td>\n",
       "    </tr>\n",
       "    <tr>\n",
       "      <th>2</th>\n",
       "      <td>12683</td>\n",
       "      <td>61</td>\n",
       "      <td>12683.png</td>\n",
       "      <td>0</td>\n",
       "    </tr>\n",
       "    <tr>\n",
       "      <th>3</th>\n",
       "      <td>12684</td>\n",
       "      <td>61</td>\n",
       "      <td>12684.png</td>\n",
       "      <td>0</td>\n",
       "    </tr>\n",
       "    <tr>\n",
       "      <th>4</th>\n",
       "      <td>12685</td>\n",
       "      <td>61</td>\n",
       "      <td>12685.png</td>\n",
       "      <td>0</td>\n",
       "    </tr>\n",
       "  </tbody>\n",
       "</table>\n",
       "</div>"
      ],
      "text/plain": [
       "   InstanceID  patientID  ImageName  isCancerous\n",
       "0       12681         61  12681.png            0\n",
       "1       12682         61  12682.png            0\n",
       "2       12683         61  12683.png            0\n",
       "3       12684         61  12684.png            0\n",
       "4       12685         61  12685.png            0"
      ]
     },
     "execution_count": 57,
     "metadata": {},
     "output_type": "execute_result"
    }
   ],
   "source": [
    "colon_extra.head()"
   ]
  },
  {
   "cell_type": "code",
   "execution_count": 71,
   "id": "14a60bd8",
   "metadata": {},
   "outputs": [],
   "source": [
    "from sklearn.datasets import make_blobs\n",
    "\n",
    "X, colon_extra['cellType'], = make_blobs(n_samples=10384, centers=4, n_features=1, random_state=0)"
   ]
  },
  {
   "cell_type": "code",
   "execution_count": 72,
   "id": "6e956e2b",
   "metadata": {},
   "outputs": [
    {
     "data": {
      "text/html": [
       "<div>\n",
       "<style scoped>\n",
       "    .dataframe tbody tr th:only-of-type {\n",
       "        vertical-align: middle;\n",
       "    }\n",
       "\n",
       "    .dataframe tbody tr th {\n",
       "        vertical-align: top;\n",
       "    }\n",
       "\n",
       "    .dataframe thead th {\n",
       "        text-align: right;\n",
       "    }\n",
       "</style>\n",
       "<table border=\"1\" class=\"dataframe\">\n",
       "  <thead>\n",
       "    <tr style=\"text-align: right;\">\n",
       "      <th></th>\n",
       "      <th>InstanceID</th>\n",
       "      <th>patientID</th>\n",
       "      <th>ImageName</th>\n",
       "      <th>isCancerous</th>\n",
       "      <th>cellType</th>\n",
       "    </tr>\n",
       "  </thead>\n",
       "  <tbody>\n",
       "    <tr>\n",
       "      <th>0</th>\n",
       "      <td>12681</td>\n",
       "      <td>61</td>\n",
       "      <td>12681.png</td>\n",
       "      <td>0</td>\n",
       "      <td>0</td>\n",
       "    </tr>\n",
       "    <tr>\n",
       "      <th>1</th>\n",
       "      <td>12682</td>\n",
       "      <td>61</td>\n",
       "      <td>12682.png</td>\n",
       "      <td>0</td>\n",
       "      <td>1</td>\n",
       "    </tr>\n",
       "    <tr>\n",
       "      <th>2</th>\n",
       "      <td>12683</td>\n",
       "      <td>61</td>\n",
       "      <td>12683.png</td>\n",
       "      <td>0</td>\n",
       "      <td>2</td>\n",
       "    </tr>\n",
       "    <tr>\n",
       "      <th>3</th>\n",
       "      <td>12684</td>\n",
       "      <td>61</td>\n",
       "      <td>12684.png</td>\n",
       "      <td>0</td>\n",
       "      <td>3</td>\n",
       "    </tr>\n",
       "    <tr>\n",
       "      <th>4</th>\n",
       "      <td>12685</td>\n",
       "      <td>61</td>\n",
       "      <td>12685.png</td>\n",
       "      <td>0</td>\n",
       "      <td>3</td>\n",
       "    </tr>\n",
       "  </tbody>\n",
       "</table>\n",
       "</div>"
      ],
      "text/plain": [
       "   InstanceID  patientID  ImageName  isCancerous  cellType\n",
       "0       12681         61  12681.png            0         0\n",
       "1       12682         61  12682.png            0         1\n",
       "2       12683         61  12683.png            0         2\n",
       "3       12684         61  12684.png            0         3\n",
       "4       12685         61  12685.png            0         3"
      ]
     },
     "execution_count": 72,
     "metadata": {},
     "output_type": "execute_result"
    }
   ],
   "source": [
    "colon_extra.head()"
   ]
  },
  {
   "cell_type": "code",
   "execution_count": 73,
   "id": "8e3c43d9",
   "metadata": {},
   "outputs": [
    {
     "name": "stdout",
     "output_type": "stream",
     "text": [
      "Found 10384 validated image filenames belonging to 4 classes.\n"
     ]
    }
   ],
   "source": [
    "colon_extra['cellType'] = colon_extra['cellType'].astype('str')\n",
    "\n",
    "cell_predict_datagen = ImageDataGenerator(rescale=1./255, data_format='channels_last')\n",
    "\n",
    "batch_size = 1\n",
    "\n",
    "cell_predict_generator = cell_predict_datagen.flow_from_dataframe(\n",
    "        dataframe=colon_extra,\n",
    "        directory='./Image_classification_data/patch_images/',\n",
    "        x_col=\"ImageName\",\n",
    "        y_col=\"cellType\",\n",
    "        target_size=(27, 27),\n",
    "        batch_size=batch_size,\n",
    "        class_mode='categorical')"
   ]
  },
  {
   "cell_type": "code",
   "execution_count": 74,
   "id": "cd0e3540",
   "metadata": {},
   "outputs": [
    {
     "name": "stdout",
     "output_type": "stream",
     "text": [
      "10384/10384 [==============================] - 17s 2ms/step - loss: 3.1593 - categorical_accuracy: 0.2486\n"
     ]
    },
    {
     "data": {
      "text/plain": [
       "[3.159327268600464, 0.24855546653270721]"
      ]
     },
     "execution_count": 74,
     "metadata": {},
     "output_type": "execute_result"
    }
   ],
   "source": [
    "cell_model1.evaluate(cell_predict_generator)"
   ]
  },
  {
   "cell_type": "code",
   "execution_count": 75,
   "id": "32d13e57",
   "metadata": {},
   "outputs": [],
   "source": [
    "label_names = {'fibroblast': 0, 'inflammatory':1, 'epithelial': 2, 'others':3}"
   ]
  },
  {
   "cell_type": "code",
   "execution_count": 81,
   "id": "8259909e",
   "metadata": {},
   "outputs": [
    {
     "data": {
      "image/png": "[encoded data removed]",
      "text/plain": [
       "<Figure size 1152x288 with 4 Axes>"
      ]
     },
     "metadata": {
      "needs_background": "light"
     },
     "output_type": "display_data"
    }
   ],
   "source": [
    "d_inv = {v: k for k, v in label_names.items()}\n",
    "plt.figure(figsize=(16,4))\n",
    "batches = 0\n",
    "for x,y in cell_predict_generator:\n",
    "        batches = batches + 1\n",
    "        y_hat = cell_model1.predict(x, verbose=0)\n",
    "        x = np.squeeze(x)\n",
    "        if batches < 5:\n",
    "            plt.subplot(1,5,batches)\n",
    "            plt.imshow(x)\n",
    "            plt.title(\"GT-{}, Pred-{}\".format(d_inv[np.argmax(y[0])], d_inv[np.argmax(y_hat[0])] ))\n",
    "            \n",
    "        else:you syou\n",
    "            break\n",
    "        \n",
    "        plt.axis('off')"
   ]
  },
  {
   "cell_type": "code",
   "execution_count": null,
   "id": "0ee72e19",
   "metadata": {},
   "outputs": [],
   "source": []
  },
  {
   "cell_type": "code",
   "execution_count": null,
   "id": "3b0419cc",
   "metadata": {},
   "outputs": [],
   "source": []
  }
 ],
 "metadata": {
  "kernelspec": {
   "display_name": "conda_tensorflow_p36",
   "language": "python",
   "name": "conda_tensorflow_p36"
  },
  "language_info": {
   "codemirror_mode": {
    "name": "ipython",
    "version": 3
   },
   "file_extension": ".py",
   "mimetype": "text/x-python",
   "name": "python",
   "nbconvert_exporter": "python",
   "pygments_lexer": "ipython3",
   "version": "3.6.13"
  }
 },
 "nbformat": 4,
 "nbformat_minor": 5
}
