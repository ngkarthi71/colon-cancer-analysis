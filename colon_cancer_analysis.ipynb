{
 "cells": [
  {
   "cell_type": "code",
   "execution_count": 54,
   "id": "bcd3a765",
   "metadata": {},
   "outputs": [],
   "source": [
    "import numpy as np\n",
    "import pandas as pd\n",
    "import matplotlib.pyplot as plt\n",
    "import matplotlib.patches as patches\n",
    "import os\n",
    "import cv2 as cv\n",
    "\n",
    "import IPython.display as display\n",
    "from PIL import Image\n",
    "\n",
    "from sklearn.model_selection import train_test_split\n"
   ]
  },
  {
   "cell_type": "code",
   "execution_count": 55,
   "id": "6c7da127",
   "metadata": {},
   "outputs": [
    {
     "name": "stdout",
     "output_type": "stream",
     "text": [
      "2.5.0\n"
     ]
    }
   ],
   "source": [
    "import tensorflow as tf\n",
    "from tensorflow.keras.preprocessing.image import ImageDataGenerator\n",
    "from tensorflow.keras.models import load_model\n",
    "from tensorflow.keras.models import Model\n",
    "from tensorflow.keras.layers import Dense\n",
    "from tensorflow.keras.layers import Flatten\n",
    "\n",
    "AUTOTUNE = tf.data.experimental.AUTOTUNE\n",
    "\n",
    "print(tf.__version__)"
   ]
  },
  {
   "cell_type": "code",
   "execution_count": 56,
   "id": "e0f71f84",
   "metadata": {},
   "outputs": [],
   "source": [
    "colon_main = pd.read_csv(\"./Image_classification_data/data_labels_mainData.csv\")"
   ]
  },
  {
   "cell_type": "code",
   "execution_count": 57,
   "id": "e4eb26ea",
   "metadata": {},
   "outputs": [
    {
     "data": {
      "text/html": [
       "<div>\n",
       "<style scoped>\n",
       "    .dataframe tbody tr th:only-of-type {\n",
       "        vertical-align: middle;\n",
       "    }\n",
       "\n",
       "    .dataframe tbody tr th {\n",
       "        vertical-align: top;\n",
       "    }\n",
       "\n",
       "    .dataframe thead th {\n",
       "        text-align: right;\n",
       "    }\n",
       "</style>\n",
       "<table border=\"1\" class=\"dataframe\">\n",
       "  <thead>\n",
       "    <tr style=\"text-align: right;\">\n",
       "      <th></th>\n",
       "      <th>InstanceID</th>\n",
       "      <th>patientID</th>\n",
       "      <th>ImageName</th>\n",
       "      <th>cellTypeName</th>\n",
       "      <th>cellType</th>\n",
       "      <th>isCancerous</th>\n",
       "    </tr>\n",
       "  </thead>\n",
       "  <tbody>\n",
       "    <tr>\n",
       "      <th>0</th>\n",
       "      <td>22405</td>\n",
       "      <td>1</td>\n",
       "      <td>22405.png</td>\n",
       "      <td>fibroblast</td>\n",
       "      <td>0</td>\n",
       "      <td>0</td>\n",
       "    </tr>\n",
       "    <tr>\n",
       "      <th>1</th>\n",
       "      <td>22406</td>\n",
       "      <td>1</td>\n",
       "      <td>22406.png</td>\n",
       "      <td>fibroblast</td>\n",
       "      <td>0</td>\n",
       "      <td>0</td>\n",
       "    </tr>\n",
       "    <tr>\n",
       "      <th>2</th>\n",
       "      <td>22407</td>\n",
       "      <td>1</td>\n",
       "      <td>22407.png</td>\n",
       "      <td>fibroblast</td>\n",
       "      <td>0</td>\n",
       "      <td>0</td>\n",
       "    </tr>\n",
       "    <tr>\n",
       "      <th>3</th>\n",
       "      <td>22408</td>\n",
       "      <td>1</td>\n",
       "      <td>22408.png</td>\n",
       "      <td>fibroblast</td>\n",
       "      <td>0</td>\n",
       "      <td>0</td>\n",
       "    </tr>\n",
       "    <tr>\n",
       "      <th>4</th>\n",
       "      <td>22409</td>\n",
       "      <td>1</td>\n",
       "      <td>22409.png</td>\n",
       "      <td>fibroblast</td>\n",
       "      <td>0</td>\n",
       "      <td>0</td>\n",
       "    </tr>\n",
       "  </tbody>\n",
       "</table>\n",
       "</div>"
      ],
      "text/plain": [
       "   InstanceID  patientID  ImageName cellTypeName  cellType  isCancerous\n",
       "0       22405          1  22405.png   fibroblast         0            0\n",
       "1       22406          1  22406.png   fibroblast         0            0\n",
       "2       22407          1  22407.png   fibroblast         0            0\n",
       "3       22408          1  22408.png   fibroblast         0            0\n",
       "4       22409          1  22409.png   fibroblast         0            0"
      ]
     },
     "execution_count": 57,
     "metadata": {},
     "output_type": "execute_result"
    }
   ],
   "source": [
    "colon_main.head()"
   ]
  },
  {
   "cell_type": "code",
   "execution_count": 58,
   "id": "62ff716c",
   "metadata": {},
   "outputs": [],
   "source": [
    "colon_main.drop(['cellTypeName'], axis=1, inplace=True)"
   ]
  },
  {
   "cell_type": "code",
   "execution_count": 59,
   "id": "26e23ee3",
   "metadata": {},
   "outputs": [
    {
     "data": {
      "text/plain": [
       "InstanceID      int64\n",
       "patientID       int64\n",
       "ImageName      object\n",
       "cellType        int64\n",
       "isCancerous     int64\n",
       "dtype: object"
      ]
     },
     "execution_count": 59,
     "metadata": {},
     "output_type": "execute_result"
    }
   ],
   "source": [
    "colon_main.dtypes"
   ]
  },
  {
   "cell_type": "code",
   "execution_count": 60,
   "id": "d1f4fe9a",
   "metadata": {},
   "outputs": [
    {
     "data": {
      "text/plain": [
       "InstanceID     0\n",
       "patientID      0\n",
       "ImageName      0\n",
       "cellType       0\n",
       "isCancerous    0\n",
       "dtype: int64"
      ]
     },
     "execution_count": 60,
     "metadata": {},
     "output_type": "execute_result"
    }
   ],
   "source": [
    "colon_main.isnull().sum()"
   ]
  },
  {
   "cell_type": "code",
   "execution_count": 61,
   "id": "2901bbeb",
   "metadata": {},
   "outputs": [
    {
     "name": "stdout",
     "output_type": "stream",
     "text": [
      "Train data : 5937, \n",
      "Val Data: 1979, \n",
      "Test Data: 1980\n"
     ]
    }
   ],
   "source": [
    "train_data, test_data = train_test_split(colon_main, test_size=0.2, random_state=42)\n",
    "train_data, val_data = train_test_split(train_data, test_size=0.25, random_state=42)\n",
    "\n",
    "print(\"Train data : {}, \\nVal Data: {}, \\nTest Data: {}\".format(train_data.shape[0], val_data.shape[0], test_data.shape[0]))"
   ]
  },
  {
   "cell_type": "code",
   "execution_count": 62,
   "id": "9d4ce318",
   "metadata": {},
   "outputs": [],
   "source": [
    "def plot_learning_curve(train_loss, val_loss, train_metric, val_metric, metric_name='Accuracy'):\n",
    "    plt.figure(figsize=(10,5))\n",
    "    \n",
    "    plt.subplot(1,2,1)\n",
    "    plt.plot(train_loss, 'r--')\n",
    "    plt.plot(val_loss, 'b--')\n",
    "    plt.xlabel(\"epochs\")\n",
    "    plt.ylabel(\"Loss\")\n",
    "    plt.legend(['train', 'val'], loc='upper left')\n",
    "\n",
    "    plt.subplot(1,2,2)\n",
    "    plt.plot(train_metric, 'r--')\n",
    "    plt.plot(val_metric, 'b--')\n",
    "    plt.xlabel(\"epochs\")\n",
    "    plt.ylabel(metric_name)\n",
    "    plt.legend(['train', 'val'], loc='upper left')\n",
    "\n",
    "    plt.show()"
   ]
  },
  {
   "cell_type": "code",
   "execution_count": 63,
   "id": "46a0289d",
   "metadata": {},
   "outputs": [],
   "source": [
    "#import os, shutil, glob\n",
    "\n",
    "#src_dir = \"./Image_classification_data/patch_images\"\n",
    "#dst_dir = \"./Image_classification_data/main_images\"\n",
    "\n",
    "#for img in colon_main['ImageName']:\n",
    "#    shutil.copy(os.path.join(src_dir, img), dst_dir)\n",
    "    "
   ]
  },
  {
   "cell_type": "code",
   "execution_count": null,
   "id": "3dbe0b59",
   "metadata": {},
   "outputs": [],
   "source": []
  },
  {
   "cell_type": "markdown",
   "id": "4a4962b7",
   "metadata": {},
   "source": [
    "# Approach for the task 3\n",
    "### 1. Initializing the extra data\n",
    "### 2. Split the data into 3 equal halves\n",
    "### 3. Predict the cellType for the 1st batch of data using the previously saved model\n",
    "### 4. Replace the cellType 1st batch of data\n",
    "### 5. Load the base neural netwwork model\n",
    "### 6. Train the base model with the concept of transfer learning\n",
    "### 7. Repeat Steps 3 - 6 for the other 2 batches of data"
   ]
  },
  {
   "cell_type": "code",
   "execution_count": 64,
   "id": "7893ccb2",
   "metadata": {},
   "outputs": [],
   "source": [
    "colon_extra = pd.read_csv(\"./Image_classification_data/data_labels_extraData.csv\")"
   ]
  },
  {
   "cell_type": "code",
   "execution_count": 65,
   "id": "805b013c",
   "metadata": {},
   "outputs": [],
   "source": [
    "#import os, shutil, glob\n",
    "\n",
    "#src_dir = \"./Image_classification_data/patch_images\"\n",
    "#dst_dir = \"./Image_classification_data/extra_images\"\n",
    "\n",
    "#for img in colon_extra['ImageName']:\n",
    "    \n",
    "#    shutil.copy(os.path.join(src_dir, img), dst_dir)\n",
    "    "
   ]
  },
  {
   "cell_type": "code",
   "execution_count": 66,
   "id": "b11f7e2b",
   "metadata": {},
   "outputs": [
    {
     "name": "stdout",
     "output_type": "stream",
     "text": [
      "Batch 1 : 3462, \n",
      "Batch 2: 3461, \n",
      "Batch 3: 3461\n"
     ]
    }
   ],
   "source": [
    "train_data, train_data_1 = train_test_split(colon_extra, test_size=colon_extra.shape[0]//3, random_state=42)\n",
    "train_data, train_data_2 = train_test_split(train_data, test_size=colon_extra.shape[0]//3, random_state=42)\n",
    "\n",
    "print(\"Batch 1 : {}, \\nBatch 2: {}, \\nBatch 3: {}\".format(train_data.shape[0], train_data_1.shape[0], train_data_2.shape[0]))"
   ]
  },
  {
   "cell_type": "code",
   "execution_count": 67,
   "id": "57e60466",
   "metadata": {},
   "outputs": [
    {
     "data": {
      "text/html": [
       "<div>\n",
       "<style scoped>\n",
       "    .dataframe tbody tr th:only-of-type {\n",
       "        vertical-align: middle;\n",
       "    }\n",
       "\n",
       "    .dataframe tbody tr th {\n",
       "        vertical-align: top;\n",
       "    }\n",
       "\n",
       "    .dataframe thead th {\n",
       "        text-align: right;\n",
       "    }\n",
       "</style>\n",
       "<table border=\"1\" class=\"dataframe\">\n",
       "  <thead>\n",
       "    <tr style=\"text-align: right;\">\n",
       "      <th></th>\n",
       "      <th>InstanceID</th>\n",
       "      <th>patientID</th>\n",
       "      <th>ImageName</th>\n",
       "      <th>isCancerous</th>\n",
       "    </tr>\n",
       "  </thead>\n",
       "  <tbody>\n",
       "    <tr>\n",
       "      <th>6837</th>\n",
       "      <td>9612</td>\n",
       "      <td>86</td>\n",
       "      <td>9612.png</td>\n",
       "      <td>0</td>\n",
       "    </tr>\n",
       "    <tr>\n",
       "      <th>7097</th>\n",
       "      <td>12301</td>\n",
       "      <td>87</td>\n",
       "      <td>12301.png</td>\n",
       "      <td>0</td>\n",
       "    </tr>\n",
       "    <tr>\n",
       "      <th>9420</th>\n",
       "      <td>21326</td>\n",
       "      <td>92</td>\n",
       "      <td>21326.png</td>\n",
       "      <td>0</td>\n",
       "    </tr>\n",
       "    <tr>\n",
       "      <th>9074</th>\n",
       "      <td>19498</td>\n",
       "      <td>91</td>\n",
       "      <td>19498.png</td>\n",
       "      <td>0</td>\n",
       "    </tr>\n",
       "    <tr>\n",
       "      <th>5483</th>\n",
       "      <td>17855</td>\n",
       "      <td>82</td>\n",
       "      <td>17855.png</td>\n",
       "      <td>0</td>\n",
       "    </tr>\n",
       "  </tbody>\n",
       "</table>\n",
       "</div>"
      ],
      "text/plain": [
       "      InstanceID  patientID  ImageName  isCancerous\n",
       "6837        9612         86   9612.png            0\n",
       "7097       12301         87  12301.png            0\n",
       "9420       21326         92  21326.png            0\n",
       "9074       19498         91  19498.png            0\n",
       "5483       17855         82  17855.png            0"
      ]
     },
     "execution_count": 67,
     "metadata": {},
     "output_type": "execute_result"
    }
   ],
   "source": [
    "train_data.head()"
   ]
  },
  {
   "cell_type": "markdown",
   "id": "f76c0a6d",
   "metadata": {},
   "source": [
    "## Batch - 1 Training"
   ]
  },
  {
   "cell_type": "code",
   "execution_count": 68,
   "id": "50ffe6ec",
   "metadata": {},
   "outputs": [],
   "source": [
    "base_model = load_model(\"predict_celltype.h5\")"
   ]
  },
  {
   "cell_type": "code",
   "execution_count": 69,
   "id": "9fc88909",
   "metadata": {},
   "outputs": [],
   "source": [
    "from sklearn.datasets import make_blobs\n",
    "from sklearn.preprocessing import MinMaxScaler\n",
    "\n",
    "X, train_data['cellType'], = make_blobs(n_samples=3462, centers=4, n_features=1, random_state=42)\n"
   ]
  },
  {
   "cell_type": "code",
   "execution_count": 70,
   "id": "f1abc97b",
   "metadata": {},
   "outputs": [
    {
     "data": {
      "text/plain": [
       "array([0, 1, 2, 3])"
      ]
     },
     "execution_count": 70,
     "metadata": {},
     "output_type": "execute_result"
    }
   ],
   "source": [
    "np.unique(train_data['cellType'])"
   ]
  },
  {
   "cell_type": "code",
   "execution_count": 71,
   "id": "665583c7",
   "metadata": {},
   "outputs": [
    {
     "data": {
      "text/plain": [
       "(3462, 5)"
      ]
     },
     "execution_count": 71,
     "metadata": {},
     "output_type": "execute_result"
    }
   ],
   "source": [
    "train_data.shape"
   ]
  },
  {
   "cell_type": "code",
   "execution_count": 72,
   "id": "c1ea55c9",
   "metadata": {},
   "outputs": [
    {
     "name": "stdout",
     "output_type": "stream",
     "text": [
      "Found 3462 validated image filenames belonging to 4 classes.\n"
     ]
    },
    {
     "name": "stderr",
     "output_type": "stream",
     "text": [
      "/home/ec2-user/anaconda3/envs/tensorflow_p36/lib/python3.6/site-packages/keras_preprocessing/image/image_data_generator.py:349: UserWarning: This ImageDataGenerator specifies `featurewise_std_normalization`, which overrides setting of `featurewise_center`.\n",
      "  warnings.warn('This ImageDataGenerator specifies '\n",
      "/home/ec2-user/anaconda3/envs/tensorflow_p36/lib/python3.6/site-packages/keras_preprocessing/image/image_data_generator.py:356: UserWarning: This ImageDataGenerator specifies `samplewise_std_normalization`, which overrides setting of `samplewise_center`.\n",
      "  warnings.warn('This ImageDataGenerator specifies '\n"
     ]
    }
   ],
   "source": [
    "train_data['cellType'] = train_data['cellType'].astype('str')\n",
    "\n",
    "cell_train_datagen = ImageDataGenerator(\n",
    "                                rescale=1./255, \n",
    "                                data_format='channels_last',\n",
    "                                rotation_range=30, \n",
    "                                width_shift_range=0.2,\n",
    "                                height_shift_range=0.2,\n",
    "                                zoom_range = 0.2,\n",
    "                                featurewise_std_normalization=True,\n",
    "                                samplewise_std_normalization=True)\n",
    "\n",
    "batch_size = 1\n",
    "\n",
    "cell_train_generator = cell_train_datagen.flow_from_dataframe(\n",
    "        dataframe=train_data,\n",
    "        directory='./Image_classification_data/extra_images/',\n",
    "        x_col=\"ImageName\",\n",
    "        y_col=\"cellType\",\n",
    "        target_size=(27, 27),\n",
    "        batch_size=batch_size,\n",
    "        class_mode='categorical')"
   ]
  },
  {
   "cell_type": "code",
   "execution_count": 73,
   "id": "62abf9b5",
   "metadata": {},
   "outputs": [
    {
     "name": "stderr",
     "output_type": "stream",
     "text": [
      "/home/ec2-user/anaconda3/envs/tensorflow_p36/lib/python3.6/site-packages/keras_preprocessing/image/image_data_generator.py:720: UserWarning: This ImageDataGenerator specifies `featurewise_center`, but it hasn't been fit on any training data. Fit it first by calling `.fit(numpy_data)`.\n",
      "  warnings.warn('This ImageDataGenerator specifies '\n",
      "/home/ec2-user/anaconda3/envs/tensorflow_p36/lib/python3.6/site-packages/keras_preprocessing/image/image_data_generator.py:728: UserWarning: This ImageDataGenerator specifies `featurewise_std_normalization`, but it hasn't been fit on any training data. Fit it first by calling `.fit(numpy_data)`.\n",
      "  warnings.warn('This ImageDataGenerator specifies '\n"
     ]
    },
    {
     "name": "stdout",
     "output_type": "stream",
     "text": [
      "3462/3462 [==============================] - 9s 2ms/step - loss: 3.4509 - categorical_accuracy: 0.2571\n"
     ]
    },
    {
     "data": {
      "text/plain": [
       "[3.4509260654449463, 0.25707682967185974]"
      ]
     },
     "execution_count": 73,
     "metadata": {},
     "output_type": "execute_result"
    }
   ],
   "source": [
    "base_model.evaluate(cell_train_generator)"
   ]
  },
  {
   "cell_type": "code",
   "execution_count": 74,
   "id": "3a0a9e26",
   "metadata": {},
   "outputs": [],
   "source": [
    "preds = []\n",
    "filenames = cell_train_generator.filenames\n",
    "N_images = len(filenames)\n",
    "batches = 0\n",
    "\n",
    "for i in range(0, 3462):\n",
    "    preds.append(np.argmax(base_model.predict(cell_train_generator[i][0])))\n",
    "    batches += 1\n",
    "    if batches >= N_images / 1:\n",
    "        break"
   ]
  },
  {
   "cell_type": "code",
   "execution_count": 75,
   "id": "aa51ae97",
   "metadata": {},
   "outputs": [],
   "source": [
    "train_data.drop(['cellType'], axis=1, inplace=True)\n",
    "train_data['cellType'] = preds"
   ]
  },
  {
   "cell_type": "code",
   "execution_count": 76,
   "id": "fc3a5bc5",
   "metadata": {},
   "outputs": [
    {
     "data": {
      "text/plain": [
       "(3462, 5)"
      ]
     },
     "execution_count": 76,
     "metadata": {},
     "output_type": "execute_result"
    }
   ],
   "source": [
    "train_data.shape"
   ]
  },
  {
   "cell_type": "code",
   "execution_count": 77,
   "id": "f9262e7e",
   "metadata": {},
   "outputs": [
    {
     "data": {
      "text/plain": [
       "(13358, 5)"
      ]
     },
     "execution_count": 77,
     "metadata": {},
     "output_type": "execute_result"
    }
   ],
   "source": [
    "train_batch_1 = pd.concat([colon_main, train_data])\n",
    "train_batch_1.shape"
   ]
  },
  {
   "cell_type": "code",
   "execution_count": 78,
   "id": "a4d560f4",
   "metadata": {},
   "outputs": [
    {
     "name": "stdout",
     "output_type": "stream",
     "text": [
      "Train data : 8014, \n",
      "Val Data: 2672, \n",
      "Test Data: 2672\n"
     ]
    }
   ],
   "source": [
    "train_data, test_data = train_test_split(train_batch_1, test_size=0.2, random_state=42)\n",
    "train_data, val_data = train_test_split(train_data, test_size=0.25, random_state=42)\n",
    "\n",
    "print(\"Train data : {}, \\nVal Data: {}, \\nTest Data: {}\".format(train_data.shape[0], val_data.shape[0], test_data.shape[0]))"
   ]
  },
  {
   "cell_type": "code",
   "execution_count": 79,
   "id": "63c4820f",
   "metadata": {},
   "outputs": [
    {
     "name": "stdout",
     "output_type": "stream",
     "text": [
      "Found 8014 validated image filenames belonging to 4 classes.\n",
      "Found 2672 validated image filenames belonging to 4 classes.\n"
     ]
    },
    {
     "name": "stderr",
     "output_type": "stream",
     "text": [
      "/home/ec2-user/anaconda3/envs/tensorflow_p36/lib/python3.6/site-packages/keras_preprocessing/image/image_data_generator.py:349: UserWarning: This ImageDataGenerator specifies `featurewise_std_normalization`, which overrides setting of `featurewise_center`.\n",
      "  warnings.warn('This ImageDataGenerator specifies '\n",
      "/home/ec2-user/anaconda3/envs/tensorflow_p36/lib/python3.6/site-packages/keras_preprocessing/image/image_data_generator.py:356: UserWarning: This ImageDataGenerator specifies `samplewise_std_normalization`, which overrides setting of `samplewise_center`.\n",
      "  warnings.warn('This ImageDataGenerator specifies '\n"
     ]
    }
   ],
   "source": [
    "train_data['cellType'] = train_data['cellType'].astype('str')\n",
    "val_data['cellType'] = val_data['cellType'].astype('str')\n",
    "\n",
    "cell_train_datagen = ImageDataGenerator(rescale=1./255, \n",
    "                                data_format='channels_last',\n",
    "                                rotation_range=30, \n",
    "                                width_shift_range=0.2,\n",
    "                                height_shift_range=0.2,\n",
    "                                zoom_range = 0.2,\n",
    "                                featurewise_std_normalization=True,\n",
    "                                samplewise_std_normalization=True)\n",
    "cell_val_datagen = ImageDataGenerator(rescale=1./255, \n",
    "                                data_format='channels_last',\n",
    "                                rotation_range=30, \n",
    "                                width_shift_range=0.2,\n",
    "                                height_shift_range=0.2,\n",
    "                                zoom_range = 0.2,\n",
    "                                featurewise_std_normalization=True,\n",
    "                                samplewise_std_normalization=True)\n",
    "\n",
    "batch_size = 27\n",
    "\n",
    "cell_train_generator_1 = cell_train_datagen.flow_from_dataframe(\n",
    "        dataframe=train_data,\n",
    "        directory='./Image_classification_data/patch_images/',\n",
    "        x_col=\"ImageName\",\n",
    "        y_col=\"cellType\",\n",
    "        target_size=(27, 27),\n",
    "        batch_size=batch_size,\n",
    "        class_mode='categorical')\n",
    "\n",
    "cell_validation_generator_1 = cell_val_datagen.flow_from_dataframe(\n",
    "        dataframe=val_data,\n",
    "        directory='./Image_classification_data/patch_images/',\n",
    "        x_col=\"ImageName\",\n",
    "        y_col=\"cellType\",\n",
    "        target_size=(27, 27),\n",
    "        batch_size=batch_size,\n",
    "        class_mode='categorical')"
   ]
  },
  {
   "cell_type": "code",
   "execution_count": 80,
   "id": "d904322b",
   "metadata": {},
   "outputs": [
    {
     "name": "stdout",
     "output_type": "stream",
     "text": [
      "Model: \"model_3\"\n",
      "_________________________________________________________________\n",
      "Layer (type)                 Output Shape              Param #   \n",
      "=================================================================\n",
      "input_4 (InputLayer)         [(None, 27, 27, 3)]       0         \n",
      "_________________________________________________________________\n",
      "sequential (Sequential)      (None, 4)                 107160    \n",
      "_________________________________________________________________\n",
      "dense_6 (Dense)              (None, 1024)              5120      \n",
      "_________________________________________________________________\n",
      "dense_7 (Dense)              (None, 4)                 4100      \n",
      "=================================================================\n",
      "Total params: 116,380\n",
      "Trainable params: 9,220\n",
      "Non-trainable params: 107,160\n",
      "_________________________________________________________________\n"
     ]
    }
   ],
   "source": [
    "reg_lambda = 0.001\n",
    "base_model.trainable = False\n",
    "# add new classifier layers\n",
    "\n",
    "inputs = tf.keras.Input(shape=(27, 27, 3))\n",
    "x = base_model(inputs, training=False)\n",
    "class1 = Dense(1024, activation='relu')(x)\n",
    "outputs = tf.keras.layers.Dense(4, activation='softmax', kernel_regularizer=tf.keras.regularizers.l2(reg_lambda))(class1)\n",
    "model = tf.keras.Model(inputs, outputs)\n",
    "\n",
    "sgd = tf.keras.optimizers.SGD(learning_rate=0.01, decay=1e-6, momentum=0.9, nesterov=True)\n",
    "model.compile(optimizer=sgd,\n",
    "              loss=tf.keras.losses.CategoricalCrossentropy(from_logits=False),\n",
    "              metrics=['categorical_accuracy'])\n",
    "\n",
    "model.summary()"
   ]
  },
  {
   "cell_type": "code",
   "execution_count": 81,
   "id": "e5d66072",
   "metadata": {},
   "outputs": [
    {
     "name": "stderr",
     "output_type": "stream",
     "text": [
      "/home/ec2-user/anaconda3/envs/tensorflow_p36/lib/python3.6/site-packages/tensorflow/python/keras/engine/training.py:1940: UserWarning: `Model.fit_generator` is deprecated and will be removed in a future version. Please use `Model.fit`, which supports generators.\n",
      "  warnings.warn('`Model.fit_generator` is deprecated and '\n",
      "/home/ec2-user/anaconda3/envs/tensorflow_p36/lib/python3.6/site-packages/keras_preprocessing/image/image_data_generator.py:720: UserWarning: This ImageDataGenerator specifies `featurewise_center`, but it hasn't been fit on any training data. Fit it first by calling `.fit(numpy_data)`.\n",
      "  warnings.warn('This ImageDataGenerator specifies '\n",
      "/home/ec2-user/anaconda3/envs/tensorflow_p36/lib/python3.6/site-packages/keras_preprocessing/image/image_data_generator.py:728: UserWarning: This ImageDataGenerator specifies `featurewise_std_normalization`, but it hasn't been fit on any training data. Fit it first by calling `.fit(numpy_data)`.\n",
      "  warnings.warn('This ImageDataGenerator specifies '\n"
     ]
    },
    {
     "data": {
      "image/png": "[encoded data removed]",
      "text/plain": [
       "<Figure size 720x360 with 2 Axes>"
      ]
     },
     "metadata": {
      "needs_background": "light"
     },
     "output_type": "display_data"
    }
   ],
   "source": [
    "cell_history = model.fit_generator(cell_train_generator_1, validation_data = cell_validation_generator_1, epochs=25, steps_per_epoch=4, verbose=0)\n",
    "\n",
    "plot_learning_curve(cell_history.history['loss'], cell_history.history['val_loss'], \n",
    "                    cell_history.history['categorical_accuracy'], cell_history.history['val_categorical_accuracy'], \n",
    "                    metric_name='Accuracy')"
   ]
  },
  {
   "cell_type": "code",
   "execution_count": 82,
   "id": "8dc76733",
   "metadata": {},
   "outputs": [
    {
     "name": "stdout",
     "output_type": "stream",
     "text": [
      "Found 2672 validated image filenames belonging to 4 classes.\n",
      "  42/2672 [..............................] - ETA: 6s - loss: 1.0370 - categorical_accuracy: 0.5952    "
     ]
    },
    {
     "name": "stderr",
     "output_type": "stream",
     "text": [
      "/home/ec2-user/anaconda3/envs/tensorflow_p36/lib/python3.6/site-packages/ipykernel/__main__.py:1: SettingWithCopyWarning: \n",
      "A value is trying to be set on a copy of a slice from a DataFrame.\n",
      "Try using .loc[row_indexer,col_indexer] = value instead\n",
      "\n",
      "See the caveats in the documentation: https://pandas.pydata.org/pandas-docs/stable/user_guide/indexing.html#returning-a-view-versus-a-copy\n",
      "  if __name__ == '__main__':\n",
      "/home/ec2-user/anaconda3/envs/tensorflow_p36/lib/python3.6/site-packages/keras_preprocessing/image/image_data_generator.py:349: UserWarning: This ImageDataGenerator specifies `featurewise_std_normalization`, which overrides setting of `featurewise_center`.\n",
      "  warnings.warn('This ImageDataGenerator specifies '\n",
      "/home/ec2-user/anaconda3/envs/tensorflow_p36/lib/python3.6/site-packages/keras_preprocessing/image/image_data_generator.py:356: UserWarning: This ImageDataGenerator specifies `samplewise_std_normalization`, which overrides setting of `samplewise_center`.\n",
      "  warnings.warn('This ImageDataGenerator specifies '\n",
      "/home/ec2-user/anaconda3/envs/tensorflow_p36/lib/python3.6/site-packages/keras_preprocessing/image/image_data_generator.py:720: UserWarning: This ImageDataGenerator specifies `featurewise_center`, but it hasn't been fit on any training data. Fit it first by calling `.fit(numpy_data)`.\n",
      "  warnings.warn('This ImageDataGenerator specifies '\n",
      "/home/ec2-user/anaconda3/envs/tensorflow_p36/lib/python3.6/site-packages/keras_preprocessing/image/image_data_generator.py:728: UserWarning: This ImageDataGenerator specifies `featurewise_std_normalization`, but it hasn't been fit on any training data. Fit it first by calling `.fit(numpy_data)`.\n",
      "  warnings.warn('This ImageDataGenerator specifies '\n"
     ]
    },
    {
     "name": "stdout",
     "output_type": "stream",
     "text": [
      "2672/2672 [==============================] - 7s 2ms/step - loss: 0.9538 - categorical_accuracy: 0.6879\n"
     ]
    },
    {
     "data": {
      "text/plain": [
       "[0.9537730813026428, 0.6878742575645447]"
      ]
     },
     "execution_count": 82,
     "metadata": {},
     "output_type": "execute_result"
    }
   ],
   "source": [
    "test_data['cellType'] = test_data['cellType'].astype('str')\n",
    "\n",
    "cell_test_datagen = ImageDataGenerator(                               \n",
    "                                rescale=1./255, \n",
    "                                data_format='channels_last',\n",
    "                                rotation_range=30, \n",
    "                                width_shift_range=0.2,\n",
    "                                height_shift_range=0.2,\n",
    "                                zoom_range = 0.2,\n",
    "                                featurewise_std_normalization=True,\n",
    "                                samplewise_std_normalization=True)\n",
    "\n",
    "batch_size = 1\n",
    "\n",
    "cell_test_generator = cell_test_datagen.flow_from_dataframe(\n",
    "        dataframe=test_data,\n",
    "        directory='./Image_classification_data/patch_images/',\n",
    "        x_col=\"ImageName\",\n",
    "        y_col=\"cellType\",\n",
    "        target_size=(27, 27),\n",
    "        batch_size=batch_size,\n",
    "        class_mode='categorical')\n",
    "\n",
    "model.evaluate(cell_test_generator)"
   ]
  },
  {
   "cell_type": "markdown",
   "id": "eef3ed07",
   "metadata": {},
   "source": [
    "# Batch - 1 Fine Tuning"
   ]
  },
  {
   "cell_type": "code",
   "execution_count": 83,
   "id": "ab473e1b",
   "metadata": {},
   "outputs": [
    {
     "name": "stdout",
     "output_type": "stream",
     "text": [
      "Model: \"model_4\"\n",
      "_________________________________________________________________\n",
      "Layer (type)                 Output Shape              Param #   \n",
      "=================================================================\n",
      "input_5 (InputLayer)         [(None, 27, 27, 3)]       0         \n",
      "_________________________________________________________________\n",
      "sequential (Sequential)      (None, 4)                 107160    \n",
      "_________________________________________________________________\n",
      "dense_8 (Dense)              (None, 1024)              5120      \n",
      "_________________________________________________________________\n",
      "dense_9 (Dense)              (None, 4)                 4100      \n",
      "=================================================================\n",
      "Total params: 116,380\n",
      "Trainable params: 116,380\n",
      "Non-trainable params: 0\n",
      "_________________________________________________________________\n"
     ]
    }
   ],
   "source": [
    "reg_lambda = 0.001\n",
    "base_model.trainable = True\n",
    "# add new classifier layers\n",
    "\n",
    "inputs = tf.keras.Input(shape=(27, 27, 3))\n",
    "x = base_model(inputs, training=True)\n",
    "class1 = Dense(1024, activation='relu')(x)\n",
    "outputs = tf.keras.layers.Dense(4, activation='softmax', kernel_regularizer=tf.keras.regularizers.l2(reg_lambda))(class1)\n",
    "final_model = tf.keras.Model(inputs, outputs)\n",
    "\n",
    "sgd = tf.keras.optimizers.SGD(learning_rate=0.01, decay=1e-6, momentum=0.9, nesterov=True)\n",
    "final_model.compile(optimizer=sgd,\n",
    "              loss=tf.keras.losses.CategoricalCrossentropy(from_logits=False),\n",
    "              metrics=['categorical_accuracy'])\n",
    "\n",
    "final_model.summary()"
   ]
  },
  {
   "cell_type": "code",
   "execution_count": 84,
   "id": "e099f29e",
   "metadata": {},
   "outputs": [
    {
     "name": "stderr",
     "output_type": "stream",
     "text": [
      "/home/ec2-user/anaconda3/envs/tensorflow_p36/lib/python3.6/site-packages/tensorflow/python/keras/engine/training.py:1940: UserWarning: `Model.fit_generator` is deprecated and will be removed in a future version. Please use `Model.fit`, which supports generators.\n",
      "  warnings.warn('`Model.fit_generator` is deprecated and '\n"
     ]
    },
    {
     "data": {
      "image/png": "[encoded data removed]",
      "text/plain": [
       "<Figure size 720x360 with 2 Axes>"
      ]
     },
     "metadata": {
      "needs_background": "light"
     },
     "output_type": "display_data"
    }
   ],
   "source": [
    "cell_history_train = model.fit_generator(cell_train_generator_1, validation_data = cell_validation_generator_1, epochs=50, steps_per_epoch=4, verbose=0)\n",
    "\n",
    "plot_learning_curve(cell_history_train.history['loss'], cell_history_train.history['val_loss'], \n",
    "                    cell_history_train.history['categorical_accuracy'], cell_history_train.history['val_categorical_accuracy'], \n",
    "                    metric_name='Accuracy')"
   ]
  },
  {
   "cell_type": "code",
   "execution_count": 85,
   "id": "eddd301a",
   "metadata": {},
   "outputs": [
    {
     "name": "stderr",
     "output_type": "stream",
     "text": [
      "/home/ec2-user/anaconda3/envs/tensorflow_p36/lib/python3.6/site-packages/ipykernel/__main__.py:1: SettingWithCopyWarning: \n",
      "A value is trying to be set on a copy of a slice from a DataFrame.\n",
      "Try using .loc[row_indexer,col_indexer] = value instead\n",
      "\n",
      "See the caveats in the documentation: https://pandas.pydata.org/pandas-docs/stable/user_guide/indexing.html#returning-a-view-versus-a-copy\n",
      "  if __name__ == '__main__':\n",
      "/home/ec2-user/anaconda3/envs/tensorflow_p36/lib/python3.6/site-packages/keras_preprocessing/image/image_data_generator.py:349: UserWarning: This ImageDataGenerator specifies `featurewise_std_normalization`, which overrides setting of `featurewise_center`.\n",
      "  warnings.warn('This ImageDataGenerator specifies '\n",
      "/home/ec2-user/anaconda3/envs/tensorflow_p36/lib/python3.6/site-packages/keras_preprocessing/image/image_data_generator.py:356: UserWarning: This ImageDataGenerator specifies `samplewise_std_normalization`, which overrides setting of `samplewise_center`.\n",
      "  warnings.warn('This ImageDataGenerator specifies '\n",
      "/home/ec2-user/anaconda3/envs/tensorflow_p36/lib/python3.6/site-packages/keras_preprocessing/image/image_data_generator.py:720: UserWarning: This ImageDataGenerator specifies `featurewise_center`, but it hasn't been fit on any training data. Fit it first by calling `.fit(numpy_data)`.\n",
      "  warnings.warn('This ImageDataGenerator specifies '\n",
      "/home/ec2-user/anaconda3/envs/tensorflow_p36/lib/python3.6/site-packages/keras_preprocessing/image/image_data_generator.py:728: UserWarning: This ImageDataGenerator specifies `featurewise_std_normalization`, but it hasn't been fit on any training data. Fit it first by calling `.fit(numpy_data)`.\n",
      "  warnings.warn('This ImageDataGenerator specifies '\n"
     ]
    },
    {
     "name": "stdout",
     "output_type": "stream",
     "text": [
      "Found 2672 validated image filenames belonging to 4 classes.\n",
      "2672/2672 [==============================] - 7s 2ms/step - loss: 1.4798 - categorical_accuracy: 0.1718\n"
     ]
    },
    {
     "data": {
      "text/plain": [
       "[1.479791283607483, 0.17178143560886383]"
      ]
     },
     "execution_count": 85,
     "metadata": {},
     "output_type": "execute_result"
    }
   ],
   "source": [
    "test_data['cellType'] = test_data['cellType'].astype('str')\n",
    "\n",
    "cell_test_datagen = ImageDataGenerator(                               \n",
    "                                rescale=1./255, \n",
    "                                data_format='channels_last',\n",
    "                                rotation_range=30, \n",
    "                                width_shift_range=0.2,\n",
    "                                height_shift_range=0.2,\n",
    "                                zoom_range = 0.2,\n",
    "                                featurewise_std_normalization=True,\n",
    "                                samplewise_std_normalization=True)\n",
    "\n",
    "batch_size = 1\n",
    "\n",
    "cell_test_generator = cell_test_datagen.flow_from_dataframe(\n",
    "        dataframe=test_data,\n",
    "        directory='./Image_classification_data/patch_images/',\n",
    "        x_col=\"ImageName\",\n",
    "        y_col=\"cellType\",\n",
    "        target_size=(27, 27),\n",
    "        batch_size=batch_size,\n",
    "        class_mode='categorical')\n",
    "\n",
    "final_model.evaluate(cell_test_generator)"
   ]
  },
  {
   "cell_type": "code",
   "execution_count": 86,
   "id": "81e45da1",
   "metadata": {},
   "outputs": [],
   "source": [
    "model.save(\"batch_1_model.h5\")"
   ]
  },
  {
   "cell_type": "markdown",
   "id": "a638c87d",
   "metadata": {},
   "source": [
    "## Batch 2 - Training"
   ]
  },
  {
   "cell_type": "code",
   "execution_count": 87,
   "id": "63574fe9",
   "metadata": {},
   "outputs": [
    {
     "name": "stderr",
     "output_type": "stream",
     "text": [
      "/home/ec2-user/anaconda3/envs/tensorflow_p36/lib/python3.6/site-packages/ipykernel/__main__.py:4: SettingWithCopyWarning: \n",
      "A value is trying to be set on a copy of a slice from a DataFrame.\n",
      "Try using .loc[row_indexer,col_indexer] = value instead\n",
      "\n",
      "See the caveats in the documentation: https://pandas.pydata.org/pandas-docs/stable/user_guide/indexing.html#returning-a-view-versus-a-copy\n"
     ]
    },
    {
     "data": {
      "text/html": [
       "<div>\n",
       "<style scoped>\n",
       "    .dataframe tbody tr th:only-of-type {\n",
       "        vertical-align: middle;\n",
       "    }\n",
       "\n",
       "    .dataframe tbody tr th {\n",
       "        vertical-align: top;\n",
       "    }\n",
       "\n",
       "    .dataframe thead th {\n",
       "        text-align: right;\n",
       "    }\n",
       "</style>\n",
       "<table border=\"1\" class=\"dataframe\">\n",
       "  <thead>\n",
       "    <tr style=\"text-align: right;\">\n",
       "      <th></th>\n",
       "      <th>InstanceID</th>\n",
       "      <th>patientID</th>\n",
       "      <th>ImageName</th>\n",
       "      <th>isCancerous</th>\n",
       "      <th>cellType</th>\n",
       "    </tr>\n",
       "  </thead>\n",
       "  <tbody>\n",
       "    <tr>\n",
       "      <th>8952</th>\n",
       "      <td>19370</td>\n",
       "      <td>91</td>\n",
       "      <td>19370.png</td>\n",
       "      <td>0</td>\n",
       "      <td>3</td>\n",
       "    </tr>\n",
       "    <tr>\n",
       "      <th>2922</th>\n",
       "      <td>1816</td>\n",
       "      <td>77</td>\n",
       "      <td>1816.png</td>\n",
       "      <td>0</td>\n",
       "      <td>2</td>\n",
       "    </tr>\n",
       "    <tr>\n",
       "      <th>1803</th>\n",
       "      <td>6543</td>\n",
       "      <td>68</td>\n",
       "      <td>6543.png</td>\n",
       "      <td>1</td>\n",
       "      <td>3</td>\n",
       "    </tr>\n",
       "    <tr>\n",
       "      <th>8102</th>\n",
       "      <td>14850</td>\n",
       "      <td>89</td>\n",
       "      <td>14850.png</td>\n",
       "      <td>0</td>\n",
       "      <td>0</td>\n",
       "    </tr>\n",
       "    <tr>\n",
       "      <th>3438</th>\n",
       "      <td>2373</td>\n",
       "      <td>77</td>\n",
       "      <td>2373.png</td>\n",
       "      <td>0</td>\n",
       "      <td>2</td>\n",
       "    </tr>\n",
       "  </tbody>\n",
       "</table>\n",
       "</div>"
      ],
      "text/plain": [
       "      InstanceID  patientID  ImageName  isCancerous  cellType\n",
       "8952       19370         91  19370.png            0         3\n",
       "2922        1816         77   1816.png            0         2\n",
       "1803        6543         68   6543.png            1         3\n",
       "8102       14850         89  14850.png            0         0\n",
       "3438        2373         77   2373.png            0         2"
      ]
     },
     "execution_count": 87,
     "metadata": {},
     "output_type": "execute_result"
    }
   ],
   "source": [
    "from sklearn.datasets import make_blobs\n",
    "from sklearn.preprocessing import MinMaxScaler\n",
    "\n",
    "X, train_data_1['cellType'], = make_blobs(n_samples=3461, centers=4, n_features=1, random_state=42)\n",
    "train_data_1.head()"
   ]
  },
  {
   "cell_type": "code",
   "execution_count": 88,
   "id": "656038fe",
   "metadata": {},
   "outputs": [
    {
     "name": "stdout",
     "output_type": "stream",
     "text": [
      "Found 3461 validated image filenames belonging to 4 classes.\n"
     ]
    },
    {
     "name": "stderr",
     "output_type": "stream",
     "text": [
      "/home/ec2-user/anaconda3/envs/tensorflow_p36/lib/python3.6/site-packages/ipykernel/__main__.py:1: SettingWithCopyWarning: \n",
      "A value is trying to be set on a copy of a slice from a DataFrame.\n",
      "Try using .loc[row_indexer,col_indexer] = value instead\n",
      "\n",
      "See the caveats in the documentation: https://pandas.pydata.org/pandas-docs/stable/user_guide/indexing.html#returning-a-view-versus-a-copy\n",
      "  if __name__ == '__main__':\n",
      "/home/ec2-user/anaconda3/envs/tensorflow_p36/lib/python3.6/site-packages/keras_preprocessing/image/image_data_generator.py:349: UserWarning: This ImageDataGenerator specifies `featurewise_std_normalization`, which overrides setting of `featurewise_center`.\n",
      "  warnings.warn('This ImageDataGenerator specifies '\n",
      "/home/ec2-user/anaconda3/envs/tensorflow_p36/lib/python3.6/site-packages/keras_preprocessing/image/image_data_generator.py:356: UserWarning: This ImageDataGenerator specifies `samplewise_std_normalization`, which overrides setting of `samplewise_center`.\n",
      "  warnings.warn('This ImageDataGenerator specifies '\n"
     ]
    }
   ],
   "source": [
    "train_data_1['cellType'] = train_data_1['cellType'].astype('str')\n",
    "\n",
    "cell_train_datagen = ImageDataGenerator(\n",
    "                                rescale=1./255, \n",
    "                                data_format='channels_last',\n",
    "                                rotation_range=30, \n",
    "                                width_shift_range=0.2,\n",
    "                                height_shift_range=0.2,\n",
    "                                zoom_range = 0.2,\n",
    "                                featurewise_std_normalization=True,\n",
    "                                samplewise_std_normalization=True)\n",
    "\n",
    "batch_size = 1\n",
    "\n",
    "cell_train_generator = cell_train_datagen.flow_from_dataframe(\n",
    "        dataframe=train_data_1,\n",
    "        directory='./Image_classification_data/extra_images/',\n",
    "        x_col=\"ImageName\",\n",
    "        y_col=\"cellType\",\n",
    "        target_size=(27, 27),\n",
    "        batch_size=batch_size,\n",
    "        class_mode='categorical')"
   ]
  },
  {
   "cell_type": "code",
   "execution_count": 89,
   "id": "a96a8ec0",
   "metadata": {},
   "outputs": [
    {
     "name": "stdout",
     "output_type": "stream",
     "text": [
      "WARNING:tensorflow:Error in loading the saved optimizer state. As a result, your model is starting with a freshly initialized optimizer.\n"
     ]
    },
    {
     "name": "stderr",
     "output_type": "stream",
     "text": [
      "/home/ec2-user/anaconda3/envs/tensorflow_p36/lib/python3.6/site-packages/keras_preprocessing/image/image_data_generator.py:720: UserWarning: This ImageDataGenerator specifies `featurewise_center`, but it hasn't been fit on any training data. Fit it first by calling `.fit(numpy_data)`.\n",
      "  warnings.warn('This ImageDataGenerator specifies '\n",
      "/home/ec2-user/anaconda3/envs/tensorflow_p36/lib/python3.6/site-packages/keras_preprocessing/image/image_data_generator.py:728: UserWarning: This ImageDataGenerator specifies `featurewise_std_normalization`, but it hasn't been fit on any training data. Fit it first by calling `.fit(numpy_data)`.\n",
      "  warnings.warn('This ImageDataGenerator specifies '\n"
     ]
    },
    {
     "name": "stdout",
     "output_type": "stream",
     "text": [
      "3461/3461 [==============================] - 8s 2ms/step - loss: 2.1863 - categorical_accuracy: 0.2467\n"
     ]
    },
    {
     "data": {
      "text/plain": [
       "[2.186264753341675, 0.24674949049949646]"
      ]
     },
     "execution_count": 89,
     "metadata": {},
     "output_type": "execute_result"
    }
   ],
   "source": [
    "batch_1_base = load_model(\"batch_1_model.h5\")\n",
    "batch_1_base.evaluate(cell_train_generator)"
   ]
  },
  {
   "cell_type": "code",
   "execution_count": 90,
   "id": "f12c6b52",
   "metadata": {},
   "outputs": [
    {
     "name": "stderr",
     "output_type": "stream",
     "text": [
      "/home/ec2-user/anaconda3/envs/tensorflow_p36/lib/python3.6/site-packages/pandas/core/frame.py:4174: SettingWithCopyWarning: \n",
      "A value is trying to be set on a copy of a slice from a DataFrame\n",
      "\n",
      "See the caveats in the documentation: https://pandas.pydata.org/pandas-docs/stable/user_guide/indexing.html#returning-a-view-versus-a-copy\n",
      "  errors=errors,\n",
      "/home/ec2-user/anaconda3/envs/tensorflow_p36/lib/python3.6/site-packages/ipykernel/__main__.py:12: SettingWithCopyWarning: \n",
      "A value is trying to be set on a copy of a slice from a DataFrame.\n",
      "Try using .loc[row_indexer,col_indexer] = value instead\n",
      "\n",
      "See the caveats in the documentation: https://pandas.pydata.org/pandas-docs/stable/user_guide/indexing.html#returning-a-view-versus-a-copy\n"
     ]
    },
    {
     "data": {
      "text/plain": [
       "(16819, 5)"
      ]
     },
     "execution_count": 90,
     "metadata": {},
     "output_type": "execute_result"
    }
   ],
   "source": [
    "preds = []\n",
    "filenames = cell_train_generator.filenames\n",
    "N_images = len(filenames)\n",
    "batches = 0\n",
    "\n",
    "for i in range(0, 3462):\n",
    "    preds.append(np.argmax(base_model.predict(cell_train_generator[i][0])))\n",
    "    batches += 1\n",
    "    if batches >= N_images / 1:\n",
    "        break\n",
    "train_data_1.drop(['cellType'], axis=1, inplace=True)\n",
    "train_data_1['cellType'] = preds\n",
    "train_batch_2 = pd.concat([train_batch_1, train_data_1])\n",
    "train_batch_2.shape"
   ]
  },
  {
   "cell_type": "code",
   "execution_count": 91,
   "id": "ad810090",
   "metadata": {},
   "outputs": [
    {
     "name": "stdout",
     "output_type": "stream",
     "text": [
      "Train data : 10091, \n",
      "Val Data: 3364, \n",
      "Test Data: 3364\n"
     ]
    }
   ],
   "source": [
    "train_data, test_data = train_test_split(train_batch_2, test_size=0.2, random_state=42)\n",
    "train_data, val_data = train_test_split(train_data, test_size=0.25, random_state=42)\n",
    "\n",
    "print(\"Train data : {}, \\nVal Data: {}, \\nTest Data: {}\".format(train_data.shape[0], val_data.shape[0], test_data.shape[0]))"
   ]
  },
  {
   "cell_type": "code",
   "execution_count": 92,
   "id": "08c3eee9",
   "metadata": {},
   "outputs": [
    {
     "name": "stdout",
     "output_type": "stream",
     "text": [
      "Found 10091 validated image filenames belonging to 4 classes.\n",
      "Found 3364 validated image filenames belonging to 4 classes.\n"
     ]
    },
    {
     "name": "stderr",
     "output_type": "stream",
     "text": [
      "/home/ec2-user/anaconda3/envs/tensorflow_p36/lib/python3.6/site-packages/keras_preprocessing/image/image_data_generator.py:349: UserWarning: This ImageDataGenerator specifies `featurewise_std_normalization`, which overrides setting of `featurewise_center`.\n",
      "  warnings.warn('This ImageDataGenerator specifies '\n",
      "/home/ec2-user/anaconda3/envs/tensorflow_p36/lib/python3.6/site-packages/keras_preprocessing/image/image_data_generator.py:356: UserWarning: This ImageDataGenerator specifies `samplewise_std_normalization`, which overrides setting of `samplewise_center`.\n",
      "  warnings.warn('This ImageDataGenerator specifies '\n"
     ]
    }
   ],
   "source": [
    "train_data['cellType'] = train_data['cellType'].astype('str')\n",
    "val_data['cellType'] = val_data['cellType'].astype('str')\n",
    "\n",
    "cell_train_datagen = ImageDataGenerator(rescale=1./255, \n",
    "                                data_format='channels_last',\n",
    "                                rotation_range=30, \n",
    "                                width_shift_range=0.2,\n",
    "                                height_shift_range=0.2,\n",
    "                                zoom_range = 0.2,\n",
    "                                featurewise_std_normalization=True,\n",
    "                                samplewise_std_normalization=True)\n",
    "cell_val_datagen = ImageDataGenerator(rescale=1./255, \n",
    "                                data_format='channels_last',\n",
    "                                rotation_range=30, \n",
    "                                width_shift_range=0.2,\n",
    "                                height_shift_range=0.2,\n",
    "                                zoom_range = 0.2,\n",
    "                                featurewise_std_normalization=True,\n",
    "                                samplewise_std_normalization=True)\n",
    "\n",
    "batch_size = 27\n",
    "\n",
    "cell_train_generator_2 = cell_train_datagen.flow_from_dataframe(\n",
    "        dataframe=train_data,\n",
    "        directory='./Image_classification_data/patch_images/',\n",
    "        x_col=\"ImageName\",\n",
    "        y_col=\"cellType\",\n",
    "        target_size=(27, 27),\n",
    "        batch_size=batch_size,\n",
    "        class_mode='categorical')\n",
    "\n",
    "cell_validation_generator_2 = cell_val_datagen.flow_from_dataframe(\n",
    "        dataframe=val_data,\n",
    "        directory='./Image_classification_data/patch_images/',\n",
    "        x_col=\"ImageName\",\n",
    "        y_col=\"cellType\",\n",
    "        target_size=(27, 27),\n",
    "        batch_size=batch_size,\n",
    "        class_mode='categorical')"
   ]
  },
  {
   "cell_type": "code",
   "execution_count": 93,
   "id": "7396aceb",
   "metadata": {},
   "outputs": [
    {
     "name": "stdout",
     "output_type": "stream",
     "text": [
      "Model: \"model_5\"\n",
      "_________________________________________________________________\n",
      "Layer (type)                 Output Shape              Param #   \n",
      "=================================================================\n",
      "input_6 (InputLayer)         [(None, 27, 27, 3)]       0         \n",
      "_________________________________________________________________\n",
      "model_3 (Functional)         (None, 4)                 116380    \n",
      "_________________________________________________________________\n",
      "dense_10 (Dense)             (None, 1024)              5120      \n",
      "_________________________________________________________________\n",
      "dense_11 (Dense)             (None, 4)                 4100      \n",
      "=================================================================\n",
      "Total params: 125,600\n",
      "Trainable params: 9,220\n",
      "Non-trainable params: 116,380\n",
      "_________________________________________________________________\n"
     ]
    }
   ],
   "source": [
    "reg_lambda = 0.001\n",
    "batch_1_base.trainable = False\n",
    "# add new classifier layers\n",
    "\n",
    "inputs = tf.keras.Input(shape=(27, 27, 3))\n",
    "x = batch_1_base(inputs, training=False)\n",
    "class1 = Dense(1024, activation='relu')(x)\n",
    "outputs = tf.keras.layers.Dense(4, activation='softmax', kernel_regularizer=tf.keras.regularizers.l2(reg_lambda))(class1)\n",
    "batch_2_model = tf.keras.Model(inputs, outputs)\n",
    "\n",
    "sgd = tf.keras.optimizers.SGD(learning_rate=0.01, decay=1e-6, momentum=0.9, nesterov=True)\n",
    "batch_2_model.compile(optimizer=sgd,\n",
    "              loss=tf.keras.losses.CategoricalCrossentropy(from_logits=False),\n",
    "              metrics=['categorical_accuracy'])\n",
    "\n",
    "batch_2_model.summary()"
   ]
  },
  {
   "cell_type": "code",
   "execution_count": 94,
   "id": "75aa59ed",
   "metadata": {},
   "outputs": [
    {
     "name": "stderr",
     "output_type": "stream",
     "text": [
      "/home/ec2-user/anaconda3/envs/tensorflow_p36/lib/python3.6/site-packages/tensorflow/python/keras/engine/training.py:1940: UserWarning: `Model.fit_generator` is deprecated and will be removed in a future version. Please use `Model.fit`, which supports generators.\n",
      "  warnings.warn('`Model.fit_generator` is deprecated and '\n",
      "/home/ec2-user/anaconda3/envs/tensorflow_p36/lib/python3.6/site-packages/keras_preprocessing/image/image_data_generator.py:720: UserWarning: This ImageDataGenerator specifies `featurewise_center`, but it hasn't been fit on any training data. Fit it first by calling `.fit(numpy_data)`.\n",
      "  warnings.warn('This ImageDataGenerator specifies '\n",
      "/home/ec2-user/anaconda3/envs/tensorflow_p36/lib/python3.6/site-packages/keras_preprocessing/image/image_data_generator.py:728: UserWarning: This ImageDataGenerator specifies `featurewise_std_normalization`, but it hasn't been fit on any training data. Fit it first by calling `.fit(numpy_data)`.\n",
      "  warnings.warn('This ImageDataGenerator specifies '\n"
     ]
    },
    {
     "data": {
      "image/png": "[encoded data removed]",
      "text/plain": [
       "<Figure size 720x360 with 2 Axes>"
      ]
     },
     "metadata": {
      "needs_background": "light"
     },
     "output_type": "display_data"
    }
   ],
   "source": [
    "cell_history = batch_2_model.fit_generator(cell_train_generator_2, validation_data = cell_validation_generator_2, epochs=50, steps_per_epoch=4, verbose=0)\n",
    "\n",
    "plot_learning_curve(cell_history.history['loss'], cell_history.history['val_loss'], \n",
    "                    cell_history.history['categorical_accuracy'], cell_history.history['val_categorical_accuracy'], \n",
    "                    metric_name='Accuracy')"
   ]
  },
  {
   "cell_type": "code",
   "execution_count": 95,
   "id": "c9091a06",
   "metadata": {},
   "outputs": [
    {
     "name": "stdout",
     "output_type": "stream",
     "text": [
      "Found 3364 validated image filenames belonging to 4 classes.\n",
      "  21/3364 [..............................] - ETA: 8s - loss: 1.1430 - categorical_accuracy: 0.5714      "
     ]
    },
    {
     "name": "stderr",
     "output_type": "stream",
     "text": [
      "/home/ec2-user/anaconda3/envs/tensorflow_p36/lib/python3.6/site-packages/ipykernel/__main__.py:1: SettingWithCopyWarning: \n",
      "A value is trying to be set on a copy of a slice from a DataFrame.\n",
      "Try using .loc[row_indexer,col_indexer] = value instead\n",
      "\n",
      "See the caveats in the documentation: https://pandas.pydata.org/pandas-docs/stable/user_guide/indexing.html#returning-a-view-versus-a-copy\n",
      "  if __name__ == '__main__':\n",
      "/home/ec2-user/anaconda3/envs/tensorflow_p36/lib/python3.6/site-packages/keras_preprocessing/image/image_data_generator.py:349: UserWarning: This ImageDataGenerator specifies `featurewise_std_normalization`, which overrides setting of `featurewise_center`.\n",
      "  warnings.warn('This ImageDataGenerator specifies '\n",
      "/home/ec2-user/anaconda3/envs/tensorflow_p36/lib/python3.6/site-packages/keras_preprocessing/image/image_data_generator.py:356: UserWarning: This ImageDataGenerator specifies `samplewise_std_normalization`, which overrides setting of `samplewise_center`.\n",
      "  warnings.warn('This ImageDataGenerator specifies '\n",
      "/home/ec2-user/anaconda3/envs/tensorflow_p36/lib/python3.6/site-packages/keras_preprocessing/image/image_data_generator.py:720: UserWarning: This ImageDataGenerator specifies `featurewise_center`, but it hasn't been fit on any training data. Fit it first by calling `.fit(numpy_data)`.\n",
      "  warnings.warn('This ImageDataGenerator specifies '\n",
      "/home/ec2-user/anaconda3/envs/tensorflow_p36/lib/python3.6/site-packages/keras_preprocessing/image/image_data_generator.py:728: UserWarning: This ImageDataGenerator specifies `featurewise_std_normalization`, but it hasn't been fit on any training data. Fit it first by calling `.fit(numpy_data)`.\n",
      "  warnings.warn('This ImageDataGenerator specifies '\n"
     ]
    },
    {
     "name": "stdout",
     "output_type": "stream",
     "text": [
      "3364/3364 [==============================] - 9s 3ms/step - loss: 1.0308 - categorical_accuracy: 0.6489\n"
     ]
    },
    {
     "data": {
      "text/plain": [
       "[1.0308477878570557, 0.6489298343658447]"
      ]
     },
     "execution_count": 95,
     "metadata": {},
     "output_type": "execute_result"
    }
   ],
   "source": [
    "test_data['cellType'] = test_data['cellType'].astype('str')\n",
    "\n",
    "cell_test_datagen = ImageDataGenerator(                               \n",
    "                                rescale=1./255, \n",
    "                                data_format='channels_last',\n",
    "                                rotation_range=30, \n",
    "                                width_shift_range=0.2,\n",
    "                                height_shift_range=0.2,\n",
    "                                zoom_range = 0.2,\n",
    "                                featurewise_std_normalization=True,\n",
    "                                samplewise_std_normalization=True)\n",
    "\n",
    "batch_size = 1\n",
    "\n",
    "cell_test_generator = cell_test_datagen.flow_from_dataframe(\n",
    "        dataframe=test_data,\n",
    "        directory='./Image_classification_data/patch_images/',\n",
    "        x_col=\"ImageName\",\n",
    "        y_col=\"cellType\",\n",
    "        target_size=(27, 27),\n",
    "        batch_size=batch_size,\n",
    "        class_mode='categorical')\n",
    "\n",
    "batch_2_model.evaluate(cell_test_generator)"
   ]
  },
  {
   "cell_type": "code",
   "execution_count": 96,
   "id": "ecde28e8",
   "metadata": {},
   "outputs": [],
   "source": [
    "batch_2_model.save(\"batch_2_model.h5\")"
   ]
  },
  {
   "cell_type": "markdown",
   "id": "b570fd32",
   "metadata": {},
   "source": [
    "## Batch - 3 Training"
   ]
  },
  {
   "cell_type": "code",
   "execution_count": 97,
   "id": "08e39e01",
   "metadata": {},
   "outputs": [
    {
     "data": {
      "text/html": [
       "<div>\n",
       "<style scoped>\n",
       "    .dataframe tbody tr th:only-of-type {\n",
       "        vertical-align: middle;\n",
       "    }\n",
       "\n",
       "    .dataframe tbody tr th {\n",
       "        vertical-align: top;\n",
       "    }\n",
       "\n",
       "    .dataframe thead th {\n",
       "        text-align: right;\n",
       "    }\n",
       "</style>\n",
       "<table border=\"1\" class=\"dataframe\">\n",
       "  <thead>\n",
       "    <tr style=\"text-align: right;\">\n",
       "      <th></th>\n",
       "      <th>InstanceID</th>\n",
       "      <th>patientID</th>\n",
       "      <th>ImageName</th>\n",
       "      <th>isCancerous</th>\n",
       "      <th>cellType</th>\n",
       "    </tr>\n",
       "  </thead>\n",
       "  <tbody>\n",
       "    <tr>\n",
       "      <th>2317</th>\n",
       "      <td>10423</td>\n",
       "      <td>70</td>\n",
       "      <td>10423.png</td>\n",
       "      <td>1</td>\n",
       "      <td>3</td>\n",
       "    </tr>\n",
       "    <tr>\n",
       "      <th>9587</th>\n",
       "      <td>21511</td>\n",
       "      <td>92</td>\n",
       "      <td>21511.png</td>\n",
       "      <td>0</td>\n",
       "      <td>2</td>\n",
       "    </tr>\n",
       "    <tr>\n",
       "      <th>7861</th>\n",
       "      <td>14584</td>\n",
       "      <td>89</td>\n",
       "      <td>14584.png</td>\n",
       "      <td>0</td>\n",
       "      <td>3</td>\n",
       "    </tr>\n",
       "    <tr>\n",
       "      <th>2237</th>\n",
       "      <td>10335</td>\n",
       "      <td>70</td>\n",
       "      <td>10335.png</td>\n",
       "      <td>0</td>\n",
       "      <td>0</td>\n",
       "    </tr>\n",
       "    <tr>\n",
       "      <th>5412</th>\n",
       "      <td>15417</td>\n",
       "      <td>81</td>\n",
       "      <td>15417.png</td>\n",
       "      <td>0</td>\n",
       "      <td>2</td>\n",
       "    </tr>\n",
       "  </tbody>\n",
       "</table>\n",
       "</div>"
      ],
      "text/plain": [
       "      InstanceID  patientID  ImageName  isCancerous  cellType\n",
       "2317       10423         70  10423.png            1         3\n",
       "9587       21511         92  21511.png            0         2\n",
       "7861       14584         89  14584.png            0         3\n",
       "2237       10335         70  10335.png            0         0\n",
       "5412       15417         81  15417.png            0         2"
      ]
     },
     "execution_count": 97,
     "metadata": {},
     "output_type": "execute_result"
    }
   ],
   "source": [
    "from sklearn.datasets import make_blobs\n",
    "from sklearn.preprocessing import MinMaxScaler\n",
    "\n",
    "X, train_data_2['cellType'], = make_blobs(n_samples=3461, centers=4, n_features=1, random_state=42)\n",
    "train_data_2.head()"
   ]
  },
  {
   "cell_type": "code",
   "execution_count": 98,
   "id": "3be53cc2",
   "metadata": {},
   "outputs": [
    {
     "name": "stdout",
     "output_type": "stream",
     "text": [
      "Found 3461 validated image filenames belonging to 4 classes.\n"
     ]
    },
    {
     "name": "stderr",
     "output_type": "stream",
     "text": [
      "/home/ec2-user/anaconda3/envs/tensorflow_p36/lib/python3.6/site-packages/keras_preprocessing/image/image_data_generator.py:349: UserWarning: This ImageDataGenerator specifies `featurewise_std_normalization`, which overrides setting of `featurewise_center`.\n",
      "  warnings.warn('This ImageDataGenerator specifies '\n",
      "/home/ec2-user/anaconda3/envs/tensorflow_p36/lib/python3.6/site-packages/keras_preprocessing/image/image_data_generator.py:356: UserWarning: This ImageDataGenerator specifies `samplewise_std_normalization`, which overrides setting of `samplewise_center`.\n",
      "  warnings.warn('This ImageDataGenerator specifies '\n"
     ]
    }
   ],
   "source": [
    "train_data_2['cellType'] = train_data_2['cellType'].astype('str')\n",
    "\n",
    "cell_train_datagen = ImageDataGenerator(\n",
    "                                rescale=1./255, \n",
    "                                data_format='channels_last',\n",
    "                                rotation_range=30, \n",
    "                                width_shift_range=0.2,\n",
    "                                height_shift_range=0.2,\n",
    "                                zoom_range = 0.2,\n",
    "                                featurewise_std_normalization=True,\n",
    "                                samplewise_std_normalization=True)\n",
    "\n",
    "batch_size = 1\n",
    "\n",
    "cell_train_generator = cell_train_datagen.flow_from_dataframe(\n",
    "        dataframe=train_data_2,\n",
    "        directory='./Image_classification_data/extra_images/',\n",
    "        x_col=\"ImageName\",\n",
    "        y_col=\"cellType\",\n",
    "        target_size=(27, 27),\n",
    "        batch_size=batch_size,\n",
    "        class_mode='categorical')"
   ]
  },
  {
   "cell_type": "code",
   "execution_count": 99,
   "id": "66ab95b2",
   "metadata": {},
   "outputs": [
    {
     "name": "stderr",
     "output_type": "stream",
     "text": [
      "/home/ec2-user/anaconda3/envs/tensorflow_p36/lib/python3.6/site-packages/keras_preprocessing/image/image_data_generator.py:720: UserWarning: This ImageDataGenerator specifies `featurewise_center`, but it hasn't been fit on any training data. Fit it first by calling `.fit(numpy_data)`.\n",
      "  warnings.warn('This ImageDataGenerator specifies '\n",
      "/home/ec2-user/anaconda3/envs/tensorflow_p36/lib/python3.6/site-packages/keras_preprocessing/image/image_data_generator.py:728: UserWarning: This ImageDataGenerator specifies `featurewise_std_normalization`, but it hasn't been fit on any training data. Fit it first by calling `.fit(numpy_data)`.\n",
      "  warnings.warn('This ImageDataGenerator specifies '\n"
     ]
    },
    {
     "name": "stdout",
     "output_type": "stream",
     "text": [
      "3461/3461 [==============================] - 9s 3ms/step - loss: 1.9871 - categorical_accuracy: 0.2557\n"
     ]
    },
    {
     "data": {
      "text/plain": [
       "[1.9871114492416382, 0.25570642948150635]"
      ]
     },
     "execution_count": 99,
     "metadata": {},
     "output_type": "execute_result"
    }
   ],
   "source": [
    "batch_2_base = load_model(\"batch_2_model.h5\")\n",
    "batch_2_base.evaluate(cell_train_generator)"
   ]
  },
  {
   "cell_type": "code",
   "execution_count": 100,
   "id": "fd907659",
   "metadata": {},
   "outputs": [
    {
     "data": {
      "text/plain": [
       "(20280, 5)"
      ]
     },
     "execution_count": 100,
     "metadata": {},
     "output_type": "execute_result"
    }
   ],
   "source": [
    "preds = []\n",
    "filenames = cell_train_generator.filenames\n",
    "N_images = len(filenames)\n",
    "batches = 0\n",
    "\n",
    "for i in range(0, 3462):\n",
    "    preds.append(np.argmax(base_model.predict(cell_train_generator[i][0])))\n",
    "    batches += 1\n",
    "    if batches >= N_images / 1:\n",
    "        break\n",
    "train_data_2.drop(['cellType'], axis=1, inplace=True)\n",
    "train_data_2['cellType'] = preds\n",
    "train_batch_3 = pd.concat([train_batch_2, train_data_2])\n",
    "train_batch_3.shape"
   ]
  },
  {
   "cell_type": "code",
   "execution_count": 101,
   "id": "fa102c8d",
   "metadata": {},
   "outputs": [
    {
     "name": "stdout",
     "output_type": "stream",
     "text": [
      "Train data : 12168, \n",
      "Val Data: 4056, \n",
      "Test Data: 4056\n"
     ]
    }
   ],
   "source": [
    "train_data, test_data = train_test_split(train_batch_3, test_size=0.2, random_state=42)\n",
    "train_data, val_data = train_test_split(train_data, test_size=0.25, random_state=42)\n",
    "\n",
    "print(\"Train data : {}, \\nVal Data: {}, \\nTest Data: {}\".format(train_data.shape[0], val_data.shape[0], test_data.shape[0]))"
   ]
  },
  {
   "cell_type": "code",
   "execution_count": 102,
   "id": "dd062a35",
   "metadata": {},
   "outputs": [
    {
     "name": "stdout",
     "output_type": "stream",
     "text": [
      "Found 12168 validated image filenames belonging to 4 classes.\n",
      "Found 4056 validated image filenames belonging to 4 classes.\n"
     ]
    },
    {
     "name": "stderr",
     "output_type": "stream",
     "text": [
      "/home/ec2-user/anaconda3/envs/tensorflow_p36/lib/python3.6/site-packages/keras_preprocessing/image/image_data_generator.py:349: UserWarning: This ImageDataGenerator specifies `featurewise_std_normalization`, which overrides setting of `featurewise_center`.\n",
      "  warnings.warn('This ImageDataGenerator specifies '\n",
      "/home/ec2-user/anaconda3/envs/tensorflow_p36/lib/python3.6/site-packages/keras_preprocessing/image/image_data_generator.py:356: UserWarning: This ImageDataGenerator specifies `samplewise_std_normalization`, which overrides setting of `samplewise_center`.\n",
      "  warnings.warn('This ImageDataGenerator specifies '\n"
     ]
    }
   ],
   "source": [
    "train_data['cellType'] = train_data['cellType'].astype('str')\n",
    "val_data['cellType'] = val_data['cellType'].astype('str')\n",
    "\n",
    "cell_train_datagen = ImageDataGenerator(rescale=1./255, \n",
    "                                data_format='channels_last',\n",
    "                                rotation_range=30, \n",
    "                                width_shift_range=0.2,\n",
    "                                height_shift_range=0.2,\n",
    "                                zoom_range = 0.2,\n",
    "                                featurewise_std_normalization=True,\n",
    "                                samplewise_std_normalization=True)\n",
    "cell_val_datagen = ImageDataGenerator(rescale=1./255, \n",
    "                                data_format='channels_last',\n",
    "                                rotation_range=30, \n",
    "                                width_shift_range=0.2,\n",
    "                                height_shift_range=0.2,\n",
    "                                zoom_range = 0.2,\n",
    "                                featurewise_std_normalization=True,\n",
    "                                samplewise_std_normalization=True)\n",
    "\n",
    "batch_size = 27\n",
    "\n",
    "cell_train_generator_3 = cell_train_datagen.flow_from_dataframe(\n",
    "        dataframe=train_data,\n",
    "        directory='./Image_classification_data/patch_images/',\n",
    "        x_col=\"ImageName\",\n",
    "        y_col=\"cellType\",\n",
    "        target_size=(27, 27),\n",
    "        batch_size=batch_size,\n",
    "        class_mode='categorical')\n",
    "\n",
    "cell_validation_generator_3 = cell_val_datagen.flow_from_dataframe(\n",
    "        dataframe=val_data,\n",
    "        directory='./Image_classification_data/patch_images/',\n",
    "        x_col=\"ImageName\",\n",
    "        y_col=\"cellType\",\n",
    "        target_size=(27, 27),\n",
    "        batch_size=batch_size,\n",
    "        class_mode='categorical')"
   ]
  },
  {
   "cell_type": "code",
   "execution_count": 103,
   "id": "4bfa91e5",
   "metadata": {},
   "outputs": [
    {
     "name": "stdout",
     "output_type": "stream",
     "text": [
      "Model: \"model_6\"\n",
      "_________________________________________________________________\n",
      "Layer (type)                 Output Shape              Param #   \n",
      "=================================================================\n",
      "input_7 (InputLayer)         [(None, 27, 27, 3)]       0         \n",
      "_________________________________________________________________\n",
      "model_5 (Functional)         (None, 4)                 125600    \n",
      "_________________________________________________________________\n",
      "dense_12 (Dense)             (None, 1024)              5120      \n",
      "_________________________________________________________________\n",
      "dense_13 (Dense)             (None, 4)                 4100      \n",
      "=================================================================\n",
      "Total params: 134,820\n",
      "Trainable params: 9,220\n",
      "Non-trainable params: 125,600\n",
      "_________________________________________________________________\n"
     ]
    }
   ],
   "source": [
    "reg_lambda = 0.001\n",
    "batch_2_base.trainable = False\n",
    "# add new classifier layers\n",
    "\n",
    "inputs = tf.keras.Input(shape=(27, 27, 3))\n",
    "x = batch_2_base(inputs, training=False)\n",
    "class1 = Dense(1024, activation='relu')(x)\n",
    "outputs = tf.keras.layers.Dense(4, activation='softmax', kernel_regularizer=tf.keras.regularizers.l2(reg_lambda))(class1)\n",
    "batch_3_model = tf.keras.Model(inputs, outputs)\n",
    "\n",
    "sgd = tf.keras.optimizers.SGD(learning_rate=0.01, decay=1e-6, momentum=0.9, nesterov=True)\n",
    "batch_3_model.compile(optimizer=sgd,\n",
    "              loss=tf.keras.losses.CategoricalCrossentropy(from_logits=False),\n",
    "              metrics=['categorical_accuracy'])\n",
    "\n",
    "batch_3_model.summary()"
   ]
  },
  {
   "cell_type": "code",
   "execution_count": 104,
   "id": "72c98c78",
   "metadata": {},
   "outputs": [
    {
     "name": "stderr",
     "output_type": "stream",
     "text": [
      "/home/ec2-user/anaconda3/envs/tensorflow_p36/lib/python3.6/site-packages/tensorflow/python/keras/engine/training.py:1940: UserWarning: `Model.fit_generator` is deprecated and will be removed in a future version. Please use `Model.fit`, which supports generators.\n",
      "  warnings.warn('`Model.fit_generator` is deprecated and '\n",
      "/home/ec2-user/anaconda3/envs/tensorflow_p36/lib/python3.6/site-packages/keras_preprocessing/image/image_data_generator.py:720: UserWarning: This ImageDataGenerator specifies `featurewise_center`, but it hasn't been fit on any training data. Fit it first by calling `.fit(numpy_data)`.\n",
      "  warnings.warn('This ImageDataGenerator specifies '\n",
      "/home/ec2-user/anaconda3/envs/tensorflow_p36/lib/python3.6/site-packages/keras_preprocessing/image/image_data_generator.py:728: UserWarning: This ImageDataGenerator specifies `featurewise_std_normalization`, but it hasn't been fit on any training data. Fit it first by calling `.fit(numpy_data)`.\n",
      "  warnings.warn('This ImageDataGenerator specifies '\n"
     ]
    },
    {
     "data": {
      "image/png": "[encoded data removed]",
      "text/plain": [
       "<Figure size 720x360 with 2 Axes>"
      ]
     },
     "metadata": {
      "needs_background": "light"
     },
     "output_type": "display_data"
    }
   ],
   "source": [
    "cell_history = batch_3_model.fit_generator(cell_train_generator_3, validation_data = cell_validation_generator_3, epochs=50, steps_per_epoch=4, verbose=0)\n",
    "\n",
    "plot_learning_curve(cell_history.history['loss'], cell_history.history['val_loss'], \n",
    "                    cell_history.history['categorical_accuracy'], cell_history.history['val_categorical_accuracy'], \n",
    "                    metric_name='Accuracy')"
   ]
  },
  {
   "cell_type": "code",
   "execution_count": 105,
   "id": "9efb8380",
   "metadata": {},
   "outputs": [
    {
     "name": "stdout",
     "output_type": "stream",
     "text": [
      "Found 4056 validated image filenames belonging to 4 classes.\n",
      "  20/4056 [..............................] - ETA: 10s - loss: 1.2210 - categorical_accuracy: 0.6000 "
     ]
    },
    {
     "name": "stderr",
     "output_type": "stream",
     "text": [
      "/home/ec2-user/anaconda3/envs/tensorflow_p36/lib/python3.6/site-packages/ipykernel/__main__.py:1: SettingWithCopyWarning: \n",
      "A value is trying to be set on a copy of a slice from a DataFrame.\n",
      "Try using .loc[row_indexer,col_indexer] = value instead\n",
      "\n",
      "See the caveats in the documentation: https://pandas.pydata.org/pandas-docs/stable/user_guide/indexing.html#returning-a-view-versus-a-copy\n",
      "  if __name__ == '__main__':\n",
      "/home/ec2-user/anaconda3/envs/tensorflow_p36/lib/python3.6/site-packages/keras_preprocessing/image/image_data_generator.py:349: UserWarning: This ImageDataGenerator specifies `featurewise_std_normalization`, which overrides setting of `featurewise_center`.\n",
      "  warnings.warn('This ImageDataGenerator specifies '\n",
      "/home/ec2-user/anaconda3/envs/tensorflow_p36/lib/python3.6/site-packages/keras_preprocessing/image/image_data_generator.py:356: UserWarning: This ImageDataGenerator specifies `samplewise_std_normalization`, which overrides setting of `samplewise_center`.\n",
      "  warnings.warn('This ImageDataGenerator specifies '\n",
      "/home/ec2-user/anaconda3/envs/tensorflow_p36/lib/python3.6/site-packages/keras_preprocessing/image/image_data_generator.py:720: UserWarning: This ImageDataGenerator specifies `featurewise_center`, but it hasn't been fit on any training data. Fit it first by calling `.fit(numpy_data)`.\n",
      "  warnings.warn('This ImageDataGenerator specifies '\n",
      "/home/ec2-user/anaconda3/envs/tensorflow_p36/lib/python3.6/site-packages/keras_preprocessing/image/image_data_generator.py:728: UserWarning: This ImageDataGenerator specifies `featurewise_std_normalization`, but it hasn't been fit on any training data. Fit it first by calling `.fit(numpy_data)`.\n",
      "  warnings.warn('This ImageDataGenerator specifies '\n"
     ]
    },
    {
     "name": "stdout",
     "output_type": "stream",
     "text": [
      "4056/4056 [==============================] - 10s 2ms/step - loss: 1.0752 - categorical_accuracy: 0.6432\n"
     ]
    },
    {
     "data": {
      "text/plain": [
       "[1.0752428770065308, 0.6432445645332336]"
      ]
     },
     "execution_count": 105,
     "metadata": {},
     "output_type": "execute_result"
    }
   ],
   "source": [
    "test_data['cellType'] = test_data['cellType'].astype('str')\n",
    "\n",
    "cell_test_datagen = ImageDataGenerator(                               \n",
    "                                rescale=1./255, \n",
    "                                data_format='channels_last',\n",
    "                                rotation_range=30, \n",
    "                                width_shift_range=0.2,\n",
    "                                height_shift_range=0.2,\n",
    "                                zoom_range = 0.2,\n",
    "                                featurewise_std_normalization=True,\n",
    "                                samplewise_std_normalization=True)\n",
    "\n",
    "batch_size = 1\n",
    "\n",
    "cell_test_generator = cell_test_datagen.flow_from_dataframe(\n",
    "        dataframe=test_data,\n",
    "        directory='./Image_classification_data/patch_images/',\n",
    "        x_col=\"ImageName\",\n",
    "        y_col=\"cellType\",\n",
    "        target_size=(27, 27),\n",
    "        batch_size=batch_size,\n",
    "        class_mode='categorical')\n",
    "\n",
    "batch_3_model.evaluate(cell_test_generator)"
   ]
  },
  {
   "cell_type": "code",
   "execution_count": 106,
   "id": "9fafba4c",
   "metadata": {},
   "outputs": [],
   "source": [
    "batch_3_model.save(\"batch_3_model.h5\")"
   ]
  },
  {
   "cell_type": "markdown",
   "id": "6884a19b",
   "metadata": {},
   "source": [
    "## Tesing the final model"
   ]
  },
  {
   "cell_type": "code",
   "execution_count": 107,
   "id": "1cf7c499",
   "metadata": {},
   "outputs": [],
   "source": [
    "label_names = {'fibroblast': 0, 'inflammatory':1, 'epithelial': 2, 'others':3}"
   ]
  },
  {
   "cell_type": "code",
   "execution_count": 108,
   "id": "47b78334",
   "metadata": {},
   "outputs": [
    {
     "name": "stderr",
     "output_type": "stream",
     "text": [
      "Clipping input data to the valid range for imshow with RGB data ([0..1] for floats or [0..255] for integers).\n",
      "Clipping input data to the valid range for imshow with RGB data ([0..1] for floats or [0..255] for integers).\n",
      "Clipping input data to the valid range for imshow with RGB data ([0..1] for floats or [0..255] for integers).\n",
      "Clipping input data to the valid range for imshow with RGB data ([0..1] for floats or [0..255] for integers).\n"
     ]
    },
    {
     "data": {
      "image/png": "[encoded data removed]",
      "text/plain": [
       "<Figure size 1152x288 with 4 Axes>"
      ]
     },
     "metadata": {
      "needs_background": "light"
     },
     "output_type": "display_data"
    }
   ],
   "source": [
    "d_inv = {v: k for k, v in label_names.items()}\n",
    "plt.figure(figsize=(16,4))\n",
    "batches = 0\n",
    "for x,y in cell_train_generator:\n",
    "        batches = batches + 1\n",
    "        y_hat = batch_3_model.predict(x, verbose=0)\n",
    "        \n",
    "        x = np.squeeze(x)\n",
    "        if batches < 5:\n",
    "            plt.subplot(1,5,batches)\n",
    "            plt.imshow(x)\n",
    "            plt.title(\"GT-{}, Pred-{}\".format(d_inv[np.argmax(y[0])], d_inv[np.argmax(y_hat[0])]))\n",
    "        else:\n",
    "            break\n",
    "        \n",
    "        plt.axis('off')"
   ]
  },
  {
   "cell_type": "markdown",
   "id": "7818047a",
   "metadata": {},
   "source": [
    "# Clustering unlabelled data by extracting features from the saved model"
   ]
  },
  {
   "cell_type": "code",
   "execution_count": 122,
   "id": "bb91d744",
   "metadata": {},
   "outputs": [],
   "source": [
    "cell_type_model_reg_pred = load_model(\"predict_celltype.h5\")\n",
    "model = Model(cell_type_model_reg_pred.input, cell_type_model_reg_pred.output)"
   ]
  },
  {
   "cell_type": "code",
   "execution_count": 123,
   "id": "03afeb20",
   "metadata": {},
   "outputs": [
    {
     "name": "stdout",
     "output_type": "stream",
     "text": [
      "Model: \"model_10\"\n",
      "_________________________________________________________________\n",
      "Layer (type)                 Output Shape              Param #   \n",
      "=================================================================\n",
      "input_8 (InputLayer)         [(None, 27, 27, 3)]       0         \n",
      "_________________________________________________________________\n",
      "model_9 (Functional)         (None, 4)                 107160    \n",
      "_________________________________________________________________\n",
      "dense_15 (Dense)             (None, 1024)              5120      \n",
      "_________________________________________________________________\n",
      "dense_16 (Dense)             (None, 4)                 4100      \n",
      "=================================================================\n",
      "Total params: 116,380\n",
      "Trainable params: 9,220\n",
      "Non-trainable params: 107,160\n",
      "_________________________________________________________________\n"
     ]
    }
   ],
   "source": [
    "reg_lambda = 0.001\n",
    "model.trainable = False\n",
    "# add new classifier layers\n",
    "\n",
    "inputs = tf.keras.Input(shape=(27, 27, 3))\n",
    "x = model(inputs, training=False)\n",
    "class1 = Dense(1024, activation='relu')(x)\n",
    "outputs = tf.keras.layers.Dense(4, activation='softmax', kernel_regularizer=tf.keras.regularizers.l2(reg_lambda))(class1)\n",
    "cluster_model = tf.keras.Model(inputs, outputs)\n",
    "\n",
    "sgd = tf.keras.optimizers.SGD(learning_rate=0.01, decay=1e-6, momentum=0.9, nesterov=True)\n",
    "cluster_model.compile(optimizer=sgd,\n",
    "              loss=tf.keras.losses.CategoricalCrossentropy(from_logits=False),\n",
    "              metrics=['categorical_accuracy'])\n",
    "\n",
    "cluster_model.summary()"
   ]
  },
  {
   "cell_type": "code",
   "execution_count": 124,
   "id": "ebf78644",
   "metadata": {},
   "outputs": [],
   "source": [
    "FlattenImages = {\n",
    "    'photo_name' : [],\n",
    "    'flattenPhoto' : [],\n",
    "    }"
   ]
  },
  {
   "cell_type": "code",
   "execution_count": 125,
   "id": "7d11035d",
   "metadata": {},
   "outputs": [],
   "source": [
    "colon_extra['FlattenData'] = None\n",
    "for img in colon_extra['ImageName']:\n",
    "    FlattenImages['photo_name'].append(img)\n",
    "    path = './Image_classification_data/patch_images/' + img\n",
    "    img = cv.imread(path)\n",
    "    img = cv.resize(img, (27, 27))\n",
    "    ## Expanding image dims so this represents 1 sample\n",
    "    img = img = np.expand_dims(img, 0)\n",
    "    img = tf.keras.applications.resnet50.preprocess_input(img)\n",
    "    extractedFeatures = cluster_model.predict(img)\n",
    "    extractedFeatures = np.array(extractedFeatures)\n",
    "    FlattenImages['flattenPhoto'].append(extractedFeatures.flatten())"
   ]
  },
  {
   "cell_type": "code",
   "execution_count": 126,
   "id": "d46d7883",
   "metadata": {},
   "outputs": [
    {
     "data": {
      "text/plain": [
       "KMeans(max_iter=600, n_clusters=4)"
      ]
     },
     "execution_count": 126,
     "metadata": {},
     "output_type": "execute_result"
    }
   ],
   "source": [
    "Training_Feature_vector = np.array(FlattenImages['flattenPhoto'], dtype = 'float64')\n",
    "from sklearn.cluster import KMeans\n",
    "kmeans = KMeans(n_clusters=4, max_iter=600, algorithm = 'auto')\n",
    "kmeans.fit(Training_Feature_vector)"
   ]
  },
  {
   "cell_type": "code",
   "execution_count": 115,
   "id": "b40613a5",
   "metadata": {},
   "outputs": [
    {
     "data": {
      "text/html": [
       "<div>\n",
       "<style scoped>\n",
       "    .dataframe tbody tr th:only-of-type {\n",
       "        vertical-align: middle;\n",
       "    }\n",
       "\n",
       "    .dataframe tbody tr th {\n",
       "        vertical-align: top;\n",
       "    }\n",
       "\n",
       "    .dataframe thead th {\n",
       "        text-align: right;\n",
       "    }\n",
       "</style>\n",
       "<table border=\"1\" class=\"dataframe\">\n",
       "  <thead>\n",
       "    <tr style=\"text-align: right;\">\n",
       "      <th></th>\n",
       "      <th>0</th>\n",
       "      <th>1</th>\n",
       "      <th>2</th>\n",
       "      <th>3</th>\n",
       "    </tr>\n",
       "  </thead>\n",
       "  <tbody>\n",
       "    <tr>\n",
       "      <th>0</th>\n",
       "      <td>0.0</td>\n",
       "      <td>5.306158e-32</td>\n",
       "      <td>1.0</td>\n",
       "      <td>0.0</td>\n",
       "    </tr>\n",
       "    <tr>\n",
       "      <th>1</th>\n",
       "      <td>0.0</td>\n",
       "      <td>3.879792e-30</td>\n",
       "      <td>1.0</td>\n",
       "      <td>0.0</td>\n",
       "    </tr>\n",
       "    <tr>\n",
       "      <th>2</th>\n",
       "      <td>0.0</td>\n",
       "      <td>4.431963e-29</td>\n",
       "      <td>1.0</td>\n",
       "      <td>0.0</td>\n",
       "    </tr>\n",
       "    <tr>\n",
       "      <th>3</th>\n",
       "      <td>0.0</td>\n",
       "      <td>1.195933e-26</td>\n",
       "      <td>1.0</td>\n",
       "      <td>0.0</td>\n",
       "    </tr>\n",
       "    <tr>\n",
       "      <th>4</th>\n",
       "      <td>0.0</td>\n",
       "      <td>4.122642e-34</td>\n",
       "      <td>1.0</td>\n",
       "      <td>0.0</td>\n",
       "    </tr>\n",
       "    <tr>\n",
       "      <th>...</th>\n",
       "      <td>...</td>\n",
       "      <td>...</td>\n",
       "      <td>...</td>\n",
       "      <td>...</td>\n",
       "    </tr>\n",
       "    <tr>\n",
       "      <th>10379</th>\n",
       "      <td>0.0</td>\n",
       "      <td>0.000000e+00</td>\n",
       "      <td>1.0</td>\n",
       "      <td>0.0</td>\n",
       "    </tr>\n",
       "    <tr>\n",
       "      <th>10380</th>\n",
       "      <td>0.0</td>\n",
       "      <td>0.000000e+00</td>\n",
       "      <td>1.0</td>\n",
       "      <td>0.0</td>\n",
       "    </tr>\n",
       "    <tr>\n",
       "      <th>10381</th>\n",
       "      <td>0.0</td>\n",
       "      <td>0.000000e+00</td>\n",
       "      <td>1.0</td>\n",
       "      <td>0.0</td>\n",
       "    </tr>\n",
       "    <tr>\n",
       "      <th>10382</th>\n",
       "      <td>0.0</td>\n",
       "      <td>3.853116e-20</td>\n",
       "      <td>1.0</td>\n",
       "      <td>0.0</td>\n",
       "    </tr>\n",
       "    <tr>\n",
       "      <th>10383</th>\n",
       "      <td>0.0</td>\n",
       "      <td>0.000000e+00</td>\n",
       "      <td>1.0</td>\n",
       "      <td>0.0</td>\n",
       "    </tr>\n",
       "  </tbody>\n",
       "</table>\n",
       "<p>10384 rows × 4 columns</p>\n",
       "</div>"
      ],
      "text/plain": [
       "         0             1    2    3\n",
       "0      0.0  5.306158e-32  1.0  0.0\n",
       "1      0.0  3.879792e-30  1.0  0.0\n",
       "2      0.0  4.431963e-29  1.0  0.0\n",
       "3      0.0  1.195933e-26  1.0  0.0\n",
       "4      0.0  4.122642e-34  1.0  0.0\n",
       "...    ...           ...  ...  ...\n",
       "10379  0.0  0.000000e+00  1.0  0.0\n",
       "10380  0.0  0.000000e+00  1.0  0.0\n",
       "10381  0.0  0.000000e+00  1.0  0.0\n",
       "10382  0.0  3.853116e-20  1.0  0.0\n",
       "10383  0.0  0.000000e+00  1.0  0.0\n",
       "\n",
       "[10384 rows x 4 columns]"
      ]
     },
     "execution_count": 115,
     "metadata": {},
     "output_type": "execute_result"
    }
   ],
   "source": [
    "dimReducedDataFrame = pd.DataFrame(Training_Feature_vector)\n",
    "dimReducedDataFrame"
   ]
  },
  {
   "cell_type": "code",
   "execution_count": 127,
   "id": "101010f4",
   "metadata": {},
   "outputs": [],
   "source": [
    "label = kmeans.predict(Training_Feature_vector)"
   ]
  },
  {
   "cell_type": "code",
   "execution_count": 128,
   "id": "ad995acb",
   "metadata": {},
   "outputs": [
    {
     "data": {
      "image/png": "[encoded data removed]",
      "text/plain": [
       "<Figure size 432x288 with 1 Axes>"
      ]
     },
     "metadata": {
      "needs_background": "light"
     },
     "output_type": "display_data"
    }
   ],
   "source": [
    "u_labels = np.unique(label)\n",
    "#plotting the results:\n",
    "for i in u_labels:\n",
    "    plt.scatter(Training_Feature_vector[label == i, 0], Training_Feature_vector[label == i, 1], label = i)\n",
    "plt.legend()\n",
    "plt.show()"
   ]
  },
  {
   "cell_type": "code",
   "execution_count": null,
   "id": "440be170",
   "metadata": {},
   "outputs": [],
   "source": []
  }
 ],
 "metadata": {
  "kernelspec": {
   "display_name": "conda_tensorflow_p36",
   "language": "python",
   "name": "conda_tensorflow_p36"
  },
  "language_info": {
   "codemirror_mode": {
    "name": "ipython",
    "version": 3
   },
   "file_extension": ".py",
   "mimetype": "text/x-python",
   "name": "python",
   "nbconvert_exporter": "python",
   "pygments_lexer": "ipython3",
   "version": "3.6.13"
  }
 },
 "nbformat": 4,
 "nbformat_minor": 5
}
