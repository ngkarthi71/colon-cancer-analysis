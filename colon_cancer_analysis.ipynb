{
 "cells": [
  {
   "cell_type": "code",
   "execution_count": 11,
   "id": "f694a70f",
   "metadata": {},
   "outputs": [],
   "source": [
    "import numpy as np\n",
    "import pandas as pd\n",
    "import matplotlib.pyplot as plt\n",
    "import matplotlib.patches as patches\n",
    "import os\n",
    "import cv2 as cv\n",
    "\n",
    "import IPython.display as display\n",
    "from PIL import Image\n",
    "\n",
    "from sklearn.model_selection import train_test_split\n"
   ]
  },
  {
   "cell_type": "code",
   "execution_count": 12,
   "id": "09ef5221",
   "metadata": {},
   "outputs": [
    {
     "name": "stdout",
     "output_type": "stream",
     "text": [
      "2.5.0\n"
     ]
    }
   ],
   "source": [
    "import tensorflow as tf\n",
    "from tensorflow.keras.preprocessing.image import ImageDataGenerator\n",
    "from tensorflow.keras.models import load_model\n",
    "\n",
    "AUTOTUNE = tf.data.experimental.AUTOTUNE\n",
    "\n",
    "print(tf.__version__)"
   ]
  },
  {
   "cell_type": "code",
   "execution_count": 13,
   "id": "19ee16a7",
   "metadata": {},
   "outputs": [],
   "source": [
    "colon_main = pd.read_csv(\"./Image_classification_data/data_labels_mainData.csv\")"
   ]
  },
  {
   "cell_type": "code",
   "execution_count": 123,
   "id": "04beafe8",
   "metadata": {},
   "outputs": [
    {
     "data": {
      "text/html": [
       "<div>\n",
       "<style scoped>\n",
       "    .dataframe tbody tr th:only-of-type {\n",
       "        vertical-align: middle;\n",
       "    }\n",
       "\n",
       "    .dataframe tbody tr th {\n",
       "        vertical-align: top;\n",
       "    }\n",
       "\n",
       "    .dataframe thead th {\n",
       "        text-align: right;\n",
       "    }\n",
       "</style>\n",
       "<table border=\"1\" class=\"dataframe\">\n",
       "  <thead>\n",
       "    <tr style=\"text-align: right;\">\n",
       "      <th></th>\n",
       "      <th>InstanceID</th>\n",
       "      <th>patientID</th>\n",
       "      <th>ImageName</th>\n",
       "      <th>cellTypeName</th>\n",
       "      <th>cellType</th>\n",
       "      <th>isCancerous</th>\n",
       "    </tr>\n",
       "  </thead>\n",
       "  <tbody>\n",
       "    <tr>\n",
       "      <th>0</th>\n",
       "      <td>22405</td>\n",
       "      <td>1</td>\n",
       "      <td>22405.png</td>\n",
       "      <td>fibroblast</td>\n",
       "      <td>0</td>\n",
       "      <td>0</td>\n",
       "    </tr>\n",
       "    <tr>\n",
       "      <th>1</th>\n",
       "      <td>22406</td>\n",
       "      <td>1</td>\n",
       "      <td>22406.png</td>\n",
       "      <td>fibroblast</td>\n",
       "      <td>0</td>\n",
       "      <td>0</td>\n",
       "    </tr>\n",
       "    <tr>\n",
       "      <th>2</th>\n",
       "      <td>22407</td>\n",
       "      <td>1</td>\n",
       "      <td>22407.png</td>\n",
       "      <td>fibroblast</td>\n",
       "      <td>0</td>\n",
       "      <td>0</td>\n",
       "    </tr>\n",
       "    <tr>\n",
       "      <th>3</th>\n",
       "      <td>22408</td>\n",
       "      <td>1</td>\n",
       "      <td>22408.png</td>\n",
       "      <td>fibroblast</td>\n",
       "      <td>0</td>\n",
       "      <td>0</td>\n",
       "    </tr>\n",
       "    <tr>\n",
       "      <th>4</th>\n",
       "      <td>22409</td>\n",
       "      <td>1</td>\n",
       "      <td>22409.png</td>\n",
       "      <td>fibroblast</td>\n",
       "      <td>0</td>\n",
       "      <td>0</td>\n",
       "    </tr>\n",
       "  </tbody>\n",
       "</table>\n",
       "</div>"
      ],
      "text/plain": [
       "   InstanceID  patientID  ImageName cellTypeName  cellType  isCancerous\n",
       "0       22405          1  22405.png   fibroblast         0            0\n",
       "1       22406          1  22406.png   fibroblast         0            0\n",
       "2       22407          1  22407.png   fibroblast         0            0\n",
       "3       22408          1  22408.png   fibroblast         0            0\n",
       "4       22409          1  22409.png   fibroblast         0            0"
      ]
     },
     "execution_count": 123,
     "metadata": {},
     "output_type": "execute_result"
    }
   ],
   "source": [
    "colon_main.head()"
   ]
  },
  {
   "cell_type": "code",
   "execution_count": 5,
   "id": "a44a4ed5",
   "metadata": {},
   "outputs": [
    {
     "data": {
      "text/plain": [
       "InstanceID       int64\n",
       "patientID        int64\n",
       "ImageName       object\n",
       "cellTypeName    object\n",
       "cellType         int64\n",
       "isCancerous      int64\n",
       "dtype: object"
      ]
     },
     "execution_count": 5,
     "metadata": {},
     "output_type": "execute_result"
    }
   ],
   "source": [
    "colon_main.dtypes"
   ]
  },
  {
   "cell_type": "code",
   "execution_count": 6,
   "id": "eb00caae",
   "metadata": {},
   "outputs": [
    {
     "data": {
      "text/plain": [
       "InstanceID      0\n",
       "patientID       0\n",
       "ImageName       0\n",
       "cellTypeName    0\n",
       "cellType        0\n",
       "isCancerous     0\n",
       "dtype: int64"
      ]
     },
     "execution_count": 6,
     "metadata": {},
     "output_type": "execute_result"
    }
   ],
   "source": [
    "colon_main.isnull().sum()"
   ]
  },
  {
   "cell_type": "code",
   "execution_count": 5,
   "id": "e3adf675",
   "metadata": {},
   "outputs": [
    {
     "name": "stdout",
     "output_type": "stream",
     "text": [
      "Train data : 5937, \n",
      "Val Data: 1979, \n",
      "Test Data: 1980\n"
     ]
    }
   ],
   "source": [
    "train_data, test_data = train_test_split(colon_main, test_size=0.2, random_state=42)\n",
    "train_data, val_data = train_test_split(train_data, test_size=0.25, random_state=42)\n",
    "\n",
    "print(\"Train data : {}, \\nVal Data: {}, \\nTest Data: {}\".format(train_data.shape[0], val_data.shape[0], test_data.shape[0]))"
   ]
  },
  {
   "cell_type": "code",
   "execution_count": 4,
   "id": "812d5abb",
   "metadata": {},
   "outputs": [],
   "source": [
    "def plot_learning_curve(train_loss, val_loss, train_metric, val_metric, metric_name='Accuracy'):\n",
    "    plt.figure(figsize=(10,5))\n",
    "    \n",
    "    plt.subplot(1,2,1)\n",
    "    plt.plot(train_loss, 'r--')\n",
    "    plt.plot(val_loss, 'b--')\n",
    "    plt.xlabel(\"epochs\")\n",
    "    plt.ylabel(\"Loss\")\n",
    "    plt.legend(['train', 'val'], loc='upper left')\n",
    "\n",
    "    plt.subplot(1,2,2)\n",
    "    plt.plot(train_metric, 'r--')\n",
    "    plt.plot(val_metric, 'b--')\n",
    "    plt.xlabel(\"epochs\")\n",
    "    plt.ylabel(metric_name)\n",
    "    plt.legend(['train', 'val'], loc='upper left')\n",
    "\n",
    "    plt.show()"
   ]
  },
  {
   "cell_type": "code",
   "execution_count": 15,
   "id": "a7c955f3",
   "metadata": {},
   "outputs": [],
   "source": [
    "import os, shutil, glob\n",
    "\n",
    "src_dir = \"./Image_classification_data/patch_images\"\n",
    "dst_dir = \"./Image_classification_data/main_images\"\n",
    "\n",
    "for img in colon_main['ImageName']:\n",
    "    shutil.copy(os.path.join(src_dir, img), dst_dir)\n",
    "    "
   ]
  },
  {
   "cell_type": "code",
   "execution_count": null,
   "id": "d8997f56",
   "metadata": {},
   "outputs": [],
   "source": []
  },
  {
   "cell_type": "code",
   "execution_count": null,
   "id": "d78212aa",
   "metadata": {},
   "outputs": [],
   "source": []
  },
  {
   "cell_type": "code",
   "execution_count": 87,
   "id": "57cbb954",
   "metadata": {},
   "outputs": [],
   "source": [
    "colon_extra = pd.read_csv(\"./Image_classification_data/data_labels_extraData.csv\")"
   ]
  },
  {
   "cell_type": "code",
   "execution_count": 14,
   "id": "08400399",
   "metadata": {},
   "outputs": [],
   "source": [
    "import os, shutil, glob\n",
    "\n",
    "src_dir = \"./Image_classification_data/patch_images\"\n",
    "dst_dir = \"./Image_classification_data/extra_images\"\n",
    "\n",
    "for img in colon_extra['ImageName']:\n",
    "    \n",
    "    shutil.copy(os.path.join(src_dir, img), dst_dir)\n",
    "    "
   ]
  },
  {
   "cell_type": "code",
   "execution_count": 88,
   "id": "4df17901",
   "metadata": {},
   "outputs": [
    {
     "name": "stdout",
     "output_type": "stream",
     "text": [
      "Train data : 3462, \n",
      "Val Data: 3461, \n",
      "Test Data: 3461\n"
     ]
    }
   ],
   "source": [
    "train_data, test_data = train_test_split(colon_extra, test_size=colon_extra.shape[0]//3, random_state=42)\n",
    "train_data, val_data = train_test_split(train_data, test_size=colon_extra.shape[0]//3, random_state=42)\n",
    "\n",
    "print(\"Train data : {}, \\nVal Data: {}, \\nTest Data: {}\".format(train_data.shape[0], val_data.shape[0], test_data.shape[0]))"
   ]
  },
  {
   "cell_type": "code",
   "execution_count": 18,
   "id": "0340e7b5",
   "metadata": {},
   "outputs": [
    {
     "data": {
      "text/html": [
       "<div>\n",
       "<style scoped>\n",
       "    .dataframe tbody tr th:only-of-type {\n",
       "        vertical-align: middle;\n",
       "    }\n",
       "\n",
       "    .dataframe tbody tr th {\n",
       "        vertical-align: top;\n",
       "    }\n",
       "\n",
       "    .dataframe thead th {\n",
       "        text-align: right;\n",
       "    }\n",
       "</style>\n",
       "<table border=\"1\" class=\"dataframe\">\n",
       "  <thead>\n",
       "    <tr style=\"text-align: right;\">\n",
       "      <th></th>\n",
       "      <th>InstanceID</th>\n",
       "      <th>patientID</th>\n",
       "      <th>ImageName</th>\n",
       "      <th>isCancerous</th>\n",
       "    </tr>\n",
       "  </thead>\n",
       "  <tbody>\n",
       "    <tr>\n",
       "      <th>6837</th>\n",
       "      <td>9612</td>\n",
       "      <td>86</td>\n",
       "      <td>9612.png</td>\n",
       "      <td>0</td>\n",
       "    </tr>\n",
       "    <tr>\n",
       "      <th>7097</th>\n",
       "      <td>12301</td>\n",
       "      <td>87</td>\n",
       "      <td>12301.png</td>\n",
       "      <td>0</td>\n",
       "    </tr>\n",
       "    <tr>\n",
       "      <th>9420</th>\n",
       "      <td>21326</td>\n",
       "      <td>92</td>\n",
       "      <td>21326.png</td>\n",
       "      <td>0</td>\n",
       "    </tr>\n",
       "    <tr>\n",
       "      <th>9074</th>\n",
       "      <td>19498</td>\n",
       "      <td>91</td>\n",
       "      <td>19498.png</td>\n",
       "      <td>0</td>\n",
       "    </tr>\n",
       "    <tr>\n",
       "      <th>5483</th>\n",
       "      <td>17855</td>\n",
       "      <td>82</td>\n",
       "      <td>17855.png</td>\n",
       "      <td>0</td>\n",
       "    </tr>\n",
       "  </tbody>\n",
       "</table>\n",
       "</div>"
      ],
      "text/plain": [
       "      InstanceID  patientID  ImageName  isCancerous\n",
       "6837        9612         86   9612.png            0\n",
       "7097       12301         87  12301.png            0\n",
       "9420       21326         92  21326.png            0\n",
       "9074       19498         91  19498.png            0\n",
       "5483       17855         82  17855.png            0"
      ]
     },
     "execution_count": 18,
     "metadata": {},
     "output_type": "execute_result"
    }
   ],
   "source": [
    "train_data.head()"
   ]
  },
  {
   "cell_type": "code",
   "execution_count": 16,
   "id": "b879f18f",
   "metadata": {},
   "outputs": [],
   "source": [
    "base_model = load_model(\"predict_celltype.h5\")"
   ]
  },
  {
   "cell_type": "code",
   "execution_count": 17,
   "id": "2a27d68b",
   "metadata": {},
   "outputs": [],
   "source": [
    "from sklearn.datasets import make_blobs\n",
    "from sklearn.preprocessing import MinMaxScaler\n",
    "\n",
    "X, train_data['cellType'], = make_blobs(n_samples=3462, centers=4, n_features=1, random_state=42)\n"
   ]
  },
  {
   "cell_type": "code",
   "execution_count": 83,
   "id": "c2cb7a55",
   "metadata": {},
   "outputs": [
    {
     "data": {
      "text/plain": [
       "array(['0', '1', '2', '3'], dtype=object)"
      ]
     },
     "execution_count": 83,
     "metadata": {},
     "output_type": "execute_result"
    }
   ],
   "source": [
    "np.unique(train_data['cellType'])"
   ]
  },
  {
   "cell_type": "code",
   "execution_count": 106,
   "id": "0ae1db28",
   "metadata": {},
   "outputs": [
    {
     "data": {
      "text/html": [
       "<div>\n",
       "<style scoped>\n",
       "    .dataframe tbody tr th:only-of-type {\n",
       "        vertical-align: middle;\n",
       "    }\n",
       "\n",
       "    .dataframe tbody tr th {\n",
       "        vertical-align: top;\n",
       "    }\n",
       "\n",
       "    .dataframe thead th {\n",
       "        text-align: right;\n",
       "    }\n",
       "</style>\n",
       "<table border=\"1\" class=\"dataframe\">\n",
       "  <thead>\n",
       "    <tr style=\"text-align: right;\">\n",
       "      <th></th>\n",
       "      <th>InstanceID</th>\n",
       "      <th>patientID</th>\n",
       "      <th>ImageName</th>\n",
       "      <th>isCancerous</th>\n",
       "    </tr>\n",
       "  </thead>\n",
       "  <tbody>\n",
       "    <tr>\n",
       "      <th>8952</th>\n",
       "      <td>19370</td>\n",
       "      <td>91</td>\n",
       "      <td>19370.png</td>\n",
       "      <td>0</td>\n",
       "    </tr>\n",
       "    <tr>\n",
       "      <th>2922</th>\n",
       "      <td>1816</td>\n",
       "      <td>77</td>\n",
       "      <td>1816.png</td>\n",
       "      <td>0</td>\n",
       "    </tr>\n",
       "    <tr>\n",
       "      <th>1803</th>\n",
       "      <td>6543</td>\n",
       "      <td>68</td>\n",
       "      <td>6543.png</td>\n",
       "      <td>1</td>\n",
       "    </tr>\n",
       "    <tr>\n",
       "      <th>8102</th>\n",
       "      <td>14850</td>\n",
       "      <td>89</td>\n",
       "      <td>14850.png</td>\n",
       "      <td>0</td>\n",
       "    </tr>\n",
       "    <tr>\n",
       "      <th>3438</th>\n",
       "      <td>2373</td>\n",
       "      <td>77</td>\n",
       "      <td>2373.png</td>\n",
       "      <td>0</td>\n",
       "    </tr>\n",
       "  </tbody>\n",
       "</table>\n",
       "</div>"
      ],
      "text/plain": [
       "      InstanceID  patientID  ImageName  isCancerous\n",
       "8952       19370         91  19370.png            0\n",
       "2922        1816         77   1816.png            0\n",
       "1803        6543         68   6543.png            1\n",
       "8102       14850         89  14850.png            0\n",
       "3438        2373         77   2373.png            0"
      ]
     },
     "execution_count": 106,
     "metadata": {},
     "output_type": "execute_result"
    }
   ],
   "source": [
    "test_data.head()"
   ]
  },
  {
   "cell_type": "code",
   "execution_count": 113,
   "id": "64d272f4",
   "metadata": {},
   "outputs": [],
   "source": [
    "path = './Image_classification_data/patch_images/22405.png' \n",
    "\n",
    "img = cv.imread(path)\n",
    "fin_img = cv.resize(img, (27,27))\n",
    "fin_img = np.expand_dims(fin_img, 0)"
   ]
  },
  {
   "cell_type": "code",
   "execution_count": 64,
   "id": "fcd14647",
   "metadata": {},
   "outputs": [
    {
     "name": "stdout",
     "output_type": "stream",
     "text": [
      "Found 3462 validated image filenames belonging to 4 classes.\n"
     ]
    }
   ],
   "source": [
    "train_data['cellType'] = train_data['cellType'].astype('str')\n",
    "\n",
    "cell_train_datagen = ImageDataGenerator(\n",
    "                                rescale=1./255, \n",
    "                                data_format='channels_last',)\n",
    "\n",
    "batch_size = 1\n",
    "\n",
    "cell_train_generator = cell_train_datagen.flow_from_dataframe(\n",
    "        dataframe=train_data,\n",
    "        directory='./Image_classification_data/extra_images/',\n",
    "        x_col=\"ImageName\",\n",
    "        y_col=\"cellType\",\n",
    "        target_size=(27, 27),\n",
    "        batch_size=batch_size,\n",
    "        class_mode='categorical')"
   ]
  },
  {
   "cell_type": "code",
   "execution_count": 115,
   "id": "25215ca9",
   "metadata": {},
   "outputs": [
    {
     "data": {
      "text/plain": [
       "array([[0.0000000e+00, 3.0582913e-20, 1.0000000e+00, 0.0000000e+00]],\n",
       "      dtype=float32)"
      ]
     },
     "execution_count": 115,
     "metadata": {},
     "output_type": "execute_result"
    }
   ],
   "source": [
    "base_model.predict(fin_img)"
   ]
  },
  {
   "cell_type": "code",
   "execution_count": 53,
   "id": "f63a57c8",
   "metadata": {},
   "outputs": [],
   "source": [
    "cell_model1 = load_model(\"predict_celltype_extra\")"
   ]
  },
  {
   "cell_type": "code",
   "execution_count": 74,
   "id": "70c17ee2",
   "metadata": {},
   "outputs": [
    {
     "name": "stdout",
     "output_type": "stream",
     "text": [
      "3462/3462 [==============================] - 8s 2ms/step - loss: 2.2261 - categorical_accuracy: 0.2499\n"
     ]
    },
    {
     "data": {
      "text/plain": [
       "[2.226050615310669, 0.24985557794570923]"
      ]
     },
     "execution_count": 74,
     "metadata": {},
     "output_type": "execute_result"
    }
   ],
   "source": [
    "base_model.evaluate(cell_train_generator)"
   ]
  },
  {
   "cell_type": "code",
   "execution_count": 67,
   "id": "d5cf1cac",
   "metadata": {},
   "outputs": [],
   "source": [
    "label_names = {'fibroblast': 0, 'inflammatory':1, 'epithelial': 2, 'others':3}"
   ]
  },
  {
   "cell_type": "code",
   "execution_count": 73,
   "id": "2789992f",
   "metadata": {},
   "outputs": [
    {
     "data": {
      "image/png": "[encoded data removed]",
      "text/plain": [
       "<Figure size 1152x288 with 4 Axes>"
      ]
     },
     "metadata": {
      "needs_background": "light"
     },
     "output_type": "display_data"
    }
   ],
   "source": [
    "d_inv = {v: k for k, v in label_names.items()}\n",
    "plt.figure(figsize=(16,4))\n",
    "batches = 0\n",
    "for x,y in cell_train_generator:\n",
    "        batches = batches + 1\n",
    "        y_hat = base_model.predict(x, verbose=0)\n",
    "        \n",
    "        x = np.squeeze(x)\n",
    "        if batches < 5:\n",
    "            plt.subplot(1,5,batches)\n",
    "            plt.imshow(x)\n",
    "            plt.title(\"GT-{}, Pred-{}\".format(d_inv[np.argmax(y[0])], d_inv[np.argmax(y_hat[0])]))\n",
    "        else:\n",
    "            break\n",
    "        \n",
    "        plt.axis('off')"
   ]
  },
  {
   "cell_type": "code",
   "execution_count": null,
   "id": "6f7d355c",
   "metadata": {},
   "outputs": [],
   "source": [
    "d_inv = {v: k for k, v in label_names.items()}\n",
    "preds = []\n",
    "for x,y in cell_predict_generator:\n",
    "    y_hat = cell_model1.predict(x, verbose=0)\n",
    "    preds.append(d_inv[np.argmax(y_hat[0])])"
   ]
  },
  {
   "cell_type": "code",
   "execution_count": null,
   "id": "ce7090fc",
   "metadata": {},
   "outputs": [],
   "source": [
    "preds"
   ]
  },
  {
   "cell_type": "code",
   "execution_count": 25,
   "id": "92461747",
   "metadata": {},
   "outputs": [],
   "source": [
    "cell_type_model_reg_pred = load_model(\"predict_celltype.h5\")"
   ]
  },
  {
   "cell_type": "code",
   "execution_count": 26,
   "id": "f1efd4ca",
   "metadata": {},
   "outputs": [
    {
     "name": "stdout",
     "output_type": "stream",
     "text": [
      "3462/3462 [==============================] - 7s 2ms/step - loss: 2.2271 - categorical_accuracy: 0.2499\n"
     ]
    },
    {
     "data": {
      "text/plain": [
       "[2.227069854736328, 0.24985557794570923]"
      ]
     },
     "execution_count": 26,
     "metadata": {},
     "output_type": "execute_result"
    }
   ],
   "source": [
    "cell_type_model_reg_pred.evaluate(cell_train_generator)"
   ]
  },
  {
   "cell_type": "code",
   "execution_count": 24,
   "id": "2660d9e6",
   "metadata": {},
   "outputs": [
    {
     "name": "stdout",
     "output_type": "stream",
     "text": [
      "KerasTensor(type_spec=TensorSpec(shape=(None, 27, 27, 3), dtype=tf.float32, name='input_12'), name='input_12', description=\"created by layer 'input_12'\") KerasTensor(type_spec=TensorSpec(shape=(None, 4), dtype=tf.float32, name=None), name='dense_27/Softmax:0', description=\"created by layer 'dense_27'\")\n"
     ]
    }
   ],
   "source": [
    "print(cell_type_model_reg_pred.input, cell_type_model_reg_pred.output)"
   ]
  },
  {
   "cell_type": "code",
   "execution_count": 25,
   "id": "3b70fa5c",
   "metadata": {},
   "outputs": [
    {
     "name": "stdout",
     "output_type": "stream",
     "text": [
      "Model: \"model_1\"\n",
      "_________________________________________________________________\n",
      "Layer (type)                 Output Shape              Param #   \n",
      "=================================================================\n",
      "input_12 (InputLayer)        [(None, 27, 27, 3)]       0         \n",
      "_________________________________________________________________\n",
      "conv2d_25 (Conv2D)           (None, 27, 27, 32)        2432      \n",
      "_________________________________________________________________\n",
      "max_pooling2d_20 (MaxPooling (None, 13, 13, 32)        0         \n",
      "_________________________________________________________________\n",
      "conv2d_26 (Conv2D)           (None, 9, 9, 48)          38448     \n",
      "_________________________________________________________________\n",
      "max_pooling2d_21 (MaxPooling (None, 4, 4, 48)          0         \n",
      "_________________________________________________________________\n",
      "conv2d_27 (Conv2D)           (None, 2, 2, 64)          27712     \n",
      "_________________________________________________________________\n",
      "max_pooling2d_22 (MaxPooling (None, 1, 1, 64)          0         \n",
      "_________________________________________________________________\n",
      "flatten_10 (Flatten)         (None, 64)                0         \n",
      "_________________________________________________________________\n",
      "dense_25 (Dense)             (None, 256)               16640     \n",
      "_________________________________________________________________\n",
      "dense_26 (Dense)             (None, 84)                21588     \n",
      "_________________________________________________________________\n",
      "dropout_10 (Dropout)         (None, 84)                0         \n",
      "_________________________________________________________________\n",
      "dense_27 (Dense)             (None, 4)                 340       \n",
      "=================================================================\n",
      "Total params: 107,160\n",
      "Trainable params: 107,160\n",
      "Non-trainable params: 0\n",
      "_________________________________________________________________\n"
     ]
    }
   ],
   "source": [
    "from tensorflow.keras.models import Model\n",
    "model = Model(cell_type_model_reg_pred.input, cell_type_model_reg_pred.output)\n",
    "\n",
    "model.compile(optimizer='adam',\n",
    "              loss='categorical_crossentropy',\n",
    "              metrics=['accuracy'])\n",
    "\n",
    "model.summary()"
   ]
  },
  {
   "cell_type": "code",
   "execution_count": 27,
   "id": "33ff2050",
   "metadata": {},
   "outputs": [
    {
     "name": "stdout",
     "output_type": "stream",
     "text": [
      "Found 10384 validated image filenames belonging to 4 classes.\n"
     ]
    }
   ],
   "source": [
    "colon_extra['cellType'] = colon_extra['cellType'].astype('str')\n",
    "\n",
    "cell_predict_datagen = ImageDataGenerator(rescale=1./255, data_format='channels_last')\n",
    "\n",
    "batch_size = 27\n",
    "\n",
    "cell_predict_generator = cell_predict_datagen.flow_from_dataframe(\n",
    "        dataframe=colon_extra,\n",
    "        directory='./Image_classification_data/patch_images/',\n",
    "        x_col=\"ImageName\",\n",
    "        y_col=\"cellType\",\n",
    "        target_size=(27, 27),\n",
    "        batch_size=batch_size,\n",
    "        class_mode='categorical')"
   ]
  },
  {
   "cell_type": "code",
   "execution_count": 28,
   "id": "767ab5fe",
   "metadata": {},
   "outputs": [
    {
     "name": "stdout",
     "output_type": "stream",
     "text": [
      "385/385 [==============================] - 6s 15ms/step - loss: 2.7947 - accuracy: 0.2500\n"
     ]
    },
    {
     "data": {
      "text/plain": [
       "[2.7946949005126953, 0.25]"
      ]
     },
     "execution_count": 28,
     "metadata": {},
     "output_type": "execute_result"
    }
   ],
   "source": [
    "model.evaluate(cell_predict_generator)"
   ]
  },
  {
   "cell_type": "code",
   "execution_count": null,
   "id": "154cf193",
   "metadata": {},
   "outputs": [],
   "source": []
  },
  {
   "cell_type": "code",
   "execution_count": 8,
   "id": "cfe6178b",
   "metadata": {},
   "outputs": [],
   "source": [
    "from tensorflow.keras.models import Model\n",
    "from tensorflow.keras.layers import Dense\n",
    "from tensorflow.keras.layers import Flatten\n",
    "cell_type_model_reg_pred = load_model(\"predict_celltype_extra1.h5\")\n",
    "model = Model(cell_type_model_reg_pred.input, cell_type_model_reg_pred.output)"
   ]
  },
  {
   "cell_type": "code",
   "execution_count": 17,
   "id": "ce9ab4f5",
   "metadata": {},
   "outputs": [
    {
     "name": "stdout",
     "output_type": "stream",
     "text": [
      "Model: \"model_2\"\n",
      "_________________________________________________________________\n",
      "Layer (type)                 Output Shape              Param #   \n",
      "=================================================================\n",
      "input_12 (InputLayer)        [(None, 27, 27, 3)]       0         \n",
      "_________________________________________________________________\n",
      "conv2d_25 (Conv2D)           (None, 27, 27, 32)        2432      \n",
      "_________________________________________________________________\n",
      "max_pooling2d_20 (MaxPooling (None, 13, 13, 32)        0         \n",
      "_________________________________________________________________\n",
      "conv2d_26 (Conv2D)           (None, 9, 9, 48)          38448     \n",
      "_________________________________________________________________\n",
      "max_pooling2d_21 (MaxPooling (None, 4, 4, 48)          0         \n",
      "_________________________________________________________________\n",
      "conv2d_27 (Conv2D)           (None, 2, 2, 64)          27712     \n",
      "_________________________________________________________________\n",
      "max_pooling2d_22 (MaxPooling (None, 1, 1, 64)          0         \n",
      "_________________________________________________________________\n",
      "flatten_10 (Flatten)         (None, 64)                0         \n",
      "_________________________________________________________________\n",
      "dense_25 (Dense)             (None, 256)               16640     \n",
      "_________________________________________________________________\n",
      "dense_26 (Dense)             (None, 84)                21588     \n",
      "_________________________________________________________________\n",
      "dropout_10 (Dropout)         (None, 84)                0         \n",
      "_________________________________________________________________\n",
      "dense_27 (Dense)             (None, 4)                 340       \n",
      "=================================================================\n",
      "Total params: 107,160\n",
      "Trainable params: 107,160\n",
      "Non-trainable params: 0\n",
      "_________________________________________________________________\n"
     ]
    }
   ],
   "source": [
    "model.layers[0].trainable = False\n",
    "# add new classifier layers\n",
    "flat1 = Flatten()(cell_type_model_reg_pred.output)\n",
    "class1 = Dense(1024, activation='relu')(flat1)\n",
    "# define new model\n",
    "model = Model(inputs=model.inputs, outputs=model.outputs)\n",
    "model.load_weights(\"predict_celltype_extra1.h5\")\n",
    "\n",
    "model.compile(optimizer='adam',\n",
    "              loss='categorical_crossentropy',\n",
    "              metrics=['accuracy'])\n",
    "\n",
    "model.summary()"
   ]
  },
  {
   "cell_type": "code",
   "execution_count": 19,
   "id": "ae9240fb",
   "metadata": {},
   "outputs": [],
   "source": []
  },
  {
   "cell_type": "code",
   "execution_count": 26,
   "id": "17522978",
   "metadata": {},
   "outputs": [
    {
     "data": {
      "text/plain": [
       "10384"
      ]
     },
     "execution_count": 26,
     "metadata": {},
     "output_type": "execute_result"
    }
   ],
   "source": []
  },
  {
   "cell_type": "code",
   "execution_count": 18,
   "id": "c917782a",
   "metadata": {},
   "outputs": [
    {
     "name": "stdout",
     "output_type": "stream",
     "text": [
      "10384/10384 [==============================] - 22s 2ms/step - loss: 2.7947 - accuracy: 0.2500\n"
     ]
    },
    {
     "data": {
      "text/plain": [
       "[2.7946949005126953, 0.25]"
      ]
     },
     "execution_count": 18,
     "metadata": {},
     "output_type": "execute_result"
    }
   ],
   "source": [
    "model.evaluate(cell_predict_generator)"
   ]
  },
  {
   "cell_type": "code",
   "execution_count": 47,
   "id": "d4435f47",
   "metadata": {},
   "outputs": [],
   "source": [
    "FlattenImages = {\n",
    "    'photo_name' : [],\n",
    "    'flattenPhoto' : [],\n",
    "    }"
   ]
  },
  {
   "cell_type": "code",
   "execution_count": 49,
   "id": "3984dd8b",
   "metadata": {},
   "outputs": [],
   "source": [
    "colon_extra['FlattenData'] = None\n",
    "for img in colon_extra['ImageName']:\n",
    "    FlattenImages['photo_name'].append(img)\n",
    "    path = './Image_classification_data/patch_images/' + img\n",
    "    img = cv.imread(path)\n",
    "    img = cv.resize(img, (27, 27))\n",
    "    ## Expanding image dims so this represents 1 sample\n",
    "    img = img = np.expand_dims(img, 0)\n",
    "    img = tf.keras.applications.resnet50.preprocess_input(img)\n",
    "    extractedFeatures = model.predict(img)\n",
    "    extractedFeatures = np.array(extractedFeatures)\n",
    "    FlattenImages['flattenPhoto'].append(extractedFeatures.flatten())"
   ]
  },
  {
   "cell_type": "code",
   "execution_count": 106,
   "id": "c6803776",
   "metadata": {},
   "outputs": [
    {
     "data": {
      "text/plain": [
       "AgglomerativeClustering(n_clusters=4)"
      ]
     },
     "execution_count": 106,
     "metadata": {},
     "output_type": "execute_result"
    }
   ],
   "source": [
    "Training_Feature_vector = np.array(FlattenImages['flattenPhoto'], dtype = 'float64')\n",
    "from sklearn.cluster import AgglomerativeClustering\n",
    "kmeans = AgglomerativeClustering(n_clusters = 4)\n",
    "kmeans.fit(Training_Feature_vector)"
   ]
  },
  {
   "cell_type": "code",
   "execution_count": 57,
   "id": "634f99ee",
   "metadata": {},
   "outputs": [
    {
     "data": {
      "text/html": [
       "<div>\n",
       "<style scoped>\n",
       "    .dataframe tbody tr th:only-of-type {\n",
       "        vertical-align: middle;\n",
       "    }\n",
       "\n",
       "    .dataframe tbody tr th {\n",
       "        vertical-align: top;\n",
       "    }\n",
       "\n",
       "    .dataframe thead th {\n",
       "        text-align: right;\n",
       "    }\n",
       "</style>\n",
       "<table border=\"1\" class=\"dataframe\">\n",
       "  <thead>\n",
       "    <tr style=\"text-align: right;\">\n",
       "      <th></th>\n",
       "      <th>0</th>\n",
       "      <th>1</th>\n",
       "      <th>2</th>\n",
       "      <th>3</th>\n",
       "    </tr>\n",
       "  </thead>\n",
       "  <tbody>\n",
       "    <tr>\n",
       "      <th>0</th>\n",
       "      <td>0.254837</td>\n",
       "      <td>0.255506</td>\n",
       "      <td>0.252567</td>\n",
       "      <td>0.23709</td>\n",
       "    </tr>\n",
       "    <tr>\n",
       "      <th>1</th>\n",
       "      <td>0.254837</td>\n",
       "      <td>0.255506</td>\n",
       "      <td>0.252567</td>\n",
       "      <td>0.23709</td>\n",
       "    </tr>\n",
       "    <tr>\n",
       "      <th>2</th>\n",
       "      <td>0.254837</td>\n",
       "      <td>0.255506</td>\n",
       "      <td>0.252567</td>\n",
       "      <td>0.23709</td>\n",
       "    </tr>\n",
       "    <tr>\n",
       "      <th>3</th>\n",
       "      <td>0.254837</td>\n",
       "      <td>0.255506</td>\n",
       "      <td>0.252567</td>\n",
       "      <td>0.23709</td>\n",
       "    </tr>\n",
       "    <tr>\n",
       "      <th>4</th>\n",
       "      <td>0.254837</td>\n",
       "      <td>0.255506</td>\n",
       "      <td>0.252567</td>\n",
       "      <td>0.23709</td>\n",
       "    </tr>\n",
       "    <tr>\n",
       "      <th>...</th>\n",
       "      <td>...</td>\n",
       "      <td>...</td>\n",
       "      <td>...</td>\n",
       "      <td>...</td>\n",
       "    </tr>\n",
       "    <tr>\n",
       "      <th>10379</th>\n",
       "      <td>0.254837</td>\n",
       "      <td>0.255506</td>\n",
       "      <td>0.252567</td>\n",
       "      <td>0.23709</td>\n",
       "    </tr>\n",
       "    <tr>\n",
       "      <th>10380</th>\n",
       "      <td>0.254837</td>\n",
       "      <td>0.255506</td>\n",
       "      <td>0.252567</td>\n",
       "      <td>0.23709</td>\n",
       "    </tr>\n",
       "    <tr>\n",
       "      <th>10381</th>\n",
       "      <td>0.254837</td>\n",
       "      <td>0.255506</td>\n",
       "      <td>0.252567</td>\n",
       "      <td>0.23709</td>\n",
       "    </tr>\n",
       "    <tr>\n",
       "      <th>10382</th>\n",
       "      <td>0.254837</td>\n",
       "      <td>0.255506</td>\n",
       "      <td>0.252567</td>\n",
       "      <td>0.23709</td>\n",
       "    </tr>\n",
       "    <tr>\n",
       "      <th>10383</th>\n",
       "      <td>0.254837</td>\n",
       "      <td>0.255506</td>\n",
       "      <td>0.252567</td>\n",
       "      <td>0.23709</td>\n",
       "    </tr>\n",
       "  </tbody>\n",
       "</table>\n",
       "<p>10384 rows × 4 columns</p>\n",
       "</div>"
      ],
      "text/plain": [
       "              0         1         2        3\n",
       "0      0.254837  0.255506  0.252567  0.23709\n",
       "1      0.254837  0.255506  0.252567  0.23709\n",
       "2      0.254837  0.255506  0.252567  0.23709\n",
       "3      0.254837  0.255506  0.252567  0.23709\n",
       "4      0.254837  0.255506  0.252567  0.23709\n",
       "...         ...       ...       ...      ...\n",
       "10379  0.254837  0.255506  0.252567  0.23709\n",
       "10380  0.254837  0.255506  0.252567  0.23709\n",
       "10381  0.254837  0.255506  0.252567  0.23709\n",
       "10382  0.254837  0.255506  0.252567  0.23709\n",
       "10383  0.254837  0.255506  0.252567  0.23709\n",
       "\n",
       "[10384 rows x 4 columns]"
      ]
     },
     "execution_count": 57,
     "metadata": {},
     "output_type": "execute_result"
    }
   ],
   "source": [
    "dimReducedDataFrame = pd.DataFrame(Training_Feature_vector)\n",
    "dimReducedDataFrame"
   ]
  },
  {
   "cell_type": "code",
   "execution_count": 107,
   "id": "01f989e4",
   "metadata": {},
   "outputs": [],
   "source": [
    "label = kmeans.fit_predict(Training_Feature_vector)"
   ]
  },
  {
   "cell_type": "code",
   "execution_count": 108,
   "id": "fd240155",
   "metadata": {},
   "outputs": [
    {
     "data": {
      "image/png": "[encoded data removed]",
      "text/plain": [
       "<Figure size 432x288 with 1 Axes>"
      ]
     },
     "metadata": {
      "needs_background": "light"
     },
     "output_type": "display_data"
    }
   ],
   "source": [
    "u_labels = np.unique(label)\n",
    "#plotting the results:\n",
    "for i in u_labels:\n",
    "    plt.scatter(Training_Feature_vector[label == i, 0], Training_Feature_vector[label == i, 1], label = i)\n",
    "plt.legend()\n",
    "plt.show()"
   ]
  },
  {
   "cell_type": "code",
   "execution_count": null,
   "id": "1912c83a",
   "metadata": {},
   "outputs": [],
   "source": []
  },
  {
   "cell_type": "code",
   "execution_count": null,
   "id": "75e6e897",
   "metadata": {},
   "outputs": [],
   "source": []
  },
  {
   "cell_type": "code",
   "execution_count": null,
   "id": "42ac6d8d",
   "metadata": {},
   "outputs": [],
   "source": []
  },
  {
   "cell_type": "code",
   "execution_count": null,
   "id": "efa67a3b",
   "metadata": {},
   "outputs": [],
   "source": []
  },
  {
   "cell_type": "code",
   "execution_count": null,
   "id": "ab5dfcdb",
   "metadata": {},
   "outputs": [],
   "source": []
  }
 ],
 "metadata": {
  "kernelspec": {
   "display_name": "conda_tensorflow_p36",
   "language": "python",
   "name": "conda_tensorflow_p36"
  },
  "language_info": {
   "codemirror_mode": {
    "name": "ipython",
    "version": 3
   },
   "file_extension": ".py",
   "mimetype": "text/x-python",
   "name": "python",
   "nbconvert_exporter": "python",
   "pygments_lexer": "ipython3",
   "version": "3.6.13"
  }
 },
 "nbformat": 4,
 "nbformat_minor": 5
}
