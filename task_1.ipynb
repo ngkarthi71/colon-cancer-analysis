{
  "nbformat": 4,
  "nbformat_minor": 5,
  "metadata": {
    "kernelspec": {
      "display_name": "Python 3",
      "language": "python",
      "name": "python3"
    },
    "language_info": {
      "codemirror_mode": {
        "name": "ipython",
        "version": 3
      },
      "file_extension": ".py",
      "mimetype": "text/x-python",
      "name": "python",
      "nbconvert_exporter": "python",
      "pygments_lexer": "ipython3",
      "version": "3.6.13"
    },
    "colab": {
      "name": "rough1.ipynb",
      "provenance": [],
      "toc_visible": true,
      "include_colab_link": true
    },
    "accelerator": "GPU"
  },
  "cells": [
    {
      "cell_type": "markdown",
      "metadata": {
        "id": "view-in-github",
        "colab_type": "text"
      },
      "source": [
        "<a href=\"https://colab.research.google.com/github/ngkarthi71/colon-cancer-analysis/blob/first-part/task_1.ipynb\" target=\"_parent\"><img src=\"https://colab.research.google.com/assets/colab-badge.svg\" alt=\"Open In Colab\"/></a>"
      ]
    },
    {
      "cell_type": "markdown",
      "metadata": {
        "id": "6897c6bf"
      },
      "source": [
        "# Reading the given Data Set"
      ],
      "id": "6897c6bf"
    },
    {
      "cell_type": "code",
      "metadata": {
        "colab": {
          "base_uri": "https://localhost:8080/"
        },
        "id": "A0Uv1RBNbStG",
        "outputId": "f419c832-7ec8-4acc-9441-619cb85ef457"
      },
      "source": [
        "from google.colab import drive\n",
        "drive.mount('/content/drive')"
      ],
      "id": "A0Uv1RBNbStG",
      "execution_count": 4,
      "outputs": [
        {
          "output_type": "stream",
          "text": [
            "Mounted at /content/drive\n"
          ],
          "name": "stdout"
        }
      ]
    },
    {
      "cell_type": "code",
      "metadata": {
        "colab": {
          "base_uri": "https://localhost:8080/"
        },
        "id": "Q_JqEdZ6bo17",
        "outputId": "0da97487-90e5-4a33-dede-a26fa7c03e26"
      },
      "source": [
        "!ls /content/drive/'My Drive'/CML-Assignment2/"
      ],
      "id": "Q_JqEdZ6bo17",
      "execution_count": 5,
      "outputs": [
        {
          "output_type": "stream",
          "text": [
            "Image_classification_data.zip\n"
          ],
          "name": "stdout"
        }
      ]
    },
    {
      "cell_type": "code",
      "metadata": {
        "colab": {
          "base_uri": "https://localhost:8080/"
        },
        "id": "hu4Z8u7ba2ev",
        "outputId": "4884935a-4297-4301-9a37-e382c89fe654"
      },
      "source": [
        "!cp /content/drive/'My Drive'/CML-Assignment2/Image_classification_data.zip .\n",
        "!unzip -q -o Image_classification_data.zip\n",
        "!rm Image_classification_data.zip\n",
        "!ls"
      ],
      "id": "hu4Z8u7ba2ev",
      "execution_count": 6,
      "outputs": [
        {
          "output_type": "stream",
          "text": [
            "data_labels_extraData.csv  drive     patch_images\n",
            "data_labels_mainData.csv   __MACOSX  sample_data\n"
          ],
          "name": "stdout"
        }
      ]
    },
    {
      "cell_type": "code",
      "metadata": {
        "id": "63489e7f"
      },
      "source": [
        "import numpy as np\n",
        "\n",
        "import pandas as pd\n",
        "import matplotlib.pyplot as plt\n",
        "\n"
      ],
      "id": "63489e7f",
      "execution_count": 7,
      "outputs": []
    },
    {
      "cell_type": "code",
      "metadata": {
        "id": "6822f05f"
      },
      "source": [
        "cancer=pd.read_csv('data_labels_mainData.csv')"
      ],
      "id": "6822f05f",
      "execution_count": 8,
      "outputs": []
    },
    {
      "cell_type": "code",
      "metadata": {
        "colab": {
          "base_uri": "https://localhost:8080/",
          "height": 204
        },
        "id": "1956ae4e",
        "outputId": "a979fde2-f857-4552-832f-d6dc418b41c2"
      },
      "source": [
        "cancer.head(5)"
      ],
      "id": "1956ae4e",
      "execution_count": null,
      "outputs": [
        {
          "output_type": "execute_result",
          "data": {
            "text/html": [
              "<div>\n",
              "<style scoped>\n",
              "    .dataframe tbody tr th:only-of-type {\n",
              "        vertical-align: middle;\n",
              "    }\n",
              "\n",
              "    .dataframe tbody tr th {\n",
              "        vertical-align: top;\n",
              "    }\n",
              "\n",
              "    .dataframe thead th {\n",
              "        text-align: right;\n",
              "    }\n",
              "</style>\n",
              "<table border=\"1\" class=\"dataframe\">\n",
              "  <thead>\n",
              "    <tr style=\"text-align: right;\">\n",
              "      <th></th>\n",
              "      <th>InstanceID</th>\n",
              "      <th>patientID</th>\n",
              "      <th>ImageName</th>\n",
              "      <th>cellTypeName</th>\n",
              "      <th>cellType</th>\n",
              "      <th>isCancerous</th>\n",
              "    </tr>\n",
              "  </thead>\n",
              "  <tbody>\n",
              "    <tr>\n",
              "      <th>0</th>\n",
              "      <td>22405</td>\n",
              "      <td>1</td>\n",
              "      <td>22405.png</td>\n",
              "      <td>fibroblast</td>\n",
              "      <td>0</td>\n",
              "      <td>0</td>\n",
              "    </tr>\n",
              "    <tr>\n",
              "      <th>1</th>\n",
              "      <td>22406</td>\n",
              "      <td>1</td>\n",
              "      <td>22406.png</td>\n",
              "      <td>fibroblast</td>\n",
              "      <td>0</td>\n",
              "      <td>0</td>\n",
              "    </tr>\n",
              "    <tr>\n",
              "      <th>2</th>\n",
              "      <td>22407</td>\n",
              "      <td>1</td>\n",
              "      <td>22407.png</td>\n",
              "      <td>fibroblast</td>\n",
              "      <td>0</td>\n",
              "      <td>0</td>\n",
              "    </tr>\n",
              "    <tr>\n",
              "      <th>3</th>\n",
              "      <td>22408</td>\n",
              "      <td>1</td>\n",
              "      <td>22408.png</td>\n",
              "      <td>fibroblast</td>\n",
              "      <td>0</td>\n",
              "      <td>0</td>\n",
              "    </tr>\n",
              "    <tr>\n",
              "      <th>4</th>\n",
              "      <td>22409</td>\n",
              "      <td>1</td>\n",
              "      <td>22409.png</td>\n",
              "      <td>fibroblast</td>\n",
              "      <td>0</td>\n",
              "      <td>0</td>\n",
              "    </tr>\n",
              "  </tbody>\n",
              "</table>\n",
              "</div>"
            ],
            "text/plain": [
              "   InstanceID  patientID  ImageName cellTypeName  cellType  isCancerous\n",
              "0       22405          1  22405.png   fibroblast         0            0\n",
              "1       22406          1  22406.png   fibroblast         0            0\n",
              "2       22407          1  22407.png   fibroblast         0            0\n",
              "3       22408          1  22408.png   fibroblast         0            0\n",
              "4       22409          1  22409.png   fibroblast         0            0"
            ]
          },
          "metadata": {
            "tags": []
          },
          "execution_count": 8
        }
      ]
    },
    {
      "cell_type": "markdown",
      "metadata": {
        "id": "17aa4ece"
      },
      "source": [
        "### Randomly split the given data set"
      ],
      "id": "17aa4ece"
    },
    {
      "cell_type": "code",
      "metadata": {
        "id": "a6b65173"
      },
      "source": [
        "from sklearn.model_selection import train_test_split"
      ],
      "id": "a6b65173",
      "execution_count": 9,
      "outputs": []
    },
    {
      "cell_type": "code",
      "metadata": {
        "colab": {
          "base_uri": "https://localhost:8080/"
        },
        "id": "1593aa5b",
        "outputId": "29590ed5-390a-425c-c6e0-582a9bdb1208"
      },
      "source": [
        "train_data, test_data = train_test_split(cancer, test_size=0.2, random_state=42)\n",
        "train_data, val_data = train_test_split(train_data, test_size=0.25, random_state=42)\n",
        "\n",
        "print(\"Train data : {}, Val Data: {}, Test Data: {}\".format(train_data.shape[0], val_data.shape[0], test_data.shape[0]))"
      ],
      "id": "1593aa5b",
      "execution_count": 10,
      "outputs": [
        {
          "output_type": "stream",
          "text": [
            "Train data : 5937, Val Data: 1979, Test Data: 1980\n"
          ],
          "name": "stdout"
        }
      ]
    },
    {
      "cell_type": "markdown",
      "metadata": {
        "id": "18259807"
      },
      "source": [
        "# Model development"
      ],
      "id": "18259807"
    },
    {
      "cell_type": "code",
      "metadata": {
        "id": "76d8f66d"
      },
      "source": [
        "import matplotlib.pyplot as plt\n",
        "def plot_learning_curve(train_loss, val_loss, train_metric, val_metric, metric_name='Accuracy'):\n",
        "    plt.figure(figsize=(10,5))\n",
        "    \n",
        "    plt.subplot(1,2,1)\n",
        "    plt.plot(train_loss, 'r--')\n",
        "    plt.plot(val_loss, 'b--')\n",
        "    plt.xlabel(\"epochs\")\n",
        "    plt.ylabel(\"Loss\")\n",
        "    plt.legend(['train', 'val'], loc='upper left')\n",
        "\n",
        "    plt.subplot(1,2,2)\n",
        "    plt.plot(train_metric, 'r--')\n",
        "    plt.plot(val_metric, 'b--')\n",
        "    plt.xlabel(\"epochs\")\n",
        "    plt.ylabel(metric_name)\n",
        "    plt.legend(['train', 'val'], loc='upper left')\n",
        "\n",
        "    plt.show()"
      ],
      "id": "76d8f66d",
      "execution_count": 11,
      "outputs": []
    },
    {
      "cell_type": "code",
      "metadata": {
        "id": "5048ead5"
      },
      "source": [
        "INPUT_DIM = (27,27,3)\n",
        "HIDDEN_LAYER_DIM = 256\n",
        "OUTPUT_CLASSES = 2"
      ],
      "id": "5048ead5",
      "execution_count": 12,
      "outputs": []
    },
    {
      "cell_type": "code",
      "metadata": {
        "colab": {
          "base_uri": "https://localhost:8080/",
          "height": 35
        },
        "id": "cbef3cf6",
        "outputId": "de5b880f-890b-4985-da0c-ad5b5b2d1100"
      },
      "source": [
        "import tensorflow as tf\n",
        "AUTOTUNE = tf.data.experimental.AUTOTUNE\n",
        "\n",
        "tf.__version__"
      ],
      "id": "cbef3cf6",
      "execution_count": 13,
      "outputs": [
        {
          "output_type": "execute_result",
          "data": {
            "application/vnd.google.colaboratory.intrinsic+json": {
              "type": "string"
            },
            "text/plain": [
              "'2.5.0'"
            ]
          },
          "metadata": {
            "tags": []
          },
          "execution_count": 13
        }
      ]
    },
    {
      "cell_type": "code",
      "metadata": {
        "id": "51c7076d"
      },
      "source": [
        "\n",
        "\n",
        "model = tf.keras.Sequential([\n",
        "    tf.keras.layers.Flatten(input_shape=INPUT_DIM),\n",
        "    tf.keras.layers.Dense(HIDDEN_LAYER_DIM, activation='sigmoid'),\n",
        "    tf.keras.layers.Dense(OUTPUT_CLASSES)\n",
        "])"
      ],
      "id": "51c7076d",
      "execution_count": null,
      "outputs": []
    },
    {
      "cell_type": "code",
      "metadata": {
        "colab": {
          "base_uri": "https://localhost:8080/"
        },
        "id": "6983caa8",
        "outputId": "74f40139-1cc3-45cb-c071-fbd81066e108"
      },
      "source": [
        "model.summary()"
      ],
      "id": "6983caa8",
      "execution_count": null,
      "outputs": [
        {
          "output_type": "stream",
          "text": [
            "Model: \"sequential\"\n",
            "_________________________________________________________________\n",
            "Layer (type)                 Output Shape              Param #   \n",
            "=================================================================\n",
            "flatten (Flatten)            (None, 2187)              0         \n",
            "_________________________________________________________________\n",
            "dense (Dense)                (None, 256)               560128    \n",
            "_________________________________________________________________\n",
            "dense_1 (Dense)              (None, 2)                 514       \n",
            "=================================================================\n",
            "Total params: 560,642\n",
            "Trainable params: 560,642\n",
            "Non-trainable params: 0\n",
            "_________________________________________________________________\n"
          ],
          "name": "stdout"
        }
      ]
    },
    {
      "cell_type": "code",
      "metadata": {
        "colab": {
          "base_uri": "https://localhost:8080/",
          "height": 422
        },
        "id": "4d9Sr56HyyDn",
        "outputId": "d95da3bd-c957-4054-fc56-111adf6d34d0"
      },
      "source": [
        "tf.keras.utils.plot_model(model, show_shapes=True)"
      ],
      "id": "4d9Sr56HyyDn",
      "execution_count": null,
      "outputs": [
        {
          "output_type": "execute_result",
          "data": {
            "image/png": "[encoded data removed]",
            "text/plain": [
              "<IPython.core.display.Image object>"
            ]
          },
          "metadata": {
            "tags": []
          },
          "execution_count": 14
        }
      ]
    },
    {
      "cell_type": "markdown",
      "metadata": {
        "id": "rhGtZheRMJbH"
      },
      "source": [
        "# TASK 1"
      ],
      "id": "rhGtZheRMJbH"
    },
    {
      "cell_type": "code",
      "metadata": {
        "colab": {
          "base_uri": "https://localhost:8080/"
        },
        "id": "6a86ae88",
        "outputId": "477a61e8-240a-4523-8032-f636ba7235f6"
      },
      "source": [
        "train_data['isCancerous'] = train_data['isCancerous'].astype('str')\n",
        "val_data['isCancerous'] = val_data['isCancerous'].astype('str')\n",
        "\n",
        "from tensorflow.keras.preprocessing.image import ImageDataGenerator\n",
        "\n",
        "train_datagen = ImageDataGenerator(rescale=1./255, data_format='channels_last')\n",
        "val_datagen = ImageDataGenerator(rescale=1./255, data_format='channels_last')\n",
        "\n",
        "batch_size = 32\n",
        "\n",
        "train_generator = train_datagen.flow_from_dataframe(\n",
        "        dataframe=train_data,\n",
        "        directory='/content/patch_images',\n",
        "        x_col=\"ImageName\",\n",
        "        y_col=\"isCancerous\",\n",
        "        target_size=(27, 27),\n",
        "        batch_size=batch_size,\n",
        "        class_mode='categorical')\n",
        "\n",
        "validation_generator = val_datagen.flow_from_dataframe(\n",
        "        dataframe=val_data,\n",
        "        directory='/content/patch_images',\n",
        "        x_col=\"ImageName\",\n",
        "        y_col=\"isCancerous\",\n",
        "        target_size=(27,27),\n",
        "        batch_size=batch_size,\n",
        "        class_mode='categorical')"
      ],
      "id": "6a86ae88",
      "execution_count": 12,
      "outputs": [
        {
          "output_type": "stream",
          "text": [
            "Found 5937 validated image filenames belonging to 2 classes.\n",
            "Found 1979 validated image filenames belonging to 2 classes.\n"
          ],
          "name": "stdout"
        }
      ]
    },
    {
      "cell_type": "code",
      "metadata": {
        "id": "b2bcac40"
      },
      "source": [
        "# Model Development"
      ],
      "id": "b2bcac40",
      "execution_count": null,
      "outputs": []
    },
    {
      "cell_type": "code",
      "metadata": {
        "id": "6c08ffce-42ae-47b4-8971-3b76081cd231"
      },
      "source": [
        "## Default Baseline Model:"
      ],
      "id": "6c08ffce-42ae-47b4-8971-3b76081cd231",
      "execution_count": null,
      "outputs": []
    },
    {
      "cell_type": "code",
      "metadata": {
        "id": "fa0b6dc8-6584-4e50-943c-ba24157e39c2"
      },
      "source": [
        "#import tensorflow as tf\n",
        "\n",
        "model_VGG_1 = tf.keras.Sequential([\n",
        "    #VGG block 1\n",
        "    tf.keras.layers.Conv2D(32, (3, 3), activation='relu', padding='same', input_shape=(27, 27, 3)),\n",
        "    tf.keras.layers.Conv2D(32, (3, 3), activation='relu', padding='same'),\n",
        "    tf.keras.layers.MaxPooling2D((2, 2)),\n",
        "    \n",
        "    #VGG block 2\n",
        "    tf.keras.layers.Conv2D(64, (3, 3), activation='relu', padding='same'),\n",
        "    tf.keras.layers.Conv2D(64, (3, 3), activation='relu', padding='same'),\n",
        "    tf.keras.layers.MaxPooling2D((2, 2)),\n",
        "    \n",
        "    #VGG block 3\n",
        "    tf.keras.layers.Conv2D(128, (3, 3), activation='relu', padding='same'),\n",
        "    tf.keras.layers.Conv2D(128, (3, 3), activation='relu', padding='same'),\n",
        "    tf.keras.layers.MaxPooling2D((2, 2)),\n",
        "    \n",
        "    tf.keras.layers.Flatten(),\n",
        "    tf.keras.layers.Dense(128, activation='relu'),\n",
        "    tf.keras.layers.Dense(OUTPUT_CLASSES),\n",
        "])"
      ],
      "id": "fa0b6dc8-6584-4e50-943c-ba24157e39c2",
      "execution_count": 12,
      "outputs": []
    },
    {
      "cell_type": "code",
      "metadata": {
        "id": "877bdaa6-2595-4cf9-a0e8-b75644a07845"
      },
      "source": [
        "model_VGG_1.compile(optimizer='adam',\n",
        "              loss=tf.keras.losses.CategoricalCrossentropy(from_logits=True),\n",
        "              metrics=['categorical_accuracy'])"
      ],
      "id": "877bdaa6-2595-4cf9-a0e8-b75644a07845",
      "execution_count": 13,
      "outputs": []
    },
    {
      "cell_type": "code",
      "metadata": {
        "colab": {
          "base_uri": "https://localhost:8080/"
        },
        "id": "777a94bc-7db6-4937-adb0-d96c6ce2a5a0",
        "outputId": "2694a66b-f406-4df9-c7a7-3bfa0b57fb15"
      },
      "source": [
        "history_VGG_1 = model_VGG_1.fit_generator(train_generator, validation_data = validation_generator, epochs=25)"
      ],
      "id": "777a94bc-7db6-4937-adb0-d96c6ce2a5a0",
      "execution_count": 14,
      "outputs": [
        {
          "output_type": "stream",
          "text": [
            "/usr/local/lib/python3.7/dist-packages/tensorflow/python/keras/engine/training.py:1940: UserWarning: `Model.fit_generator` is deprecated and will be removed in a future version. Please use `Model.fit`, which supports generators.\n",
            "  warnings.warn('`Model.fit_generator` is deprecated and '\n"
          ],
          "name": "stderr"
        },
        {
          "output_type": "stream",
          "text": [
            "Epoch 1/25\n",
            "186/186 [==============================] - 35s 16ms/step - loss: 0.4755 - categorical_accuracy: 0.7676 - val_loss: 0.3429 - val_categorical_accuracy: 0.8408\n",
            "Epoch 2/25\n",
            "186/186 [==============================] - 2s 13ms/step - loss: 0.3640 - categorical_accuracy: 0.8440 - val_loss: 0.3038 - val_categorical_accuracy: 0.8727\n",
            "Epoch 3/25\n",
            "186/186 [==============================] - 2s 13ms/step - loss: 0.3211 - categorical_accuracy: 0.8679 - val_loss: 0.2562 - val_categorical_accuracy: 0.8989\n",
            "Epoch 4/25\n",
            "186/186 [==============================] - 2s 13ms/step - loss: 0.2863 - categorical_accuracy: 0.8819 - val_loss: 0.2511 - val_categorical_accuracy: 0.8954\n",
            "Epoch 5/25\n",
            "186/186 [==============================] - 2s 13ms/step - loss: 0.2935 - categorical_accuracy: 0.8801 - val_loss: 0.2539 - val_categorical_accuracy: 0.8934\n",
            "Epoch 6/25\n",
            "186/186 [==============================] - 2s 13ms/step - loss: 0.2651 - categorical_accuracy: 0.8939 - val_loss: 0.2480 - val_categorical_accuracy: 0.8944\n",
            "Epoch 7/25\n",
            "186/186 [==============================] - 2s 13ms/step - loss: 0.2564 - categorical_accuracy: 0.8957 - val_loss: 0.2650 - val_categorical_accuracy: 0.8888\n",
            "Epoch 8/25\n",
            "186/186 [==============================] - 2s 13ms/step - loss: 0.2453 - categorical_accuracy: 0.8993 - val_loss: 0.2629 - val_categorical_accuracy: 0.8994\n",
            "Epoch 9/25\n",
            "186/186 [==============================] - 2s 13ms/step - loss: 0.2358 - categorical_accuracy: 0.9030 - val_loss: 0.3625 - val_categorical_accuracy: 0.8428\n",
            "Epoch 10/25\n",
            "186/186 [==============================] - 2s 13ms/step - loss: 0.2229 - categorical_accuracy: 0.9101 - val_loss: 0.2636 - val_categorical_accuracy: 0.8954\n",
            "Epoch 11/25\n",
            "186/186 [==============================] - 2s 13ms/step - loss: 0.2262 - categorical_accuracy: 0.9089 - val_loss: 0.2913 - val_categorical_accuracy: 0.8969\n",
            "Epoch 12/25\n",
            "186/186 [==============================] - 2s 13ms/step - loss: 0.1902 - categorical_accuracy: 0.9200 - val_loss: 0.2477 - val_categorical_accuracy: 0.8989\n",
            "Epoch 13/25\n",
            "186/186 [==============================] - 2s 13ms/step - loss: 0.1645 - categorical_accuracy: 0.9360 - val_loss: 0.2747 - val_categorical_accuracy: 0.8949\n",
            "Epoch 14/25\n",
            "186/186 [==============================] - 2s 13ms/step - loss: 0.1522 - categorical_accuracy: 0.9404 - val_loss: 0.3136 - val_categorical_accuracy: 0.8777\n",
            "Epoch 15/25\n",
            "186/186 [==============================] - 2s 13ms/step - loss: 0.1435 - categorical_accuracy: 0.9464 - val_loss: 0.3559 - val_categorical_accuracy: 0.8802\n",
            "Epoch 16/25\n",
            "186/186 [==============================] - 2s 13ms/step - loss: 0.1257 - categorical_accuracy: 0.9542 - val_loss: 0.3770 - val_categorical_accuracy: 0.8792\n",
            "Epoch 17/25\n",
            "186/186 [==============================] - 2s 13ms/step - loss: 0.1075 - categorical_accuracy: 0.9597 - val_loss: 0.5413 - val_categorical_accuracy: 0.8499\n",
            "Epoch 18/25\n",
            "186/186 [==============================] - 2s 13ms/step - loss: 0.1120 - categorical_accuracy: 0.9544 - val_loss: 0.4612 - val_categorical_accuracy: 0.8838\n",
            "Epoch 19/25\n",
            "186/186 [==============================] - 2s 13ms/step - loss: 0.1137 - categorical_accuracy: 0.9601 - val_loss: 0.3815 - val_categorical_accuracy: 0.8898\n",
            "Epoch 20/25\n",
            "186/186 [==============================] - 2s 13ms/step - loss: 0.0806 - categorical_accuracy: 0.9722 - val_loss: 0.4146 - val_categorical_accuracy: 0.8691\n",
            "Epoch 21/25\n",
            "186/186 [==============================] - 2s 13ms/step - loss: 0.0636 - categorical_accuracy: 0.9791 - val_loss: 0.4951 - val_categorical_accuracy: 0.8898\n",
            "Epoch 22/25\n",
            "186/186 [==============================] - 2s 13ms/step - loss: 0.0496 - categorical_accuracy: 0.9820 - val_loss: 0.5245 - val_categorical_accuracy: 0.8722\n",
            "Epoch 23/25\n",
            "186/186 [==============================] - 2s 13ms/step - loss: 0.0602 - categorical_accuracy: 0.9779 - val_loss: 0.4796 - val_categorical_accuracy: 0.8777\n",
            "Epoch 24/25\n",
            "186/186 [==============================] - 2s 13ms/step - loss: 0.0641 - categorical_accuracy: 0.9752 - val_loss: 0.4493 - val_categorical_accuracy: 0.8818\n",
            "Epoch 25/25\n",
            "186/186 [==============================] - 2s 13ms/step - loss: 0.0434 - categorical_accuracy: 0.9848 - val_loss: 0.5289 - val_categorical_accuracy: 0.8924\n"
          ],
          "name": "stdout"
        }
      ]
    },
    {
      "cell_type": "code",
      "metadata": {
        "colab": {
          "base_uri": "https://localhost:8080/",
          "height": 334
        },
        "id": "2dfc9ea1-a336-47cf-8fe7-4c6b970586b3",
        "outputId": "579002dd-166d-4ac6-f9a9-d7663a0b51e6"
      },
      "source": [
        "plot_learning_curve(history_VGG_1.history['loss'], history_VGG_1.history['val_loss'], \n",
        "                    history_VGG_1.history['categorical_accuracy'], history_VGG_1.history['val_categorical_accuracy'], \n",
        "                    metric_name='Accuracy')"
      ],
      "id": "2dfc9ea1-a336-47cf-8fe7-4c6b970586b3",
      "execution_count": 15,
      "outputs": [
        {
          "output_type": "display_data",
          "data": {
            "image/png": "[encoded data removed]",
            "text/plain": [
              "<Figure size 720x360 with 2 Axes>"
            ]
          },
          "metadata": {
            "tags": [],
            "needs_background": "light"
          }
        }
      ]
    },
    {
      "cell_type": "markdown",
      "metadata": {
        "id": "bb01c593-7e5c-45c7-83a5-4478b1191e1f"
      },
      "source": [
        "# Overfitting"
      ],
      "id": "bb01c593-7e5c-45c7-83a5-4478b1191e1f"
    },
    {
      "cell_type": "markdown",
      "metadata": {
        "id": "e19c8488-6318-4faf-9e85-eb24a40e5f2a"
      },
      "source": [
        "## Apply Regularisation"
      ],
      "id": "e19c8488-6318-4faf-9e85-eb24a40e5f2a"
    },
    {
      "cell_type": "code",
      "metadata": {
        "id": "a63ced98-463d-4fd7-9be7-ef70d19fda26"
      },
      "source": [
        "reg_lambda = 0.001\n",
        "\n",
        "model_VGG_2 = tf.keras.Sequential([\n",
        "    #VGG block 1\n",
        "    tf.keras.layers.Conv2D(32, (3, 3), activation='relu', padding='same', \n",
        "                           kernel_regularizer=tf.keras.regularizers.l2(reg_lambda), input_shape=(27, 27, 3)),\n",
        "    tf.keras.layers.Conv2D(32, (3, 3), activation='relu', padding='same', \n",
        "                           kernel_regularizer=tf.keras.regularizers.l2(reg_lambda)),\n",
        "    tf.keras.layers.MaxPooling2D((2, 2)),\n",
        "    \n",
        "    #VGG block 2\n",
        "    tf.keras.layers.Conv2D(64, (3, 3), activation='relu', padding='same', \n",
        "                           kernel_regularizer=tf.keras.regularizers.l2(reg_lambda)),\n",
        "    tf.keras.layers.Conv2D(64, (3, 3), activation='relu', padding='same', \n",
        "                           kernel_regularizer=tf.keras.regularizers.l2(reg_lambda)),\n",
        "    tf.keras.layers.MaxPooling2D((2, 2)),\n",
        "    \n",
        "    #VGG block 3\n",
        "    tf.keras.layers.Conv2D(128, (3, 3), activation='relu', padding='same', \n",
        "                           kernel_regularizer=tf.keras.regularizers.l2(reg_lambda)),\n",
        "    tf.keras.layers.Conv2D(128, (3, 3), activation='relu', padding='same', \n",
        "                           kernel_regularizer=tf.keras.regularizers.l2(reg_lambda)),\n",
        "    tf.keras.layers.MaxPooling2D((2, 2)),\n",
        "    \n",
        "    tf.keras.layers.Flatten(),\n",
        "    tf.keras.layers.Dense(128, activation='relu'),\n",
        "    tf.keras.layers.Dropout(.2),\n",
        "    tf.keras.layers.Dense(OUTPUT_CLASSES),\n",
        "])"
      ],
      "id": "a63ced98-463d-4fd7-9be7-ef70d19fda26",
      "execution_count": 27,
      "outputs": []
    },
    {
      "cell_type": "code",
      "metadata": {
        "id": "660ffebd-e114-4a54-a313-6bc9bed0a9b1"
      },
      "source": [
        "model_VGG_2.compile(optimizer='adam',\n",
        "              loss=tf.keras.losses.CategoricalCrossentropy(from_logits=True),\n",
        "              metrics=['categorical_accuracy'])"
      ],
      "id": "660ffebd-e114-4a54-a313-6bc9bed0a9b1",
      "execution_count": 28,
      "outputs": []
    },
    {
      "cell_type": "code",
      "metadata": {
        "colab": {
          "base_uri": "https://localhost:8080/",
          "height": 1000
        },
        "id": "ca7fe6e2-5c4e-4b68-a0d7-f4c26eca9c30",
        "outputId": "c72a8687-a610-499c-f8ab-1577180d37ad"
      },
      "source": [
        "history_VGG_2 = model_VGG_2.fit_generator(train_generator, validation_data = validation_generator, epochs=100)\n",
        "\n",
        "plot_learning_curve(history_VGG_2.history['loss'], history_VGG_2.history['val_loss'], \n",
        "                    history_VGG_2.history['categorical_accuracy'], history_VGG_2.history['val_categorical_accuracy'], \n",
        "                    metric_name='Accuracy')"
      ],
      "id": "ca7fe6e2-5c4e-4b68-a0d7-f4c26eca9c30",
      "execution_count": 30,
      "outputs": [
        {
          "output_type": "stream",
          "text": [
            "Epoch 1/100\n",
            " 11/186 [>.............................] - ETA: 1s - loss: 0.1592 - categorical_accuracy: 0.9688"
          ],
          "name": "stdout"
        },
        {
          "output_type": "stream",
          "text": [
            "/usr/local/lib/python3.7/dist-packages/tensorflow/python/keras/engine/training.py:1940: UserWarning: `Model.fit_generator` is deprecated and will be removed in a future version. Please use `Model.fit`, which supports generators.\n",
            "  warnings.warn('`Model.fit_generator` is deprecated and '\n"
          ],
          "name": "stderr"
        },
        {
          "output_type": "stream",
          "text": [
            "186/186 [==============================] - 3s 14ms/step - loss: 0.1408 - categorical_accuracy: 0.9688 - val_loss: 0.4017 - val_categorical_accuracy: 0.8959\n",
            "Epoch 2/100\n",
            "186/186 [==============================] - 2s 13ms/step - loss: 0.1470 - categorical_accuracy: 0.9670 - val_loss: 0.4276 - val_categorical_accuracy: 0.8833\n",
            "Epoch 3/100\n",
            "186/186 [==============================] - 2s 13ms/step - loss: 0.1385 - categorical_accuracy: 0.9682 - val_loss: 0.4178 - val_categorical_accuracy: 0.8813\n",
            "Epoch 4/100\n",
            "186/186 [==============================] - 3s 13ms/step - loss: 0.1324 - categorical_accuracy: 0.9714 - val_loss: 0.4030 - val_categorical_accuracy: 0.8949\n",
            "Epoch 5/100\n",
            "186/186 [==============================] - 2s 13ms/step - loss: 0.1555 - categorical_accuracy: 0.9606 - val_loss: 0.4177 - val_categorical_accuracy: 0.8989\n",
            "Epoch 6/100\n",
            "186/186 [==============================] - 2s 13ms/step - loss: 0.1407 - categorical_accuracy: 0.9656 - val_loss: 0.4036 - val_categorical_accuracy: 0.8929\n",
            "Epoch 7/100\n",
            "186/186 [==============================] - 3s 14ms/step - loss: 0.1224 - categorical_accuracy: 0.9751 - val_loss: 0.4622 - val_categorical_accuracy: 0.8909\n",
            "Epoch 8/100\n",
            "186/186 [==============================] - 3s 13ms/step - loss: 0.1343 - categorical_accuracy: 0.9741 - val_loss: 0.4249 - val_categorical_accuracy: 0.8979\n",
            "Epoch 9/100\n",
            "186/186 [==============================] - 2s 13ms/step - loss: 0.1471 - categorical_accuracy: 0.9643 - val_loss: 0.3721 - val_categorical_accuracy: 0.8914\n",
            "Epoch 10/100\n",
            "186/186 [==============================] - 2s 13ms/step - loss: 0.1469 - categorical_accuracy: 0.9656 - val_loss: 0.4642 - val_categorical_accuracy: 0.8924\n",
            "Epoch 11/100\n",
            "186/186 [==============================] - 2s 13ms/step - loss: 0.1204 - categorical_accuracy: 0.9752 - val_loss: 0.4863 - val_categorical_accuracy: 0.8838\n",
            "Epoch 12/100\n",
            "186/186 [==============================] - 3s 14ms/step - loss: 0.1310 - categorical_accuracy: 0.9727 - val_loss: 0.4677 - val_categorical_accuracy: 0.8903\n",
            "Epoch 13/100\n",
            "186/186 [==============================] - 2s 13ms/step - loss: 0.1227 - categorical_accuracy: 0.9774 - val_loss: 0.4557 - val_categorical_accuracy: 0.8944\n",
            "Epoch 14/100\n",
            "186/186 [==============================] - 2s 13ms/step - loss: 0.1129 - categorical_accuracy: 0.9815 - val_loss: 0.5072 - val_categorical_accuracy: 0.8934\n",
            "Epoch 15/100\n",
            "186/186 [==============================] - 2s 13ms/step - loss: 0.1159 - categorical_accuracy: 0.9795 - val_loss: 0.4545 - val_categorical_accuracy: 0.9020\n",
            "Epoch 16/100\n",
            "186/186 [==============================] - 2s 13ms/step - loss: 0.1215 - categorical_accuracy: 0.9768 - val_loss: 0.4748 - val_categorical_accuracy: 0.8929\n",
            "Epoch 17/100\n",
            "186/186 [==============================] - 2s 13ms/step - loss: 0.1355 - categorical_accuracy: 0.9731 - val_loss: 0.5450 - val_categorical_accuracy: 0.8742\n",
            "Epoch 18/100\n",
            "186/186 [==============================] - 2s 13ms/step - loss: 0.1424 - categorical_accuracy: 0.9688 - val_loss: 0.4729 - val_categorical_accuracy: 0.8944\n",
            "Epoch 19/100\n",
            "186/186 [==============================] - 2s 13ms/step - loss: 0.1119 - categorical_accuracy: 0.9832 - val_loss: 0.5210 - val_categorical_accuracy: 0.8979\n",
            "Epoch 20/100\n",
            "186/186 [==============================] - 3s 13ms/step - loss: 0.1462 - categorical_accuracy: 0.9683 - val_loss: 0.4923 - val_categorical_accuracy: 0.8641\n",
            "Epoch 21/100\n",
            "186/186 [==============================] - 3s 13ms/step - loss: 0.1099 - categorical_accuracy: 0.9832 - val_loss: 0.4936 - val_categorical_accuracy: 0.8924\n",
            "Epoch 22/100\n",
            "186/186 [==============================] - 2s 13ms/step - loss: 0.1093 - categorical_accuracy: 0.9821 - val_loss: 0.5813 - val_categorical_accuracy: 0.8833\n",
            "Epoch 23/100\n",
            "186/186 [==============================] - 3s 13ms/step - loss: 0.1419 - categorical_accuracy: 0.9699 - val_loss: 0.4666 - val_categorical_accuracy: 0.8898\n",
            "Epoch 24/100\n",
            "186/186 [==============================] - 3s 13ms/step - loss: 0.1168 - categorical_accuracy: 0.9813 - val_loss: 0.5537 - val_categorical_accuracy: 0.8833\n",
            "Epoch 25/100\n",
            "186/186 [==============================] - 2s 13ms/step - loss: 0.1057 - categorical_accuracy: 0.9842 - val_loss: 0.6382 - val_categorical_accuracy: 0.8843\n",
            "Epoch 26/100\n",
            "186/186 [==============================] - 2s 13ms/step - loss: 0.1134 - categorical_accuracy: 0.9818 - val_loss: 0.5824 - val_categorical_accuracy: 0.8883\n",
            "Epoch 27/100\n",
            "186/186 [==============================] - 3s 13ms/step - loss: 0.1165 - categorical_accuracy: 0.9791 - val_loss: 0.5347 - val_categorical_accuracy: 0.8883\n",
            "Epoch 28/100\n",
            "186/186 [==============================] - 2s 13ms/step - loss: 0.1017 - categorical_accuracy: 0.9860 - val_loss: 0.5819 - val_categorical_accuracy: 0.8939\n",
            "Epoch 29/100\n",
            "186/186 [==============================] - 2s 13ms/step - loss: 0.1257 - categorical_accuracy: 0.9783 - val_loss: 0.5160 - val_categorical_accuracy: 0.8919\n",
            "Epoch 30/100\n",
            "186/186 [==============================] - 2s 13ms/step - loss: 0.1122 - categorical_accuracy: 0.9830 - val_loss: 0.5479 - val_categorical_accuracy: 0.8989\n",
            "Epoch 31/100\n",
            "186/186 [==============================] - 2s 13ms/step - loss: 0.1007 - categorical_accuracy: 0.9852 - val_loss: 0.5188 - val_categorical_accuracy: 0.8944\n",
            "Epoch 32/100\n",
            "186/186 [==============================] - 2s 13ms/step - loss: 0.1371 - categorical_accuracy: 0.9724 - val_loss: 0.4557 - val_categorical_accuracy: 0.8964\n",
            "Epoch 33/100\n",
            "186/186 [==============================] - 3s 14ms/step - loss: 0.0949 - categorical_accuracy: 0.9901 - val_loss: 0.8727 - val_categorical_accuracy: 0.8413\n",
            "Epoch 34/100\n",
            "186/186 [==============================] - 3s 14ms/step - loss: 0.1395 - categorical_accuracy: 0.9732 - val_loss: 0.4837 - val_categorical_accuracy: 0.8914\n",
            "Epoch 35/100\n",
            "186/186 [==============================] - 3s 13ms/step - loss: 0.1026 - categorical_accuracy: 0.9847 - val_loss: 0.5548 - val_categorical_accuracy: 0.8949\n",
            "Epoch 36/100\n",
            "186/186 [==============================] - 2s 13ms/step - loss: 0.1720 - categorical_accuracy: 0.9596 - val_loss: 0.4684 - val_categorical_accuracy: 0.8919\n",
            "Epoch 37/100\n",
            "186/186 [==============================] - 2s 13ms/step - loss: 0.0952 - categorical_accuracy: 0.9896 - val_loss: 0.5451 - val_categorical_accuracy: 0.8909\n",
            "Epoch 38/100\n",
            "186/186 [==============================] - 3s 14ms/step - loss: 0.0854 - categorical_accuracy: 0.9934 - val_loss: 0.6440 - val_categorical_accuracy: 0.8903\n",
            "Epoch 39/100\n",
            "186/186 [==============================] - 3s 14ms/step - loss: 0.1379 - categorical_accuracy: 0.9737 - val_loss: 0.4406 - val_categorical_accuracy: 0.8944\n",
            "Epoch 40/100\n",
            "186/186 [==============================] - 3s 13ms/step - loss: 0.0953 - categorical_accuracy: 0.9892 - val_loss: 0.5694 - val_categorical_accuracy: 0.8969\n",
            "Epoch 41/100\n",
            "186/186 [==============================] - 2s 13ms/step - loss: 0.1104 - categorical_accuracy: 0.9855 - val_loss: 0.4902 - val_categorical_accuracy: 0.9030\n",
            "Epoch 42/100\n",
            "186/186 [==============================] - 3s 13ms/step - loss: 0.1027 - categorical_accuracy: 0.9869 - val_loss: 0.5425 - val_categorical_accuracy: 0.8903\n",
            "Epoch 43/100\n",
            "186/186 [==============================] - 3s 14ms/step - loss: 0.1050 - categorical_accuracy: 0.9852 - val_loss: 0.6100 - val_categorical_accuracy: 0.8903\n",
            "Epoch 44/100\n",
            "186/186 [==============================] - 3s 14ms/step - loss: 0.0955 - categorical_accuracy: 0.9892 - val_loss: 0.5536 - val_categorical_accuracy: 0.8954\n",
            "Epoch 45/100\n",
            "186/186 [==============================] - 3s 14ms/step - loss: 0.0945 - categorical_accuracy: 0.9896 - val_loss: 0.5179 - val_categorical_accuracy: 0.8969\n",
            "Epoch 46/100\n",
            "186/186 [==============================] - 3s 14ms/step - loss: 0.1083 - categorical_accuracy: 0.9816 - val_loss: 0.5679 - val_categorical_accuracy: 0.8843\n",
            "Epoch 47/100\n",
            "186/186 [==============================] - 3s 14ms/step - loss: 0.1173 - categorical_accuracy: 0.9796 - val_loss: 0.5522 - val_categorical_accuracy: 0.8919\n",
            "Epoch 48/100\n",
            "186/186 [==============================] - 3s 14ms/step - loss: 0.0987 - categorical_accuracy: 0.9877 - val_loss: 0.5704 - val_categorical_accuracy: 0.9015\n",
            "Epoch 49/100\n",
            "186/186 [==============================] - 3s 14ms/step - loss: 0.0824 - categorical_accuracy: 0.9944 - val_loss: 0.6490 - val_categorical_accuracy: 0.8868\n",
            "Epoch 50/100\n",
            "186/186 [==============================] - 3s 14ms/step - loss: 0.1177 - categorical_accuracy: 0.9800 - val_loss: 0.5327 - val_categorical_accuracy: 0.8888\n",
            "Epoch 51/100\n",
            "186/186 [==============================] - 3s 14ms/step - loss: 0.1015 - categorical_accuracy: 0.9867 - val_loss: 0.6783 - val_categorical_accuracy: 0.8903\n",
            "Epoch 52/100\n",
            "186/186 [==============================] - 3s 14ms/step - loss: 0.1251 - categorical_accuracy: 0.9756 - val_loss: 0.5039 - val_categorical_accuracy: 0.8858\n",
            "Epoch 53/100\n",
            "186/186 [==============================] - 3s 14ms/step - loss: 0.0945 - categorical_accuracy: 0.9892 - val_loss: 0.5769 - val_categorical_accuracy: 0.8823\n",
            "Epoch 54/100\n",
            "186/186 [==============================] - 3s 14ms/step - loss: 0.0924 - categorical_accuracy: 0.9904 - val_loss: 0.6130 - val_categorical_accuracy: 0.8924\n",
            "Epoch 55/100\n",
            "186/186 [==============================] - 3s 14ms/step - loss: 0.1109 - categorical_accuracy: 0.9833 - val_loss: 0.5672 - val_categorical_accuracy: 0.8868\n",
            "Epoch 56/100\n",
            "186/186 [==============================] - 3s 14ms/step - loss: 0.1305 - categorical_accuracy: 0.9771 - val_loss: 0.6444 - val_categorical_accuracy: 0.8550\n",
            "Epoch 57/100\n",
            "186/186 [==============================] - 3s 14ms/step - loss: 0.0903 - categorical_accuracy: 0.9921 - val_loss: 0.6136 - val_categorical_accuracy: 0.8929\n",
            "Epoch 58/100\n",
            "186/186 [==============================] - 3s 13ms/step - loss: 0.0761 - categorical_accuracy: 0.9960 - val_loss: 0.6582 - val_categorical_accuracy: 0.8909\n",
            "Epoch 59/100\n",
            "186/186 [==============================] - 3s 14ms/step - loss: 0.1449 - categorical_accuracy: 0.9729 - val_loss: 0.4528 - val_categorical_accuracy: 0.8706\n",
            "Epoch 60/100\n",
            "186/186 [==============================] - 2s 13ms/step - loss: 0.1049 - categorical_accuracy: 0.9859 - val_loss: 0.5696 - val_categorical_accuracy: 0.8944\n",
            "Epoch 61/100\n",
            "186/186 [==============================] - 2s 13ms/step - loss: 0.0784 - categorical_accuracy: 0.9960 - val_loss: 0.5907 - val_categorical_accuracy: 0.8838\n",
            "Epoch 62/100\n",
            "186/186 [==============================] - 3s 13ms/step - loss: 0.0992 - categorical_accuracy: 0.9855 - val_loss: 0.5861 - val_categorical_accuracy: 0.8873\n",
            "Epoch 63/100\n",
            "186/186 [==============================] - 3s 14ms/step - loss: 0.1119 - categorical_accuracy: 0.9825 - val_loss: 0.5521 - val_categorical_accuracy: 0.8757\n",
            "Epoch 64/100\n",
            "186/186 [==============================] - 2s 13ms/step - loss: 0.1173 - categorical_accuracy: 0.9796 - val_loss: 0.5788 - val_categorical_accuracy: 0.8893\n",
            "Epoch 65/100\n",
            "186/186 [==============================] - 3s 13ms/step - loss: 0.0882 - categorical_accuracy: 0.9919 - val_loss: 0.6423 - val_categorical_accuracy: 0.8828\n",
            "Epoch 66/100\n",
            "186/186 [==============================] - 3s 13ms/step - loss: 0.0942 - categorical_accuracy: 0.9897 - val_loss: 0.5424 - val_categorical_accuracy: 0.8924\n",
            "Epoch 67/100\n",
            "186/186 [==============================] - 3s 14ms/step - loss: 0.0795 - categorical_accuracy: 0.9955 - val_loss: 0.6561 - val_categorical_accuracy: 0.8944\n",
            "Epoch 68/100\n",
            "186/186 [==============================] - 3s 14ms/step - loss: 0.1112 - categorical_accuracy: 0.9810 - val_loss: 0.5769 - val_categorical_accuracy: 0.8909\n",
            "Epoch 69/100\n",
            "186/186 [==============================] - 3s 14ms/step - loss: 0.1157 - categorical_accuracy: 0.9801 - val_loss: 0.5794 - val_categorical_accuracy: 0.8863\n",
            "Epoch 70/100\n",
            "186/186 [==============================] - 3s 14ms/step - loss: 0.0830 - categorical_accuracy: 0.9928 - val_loss: 0.7330 - val_categorical_accuracy: 0.8868\n",
            "Epoch 71/100\n",
            "186/186 [==============================] - 3s 14ms/step - loss: 0.1191 - categorical_accuracy: 0.9825 - val_loss: 0.6554 - val_categorical_accuracy: 0.8514\n",
            "Epoch 72/100\n",
            "186/186 [==============================] - 3s 14ms/step - loss: 0.1088 - categorical_accuracy: 0.9848 - val_loss: 0.6065 - val_categorical_accuracy: 0.8828\n",
            "Epoch 73/100\n",
            "186/186 [==============================] - 3s 14ms/step - loss: 0.0746 - categorical_accuracy: 0.9975 - val_loss: 0.6777 - val_categorical_accuracy: 0.8883\n",
            "Epoch 74/100\n",
            "186/186 [==============================] - 3s 14ms/step - loss: 0.1273 - categorical_accuracy: 0.9783 - val_loss: 0.4942 - val_categorical_accuracy: 0.8893\n",
            "Epoch 75/100\n",
            "186/186 [==============================] - 3s 14ms/step - loss: 0.0897 - categorical_accuracy: 0.9914 - val_loss: 0.5800 - val_categorical_accuracy: 0.8934\n",
            "Epoch 76/100\n",
            "186/186 [==============================] - 3s 14ms/step - loss: 0.0888 - categorical_accuracy: 0.9917 - val_loss: 0.6292 - val_categorical_accuracy: 0.8833\n",
            "Epoch 77/100\n",
            "186/186 [==============================] - 3s 14ms/step - loss: 0.1147 - categorical_accuracy: 0.9828 - val_loss: 0.5807 - val_categorical_accuracy: 0.9005\n",
            "Epoch 78/100\n",
            "186/186 [==============================] - 3s 14ms/step - loss: 0.0959 - categorical_accuracy: 0.9879 - val_loss: 0.5789 - val_categorical_accuracy: 0.8828\n",
            "Epoch 79/100\n",
            "186/186 [==============================] - 2s 13ms/step - loss: 0.1024 - categorical_accuracy: 0.9867 - val_loss: 0.6008 - val_categorical_accuracy: 0.8828\n",
            "Epoch 80/100\n",
            "186/186 [==============================] - 3s 13ms/step - loss: 0.0787 - categorical_accuracy: 0.9955 - val_loss: 0.6208 - val_categorical_accuracy: 0.8924\n",
            "Epoch 81/100\n",
            "186/186 [==============================] - 3s 14ms/step - loss: 0.1051 - categorical_accuracy: 0.9864 - val_loss: 0.5427 - val_categorical_accuracy: 0.8903\n",
            "Epoch 82/100\n",
            "186/186 [==============================] - 2s 13ms/step - loss: 0.0994 - categorical_accuracy: 0.9869 - val_loss: 0.6083 - val_categorical_accuracy: 0.8914\n",
            "Epoch 83/100\n",
            "186/186 [==============================] - 3s 14ms/step - loss: 0.0984 - categorical_accuracy: 0.9874 - val_loss: 0.6605 - val_categorical_accuracy: 0.8722\n",
            "Epoch 84/100\n",
            "186/186 [==============================] - 3s 14ms/step - loss: 0.1024 - categorical_accuracy: 0.9865 - val_loss: 0.6725 - val_categorical_accuracy: 0.8813\n",
            "Epoch 85/100\n",
            "186/186 [==============================] - 3s 14ms/step - loss: 0.1625 - categorical_accuracy: 0.9655 - val_loss: 0.5197 - val_categorical_accuracy: 0.8878\n",
            "Epoch 86/100\n",
            "186/186 [==============================] - 3s 14ms/step - loss: 0.0745 - categorical_accuracy: 0.9975 - val_loss: 0.6239 - val_categorical_accuracy: 0.8949\n",
            "Epoch 87/100\n",
            "186/186 [==============================] - 3s 14ms/step - loss: 0.0673 - categorical_accuracy: 0.9988 - val_loss: 0.6549 - val_categorical_accuracy: 0.8903\n",
            "Epoch 88/100\n",
            "186/186 [==============================] - 3s 14ms/step - loss: 0.1004 - categorical_accuracy: 0.9862 - val_loss: 0.5717 - val_categorical_accuracy: 0.8969\n",
            "Epoch 89/100\n",
            "186/186 [==============================] - 3s 14ms/step - loss: 0.0809 - categorical_accuracy: 0.9944 - val_loss: 0.6452 - val_categorical_accuracy: 0.9020\n",
            "Epoch 90/100\n",
            "186/186 [==============================] - 3s 14ms/step - loss: 0.0885 - categorical_accuracy: 0.9907 - val_loss: 0.6118 - val_categorical_accuracy: 0.8863\n",
            "Epoch 91/100\n",
            "186/186 [==============================] - 3s 14ms/step - loss: 0.1230 - categorical_accuracy: 0.9774 - val_loss: 0.5890 - val_categorical_accuracy: 0.8838\n",
            "Epoch 92/100\n",
            "186/186 [==============================] - 3s 14ms/step - loss: 0.0858 - categorical_accuracy: 0.9934 - val_loss: 0.6461 - val_categorical_accuracy: 0.8964\n",
            "Epoch 93/100\n",
            "186/186 [==============================] - 3s 13ms/step - loss: 0.0691 - categorical_accuracy: 0.9987 - val_loss: 0.6765 - val_categorical_accuracy: 0.8903\n",
            "Epoch 94/100\n",
            "186/186 [==============================] - 3s 14ms/step - loss: 0.1304 - categorical_accuracy: 0.9742 - val_loss: 0.4851 - val_categorical_accuracy: 0.8757\n",
            "Epoch 95/100\n",
            "186/186 [==============================] - 3s 13ms/step - loss: 0.1088 - categorical_accuracy: 0.9840 - val_loss: 0.6443 - val_categorical_accuracy: 0.8843\n",
            "Epoch 96/100\n",
            "186/186 [==============================] - 3s 14ms/step - loss: 0.0945 - categorical_accuracy: 0.9897 - val_loss: 0.5507 - val_categorical_accuracy: 0.8878\n",
            "Epoch 97/100\n",
            "186/186 [==============================] - 3s 13ms/step - loss: 0.1010 - categorical_accuracy: 0.9859 - val_loss: 0.6238 - val_categorical_accuracy: 0.8903\n",
            "Epoch 98/100\n",
            "186/186 [==============================] - 3s 14ms/step - loss: 0.1285 - categorical_accuracy: 0.9764 - val_loss: 0.5350 - val_categorical_accuracy: 0.8843\n",
            "Epoch 99/100\n",
            "186/186 [==============================] - 3s 14ms/step - loss: 0.0911 - categorical_accuracy: 0.9911 - val_loss: 0.6093 - val_categorical_accuracy: 0.8974\n",
            "Epoch 100/100\n",
            "186/186 [==============================] - 3s 14ms/step - loss: 0.0795 - categorical_accuracy: 0.9961 - val_loss: 0.6381 - val_categorical_accuracy: 0.8878\n"
          ],
          "name": "stdout"
        },
        {
          "output_type": "display_data",
          "data": {
            "image/png": "[encoded data removed]",
            "text/plain": [
              "<Figure size 720x360 with 2 Axes>"
            ]
          },
          "metadata": {
            "tags": [],
            "needs_background": "light"
          }
        }
      ]
    },
    {
      "cell_type": "markdown",
      "metadata": {
        "id": "2f94386e-7738-4240-9b8e-fa866e9dacee"
      },
      "source": [
        "### Data Augmentation"
      ],
      "id": "2f94386e-7738-4240-9b8e-fa866e9dacee"
    },
    {
      "cell_type": "code",
      "metadata": {
        "colab": {
          "base_uri": "https://localhost:8080/"
        },
        "id": "17aa48f7-b3d0-475c-af95-0c082ab2a76b",
        "outputId": "a6ef987f-80cd-4b5a-c7ba-cfd447b15318"
      },
      "source": [
        "\n",
        "train_data['isCancerous'] = train_data['isCancerous'].astype('str')\n",
        "val_data['isCancerous'] = val_data['isCancerous'].astype('str')\n",
        "from tensorflow.keras.preprocessing.image import ImageDataGenerator\n",
        "\n",
        "train_datagen = ImageDataGenerator(rescale=1./255, data_format='channels_last',\n",
        "                                   rotation_range=15, width_shift_range=0.2,\n",
        "                                   height_shift_range=0.2, brightness_range=[0.5,1.5])\n",
        "val_datagen = ImageDataGenerator(rescale=1./255, data_format='channels_last')\n",
        "\n",
        "batch_size = 32\n",
        "\n",
        "train_generator = train_datagen.flow_from_dataframe(\n",
        "        dataframe=train_data,\n",
        "        directory='/content/patch_images',\n",
        "        x_col=\"ImageName\",\n",
        "        y_col=\"isCancerous\",\n",
        "        target_size=(27, 27),\n",
        "        batch_size=batch_size,\n",
        "        class_mode='categorical')\n",
        "\n",
        "validation_generator = val_datagen.flow_from_dataframe(\n",
        "        dataframe=val_data,\n",
        "        directory='/content/patch_images',\n",
        "        x_col=\"ImageName\",\n",
        "        y_col=\"isCancerous\",\n",
        "        target_size=(27, 27),\n",
        "        batch_size=batch_size,\n",
        "        class_mode='categorical')"
      ],
      "id": "17aa48f7-b3d0-475c-af95-0c082ab2a76b",
      "execution_count": 14,
      "outputs": [
        {
          "output_type": "stream",
          "text": [
            "Found 5937 validated image filenames belonging to 2 classes.\n",
            "Found 1979 validated image filenames belonging to 2 classes.\n"
          ],
          "name": "stdout"
        }
      ]
    },
    {
      "cell_type": "code",
      "metadata": {
        "id": "af0a8d9e-1fe6-4e43-81a6-7aeeb34d3a58"
      },
      "source": [
        "reg_lambda = 0.001\n",
        "\n",
        "model_VGG_3 = tf.keras.Sequential([\n",
        "    #VGG block 1\n",
        "    tf.keras.layers.Conv2D(32, (3, 3), activation='relu', padding='same', \n",
        "                           kernel_regularizer=tf.keras.regularizers.l2(reg_lambda), input_shape=(27, 27, 3)),\n",
        "    tf.keras.layers.Conv2D(32, (3, 3), activation='relu', padding='same', \n",
        "                           kernel_regularizer=tf.keras.regularizers.l2(reg_lambda)),\n",
        "    tf.keras.layers.MaxPooling2D((2, 2)),\n",
        "    \n",
        "    #VGG block 2\n",
        "    tf.keras.layers.Conv2D(64, (3, 3), activation='relu', padding='same', \n",
        "                           kernel_regularizer=tf.keras.regularizers.l2(reg_lambda)),\n",
        "    tf.keras.layers.Conv2D(64, (3, 3), activation='relu', padding='same', \n",
        "                           kernel_regularizer=tf.keras.regularizers.l2(reg_lambda)),\n",
        "    tf.keras.layers.MaxPooling2D((2, 2)),\n",
        "    \n",
        "    #VGG block 3\n",
        "    tf.keras.layers.Conv2D(128, (3, 3), activation='relu', padding='same', \n",
        "                           kernel_regularizer=tf.keras.regularizers.l2(reg_lambda)),\n",
        "    tf.keras.layers.Conv2D(128, (3, 3), activation='relu', padding='same', \n",
        "                           kernel_regularizer=tf.keras.regularizers.l2(reg_lambda)),\n",
        "    tf.keras.layers.MaxPooling2D((2, 2)),\n",
        "    \n",
        "    \n",
        "    tf.keras.layers.Flatten(),\n",
        "    tf.keras.layers.Dense(128, activation='relu', kernel_regularizer=tf.keras.regularizers.l2(reg_lambda)),\n",
        "    tf.keras.layers.Dense(OUTPUT_CLASSES),\n",
        "])"
      ],
      "id": "af0a8d9e-1fe6-4e43-81a6-7aeeb34d3a58",
      "execution_count": 15,
      "outputs": []
    },
    {
      "cell_type": "code",
      "metadata": {
        "id": "91588fa8-31cf-4348-8f4f-1f7d755de7d0"
      },
      "source": [
        "model_VGG_3.compile(optimizer='adam',\n",
        "              loss=tf.keras.losses.CategoricalCrossentropy(from_logits=True),\n",
        "              metrics=['categorical_accuracy'])"
      ],
      "id": "91588fa8-31cf-4348-8f4f-1f7d755de7d0",
      "execution_count": 16,
      "outputs": []
    },
    {
      "cell_type": "code",
      "metadata": {
        "colab": {
          "base_uri": "https://localhost:8080/",
          "height": 1000
        },
        "id": "6eedac50-cbed-4bc8-871f-03333ab69b89",
        "outputId": "1865b95f-7ab7-453f-8d0b-e8b7353291c8"
      },
      "source": [
        "history_VGG_3 = model_VGG_3.fit_generator(train_generator, validation_data = validation_generator, epochs=100)\n",
        "\n",
        "plot_learning_curve(history_VGG_3.history['loss'], history_VGG_3.history['val_loss'], \n",
        "                    history_VGG_3.history['categorical_accuracy'], history_VGG_3.history['val_categorical_accuracy'], \n",
        "                    metric_name='Accuracy')"
      ],
      "id": "6eedac50-cbed-4bc8-871f-03333ab69b89",
      "execution_count": 17,
      "outputs": [
        {
          "output_type": "stream",
          "text": [
            "/usr/local/lib/python3.7/dist-packages/tensorflow/python/keras/engine/training.py:1940: UserWarning: `Model.fit_generator` is deprecated and will be removed in a future version. Please use `Model.fit`, which supports generators.\n",
            "  warnings.warn('`Model.fit_generator` is deprecated and '\n"
          ],
          "name": "stderr"
        },
        {
          "output_type": "stream",
          "text": [
            "Epoch 1/100\n",
            "186/186 [==============================] - 38s 34ms/step - loss: 0.6525 - categorical_accuracy: 0.7758 - val_loss: 0.5357 - val_categorical_accuracy: 0.7842\n",
            "Epoch 2/100\n",
            "186/186 [==============================] - 6s 31ms/step - loss: 0.4347 - categorical_accuracy: 0.8474 - val_loss: 0.5058 - val_categorical_accuracy: 0.7903\n",
            "Epoch 3/100\n",
            "186/186 [==============================] - 6s 31ms/step - loss: 0.4256 - categorical_accuracy: 0.8351 - val_loss: 0.4436 - val_categorical_accuracy: 0.8050\n",
            "Epoch 4/100\n",
            "186/186 [==============================] - 6s 31ms/step - loss: 0.3866 - categorical_accuracy: 0.8525 - val_loss: 0.3933 - val_categorical_accuracy: 0.8636\n",
            "Epoch 5/100\n",
            "186/186 [==============================] - 6s 31ms/step - loss: 0.4005 - categorical_accuracy: 0.8434 - val_loss: 0.4600 - val_categorical_accuracy: 0.8686\n",
            "Epoch 6/100\n",
            "186/186 [==============================] - 6s 31ms/step - loss: 0.3937 - categorical_accuracy: 0.8494 - val_loss: 0.4305 - val_categorical_accuracy: 0.8393\n",
            "Epoch 7/100\n",
            "186/186 [==============================] - 6s 31ms/step - loss: 0.3743 - categorical_accuracy: 0.8568 - val_loss: 0.6821 - val_categorical_accuracy: 0.7847\n",
            "Epoch 8/100\n",
            "186/186 [==============================] - 6s 31ms/step - loss: 0.3839 - categorical_accuracy: 0.8531 - val_loss: 0.4600 - val_categorical_accuracy: 0.7954\n",
            "Epoch 9/100\n",
            "186/186 [==============================] - 6s 31ms/step - loss: 0.3480 - categorical_accuracy: 0.8624 - val_loss: 0.4106 - val_categorical_accuracy: 0.8206\n",
            "Epoch 10/100\n",
            "186/186 [==============================] - 6s 31ms/step - loss: 0.3712 - categorical_accuracy: 0.8546 - val_loss: 0.3381 - val_categorical_accuracy: 0.8717\n",
            "Epoch 11/100\n",
            "186/186 [==============================] - 6s 31ms/step - loss: 0.3577 - categorical_accuracy: 0.8526 - val_loss: 0.3852 - val_categorical_accuracy: 0.8378\n",
            "Epoch 12/100\n",
            "186/186 [==============================] - 6s 31ms/step - loss: 0.3416 - categorical_accuracy: 0.8705 - val_loss: 0.3464 - val_categorical_accuracy: 0.8590\n",
            "Epoch 13/100\n",
            "186/186 [==============================] - 6s 31ms/step - loss: 0.3537 - categorical_accuracy: 0.8641 - val_loss: 0.3088 - val_categorical_accuracy: 0.8883\n",
            "Epoch 14/100\n",
            "186/186 [==============================] - 6s 31ms/step - loss: 0.3631 - categorical_accuracy: 0.8560 - val_loss: 0.3144 - val_categorical_accuracy: 0.8802\n",
            "Epoch 15/100\n",
            "186/186 [==============================] - 6s 31ms/step - loss: 0.3576 - categorical_accuracy: 0.8580 - val_loss: 0.2932 - val_categorical_accuracy: 0.8979\n",
            "Epoch 16/100\n",
            "186/186 [==============================] - 6s 31ms/step - loss: 0.3529 - categorical_accuracy: 0.8589 - val_loss: 0.4289 - val_categorical_accuracy: 0.8161\n",
            "Epoch 17/100\n",
            "186/186 [==============================] - 6s 31ms/step - loss: 0.3469 - categorical_accuracy: 0.8627 - val_loss: 0.3558 - val_categorical_accuracy: 0.8474\n",
            "Epoch 18/100\n",
            "186/186 [==============================] - 6s 31ms/step - loss: 0.3412 - categorical_accuracy: 0.8622 - val_loss: 0.2964 - val_categorical_accuracy: 0.8939\n",
            "Epoch 19/100\n",
            "186/186 [==============================] - 6s 31ms/step - loss: 0.3235 - categorical_accuracy: 0.8775 - val_loss: 0.2884 - val_categorical_accuracy: 0.8974\n",
            "Epoch 20/100\n",
            "186/186 [==============================] - 6s 31ms/step - loss: 0.3369 - categorical_accuracy: 0.8668 - val_loss: 0.2942 - val_categorical_accuracy: 0.8974\n",
            "Epoch 21/100\n",
            "186/186 [==============================] - 6s 31ms/step - loss: 0.3291 - categorical_accuracy: 0.8700 - val_loss: 0.2931 - val_categorical_accuracy: 0.8903\n",
            "Epoch 22/100\n",
            "186/186 [==============================] - 6s 31ms/step - loss: 0.3279 - categorical_accuracy: 0.8708 - val_loss: 0.3144 - val_categorical_accuracy: 0.8782\n",
            "Epoch 23/100\n",
            "186/186 [==============================] - 6s 32ms/step - loss: 0.3364 - categorical_accuracy: 0.8725 - val_loss: 0.3179 - val_categorical_accuracy: 0.8772\n",
            "Epoch 24/100\n",
            "186/186 [==============================] - 6s 31ms/step - loss: 0.3268 - categorical_accuracy: 0.8730 - val_loss: 0.3239 - val_categorical_accuracy: 0.8651\n",
            "Epoch 25/100\n",
            "186/186 [==============================] - 6s 31ms/step - loss: 0.3221 - categorical_accuracy: 0.8710 - val_loss: 0.3022 - val_categorical_accuracy: 0.8853\n",
            "Epoch 26/100\n",
            "186/186 [==============================] - 6s 32ms/step - loss: 0.3249 - categorical_accuracy: 0.8703 - val_loss: 0.2962 - val_categorical_accuracy: 0.8934\n",
            "Epoch 27/100\n",
            "186/186 [==============================] - 6s 31ms/step - loss: 0.3185 - categorical_accuracy: 0.8769 - val_loss: 0.2841 - val_categorical_accuracy: 0.8984\n",
            "Epoch 28/100\n",
            "186/186 [==============================] - 6s 31ms/step - loss: 0.3147 - categorical_accuracy: 0.8802 - val_loss: 0.3422 - val_categorical_accuracy: 0.8525\n",
            "Epoch 29/100\n",
            "186/186 [==============================] - 6s 31ms/step - loss: 0.3315 - categorical_accuracy: 0.8705 - val_loss: 0.2797 - val_categorical_accuracy: 0.9005\n",
            "Epoch 30/100\n",
            "186/186 [==============================] - 6s 31ms/step - loss: 0.3134 - categorical_accuracy: 0.8772 - val_loss: 0.3156 - val_categorical_accuracy: 0.8732\n",
            "Epoch 31/100\n",
            "186/186 [==============================] - 6s 31ms/step - loss: 0.3172 - categorical_accuracy: 0.8789 - val_loss: 0.2934 - val_categorical_accuracy: 0.8989\n",
            "Epoch 32/100\n",
            "186/186 [==============================] - 6s 31ms/step - loss: 0.3128 - categorical_accuracy: 0.8784 - val_loss: 0.2882 - val_categorical_accuracy: 0.8883\n",
            "Epoch 33/100\n",
            "186/186 [==============================] - 6s 31ms/step - loss: 0.3184 - categorical_accuracy: 0.8755 - val_loss: 0.2811 - val_categorical_accuracy: 0.8949\n",
            "Epoch 34/100\n",
            "186/186 [==============================] - 6s 31ms/step - loss: 0.2987 - categorical_accuracy: 0.8845 - val_loss: 0.2895 - val_categorical_accuracy: 0.8868\n",
            "Epoch 35/100\n",
            "186/186 [==============================] - 6s 31ms/step - loss: 0.3056 - categorical_accuracy: 0.8839 - val_loss: 0.3386 - val_categorical_accuracy: 0.8570\n",
            "Epoch 36/100\n",
            "186/186 [==============================] - 6s 31ms/step - loss: 0.3089 - categorical_accuracy: 0.8752 - val_loss: 0.3107 - val_categorical_accuracy: 0.8737\n",
            "Epoch 37/100\n",
            "186/186 [==============================] - 6s 31ms/step - loss: 0.3049 - categorical_accuracy: 0.8801 - val_loss: 0.2781 - val_categorical_accuracy: 0.8999\n",
            "Epoch 38/100\n",
            "186/186 [==============================] - 6s 31ms/step - loss: 0.3007 - categorical_accuracy: 0.8851 - val_loss: 0.3166 - val_categorical_accuracy: 0.8797\n",
            "Epoch 39/100\n",
            "186/186 [==============================] - 6s 31ms/step - loss: 0.3115 - categorical_accuracy: 0.8797 - val_loss: 0.3251 - val_categorical_accuracy: 0.8691\n",
            "Epoch 40/100\n",
            "186/186 [==============================] - 6s 31ms/step - loss: 0.3189 - categorical_accuracy: 0.8786 - val_loss: 0.3384 - val_categorical_accuracy: 0.8585\n",
            "Epoch 41/100\n",
            "186/186 [==============================] - 6s 31ms/step - loss: 0.3044 - categorical_accuracy: 0.8781 - val_loss: 0.3777 - val_categorical_accuracy: 0.8434\n",
            "Epoch 42/100\n",
            "186/186 [==============================] - 6s 31ms/step - loss: 0.3094 - categorical_accuracy: 0.8777 - val_loss: 0.2879 - val_categorical_accuracy: 0.8964\n",
            "Epoch 43/100\n",
            "186/186 [==============================] - 6s 31ms/step - loss: 0.3008 - categorical_accuracy: 0.8858 - val_loss: 0.2884 - val_categorical_accuracy: 0.8939\n",
            "Epoch 44/100\n",
            "186/186 [==============================] - 6s 31ms/step - loss: 0.2990 - categorical_accuracy: 0.8831 - val_loss: 0.2833 - val_categorical_accuracy: 0.8964\n",
            "Epoch 45/100\n",
            "186/186 [==============================] - 6s 31ms/step - loss: 0.3048 - categorical_accuracy: 0.8828 - val_loss: 0.2967 - val_categorical_accuracy: 0.8843\n",
            "Epoch 46/100\n",
            "186/186 [==============================] - 6s 31ms/step - loss: 0.3091 - categorical_accuracy: 0.8796 - val_loss: 0.3740 - val_categorical_accuracy: 0.8332\n",
            "Epoch 47/100\n",
            "186/186 [==============================] - 6s 32ms/step - loss: 0.2989 - categorical_accuracy: 0.8875 - val_loss: 0.2934 - val_categorical_accuracy: 0.8848\n",
            "Epoch 48/100\n",
            "186/186 [==============================] - 6s 31ms/step - loss: 0.2919 - categorical_accuracy: 0.8887 - val_loss: 0.2809 - val_categorical_accuracy: 0.8934\n",
            "Epoch 49/100\n",
            "186/186 [==============================] - 6s 31ms/step - loss: 0.3029 - categorical_accuracy: 0.8853 - val_loss: 0.2877 - val_categorical_accuracy: 0.8873\n",
            "Epoch 50/100\n",
            "186/186 [==============================] - 6s 31ms/step - loss: 0.2902 - categorical_accuracy: 0.8895 - val_loss: 0.2851 - val_categorical_accuracy: 0.8919\n",
            "Epoch 51/100\n",
            "186/186 [==============================] - 6s 31ms/step - loss: 0.2872 - categorical_accuracy: 0.8877 - val_loss: 0.2955 - val_categorical_accuracy: 0.8944\n",
            "Epoch 52/100\n",
            "186/186 [==============================] - 6s 31ms/step - loss: 0.3005 - categorical_accuracy: 0.8856 - val_loss: 0.2915 - val_categorical_accuracy: 0.8883\n",
            "Epoch 53/100\n",
            "186/186 [==============================] - 6s 31ms/step - loss: 0.3126 - categorical_accuracy: 0.8762 - val_loss: 0.2755 - val_categorical_accuracy: 0.8949\n",
            "Epoch 54/100\n",
            "186/186 [==============================] - 6s 31ms/step - loss: 0.2952 - categorical_accuracy: 0.8907 - val_loss: 0.2768 - val_categorical_accuracy: 0.8934\n",
            "Epoch 55/100\n",
            "186/186 [==============================] - 6s 32ms/step - loss: 0.2971 - categorical_accuracy: 0.8856 - val_loss: 0.3275 - val_categorical_accuracy: 0.8686\n",
            "Epoch 56/100\n",
            "186/186 [==============================] - 6s 31ms/step - loss: 0.2899 - categorical_accuracy: 0.8917 - val_loss: 0.2793 - val_categorical_accuracy: 0.8919\n",
            "Epoch 57/100\n",
            "186/186 [==============================] - 6s 31ms/step - loss: 0.3024 - categorical_accuracy: 0.8789 - val_loss: 0.3002 - val_categorical_accuracy: 0.8752\n",
            "Epoch 58/100\n",
            "186/186 [==============================] - 6s 32ms/step - loss: 0.3001 - categorical_accuracy: 0.8858 - val_loss: 0.3147 - val_categorical_accuracy: 0.8757\n",
            "Epoch 59/100\n",
            "186/186 [==============================] - 6s 33ms/step - loss: 0.2968 - categorical_accuracy: 0.8892 - val_loss: 0.3284 - val_categorical_accuracy: 0.8711\n",
            "Epoch 60/100\n",
            "186/186 [==============================] - 6s 33ms/step - loss: 0.2820 - categorical_accuracy: 0.8924 - val_loss: 0.3128 - val_categorical_accuracy: 0.8706\n",
            "Epoch 61/100\n",
            "186/186 [==============================] - 6s 33ms/step - loss: 0.2955 - categorical_accuracy: 0.8853 - val_loss: 0.3244 - val_categorical_accuracy: 0.8656\n",
            "Epoch 62/100\n",
            "186/186 [==============================] - 6s 32ms/step - loss: 0.2868 - categorical_accuracy: 0.8939 - val_loss: 0.2632 - val_categorical_accuracy: 0.9040\n",
            "Epoch 63/100\n",
            "186/186 [==============================] - 6s 33ms/step - loss: 0.2963 - categorical_accuracy: 0.8897 - val_loss: 0.2865 - val_categorical_accuracy: 0.8949\n",
            "Epoch 64/100\n",
            "186/186 [==============================] - 6s 33ms/step - loss: 0.2732 - categorical_accuracy: 0.8998 - val_loss: 0.2657 - val_categorical_accuracy: 0.8994\n",
            "Epoch 65/100\n",
            "186/186 [==============================] - 6s 33ms/step - loss: 0.2884 - categorical_accuracy: 0.8903 - val_loss: 0.3362 - val_categorical_accuracy: 0.8681\n",
            "Epoch 66/100\n",
            "186/186 [==============================] - 6s 32ms/step - loss: 0.2895 - categorical_accuracy: 0.8951 - val_loss: 0.3534 - val_categorical_accuracy: 0.8540\n",
            "Epoch 67/100\n",
            "186/186 [==============================] - 6s 32ms/step - loss: 0.2912 - categorical_accuracy: 0.8919 - val_loss: 0.3221 - val_categorical_accuracy: 0.8701\n",
            "Epoch 68/100\n",
            "186/186 [==============================] - 6s 31ms/step - loss: 0.2827 - categorical_accuracy: 0.8959 - val_loss: 0.2654 - val_categorical_accuracy: 0.9025\n",
            "Epoch 69/100\n",
            "186/186 [==============================] - 6s 32ms/step - loss: 0.2797 - categorical_accuracy: 0.8973 - val_loss: 0.3908 - val_categorical_accuracy: 0.8383\n",
            "Epoch 70/100\n",
            "186/186 [==============================] - 6s 31ms/step - loss: 0.2804 - categorical_accuracy: 0.8956 - val_loss: 0.2839 - val_categorical_accuracy: 0.8939\n",
            "Epoch 71/100\n",
            "186/186 [==============================] - 6s 31ms/step - loss: 0.2866 - categorical_accuracy: 0.8910 - val_loss: 0.3145 - val_categorical_accuracy: 0.8787\n",
            "Epoch 72/100\n",
            "186/186 [==============================] - 6s 31ms/step - loss: 0.2856 - categorical_accuracy: 0.8910 - val_loss: 0.3763 - val_categorical_accuracy: 0.8525\n",
            "Epoch 73/100\n",
            "186/186 [==============================] - 6s 31ms/step - loss: 0.2805 - categorical_accuracy: 0.8939 - val_loss: 0.4001 - val_categorical_accuracy: 0.8519\n",
            "Epoch 74/100\n",
            "186/186 [==============================] - 6s 32ms/step - loss: 0.3007 - categorical_accuracy: 0.8883 - val_loss: 0.3259 - val_categorical_accuracy: 0.8737\n",
            "Epoch 75/100\n",
            "186/186 [==============================] - 6s 31ms/step - loss: 0.2771 - categorical_accuracy: 0.8971 - val_loss: 0.3684 - val_categorical_accuracy: 0.8575\n",
            "Epoch 76/100\n",
            "186/186 [==============================] - 6s 31ms/step - loss: 0.2934 - categorical_accuracy: 0.8909 - val_loss: 0.2779 - val_categorical_accuracy: 0.8979\n",
            "Epoch 77/100\n",
            "186/186 [==============================] - 6s 32ms/step - loss: 0.2825 - categorical_accuracy: 0.8935 - val_loss: 0.2705 - val_categorical_accuracy: 0.8959\n",
            "Epoch 78/100\n",
            "186/186 [==============================] - 6s 32ms/step - loss: 0.2776 - categorical_accuracy: 0.8956 - val_loss: 0.3057 - val_categorical_accuracy: 0.8797\n",
            "Epoch 79/100\n",
            "186/186 [==============================] - 6s 32ms/step - loss: 0.2747 - categorical_accuracy: 0.9015 - val_loss: 0.4605 - val_categorical_accuracy: 0.8343\n",
            "Epoch 80/100\n",
            "186/186 [==============================] - 6s 31ms/step - loss: 0.2850 - categorical_accuracy: 0.8930 - val_loss: 0.3676 - val_categorical_accuracy: 0.8388\n",
            "Epoch 81/100\n",
            "186/186 [==============================] - 6s 32ms/step - loss: 0.2792 - categorical_accuracy: 0.8969 - val_loss: 0.2745 - val_categorical_accuracy: 0.8903\n",
            "Epoch 82/100\n",
            "186/186 [==============================] - 6s 31ms/step - loss: 0.2740 - categorical_accuracy: 0.8983 - val_loss: 0.2668 - val_categorical_accuracy: 0.8979\n",
            "Epoch 83/100\n",
            "186/186 [==============================] - 6s 33ms/step - loss: 0.2827 - categorical_accuracy: 0.8989 - val_loss: 0.3240 - val_categorical_accuracy: 0.8691\n",
            "Epoch 84/100\n",
            "186/186 [==============================] - 6s 32ms/step - loss: 0.2766 - categorical_accuracy: 0.8986 - val_loss: 0.2940 - val_categorical_accuracy: 0.8898\n",
            "Epoch 85/100\n",
            "186/186 [==============================] - 6s 32ms/step - loss: 0.2757 - categorical_accuracy: 0.8979 - val_loss: 0.3741 - val_categorical_accuracy: 0.8388\n",
            "Epoch 86/100\n",
            "186/186 [==============================] - 6s 32ms/step - loss: 0.2777 - categorical_accuracy: 0.8932 - val_loss: 0.2671 - val_categorical_accuracy: 0.9015\n",
            "Epoch 87/100\n",
            "186/186 [==============================] - 6s 32ms/step - loss: 0.2793 - categorical_accuracy: 0.8951 - val_loss: 0.2928 - val_categorical_accuracy: 0.8903\n",
            "Epoch 88/100\n",
            "186/186 [==============================] - 6s 32ms/step - loss: 0.2706 - categorical_accuracy: 0.8993 - val_loss: 0.2966 - val_categorical_accuracy: 0.8919\n",
            "Epoch 89/100\n",
            "186/186 [==============================] - 6s 32ms/step - loss: 0.2788 - categorical_accuracy: 0.9008 - val_loss: 0.2785 - val_categorical_accuracy: 0.8964\n",
            "Epoch 90/100\n",
            "186/186 [==============================] - 6s 32ms/step - loss: 0.2749 - categorical_accuracy: 0.8991 - val_loss: 0.4049 - val_categorical_accuracy: 0.8459\n",
            "Epoch 91/100\n",
            "186/186 [==============================] - 6s 32ms/step - loss: 0.2783 - categorical_accuracy: 0.8974 - val_loss: 0.3488 - val_categorical_accuracy: 0.8595\n",
            "Epoch 92/100\n",
            "186/186 [==============================] - 6s 32ms/step - loss: 0.2733 - categorical_accuracy: 0.9015 - val_loss: 0.2599 - val_categorical_accuracy: 0.9025\n",
            "Epoch 93/100\n",
            "186/186 [==============================] - 6s 31ms/step - loss: 0.2717 - categorical_accuracy: 0.8996 - val_loss: 0.4122 - val_categorical_accuracy: 0.8282\n",
            "Epoch 94/100\n",
            "186/186 [==============================] - 6s 31ms/step - loss: 0.2771 - categorical_accuracy: 0.8989 - val_loss: 0.2852 - val_categorical_accuracy: 0.8949\n",
            "Epoch 95/100\n",
            "186/186 [==============================] - 6s 31ms/step - loss: 0.2829 - categorical_accuracy: 0.8939 - val_loss: 0.2618 - val_categorical_accuracy: 0.9015\n",
            "Epoch 96/100\n",
            "186/186 [==============================] - 6s 32ms/step - loss: 0.2658 - categorical_accuracy: 0.8996 - val_loss: 0.2941 - val_categorical_accuracy: 0.8863\n",
            "Epoch 97/100\n",
            "186/186 [==============================] - 6s 32ms/step - loss: 0.2662 - categorical_accuracy: 0.9064 - val_loss: 0.2693 - val_categorical_accuracy: 0.8989\n",
            "Epoch 98/100\n",
            "186/186 [==============================] - 6s 32ms/step - loss: 0.2671 - categorical_accuracy: 0.9018 - val_loss: 0.2697 - val_categorical_accuracy: 0.8954\n",
            "Epoch 99/100\n",
            "186/186 [==============================] - 6s 32ms/step - loss: 0.2728 - categorical_accuracy: 0.8966 - val_loss: 0.3275 - val_categorical_accuracy: 0.8782\n",
            "Epoch 100/100\n",
            "186/186 [==============================] - 6s 32ms/step - loss: 0.2740 - categorical_accuracy: 0.8991 - val_loss: 0.2712 - val_categorical_accuracy: 0.8999\n"
          ],
          "name": "stdout"
        },
        {
          "output_type": "display_data",
          "data": {
            "image/png": "[encoded data removed]",
            "text/plain": [
              "<Figure size 720x360 with 2 Axes>"
            ]
          },
          "metadata": {
            "tags": [],
            "needs_background": "light"
          }
        }
      ]
    },
    {
      "cell_type": "code",
      "metadata": {
        "id": "6tPIJoeGzHDr"
      },
      "source": [
        ""
      ],
      "id": "6tPIJoeGzHDr",
      "execution_count": null,
      "outputs": []
    },
    {
      "cell_type": "markdown",
      "metadata": {
        "id": "TecsWSj-zH21"
      },
      "source": [
        "### Save the Model\n",
        "\n"
      ],
      "id": "TecsWSj-zH21"
    },
    {
      "cell_type": "code",
      "metadata": {
        "colab": {
          "base_uri": "https://localhost:8080/"
        },
        "id": "9854ecc6-8b7a-4cdb-955b-276cb44adc0b",
        "outputId": "8464924c-67e3-4e84-d023-8c5d722abcc8"
      },
      "source": [
        "model_VGG_3.save(\"model_VGG_3\")"
      ],
      "id": "9854ecc6-8b7a-4cdb-955b-276cb44adc0b",
      "execution_count": 18,
      "outputs": [
        {
          "output_type": "stream",
          "text": [
            "INFO:tensorflow:Assets written to: model_VGG_3/assets\n"
          ],
          "name": "stdout"
        }
      ]
    },
    {
      "cell_type": "code",
      "metadata": {
        "id": "2d46ded3-c190-43b6-ac44-249c75b37bd0"
      },
      "source": [
        "!cp -R ./model_VGG_3 /content/drive/'My Drive'/CML-Assignment2/"
      ],
      "id": "2d46ded3-c190-43b6-ac44-249c75b37bd0",
      "execution_count": 19,
      "outputs": []
    },
    {
      "cell_type": "code",
      "metadata": {
        "id": "5v75QklhLGY2"
      },
      "source": [
        ""
      ],
      "id": "5v75QklhLGY2",
      "execution_count": null,
      "outputs": []
    },
    {
      "cell_type": "markdown",
      "metadata": {
        "id": "k2PK_iAaLHsA"
      },
      "source": [
        "## Testing the Model we have created finally"
      ],
      "id": "k2PK_iAaLHsA"
    },
    {
      "cell_type": "code",
      "metadata": {
        "colab": {
          "base_uri": "https://localhost:8080/"
        },
        "id": "58190491-30b3-48ea-a162-00c606ff2cdc",
        "outputId": "a5c3f887-c2a5-4c27-b0fd-b8c5bc44106e"
      },
      "source": [
        "test_data['isCancerous'] = test_data['isCancerous'].astype('str')\n",
        "\n",
        "test_datagen = ImageDataGenerator(rescale=1./255, data_format='channels_last')\n",
        "\n",
        "batch_size = 1\n",
        "\n",
        "test_generator = test_datagen.flow_from_dataframe(\n",
        "        dataframe=test_data,\n",
        "        directory='/content/patch_images',\n",
        "        x_col=\"ImageName\",\n",
        "        y_col=\"isCancerous\",\n",
        "        target_size=(27, 27),\n",
        "        batch_size=batch_size,\n",
        "        class_mode='categorical')"
      ],
      "id": "58190491-30b3-48ea-a162-00c606ff2cdc",
      "execution_count": 20,
      "outputs": [
        {
          "output_type": "stream",
          "text": [
            "Found 1980 validated image filenames belonging to 2 classes.\n"
          ],
          "name": "stdout"
        },
        {
          "output_type": "stream",
          "text": [
            "/usr/local/lib/python3.7/dist-packages/ipykernel_launcher.py:1: SettingWithCopyWarning: \n",
            "A value is trying to be set on a copy of a slice from a DataFrame.\n",
            "Try using .loc[row_indexer,col_indexer] = value instead\n",
            "\n",
            "See the caveats in the documentation: https://pandas.pydata.org/pandas-docs/stable/user_guide/indexing.html#returning-a-view-versus-a-copy\n",
            "  \"\"\"Entry point for launching an IPython kernel.\n"
          ],
          "name": "stderr"
        }
      ]
    },
    {
      "cell_type": "code",
      "metadata": {
        "colab": {
          "base_uri": "https://localhost:8080/"
        },
        "id": "W_dLzjrL1mo0",
        "outputId": "3d1bad55-1008-41e6-e212-281e01dcf5b2"
      },
      "source": [
        "model_VGG_3.evaluate(test_generator)"
      ],
      "id": "W_dLzjrL1mo0",
      "execution_count": 21,
      "outputs": [
        {
          "output_type": "stream",
          "text": [
            "1980/1980 [==============================] - 7s 3ms/step - loss: 0.2964 - categorical_accuracy: 0.8960\n"
          ],
          "name": "stdout"
        },
        {
          "output_type": "execute_result",
          "data": {
            "text/plain": [
              "[0.2964009940624237, 0.8959596157073975]"
            ]
          },
          "metadata": {
            "tags": []
          },
          "execution_count": 21
        }
      ]
    },
    {
      "cell_type": "markdown",
      "metadata": {
        "id": "o_9XleamLWmr"
      },
      "source": [
        " Got 87% Accuracy with 3% loss"
      ],
      "id": "o_9XleamLWmr"
    },
    {
      "cell_type": "markdown",
      "metadata": {
        "id": "TsQK1DNoLtCM"
      },
      "source": [
        "## Plotting our Final Results"
      ],
      "id": "TsQK1DNoLtCM"
    },
    {
      "cell_type": "code",
      "metadata": {
        "id": "Bk0pYu0k1ms9"
      },
      "source": [
        "label_names = {'cancer' : 0, 'noCancer' : 1}"
      ],
      "id": "Bk0pYu0k1ms9",
      "execution_count": 22,
      "outputs": []
    },
    {
      "cell_type": "code",
      "metadata": {
        "colab": {
          "base_uri": "https://localhost:8080/",
          "height": 201
        },
        "id": "5h6xZcxAJeXa",
        "outputId": "c0c0e021-684a-4781-a14c-01ceb000a5da"
      },
      "source": [
        "d_inv = {v: k for k, v in label_names.items()}\n",
        "plt.figure(figsize=(16,4))\n",
        "batches = 0\n",
        "for x,y in test_generator:\n",
        "        batches = batches + 1\n",
        "        y_hat = model_VGG_3.predict(x, verbose=0)\n",
        "        x = np.squeeze(x)\n",
        "        if batches < 5:\n",
        "            plt.subplot(1,5,batches)\n",
        "            plt.imshow(x)\n",
        "            plt.title(\"GT-{}, Pred-{}\".format(d_inv[np.argmax(y[0])], d_inv[np.argmax(y_hat[0])] ))\n",
        "            \n",
        "        else:\n",
        "            break\n",
        "        \n",
        "        plt.axis('off')"
      ],
      "id": "5h6xZcxAJeXa",
      "execution_count": 25,
      "outputs": [
        {
          "output_type": "display_data",
          "data": {
            "image/png": "[encoded data removed]",
            "text/plain": [
              "<Figure size 1152x288 with 4 Axes>"
            ]
          },
          "metadata": {
            "tags": [],
            "needs_background": "light"
          }
        }
      ]
    },
    {
      "cell_type": "markdown",
      "metadata": {
        "id": "2E7Uz7YdMWmc"
      },
      "source": [
        "# Task 2"
      ],
      "id": "2E7Uz7YdMWmc"
    },
    {
      "cell_type": "code",
      "metadata": {
        "colab": {
          "base_uri": "https://localhost:8080/"
        },
        "id": "McXF4AF0Jeep",
        "outputId": "adeff718-c96e-443f-9fa0-53fbe7be88f9"
      },
      "source": [
        "cancer.cellType.value_counts()"
      ],
      "id": "McXF4AF0Jeep",
      "execution_count": null,
      "outputs": [
        {
          "output_type": "execute_result",
          "data": {
            "text/plain": [
              "2    4079\n",
              "1    2543\n",
              "0    1888\n",
              "3    1386\n",
              "Name: cellType, dtype: int64"
            ]
          },
          "metadata": {
            "tags": []
          },
          "execution_count": 13
        }
      ]
    },
    {
      "cell_type": "code",
      "metadata": {
        "colab": {
          "base_uri": "https://localhost:8080/",
          "height": 265
        },
        "id": "vCKPSbtLJehl",
        "outputId": "906fa5b3-66c3-4a00-a646-9beebd9d0ef9"
      },
      "source": [
        "cancer.cellType.hist()\n",
        "plt.show()"
      ],
      "id": "vCKPSbtLJehl",
      "execution_count": null,
      "outputs": [
        {
          "output_type": "display_data",
          "data": {
            "image/png": "[encoded data removed]",
            "text/plain": [
              "<Figure size 432x288 with 1 Axes>"
            ]
          },
          "metadata": {
            "tags": [],
            "needs_background": "light"
          }
        }
      ]
    },
    {
      "cell_type": "code",
      "metadata": {
        "id": "DYrdAqvXnQIR"
      },
      "source": [
        "INPUT_DIM = (27, 27, 3)\n",
        "HIDDEN_LAYER_DIM = 256\n",
        "OUTPUT_CLASSES = 4"
      ],
      "id": "DYrdAqvXnQIR",
      "execution_count": null,
      "outputs": []
    },
    {
      "cell_type": "code",
      "metadata": {
        "id": "ul_A_OonnQOR"
      },
      "source": [
        "cell_model = tf.keras.Sequential([\n",
        "    tf.keras.layers.Flatten(input_shape=INPUT_DIM),\n",
        "    tf.keras.layers.Dense(HIDDEN_LAYER_DIM, activation='sigmoid'),\n",
        "    tf.keras.layers.Dense(OUTPUT_CLASSES)\n",
        "])"
      ],
      "id": "ul_A_OonnQOR",
      "execution_count": null,
      "outputs": []
    },
    {
      "cell_type": "code",
      "metadata": {
        "colab": {
          "base_uri": "https://localhost:8080/"
        },
        "id": "0tLvQ02wnQa_",
        "outputId": "70256aaf-3abb-4e48-f672-11d9e3a00c9b"
      },
      "source": [
        "cell_model.summary()"
      ],
      "id": "0tLvQ02wnQa_",
      "execution_count": null,
      "outputs": [
        {
          "output_type": "stream",
          "text": [
            "Model: \"sequential_5\"\n",
            "_________________________________________________________________\n",
            "Layer (type)                 Output Shape              Param #   \n",
            "=================================================================\n",
            "flatten_5 (Flatten)          (None, 2187)              0         \n",
            "_________________________________________________________________\n",
            "dense_10 (Dense)             (None, 256)               560128    \n",
            "_________________________________________________________________\n",
            "dense_11 (Dense)             (None, 4)                 1028      \n",
            "=================================================================\n",
            "Total params: 561,156\n",
            "Trainable params: 561,156\n",
            "Non-trainable params: 0\n",
            "_________________________________________________________________\n"
          ],
          "name": "stdout"
        }
      ]
    },
    {
      "cell_type": "code",
      "metadata": {
        "colab": {
          "base_uri": "https://localhost:8080/",
          "height": 422
        },
        "id": "AbM8YmUwnQeM",
        "outputId": "11bdef80-2426-427f-c642-257a8125802a"
      },
      "source": [
        "tf.keras.utils.plot_model(cell_model, show_shapes=True)"
      ],
      "id": "AbM8YmUwnQeM",
      "execution_count": null,
      "outputs": [
        {
          "output_type": "execute_result",
          "data": {
            "image/png": "[encoded data removed]",
            "text/plain": [
              "<IPython.core.display.Image object>"
            ]
          },
          "metadata": {
            "tags": []
          },
          "execution_count": 42
        }
      ]
    },
    {
      "cell_type": "code",
      "metadata": {
        "colab": {
          "base_uri": "https://localhost:8080/"
        },
        "id": "JRoLvYxVnQhm",
        "outputId": "e04d512f-eef3-4ed3-f20b-be603aab2501"
      },
      "source": [
        "train_data['cellType'] = train_data['cellType'].astype('str')\n",
        "val_data['cellType'] = val_data['cellType'].astype('str')\n",
        "from tensorflow.keras.preprocessing.image import ImageDataGenerator\n",
        "\n",
        "\n",
        "cell_train_datagen = ImageDataGenerator(rescale=1./255, data_format='channels_last')\n",
        "cell_val_datagen = ImageDataGenerator(rescale=1./255, data_format='channels_last')\n",
        "\n",
        "batch_size = 27\n",
        "\n",
        "cell_train_generator = cell_train_datagen.flow_from_dataframe(\n",
        "        dataframe=train_data,\n",
        "        directory='/content/patch_images',\n",
        "        x_col=\"ImageName\",\n",
        "        y_col=\"cellType\",\n",
        "        target_size=(27, 27),\n",
        "        batch_size=batch_size,\n",
        "        class_mode='categorical')\n",
        "\n",
        "cell_validation_generator = cell_val_datagen.flow_from_dataframe(\n",
        "        dataframe=val_data,\n",
        "        directory='/content/patch_images',\n",
        "        x_col=\"ImageName\",\n",
        "        y_col=\"cellType\",\n",
        "        target_size=(27, 27),\n",
        "        batch_size=batch_size,\n",
        "        class_mode='categorical')"
      ],
      "id": "JRoLvYxVnQhm",
      "execution_count": null,
      "outputs": [
        {
          "output_type": "stream",
          "text": [
            "Found 5937 validated image filenames belonging to 4 classes.\n",
            "Found 1979 validated image filenames belonging to 4 classes.\n"
          ],
          "name": "stdout"
        }
      ]
    },
    {
      "cell_type": "markdown",
      "metadata": {
        "id": "veIFrEacznez"
      },
      "source": [
        "## Baseline Model"
      ],
      "id": "veIFrEacznez"
    },
    {
      "cell_type": "code",
      "metadata": {
        "id": "6gplDbbZzlm-"
      },
      "source": [
        "cell_model_VGG_1 = tf.keras.Sequential([\n",
        "    #VGG block 1\n",
        "    tf.keras.layers.Conv2D(32, (3, 3), activation='relu', padding='same', input_shape=(27, 27, 3)),\n",
        "    tf.keras.layers.Conv2D(32, (3, 3), activation='relu', padding='same'),\n",
        "    tf.keras.layers.MaxPooling2D((2, 2)),\n",
        "    \n",
        "    #VGG block 2\n",
        "    tf.keras.layers.Conv2D(64, (3, 3), activation='relu', padding='same'),\n",
        "    tf.keras.layers.Conv2D(64, (3, 3), activation='relu', padding='same'),\n",
        "    tf.keras.layers.MaxPooling2D((2, 2)),\n",
        "    \n",
        "    #VGG block 3\n",
        "    tf.keras.layers.Conv2D(128, (3, 3), activation='relu', padding='same'),\n",
        "    tf.keras.layers.Conv2D(128, (3, 3), activation='relu', padding='same'),\n",
        "    tf.keras.layers.MaxPooling2D((2, 2)),\n",
        "    \n",
        "    tf.keras.layers.Flatten(),\n",
        "    tf.keras.layers.Dense(128, activation='relu'),\n",
        "    tf.keras.layers.Dense(OUTPUT_CLASSES),\n",
        "])"
      ],
      "id": "6gplDbbZzlm-",
      "execution_count": null,
      "outputs": []
    },
    {
      "cell_type": "code",
      "metadata": {
        "id": "rwHXkFG0zltc"
      },
      "source": [
        "cell_model_VGG_1.compile(optimizer='adam',\n",
        "              loss=tf.keras.losses.CategoricalCrossentropy(from_logits=True),\n",
        "              metrics=['categorical_accuracy'])"
      ],
      "id": "rwHXkFG0zltc",
      "execution_count": null,
      "outputs": []
    },
    {
      "cell_type": "code",
      "metadata": {
        "colab": {
          "base_uri": "https://localhost:8080/"
        },
        "id": "Mfvp_a4Yql4a",
        "outputId": "c8332e3b-49a4-41aa-99d6-24e33539cfbc"
      },
      "source": [
        "cell_history = cell_model_VGG_1.fit_generator(cell_train_generator, validation_data = cell_validation_generator, epochs=25,verbose=0)"
      ],
      "id": "Mfvp_a4Yql4a",
      "execution_count": null,
      "outputs": [
        {
          "output_type": "stream",
          "text": [
            "/usr/local/lib/python3.7/dist-packages/tensorflow/python/keras/engine/training.py:1940: UserWarning: `Model.fit_generator` is deprecated and will be removed in a future version. Please use `Model.fit`, which supports generators.\n",
            "  warnings.warn('`Model.fit_generator` is deprecated and '\n"
          ],
          "name": "stderr"
        }
      ]
    },
    {
      "cell_type": "code",
      "metadata": {
        "colab": {
          "base_uri": "https://localhost:8080/",
          "height": 334
        },
        "id": "lfyZwOSOql8D",
        "outputId": "b336ad39-db97-4fa2-9b61-5c449b23abe2"
      },
      "source": [
        "plot_learning_curve(cell_history.history['loss'], cell_history.history['val_loss'], \n",
        "                    cell_history.history['categorical_accuracy'], cell_history.history['val_categorical_accuracy'], \n",
        "                    metric_name='Accuracy')"
      ],
      "id": "lfyZwOSOql8D",
      "execution_count": null,
      "outputs": [
        {
          "output_type": "display_data",
          "data": {
            "image/png": "[encoded data removed]",
            "text/plain": [
              "<Figure size 720x360 with 2 Axes>"
            ]
          },
          "metadata": {
            "tags": [],
            "needs_background": "light"
          }
        }
      ]
    },
    {
      "cell_type": "markdown",
      "metadata": {
        "id": "PuMpsVl9hYf1"
      },
      "source": [
        "### Due to Overfitting we have to apply Regularisation, dropout and Augmentation techniques to achieve High accuracy with minimum loss."
      ],
      "id": "PuMpsVl9hYf1"
    },
    {
      "cell_type": "markdown",
      "metadata": {
        "id": "qyQ69wfahJWP"
      },
      "source": [
        "## Regularisation"
      ],
      "id": "qyQ69wfahJWP"
    },
    {
      "cell_type": "code",
      "metadata": {
        "id": "N-buMyr1hHKs"
      },
      "source": [
        "reg_lambda = 0.001\n",
        "\n",
        "cell_model_VGG_2 = tf.keras.Sequential([\n",
        "    #VGG block 1\n",
        "    tf.keras.layers.Conv2D(32, (3, 3), activation='relu', padding='same', \n",
        "                           kernel_regularizer=tf.keras.regularizers.l2(reg_lambda), input_shape=(27, 27, 3)),\n",
        "    tf.keras.layers.Conv2D(32, (3, 3), activation='relu', padding='same', \n",
        "                           kernel_regularizer=tf.keras.regularizers.l2(reg_lambda)),\n",
        "    tf.keras.layers.MaxPooling2D((2, 2)),\n",
        "    \n",
        "    #VGG block 2\n",
        "    tf.keras.layers.Conv2D(64, (3, 3), activation='relu', padding='same', \n",
        "                           kernel_regularizer=tf.keras.regularizers.l2(reg_lambda)),\n",
        "    tf.keras.layers.Conv2D(64, (3, 3), activation='relu', padding='same', \n",
        "                           kernel_regularizer=tf.keras.regularizers.l2(reg_lambda)),\n",
        "    tf.keras.layers.MaxPooling2D((2, 2)),\n",
        "    \n",
        "    #VGG block 3\n",
        "    tf.keras.layers.Conv2D(128, (3, 3), activation='relu', padding='same', \n",
        "                           kernel_regularizer=tf.keras.regularizers.l2(reg_lambda)),\n",
        "    tf.keras.layers.Conv2D(128, (3, 3), activation='relu', padding='same', \n",
        "                           kernel_regularizer=tf.keras.regularizers.l2(reg_lambda)),\n",
        "    tf.keras.layers.MaxPooling2D((2, 2)),\n",
        "    \n",
        "    tf.keras.layers.Flatten(),\n",
        "    tf.keras.layers.Dense(128, activation='relu'),\n",
        "    tf.keras.layers.Dropout(.2),\n",
        "    tf.keras.layers.Dense(OUTPUT_CLASSES),\n",
        "])"
      ],
      "id": "N-buMyr1hHKs",
      "execution_count": null,
      "outputs": []
    },
    {
      "cell_type": "code",
      "metadata": {
        "id": "dLm75GRwhHNv"
      },
      "source": [
        "cell_model_VGG_2.compile(optimizer='adam',\n",
        "              loss=tf.keras.losses.CategoricalCrossentropy(from_logits=True),\n",
        "              metrics=['categorical_accuracy'])"
      ],
      "id": "dLm75GRwhHNv",
      "execution_count": null,
      "outputs": []
    },
    {
      "cell_type": "code",
      "metadata": {
        "colab": {
          "base_uri": "https://localhost:8080/",
          "height": 388
        },
        "id": "J57dl4o_hHQd",
        "outputId": "76368632-ad61-4889-c1d3-472e68473e78"
      },
      "source": [
        "history_VGG_2 = cell_model_VGG_2.fit_generator(cell_train_generator, validation_data = cell_validation_generator, epochs=50, verbose=0)\n",
        "\n",
        "plot_learning_curve(history_VGG_2.history['loss'], history_VGG_2.history['val_loss'], \n",
        "                    history_VGG_2.history['categorical_accuracy'], history_VGG_2.history['val_categorical_accuracy'], \n",
        "                    metric_name='Accuracy')"
      ],
      "id": "J57dl4o_hHQd",
      "execution_count": null,
      "outputs": [
        {
          "output_type": "stream",
          "text": [
            "/usr/local/lib/python3.7/dist-packages/tensorflow/python/keras/engine/training.py:1940: UserWarning: `Model.fit_generator` is deprecated and will be removed in a future version. Please use `Model.fit`, which supports generators.\n",
            "  warnings.warn('`Model.fit_generator` is deprecated and '\n"
          ],
          "name": "stderr"
        },
        {
          "output_type": "display_data",
          "data": {
            "image/png": "[encoded data removed]",
            "text/plain": [
              "<Figure size 720x360 with 2 Axes>"
            ]
          },
          "metadata": {
            "tags": [],
            "needs_background": "light"
          }
        }
      ]
    },
    {
      "cell_type": "markdown",
      "metadata": {
        "id": "R4JvMVNujPLd"
      },
      "source": [
        "## Data Augmentation"
      ],
      "id": "R4JvMVNujPLd"
    },
    {
      "cell_type": "code",
      "metadata": {
        "colab": {
          "base_uri": "https://localhost:8080/"
        },
        "id": "CFopFSZihHTP",
        "outputId": "44cf60b3-13e3-40fc-edb6-b73ded897d97"
      },
      "source": [
        "\n",
        "train_data['cellType'] = train_data['cellType'].astype('str')\n",
        "val_data['cellType'] = val_data['cellType'].astype('str')\n",
        "from tensorflow.keras.preprocessing.image import ImageDataGenerator\n",
        "\n",
        "\n",
        "cell_train_datagen = ImageDataGenerator(rescale=1./255, data_format='channels_last')\n",
        "cell_val_datagen = ImageDataGenerator(rescale=1./255, data_format='channels_last')\n",
        "\n",
        "batch_size = 27\n",
        "\n",
        "cell_train_generator = cell_train_datagen.flow_from_dataframe(\n",
        "        dataframe=train_data,\n",
        "        directory='/content/patch_images',\n",
        "        x_col=\"ImageName\",\n",
        "        y_col=\"cellType\",\n",
        "        target_size=(27, 27),\n",
        "        batch_size=batch_size,\n",
        "        class_mode='categorical')\n",
        "\n",
        "cell_validation_generator = cell_val_datagen.flow_from_dataframe(\n",
        "        dataframe=val_data,\n",
        "        directory='/content/patch_images',\n",
        "        x_col=\"ImageName\",\n",
        "        y_col=\"cellType\",\n",
        "        target_size=(27, 27),\n",
        "        batch_size=batch_size,\n",
        "        class_mode='categorical')"
      ],
      "id": "CFopFSZihHTP",
      "execution_count": null,
      "outputs": [
        {
          "output_type": "stream",
          "text": [
            "Found 5937 validated image filenames belonging to 4 classes.\n",
            "Found 1979 validated image filenames belonging to 4 classes.\n"
          ],
          "name": "stdout"
        }
      ]
    },
    {
      "cell_type": "code",
      "metadata": {
        "id": "OB633YaUkANW"
      },
      "source": [
        "reg_lambda = 0.001\n",
        "\n",
        "cell_model_VGG_3 = tf.keras.Sequential([\n",
        "    #VGG block 1\n",
        "    tf.keras.layers.Conv2D(32, (3, 3), activation='relu', padding='same', \n",
        "                           kernel_regularizer=tf.keras.regularizers.l2(reg_lambda), input_shape=(27, 27, 3)),\n",
        "    tf.keras.layers.Conv2D(32, (3, 3), activation='relu', padding='same', \n",
        "                           kernel_regularizer=tf.keras.regularizers.l2(reg_lambda)),\n",
        "    tf.keras.layers.MaxPooling2D((2, 2)),\n",
        "    \n",
        "    #VGG block 2\n",
        "    tf.keras.layers.Conv2D(64, (3, 3), activation='relu', padding='same', \n",
        "                           kernel_regularizer=tf.keras.regularizers.l2(reg_lambda)),\n",
        "    tf.keras.layers.Conv2D(64, (3, 3), activation='relu', padding='same', \n",
        "                           kernel_regularizer=tf.keras.regularizers.l2(reg_lambda)),\n",
        "    tf.keras.layers.MaxPooling2D((2, 2)),\n",
        "    \n",
        "    #VGG block 3\n",
        "    tf.keras.layers.Conv2D(128, (3, 3), activation='relu', padding='same', \n",
        "                           kernel_regularizer=tf.keras.regularizers.l2(reg_lambda)),\n",
        "    tf.keras.layers.Conv2D(128, (3, 3), activation='relu', padding='same', \n",
        "                           kernel_regularizer=tf.keras.regularizers.l2(reg_lambda)),\n",
        "    tf.keras.layers.MaxPooling2D((2, 2)),\n",
        "    \n",
        "    \n",
        "    tf.keras.layers.Flatten(),\n",
        "    tf.keras.layers.Dense(128, activation='relu', kernel_regularizer=tf.keras.regularizers.l2(reg_lambda)),\n",
        "    tf.keras.layers.Dense(OUTPUT_CLASSES),\n",
        "])"
      ],
      "id": "OB633YaUkANW",
      "execution_count": null,
      "outputs": []
    },
    {
      "cell_type": "code",
      "metadata": {
        "id": "orejy6gnkAVG"
      },
      "source": [
        "cell_model_VGG_3.compile(optimizer='adam',\n",
        "              loss=tf.keras.losses.CategoricalCrossentropy(from_logits=True),\n",
        "              metrics=['categorical_accuracy'])"
      ],
      "id": "orejy6gnkAVG",
      "execution_count": null,
      "outputs": []
    },
    {
      "cell_type": "code",
      "metadata": {
        "colab": {
          "base_uri": "https://localhost:8080/",
          "height": 388
        },
        "id": "AZwhu48fkAYb",
        "outputId": "b925d825-e009-42b8-f49c-c85b83ffbe76"
      },
      "source": [
        "cell_history_VGG_3 = cell_model_VGG_3.fit_generator(cell_train_generator, validation_data = cell_validation_generator, epochs=100, verbose=0)\n",
        "\n",
        "plot_learning_curve(cell_history_VGG_3.history['loss'], cell_history_VGG_3.history['val_loss'], \n",
        "                    cell_history_VGG_3.history['categorical_accuracy'], cell_history_VGG_3.history['val_categorical_accuracy'], \n",
        "                    metric_name='Accuracy')"
      ],
      "id": "AZwhu48fkAYb",
      "execution_count": null,
      "outputs": [
        {
          "output_type": "stream",
          "text": [
            "/usr/local/lib/python3.7/dist-packages/tensorflow/python/keras/engine/training.py:1940: UserWarning: `Model.fit_generator` is deprecated and will be removed in a future version. Please use `Model.fit`, which supports generators.\n",
            "  warnings.warn('`Model.fit_generator` is deprecated and '\n"
          ],
          "name": "stderr"
        },
        {
          "output_type": "display_data",
          "data": {
            "image/png": "[encoded data removed]",
            "text/plain": [
              "<Figure size 720x360 with 2 Axes>"
            ]
          },
          "metadata": {
            "tags": [],
            "needs_background": "light"
          }
        }
      ]
    },
    {
      "cell_type": "code",
      "metadata": {
        "colab": {
          "base_uri": "https://localhost:8080/"
        },
        "id": "5xrFzZfV_33L",
        "outputId": "ee5a28d4-5685-48bb-cb6f-93334e62d172"
      },
      "source": [
        "cell_model_VGG_3.summary()\n",
        "    "
      ],
      "id": "5xrFzZfV_33L",
      "execution_count": null,
      "outputs": [
        {
          "output_type": "stream",
          "text": [
            "Model: \"sequential_9\"\n",
            "_________________________________________________________________\n",
            "Layer (type)                 Output Shape              Param #   \n",
            "=================================================================\n",
            "conv2d_36 (Conv2D)           (None, 27, 27, 32)        896       \n",
            "_________________________________________________________________\n",
            "conv2d_37 (Conv2D)           (None, 27, 27, 32)        9248      \n",
            "_________________________________________________________________\n",
            "max_pooling2d_18 (MaxPooling (None, 13, 13, 32)        0         \n",
            "_________________________________________________________________\n",
            "conv2d_38 (Conv2D)           (None, 13, 13, 64)        18496     \n",
            "_________________________________________________________________\n",
            "conv2d_39 (Conv2D)           (None, 13, 13, 64)        36928     \n",
            "_________________________________________________________________\n",
            "max_pooling2d_19 (MaxPooling (None, 6, 6, 64)          0         \n",
            "_________________________________________________________________\n",
            "conv2d_40 (Conv2D)           (None, 6, 6, 128)         73856     \n",
            "_________________________________________________________________\n",
            "conv2d_41 (Conv2D)           (None, 6, 6, 128)         147584    \n",
            "_________________________________________________________________\n",
            "max_pooling2d_20 (MaxPooling (None, 3, 3, 128)         0         \n",
            "_________________________________________________________________\n",
            "flatten_9 (Flatten)          (None, 1152)              0         \n",
            "_________________________________________________________________\n",
            "dense_18 (Dense)             (None, 128)               147584    \n",
            "_________________________________________________________________\n",
            "dense_19 (Dense)             (None, 4)                 516       \n",
            "=================================================================\n",
            "Total params: 435,108\n",
            "Trainable params: 435,108\n",
            "Non-trainable params: 0\n",
            "_________________________________________________________________\n"
          ],
          "name": "stdout"
        }
      ]
    },
    {
      "cell_type": "markdown",
      "metadata": {
        "id": "e2uP5TZinb3y"
      },
      "source": [
        "# Save the Model"
      ],
      "id": "e2uP5TZinb3y"
    },
    {
      "cell_type": "code",
      "metadata": {
        "colab": {
          "base_uri": "https://localhost:8080/"
        },
        "id": "j_4lduoGnfE9",
        "outputId": "99e9f14c-5ef8-4d9b-aadf-6814ab46bb37"
      },
      "source": [
        "cell_model_VGG_3.save(\"model_VGG_3\")"
      ],
      "id": "j_4lduoGnfE9",
      "execution_count": null,
      "outputs": [
        {
          "output_type": "stream",
          "text": [
            "INFO:tensorflow:Assets written to: model_VGG_3/assets\n"
          ],
          "name": "stdout"
        }
      ]
    },
    {
      "cell_type": "code",
      "metadata": {
        "colab": {
          "base_uri": "https://localhost:8080/"
        },
        "id": "DIVAfJDan8bn",
        "outputId": "c79aeaf4-f491-4e69-e6a1-79a64d5442ba"
      },
      "source": [
        "!cp -R ./cell_model_VGG_3 /content/drive/'My Drive'/CML-Assignment2/"
      ],
      "id": "DIVAfJDan8bn",
      "execution_count": null,
      "outputs": [
        {
          "output_type": "stream",
          "text": [
            "cp: cannot stat './cell_model_VGG_3': No such file or directory\n"
          ],
          "name": "stdout"
        }
      ]
    },
    {
      "cell_type": "markdown",
      "metadata": {
        "id": "6zPmXmKY8IfL"
      },
      "source": [
        "## Test Our model "
      ],
      "id": "6zPmXmKY8IfL"
    },
    {
      "cell_type": "code",
      "metadata": {
        "id": "Vtc89Fnf8I3f"
      },
      "source": [
        "test_data['cellType'] = test_data['cellType'].astype('str')\n",
        "\n",
        "cell_test_datagen = ImageDataGenerator(rescale=1./255, data_format='channels_last')\n",
        "\n",
        "batch_size = 1\n",
        "\n",
        "cell_test_generator = cell_test_datagen.flow_from_dataframe(\n",
        "        dataframe=test_data,\n",
        "        directory='/content/patch_images',\n",
        "        x_col=\"ImageName\",\n",
        "        y_col=\"cellType\",\n",
        "        target_size=(27, 27),\n",
        "        batch_size=batch_size,\n",
        "        class_mode='categorical')"
      ],
      "id": "Vtc89Fnf8I3f",
      "execution_count": null,
      "outputs": []
    },
    {
      "cell_type": "code",
      "metadata": {
        "id": "DGhUqoKe8hnw"
      },
      "source": [
        "cell_model.evaluate(cell_test_generator)"
      ],
      "id": "DGhUqoKe8hnw",
      "execution_count": null,
      "outputs": []
    },
    {
      "cell_type": "code",
      "metadata": {
        "id": "0_yiIMfb8hqp"
      },
      "source": [
        "label_names = {'fibroblast': 0, 'inflammatory':1, 'epithelial': 2, 'others':3}"
      ],
      "id": "0_yiIMfb8hqp",
      "execution_count": null,
      "outputs": []
    },
    {
      "cell_type": "code",
      "metadata": {
        "id": "g9SUacFT8htj"
      },
      "source": [
        "d_inv = {v: k for k, v in label_names.items()}\n",
        "plt.figure(figsize=(16,4))\n",
        "batches = 0\n",
        "for x,y in cell_test_generator:\n",
        "        batches = batches + 1\n",
        "        y_hat = cell_model.predict(x, verbose=0)\n",
        "        x = np.squeeze(x)\n",
        "        if batches < 5:\n",
        "            plt.subplot(1,5,batches)\n",
        "            plt.imshow(x)\n",
        "            plt.title(\"GT-{}, Pred-{}\".format(d_inv[np.argmax(y[0])], d_inv[np.argmax(y_hat[0])] ))\n",
        "            \n",
        "        else:\n",
        "            break\n",
        "        \n",
        "        plt.axis('off')"
      ],
      "id": "g9SUacFT8htj",
      "execution_count": null,
      "outputs": []
    },
    {
      "cell_type": "code",
      "metadata": {
        "id": "hiqHSkyS8vb7"
      },
      "source": [
        "cell_model.save(\"predict_celltype\")"
      ],
      "id": "hiqHSkyS8vb7",
      "execution_count": null,
      "outputs": []
    }
  ]
}