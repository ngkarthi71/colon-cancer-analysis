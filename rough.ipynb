{
  "nbformat": 4,
  "nbformat_minor": 5,
  "metadata": {
    "kernelspec": {
      "display_name": "Python 3",
      "language": "python",
      "name": "python3"
    },
    "language_info": {
      "codemirror_mode": {
        "name": "ipython",
        "version": 3
      },
      "file_extension": ".py",
      "mimetype": "text/x-python",
      "name": "python",
      "nbconvert_exporter": "python",
      "pygments_lexer": "ipython3",
      "version": "3.6.13"
    },
    "colab": {
      "name": "rough.ipynb",
      "provenance": [],
      "toc_visible": true,
      "include_colab_link": true
    },
    "accelerator": "GPU"
  },
  "cells": [
    {
      "cell_type": "markdown",
      "metadata": {
        "id": "view-in-github",
        "colab_type": "text"
      },
      "source": [
        "<a href=\"https://colab.research.google.com/github/ngkarthi71/colon-cancer-analysis/blob/first-part/rough.ipynb\" target=\"_parent\"><img src=\"https://colab.research.google.com/assets/colab-badge.svg\" alt=\"Open In Colab\"/></a>"
      ]
    },
    {
      "cell_type": "markdown",
      "metadata": {
        "id": "6897c6bf"
      },
      "source": [
        "# Reading the given Data Set"
      ],
      "id": "6897c6bf"
    },
    {
      "cell_type": "code",
      "metadata": {
        "colab": {
          "base_uri": "https://localhost:8080/"
        },
        "id": "A0Uv1RBNbStG",
        "outputId": "090cfabc-eceb-4b69-df73-3ff29c0229bb"
      },
      "source": [
        "from google.colab import drive\n",
        "drive.mount('/content/drive')"
      ],
      "id": "A0Uv1RBNbStG",
      "execution_count": 2,
      "outputs": [
        {
          "output_type": "stream",
          "text": [
            "Mounted at /content/drive\n"
          ],
          "name": "stdout"
        }
      ]
    },
    {
      "cell_type": "code",
      "metadata": {
        "colab": {
          "base_uri": "https://localhost:8080/"
        },
        "id": "Q_JqEdZ6bo17",
        "outputId": "985a89ff-84c2-448b-9faa-ad06f4aa7a47"
      },
      "source": [
        "!ls /content/drive/'My Drive'/CML-Assignment2/"
      ],
      "id": "Q_JqEdZ6bo17",
      "execution_count": 3,
      "outputs": [
        {
          "output_type": "stream",
          "text": [
            "Image_classification_data.zip  model_VGG_3  rough.ipynb  Untitled0.ipynb\n"
          ],
          "name": "stdout"
        }
      ]
    },
    {
      "cell_type": "code",
      "metadata": {
        "colab": {
          "base_uri": "https://localhost:8080/"
        },
        "id": "hu4Z8u7ba2ev",
        "outputId": "99ebf85e-ff83-4f38-94a4-eb6271799838"
      },
      "source": [
        "!cp /content/drive/'My Drive'/CML-Assignment2/Image_classification_data.zip .\n",
        "!unzip -q -o Image_classification_data.zip\n",
        "!rm Image_classification_data.zip\n",
        "!ls"
      ],
      "id": "hu4Z8u7ba2ev",
      "execution_count": 4,
      "outputs": [
        {
          "output_type": "stream",
          "text": [
            "data_labels_extraData.csv  drive     patch_images\n",
            "data_labels_mainData.csv   __MACOSX  sample_data\n"
          ],
          "name": "stdout"
        }
      ]
    },
    {
      "cell_type": "code",
      "metadata": {
        "id": "63489e7f"
      },
      "source": [
        "import numpy as np\n",
        "\n",
        "import pandas as pd\n",
        "import matplotlib.pyplot as plt\n",
        "\n"
      ],
      "id": "63489e7f",
      "execution_count": 5,
      "outputs": []
    },
    {
      "cell_type": "code",
      "metadata": {
        "id": "6822f05f"
      },
      "source": [
        "cancer=pd.read_csv('data_labels_mainData.csv')"
      ],
      "id": "6822f05f",
      "execution_count": 6,
      "outputs": []
    },
    {
      "cell_type": "code",
      "metadata": {
        "colab": {
          "base_uri": "https://localhost:8080/",
          "height": 204
        },
        "id": "1956ae4e",
        "outputId": "f6c0d914-0d8e-408e-f6a0-2072fe7cd683"
      },
      "source": [
        "cancer.head(5)"
      ],
      "id": "1956ae4e",
      "execution_count": 7,
      "outputs": [
        {
          "output_type": "execute_result",
          "data": {
            "text/html": [
              "<div>\n",
              "<style scoped>\n",
              "    .dataframe tbody tr th:only-of-type {\n",
              "        vertical-align: middle;\n",
              "    }\n",
              "\n",
              "    .dataframe tbody tr th {\n",
              "        vertical-align: top;\n",
              "    }\n",
              "\n",
              "    .dataframe thead th {\n",
              "        text-align: right;\n",
              "    }\n",
              "</style>\n",
              "<table border=\"1\" class=\"dataframe\">\n",
              "  <thead>\n",
              "    <tr style=\"text-align: right;\">\n",
              "      <th></th>\n",
              "      <th>InstanceID</th>\n",
              "      <th>patientID</th>\n",
              "      <th>ImageName</th>\n",
              "      <th>cellTypeName</th>\n",
              "      <th>cellType</th>\n",
              "      <th>isCancerous</th>\n",
              "    </tr>\n",
              "  </thead>\n",
              "  <tbody>\n",
              "    <tr>\n",
              "      <th>0</th>\n",
              "      <td>22405</td>\n",
              "      <td>1</td>\n",
              "      <td>22405.png</td>\n",
              "      <td>fibroblast</td>\n",
              "      <td>0</td>\n",
              "      <td>0</td>\n",
              "    </tr>\n",
              "    <tr>\n",
              "      <th>1</th>\n",
              "      <td>22406</td>\n",
              "      <td>1</td>\n",
              "      <td>22406.png</td>\n",
              "      <td>fibroblast</td>\n",
              "      <td>0</td>\n",
              "      <td>0</td>\n",
              "    </tr>\n",
              "    <tr>\n",
              "      <th>2</th>\n",
              "      <td>22407</td>\n",
              "      <td>1</td>\n",
              "      <td>22407.png</td>\n",
              "      <td>fibroblast</td>\n",
              "      <td>0</td>\n",
              "      <td>0</td>\n",
              "    </tr>\n",
              "    <tr>\n",
              "      <th>3</th>\n",
              "      <td>22408</td>\n",
              "      <td>1</td>\n",
              "      <td>22408.png</td>\n",
              "      <td>fibroblast</td>\n",
              "      <td>0</td>\n",
              "      <td>0</td>\n",
              "    </tr>\n",
              "    <tr>\n",
              "      <th>4</th>\n",
              "      <td>22409</td>\n",
              "      <td>1</td>\n",
              "      <td>22409.png</td>\n",
              "      <td>fibroblast</td>\n",
              "      <td>0</td>\n",
              "      <td>0</td>\n",
              "    </tr>\n",
              "  </tbody>\n",
              "</table>\n",
              "</div>"
            ],
            "text/plain": [
              "   InstanceID  patientID  ImageName cellTypeName  cellType  isCancerous\n",
              "0       22405          1  22405.png   fibroblast         0            0\n",
              "1       22406          1  22406.png   fibroblast         0            0\n",
              "2       22407          1  22407.png   fibroblast         0            0\n",
              "3       22408          1  22408.png   fibroblast         0            0\n",
              "4       22409          1  22409.png   fibroblast         0            0"
            ]
          },
          "metadata": {
            "tags": []
          },
          "execution_count": 7
        }
      ]
    },
    {
      "cell_type": "markdown",
      "metadata": {
        "id": "17aa4ece"
      },
      "source": [
        "### Randomly split the given data set"
      ],
      "id": "17aa4ece"
    },
    {
      "cell_type": "code",
      "metadata": {
        "id": "a6b65173"
      },
      "source": [
        "from sklearn.model_selection import train_test_split"
      ],
      "id": "a6b65173",
      "execution_count": 8,
      "outputs": []
    },
    {
      "cell_type": "code",
      "metadata": {
        "colab": {
          "base_uri": "https://localhost:8080/"
        },
        "id": "1593aa5b",
        "outputId": "6bd78a55-bba8-4b19-c4e2-af164c475dfa"
      },
      "source": [
        "train_data, test_data = train_test_split(cancer, test_size=0.2, random_state=42)\n",
        "train_data, val_data = train_test_split(train_data, test_size=0.25, random_state=42)\n",
        "\n",
        "print(\"Train data : {}, Val Data: {}, Test Data: {}\".format(train_data.shape[0], val_data.shape[0], test_data.shape[0]))"
      ],
      "id": "1593aa5b",
      "execution_count": 9,
      "outputs": [
        {
          "output_type": "stream",
          "text": [
            "Train data : 5937, Val Data: 1979, Test Data: 1980\n"
          ],
          "name": "stdout"
        }
      ]
    },
    {
      "cell_type": "markdown",
      "metadata": {
        "id": "18259807"
      },
      "source": [
        "# Model development"
      ],
      "id": "18259807"
    },
    {
      "cell_type": "code",
      "metadata": {
        "id": "76d8f66d"
      },
      "source": [
        "import matplotlib.pyplot as plt\n",
        "def plot_learning_curve(train_loss, val_loss, train_metric, val_metric, metric_name='Accuracy'):\n",
        "    plt.figure(figsize=(10,5))\n",
        "    \n",
        "    plt.subplot(1,2,1)\n",
        "    plt.plot(train_loss, 'r--')\n",
        "    plt.plot(val_loss, 'b--')\n",
        "    plt.xlabel(\"epochs\")\n",
        "    plt.ylabel(\"Loss\")\n",
        "    plt.legend(['train', 'val'], loc='upper left')\n",
        "\n",
        "    plt.subplot(1,2,2)\n",
        "    plt.plot(train_metric, 'r--')\n",
        "    plt.plot(val_metric, 'b--')\n",
        "    plt.xlabel(\"epochs\")\n",
        "    plt.ylabel(metric_name)\n",
        "    plt.legend(['train', 'val'], loc='upper left')\n",
        "\n",
        "    plt.show()"
      ],
      "id": "76d8f66d",
      "execution_count": 10,
      "outputs": []
    },
    {
      "cell_type": "code",
      "metadata": {
        "id": "5048ead5"
      },
      "source": [
        "INPUT_DIM = (27,27,3)\n",
        "HIDDEN_LAYER_DIM = 256\n",
        "OUTPUT_CLASSES = 2"
      ],
      "id": "5048ead5",
      "execution_count": 11,
      "outputs": []
    },
    {
      "cell_type": "code",
      "metadata": {
        "colab": {
          "base_uri": "https://localhost:8080/",
          "height": 35
        },
        "id": "cbef3cf6",
        "outputId": "514d7ce3-f69e-4bc8-db9e-fa8dab47d450"
      },
      "source": [
        "import tensorflow as tf\n",
        "AUTOTUNE = tf.data.experimental.AUTOTUNE\n",
        "\n",
        "tf.__version__"
      ],
      "id": "cbef3cf6",
      "execution_count": 12,
      "outputs": [
        {
          "output_type": "execute_result",
          "data": {
            "application/vnd.google.colaboratory.intrinsic+json": {
              "type": "string"
            },
            "text/plain": [
              "'2.5.0'"
            ]
          },
          "metadata": {
            "tags": []
          },
          "execution_count": 12
        }
      ]
    },
    {
      "cell_type": "code",
      "metadata": {
        "id": "51c7076d"
      },
      "source": [
        "\n",
        "\n",
        "model = tf.keras.Sequential([\n",
        "    tf.keras.layers.Flatten(input_shape=INPUT_DIM),\n",
        "    tf.keras.layers.Dense(HIDDEN_LAYER_DIM, activation='sigmoid'),\n",
        "    tf.keras.layers.Dense(OUTPUT_CLASSES)\n",
        "])"
      ],
      "id": "51c7076d",
      "execution_count": 13,
      "outputs": []
    },
    {
      "cell_type": "code",
      "metadata": {
        "colab": {
          "base_uri": "https://localhost:8080/"
        },
        "id": "6983caa8",
        "outputId": "08821f55-3f01-406e-f3c2-d347cde5f203"
      },
      "source": [
        "model.summary()"
      ],
      "id": "6983caa8",
      "execution_count": 14,
      "outputs": [
        {
          "output_type": "stream",
          "text": [
            "Model: \"sequential\"\n",
            "_________________________________________________________________\n",
            "Layer (type)                 Output Shape              Param #   \n",
            "=================================================================\n",
            "flatten (Flatten)            (None, 2187)              0         \n",
            "_________________________________________________________________\n",
            "dense (Dense)                (None, 256)               560128    \n",
            "_________________________________________________________________\n",
            "dense_1 (Dense)              (None, 2)                 514       \n",
            "=================================================================\n",
            "Total params: 560,642\n",
            "Trainable params: 560,642\n",
            "Non-trainable params: 0\n",
            "_________________________________________________________________\n"
          ],
          "name": "stdout"
        }
      ]
    },
    {
      "cell_type": "code",
      "metadata": {
        "colab": {
          "base_uri": "https://localhost:8080/",
          "height": 422
        },
        "id": "4d9Sr56HyyDn",
        "outputId": "38da7214-c786-4fba-dabb-d7e196e6f1d5"
      },
      "source": [
        "tf.keras.utils.plot_model(model, show_shapes=True)"
      ],
      "id": "4d9Sr56HyyDn",
      "execution_count": 15,
      "outputs": [
        {
          "output_type": "execute_result",
          "data": {
            "image/png": "[encoded data removed]",
            "text/plain": [
              "<IPython.core.display.Image object>"
            ]
          },
          "metadata": {
            "tags": []
          },
          "execution_count": 15
        }
      ]
    },
    {
      "cell_type": "markdown",
      "metadata": {
        "id": "rhGtZheRMJbH"
      },
      "source": [
        "# TASK 1"
      ],
      "id": "rhGtZheRMJbH"
    },
    {
      "cell_type": "code",
      "metadata": {
        "colab": {
          "base_uri": "https://localhost:8080/"
        },
        "id": "6a86ae88",
        "outputId": "7961a5b8-161c-417c-d9c0-c09594d2aaeb"
      },
      "source": [
        "train_data['isCancerous'] = train_data['isCancerous'].astype('str')\n",
        "val_data['isCancerous'] = val_data['isCancerous'].astype('str')\n",
        "\n",
        "from tensorflow.keras.preprocessing.image import ImageDataGenerator\n",
        "\n",
        "train_datagen = ImageDataGenerator(rescale=1./255, data_format='channels_last')\n",
        "val_datagen = ImageDataGenerator(rescale=1./255, data_format='channels_last')\n",
        "\n",
        "batch_size = 32\n",
        "\n",
        "train_generator = train_datagen.flow_from_dataframe(\n",
        "        dataframe=train_data,\n",
        "        directory='/content/patch_images',\n",
        "        x_col=\"ImageName\",\n",
        "        y_col=\"isCancerous\",\n",
        "        target_size=(27, 27),\n",
        "        batch_size=batch_size,\n",
        "        class_mode='categorical')\n",
        "\n",
        "validation_generator = val_datagen.flow_from_dataframe(\n",
        "        dataframe=val_data,\n",
        "        directory='/content/patch_images',\n",
        "        x_col=\"ImageName\",\n",
        "        y_col=\"isCancerous\",\n",
        "        target_size=(27,27),\n",
        "        batch_size=batch_size,\n",
        "        class_mode='categorical')"
      ],
      "id": "6a86ae88",
      "execution_count": 16,
      "outputs": [
        {
          "output_type": "stream",
          "text": [
            "Found 5937 validated image filenames belonging to 2 classes.\n",
            "Found 1979 validated image filenames belonging to 2 classes.\n"
          ],
          "name": "stdout"
        }
      ]
    },
    {
      "cell_type": "code",
      "metadata": {
        "id": "b2bcac40"
      },
      "source": [
        "# Model Development"
      ],
      "id": "b2bcac40",
      "execution_count": 17,
      "outputs": []
    },
    {
      "cell_type": "code",
      "metadata": {
        "id": "6c08ffce-42ae-47b4-8971-3b76081cd231"
      },
      "source": [
        "## Default Baseline Model:"
      ],
      "id": "6c08ffce-42ae-47b4-8971-3b76081cd231",
      "execution_count": 18,
      "outputs": []
    },
    {
      "cell_type": "code",
      "metadata": {
        "id": "fa0b6dc8-6584-4e50-943c-ba24157e39c2"
      },
      "source": [
        "#import tensorflow as tf\n",
        "\n",
        "model_VGG_1 = tf.keras.Sequential([\n",
        "    #VGG block 1\n",
        "    tf.keras.layers.Conv2D(32, (3, 3), activation='relu', padding='same', input_shape=(27, 27, 3)),\n",
        "    tf.keras.layers.Conv2D(32, (3, 3), activation='relu', padding='same'),\n",
        "    tf.keras.layers.MaxPooling2D((2, 2)),\n",
        "    \n",
        "    #VGG block 2\n",
        "    tf.keras.layers.Conv2D(64, (3, 3), activation='relu', padding='same'),\n",
        "    tf.keras.layers.Conv2D(64, (3, 3), activation='relu', padding='same'),\n",
        "    tf.keras.layers.MaxPooling2D((2, 2)),\n",
        "    \n",
        "    #VGG block 3\n",
        "    tf.keras.layers.Conv2D(128, (3, 3), activation='relu', padding='same'),\n",
        "    tf.keras.layers.Conv2D(128, (3, 3), activation='relu', padding='same'),\n",
        "    tf.keras.layers.MaxPooling2D((2, 2)),\n",
        "    \n",
        "    tf.keras.layers.Flatten(),\n",
        "    tf.keras.layers.Dense(128, activation='relu'),\n",
        "    tf.keras.layers.Dense(OUTPUT_CLASSES),\n",
        "])"
      ],
      "id": "fa0b6dc8-6584-4e50-943c-ba24157e39c2",
      "execution_count": 19,
      "outputs": []
    },
    {
      "cell_type": "code",
      "metadata": {
        "id": "877bdaa6-2595-4cf9-a0e8-b75644a07845"
      },
      "source": [
        "model_VGG_1.compile(optimizer='adam',\n",
        "              loss=tf.keras.losses.CategoricalCrossentropy(from_logits=True),\n",
        "              metrics=['categorical_accuracy'])"
      ],
      "id": "877bdaa6-2595-4cf9-a0e8-b75644a07845",
      "execution_count": 20,
      "outputs": []
    },
    {
      "cell_type": "code",
      "metadata": {
        "colab": {
          "base_uri": "https://localhost:8080/"
        },
        "id": "777a94bc-7db6-4937-adb0-d96c6ce2a5a0",
        "outputId": "c5a6146e-7105-4510-d3b8-9f197cfe7626"
      },
      "source": [
        "history_VGG_1 = model_VGG_1.fit_generator(train_generator, validation_data = validation_generator, epochs=25,verbose=0)"
      ],
      "id": "777a94bc-7db6-4937-adb0-d96c6ce2a5a0",
      "execution_count": 21,
      "outputs": [
        {
          "output_type": "stream",
          "text": [
            "/usr/local/lib/python3.7/dist-packages/tensorflow/python/keras/engine/training.py:1940: UserWarning: `Model.fit_generator` is deprecated and will be removed in a future version. Please use `Model.fit`, which supports generators.\n",
            "  warnings.warn('`Model.fit_generator` is deprecated and '\n"
          ],
          "name": "stderr"
        }
      ]
    },
    {
      "cell_type": "code",
      "metadata": {
        "colab": {
          "base_uri": "https://localhost:8080/",
          "height": 334
        },
        "id": "2dfc9ea1-a336-47cf-8fe7-4c6b970586b3",
        "outputId": "6d44fdb0-abdc-4863-f54b-aff6cc95f194"
      },
      "source": [
        "plot_learning_curve(history_VGG_1.history['loss'], history_VGG_1.history['val_loss'], \n",
        "                    history_VGG_1.history['categorical_accuracy'], history_VGG_1.history['val_categorical_accuracy'], \n",
        "                    metric_name='Accuracy')"
      ],
      "id": "2dfc9ea1-a336-47cf-8fe7-4c6b970586b3",
      "execution_count": 22,
      "outputs": [
        {
          "output_type": "display_data",
          "data": {
            "image/png": "[encoded data removed]",
            "text/plain": [
              "<Figure size 720x360 with 2 Axes>"
            ]
          },
          "metadata": {
            "tags": [],
            "needs_background": "light"
          }
        }
      ]
    },
    {
      "cell_type": "markdown",
      "metadata": {
        "id": "bb01c593-7e5c-45c7-83a5-4478b1191e1f"
      },
      "source": [
        "# Overfitting"
      ],
      "id": "bb01c593-7e5c-45c7-83a5-4478b1191e1f"
    },
    {
      "cell_type": "markdown",
      "metadata": {
        "id": "e19c8488-6318-4faf-9e85-eb24a40e5f2a"
      },
      "source": [
        "## Apply Regularisation"
      ],
      "id": "e19c8488-6318-4faf-9e85-eb24a40e5f2a"
    },
    {
      "cell_type": "code",
      "metadata": {
        "id": "a63ced98-463d-4fd7-9be7-ef70d19fda26"
      },
      "source": [
        "reg_lambda = 0.001\n",
        "\n",
        "model_VGG_2 = tf.keras.Sequential([\n",
        "    #VGG block 1\n",
        "    tf.keras.layers.Conv2D(32, (3, 3), activation='relu', padding='same', \n",
        "                           kernel_regularizer=tf.keras.regularizers.l2(reg_lambda), input_shape=(27, 27, 3)),\n",
        "    tf.keras.layers.Conv2D(32, (3, 3), activation='relu', padding='same', \n",
        "                           kernel_regularizer=tf.keras.regularizers.l2(reg_lambda)),\n",
        "    tf.keras.layers.MaxPooling2D((2, 2)),\n",
        "    \n",
        "    #VGG block 2\n",
        "    tf.keras.layers.Conv2D(64, (3, 3), activation='relu', padding='same', \n",
        "                           kernel_regularizer=tf.keras.regularizers.l2(reg_lambda)),\n",
        "    tf.keras.layers.Conv2D(64, (3, 3), activation='relu', padding='same', \n",
        "                           kernel_regularizer=tf.keras.regularizers.l2(reg_lambda)),\n",
        "    tf.keras.layers.MaxPooling2D((2, 2)),\n",
        "    \n",
        "    #VGG block 3\n",
        "    tf.keras.layers.Conv2D(128, (3, 3), activation='relu', padding='same', \n",
        "                           kernel_regularizer=tf.keras.regularizers.l2(reg_lambda)),\n",
        "    tf.keras.layers.Conv2D(128, (3, 3), activation='relu', padding='same', \n",
        "                           kernel_regularizer=tf.keras.regularizers.l2(reg_lambda)),\n",
        "    tf.keras.layers.MaxPooling2D((2, 2)),\n",
        "    \n",
        "    tf.keras.layers.Flatten(),\n",
        "    tf.keras.layers.Dense(128, activation='relu'),\n",
        "    tf.keras.layers.Dropout(.2),\n",
        "    tf.keras.layers.Dense(OUTPUT_CLASSES),\n",
        "])"
      ],
      "id": "a63ced98-463d-4fd7-9be7-ef70d19fda26",
      "execution_count": 23,
      "outputs": []
    },
    {
      "cell_type": "code",
      "metadata": {
        "id": "660ffebd-e114-4a54-a313-6bc9bed0a9b1"
      },
      "source": [
        "model_VGG_2.compile(optimizer='adam',\n",
        "              loss=tf.keras.losses.CategoricalCrossentropy(from_logits=True),\n",
        "              metrics=['categorical_accuracy'])"
      ],
      "id": "660ffebd-e114-4a54-a313-6bc9bed0a9b1",
      "execution_count": 24,
      "outputs": []
    },
    {
      "cell_type": "code",
      "metadata": {
        "colab": {
          "base_uri": "https://localhost:8080/",
          "height": 388
        },
        "id": "ca7fe6e2-5c4e-4b68-a0d7-f4c26eca9c30",
        "outputId": "efbf3b38-fa10-4fde-d0b3-2010439a6b88"
      },
      "source": [
        "history_VGG_2 = model_VGG_2.fit_generator(train_generator, validation_data = validation_generator, epochs=100, verbose=0)\n",
        "\n",
        "plot_learning_curve(history_VGG_2.history['loss'], history_VGG_2.history['val_loss'], \n",
        "                    history_VGG_2.history['categorical_accuracy'], history_VGG_2.history['val_categorical_accuracy'], \n",
        "                    metric_name='Accuracy')"
      ],
      "id": "ca7fe6e2-5c4e-4b68-a0d7-f4c26eca9c30",
      "execution_count": 25,
      "outputs": [
        {
          "output_type": "stream",
          "text": [
            "/usr/local/lib/python3.7/dist-packages/tensorflow/python/keras/engine/training.py:1940: UserWarning: `Model.fit_generator` is deprecated and will be removed in a future version. Please use `Model.fit`, which supports generators.\n",
            "  warnings.warn('`Model.fit_generator` is deprecated and '\n"
          ],
          "name": "stderr"
        },
        {
          "output_type": "display_data",
          "data": {
            "image/png": "[encoded data removed]",
            "text/plain": [
              "<Figure size 720x360 with 2 Axes>"
            ]
          },
          "metadata": {
            "tags": [],
            "needs_background": "light"
          }
        }
      ]
    },
    {
      "cell_type": "markdown",
      "metadata": {
        "id": "2f94386e-7738-4240-9b8e-fa866e9dacee"
      },
      "source": [
        "### Data Augmentation"
      ],
      "id": "2f94386e-7738-4240-9b8e-fa866e9dacee"
    },
    {
      "cell_type": "code",
      "metadata": {
        "colab": {
          "base_uri": "https://localhost:8080/"
        },
        "id": "17aa48f7-b3d0-475c-af95-0c082ab2a76b",
        "outputId": "8f5c17a7-611e-47b6-bdc4-de9deef532ec"
      },
      "source": [
        "\n",
        "train_data['isCancerous'] = train_data['isCancerous'].astype('str')\n",
        "val_data['isCancerous'] = val_data['isCancerous'].astype('str')\n",
        "from tensorflow.keras.preprocessing.image import ImageDataGenerator\n",
        "\n",
        "train_datagen = ImageDataGenerator(rescale=1./255, data_format='channels_last',\n",
        "                                   rotation_range=15, width_shift_range=0.2,\n",
        "                                   height_shift_range=0.2, brightness_range=[0.5,1.5])\n",
        "val_datagen = ImageDataGenerator(rescale=1./255, data_format='channels_last')\n",
        "\n",
        "batch_size = 32\n",
        "\n",
        "train_generator = train_datagen.flow_from_dataframe(\n",
        "        dataframe=train_data,\n",
        "        directory='/content/patch_images',\n",
        "        x_col=\"ImageName\",\n",
        "        y_col=\"isCancerous\",\n",
        "        target_size=(27, 27),\n",
        "        batch_size=batch_size,\n",
        "        class_mode='categorical')\n",
        "\n",
        "validation_generator = val_datagen.flow_from_dataframe(\n",
        "        dataframe=val_data,\n",
        "        directory='/content/patch_images',\n",
        "        x_col=\"ImageName\",\n",
        "        y_col=\"isCancerous\",\n",
        "        target_size=(27, 27),\n",
        "        batch_size=batch_size,\n",
        "        class_mode='categorical')"
      ],
      "id": "17aa48f7-b3d0-475c-af95-0c082ab2a76b",
      "execution_count": 26,
      "outputs": [
        {
          "output_type": "stream",
          "text": [
            "Found 5937 validated image filenames belonging to 2 classes.\n",
            "Found 1979 validated image filenames belonging to 2 classes.\n"
          ],
          "name": "stdout"
        }
      ]
    },
    {
      "cell_type": "code",
      "metadata": {
        "id": "af0a8d9e-1fe6-4e43-81a6-7aeeb34d3a58"
      },
      "source": [
        "reg_lambda = 0.001\n",
        "\n",
        "model_VGG_3 = tf.keras.Sequential([\n",
        "    #VGG block 1\n",
        "    tf.keras.layers.Conv2D(32, (3, 3), activation='relu', padding='same', \n",
        "                           kernel_regularizer=tf.keras.regularizers.l2(reg_lambda), input_shape=(27, 27, 3)),\n",
        "    tf.keras.layers.Conv2D(32, (3, 3), activation='relu', padding='same', \n",
        "                           kernel_regularizer=tf.keras.regularizers.l2(reg_lambda)),\n",
        "    tf.keras.layers.MaxPooling2D((2, 2)),\n",
        "    \n",
        "    #VGG block 2\n",
        "    tf.keras.layers.Conv2D(64, (3, 3), activation='relu', padding='same', \n",
        "                           kernel_regularizer=tf.keras.regularizers.l2(reg_lambda)),\n",
        "    tf.keras.layers.Conv2D(64, (3, 3), activation='relu', padding='same', \n",
        "                           kernel_regularizer=tf.keras.regularizers.l2(reg_lambda)),\n",
        "    tf.keras.layers.MaxPooling2D((2, 2)),\n",
        "    \n",
        "    #VGG block 3\n",
        "    tf.keras.layers.Conv2D(128, (3, 3), activation='relu', padding='same', \n",
        "                           kernel_regularizer=tf.keras.regularizers.l2(reg_lambda)),\n",
        "    tf.keras.layers.Conv2D(128, (3, 3), activation='relu', padding='same', \n",
        "                           kernel_regularizer=tf.keras.regularizers.l2(reg_lambda)),\n",
        "    tf.keras.layers.MaxPooling2D((2, 2)),\n",
        "    \n",
        "    \n",
        "    tf.keras.layers.Flatten(),\n",
        "    tf.keras.layers.Dense(128, activation='relu', kernel_regularizer=tf.keras.regularizers.l2(reg_lambda)),\n",
        "    tf.keras.layers.Dense(OUTPUT_CLASSES),\n",
        "])"
      ],
      "id": "af0a8d9e-1fe6-4e43-81a6-7aeeb34d3a58",
      "execution_count": 27,
      "outputs": []
    },
    {
      "cell_type": "code",
      "metadata": {
        "id": "91588fa8-31cf-4348-8f4f-1f7d755de7d0"
      },
      "source": [
        "model_VGG_3.compile(optimizer='adam',\n",
        "              loss=tf.keras.losses.CategoricalCrossentropy(from_logits=True),\n",
        "              metrics=['categorical_accuracy'])"
      ],
      "id": "91588fa8-31cf-4348-8f4f-1f7d755de7d0",
      "execution_count": 28,
      "outputs": []
    },
    {
      "cell_type": "code",
      "metadata": {
        "colab": {
          "base_uri": "https://localhost:8080/",
          "height": 388
        },
        "id": "6eedac50-cbed-4bc8-871f-03333ab69b89",
        "outputId": "4e787aa3-ae58-491e-9d39-13132b6f8232"
      },
      "source": [
        "history_VGG_3 = model_VGG_3.fit_generator(train_generator, validation_data = validation_generator, epochs=100, verbose=0)\n",
        "\n",
        "plot_learning_curve(history_VGG_3.history['loss'], history_VGG_3.history['val_loss'], \n",
        "                    history_VGG_3.history['categorical_accuracy'], history_VGG_3.history['val_categorical_accuracy'], \n",
        "                    metric_name='Accuracy')"
      ],
      "id": "6eedac50-cbed-4bc8-871f-03333ab69b89",
      "execution_count": 29,
      "outputs": [
        {
          "output_type": "stream",
          "text": [
            "/usr/local/lib/python3.7/dist-packages/tensorflow/python/keras/engine/training.py:1940: UserWarning: `Model.fit_generator` is deprecated and will be removed in a future version. Please use `Model.fit`, which supports generators.\n",
            "  warnings.warn('`Model.fit_generator` is deprecated and '\n"
          ],
          "name": "stderr"
        },
        {
          "output_type": "display_data",
          "data": {
            "image/png": "[encoded data removed]",
            "text/plain": [
              "<Figure size 720x360 with 2 Axes>"
            ]
          },
          "metadata": {
            "tags": [],
            "needs_background": "light"
          }
        }
      ]
    },
    {
      "cell_type": "code",
      "metadata": {
        "id": "6tPIJoeGzHDr"
      },
      "source": [
        ""
      ],
      "id": "6tPIJoeGzHDr",
      "execution_count": 29,
      "outputs": []
    },
    {
      "cell_type": "markdown",
      "metadata": {
        "id": "TecsWSj-zH21"
      },
      "source": [
        "### Save the Model\n",
        "\n"
      ],
      "id": "TecsWSj-zH21"
    },
    {
      "cell_type": "code",
      "metadata": {
        "colab": {
          "base_uri": "https://localhost:8080/"
        },
        "id": "9854ecc6-8b7a-4cdb-955b-276cb44adc0b",
        "outputId": "563822ed-b16b-4476-bce0-9fca41caabe1"
      },
      "source": [
        "model_VGG_3.save(\"model_VGG_3\")"
      ],
      "id": "9854ecc6-8b7a-4cdb-955b-276cb44adc0b",
      "execution_count": 30,
      "outputs": [
        {
          "output_type": "stream",
          "text": [
            "INFO:tensorflow:Assets written to: model_VGG_3/assets\n"
          ],
          "name": "stdout"
        }
      ]
    },
    {
      "cell_type": "code",
      "metadata": {
        "id": "2d46ded3-c190-43b6-ac44-249c75b37bd0"
      },
      "source": [
        "!cp -R ./model_VGG_3 /content/drive/'My Drive'/CML-Assignment2/"
      ],
      "id": "2d46ded3-c190-43b6-ac44-249c75b37bd0",
      "execution_count": 31,
      "outputs": []
    },
    {
      "cell_type": "code",
      "metadata": {
        "id": "5v75QklhLGY2"
      },
      "source": [
        ""
      ],
      "id": "5v75QklhLGY2",
      "execution_count": null,
      "outputs": []
    },
    {
      "cell_type": "markdown",
      "metadata": {
        "id": "k2PK_iAaLHsA"
      },
      "source": [
        "## Testing the Model we have created finally"
      ],
      "id": "k2PK_iAaLHsA"
    },
    {
      "cell_type": "code",
      "metadata": {
        "colab": {
          "base_uri": "https://localhost:8080/"
        },
        "id": "58190491-30b3-48ea-a162-00c606ff2cdc",
        "outputId": "09107f9f-b8b8-411d-d55e-018decf1449d"
      },
      "source": [
        "test_data['isCancerous'] = test_data['isCancerous'].astype('str')\n",
        "\n",
        "test_datagen = ImageDataGenerator(rescale=1./255, data_format='channels_last')\n",
        "\n",
        "batch_size = 1\n",
        "\n",
        "test_generator = test_datagen.flow_from_dataframe(\n",
        "        dataframe=test_data,\n",
        "        directory='/content/patch_images',\n",
        "        x_col=\"ImageName\",\n",
        "        y_col=\"isCancerous\",\n",
        "        target_size=(27, 27),\n",
        "        batch_size=batch_size,\n",
        "        class_mode='categorical')"
      ],
      "id": "58190491-30b3-48ea-a162-00c606ff2cdc",
      "execution_count": 32,
      "outputs": [
        {
          "output_type": "stream",
          "text": [
            "Found 1980 validated image filenames belonging to 2 classes.\n"
          ],
          "name": "stdout"
        },
        {
          "output_type": "stream",
          "text": [
            "/usr/local/lib/python3.7/dist-packages/ipykernel_launcher.py:1: SettingWithCopyWarning: \n",
            "A value is trying to be set on a copy of a slice from a DataFrame.\n",
            "Try using .loc[row_indexer,col_indexer] = value instead\n",
            "\n",
            "See the caveats in the documentation: https://pandas.pydata.org/pandas-docs/stable/user_guide/indexing.html#returning-a-view-versus-a-copy\n",
            "  \"\"\"Entry point for launching an IPython kernel.\n"
          ],
          "name": "stderr"
        }
      ]
    },
    {
      "cell_type": "code",
      "metadata": {
        "colab": {
          "base_uri": "https://localhost:8080/"
        },
        "id": "W_dLzjrL1mo0",
        "outputId": "327b1a1f-f626-4e12-fb16-add18759b404"
      },
      "source": [
        "model_VGG_3.evaluate(test_generator)"
      ],
      "id": "W_dLzjrL1mo0",
      "execution_count": 33,
      "outputs": [
        {
          "output_type": "stream",
          "text": [
            "1980/1980 [==============================] - 6s 3ms/step - loss: 0.3192 - categorical_accuracy: 0.8742\n"
          ],
          "name": "stdout"
        },
        {
          "output_type": "execute_result",
          "data": {
            "text/plain": [
              "[0.31924015283584595, 0.8742424249649048]"
            ]
          },
          "metadata": {
            "tags": []
          },
          "execution_count": 33
        }
      ]
    },
    {
      "cell_type": "markdown",
      "metadata": {
        "id": "o_9XleamLWmr"
      },
      "source": [
        " Got 87% Accuracy with 3% loss"
      ],
      "id": "o_9XleamLWmr"
    },
    {
      "cell_type": "markdown",
      "metadata": {
        "id": "TsQK1DNoLtCM"
      },
      "source": [
        "## Plotting our Final Results"
      ],
      "id": "TsQK1DNoLtCM"
    },
    {
      "cell_type": "code",
      "metadata": {
        "id": "Bk0pYu0k1ms9"
      },
      "source": [
        "label_names = {'cancer' : 0, 'noCancer' : 1}"
      ],
      "id": "Bk0pYu0k1ms9",
      "execution_count": 34,
      "outputs": []
    },
    {
      "cell_type": "code",
      "metadata": {
        "colab": {
          "base_uri": "https://localhost:8080/",
          "height": 175
        },
        "id": "5h6xZcxAJeXa",
        "outputId": "6a65b5d9-5a2b-4037-b7fa-11c645d7c2db"
      },
      "source": [
        "d_inv = {v: k for k, v in label_names.items()}\n",
        "plt.figure(figsize=(16,4))\n",
        "batches = 0\n",
        "for x,y in test_generator:\n",
        "        batches = batches + 1\n",
        "        y_hat = model_VGG_3.predict(x, verbose=0)\n",
        "        x = np.squeeze(x)\n",
        "        if batches < 5:\n",
        "            plt.subplot(1,5,batches)\n",
        "            plt.imshow(x)\n",
        "            plt.title(\"GT-{}, Pred-{}\".format(d_inv[np.argmax(y[0])], d_inv[np.argmax(y_hat[0])] ))\n",
        "            \n",
        "        else:\n",
        "            break\n",
        "        \n",
        "        plt.axis('off')"
      ],
      "id": "5h6xZcxAJeXa",
      "execution_count": 36,
      "outputs": [
        {
          "output_type": "display_data",
          "data": {
            "image/png": "[encoded data removed]",
            "text/plain": [
              "<Figure size 1152x288 with 4 Axes>"
            ]
          },
          "metadata": {
            "tags": [],
            "needs_background": "light"
          }
        }
      ]
    },
    {
      "cell_type": "markdown",
      "metadata": {
        "id": "2E7Uz7YdMWmc"
      },
      "source": [
        "# Task 2"
      ],
      "id": "2E7Uz7YdMWmc"
    },
    {
      "cell_type": "code",
      "metadata": {
        "colab": {
          "base_uri": "https://localhost:8080/"
        },
        "id": "McXF4AF0Jeep",
        "outputId": "f7cdf610-311e-4cbd-b361-ba6dfeafcd15"
      },
      "source": [
        "cancer.cellType.value_counts()"
      ],
      "id": "McXF4AF0Jeep",
      "execution_count": 39,
      "outputs": [
        {
          "output_type": "execute_result",
          "data": {
            "text/plain": [
              "2    4079\n",
              "1    2543\n",
              "0    1888\n",
              "3    1386\n",
              "Name: cellType, dtype: int64"
            ]
          },
          "metadata": {
            "tags": []
          },
          "execution_count": 39
        }
      ]
    },
    {
      "cell_type": "code",
      "metadata": {
        "colab": {
          "base_uri": "https://localhost:8080/",
          "height": 265
        },
        "id": "vCKPSbtLJehl",
        "outputId": "9e0dfc4e-6ac5-4b56-e4a4-1092dcc20665"
      },
      "source": [
        "cancer.cellType.hist()\n",
        "plt.show()"
      ],
      "id": "vCKPSbtLJehl",
      "execution_count": 40,
      "outputs": [
        {
          "output_type": "display_data",
          "data": {
            "image/png": "[encoded data removed]",
            "text/plain": [
              "<Figure size 432x288 with 1 Axes>"
            ]
          },
          "metadata": {
            "tags": [],
            "needs_background": "light"
          }
        }
      ]
    }
  ]
}